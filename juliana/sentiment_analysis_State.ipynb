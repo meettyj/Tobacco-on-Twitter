{
 "cells": [
  {
   "cell_type": "code",
   "execution_count": 28,
   "metadata": {},
   "outputs": [],
   "source": [
    "import os\n",
    "# os.chdir('C:/Users/eddie/Desktop/Prof. Rumi Chunara/alcohol')\n",
    "import json\n",
    "import pandas as pd\n",
    "from vaderSentiment.vaderSentiment import SentimentIntensityAnalyzer \n",
    "import re"
   ]
  },
  {
   "cell_type": "code",
   "execution_count": 29,
   "metadata": {},
   "outputs": [],
   "source": [
    "month_list = ['01','02','03','04','05','06','07','08','09','10','11','12']"
   ]
  },
  {
   "cell_type": "code",
   "execution_count": 30,
   "metadata": {},
   "outputs": [],
   "source": [
    "# sentiment analysis\n",
    "def analyzeSentimentByVader(texts):\n",
    "    positive_text = [[],[]]\n",
    "    neutral_text = [[],[]]\n",
    "    negative_text = [[],[]]\n",
    "    \n",
    "#     score_total = []    \n",
    "\n",
    "    analyzer = SentimentIntensityAnalyzer()\n",
    "    for sentence in texts:\n",
    "        vs = analyzer.polarity_scores(sentence)\n",
    "    #     print(\"{:*<65} {}\".format(sentence, str(vs)))\n",
    "    #     print('------------------------')\n",
    "#         print(vs)\n",
    "        if vs['compound'] >= 0.05:\n",
    "#             print(vs['compound'])\n",
    "            positive_text[0].append(sentence)\n",
    "            positive_text[1].append(vs)\n",
    "        elif vs['compound'] <= 0.05 and vs['compound'] > -0.05:\n",
    "#             print(vs['compound'])\n",
    "            neutral_text[0].append(sentence)\n",
    "            neutral_text[1].append(vs)\n",
    "        elif vs['compound'] <= -0.05:\n",
    "#             print(vs['compound'])\n",
    "            negative_text[0].append(sentence)\n",
    "            negative_text[1].append(vs)\n",
    "#         score_total.append(vs)\n",
    "\n",
    "    return positive_text, neutral_text, negative_text"
   ]
  },
  {
   "cell_type": "markdown",
   "metadata": {},
   "source": [
    "What if I remove the link within the text?"
   ]
  },
  {
   "cell_type": "code",
   "execution_count": 31,
   "metadata": {
    "scrolled": false
   },
   "outputs": [
    {
     "name": "stdout",
     "output_type": "stream",
     "text": [
      "length of tweets in month 01: 422\n",
      "How many positive text:  121\n",
      "How many neutral text:  224\n",
      "How many negative text:  77\n",
      "--------------------\n",
      "length of tweets in month 02: 293\n",
      "How many positive text:  89\n",
      "How many neutral text:  137\n",
      "How many negative text:  67\n",
      "--------------------\n",
      "length of tweets in month 03: 336\n",
      "How many positive text:  113\n",
      "How many neutral text:  155\n",
      "How many negative text:  68\n",
      "--------------------\n",
      "length of tweets in month 04: 411\n",
      "How many positive text:  156\n",
      "How many neutral text:  185\n",
      "How many negative text:  70\n",
      "--------------------\n",
      "length of tweets in month 05: 302\n",
      "How many positive text:  100\n",
      "How many neutral text:  135\n",
      "How many negative text:  67\n",
      "--------------------\n",
      "length of tweets in month 06: 230\n",
      "How many positive text:  74\n",
      "How many neutral text:  95\n",
      "How many negative text:  61\n",
      "--------------------\n",
      "length of tweets in month 07: 292\n",
      "How many positive text:  81\n",
      "How many neutral text:  149\n",
      "How many negative text:  62\n",
      "--------------------\n",
      "length of tweets in month 08: 325\n",
      "How many positive text:  102\n",
      "How many neutral text:  148\n",
      "How many negative text:  75\n",
      "--------------------\n",
      "length of tweets in month 09: 162\n",
      "How many positive text:  59\n",
      "How many neutral text:  73\n",
      "How many negative text:  30\n",
      "--------------------\n",
      "length of tweets in month 10: 253\n",
      "How many positive text:  74\n",
      "How many neutral text:  124\n",
      "How many negative text:  55\n",
      "--------------------\n",
      "length of tweets in month 11: 409\n",
      "How many positive text:  137\n",
      "How many neutral text:  154\n",
      "How many negative text:  118\n",
      "--------------------\n",
      "length of tweets in month 12: 382\n",
      "How many positive text:  104\n",
      "How many neutral text:  172\n",
      "How many negative text:  106\n",
      "--------------------\n"
     ]
    }
   ],
   "source": [
    "# text without link.\n",
    "\n",
    "# for sentence in text_in_month:\n",
    "#     tt = re.sub('https?:\\/\\/t\\.co\\/[\\s\\S]{10}', '', sentence)\n",
    "#     print(sentence)\n",
    "#     print('--------------')\n",
    "#     print(tt)\n",
    "#     print('*********************')\n",
    "\n",
    "    \n",
    "\n",
    "num_positive_in_total = []\n",
    "num_neutral_in_total = []\n",
    "num_negative_in_total = []\n",
    "\n",
    "\n",
    "filePath = '/mnt/volume/result/State_CaliforniaLevel/'\n",
    "for month in month_list:\n",
    "    text_in_month = []\n",
    "    user_month = set()\n",
    "    fileName = 'juliana_Arizona_allECigarette_2017_'+month+'_categoryKeyWord.json'\n",
    "    file = filePath + fileName\n",
    "    with open(file, \"r\") as f:\n",
    "        everyLines = f.readlines()\n",
    "        print('length of tweets in month %s: %d' % (month, len(everyLines)))\n",
    "        for line in everyLines:\n",
    "            try:\n",
    "                lineInJson = json.loads(line)\n",
    "            except:\n",
    "                print('Cannot load the line: ', line)\n",
    "            textInLine = lineInJson[\"text\"]\n",
    "#             print(textInLine)\n",
    "            textAfterRE = re.sub('https?:\\/\\/t\\.co\\/[\\s\\S]{10}', '', textInLine)\n",
    "            text_in_month.append(textAfterRE)\n",
    "    \n",
    "    # get sentiment\n",
    "    positive_text, neutral_text, negative_text = analyzeSentimentByVader(text_in_month)\n",
    "    num_positive = len(positive_text[0])\n",
    "    num_neutral = len(neutral_text[0])\n",
    "    num_negative = len(negative_text[0])\n",
    "    \n",
    "    num_positive_in_total.append(num_positive)\n",
    "    num_neutral_in_total.append(num_neutral)\n",
    "    num_negative_in_total.append(num_negative)\n",
    "    \n",
    "    print('How many positive text: ', num_positive)\n",
    "    print('How many neutral text: ', num_neutral)\n",
    "    print('How many negative text: ', num_negative)\n",
    "    print('--------------------')\n",
    "\n",
    "#     break\n",
    "    "
   ]
  },
  {
   "cell_type": "code",
   "execution_count": 32,
   "metadata": {},
   "outputs": [
    {
     "data": {
      "text/plain": [
       "[121, 89, 113, 156, 100, 74, 81, 102, 59, 74, 137, 104]"
      ]
     },
     "execution_count": 32,
     "metadata": {},
     "output_type": "execute_result"
    }
   ],
   "source": [
    "num_positive_in_total"
   ]
  },
  {
   "cell_type": "code",
   "execution_count": 33,
   "metadata": {
    "scrolled": true
   },
   "outputs": [
    {
     "data": {
      "text/plain": [
       "[224, 137, 155, 185, 135, 95, 149, 148, 73, 124, 154, 172]"
      ]
     },
     "execution_count": 33,
     "metadata": {},
     "output_type": "execute_result"
    }
   ],
   "source": [
    "num_neutral_in_total"
   ]
  },
  {
   "cell_type": "code",
   "execution_count": 34,
   "metadata": {},
   "outputs": [
    {
     "data": {
      "text/plain": [
       "[77, 67, 68, 70, 67, 61, 62, 75, 30, 55, 118, 106]"
      ]
     },
     "execution_count": 34,
     "metadata": {},
     "output_type": "execute_result"
    }
   ],
   "source": [
    "num_negative_in_total"
   ]
  },
  {
   "cell_type": "code",
   "execution_count": 35,
   "metadata": {},
   "outputs": [],
   "source": [
    "# print the neutral text and corresponding score\n",
    "# for index in range(len(neutral_text[0])):\n",
    "#     print(neutral_text[0][index])\n",
    "#     print(neutral_text[1][index])\n",
    "#     print('--------------------')"
   ]
  },
  {
   "cell_type": "code",
   "execution_count": null,
   "metadata": {},
   "outputs": [],
   "source": []
  }
 ],
 "metadata": {
  "kernelspec": {
   "display_name": "Python 3",
   "language": "python",
   "name": "python3"
  },
  "language_info": {
   "codemirror_mode": {
    "name": "ipython",
    "version": 3
   },
   "file_extension": ".py",
   "mimetype": "text/x-python",
   "name": "python",
   "nbconvert_exporter": "python",
   "pygments_lexer": "ipython3",
   "version": "3.7.3"
  }
 },
 "nbformat": 4,
 "nbformat_minor": 2
}
