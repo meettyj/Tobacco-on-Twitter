{
 "cells": [
  {
   "cell_type": "code",
   "execution_count": 109,
   "metadata": {},
   "outputs": [],
   "source": [
    "import os\n",
    "# os.chdir('C:/Users/eddie/Desktop/Prof. Rumi Chunara/alcohol')\n",
    "import json\n",
    "import pandas as pd\n",
    "from vaderSentiment.vaderSentiment import SentimentIntensityAnalyzer \n",
    "import re"
   ]
  },
  {
   "cell_type": "code",
   "execution_count": 110,
   "metadata": {},
   "outputs": [],
   "source": [
    "# month_list = ['01','02','03','04','05','06','07','08','09','10','11','12']\n",
    "month_list = ['07','08','09','10','11','12']\n",
    "month_list2 = ['01','02','03','04','05','06']"
   ]
  },
  {
   "cell_type": "code",
   "execution_count": 111,
   "metadata": {},
   "outputs": [],
   "source": [
    "# sentiment analysis\n",
    "def analyzeSentimentByVader(texts):\n",
    "    positive_text = [[],[]]\n",
    "    neutral_text = [[],[]]\n",
    "    negative_text = [[],[]]\n",
    "    \n",
    "#     score_total = []    \n",
    "\n",
    "    analyzer = SentimentIntensityAnalyzer()\n",
    "    for sentence in texts:\n",
    "        vs = analyzer.polarity_scores(sentence)\n",
    "    #     print(\"{:*<65} {}\".format(sentence, str(vs)))\n",
    "    #     print('------------------------')\n",
    "#         print(vs)\n",
    "        if vs['compound'] >= 0.05:\n",
    "#             print(vs['compound'])\n",
    "            positive_text[0].append(sentence)\n",
    "            positive_text[1].append(vs)\n",
    "        elif vs['compound'] <= 0.05 and vs['compound'] > -0.05:\n",
    "#             print(vs['compound'])\n",
    "            neutral_text[0].append(sentence)\n",
    "            neutral_text[1].append(vs)\n",
    "        elif vs['compound'] <= -0.05:\n",
    "#             print(vs['compound'])\n",
    "            negative_text[0].append(sentence)\n",
    "            negative_text[1].append(vs)\n",
    "#         score_total.append(vs)\n",
    "\n",
    "    return positive_text, neutral_text, negative_text"
   ]
  },
  {
   "cell_type": "markdown",
   "metadata": {},
   "source": [
    "What if I remove the link within the text?"
   ]
  },
  {
   "cell_type": "code",
   "execution_count": 112,
   "metadata": {
    "scrolled": false
   },
   "outputs": [
    {
     "name": "stdout",
     "output_type": "stream",
     "text": [
      "length of tweets in month 07: 77\n",
      "How many positive text:  30\n",
      "How many neutral text:  38\n",
      "How many negative text:  9\n",
      "--------------------\n",
      "length of tweets in month 08: 82\n",
      "How many positive text:  20\n",
      "How many neutral text:  42\n",
      "How many negative text:  20\n",
      "--------------------\n",
      "length of tweets in month 09: 38\n",
      "How many positive text:  12\n",
      "How many neutral text:  15\n",
      "How many negative text:  11\n",
      "--------------------\n",
      "length of tweets in month 10: 36\n",
      "How many positive text:  15\n",
      "How many neutral text:  18\n",
      "How many negative text:  3\n",
      "--------------------\n",
      "length of tweets in month 11: 75\n",
      "How many positive text:  29\n",
      "How many neutral text:  41\n",
      "How many negative text:  5\n",
      "--------------------\n",
      "length of tweets in month 12: 58\n",
      "How many positive text:  18\n",
      "How many neutral text:  24\n",
      "How many negative text:  16\n",
      "--------------------\n",
      "length of tweets in month 01: 80\n",
      "How many positive text:  25\n",
      "How many neutral text:  43\n",
      "How many negative text:  12\n",
      "--------------------\n",
      "length of tweets in month 02: 64\n",
      "How many positive text:  13\n",
      "How many neutral text:  39\n",
      "How many negative text:  12\n",
      "--------------------\n",
      "length of tweets in month 03: 98\n",
      "How many positive text:  30\n",
      "How many neutral text:  53\n",
      "How many negative text:  15\n",
      "--------------------\n",
      "length of tweets in month 04: 155\n",
      "How many positive text:  52\n",
      "How many neutral text:  72\n",
      "How many negative text:  31\n",
      "--------------------\n",
      "length of tweets in month 05: 118\n",
      "How many positive text:  40\n",
      "How many neutral text:  54\n",
      "How many negative text:  24\n",
      "--------------------\n",
      "length of tweets in month 06: 84\n",
      "How many positive text:  28\n",
      "How many neutral text:  39\n",
      "How many negative text:  17\n",
      "--------------------\n"
     ]
    }
   ],
   "source": [
    "# text without link.\n",
    "\n",
    "# for sentence in text_in_month:\n",
    "#     tt = re.sub('https?:\\/\\/t\\.co\\/[\\s\\S]{10}', '', sentence)\n",
    "#     print(sentence)\n",
    "#     print('--------------')\n",
    "#     print(tt)\n",
    "#     print('*********************')\n",
    "\n",
    "    \n",
    "\n",
    "num_positive_in_total = []\n",
    "num_neutral_in_total = []\n",
    "num_negative_in_total = []\n",
    "\n",
    "\n",
    "filePath = '/mnt/volume/result/State_DelawareLevel/'\n",
    "for month in month_list:\n",
    "    text_in_month = []\n",
    "    user_month = set()\n",
    "    fileName = 'juliana_D.C._allECigarette_2017_'+month+'_categoryKeyWord.json'\n",
    "    file = filePath + fileName\n",
    "    with open(file, \"r\") as f:\n",
    "        everyLines = f.readlines()\n",
    "        print('length of tweets in month %s: %d' % (month, len(everyLines)))\n",
    "        for line in everyLines:\n",
    "            try:\n",
    "                lineInJson = json.loads(line)\n",
    "            except:\n",
    "                print('Cannot load the line: ', line)\n",
    "            textInLine = lineInJson[\"text\"]\n",
    "#             print(textInLine)\n",
    "            textAfterRE = re.sub('https?:\\/\\/t\\.co\\/[\\s\\S]{10}', '', textInLine)\n",
    "            text_in_month.append(textAfterRE)\n",
    "    \n",
    "    # get sentiment\n",
    "    positive_text, neutral_text, negative_text = analyzeSentimentByVader(text_in_month)\n",
    "    num_positive = len(positive_text[0])\n",
    "    num_neutral = len(neutral_text[0])\n",
    "    num_negative = len(negative_text[0])\n",
    "    \n",
    "    num_positive_in_total.append(num_positive)\n",
    "    num_neutral_in_total.append(num_neutral)\n",
    "    num_negative_in_total.append(num_negative)\n",
    "    \n",
    "    print('How many positive text: ', num_positive)\n",
    "    print('How many neutral text: ', num_neutral)\n",
    "    print('How many negative text: ', num_negative)\n",
    "    print('--------------------')\n",
    "\n",
    "for month in month_list2:\n",
    "    text_in_month = []\n",
    "    user_month = set()\n",
    "    fileName = 'juliana_D.C._allECigarette_2018_'+month+'_categoryKeyWord.json'\n",
    "    file = filePath + fileName\n",
    "    with open(file, \"r\") as f:\n",
    "        everyLines = f.readlines()\n",
    "        print('length of tweets in month %s: %d' % (month, len(everyLines)))\n",
    "        for line in everyLines:\n",
    "            try:\n",
    "                lineInJson = json.loads(line)\n",
    "            except:\n",
    "                print('Cannot load the line: ', line)\n",
    "            textInLine = lineInJson[\"text\"]\n",
    "#             print(textInLine)\n",
    "            textAfterRE = re.sub('https?:\\/\\/t\\.co\\/[\\s\\S]{10}', '', textInLine)\n",
    "            text_in_month.append(textAfterRE)\n",
    "    \n",
    "    # get sentiment\n",
    "    positive_text, neutral_text, negative_text = analyzeSentimentByVader(text_in_month)\n",
    "    num_positive = len(positive_text[0])\n",
    "    num_neutral = len(neutral_text[0])\n",
    "    num_negative = len(negative_text[0])\n",
    "    \n",
    "    num_positive_in_total.append(num_positive)\n",
    "    num_neutral_in_total.append(num_neutral)\n",
    "    num_negative_in_total.append(num_negative)\n",
    "    \n",
    "    print('How many positive text: ', num_positive)\n",
    "    print('How many neutral text: ', num_neutral)\n",
    "    print('How many negative text: ', num_negative)\n",
    "    print('--------------------')\n",
    "#     break\n",
    "    "
   ]
  },
  {
   "cell_type": "code",
   "execution_count": 113,
   "metadata": {},
   "outputs": [
    {
     "data": {
      "text/plain": [
       "[30, 20, 12, 15, 29, 18, 25, 13, 30, 52, 40, 28]"
      ]
     },
     "execution_count": 113,
     "metadata": {},
     "output_type": "execute_result"
    }
   ],
   "source": [
    "num_positive_in_total"
   ]
  },
  {
   "cell_type": "code",
   "execution_count": 114,
   "metadata": {
    "scrolled": true
   },
   "outputs": [
    {
     "data": {
      "text/plain": [
       "[38, 42, 15, 18, 41, 24, 43, 39, 53, 72, 54, 39]"
      ]
     },
     "execution_count": 114,
     "metadata": {},
     "output_type": "execute_result"
    }
   ],
   "source": [
    "num_neutral_in_total"
   ]
  },
  {
   "cell_type": "code",
   "execution_count": 115,
   "metadata": {},
   "outputs": [
    {
     "data": {
      "text/plain": [
       "[9, 20, 11, 3, 5, 16, 12, 12, 15, 31, 24, 17]"
      ]
     },
     "execution_count": 115,
     "metadata": {},
     "output_type": "execute_result"
    }
   ],
   "source": [
    "num_negative_in_total"
   ]
  },
  {
   "cell_type": "code",
   "execution_count": 116,
   "metadata": {},
   "outputs": [],
   "source": [
    "# print the neutral text and corresponding score\n",
    "# for index in range(len(neutral_text[0])):\n",
    "#     print(neutral_text[0][index])\n",
    "#     print(neutral_text[1][index])\n",
    "#     print('--------------------')"
   ]
  },
  {
   "cell_type": "code",
   "execution_count": null,
   "metadata": {},
   "outputs": [],
   "source": []
  }
 ],
 "metadata": {
  "kernelspec": {
   "display_name": "Python 3",
   "language": "python",
   "name": "python3"
  },
  "language_info": {
   "codemirror_mode": {
    "name": "ipython",
    "version": 3
   },
   "file_extension": ".py",
   "mimetype": "text/x-python",
   "name": "python",
   "nbconvert_exporter": "python",
   "pygments_lexer": "ipython3",
   "version": "3.7.3"
  }
 },
 "nbformat": 4,
 "nbformat_minor": 2
}
