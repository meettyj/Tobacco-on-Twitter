{
 "cells": [
  {
   "cell_type": "code",
   "execution_count": 85,
   "metadata": {},
   "outputs": [],
   "source": [
    "import os\n",
    "# os.chdir('C:/Users/eddie/Desktop/Prof. Rumi Chunara/alcohol')\n",
    "import json\n",
    "import pandas as pd\n",
    "from vaderSentiment.vaderSentiment import SentimentIntensityAnalyzer \n",
    "import re"
   ]
  },
  {
   "cell_type": "code",
   "execution_count": 86,
   "metadata": {},
   "outputs": [],
   "source": [
    "# month_list = ['01','02','03','04','05','06','07','08','09','10','11','12']\n",
    "# month_list = ['07','08','09','10','11','12']\n",
    "# month_list2 = ['01','02','03','04','05','06']\n",
    "month_list = ['10','11','12']\n",
    "month_list2 = ['01','02','03','04']"
   ]
  },
  {
   "cell_type": "code",
   "execution_count": 87,
   "metadata": {},
   "outputs": [],
   "source": [
    "# sentiment analysis\n",
    "def analyzeSentimentByVader(texts):\n",
    "    positive_text = [[],[]]\n",
    "    neutral_text = [[],[]]\n",
    "    negative_text = [[],[]]\n",
    "    \n",
    "#     score_total = []    \n",
    "\n",
    "    analyzer = SentimentIntensityAnalyzer()\n",
    "    for sentence in texts:\n",
    "        vs = analyzer.polarity_scores(sentence)\n",
    "    #     print(\"{:*<65} {}\".format(sentence, str(vs)))\n",
    "    #     print('------------------------')\n",
    "#         print(vs)\n",
    "        if vs['compound'] >= 0.05:\n",
    "#             print(vs['compound'])\n",
    "            positive_text[0].append(sentence)\n",
    "            positive_text[1].append(vs)\n",
    "        elif vs['compound'] <= 0.05 and vs['compound'] > -0.05:\n",
    "#             print(vs['compound'])\n",
    "            neutral_text[0].append(sentence)\n",
    "            neutral_text[1].append(vs)\n",
    "        elif vs['compound'] <= -0.05:\n",
    "#             print(vs['compound'])\n",
    "            negative_text[0].append(sentence)\n",
    "            negative_text[1].append(vs)\n",
    "#         score_total.append(vs)\n",
    "\n",
    "    return positive_text, neutral_text, negative_text"
   ]
  },
  {
   "cell_type": "markdown",
   "metadata": {},
   "source": [
    "What if I remove the link within the text?"
   ]
  },
  {
   "cell_type": "code",
   "execution_count": 88,
   "metadata": {
    "scrolled": false
   },
   "outputs": [
    {
     "name": "stdout",
     "output_type": "stream",
     "text": [
      "length of tweets in month 10: 99\n",
      "How many positive text:  23\n",
      "How many neutral text:  51\n",
      "How many negative text:  25\n",
      "--------------------\n",
      "length of tweets in month 11: 202\n",
      "How many positive text:  65\n",
      "How many neutral text:  88\n",
      "How many negative text:  49\n",
      "--------------------\n",
      "length of tweets in month 12: 196\n",
      "How many positive text:  57\n",
      "How many neutral text:  92\n",
      "How many negative text:  47\n",
      "--------------------\n",
      "length of tweets in month 01: 243\n",
      "How many positive text:  85\n",
      "How many neutral text:  111\n",
      "How many negative text:  47\n",
      "--------------------\n",
      "length of tweets in month 02: 191\n",
      "How many positive text:  56\n",
      "How many neutral text:  83\n",
      "How many negative text:  52\n",
      "--------------------\n",
      "length of tweets in month 03: 229\n",
      "How many positive text:  78\n",
      "How many neutral text:  110\n",
      "How many negative text:  41\n",
      "--------------------\n",
      "length of tweets in month 04: 243\n",
      "How many positive text:  87\n",
      "How many neutral text:  103\n",
      "How many negative text:  53\n",
      "--------------------\n"
     ]
    }
   ],
   "source": [
    "# text without link.\n",
    "\n",
    "# for sentence in text_in_month:\n",
    "#     tt = re.sub('https?:\\/\\/t\\.co\\/[\\s\\S]{10}', '', sentence)\n",
    "#     print(sentence)\n",
    "#     print('--------------')\n",
    "#     print(tt)\n",
    "#     print('*********************')\n",
    "\n",
    "    \n",
    "\n",
    "num_positive_in_total = []\n",
    "num_neutral_in_total = []\n",
    "num_negative_in_total = []\n",
    "\n",
    "\n",
    "filePath = '/mnt/volume/result/State_NewJerseyLevel/'\n",
    "for month in month_list:\n",
    "    text_in_month = []\n",
    "    user_month = set()\n",
    "    fileName = 'juliana_Maryland_allECigarette_2017_'+month+'_categoryKeyWord.json'\n",
    "    file = filePath + fileName\n",
    "    with open(file, \"r\") as f:\n",
    "        everyLines = f.readlines()\n",
    "        print('length of tweets in month %s: %d' % (month, len(everyLines)))\n",
    "        for line in everyLines:\n",
    "            try:\n",
    "                lineInJson = json.loads(line)\n",
    "            except:\n",
    "                print('Cannot load the line: ', line)\n",
    "            textInLine = lineInJson[\"text\"]\n",
    "#             print(textInLine)\n",
    "            textAfterRE = re.sub('https?:\\/\\/t\\.co\\/[\\s\\S]{10}', '', textInLine)\n",
    "            text_in_month.append(textAfterRE)\n",
    "    \n",
    "    # get sentiment\n",
    "    positive_text, neutral_text, negative_text = analyzeSentimentByVader(text_in_month)\n",
    "    num_positive = len(positive_text[0])\n",
    "    num_neutral = len(neutral_text[0])\n",
    "    num_negative = len(negative_text[0])\n",
    "    \n",
    "    num_positive_in_total.append(num_positive)\n",
    "    num_neutral_in_total.append(num_neutral)\n",
    "    num_negative_in_total.append(num_negative)\n",
    "    \n",
    "    print('How many positive text: ', num_positive)\n",
    "    print('How many neutral text: ', num_neutral)\n",
    "    print('How many negative text: ', num_negative)\n",
    "    print('--------------------')\n",
    "\n",
    "for month in month_list2:\n",
    "    text_in_month = []\n",
    "    user_month = set()\n",
    "    fileName = 'juliana_Maryland_allECigarette_2018_'+month+'_categoryKeyWord.json'\n",
    "    file = filePath + fileName\n",
    "    with open(file, \"r\") as f:\n",
    "        everyLines = f.readlines()\n",
    "        print('length of tweets in month %s: %d' % (month, len(everyLines)))\n",
    "        for line in everyLines:\n",
    "            try:\n",
    "                lineInJson = json.loads(line)\n",
    "            except:\n",
    "                print('Cannot load the line: ', line)\n",
    "            textInLine = lineInJson[\"text\"]\n",
    "#             print(textInLine)\n",
    "            textAfterRE = re.sub('https?:\\/\\/t\\.co\\/[\\s\\S]{10}', '', textInLine)\n",
    "            text_in_month.append(textAfterRE)\n",
    "    \n",
    "    # get sentiment\n",
    "    positive_text, neutral_text, negative_text = analyzeSentimentByVader(text_in_month)\n",
    "    num_positive = len(positive_text[0])\n",
    "    num_neutral = len(neutral_text[0])\n",
    "    num_negative = len(negative_text[0])\n",
    "    \n",
    "    num_positive_in_total.append(num_positive)\n",
    "    num_neutral_in_total.append(num_neutral)\n",
    "    num_negative_in_total.append(num_negative)\n",
    "    \n",
    "    print('How many positive text: ', num_positive)\n",
    "    print('How many neutral text: ', num_neutral)\n",
    "    print('How many negative text: ', num_negative)\n",
    "    print('--------------------')\n",
    "#     break\n",
    "    "
   ]
  },
  {
   "cell_type": "code",
   "execution_count": 89,
   "metadata": {},
   "outputs": [
    {
     "data": {
      "text/plain": [
       "[23, 65, 57, 85, 56, 78, 87]"
      ]
     },
     "execution_count": 89,
     "metadata": {},
     "output_type": "execute_result"
    }
   ],
   "source": [
    "num_positive_in_total"
   ]
  },
  {
   "cell_type": "code",
   "execution_count": 90,
   "metadata": {
    "scrolled": true
   },
   "outputs": [
    {
     "data": {
      "text/plain": [
       "[51, 88, 92, 111, 83, 110, 103]"
      ]
     },
     "execution_count": 90,
     "metadata": {},
     "output_type": "execute_result"
    }
   ],
   "source": [
    "num_neutral_in_total"
   ]
  },
  {
   "cell_type": "code",
   "execution_count": 91,
   "metadata": {},
   "outputs": [
    {
     "data": {
      "text/plain": [
       "[25, 49, 47, 47, 52, 41, 53]"
      ]
     },
     "execution_count": 91,
     "metadata": {},
     "output_type": "execute_result"
    }
   ],
   "source": [
    "num_negative_in_total"
   ]
  },
  {
   "cell_type": "code",
   "execution_count": 92,
   "metadata": {},
   "outputs": [],
   "source": [
    "# print the neutral text and corresponding score\n",
    "# for index in range(len(neutral_text[0])):\n",
    "#     print(neutral_text[0][index])\n",
    "#     print(neutral_text[1][index])\n",
    "#     print('--------------------')"
   ]
  },
  {
   "cell_type": "code",
   "execution_count": null,
   "metadata": {},
   "outputs": [],
   "source": []
  }
 ],
 "metadata": {
  "kernelspec": {
   "display_name": "Python 3",
   "language": "python",
   "name": "python3"
  },
  "language_info": {
   "codemirror_mode": {
    "name": "ipython",
    "version": 3
   },
   "file_extension": ".py",
   "mimetype": "text/x-python",
   "name": "python",
   "nbconvert_exporter": "python",
   "pygments_lexer": "ipython3",
   "version": "3.6.5"
  }
 },
 "nbformat": 4,
 "nbformat_minor": 2
}
