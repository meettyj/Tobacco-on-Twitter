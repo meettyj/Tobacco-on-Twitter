{
 "cells": [
  {
   "cell_type": "code",
   "execution_count": 137,
   "metadata": {},
   "outputs": [],
   "source": [
    "import os\n",
    "# os.chdir('C:/Users/eddie/Desktop/Prof. Rumi Chunara/alcohol')\n",
    "import json\n",
    "import pandas as pd\n",
    "from vaderSentiment.vaderSentiment import SentimentIntensityAnalyzer \n",
    "import re"
   ]
  },
  {
   "cell_type": "code",
   "execution_count": 138,
   "metadata": {},
   "outputs": [],
   "source": [
    "# month_list = ['01','02','03','04','05','06','07','08','09','10','11','12']\n",
    "# month_list = ['07','08','09','10','11','12']\n",
    "# month_list2 = ['01','02','03','04','05','06']\n",
    "month_list = ['04','05','06','07','08','09','10','11','12']\n",
    "month_list2 = ['01','02','03','04','05','06','07','08','09']\n",
    "month_list3 = ['04']"
   ]
  },
  {
   "cell_type": "code",
   "execution_count": 139,
   "metadata": {},
   "outputs": [],
   "source": [
    "# sentiment analysis\n",
    "def analyzeSentimentByVader(texts):\n",
    "    positive_text = [[],[]]\n",
    "    neutral_text = [[],[]]\n",
    "    negative_text = [[],[]]\n",
    "    \n",
    "#     score_total = []    \n",
    "\n",
    "    analyzer = SentimentIntensityAnalyzer()\n",
    "    for sentence in texts:\n",
    "        vs = analyzer.polarity_scores(sentence)\n",
    "    #     print(\"{:*<65} {}\".format(sentence, str(vs)))\n",
    "    #     print('------------------------')\n",
    "#         print(vs)\n",
    "        if vs['compound'] >= 0.05:\n",
    "#             print(vs['compound'])\n",
    "            positive_text[0].append(sentence)\n",
    "            positive_text[1].append(vs)\n",
    "        elif vs['compound'] <= 0.05 and vs['compound'] > -0.05:\n",
    "#             print(vs['compound'])\n",
    "            neutral_text[0].append(sentence)\n",
    "            neutral_text[1].append(vs)\n",
    "        elif vs['compound'] <= -0.05:\n",
    "#             print(vs['compound'])\n",
    "            negative_text[0].append(sentence)\n",
    "            negative_text[1].append(vs)\n",
    "#         score_total.append(vs)\n",
    "\n",
    "    return positive_text, neutral_text, negative_text"
   ]
  },
  {
   "cell_type": "markdown",
   "metadata": {},
   "source": [
    "What if I remove the link within the text?"
   ]
  },
  {
   "cell_type": "code",
   "execution_count": 140,
   "metadata": {
    "scrolled": false
   },
   "outputs": [
    {
     "name": "stdout",
     "output_type": "stream",
     "text": [
      "length of tweets in month 04: 161\n",
      "How many positive text:  52\n",
      "How many neutral text:  80\n",
      "How many negative text:  29\n",
      "--------------------\n",
      "length of tweets in month 05: 193\n",
      "How many positive text:  48\n",
      "How many neutral text:  114\n",
      "How many negative text:  31\n",
      "--------------------\n",
      "length of tweets in month 06: 178\n",
      "How many positive text:  45\n",
      "How many neutral text:  105\n",
      "How many negative text:  28\n",
      "--------------------\n",
      "length of tweets in month 07: 146\n",
      "How many positive text:  50\n",
      "How many neutral text:  73\n",
      "How many negative text:  23\n",
      "--------------------\n",
      "length of tweets in month 08: 143\n",
      "How many positive text:  50\n",
      "How many neutral text:  66\n",
      "How many negative text:  27\n",
      "--------------------\n",
      "length of tweets in month 09: 98\n",
      "How many positive text:  36\n",
      "How many neutral text:  43\n",
      "How many negative text:  19\n",
      "--------------------\n",
      "length of tweets in month 10: 129\n",
      "How many positive text:  47\n",
      "How many neutral text:  55\n",
      "How many negative text:  27\n",
      "--------------------\n",
      "length of tweets in month 11: 121\n",
      "How many positive text:  44\n",
      "How many neutral text:  57\n",
      "How many negative text:  20\n",
      "--------------------\n",
      "length of tweets in month 12: 116\n",
      "How many positive text:  42\n",
      "How many neutral text:  52\n",
      "How many negative text:  22\n",
      "--------------------\n",
      "length of tweets in month 01: 97\n",
      "How many positive text:  40\n",
      "How many neutral text:  37\n",
      "How many negative text:  20\n",
      "--------------------\n",
      "length of tweets in month 02: 84\n",
      "How many positive text:  22\n",
      "How many neutral text:  49\n",
      "How many negative text:  13\n",
      "--------------------\n",
      "length of tweets in month 03: 139\n",
      "How many positive text:  41\n",
      "How many neutral text:  75\n",
      "How many negative text:  23\n",
      "--------------------\n",
      "length of tweets in month 04: 67\n",
      "How many positive text:  24\n",
      "How many neutral text:  35\n",
      "How many negative text:  8\n",
      "--------------------\n",
      "length of tweets in month 05: 63\n",
      "How many positive text:  22\n",
      "How many neutral text:  30\n",
      "How many negative text:  11\n",
      "--------------------\n",
      "length of tweets in month 06: 95\n",
      "How many positive text:  25\n",
      "How many neutral text:  50\n",
      "How many negative text:  20\n",
      "--------------------\n",
      "length of tweets in month 07: 101\n",
      "How many positive text:  35\n",
      "How many neutral text:  49\n",
      "How many negative text:  17\n",
      "--------------------\n",
      "length of tweets in month 08: 84\n",
      "How many positive text:  23\n",
      "How many neutral text:  45\n",
      "How many negative text:  16\n",
      "--------------------\n",
      "length of tweets in month 09: 44\n",
      "How many positive text:  13\n",
      "How many neutral text:  24\n",
      "How many negative text:  7\n",
      "--------------------\n",
      "length of tweets in month 04: 90\n",
      "How many positive text:  32\n",
      "How many neutral text:  48\n",
      "How many negative text:  10\n",
      "--------------------\n"
     ]
    }
   ],
   "source": [
    "# text without link.\n",
    "\n",
    "# for sentence in text_in_month:\n",
    "#     tt = re.sub('https?:\\/\\/t\\.co\\/[\\s\\S]{10}', '', sentence)\n",
    "#     print(sentence)\n",
    "#     print('--------------')\n",
    "#     print(tt)\n",
    "#     print('*********************')\n",
    "\n",
    "    \n",
    "\n",
    "num_positive_in_total = []\n",
    "num_neutral_in_total = []\n",
    "num_negative_in_total = []\n",
    "\n",
    "\n",
    "filePath = '/mnt/volume/result/State_NewJerseyLevel/'\n",
    "for month in month_list:\n",
    "    text_in_month = []\n",
    "    user_month = set()\n",
    "    fileName = 'juliana_Connecticut_allECigarette_2016_'+month+'_categoryKeyWord.json'\n",
    "    file = filePath + fileName\n",
    "    with open(file, \"r\") as f:\n",
    "        everyLines = f.readlines()\n",
    "        print('length of tweets in month %s: %d' % (month, len(everyLines)))\n",
    "        for line in everyLines:\n",
    "            try:\n",
    "                lineInJson = json.loads(line)\n",
    "            except:\n",
    "                print('Cannot load the line: ', line)\n",
    "            textInLine = lineInJson[\"text\"]\n",
    "#             print(textInLine)\n",
    "            textAfterRE = re.sub('https?:\\/\\/t\\.co\\/[\\s\\S]{10}', '', textInLine)\n",
    "            text_in_month.append(textAfterRE)\n",
    "    \n",
    "    # get sentiment\n",
    "    positive_text, neutral_text, negative_text = analyzeSentimentByVader(text_in_month)\n",
    "    num_positive = len(positive_text[0])\n",
    "    num_neutral = len(neutral_text[0])\n",
    "    num_negative = len(negative_text[0])\n",
    "    \n",
    "    num_positive_in_total.append(num_positive)\n",
    "    num_neutral_in_total.append(num_neutral)\n",
    "    num_negative_in_total.append(num_negative)\n",
    "    \n",
    "    print('How many positive text: ', num_positive)\n",
    "    print('How many neutral text: ', num_neutral)\n",
    "    print('How many negative text: ', num_negative)\n",
    "    print('--------------------')\n",
    "\n",
    "for month in month_list2:\n",
    "    text_in_month = []\n",
    "    user_month = set()\n",
    "    fileName = 'juliana_Connecticut_allECigarette_2017_'+month+'_categoryKeyWord.json'\n",
    "    file = filePath + fileName\n",
    "    with open(file, \"r\") as f:\n",
    "        everyLines = f.readlines()\n",
    "        print('length of tweets in month %s: %d' % (month, len(everyLines)))\n",
    "        for line in everyLines:\n",
    "            try:\n",
    "                lineInJson = json.loads(line)\n",
    "            except:\n",
    "                print('Cannot load the line: ', line)\n",
    "            textInLine = lineInJson[\"text\"]\n",
    "#             print(textInLine)\n",
    "            textAfterRE = re.sub('https?:\\/\\/t\\.co\\/[\\s\\S]{10}', '', textInLine)\n",
    "            text_in_month.append(textAfterRE)\n",
    "    \n",
    "    # get sentiment\n",
    "    positive_text, neutral_text, negative_text = analyzeSentimentByVader(text_in_month)\n",
    "    num_positive = len(positive_text[0])\n",
    "    num_neutral = len(neutral_text[0])\n",
    "    num_negative = len(negative_text[0])\n",
    "    \n",
    "    num_positive_in_total.append(num_positive)\n",
    "    num_neutral_in_total.append(num_neutral)\n",
    "    num_negative_in_total.append(num_negative)\n",
    "    \n",
    "    print('How many positive text: ', num_positive)\n",
    "    print('How many neutral text: ', num_neutral)\n",
    "    print('How many negative text: ', num_negative)\n",
    "    print('--------------------')\n",
    "\n",
    "\n",
    "for month in month_list3:\n",
    "    text_in_month = []\n",
    "    user_month = set()\n",
    "    fileName = 'juliana_Connecticut_allECigarette_2019_'+month+'_categoryKeyWord.json'\n",
    "    file = filePath + fileName\n",
    "    with open(file, \"r\") as f:\n",
    "        everyLines = f.readlines()\n",
    "        print('length of tweets in month %s: %d' % (month, len(everyLines)))\n",
    "        for line in everyLines:\n",
    "            try:\n",
    "                lineInJson = json.loads(line)\n",
    "            except:\n",
    "                print('Cannot load the line: ', line)\n",
    "            textInLine = lineInJson[\"text\"]\n",
    "#             print(textInLine)\n",
    "            textAfterRE = re.sub('https?:\\/\\/t\\.co\\/[\\s\\S]{10}', '', textInLine)\n",
    "            text_in_month.append(textAfterRE)\n",
    "    \n",
    "    # get sentiment\n",
    "    positive_text, neutral_text, negative_text = analyzeSentimentByVader(text_in_month)\n",
    "    num_positive = len(positive_text[0])\n",
    "    num_neutral = len(neutral_text[0])\n",
    "    num_negative = len(negative_text[0])\n",
    "    \n",
    "    num_positive_in_total.append(num_positive)\n",
    "    num_neutral_in_total.append(num_neutral)\n",
    "    num_negative_in_total.append(num_negative)\n",
    "    \n",
    "    print('How many positive text: ', num_positive)\n",
    "    print('How many neutral text: ', num_neutral)\n",
    "    print('How many negative text: ', num_negative)\n",
    "    print('--------------------')"
   ]
  },
  {
   "cell_type": "code",
   "execution_count": 141,
   "metadata": {},
   "outputs": [
    {
     "data": {
      "text/plain": [
       "[52, 48, 45, 50, 50, 36, 47, 44, 42, 40, 22, 41, 24, 22, 25, 35, 23, 13, 32]"
      ]
     },
     "execution_count": 141,
     "metadata": {},
     "output_type": "execute_result"
    }
   ],
   "source": [
    "num_positive_in_total"
   ]
  },
  {
   "cell_type": "code",
   "execution_count": 142,
   "metadata": {
    "scrolled": false
   },
   "outputs": [
    {
     "data": {
      "text/plain": [
       "[80, 114, 105, 73, 66, 43, 55, 57, 52, 37, 49, 75, 35, 30, 50, 49, 45, 24, 48]"
      ]
     },
     "execution_count": 142,
     "metadata": {},
     "output_type": "execute_result"
    }
   ],
   "source": [
    "num_neutral_in_total"
   ]
  },
  {
   "cell_type": "code",
   "execution_count": 143,
   "metadata": {},
   "outputs": [
    {
     "data": {
      "text/plain": [
       "[29, 31, 28, 23, 27, 19, 27, 20, 22, 20, 13, 23, 8, 11, 20, 17, 16, 7, 10]"
      ]
     },
     "execution_count": 143,
     "metadata": {},
     "output_type": "execute_result"
    }
   ],
   "source": [
    "num_negative_in_total"
   ]
  },
  {
   "cell_type": "code",
   "execution_count": 144,
   "metadata": {},
   "outputs": [],
   "source": [
    "# print the neutral text and corresponding score\n",
    "# for index in range(len(neutral_text[0])):\n",
    "#     print(neutral_text[0][index])\n",
    "#     print(neutral_text[1][index])\n",
    "#     print('--------------------')"
   ]
  },
  {
   "cell_type": "code",
   "execution_count": null,
   "metadata": {},
   "outputs": [],
   "source": []
  }
 ],
 "metadata": {
  "kernelspec": {
   "display_name": "Python 3",
   "language": "python",
   "name": "python3"
  },
  "language_info": {
   "codemirror_mode": {
    "name": "ipython",
    "version": 3
   },
   "file_extension": ".py",
   "mimetype": "text/x-python",
   "name": "python",
   "nbconvert_exporter": "python",
   "pygments_lexer": "ipython3",
   "version": "3.7.3"
  }
 },
 "nbformat": 4,
 "nbformat_minor": 2
}
