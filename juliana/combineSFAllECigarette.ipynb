{
 "cells": [
  {
   "cell_type": "code",
   "execution_count": 1,
   "metadata": {},
   "outputs": [],
   "source": [
    "import os\n",
    "# os.chdir('C:/Users/eddie/Desktop/Prof. Rumi Chunara/alcohol')\n",
    "import json\n",
    "import pandas as pd"
   ]
  },
  {
   "cell_type": "code",
   "execution_count": 13,
   "metadata": {},
   "outputs": [],
   "source": [
    "def getText(jsonLine):\n",
    "    #     print(jsonLine['place']['name'])\n",
    "    return jsonLine['text']"
   ]
  },
  {
   "cell_type": "code",
   "execution_count": 17,
   "metadata": {},
   "outputs": [],
   "source": [
    "# os.chdir('C:/Users/eddie/Desktop/Prof. Rumi Chunara/alcohol/data/juliana')\n",
    "\n",
    "topTenLineTextInNineMonth = []\n",
    "\n",
    "jsonFileDirectoryPath = \"C:/Users/eddie/Desktop/Prof. Rumi Chunara/alcohol/data/juliana/\"\n",
    "fileNames = os.listdir(jsonFileDirectoryPath)\n",
    "for fileName in fileNames:\n",
    "    if fileName.startswith('juliana_SF_allECigarette_2018'):\n",
    "#         print(file)\n",
    "        # open each file to select the first 10 tweets.\n",
    "        filePath = jsonFileDirectoryPath + fileName\n",
    "        with open(filePath, \"r\", encoding = 'utf-8') as f:\n",
    "            everyLines = f.readlines()\n",
    "            for line in everyLines[:10]:\n",
    "                try:\n",
    "                    lineInJson = json.loads(line)\n",
    "                except:\n",
    "                    print('Cannot load the line: ', line)\n",
    "                    break\n",
    "                textInLine = getText(lineInJson)\n",
    "#                 print(textInLine)\n",
    "                topTenLineTextInNineMonth.append(textInLine)\n",
    "#                 print('---')\n",
    "#             print(everyLines[:1])\n",
    "#             print(len(everyLines))\n",
    "#         break"
   ]
  },
  {
   "cell_type": "code",
   "execution_count": 18,
   "metadata": {},
   "outputs": [
    {
     "name": "stdout",
     "output_type": "stream",
     "text": [
      "length of topTenLineTextInNineMonth:  90\n"
     ]
    }
   ],
   "source": [
    "print('length of topTenLineTextInNineMonth: ', len(topTenLineTextInNineMonth))"
   ]
  },
  {
   "cell_type": "code",
   "execution_count": 23,
   "metadata": {},
   "outputs": [],
   "source": [
    "# save it to some file.\n",
    "SavingFilePath = \"C:/Users/eddie/Desktop/Prof. Rumi Chunara/alcohol/data/topTenLineTextInNineMonth\"\n",
    "with open(SavingFilePath, 'w', encoding=\"utf-8\") as f:\n",
    "    for eachLine in topTenLineTextInNineMonth:\n",
    "        f.write(eachLine+'\\n')\n",
    "        f.write('------------------\\n')"
   ]
  },
  {
   "cell_type": "code",
   "execution_count": null,
   "metadata": {},
   "outputs": [],
   "source": []
  }
 ],
 "metadata": {
  "kernelspec": {
   "display_name": "Python 3",
   "language": "python",
   "name": "python3"
  },
  "language_info": {
   "codemirror_mode": {
    "name": "ipython",
    "version": 3
   },
   "file_extension": ".py",
   "mimetype": "text/x-python",
   "name": "python",
   "nbconvert_exporter": "python",
   "pygments_lexer": "ipython3",
   "version": "3.6.5"
  }
 },
 "nbformat": 4,
 "nbformat_minor": 2
}
