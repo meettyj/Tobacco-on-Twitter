{
 "cells": [
  {
   "cell_type": "code",
   "execution_count": 4,
   "metadata": {},
   "outputs": [],
   "source": [
    "import os\n",
    "# os.chdir('C:/Users/eddie/Desktop/Prof. Rumi Chunara/alcohol')\n",
    "import json\n",
    "import pandas as pd"
   ]
  },
  {
   "cell_type": "code",
   "execution_count": 5,
   "metadata": {},
   "outputs": [],
   "source": [
    "# month_list = ['01','02','03','04','05','06','07','08','09','10','11','12']\n",
    "# month_list = ['07','08','09','10','11','12']\n",
    "# month_list2 = ['01','02','03','04','05','06']\n",
    "month_list = ['04','05','06','07','08','09','10','11','12']\n",
    "month_list2 = ['01','02','03']\n",
    "\n",
    "# month_list = ['08','09','10','11','12']"
   ]
  },
  {
   "cell_type": "code",
   "execution_count": 6,
   "metadata": {},
   "outputs": [
    {
     "name": "stdout",
     "output_type": "stream",
     "text": [
      "month:  04\n",
      "users:  61237\n",
      "month:  05\n",
      "users:  59945\n",
      "month:  06\n",
      "users:  66088\n",
      "month:  07\n",
      "users:  70886\n",
      "month:  08\n",
      "users:  63909\n",
      "month:  09\n",
      "users:  61401\n",
      "month:  10\n",
      "users:  53816\n",
      "month:  11\n",
      "users:  58553\n",
      "month:  12\n",
      "users:  58506\n",
      "month:  01\n",
      "users:  52533\n",
      "month:  02\n",
      "users:  48259\n",
      "month:  03\n",
      "users:  47165\n"
     ]
    }
   ],
   "source": [
    "user_total_in_year = list()\n",
    "\n",
    "filePath = '/mnt/volume/result/State_NewJerseyLevel/'\n",
    "for month in month_list:\n",
    "    user_month = set()\n",
    "#     fileName = 'juliana_SF_allECigarette_2019_'+month+'_categoryKeyWord.json'\n",
    "    fileName = 'juliana_allNewJersey_2018_'+month+'.json'\n",
    "    file = filePath + fileName\n",
    "    with open(file, \"r\") as f:\n",
    "        everyLines = f.readlines()\n",
    "        print('month: ', month)\n",
    "#         print('length of tweets in month %s: %d' % (month, len(everyLines)))\n",
    "        for line in everyLines:\n",
    "            try:\n",
    "                lineInJson = json.loads(line)\n",
    "            except:\n",
    "                print('Cannot load the line: ', line)\n",
    "            userInLine = lineInJson[\"user\"][\"id\"]\n",
    "#             print(textInLine)\n",
    "            user_month.add(userInLine)\n",
    "    num_of_users = len(user_month)\n",
    "    print('users: ', num_of_users)\n",
    "    user_total_in_year.append(num_of_users)\n",
    "\n",
    "for month in month_list2:\n",
    "    user_month = set()\n",
    "#     fileName = 'juliana_SF_allECigarette_2019_'+month+'_categoryKeyWord.json'\n",
    "    fileName = 'juliana_allNewJersey_2019_'+month+'.json'\n",
    "    file = filePath + fileName\n",
    "    with open(file, \"r\") as f:\n",
    "        everyLines = f.readlines()\n",
    "        print('month: ', month)\n",
    "#         print('length of tweets in month %s: %d' % (month, len(everyLines)))\n",
    "        for line in everyLines:\n",
    "            try:\n",
    "                lineInJson = json.loads(line)\n",
    "            except:\n",
    "                print('Cannot load the line: ', line)\n",
    "            userInLine = lineInJson[\"user\"][\"id\"]\n",
    "#             print(textInLine)\n",
    "            user_month.add(userInLine)\n",
    "    num_of_users = len(user_month)\n",
    "    print('users: ', num_of_users)\n",
    "    user_total_in_year.append(num_of_users)\n",
    "#     user_total_in_year[month]=num_of_users\n",
    "#     break"
   ]
  },
  {
   "cell_type": "code",
   "execution_count": 7,
   "metadata": {},
   "outputs": [
    {
     "data": {
      "text/plain": [
       "[61237,\n",
       " 59945,\n",
       " 66088,\n",
       " 70886,\n",
       " 63909,\n",
       " 61401,\n",
       " 53816,\n",
       " 58553,\n",
       " 58506,\n",
       " 52533,\n",
       " 48259,\n",
       " 47165]"
      ]
     },
     "execution_count": 7,
     "metadata": {},
     "output_type": "execute_result"
    }
   ],
   "source": [
    "user_total_in_year"
   ]
  },
  {
   "cell_type": "code",
   "execution_count": null,
   "metadata": {},
   "outputs": [],
   "source": []
  }
 ],
 "metadata": {
  "kernelspec": {
   "display_name": "Python 3",
   "language": "python",
   "name": "python3"
  },
  "language_info": {
   "codemirror_mode": {
    "name": "ipython",
    "version": 3
   },
   "file_extension": ".py",
   "mimetype": "text/x-python",
   "name": "python",
   "nbconvert_exporter": "python",
   "pygments_lexer": "ipython3",
   "version": "3.7.3"
  }
 },
 "nbformat": 4,
 "nbformat_minor": 2
}
