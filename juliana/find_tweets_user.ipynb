{
 "cells": [
  {
   "cell_type": "code",
   "execution_count": 1,
   "metadata": {},
   "outputs": [],
   "source": [
    "import os\n",
    "# os.chdir('C:/Users/eddie/Desktop/Prof. Rumi Chunara/alcohol')\n",
    "import json\n",
    "import pandas as pd"
   ]
  },
  {
   "cell_type": "code",
   "execution_count": 2,
   "metadata": {},
   "outputs": [],
   "source": [
    "# month_list = ['01','02','03','04','05','06','07','08','09','10','11','12']\n",
    "month_list = ['08','09','10','11','12']"
   ]
  },
  {
   "cell_type": "code",
   "execution_count": 3,
   "metadata": {},
   "outputs": [
    {
     "name": "stdout",
     "output_type": "stream",
     "text": [
      "users:  330514\n",
      "users:  231445\n",
      "users:  271542\n",
      "users:  316768\n",
      "users:  300338\n"
     ]
    }
   ],
   "source": [
    "user_total_in_year = list()\n",
    "\n",
    "filePath = '/mnt/volume/result/State_CaliforniaLevel/'\n",
    "for month in month_list:\n",
    "    user_month = set()\n",
    "#     fileName = 'juliana_SF_allECigarette_2019_'+month+'_categoryKeyWord.json'\n",
    "    fileName = 'juliana_allCalifornia_2017_'+month+'.json'\n",
    "    file = filePath + fileName\n",
    "    with open(file, \"r\") as f:\n",
    "        everyLines = f.readlines()\n",
    "#         print('length of tweets in month %s: %d' % (month, len(everyLines)))\n",
    "        for line in everyLines:\n",
    "            try:\n",
    "                lineInJson = json.loads(line)\n",
    "            except:\n",
    "                print('Cannot load the line: ', line)\n",
    "            userInLine = lineInJson[\"user\"][\"id\"]\n",
    "#             print(textInLine)\n",
    "            user_month.add(userInLine)\n",
    "    num_of_users = len(user_month)\n",
    "    print('users: ', num_of_users)\n",
    "    user_total_in_year.append(num_of_users)\n",
    "#     user_total_in_year[month]=num_of_users\n",
    "#     break"
   ]
  },
  {
   "cell_type": "code",
   "execution_count": 4,
   "metadata": {},
   "outputs": [
    {
     "data": {
      "text/plain": [
       "[330514, 231445, 271542, 316768, 300338]"
      ]
     },
     "execution_count": 4,
     "metadata": {},
     "output_type": "execute_result"
    }
   ],
   "source": [
    "user_total_in_year"
   ]
  },
  {
   "cell_type": "code",
   "execution_count": null,
   "metadata": {},
   "outputs": [],
   "source": []
  }
 ],
 "metadata": {
  "kernelspec": {
   "display_name": "Python 3",
   "language": "python",
   "name": "python3"
  },
  "language_info": {
   "codemirror_mode": {
    "name": "ipython",
    "version": 3
   },
   "file_extension": ".py",
   "mimetype": "text/x-python",
   "name": "python",
   "nbconvert_exporter": "python",
   "pygments_lexer": "ipython3",
   "version": "3.7.3"
  }
 },
 "nbformat": 4,
 "nbformat_minor": 2
}
