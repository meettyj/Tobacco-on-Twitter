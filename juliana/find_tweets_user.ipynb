{
 "cells": [
  {
   "cell_type": "code",
   "execution_count": 1,
   "metadata": {},
   "outputs": [],
   "source": [
    "import os\n",
    "# os.chdir('C:/Users/eddie/Desktop/Prof. Rumi Chunara/alcohol')\n",
    "import json\n",
    "import pandas as pd"
   ]
  },
  {
   "cell_type": "code",
   "execution_count": 2,
   "metadata": {},
   "outputs": [],
   "source": [
    "# month_list = ['01','02','03','04','05','06','07','08','09','10','11','12']\n",
    "# month_list = ['07','08','09','10','11','12']\n",
    "# month_list2 = ['01','02','03','04','05','06']\n",
    "# month_list = []\n",
    "# month_list2 = []\n",
    "month_list3 = ['04']\n",
    "\n"
   ]
  },
  {
   "cell_type": "code",
   "execution_count": 3,
   "metadata": {},
   "outputs": [
    {
     "name": "stdout",
     "output_type": "stream",
     "text": [
      "month:  04\n",
      "users:  229056\n",
      "user_total_in_year:  [229056]\n"
     ]
    }
   ],
   "source": [
    "user_total_in_year = list()\n",
    "\n",
    "filePath = '/mnt/volume/result/State_CaliforniaLevel/'\n",
    "# for month in month_list:\n",
    "# #     user_month = set()\n",
    "# #     fileName = 'juliana_SF_allECigarette_2019_'+month+'_categoryKeyWord.json'\n",
    "#     fileName = 'juliana_allCalifornia_2016_'+month+'.json'\n",
    "#     file = filePath + fileName\n",
    "#     with open(file, \"r\") as f:\n",
    "# #         user_month = set()\n",
    "#         user_month = []\n",
    "#         everyLines = f.readlines()\n",
    "#         print('month: ', month)\n",
    "# #         print('length of tweets in month %s: %d' % (month, len(everyLines)))\n",
    "#         for line in everyLines:\n",
    "#             try:\n",
    "#                 lineInJson = json.loads(line)\n",
    "#             except:\n",
    "#                 print('Cannot load the line: ', line)\n",
    "#             userInLine = lineInJson[\"user\"][\"id\"]\n",
    "# #             print(textInLine)\n",
    "# #             user_month.add(userInLine)\n",
    "#             user_month.append(userInLine)\n",
    "#         user_month = set(user_month)\n",
    "#         num_of_users = len(user_month)\n",
    "#         print('users: ', num_of_users)\n",
    "#         user_total_in_year.append(num_of_users)\n",
    "#         user_month = None\n",
    "\n",
    "# for month in month_list2:\n",
    "#     user_month = set()\n",
    "# #     fileName = 'juliana_SF_allECigarette_2019_'+month+'_categoryKeyWord.json'\n",
    "#     fileName = 'juliana_allCalifornia_2018_'+month+'.json'\n",
    "#     file = filePath + fileName\n",
    "#     with open(file, \"r\") as f:\n",
    "#         everyLines = f.readlines()\n",
    "#         print('month: ', month)\n",
    "# #         print('length of tweets in month %s: %d' % (month, len(everyLines)))\n",
    "#         for line in everyLines:\n",
    "#             try:\n",
    "#                 lineInJson = json.loads(line)\n",
    "#             except:\n",
    "#                 print('Cannot load the line: ', line)\n",
    "#             userInLine = lineInJson[\"user\"][\"id\"]\n",
    "# #             print(textInLine)\n",
    "#             user_month.add(userInLine)\n",
    "#     num_of_users = len(user_month)\n",
    "#     print('users: ', num_of_users)\n",
    "#     user_total_in_year.append(num_of_users)\n",
    "\n",
    "for month in month_list3:\n",
    "    user_month = set()\n",
    "#     fileName = 'juliana_SF_allECigarette_2019_'+month+'_categoryKeyWord.json'\n",
    "    fileName = 'juliana_allCalifornia_2019_'+month+'.json'\n",
    "    file = filePath + fileName\n",
    "    with open(file, \"r\") as f:\n",
    "        everyLines = f.readlines()\n",
    "        print('month: ', month)\n",
    "#         print('length of tweets in month %s: %d' % (month, len(everyLines)))\n",
    "        for line in everyLines:\n",
    "            try:\n",
    "                lineInJson = json.loads(line)\n",
    "            except:\n",
    "                print('Cannot load the line: ', line)\n",
    "            userInLine = lineInJson[\"user\"][\"id\"]\n",
    "#             print(textInLine)\n",
    "            user_month.add(userInLine)\n",
    "    num_of_users = len(user_month)\n",
    "    print('users: ', num_of_users)\n",
    "    user_total_in_year.append(num_of_users)\n",
    "    \n",
    "\n",
    "print('user_total_in_year: ', user_total_in_year)"
   ]
  },
  {
   "cell_type": "code",
   "execution_count": 4,
   "metadata": {},
   "outputs": [
    {
     "data": {
      "text/plain": [
       "[229056]"
      ]
     },
     "execution_count": 4,
     "metadata": {},
     "output_type": "execute_result"
    }
   ],
   "source": [
    "user_total_in_year"
   ]
  },
  {
   "cell_type": "code",
   "execution_count": null,
   "metadata": {},
   "outputs": [],
   "source": []
  }
 ],
 "metadata": {
  "kernelspec": {
   "display_name": "Python 3",
   "language": "python",
   "name": "python3"
  },
  "language_info": {
   "codemirror_mode": {
    "name": "ipython",
    "version": 3
   },
   "file_extension": ".py",
   "mimetype": "text/x-python",
   "name": "python",
   "nbconvert_exporter": "python",
   "pygments_lexer": "ipython3",
   "version": "3.7.3"
  }
 },
 "nbformat": 4,
 "nbformat_minor": 2
}
