{
 "cells": [
  {
   "cell_type": "code",
   "execution_count": 1,
   "metadata": {},
   "outputs": [],
   "source": [
    "import numpy as np\n",
    "import matplotlib.pyplot as plt\n",
    "import numpy as np\n",
    "\n",
    "from scipy import optimize\n",
    "import statsmodels.api as sm"
   ]
  },
  {
   "cell_type": "code",
   "execution_count": 2,
   "metadata": {},
   "outputs": [
    {
     "name": "stdout",
     "output_type": "stream",
     "text": [
      "length of y_states:  14\n"
     ]
    },
    {
     "data": {
      "text/plain": [
       "[[0.036],\n",
       " [0.055],\n",
       " [0.054],\n",
       " [0.051],\n",
       " [0.038],\n",
       " [0.043],\n",
       " [0.042],\n",
       " [0.041],\n",
       " [0.05],\n",
       " [0.034],\n",
       " [0.042],\n",
       " [0.055],\n",
       " [0.041],\n",
       " [0.033]]"
      ]
     },
     "execution_count": 2,
     "metadata": {},
     "output_type": "execute_result"
    }
   ],
   "source": [
    "# Y. value after event.\n",
    "y_ca = list(map(float,['0.117', '0.172', '0.074']))\n",
    "y_or = list(map(float,['0.183', '0.263', '0.100']))\n",
    "y_nev = list(map(float,['0.228', '0.216', '0.090']))\n",
    "y_ar = list(map(float,['0.159', '0.224', '0.124']))\n",
    "\n",
    "y_ka = list(map(float,['0.119', '0.168', '0.089']))\n",
    "y_neb = list(map(float,['0.146', '0.174', '0.108']))\n",
    "y_mi = list(map(float,['0.135', '0.204', '0.082']))\n",
    "y_ok = list(map(float,['0.131', '0.180', '0.099']))\n",
    "y_col = list(map(float,['0.167', '0.227', '0.106']))\n",
    "\n",
    "# y_de1 = list(map(float,['0.036']))\n",
    "# y_nj1 = list(map(float,['0.042']))\n",
    "# y_pe1 = list(map(float,[ '0.049']))\n",
    "# y_ma1 = list(map(float,[ '0.031']))\n",
    "# y_dc = list(map(float,['0.029']))\n",
    "\n",
    "y_nj2 = list(map(float,['0.034']))\n",
    "y_ny = list(map(float,['0.042']))\n",
    "y_pe2 = list(map(float,[ '0.055']))\n",
    "y_con = list(map(float,['0.041']))\n",
    "# y_de2 = list(map(float,[ '0.037']))\n",
    "y_ma2 = list(map(float,['0.033']))\n",
    "\n",
    "y_states = []\n",
    "y_states.append(y_ca)\n",
    "y_states.append(y_or)\n",
    "y_states.append(y_nev)\n",
    "y_states.append(y_ar)\n",
    "\n",
    "y_states.append(y_ka)\n",
    "y_states.append(y_neb)\n",
    "y_states.append(y_mi)\n",
    "y_states.append(y_ok)\n",
    "y_states.append(y_col)\n",
    "\n",
    "# y_states.append(y_de1)\n",
    "# y_states.append(y_nj1)\n",
    "# y_states.append(y_pe1)\n",
    "# y_states.append(y_ma1)\n",
    "# y_states.append(y_dc)\n",
    "\n",
    "y_states.append(y_nj2)\n",
    "y_states.append(y_ny)\n",
    "y_states.append(y_pe2)\n",
    "y_states.append(y_con)\n",
    "# y_states.append(y_de2)\n",
    "y_states.append(y_ma2)\n",
    "\n",
    "print('length of y_states: ', len(y_states))\n",
    "y_states"
   ]
  },
  {
   "cell_type": "code",
   "execution_count": 3,
   "metadata": {},
   "outputs": [
    {
     "name": "stdout",
     "output_type": "stream",
     "text": [
      "length of x1:  14\n"
     ]
    },
    {
     "data": {
      "text/plain": [
       "[[0.034],\n",
       " [0.047],\n",
       " [0.06],\n",
       " [0.039],\n",
       " [0.023],\n",
       " [0.025],\n",
       " [0.035],\n",
       " [0.025],\n",
       " [0.036],\n",
       " [0.034],\n",
       " [0.053],\n",
       " [0.033],\n",
       " [0.028],\n",
       " [0.023]]"
      ]
     },
     "execution_count": 3,
     "metadata": {},
     "output_type": "execute_result"
    }
   ],
   "source": [
    "# X.\n",
    "x1_ca = list(map(float,['0.034']))\n",
    "x1_or = list(map(float,['0.047']))\n",
    "x1_nev = list(map(float,[ '0.060']))\n",
    "x1_ar = list(map(float,['0.039']))\n",
    "\n",
    "x1_ka = list(map(float,[ '0.023']))\n",
    "x1_neb = list(map(float,['0.025']))\n",
    "x1_mi = list(map(float,[ '0.035']))\n",
    "x1_ok = list(map(float,['0.025']))\n",
    "x1_col = list(map(float,['0.036']))\n",
    "\n",
    "# x1_de1 = list(map(float,['0.019']))\n",
    "# x1_nj1 = list(map(float,['0.028']))\n",
    "# x1_pe1 = list(map(float,['0.027']))\n",
    "# x1_ma1 = list(map(float,['0.021']))\n",
    "# x1_dc = list(map(float,['0.019']))\n",
    "\n",
    "x1_nj2 = list(map(float,['0.034']))\n",
    "x1_ny = list(map(float,['0.053']))\n",
    "x1_pe2 = list(map(float,['0.033']))\n",
    "x1_con = list(map(float,['0.028']))\n",
    "# x1_de2 = list(map(float,['0.024']))\n",
    "x1_ma2 = list(map(float,['0.023']))\n",
    "\n",
    "x1 = []\n",
    "x1.append(x1_ca)\n",
    "x1.append(x1_or)\n",
    "x1.append(x1_nev)\n",
    "x1.append(x1_ar)\n",
    "\n",
    "x1.append(x1_ka)\n",
    "x1.append(x1_neb)\n",
    "x1.append(x1_mi)\n",
    "x1.append(x1_ok)\n",
    "x1.append(x1_col)\n",
    "\n",
    "# x1.append(x1_de1)\n",
    "# x1.append(x1_nj1)\n",
    "# x1.append(x1_pe1)\n",
    "# x1.append(x1_ma1)\n",
    "# x1.append(x1_dc)\n",
    "\n",
    "x1.append(x1_nj2)\n",
    "x1.append(x1_ny)\n",
    "x1.append(x1_pe2)\n",
    "x1.append(x1_con)\n",
    "# x1.append(x1_de2)\n",
    "x1.append(x1_ma2)\n",
    "\n",
    "print('length of x1: ', len(x1))\n",
    "x1"
   ]
  },
  {
   "cell_type": "code",
   "execution_count": 4,
   "metadata": {},
   "outputs": [
    {
     "name": "stdout",
     "output_type": "stream",
     "text": [
      "length of x_remaining:  14\n"
     ]
    },
    {
     "data": {
      "text/plain": [
       "[[1.0, 39399349.0, 8227985.0, 356464.0, 2823.0, 1647.0],\n",
       " [0.0, 4146592.0, 559398.0, 31190.0, 264.0, 140.0],\n",
       " [0.0, 2972405.0, 716884.0, 44812.0, 413.0, 158.0],\n",
       " [0.0, 7048876.0, 1147103.0, 52683.0, 446.0, 311.0],\n",
       " [1.0, 2910689.0, 330855.0, 20019.0, 76.0, 55.0],\n",
       " [0.0, 1917575.0, 251061.0, 15053.0, 63.0, 48.0],\n",
       " [0.0, 6108612.0, 601529.0, 38826.0, 209.0, 123.0],\n",
       " [0.0, 3932640.0, 535637.0, 26928.0, 135.0, 95.0],\n",
       " [0.0, 5615902.0, 580055.0, 36898.0, 210.0, 142.0],\n",
       " [1.0, 8908520.0, 1179505.0, 71063.0, 379.0, 237.0],\n",
       " [0.0, 19542209.0, 2860083.0, 180237.0, 1279.0, 692.0],\n",
       " [1.0, 12807060.0, 1232635.0, 76275.0, 387.0, 270.0],\n",
       " [0.0, 3572665.0, 411658.0, 23249.0, 114.0, 84.0],\n",
       " [0.0, 6042718.0, 966546.0, 48972.0, 223.0, 149.0]]"
      ]
     },
     "execution_count": 4,
     "metadata": {},
     "output_type": "execute_result"
    }
   ],
   "source": [
    "x_remaining = []\n",
    "x_remaining.append(list(map(float, '1 & 39399349 & 8227985 & 356464 & 2823 & 1647 '.split('&'))))\n",
    "x_remaining.append(list(map(float, '0 & 4146592 & 559398 & 31190  & 264 & 140  '.split('&'))))\n",
    "x_remaining.append(list(map(float, '0 & 2972405 & 716884 & 44812 & 413 & 158 '.split('&'))))\n",
    "x_remaining.append(list(map(float, '0 & 7048876 & 1147103 & 52683  & 446 & 311  '.split('&'))))\n",
    "\n",
    "x_remaining.append(list(map(float, '1 & 2910689 & 330855 & 20019  & 76 & 55  '.split('&'))))\n",
    "x_remaining.append(list(map(float, '0 & 1917575 & 251061 & 15053 & 63 & 48'.split('&'))))\n",
    "x_remaining.append(list(map(float, '0 & 6108612 & 601529 & 38826  & 209 & 123'.split('&'))))\n",
    "x_remaining.append(list(map(float, '0 & 3932640 & 535637 & 26928  & 135 & 95'.split('&'))))\n",
    "x_remaining.append(list(map(float, '0 & 5615902 & 580055 & 36898  & 210 & 142'.split('&'))))\n",
    "\n",
    "# x_remaining.append(list(map(float, '1 & 957078 & 71256 & 5527 & 12 & 10 '.split('&'))))\n",
    "# x_remaining.append(list(map(float, '0 & 8888543 & 1285099 & 74721 & 347 & 227'.split('&'))))\n",
    "# x_remaining.append(list(map(float, '1 & 12790447 & 1328496 & 80112 & 359 & 254'.split('&'))))\n",
    "# x_remaining.append(list(map(float, '0 & 6024891 & 1038921 & 50680 & 221 & 137'.split('&'))))\n",
    "# x_remaining.append(list(map(float, '1 & 695691 & 432070 & 34813 & 82 & 58'.split('&'))))\n",
    "\n",
    "x_remaining.append(list(map(float, '1 & 8908520 & 1179505 & 71063  & 379 & 237'.split('&'))))\n",
    "x_remaining.append(list(map(float, '0 & 19542209 & 2860083 & 180237 & 1279 & 692 '.split('&'))))\n",
    "x_remaining.append(list(map(float, '1 & 12807060 & 1232635 & 76275  & 387 & 270 '.split('&'))))\n",
    "x_remaining.append(list(map(float, '0 & 3572665 & 411658 & 23249 & 114 & 84 '.split('&'))))\n",
    "# x_remaining.append(list(map(float, '1 & 967171 & 66676 & 5182  & 14 & 11 '.split('&'))))\n",
    "x_remaining.append(list(map(float, '0 & 6042718 & 966546 & 48972 & 223 & 149 '.split('&'))))\n",
    "\n",
    "print('length of x_remaining: ', len(x_remaining))\n",
    "x_remaining"
   ]
  },
  {
   "cell_type": "code",
   "execution_count": 5,
   "metadata": {
    "scrolled": true
   },
   "outputs": [
    {
     "name": "stdout",
     "output_type": "stream",
     "text": [
      "this is column 1.\n",
      "y_training:  [0.036, 0.055, 0.054, 0.051, 0.038, 0.043, 0.042, 0.041, 0.05, 0.034, 0.042, 0.055, 0.041, 0.033]\n",
      "section:  0\n",
      "model summary:                              OLS Regression Results                            \n",
      "==============================================================================\n",
      "Dep. Variable:                      y   R-squared:                       0.869\n",
      "Model:                            OLS   Adj. R-squared:                  0.717\n",
      "Method:                 Least Squares   F-statistic:                     5.711\n",
      "Date:                Wed, 11 Sep 2019   Prob (F-statistic):             0.0248\n",
      "Time:                        14:09:35   Log-Likelihood:                 63.002\n",
      "No. Observations:                  14   AIC:                            -110.0\n",
      "Df Residuals:                       6   BIC:                            -104.9\n",
      "Df Model:                           7                                         \n",
      "Covariance Type:            nonrobust                                         \n",
      "======================================================================================\n",
      "                         coef    std err          t      P>|t|      [0.025      0.975]\n",
      "--------------------------------------------------------------------------------------\n",
      "Const                  0.0335      0.010      3.367      0.015       0.009       0.058\n",
      "Value_before           0.3514      0.281      1.252      0.257      -0.335       1.038\n",
      "Tax                -4.811e-05      0.003     -0.015      0.989      -0.008       0.008\n",
      "population          5.444e-09   1.93e-09      2.821      0.030    7.21e-10    1.02e-08\n",
      "F_tweets            -3.26e-09   9.47e-09     -0.344      0.742   -2.64e-08    1.99e-08\n",
      "F_tweetPosters     -1.104e-06    3.5e-07     -3.156      0.020   -1.96e-06   -2.48e-07\n",
      "F_ecigTweets           0.0001   7.16e-05      1.407      0.209   -7.45e-05       0.000\n",
      "F_ecigTweetPosters  -5.34e-05   8.53e-05     -0.626      0.554      -0.000       0.000\n",
      "==============================================================================\n",
      "Omnibus:                        3.389   Durbin-Watson:                   2.962\n",
      "Prob(Omnibus):                  0.184   Jarque-Bera (JB):                1.300\n",
      "Skew:                          -0.687   Prob(JB):                        0.522\n",
      "Kurtosis:                       3.582   Cond. No.                     3.40e+09\n",
      "==============================================================================\n",
      "\n",
      "Warnings:\n",
      "[1] Standard Errors assume that the covariance matrix of the errors is correctly specified.\n",
      "[2] The condition number is large, 3.4e+09. This might indicate that there are\n",
      "strong multicollinearity or other numerical problems.\n",
      "\n",
      "%%%%%%%%%%%%%%%%%%%%%%%%%%%%%%%%%%%%%%%%%%%%%%%%%%%%%%%%%%%%%%%%%%%%%%\n",
      "\n"
     ]
    },
    {
     "name": "stderr",
     "output_type": "stream",
     "text": [
      "/home/centos/anaconda3/envs/yijun/lib/python3.7/site-packages/scipy/stats/stats.py:1450: UserWarning: kurtosistest only valid for n>=20 ... continuing anyway, n=14\n",
      "  \"anyway, n=%i\" % int(n))\n"
     ]
    }
   ],
   "source": [
    "for i in range(1):\n",
    "    print('this is column %d.' %(i+1))\n",
    "    X_training = []\n",
    "    y_training = list(np.asarray(y_states)[:,i])\n",
    "    print('y_training: ', y_training)\n",
    "    # to get X_training\n",
    "    for j in range(len(x1)):\n",
    "        tmp = [x1[j][i]]\n",
    "        tmp.extend(x_remaining[j])\n",
    "        X_training.append(tmp)\n",
    "#     print('X_training: ', X_training)\n",
    "    X_training = sm.add_constant(X_training)\n",
    "#     print('X_training: ', X_training)\n",
    "    model = sm.OLS(y_training, X_training).fit()\n",
    "    print('section: ', i)\n",
    "#     print('model summary: ',model.summary())\n",
    "    print('model summary: ',model.summary(xname=['Const', 'Value_before', 'Tax', 'population', 'F_tweets', 'F_tweetPosters', 'F_ecigTweets', 'F_ecigTweetPosters']))\n",
    "    print()\n",
    "    print('%%%%%%%%%%%%%%%%%%%%%%%%%%%%%%%%%%%%%%%%%%%%%%%%%%%%%%%%%%%%%%%%%%%%%%')\n",
    "    print()\n",
    "    \n",
    "    \n",
    "#     break\n"
   ]
  },
  {
   "cell_type": "code",
   "execution_count": null,
   "metadata": {},
   "outputs": [],
   "source": []
  },
  {
   "cell_type": "code",
   "execution_count": null,
   "metadata": {},
   "outputs": [],
   "source": []
  }
 ],
 "metadata": {
  "kernelspec": {
   "display_name": "Python 3",
   "language": "python",
   "name": "python3"
  },
  "language_info": {
   "codemirror_mode": {
    "name": "ipython",
    "version": 3
   },
   "file_extension": ".py",
   "mimetype": "text/x-python",
   "name": "python",
   "nbconvert_exporter": "python",
   "pygments_lexer": "ipython3",
   "version": "3.7.3"
  }
 },
 "nbformat": 4,
 "nbformat_minor": 2
}
