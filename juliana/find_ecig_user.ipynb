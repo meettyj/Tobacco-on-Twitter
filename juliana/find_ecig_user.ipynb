{
 "cells": [
  {
   "cell_type": "code",
   "execution_count": 76,
   "metadata": {},
   "outputs": [],
   "source": [
    "import os\n",
    "# os.chdir('C:/Users/eddie/Desktop/Prof. Rumi Chunara/alcohol')\n",
    "import json\n",
    "import pandas as pd"
   ]
  },
  {
   "cell_type": "code",
   "execution_count": 77,
   "metadata": {},
   "outputs": [],
   "source": [
    "# month_list = ['01','02','03','04','05','06','07','08','09','10','11','12']\n",
    "# month_list = ['07','08','09','10','11','12']\n",
    "# month_list2 = ['01','02','03','04','05','06']\n",
    "# month_list = ['04','05','06','07','08','09','10','11','12']\n",
    "# month_list2 = ['01','02','03']\n",
    "month_list = ['04','05','06','07','08','09','10','11','12']\n",
    "# month_list2 = ['01','02','03','04','05','06','07','08','09']\n",
    "# month_list3 = ['04']\n"
   ]
  },
  {
   "cell_type": "code",
   "execution_count": 78,
   "metadata": {},
   "outputs": [
    {
     "name": "stdout",
     "output_type": "stream",
     "text": [
      "length of tweets in month 04: 132\n",
      "users:  105\n",
      "length of tweets in month 05: 148\n",
      "users:  114\n",
      "length of tweets in month 06: 127\n",
      "users:  97\n",
      "length of tweets in month 07: 139\n",
      "users:  96\n",
      "length of tweets in month 08: 107\n",
      "users:  82\n",
      "length of tweets in month 09: 128\n",
      "users:  91\n",
      "length of tweets in month 10: 119\n",
      "users:  82\n",
      "length of tweets in month 11: 115\n",
      "users:  81\n",
      "length of tweets in month 12: 127\n",
      "users:  70\n"
     ]
    }
   ],
   "source": [
    "user_total_in_year = list()\n",
    "\n",
    "# filePath = '/mnt/volume/result/State_NewJerseyLevel/'\n",
    "filePath = '/mnt/volume/result/'\n",
    "for month in month_list:\n",
    "    user_month = set()\n",
    "#     fileName = 'juliana_SF_allECigarette_2019_'+month+'_categoryKeyWord.json'\n",
    "    fileName = 'juliana_SF_allECigarette_2016_'+month+'_categoryKeyWord.json'\n",
    "    file = filePath + fileName\n",
    "    with open(file, \"r\") as f:\n",
    "        everyLines = f.readlines()\n",
    "        print('length of tweets in month %s: %d' % (month, len(everyLines)))\n",
    "        for line in everyLines:\n",
    "            try:\n",
    "                lineInJson = json.loads(line)\n",
    "            except:\n",
    "                print('Cannot load the line: ', line)\n",
    "            userInLine = lineInJson[\"user\"][\"id\"]\n",
    "#             print(textInLine)\n",
    "            user_month.add(userInLine)\n",
    "    num_of_users = len(user_month)\n",
    "    print('users: ', num_of_users)\n",
    "    user_total_in_year.append(num_of_users)\n",
    "    \n",
    "# for month in month_list2:\n",
    "#     user_month = set()\n",
    "# #     fileName = 'juliana_SF_allECigarette_2019_'+month+'_categoryKeyWord.json'\n",
    "#     fileName = 'juliana_Connecticut_allECigarette_2017_'+month+'_categoryKeyWord.json'\n",
    "#     file = filePath + fileName\n",
    "#     with open(file, \"r\") as f:\n",
    "#         everyLines = f.readlines()\n",
    "#         print('length of tweets in month %s: %d' % (month, len(everyLines)))\n",
    "#         for line in everyLines:\n",
    "#             try:\n",
    "#                 lineInJson = json.loads(line)\n",
    "#             except:\n",
    "#                 print('Cannot load the line: ', line)\n",
    "#             userInLine = lineInJson[\"user\"][\"id\"]\n",
    "# #             print(textInLine)\n",
    "#             user_month.add(userInLine)\n",
    "#     num_of_users = len(user_month)\n",
    "#     print('users: ', num_of_users)\n",
    "#     user_total_in_year.append(num_of_users)\n",
    "    \n",
    "# for month in month_list3:\n",
    "#     user_month = set()\n",
    "# #     fileName = 'juliana_SF_allECigarette_2019_'+month+'_categoryKeyWord.json'\n",
    "#     fileName = 'juliana_Connecticut_allECigarette_2019_'+month+'_categoryKeyWord.json'\n",
    "#     file = filePath + fileName\n",
    "#     with open(file, \"r\") as f:\n",
    "#         everyLines = f.readlines()\n",
    "#         print('length of tweets in month %s: %d' % (month, len(everyLines)))\n",
    "#         for line in everyLines:\n",
    "#             try:\n",
    "#                 lineInJson = json.loads(line)\n",
    "#             except:\n",
    "#                 print('Cannot load the line: ', line)\n",
    "#             userInLine = lineInJson[\"user\"][\"id\"]\n",
    "# #             print(textInLine)\n",
    "#             user_month.add(userInLine)\n",
    "#     num_of_users = len(user_month)\n",
    "#     print('users: ', num_of_users)\n",
    "#     user_total_in_year.append(num_of_users)\n",
    "# #     user_total_in_year[month]=num_of_users\n",
    "# #     break"
   ]
  },
  {
   "cell_type": "code",
   "execution_count": 79,
   "metadata": {},
   "outputs": [
    {
     "data": {
      "text/plain": [
       "[105, 114, 97, 96, 82, 91, 82, 81, 70]"
      ]
     },
     "execution_count": 79,
     "metadata": {},
     "output_type": "execute_result"
    }
   ],
   "source": [
    "user_total_in_year"
   ]
  },
  {
   "cell_type": "code",
   "execution_count": null,
   "metadata": {},
   "outputs": [],
   "source": []
  }
 ],
 "metadata": {
  "kernelspec": {
   "display_name": "Python 3",
   "language": "python",
   "name": "python3"
  },
  "language_info": {
   "codemirror_mode": {
    "name": "ipython",
    "version": 3
   },
   "file_extension": ".py",
   "mimetype": "text/x-python",
   "name": "python",
   "nbconvert_exporter": "python",
   "pygments_lexer": "ipython3",
   "version": "3.7.3"
  }
 },
 "nbformat": 4,
 "nbformat_minor": 2
}
