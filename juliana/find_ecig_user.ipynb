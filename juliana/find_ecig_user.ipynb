{
 "cells": [
  {
   "cell_type": "code",
   "execution_count": 24,
   "metadata": {},
   "outputs": [],
   "source": [
    "import os\n",
    "# os.chdir('C:/Users/eddie/Desktop/Prof. Rumi Chunara/alcohol')\n",
    "import json\n",
    "import pandas as pd"
   ]
  },
  {
   "cell_type": "code",
   "execution_count": 25,
   "metadata": {},
   "outputs": [],
   "source": [
    "# month_list = ['01','02','03','04','05','06','07','08','09','10','11','12']\n",
    "# month_list = ['07','08','09','10','11','12']\n",
    "# month_list2 = ['01','02','03','04','05','06']\n",
    "# month_list = ['04','05','06','07','08','09','10','11','12']\n",
    "# month_list2 = ['01','02','03']\n",
    "month_list = ['01','02','03']\n",
    "month_list2 = ['04','05','06']"
   ]
  },
  {
   "cell_type": "code",
   "execution_count": 26,
   "metadata": {},
   "outputs": [
    {
     "name": "stdout",
     "output_type": "stream",
     "text": [
      "length of tweets in month 04: 243\n",
      "users:  176\n",
      "length of tweets in month 05: 206\n",
      "users:  169\n",
      "length of tweets in month 06: 241\n",
      "users:  190\n",
      "length of tweets in month 07: 256\n",
      "users:  199\n",
      "length of tweets in month 08: 222\n",
      "users:  160\n",
      "length of tweets in month 09: 230\n",
      "users:  182\n",
      "length of tweets in month 10: 184\n",
      "users:  144\n",
      "length of tweets in month 11: 266\n",
      "users:  196\n",
      "length of tweets in month 12: 236\n",
      "users:  178\n",
      "length of tweets in month 01: 245\n",
      "users:  195\n",
      "length of tweets in month 02: 280\n",
      "users:  194\n",
      "length of tweets in month 03: 206\n",
      "users:  128\n"
     ]
    }
   ],
   "source": [
    "user_total_in_year = list()\n",
    "\n",
    "filePath = '/mnt/volume/result/State_NewJerseyLevel/'\n",
    "for month in month_list:\n",
    "    user_month = set()\n",
    "#     fileName = 'juliana_SF_allECigarette_2019_'+month+'_categoryKeyWord.json'\n",
    "    fileName = 'juliana_Delaware_allECigarette_2018_'+month+'_categoryKeyWord.json'\n",
    "    file = filePath + fileName\n",
    "    with open(file, \"r\") as f:\n",
    "        everyLines = f.readlines()\n",
    "        print('length of tweets in month %s: %d' % (month, len(everyLines)))\n",
    "        for line in everyLines:\n",
    "            try:\n",
    "                lineInJson = json.loads(line)\n",
    "            except:\n",
    "                print('Cannot load the line: ', line)\n",
    "            userInLine = lineInJson[\"user\"][\"id\"]\n",
    "#             print(textInLine)\n",
    "            user_month.add(userInLine)\n",
    "    num_of_users = len(user_month)\n",
    "    print('users: ', num_of_users)\n",
    "    user_total_in_year.append(num_of_users)\n",
    "    \n",
    "for month in month_list2:\n",
    "    user_month = set()\n",
    "#     fileName = 'juliana_SF_allECigarette_2019_'+month+'_categoryKeyWord.json'\n",
    "    fileName = 'juliana_Delaware_allECigarette_2018_'+month+'_categoryKeyWord.json'\n",
    "    file = filePath + fileName\n",
    "    with open(file, \"r\") as f:\n",
    "        everyLines = f.readlines()\n",
    "        print('length of tweets in month %s: %d' % (month, len(everyLines)))\n",
    "        for line in everyLines:\n",
    "            try:\n",
    "                lineInJson = json.loads(line)\n",
    "            except:\n",
    "                print('Cannot load the line: ', line)\n",
    "            userInLine = lineInJson[\"user\"][\"id\"]\n",
    "#             print(textInLine)\n",
    "            user_month.add(userInLine)\n",
    "    num_of_users = len(user_month)\n",
    "    print('users: ', num_of_users)\n",
    "    user_total_in_year.append(num_of_users)\n",
    "#     user_total_in_year[month]=num_of_users\n",
    "#     break"
   ]
  },
  {
   "cell_type": "code",
   "execution_count": 27,
   "metadata": {},
   "outputs": [
    {
     "data": {
      "text/plain": [
       "[176, 169, 190, 199, 160, 182, 144, 196, 178, 195, 194, 128]"
      ]
     },
     "execution_count": 27,
     "metadata": {},
     "output_type": "execute_result"
    }
   ],
   "source": [
    "user_total_in_year"
   ]
  },
  {
   "cell_type": "code",
   "execution_count": null,
   "metadata": {},
   "outputs": [],
   "source": []
  }
 ],
 "metadata": {
  "kernelspec": {
   "display_name": "Python 3",
   "language": "python",
   "name": "python3"
  },
  "language_info": {
   "codemirror_mode": {
    "name": "ipython",
    "version": 3
   },
   "file_extension": ".py",
   "mimetype": "text/x-python",
   "name": "python",
   "nbconvert_exporter": "python",
   "pygments_lexer": "ipython3",
   "version": "3.6.5"
  }
 },
 "nbformat": 4,
 "nbformat_minor": 2
}
