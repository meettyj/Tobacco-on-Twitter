{
 "cells": [
  {
   "cell_type": "code",
   "execution_count": 13,
   "metadata": {},
   "outputs": [],
   "source": [
    "import os\n",
    "# os.chdir('C:/Users/eddie/Desktop/Prof. Rumi Chunara/alcohol')\n",
    "import json\n",
    "import pandas as pd"
   ]
  },
  {
   "cell_type": "code",
   "execution_count": 14,
   "metadata": {},
   "outputs": [],
   "source": [
    "month_list = ['01','02','03','04','05','06','07','08','09','10','11','12']"
   ]
  },
  {
   "cell_type": "code",
   "execution_count": 15,
   "metadata": {},
   "outputs": [
    {
     "name": "stdout",
     "output_type": "stream",
     "text": [
      "length of tweets in month 01: 422\n",
      "users:  290\n",
      "length of tweets in month 02: 293\n",
      "users:  210\n",
      "length of tweets in month 03: 336\n",
      "users:  256\n",
      "length of tweets in month 04: 411\n",
      "users:  260\n",
      "length of tweets in month 05: 302\n",
      "users:  200\n",
      "length of tweets in month 06: 230\n",
      "users:  161\n",
      "length of tweets in month 07: 292\n",
      "users:  229\n",
      "length of tweets in month 08: 325\n",
      "users:  261\n",
      "length of tweets in month 09: 162\n",
      "users:  132\n",
      "length of tweets in month 10: 253\n",
      "users:  215\n",
      "length of tweets in month 11: 409\n",
      "users:  330\n",
      "length of tweets in month 12: 382\n",
      "users:  296\n"
     ]
    }
   ],
   "source": [
    "user_total_in_year = list()\n",
    "\n",
    "filePath = '/mnt/volume/result/State_CaliforniaLevel/'\n",
    "for month in month_list:\n",
    "    user_month = set()\n",
    "#     fileName = 'juliana_SF_allECigarette_2019_'+month+'_categoryKeyWord.json'\n",
    "    fileName = 'juliana_Arizona_allECigarette_2017_'+month+'_categoryKeyWord.json'\n",
    "    file = filePath + fileName\n",
    "    with open(file, \"r\") as f:\n",
    "        everyLines = f.readlines()\n",
    "        print('length of tweets in month %s: %d' % (month, len(everyLines)))\n",
    "        for line in everyLines:\n",
    "            try:\n",
    "                lineInJson = json.loads(line)\n",
    "            except:\n",
    "                print('Cannot load the line: ', line)\n",
    "            userInLine = lineInJson[\"user\"][\"id\"]\n",
    "#             print(textInLine)\n",
    "            user_month.add(userInLine)\n",
    "    num_of_users = len(user_month)\n",
    "    print('users: ', num_of_users)\n",
    "    user_total_in_year.append(num_of_users)\n",
    "#     user_total_in_year[month]=num_of_users\n",
    "#     break"
   ]
  },
  {
   "cell_type": "code",
   "execution_count": 16,
   "metadata": {},
   "outputs": [
    {
     "data": {
      "text/plain": [
       "[290, 210, 256, 260, 200, 161, 229, 261, 132, 215, 330, 296]"
      ]
     },
     "execution_count": 16,
     "metadata": {},
     "output_type": "execute_result"
    }
   ],
   "source": [
    "user_total_in_year"
   ]
  },
  {
   "cell_type": "code",
   "execution_count": null,
   "metadata": {},
   "outputs": [],
   "source": []
  }
 ],
 "metadata": {
  "kernelspec": {
   "display_name": "Python 3",
   "language": "python",
   "name": "python3"
  },
  "language_info": {
   "codemirror_mode": {
    "name": "ipython",
    "version": 3
   },
   "file_extension": ".py",
   "mimetype": "text/x-python",
   "name": "python",
   "nbconvert_exporter": "python",
   "pygments_lexer": "ipython3",
   "version": "3.7.3"
  }
 },
 "nbformat": 4,
 "nbformat_minor": 2
}
