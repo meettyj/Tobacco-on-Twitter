{
 "cells": [
  {
   "cell_type": "code",
   "execution_count": 77,
   "metadata": {},
   "outputs": [],
   "source": [
    "import os\n",
    "import json\n",
    "\n",
    "# print(os.getcwd())\n",
    "# os.chdir('C:/Users/eddie/Desktop/Prof. Rumi Chunara/alcohol')"
   ]
  },
  {
   "cell_type": "code",
   "execution_count": 78,
   "metadata": {},
   "outputs": [],
   "source": [
    "def getCountryCode(jsonLine):\n",
    "    return jsonLine['place']['country_code']"
   ]
  },
  {
   "cell_type": "code",
   "execution_count": 79,
   "metadata": {},
   "outputs": [],
   "source": [
    "states = {\n",
    "        'AK': 'Alaska',\n",
    "        'AL': 'Alabama',\n",
    "        'AR': 'Arkansas',\n",
    "        'AS': 'American Samoa',\n",
    "        'AZ': 'Arizona',\n",
    "        'CA': 'California',\n",
    "        'CO': 'Colorado',\n",
    "        'CT': 'Connecticut',\n",
    "        'DC': 'District of Columbia',\n",
    "        'DE': 'Delaware',\n",
    "        'FL': 'Florida',\n",
    "        'GA': 'Georgia',\n",
    "        'GU': 'Guam',\n",
    "        'HI': 'Hawaii',\n",
    "        'IA': 'Iowa',\n",
    "        'ID': 'Idaho',\n",
    "        'IL': 'Illinois',\n",
    "        'IN': 'Indiana',\n",
    "        'KS': 'Kansas',\n",
    "        'KY': 'Kentucky',\n",
    "        'LA': 'Louisiana',\n",
    "        'MA': 'Massachusetts',\n",
    "        'MD': 'Maryland',\n",
    "        'ME': 'Maine',\n",
    "        'MI': 'Michigan',\n",
    "        'MN': 'Minnesota',\n",
    "        'MO': 'Missouri',\n",
    "        'MP': 'Northern Mariana Islands',\n",
    "        'MS': 'Mississippi',\n",
    "        'MT': 'Montana',\n",
    "        'NA': 'National',\n",
    "        'NC': 'North Carolina',\n",
    "        'ND': 'North Dakota',\n",
    "        'NE': 'Nebraska',\n",
    "        'NH': 'New Hampshire',\n",
    "        'NJ': 'New Jersey',\n",
    "        'NM': 'New Mexico',\n",
    "        'NV': 'Nevada',\n",
    "        'NY': 'New York',\n",
    "        'OH': 'Ohio',\n",
    "        'OK': 'Oklahoma',\n",
    "        'OR': 'Oregon',\n",
    "        'PA': 'Pennsylvania',\n",
    "        'PR': 'Puerto Rico',\n",
    "        'RI': 'Rhode Island',\n",
    "        'SC': 'South Carolina',\n",
    "        'SD': 'South Dakota',\n",
    "        'TN': 'Tennessee',\n",
    "        'TX': 'Texas',\n",
    "        'UT': 'Utah',\n",
    "        'VA': 'Virginia',\n",
    "        'VI': 'Virgin Islands',\n",
    "        'VT': 'Vermont',\n",
    "        'WA': 'Washington',\n",
    "        'WI': 'Wisconsin',\n",
    "        'WV': 'West Virginia',\n",
    "        'WY': 'Wyoming'\n",
    "}"
   ]
  },
  {
   "cell_type": "code",
   "execution_count": 80,
   "metadata": {},
   "outputs": [],
   "source": [
    "states_abbreviation_to_full = dict()\n",
    "states_full_to_abbreviation = dict()\n",
    "states_tweets_count = dict()\n",
    "\n",
    "for key,value in states.items():\n",
    "#     print(key, value)\n",
    "    states_abbreviation_to_full[key] = value\n",
    "    states_full_to_abbreviation[value] = key\n",
    "    states_tweets_count[key] = 0"
   ]
  },
  {
   "cell_type": "code",
   "execution_count": 81,
   "metadata": {},
   "outputs": [],
   "source": [
    "# states_abbreviation_to_full\n",
    "# states_full_to_abbreviation"
   ]
  },
  {
   "cell_type": "code",
   "execution_count": 82,
   "metadata": {},
   "outputs": [],
   "source": [
    "def getState(jsonLine):\n",
    "    placeFullName = jsonLine['place']['full_name']\n",
    "#     print(placeFullName)\n",
    "    try:\n",
    "        first_part_full_name, second_part_full_name = placeFullName.split(', ')\n",
    "        if second_part_full_name != 'USA':\n",
    "#             if len(second_part_full_name) == 2:\n",
    "            return second_part_full_name\n",
    "#             else: return None\n",
    "        else: \n",
    "            # convert the first_part_full_name (state full name) into the abbreviation.\n",
    "#             print(first_part_full_name)\n",
    "            abbreviation = states_full_to_abbreviation[first_part_full_name]\n",
    "    #         print(abbreviation)\n",
    "#             print('--------------')\n",
    "            return abbreviation\n",
    "    except:\n",
    "        return placeFullName\n",
    "        "
   ]
  },
  {
   "cell_type": "code",
   "execution_count": 83,
   "metadata": {},
   "outputs": [],
   "source": [
    "def getPlaceName(jsonLine):\n",
    "    return jsonLine['place']['name']"
   ]
  },
  {
   "cell_type": "code",
   "execution_count": 84,
   "metadata": {},
   "outputs": [
    {
     "name": "stdout",
     "output_type": "stream",
     "text": [
      "The place name cannot be recognized:  Olive Garden\n",
      "The place name cannot be recognized:  John Wai Kung Fu Academy\n",
      "The place name cannot be recognized:  Queens\n",
      "The place name cannot be recognized:  Queens\n",
      "The place name cannot be recognized:  Hilton Garden Inn Texarkana\n"
     ]
    },
    {
     "data": {
      "text/plain": [
       "{'AK': 0,\n",
       " 'AL': 20,\n",
       " 'AR': 10,\n",
       " 'AS': 0,\n",
       " 'AZ': 25,\n",
       " 'CA': 356,\n",
       " 'CO': 24,\n",
       " 'CT': 3,\n",
       " 'DC': 16,\n",
       " 'DE': 3,\n",
       " 'FL': 108,\n",
       " 'GA': 38,\n",
       " 'GU': 0,\n",
       " 'HI': 0,\n",
       " 'IA': 4,\n",
       " 'ID': 1,\n",
       " 'IL': 56,\n",
       " 'IN': 11,\n",
       " 'KS': 13,\n",
       " 'KY': 10,\n",
       " 'LA': 16,\n",
       " 'MA': 26,\n",
       " 'MD': 17,\n",
       " 'ME': 1,\n",
       " 'MI': 23,\n",
       " 'MN': 14,\n",
       " 'MO': 16,\n",
       " 'MP': 0,\n",
       " 'MS': 7,\n",
       " 'MT': 6,\n",
       " 'NA': 0,\n",
       " 'NC': 29,\n",
       " 'ND': 2,\n",
       " 'NE': 8,\n",
       " 'NH': 4,\n",
       " 'NJ': 33,\n",
       " 'NM': 5,\n",
       " 'NV': 49,\n",
       " 'NY': 137,\n",
       " 'OH': 32,\n",
       " 'OK': 8,\n",
       " 'OR': 29,\n",
       " 'PA': 37,\n",
       " 'PR': 0,\n",
       " 'RI': 2,\n",
       " 'SC': 6,\n",
       " 'SD': 3,\n",
       " 'TN': 39,\n",
       " 'TX': 110,\n",
       " 'UT': 8,\n",
       " 'VA': 19,\n",
       " 'VI': 0,\n",
       " 'VT': 6,\n",
       " 'WA': 32,\n",
       " 'WI': 19,\n",
       " 'WV': 8,\n",
       " 'WY': 1}"
      ]
     },
     "execution_count": 84,
     "metadata": {},
     "output_type": "execute_result"
    }
   ],
   "source": [
    "from geopandas import GeoSeries\n",
    "from shapely.geometry import Point\n",
    "test_data_path= \"C:/Users/eddie/Desktop/Prof. Rumi Chunara/alcohol/Analysis/twitterPullExample_2017_01_03_23.json\"\n",
    "with open(test_data_path, \"rb\") as f:\n",
    "    everyLines = f.readlines()\n",
    "    for line in everyLines:\n",
    "#         try:\n",
    "        tweetInJson = json.loads(line)\n",
    "        tweetCountry = getCountryCode(tweetInJson)\n",
    "        if tweetCountry == 'US':\n",
    "            \n",
    "            tweetFullPlace = getState(tweetInJson)\n",
    "            if len(tweetFullPlace) != 2:\n",
    "                print('The place name cannot be recognized: ', tweetFullPlace)\n",
    "            else:\n",
    "                try:\n",
    "                    states_tweets_count[tweetFullPlace] += 1\n",
    "                except:\n",
    "                    print('The place name cannot be recognized: ', tweetFullPlace)\n",
    "\n",
    "                    \n",
    "                    \n",
    "states_tweets_count\n"
   ]
  },
  {
   "cell_type": "code",
   "execution_count": null,
   "metadata": {},
   "outputs": [],
   "source": []
  }
 ],
 "metadata": {
  "kernelspec": {
   "display_name": "Python 3",
   "language": "python",
   "name": "python3"
  },
  "language_info": {
   "codemirror_mode": {
    "name": "ipython",
    "version": 3
   },
   "file_extension": ".py",
   "mimetype": "text/x-python",
   "name": "python",
   "nbconvert_exporter": "python",
   "pygments_lexer": "ipython3",
   "version": "3.6.5"
  }
 },
 "nbformat": 4,
 "nbformat_minor": 2
}
