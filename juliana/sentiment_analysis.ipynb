{
 "cells": [
  {
   "cell_type": "code",
   "execution_count": 1,
   "metadata": {},
   "outputs": [],
   "source": [
    "import os\n",
    "# os.chdir('C:/Users/eddie/Desktop/Prof. Rumi Chunara/alcohol')\n",
    "import json\n",
    "import pandas as pd\n",
    "from vaderSentiment.vaderSentiment import SentimentIntensityAnalyzer "
   ]
  },
  {
   "cell_type": "code",
   "execution_count": 2,
   "metadata": {},
   "outputs": [],
   "source": [
    "month_list = ['01','02','03','04','05','06','07','08','09','10','11','12']"
   ]
  },
  {
   "cell_type": "code",
   "execution_count": 16,
   "metadata": {},
   "outputs": [],
   "source": [
    "# sentiment analysis\n",
    "def analyzeSentimentByVader(texts):\n",
    "    positive_text = []\n",
    "    neutral_text = []\n",
    "    negative_text = []\n",
    "\n",
    "    analyzer = SentimentIntensityAnalyzer()\n",
    "    for sentence in texts:\n",
    "        vs = analyzer.polarity_scores(sentence)\n",
    "    #     print(\"{:*<65} {}\".format(sentence, str(vs)))\n",
    "    #     print('------------------------')\n",
    "#         print(vs)\n",
    "        if vs['compound'] >= 0.05:\n",
    "            positive_text.append(sentence)\n",
    "        elif vs['compound'] <= 0.05 or vs['compound'] > -0.05:\n",
    "            neutral_text.append(sentence)\n",
    "        elif vs['compound'] <= -0.05:\n",
    "            negative_text.append(sentence)\n",
    "\n",
    "    return positive_text, neutral_text, negative_text"
   ]
  },
  {
   "cell_type": "code",
   "execution_count": 17,
   "metadata": {},
   "outputs": [
    {
     "name": "stdout",
     "output_type": "stream",
     "text": [
      "length of tweets in month 01: 59\n",
      "How many positive text:  22\n",
      "How many neutral text:  37\n",
      "How many negative text:  0\n"
     ]
    }
   ],
   "source": [
    "text_in_month = []\n",
    "\n",
    "filePath = '/mnt/volume/result/'\n",
    "for month in month_list:\n",
    "    user_month = set()\n",
    "    fileName = 'juliana_SF_allECigarette_2017_'+month+'_categoryKeyWord.json'\n",
    "    file = filePath + fileName\n",
    "    with open(file, \"r\") as f:\n",
    "        everyLines = f.readlines()\n",
    "        print('length of tweets in month %s: %d' % (month, len(everyLines)))\n",
    "        for line in everyLines:\n",
    "            try:\n",
    "                lineInJson = json.loads(line)\n",
    "            except:\n",
    "                print('Cannot load the line: ', line)\n",
    "            textInLine = lineInJson[\"text\"]\n",
    "#             print(textInLine)\n",
    "            text_in_month.append(textInLine)\n",
    "    \n",
    "    # get sentiment\n",
    "    positive_text, neutral_text, negative_text = analyzeSentimentByVader(text_in_month)\n",
    "    print('How many positive text: ', len(positive_text))\n",
    "    print('How many neutral text: ', len(neutral_text))\n",
    "    print('How many negative text: ', len(negative_text))\n",
    "\n",
    "    break"
   ]
  },
  {
   "cell_type": "code",
   "execution_count": null,
   "metadata": {},
   "outputs": [],
   "source": [
    "# What if I remove the link within the text?\n",
    "\n"
   ]
  }
 ],
 "metadata": {
  "kernelspec": {
   "display_name": "Python 3",
   "language": "python",
   "name": "python3"
  },
  "language_info": {
   "codemirror_mode": {
    "name": "ipython",
    "version": 3
   },
   "file_extension": ".py",
   "mimetype": "text/x-python",
   "name": "python",
   "nbconvert_exporter": "python",
   "pygments_lexer": "ipython3",
   "version": "3.7.3"
  }
 },
 "nbformat": 4,
 "nbformat_minor": 2
}
