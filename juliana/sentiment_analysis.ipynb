{
 "cells": [
  {
   "cell_type": "code",
   "execution_count": 1,
   "metadata": {},
   "outputs": [],
   "source": [
    "import os\n",
    "# os.chdir('C:/Users/eddie/Desktop/Prof. Rumi Chunara/alcohol')\n",
    "import json\n",
    "import pandas as pd\n",
    "from vaderSentiment.vaderSentiment import SentimentIntensityAnalyzer \n",
    "import re"
   ]
  },
  {
   "cell_type": "code",
   "execution_count": 2,
   "metadata": {},
   "outputs": [],
   "source": [
    "month_list = ['01','02','03','04','05','06','07','08','09','10','11','12']"
   ]
  },
  {
   "cell_type": "code",
   "execution_count": 3,
   "metadata": {},
   "outputs": [],
   "source": [
    "# sentiment analysis\n",
    "def analyzeSentimentByVader(texts):\n",
    "    positive_text = [[],[]]\n",
    "    neutral_text = [[],[]]\n",
    "    negative_text = [[],[]]\n",
    "    \n",
    "#     score_total = []    \n",
    "\n",
    "    analyzer = SentimentIntensityAnalyzer()\n",
    "    for sentence in texts:\n",
    "        vs = analyzer.polarity_scores(sentence)\n",
    "    #     print(\"{:*<65} {}\".format(sentence, str(vs)))\n",
    "    #     print('------------------------')\n",
    "#         print(vs)\n",
    "        if vs['compound'] >= 0.05:\n",
    "#             print(vs['compound'])\n",
    "            positive_text[0].append(sentence)\n",
    "            positive_text[1].append(vs)\n",
    "        elif vs['compound'] <= 0.05 and vs['compound'] > -0.05:\n",
    "#             print(vs['compound'])\n",
    "            neutral_text[0].append(sentence)\n",
    "            neutral_text[1].append(vs)\n",
    "        elif vs['compound'] <= -0.05:\n",
    "#             print(vs['compound'])\n",
    "            negative_text[0].append(sentence)\n",
    "            negative_text[1].append(vs)\n",
    "#         score_total.append(vs)\n",
    "\n",
    "    return positive_text, neutral_text, negative_text"
   ]
  },
  {
   "cell_type": "code",
   "execution_count": 4,
   "metadata": {},
   "outputs": [
    {
     "name": "stdout",
     "output_type": "stream",
     "text": [
      "length of tweets in month 01: 59\n",
      "How many positive text:  22\n",
      "How many neutral text:  29\n",
      "How many negative text:  8\n"
     ]
    }
   ],
   "source": [
    "# text with link.\n",
    "\n",
    "text_in_month = []\n",
    "\n",
    "filePath = '/mnt/volume/result/'\n",
    "for month in month_list:\n",
    "    user_month = set()\n",
    "    fileName = 'juliana_SF_allECigarette_2017_'+month+'_categoryKeyWord.json'\n",
    "    file = filePath + fileName\n",
    "    with open(file, \"r\") as f:\n",
    "        everyLines = f.readlines()\n",
    "        print('length of tweets in month %s: %d' % (month, len(everyLines)))\n",
    "        for line in everyLines:\n",
    "            try:\n",
    "                lineInJson = json.loads(line)\n",
    "            except:\n",
    "                print('Cannot load the line: ', line)\n",
    "            textInLine = lineInJson[\"text\"]\n",
    "#             print(textInLine)\n",
    "            text_in_month.append(textInLine)\n",
    "    \n",
    "    # get sentiment\n",
    "    positive_text, neutral_text, negative_text = analyzeSentimentByVader(text_in_month)\n",
    "    print('How many positive text: ', len(positive_text[0]))\n",
    "    print('How many neutral text: ', len(neutral_text[0]))\n",
    "    print('How many negative text: ', len(negative_text[0]))\n",
    "\n",
    "    break"
   ]
  },
  {
   "cell_type": "markdown",
   "metadata": {},
   "source": [
    "What if I remove the link within the text?"
   ]
  },
  {
   "cell_type": "code",
   "execution_count": 14,
   "metadata": {
    "scrolled": false
   },
   "outputs": [
    {
     "name": "stdout",
     "output_type": "stream",
     "text": [
      "length of tweets in month 01: 130\n",
      "How many positive text:  36\n",
      "How many neutral text:  68\n",
      "How many negative text:  26\n",
      "--------------------\n",
      "length of tweets in month 02: 105\n",
      "How many positive text:  35\n",
      "How many neutral text:  52\n",
      "How many negative text:  18\n",
      "--------------------\n",
      "length of tweets in month 03: 74\n",
      "How many positive text:  20\n",
      "How many neutral text:  35\n",
      "How many negative text:  19\n",
      "--------------------\n",
      "length of tweets in month 04: 92\n",
      "How many positive text:  39\n",
      "How many neutral text:  31\n",
      "How many negative text:  22\n",
      "--------------------\n"
     ]
    },
    {
     "ename": "FileNotFoundError",
     "evalue": "[Errno 2] No such file or directory: '/mnt/volume/result/juliana_SF_allECigarette_2019_05_categoryKeyWord.json'",
     "output_type": "error",
     "traceback": [
      "\u001b[0;31m---------------------------------------------------------------------------\u001b[0m",
      "\u001b[0;31mFileNotFoundError\u001b[0m                         Traceback (most recent call last)",
      "\u001b[0;32m<ipython-input-14-77544e897caf>\u001b[0m in \u001b[0;36m<module>\u001b[0;34m\u001b[0m\n\u001b[1;32m     21\u001b[0m     \u001b[0mfileName\u001b[0m \u001b[0;34m=\u001b[0m \u001b[0;34m'juliana_SF_allECigarette_2019_'\u001b[0m\u001b[0;34m+\u001b[0m\u001b[0mmonth\u001b[0m\u001b[0;34m+\u001b[0m\u001b[0;34m'_categoryKeyWord.json'\u001b[0m\u001b[0;34m\u001b[0m\u001b[0;34m\u001b[0m\u001b[0m\n\u001b[1;32m     22\u001b[0m     \u001b[0mfile\u001b[0m \u001b[0;34m=\u001b[0m \u001b[0mfilePath\u001b[0m \u001b[0;34m+\u001b[0m \u001b[0mfileName\u001b[0m\u001b[0;34m\u001b[0m\u001b[0;34m\u001b[0m\u001b[0m\n\u001b[0;32m---> 23\u001b[0;31m     \u001b[0;32mwith\u001b[0m \u001b[0mopen\u001b[0m\u001b[0;34m(\u001b[0m\u001b[0mfile\u001b[0m\u001b[0;34m,\u001b[0m \u001b[0;34m\"r\"\u001b[0m\u001b[0;34m)\u001b[0m \u001b[0;32mas\u001b[0m \u001b[0mf\u001b[0m\u001b[0;34m:\u001b[0m\u001b[0;34m\u001b[0m\u001b[0;34m\u001b[0m\u001b[0m\n\u001b[0m\u001b[1;32m     24\u001b[0m         \u001b[0meveryLines\u001b[0m \u001b[0;34m=\u001b[0m \u001b[0mf\u001b[0m\u001b[0;34m.\u001b[0m\u001b[0mreadlines\u001b[0m\u001b[0;34m(\u001b[0m\u001b[0;34m)\u001b[0m\u001b[0;34m\u001b[0m\u001b[0;34m\u001b[0m\u001b[0m\n\u001b[1;32m     25\u001b[0m         \u001b[0mprint\u001b[0m\u001b[0;34m(\u001b[0m\u001b[0;34m'length of tweets in month %s: %d'\u001b[0m \u001b[0;34m%\u001b[0m \u001b[0;34m(\u001b[0m\u001b[0mmonth\u001b[0m\u001b[0;34m,\u001b[0m \u001b[0mlen\u001b[0m\u001b[0;34m(\u001b[0m\u001b[0meveryLines\u001b[0m\u001b[0;34m)\u001b[0m\u001b[0;34m)\u001b[0m\u001b[0;34m)\u001b[0m\u001b[0;34m\u001b[0m\u001b[0;34m\u001b[0m\u001b[0m\n",
      "\u001b[0;31mFileNotFoundError\u001b[0m: [Errno 2] No such file or directory: '/mnt/volume/result/juliana_SF_allECigarette_2019_05_categoryKeyWord.json'"
     ]
    }
   ],
   "source": [
    "# text without link.\n",
    "\n",
    "# for sentence in text_in_month:\n",
    "#     tt = re.sub('https?:\\/\\/t\\.co\\/[\\s\\S]{10}', '', sentence)\n",
    "#     print(sentence)\n",
    "#     print('--------------')\n",
    "#     print(tt)\n",
    "#     print('*********************')\n",
    "\n",
    "    \n",
    "\n",
    "num_positive_in_total = []\n",
    "num_neutral_in_total = []\n",
    "num_negative_in_total = []\n",
    "\n",
    "\n",
    "filePath = '/mnt/volume/result/'\n",
    "for month in month_list:\n",
    "    text_in_month = []\n",
    "    user_month = set()\n",
    "    fileName = 'juliana_SF_allECigarette_2019_'+month+'_categoryKeyWord.json'\n",
    "    file = filePath + fileName\n",
    "    with open(file, \"r\") as f:\n",
    "        everyLines = f.readlines()\n",
    "        print('length of tweets in month %s: %d' % (month, len(everyLines)))\n",
    "        for line in everyLines:\n",
    "            try:\n",
    "                lineInJson = json.loads(line)\n",
    "            except:\n",
    "                print('Cannot load the line: ', line)\n",
    "            textInLine = lineInJson[\"text\"]\n",
    "#             print(textInLine)\n",
    "            textAfterRE = re.sub('https?:\\/\\/t\\.co\\/[\\s\\S]{10}', '', textInLine)\n",
    "            text_in_month.append(textAfterRE)\n",
    "    \n",
    "    # get sentiment\n",
    "    positive_text, neutral_text, negative_text = analyzeSentimentByVader(text_in_month)\n",
    "    num_positive = len(positive_text[0])\n",
    "    num_neutral = len(neutral_text[0])\n",
    "    num_negative = len(negative_text[0])\n",
    "    \n",
    "    num_positive_in_total.append(num_positive)\n",
    "    num_neutral_in_total.append(num_neutral)\n",
    "    num_negative_in_total.append(num_negative)\n",
    "    \n",
    "    print('How many positive text: ', num_positive)\n",
    "    print('How many neutral text: ', num_neutral)\n",
    "    print('How many negative text: ', num_negative)\n",
    "    print('--------------------')\n",
    "\n",
    "#     break\n",
    "    "
   ]
  },
  {
   "cell_type": "code",
   "execution_count": 15,
   "metadata": {},
   "outputs": [
    {
     "data": {
      "text/plain": [
       "[36, 35, 20, 39]"
      ]
     },
     "execution_count": 15,
     "metadata": {},
     "output_type": "execute_result"
    }
   ],
   "source": [
    "num_positive_in_total"
   ]
  },
  {
   "cell_type": "code",
   "execution_count": 16,
   "metadata": {
    "scrolled": true
   },
   "outputs": [
    {
     "data": {
      "text/plain": [
       "[68, 52, 35, 31]"
      ]
     },
     "execution_count": 16,
     "metadata": {},
     "output_type": "execute_result"
    }
   ],
   "source": [
    "num_neutral_in_total"
   ]
  },
  {
   "cell_type": "code",
   "execution_count": 17,
   "metadata": {},
   "outputs": [
    {
     "data": {
      "text/plain": [
       "[26, 18, 19, 22]"
      ]
     },
     "execution_count": 17,
     "metadata": {},
     "output_type": "execute_result"
    }
   ],
   "source": [
    "num_negative_in_total"
   ]
  },
  {
   "cell_type": "code",
   "execution_count": 6,
   "metadata": {},
   "outputs": [],
   "source": [
    "# print the neutral text and corresponding score\n",
    "# for index in range(len(neutral_text[0])):\n",
    "#     print(neutral_text[0][index])\n",
    "#     print(neutral_text[1][index])\n",
    "#     print('--------------------')"
   ]
  },
  {
   "cell_type": "code",
   "execution_count": null,
   "metadata": {},
   "outputs": [],
   "source": []
  }
 ],
 "metadata": {
  "kernelspec": {
   "display_name": "Python 3",
   "language": "python",
   "name": "python3"
  },
  "language_info": {
   "codemirror_mode": {
    "name": "ipython",
    "version": 3
   },
   "file_extension": ".py",
   "mimetype": "text/x-python",
   "name": "python",
   "nbconvert_exporter": "python",
   "pygments_lexer": "ipython3",
   "version": "3.7.3"
  }
 },
 "nbformat": 4,
 "nbformat_minor": 2
}
