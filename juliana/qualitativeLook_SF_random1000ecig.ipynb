{
 "cells": [
  {
   "cell_type": "code",
   "execution_count": 1,
   "metadata": {},
   "outputs": [],
   "source": [
    "import os\n",
    "# os.chdir('C:/Users/eddie/Desktop/Prof. Rumi Chunara/alcohol')\n",
    "import json\n",
    "import pandas as pd\n",
    "from vaderSentiment.vaderSentiment import SentimentIntensityAnalyzer \n",
    "import re"
   ]
  },
  {
   "cell_type": "code",
   "execution_count": 2,
   "metadata": {},
   "outputs": [],
   "source": [
    "month_list = ['04','05','06','07','08','09','10','11','12']\n",
    "month_list2 = ['01','02','03','04','05','06','07','08','09','10','11','12']\n",
    "month_list3 = ['01','02','03','04','05','06','07','08','09','10','11','12']\n",
    "month_list4 = ['01','02','03','04']"
   ]
  },
  {
   "cell_type": "code",
   "execution_count": 3,
   "metadata": {},
   "outputs": [],
   "source": [
    "# sentiment analysis\n",
    "def analyzeSentimentByVader(texts):\n",
    "    positive_text = [[],[]]\n",
    "    neutral_text = [[],[]]\n",
    "    negative_text = [[],[]]\n",
    "    \n",
    "#     score_total = []    \n",
    "\n",
    "    analyzer = SentimentIntensityAnalyzer()\n",
    "    for sentence in texts:\n",
    "        vs = analyzer.polarity_scores(sentence)\n",
    "    #     print(\"{:*<65} {}\".format(sentence, str(vs)))\n",
    "    #     print('------------------------')\n",
    "#         print(vs)\n",
    "        if vs['compound'] >= 0.05:\n",
    "#             print(vs['compound'])\n",
    "            positive_text[0].append(sentence)\n",
    "            positive_text[1].append(vs)\n",
    "        elif vs['compound'] <= 0.05 and vs['compound'] > -0.05:\n",
    "#             print(vs['compound'])\n",
    "            neutral_text[0].append(sentence)\n",
    "            neutral_text[1].append(vs)\n",
    "        elif vs['compound'] <= -0.05:\n",
    "#             print(vs['compound'])\n",
    "            negative_text[0].append(sentence)\n",
    "            negative_text[1].append(vs)\n",
    "#         score_total.append(vs)\n",
    "\n",
    "    return positive_text, neutral_text, negative_text"
   ]
  },
  {
   "cell_type": "code",
   "execution_count": 18,
   "metadata": {},
   "outputs": [
    {
     "name": "stdout",
     "output_type": "stream",
     "text": [
      "ecig tweets in SF in total:  3679\n",
      "1000\n"
     ]
    }
   ],
   "source": [
    "# text without link.\n",
    "\n",
    "everyLines = []\n",
    "\n",
    "filePath = '/mnt/volume/result/'\n",
    "for month in month_list:\n",
    "    fileName = 'juliana_SF_allECigarette_2016_'+month+'_categoryKeyWord.json'\n",
    "    file = filePath + fileName\n",
    "    with open(file, \"r\") as f:\n",
    "        fileLines = f.readlines()\n",
    "        everyLines.extend(fileLines)\n",
    "for month in month_list2:\n",
    "    fileName = 'juliana_SF_allECigarette_2017_'+month+'_categoryKeyWord.json'\n",
    "    file = filePath + fileName\n",
    "    with open(file, \"r\") as f:\n",
    "        fileLines = f.readlines()\n",
    "        everyLines.extend(fileLines)\n",
    "for month in month_list3:\n",
    "    fileName = 'juliana_SF_allECigarette_2018_'+month+'_categoryKeyWord.json'\n",
    "    file = filePath + fileName\n",
    "    with open(file, \"r\") as f:\n",
    "        fileLines = f.readlines()\n",
    "        everyLines.extend(fileLines)        \n",
    "for month in month_list4:\n",
    "    fileName = 'juliana_SF_allECigarette_2019_'+month+'_categoryKeyWord.json'\n",
    "    file = filePath + fileName\n",
    "    with open(file, \"r\") as f:\n",
    "        fileLines = f.readlines()\n",
    "        everyLines.extend(fileLines)        \n",
    "\n",
    "\n",
    "print('ecig tweets in SF in total: ', len(everyLines))\n",
    "\n",
    "saved_fileName = 'juliana_SF_allECigarette_random1000.json'\n",
    "saved_file = filePath + saved_fileName\n",
    "import random\n",
    "random.seed(36)\n",
    "randomLines_1000 = random.sample(everyLines, 1000)\n",
    "print(len(randomLines_1000))\n",
    "with open(saved_file, \"w\", encoding=\"utf-8\") as f:\n",
    "    for line in randomLines_1000:\n",
    "        f.write(line)\n",
    "\n",
    "#         print('length of tweets in month %s: %d' % (month, len(everyLines)))\n",
    "#         for line in everyLines:\n",
    "#             try:\n",
    "#                 lineInJson = json.loads(line)\n",
    "#             except:\n",
    "#                 print('Cannot load the line: ', line)\n",
    "#             textInLine = lineInJson[\"text\"]\n",
    "# #             print(textInLine)\n",
    "#             textAfterRE = re.sub('https?:\\/\\/t\\.co\\/[\\s\\S]{10}', '', textInLine)\n",
    "#             text_in_month.append(textAfterRE)\n",
    "    \n",
    "#     print('--------------------')\n",
    "\n",
    "#     break\n",
    "    "
   ]
  },
  {
   "cell_type": "code",
   "execution_count": 32,
   "metadata": {},
   "outputs": [
    {
     "name": "stdout",
     "output_type": "stream",
     "text": [
      "finished extracting text.\n"
     ]
    }
   ],
   "source": [
    "# Read file\n",
    "saved_fileName = 'juliana_SF_allECigarette_random1000.json'\n",
    "saved_file = filePath + saved_fileName\n",
    "random_1000_pureText_list = []\n",
    "with open(saved_file, \"r\", encoding=\"utf-8\") as f:\n",
    "    saved_file_lines = f.readlines()\n",
    "    for line in saved_file_lines:\n",
    "        try:\n",
    "            lineInJson = json.loads(line)\n",
    "        except:\n",
    "            print('Cannot load the line: ', line)\n",
    "        textInLine = lineInJson[\"text\"]\n",
    "        textAfterRE = re.sub('https?:\\/\\/t\\.co\\/[\\s\\S]{10}', '', textInLine)\n",
    "        random_1000_pureText_list.append(textAfterRE)\n",
    "#         print(textInLine)\n",
    "#         print('-----')\n",
    "\n",
    "print('finished extracting text.')"
   ]
  },
  {
   "cell_type": "code",
   "execution_count": 33,
   "metadata": {},
   "outputs": [
    {
     "name": "stdout",
     "output_type": "stream",
     "text": [
      "Finished writing to csv file.\n"
     ]
    }
   ],
   "source": [
    "# save it to csv file.\n",
    "import csv\n",
    "saved_csv_fileName = \"juliana_SF_allECigarette_random1000.csv\"\n",
    "saved_csv_file = filePath + saved_csv_fileName\n",
    "\n",
    "with open(saved_csv_file, 'w', encoding='utf_8_sig', newline='') as csvfile:\n",
    "    writer = csv.writer(csvfile)\n",
    "    for index in range(len(random_1000_pureText_list)):\n",
    "        writer.writerow([random_1000_pureText_list[index]])\n",
    "\n",
    "print('Finished writing to csv file.')"
   ]
  },
  {
   "cell_type": "code",
   "execution_count": null,
   "metadata": {},
   "outputs": [],
   "source": []
  },
  {
   "cell_type": "code",
   "execution_count": null,
   "metadata": {},
   "outputs": [],
   "source": []
  }
 ],
 "metadata": {
  "kernelspec": {
   "display_name": "Python 3",
   "language": "python",
   "name": "python3"
  },
  "language_info": {
   "codemirror_mode": {
    "name": "ipython",
    "version": 3
   },
   "file_extension": ".py",
   "mimetype": "text/x-python",
   "name": "python",
   "nbconvert_exporter": "python",
   "pygments_lexer": "ipython3",
   "version": "3.7.3"
  }
 },
 "nbformat": 4,
 "nbformat_minor": 2
}
