{
 "cells": [
  {
   "cell_type": "code",
   "execution_count": 1,
   "metadata": {},
   "outputs": [
    {
     "name": "stdout",
     "output_type": "stream",
     "text": [
      "0.17\n"
     ]
    }
   ],
   "source": [
    "import os\n",
    "os.chdir('C:/Users/eddie/Desktop/Prof. Rumi Chunara/alcohol')\n",
    "import pickle\n",
    "import csv\n",
    "import json\n",
    "import sklearn\n",
    "print(sklearn.__version__)\n",
    "import pandas as pd\n",
    "import numpy as np\n",
    "import sys\n",
    "from evaluation.metric import computeAccuracy, computeF1Score, computeAUC\n",
    "# from sklearn.metrics import roc_auc_score\n",
    "\n",
    "# %load_ext autoreload\n",
    "# %autoreload\n",
    "from sklearn.linear_model import LogisticRegression\n",
    "from sklearn.svm import LinearSVC\n",
    "from scipy.stats import uniform\n",
    "# %reload_ext pipelines.alcohol.AlcoholPipeline\n",
    "from pipelines.alcohol import AlcoholPipeline\n",
    "from pipelines.ecig import ECigPipeline"
   ]
  },
  {
   "cell_type": "code",
   "execution_count": 2,
   "metadata": {},
   "outputs": [
    {
     "data": {
      "text/html": [
       "<div>\n",
       "<style scoped>\n",
       "    .dataframe tbody tr th:only-of-type {\n",
       "        vertical-align: middle;\n",
       "    }\n",
       "\n",
       "    .dataframe tbody tr th {\n",
       "        vertical-align: top;\n",
       "    }\n",
       "\n",
       "    .dataframe thead th {\n",
       "        text-align: right;\n",
       "    }\n",
       "</style>\n",
       "<table border=\"1\" class=\"dataframe\">\n",
       "  <thead>\n",
       "    <tr style=\"text-align: right;\">\n",
       "      <th></th>\n",
       "      <th>_id</th>\n",
       "      <th>created_at</th>\n",
       "      <th>labels</th>\n",
       "      <th>predict</th>\n",
       "      <th>text</th>\n",
       "      <th>user</th>\n",
       "      <th>user.created_at</th>\n",
       "      <th>user.favourites_count</th>\n",
       "      <th>user.followers_count</th>\n",
       "      <th>user.friends_count</th>\n",
       "      <th>user.statuses_count</th>\n",
       "      <th>user.verified</th>\n",
       "    </tr>\n",
       "  </thead>\n",
       "  <tbody>\n",
       "    <tr>\n",
       "      <th>0</th>\n",
       "      <td>556e0ee3d6dfbb462880f0a5</td>\n",
       "      <td>Tue Jun 02 20:16:08 +0000 2015</td>\n",
       "      <td>{'alcohol': 0}</td>\n",
       "      <td>0.526050</td>\n",
       "      <td>Impatiently waiting to get our hands on the ne...</td>\n",
       "      <td>{'created_at': 'Thu Jun 12 22:14:05 +0000 2014...</td>\n",
       "      <td>Thu Jun 12 22:14:05 +0000 2014</td>\n",
       "      <td>394</td>\n",
       "      <td>407.0</td>\n",
       "      <td>1997.0</td>\n",
       "      <td>823.0</td>\n",
       "      <td>False</td>\n",
       "    </tr>\n",
       "    <tr>\n",
       "      <th>1</th>\n",
       "      <td>556e128ad6dfbb46288111e4</td>\n",
       "      <td>Tue Jun 02 20:31:44 +0000 2015</td>\n",
       "      <td>{'alcohol': 1, 'first_person': 0, 'alcohol_rel...</td>\n",
       "      <td>0.516649</td>\n",
       "      <td>Beer fans need their @ColumbusBrewing Bodhi. I...</td>\n",
       "      <td>{'created_at': 'Mon Oct 06 21:00:38 +0000 2008...</td>\n",
       "      <td>Mon Oct 06 21:00:38 +0000 2008</td>\n",
       "      <td>806</td>\n",
       "      <td>1006.0</td>\n",
       "      <td>960.0</td>\n",
       "      <td>10442.0</td>\n",
       "      <td>False</td>\n",
       "    </tr>\n",
       "    <tr>\n",
       "      <th>2</th>\n",
       "      <td>556e12e6d6dfbb462881153e</td>\n",
       "      <td>Tue Jun 02 20:33:15 +0000 2015</td>\n",
       "      <td>{'alcohol': 1, 'first_person_level': 0, 'first...</td>\n",
       "      <td>0.523513</td>\n",
       "      <td>Beer Olympics with my #1 fan and babe😍❤️ #Team...</td>\n",
       "      <td>{'created_at': 'Tue Dec 20 02:46:19 +0000 2011...</td>\n",
       "      <td>Tue Dec 20 02:46:19 +0000 2011</td>\n",
       "      <td>11662</td>\n",
       "      <td>563.0</td>\n",
       "      <td>356.0</td>\n",
       "      <td>13940.0</td>\n",
       "      <td>False</td>\n",
       "    </tr>\n",
       "  </tbody>\n",
       "</table>\n",
       "</div>"
      ],
      "text/plain": [
       "                        _id                      created_at  \\\n",
       "0  556e0ee3d6dfbb462880f0a5  Tue Jun 02 20:16:08 +0000 2015   \n",
       "1  556e128ad6dfbb46288111e4  Tue Jun 02 20:31:44 +0000 2015   \n",
       "2  556e12e6d6dfbb462881153e  Tue Jun 02 20:33:15 +0000 2015   \n",
       "\n",
       "                                              labels   predict  \\\n",
       "0                                     {'alcohol': 0}  0.526050   \n",
       "1  {'alcohol': 1, 'first_person': 0, 'alcohol_rel...  0.516649   \n",
       "2  {'alcohol': 1, 'first_person_level': 0, 'first...  0.523513   \n",
       "\n",
       "                                                text  \\\n",
       "0  Impatiently waiting to get our hands on the ne...   \n",
       "1  Beer fans need their @ColumbusBrewing Bodhi. I...   \n",
       "2  Beer Olympics with my #1 fan and babe😍❤️ #Team...   \n",
       "\n",
       "                                                user  \\\n",
       "0  {'created_at': 'Thu Jun 12 22:14:05 +0000 2014...   \n",
       "1  {'created_at': 'Mon Oct 06 21:00:38 +0000 2008...   \n",
       "2  {'created_at': 'Tue Dec 20 02:46:19 +0000 2011...   \n",
       "\n",
       "                  user.created_at user.favourites_count  user.followers_count  \\\n",
       "0  Thu Jun 12 22:14:05 +0000 2014                   394                 407.0   \n",
       "1  Mon Oct 06 21:00:38 +0000 2008                   806                1006.0   \n",
       "2  Tue Dec 20 02:46:19 +0000 2011                 11662                 563.0   \n",
       "\n",
       "   user.friends_count  user.statuses_count user.verified  \n",
       "0              1997.0                823.0         False  \n",
       "1               960.0              10442.0         False  \n",
       "2               356.0              13940.0         False  "
      ]
     },
     "execution_count": 2,
     "metadata": {},
     "output_type": "execute_result"
    }
   ],
   "source": [
    "# # test ----------\n",
    "df_test = pd.read_csv(\"./data/alcohol_training_instances.csv\")\n",
    "df_test[:3]"
   ]
  },
  {
   "cell_type": "code",
   "execution_count": 3,
   "metadata": {},
   "outputs": [
    {
     "name": "stdout",
     "output_type": "stream",
     "text": [
      "length of X_train:  801\n",
      "length of X_test:  201\n",
      "length of y_train:  801\n",
      "length of y_test:  201\n"
     ]
    }
   ],
   "source": [
    "# read the data\n",
    "filePath = \"C:/Users/eddie/Desktop/Prof. Rumi Chunara/alcohol/data/labeled_figure_eight_csv_1000.csv\"\n",
    "df = pd.read_csv(filePath)\n",
    "df.is_this_posting_relevant_to_ecigarette[:3]\n",
    "\n",
    "# Deal with ecig_labels.\n",
    "ecig_labels = []\n",
    "# extracting pre-labeled classification\n",
    "for i in range(0,len(df.is_this_posting_relevant_to_ecigarette)):\n",
    "#     print(df.is_this_posting_relevant_to_ecigarette[i])\n",
    "    if df.is_this_posting_relevant_to_ecigarette[i] == 'ECIG':\n",
    "        ecig_labels.append(1)\n",
    "    elif df.is_this_posting_relevant_to_ecigarette[i] == 'NOT-ECIG':\n",
    "        ecig_labels.append(0)\n",
    "    else:\n",
    "        print('Should not go to here')\n",
    "# ecig_labels\n",
    "\n",
    "\n",
    "from sklearn.cross_validation import train_test_split\n",
    "X_train, X_test, y_train, y_test = train_test_split(df.realdonaldtrump_foxandfriends_smoke_blowing_up_your_orange_ass, ecig_labels, test_size=0.2, random_state=26)\n",
    "print('length of X_train: ', len(X_train))\n",
    "print('length of X_test: ', len(X_test))\n",
    "print('length of y_train: ', len(y_train))\n",
    "print('length of y_test: ', len(y_test))\n",
    "# X_train\n",
    "# y_train\n",
    "\n",
    "\n",
    "# # test ----------\n",
    "# df_test = pd.read_csv(\"./data/alcohol_training_instances.csv\")\n",
    "# df_test\n",
    "# df_test.labels[1]\n",
    "\n",
    "# alc_labels = []\n",
    "# # extracting pre-labeled classification\n",
    "# for i in range(0,len(df_test.labels)):\n",
    "#     alc_labels.append(df_test.labels[i][12])\n",
    "# alc_labels = list(map(int, alc_labels))\n",
    "\n",
    "# from sklearn.cross_validation import train_test_split\n",
    "# X_train, X_test, y_train, y_test = train_test_split(df_test, alc_labels, test_size=0.1, random_state=26)\n",
    "# X_train"
   ]
  },
  {
   "cell_type": "code",
   "execution_count": 4,
   "metadata": {},
   "outputs": [
    {
     "data": {
      "text/plain": [
       "571"
      ]
     },
     "execution_count": 4,
     "metadata": {},
     "output_type": "execute_result"
    }
   ],
   "source": [
    "sum(ecig_labels)"
   ]
  },
  {
   "cell_type": "code",
   "execution_count": 5,
   "metadata": {
    "scrolled": true
   },
   "outputs": [
    {
     "data": {
      "text/plain": [
       "[('tfidf',\n",
       "  TfidfVectorizer(analyzer='word', binary=False, decode_error='strict',\n",
       "          dtype=<class 'numpy.int64'>, encoding='utf-8', input='content',\n",
       "          lowercase=True, max_df=1.0, max_features=None, min_df=1,\n",
       "          ngram_range=(1, 3), norm='l2', preprocessor=None, smooth_idf=True,\n",
       "          stop_words=None, strip_accents=None, sublinear_tf=False,\n",
       "          token_pattern='(?u)\\\\b\\\\w\\\\w+\\\\b', tokenizer=None, use_idf=True,\n",
       "          vocabulary=None)),\n",
       " ('clf',\n",
       "  LogisticRegression(C=1.0, class_weight=None, dual=False, fit_intercept=True,\n",
       "            intercept_scaling=1, max_iter=100, multi_class='ovr', n_jobs=1,\n",
       "            penalty='l2', random_state=None, solver='liblinear', tol=0.0001,\n",
       "            verbose=0, warm_start=False))]"
      ]
     },
     "execution_count": 5,
     "metadata": {},
     "output_type": "execute_result"
    }
   ],
   "source": [
    "# LR\n",
    "clf_ecig_LR = ECigPipeline().pipeline(LogisticRegression())\n",
    "clf_ecig_LR.steps"
   ]
  },
  {
   "cell_type": "code",
   "execution_count": 6,
   "metadata": {},
   "outputs": [],
   "source": [
    "# Fit the data into model to see the performance."
   ]
  },
  {
   "cell_type": "code",
   "execution_count": 7,
   "metadata": {},
   "outputs": [
    {
     "name": "stderr",
     "output_type": "stream",
     "text": [
      "D:\\Anaconda3\\envs\\py36\\lib\\site-packages\\sklearn\\feature_extraction\\text.py:1015: FutureWarning: Conversion of the second argument of issubdtype from `float` to `np.floating` is deprecated. In future, it will be treated as `np.float64 == np.dtype(float).type`.\n",
      "  if hasattr(X, 'dtype') and np.issubdtype(X.dtype, np.float):\n"
     ]
    },
    {
     "data": {
      "text/plain": [
       "Pipeline(steps=[('tfidf', TfidfVectorizer(analyzer='word', binary=False, decode_error='strict',\n",
       "        dtype=<class 'numpy.int64'>, encoding='utf-8', input='content',\n",
       "        lowercase=True, max_df=1.0, max_features=None, min_df=1,\n",
       "        ngram_range=(1, 3), norm='l2', preprocessor=None, smooth_idf=True,\n",
       " ...ty='l2', random_state=None, solver='liblinear', tol=0.0001,\n",
       "          verbose=0, warm_start=False))])"
      ]
     },
     "execution_count": 7,
     "metadata": {},
     "output_type": "execute_result"
    }
   ],
   "source": [
    "clf_ecig_LR.fit(X_train, y_train)"
   ]
  },
  {
   "cell_type": "code",
   "execution_count": 8,
   "metadata": {
    "scrolled": true
   },
   "outputs": [
    {
     "name": "stdout",
     "output_type": "stream",
     "text": [
      "length of total comps:  201\n",
      "62 different item in whole dataset\n",
      "accuracy: 69.154229%\n",
      "F1 Score:  0.75\n",
      "alcohol LR AUC:  0.8499701729966196\n"
     ]
    },
    {
     "name": "stderr",
     "output_type": "stream",
     "text": [
      "D:\\Anaconda3\\envs\\py36\\lib\\site-packages\\sklearn\\feature_extraction\\text.py:1015: FutureWarning: Conversion of the second argument of issubdtype from `float` to `np.floating` is deprecated. In future, it will be treated as `np.float64 == np.dtype(float).type`.\n",
      "  if hasattr(X, 'dtype') and np.issubdtype(X.dtype, np.float):\n"
     ]
    }
   ],
   "source": [
    "# predict in testing set.\n",
    "y_ecig_LR = clf_ecig_LR.predict(X_test)\n",
    "# print('length of testing set: ', len(y_alc_initial))\n",
    "computeAccuracy(y_ecig_LR, y_test)\n",
    "f1_score_LR = computeF1Score(y_test, y_ecig_LR)\n",
    "print('F1 Score: ', f1_score_LR)\n",
    "auc_score_LR = computeAUC(clf_ecig_LR, X_test, y_test, plot=False)\n",
    "# auc_score = computeAUC(clf_alc_LR_updateParams, X_train, y_train, X_test, y_test, plot=True, plotTitle=\"Alcohol ROC Curve\")\n",
    "print('alcohol LR AUC: ', auc_score_LR)"
   ]
  },
  {
   "cell_type": "markdown",
   "metadata": {},
   "source": [
    "We can see the results is fine. Now we will use this classifier on our San Francisco data to see how many of them are e-cig related."
   ]
  },
  {
   "cell_type": "code",
   "execution_count": 9,
   "metadata": {},
   "outputs": [
    {
     "data": {
      "text/plain": [
       "pandas.core.series.Series"
      ]
     },
     "execution_count": 9,
     "metadata": {},
     "output_type": "execute_result"
    }
   ],
   "source": [
    "type(X_train)"
   ]
  },
  {
   "cell_type": "code",
   "execution_count": 10,
   "metadata": {},
   "outputs": [],
   "source": [
    "SF_filePath = 'C:/Users/eddie/Desktop/Prof. Rumi Chunara/alcohol/data/juliana_allSF_2018_01.json'\n",
    "df_SF_01 = pd.read_json(SF_filePath, lines=True, encoding='utf-8') \n"
   ]
  },
  {
   "cell_type": "code",
   "execution_count": 11,
   "metadata": {},
   "outputs": [
    {
     "data": {
      "text/html": [
       "<div>\n",
       "<style scoped>\n",
       "    .dataframe tbody tr th:only-of-type {\n",
       "        vertical-align: middle;\n",
       "    }\n",
       "\n",
       "    .dataframe tbody tr th {\n",
       "        vertical-align: top;\n",
       "    }\n",
       "\n",
       "    .dataframe thead th {\n",
       "        text-align: right;\n",
       "    }\n",
       "</style>\n",
       "<table border=\"1\" class=\"dataframe\">\n",
       "  <thead>\n",
       "    <tr style=\"text-align: right;\">\n",
       "      <th></th>\n",
       "      <th>contributors</th>\n",
       "      <th>coordinates</th>\n",
       "      <th>created_at</th>\n",
       "      <th>display_text_range</th>\n",
       "      <th>entities</th>\n",
       "      <th>extended_entities</th>\n",
       "      <th>extended_tweet</th>\n",
       "      <th>favorite_count</th>\n",
       "      <th>favorited</th>\n",
       "      <th>filter_level</th>\n",
       "      <th>...</th>\n",
       "      <th>quoted_status_id</th>\n",
       "      <th>quoted_status_id_str</th>\n",
       "      <th>reply_count</th>\n",
       "      <th>retweet_count</th>\n",
       "      <th>retweeted</th>\n",
       "      <th>source</th>\n",
       "      <th>text</th>\n",
       "      <th>timestamp_ms</th>\n",
       "      <th>truncated</th>\n",
       "      <th>user</th>\n",
       "    </tr>\n",
       "  </thead>\n",
       "  <tbody>\n",
       "    <tr>\n",
       "      <th>0</th>\n",
       "      <td>NaN</td>\n",
       "      <td>None</td>\n",
       "      <td>2018-01-03 03:55:10</td>\n",
       "      <td>[0, 83]</td>\n",
       "      <td>{'symbols': [], 'urls': [{'expanded_url': 'htt...</td>\n",
       "      <td>NaN</td>\n",
       "      <td>NaN</td>\n",
       "      <td>0</td>\n",
       "      <td>False</td>\n",
       "      <td>low</td>\n",
       "      <td>...</td>\n",
       "      <td>9.482238e+17</td>\n",
       "      <td>9.482238e+17</td>\n",
       "      <td>0</td>\n",
       "      <td>0</td>\n",
       "      <td>False</td>\n",
       "      <td>&lt;a href=\"http://twitter.com/download/iphone\" r...</td>\n",
       "      <td>Still totally love my boyfriend even if he can...</td>\n",
       "      <td>2018-01-03 03:55:10.234</td>\n",
       "      <td>False</td>\n",
       "      <td>{'location': 'Tenderloin, San Francisco', 'def...</td>\n",
       "    </tr>\n",
       "    <tr>\n",
       "      <th>1</th>\n",
       "      <td>NaN</td>\n",
       "      <td>None</td>\n",
       "      <td>2018-01-03 03:17:52</td>\n",
       "      <td>[17, 47]</td>\n",
       "      <td>{'symbols': [], 'urls': [], 'hashtags': [], 'u...</td>\n",
       "      <td>NaN</td>\n",
       "      <td>NaN</td>\n",
       "      <td>0</td>\n",
       "      <td>False</td>\n",
       "      <td>low</td>\n",
       "      <td>...</td>\n",
       "      <td>NaN</td>\n",
       "      <td>NaN</td>\n",
       "      <td>0</td>\n",
       "      <td>0</td>\n",
       "      <td>False</td>\n",
       "      <td>&lt;a href=\"http://twitter.com/download/iphone\" r...</td>\n",
       "      <td>@daniellenatoli1 @ me in a pic &amp;amp; then maybe</td>\n",
       "      <td>2018-01-03 03:17:52.590</td>\n",
       "      <td>False</td>\n",
       "      <td>{'location': 'Brooklyn, New York', 'default_pr...</td>\n",
       "    </tr>\n",
       "    <tr>\n",
       "      <th>2</th>\n",
       "      <td>NaN</td>\n",
       "      <td>None</td>\n",
       "      <td>2018-01-03 03:47:10</td>\n",
       "      <td>[117, 140]</td>\n",
       "      <td>{'symbols': [], 'urls': [{'expanded_url': 'htt...</td>\n",
       "      <td>NaN</td>\n",
       "      <td>{'display_text_range': [128, 169], 'entities':...</td>\n",
       "      <td>0</td>\n",
       "      <td>False</td>\n",
       "      <td>low</td>\n",
       "      <td>...</td>\n",
       "      <td>NaN</td>\n",
       "      <td>NaN</td>\n",
       "      <td>0</td>\n",
       "      <td>0</td>\n",
       "      <td>False</td>\n",
       "      <td>&lt;a href=\"http://twitter.com/download/iphone\" r...</td>\n",
       "      <td>@imillhiser @IPM_GS @benwikler @RVAwonk @AdamP...</td>\n",
       "      <td>2018-01-03 03:47:10.777</td>\n",
       "      <td>True</td>\n",
       "      <td>{'location': 'San Francisco, CA', 'default_pro...</td>\n",
       "    </tr>\n",
       "  </tbody>\n",
       "</table>\n",
       "<p>3 rows × 34 columns</p>\n",
       "</div>"
      ],
      "text/plain": [
       "   contributors coordinates          created_at display_text_range  \\\n",
       "0           NaN        None 2018-01-03 03:55:10            [0, 83]   \n",
       "1           NaN        None 2018-01-03 03:17:52           [17, 47]   \n",
       "2           NaN        None 2018-01-03 03:47:10         [117, 140]   \n",
       "\n",
       "                                            entities extended_entities  \\\n",
       "0  {'symbols': [], 'urls': [{'expanded_url': 'htt...               NaN   \n",
       "1  {'symbols': [], 'urls': [], 'hashtags': [], 'u...               NaN   \n",
       "2  {'symbols': [], 'urls': [{'expanded_url': 'htt...               NaN   \n",
       "\n",
       "                                      extended_tweet  favorite_count  \\\n",
       "0                                                NaN               0   \n",
       "1                                                NaN               0   \n",
       "2  {'display_text_range': [128, 169], 'entities':...               0   \n",
       "\n",
       "   favorited filter_level                        ...                          \\\n",
       "0      False          low                        ...                           \n",
       "1      False          low                        ...                           \n",
       "2      False          low                        ...                           \n",
       "\n",
       "  quoted_status_id  quoted_status_id_str  reply_count retweet_count  \\\n",
       "0     9.482238e+17          9.482238e+17            0             0   \n",
       "1              NaN                   NaN            0             0   \n",
       "2              NaN                   NaN            0             0   \n",
       "\n",
       "   retweeted                                             source  \\\n",
       "0      False  <a href=\"http://twitter.com/download/iphone\" r...   \n",
       "1      False  <a href=\"http://twitter.com/download/iphone\" r...   \n",
       "2      False  <a href=\"http://twitter.com/download/iphone\" r...   \n",
       "\n",
       "                                                text            timestamp_ms  \\\n",
       "0  Still totally love my boyfriend even if he can... 2018-01-03 03:55:10.234   \n",
       "1    @daniellenatoli1 @ me in a pic &amp; then maybe 2018-01-03 03:17:52.590   \n",
       "2  @imillhiser @IPM_GS @benwikler @RVAwonk @AdamP... 2018-01-03 03:47:10.777   \n",
       "\n",
       "   truncated                                               user  \n",
       "0      False  {'location': 'Tenderloin, San Francisco', 'def...  \n",
       "1      False  {'location': 'Brooklyn, New York', 'default_pr...  \n",
       "2       True  {'location': 'San Francisco, CA', 'default_pro...  \n",
       "\n",
       "[3 rows x 34 columns]"
      ]
     },
     "execution_count": 11,
     "metadata": {},
     "output_type": "execute_result"
    }
   ],
   "source": [
    "df_SF_01[:3]"
   ]
  },
  {
   "cell_type": "code",
   "execution_count": 12,
   "metadata": {},
   "outputs": [
    {
     "data": {
      "text/plain": [
       "0    Still totally love my boyfriend even if he can...\n",
       "1      @daniellenatoli1 @ me in a pic &amp; then maybe\n",
       "2    @imillhiser @IPM_GS @benwikler @RVAwonk @AdamP...\n",
       "Name: text, dtype: object"
      ]
     },
     "execution_count": 12,
     "metadata": {},
     "output_type": "execute_result"
    }
   ],
   "source": [
    "df_SF_01.text[:3]"
   ]
  },
  {
   "cell_type": "code",
   "execution_count": 13,
   "metadata": {},
   "outputs": [
    {
     "data": {
      "text/plain": [
       "pandas.core.series.Series"
      ]
     },
     "execution_count": 13,
     "metadata": {},
     "output_type": "execute_result"
    }
   ],
   "source": [
    "type(df_SF_01.text)"
   ]
  },
  {
   "cell_type": "code",
   "execution_count": 14,
   "metadata": {},
   "outputs": [
    {
     "name": "stdout",
     "output_type": "stream",
     "text": [
      "length of San Francisco data:  278884\n"
     ]
    },
    {
     "name": "stderr",
     "output_type": "stream",
     "text": [
      "D:\\Anaconda3\\envs\\py36\\lib\\site-packages\\sklearn\\feature_extraction\\text.py:1015: FutureWarning: Conversion of the second argument of issubdtype from `float` to `np.floating` is deprecated. In future, it will be treated as `np.float64 == np.dtype(float).type`.\n",
      "  if hasattr(X, 'dtype') and np.issubdtype(X.dtype, np.float):\n"
     ]
    },
    {
     "data": {
      "text/plain": [
       "array([1, 1, 0, ..., 1, 1, 1])"
      ]
     },
     "execution_count": 14,
     "metadata": {},
     "output_type": "execute_result"
    }
   ],
   "source": [
    "print('length of San Francisco data: ', len(df_SF_01))\n",
    "y_SF_LR = clf_ecig_LR.predict(df_SF_01.text)\n",
    "y_SF_LR"
   ]
  },
  {
   "cell_type": "code",
   "execution_count": 15,
   "metadata": {},
   "outputs": [
    {
     "data": {
      "text/plain": [
       "201606"
      ]
     },
     "execution_count": 15,
     "metadata": {},
     "output_type": "execute_result"
    }
   ],
   "source": [
    "sum(y_SF_LR)"
   ]
  },
  {
   "cell_type": "code",
   "execution_count": 16,
   "metadata": {},
   "outputs": [
    {
     "data": {
      "text/plain": [
       "array([1, 1, 0, 1, 1, 0, 1, 1, 1, 1, 1, 1, 0, 1, 1, 1, 1, 0, 1, 0])"
      ]
     },
     "execution_count": 16,
     "metadata": {},
     "output_type": "execute_result"
    }
   ],
   "source": [
    "y_SF_LR[:20]"
   ]
  },
  {
   "cell_type": "code",
   "execution_count": 17,
   "metadata": {},
   "outputs": [
    {
     "name": "stdout",
     "output_type": "stream",
     "text": [
      "Still totally love my boyfriend even if he can't ride a bike. We'll take the bus... https://t.co/c1S1OTqPfA\n",
      "------------\n",
      "@daniellenatoli1 @ me in a pic &amp; then maybe\n",
      "------------\n",
      "@imillhiser @IPM_GS @benwikler @RVAwonk @AdamParkhomenko @SarahLerner @brianbeutler @cristianafarias @jdawsey1… https://t.co/Bf2nsE2POu\n",
      "------------\n",
      "@lilnatttt make your mind up, i need you to make your mind up\n",
      "------------\n",
      "@NatGeo .@NatGeo's book \"Those Inventive Americans\" emphasizes how original some human beings are and how their cre… https://t.co/Ojyp84kFGU\n",
      "------------\n",
      "te amo te amo te amo https://t.co/anZ0k4S8xy\n",
      "------------\n",
      "@her_na_lnr Меня уже ничего не удивляет. Лучше бы легализировали LSD.\n",
      "------------\n",
      "Most copped on Restocks last week?\n",
      "------------\n",
      "@matthewherper @daviesbj @jgreid @adamfeuerstein @Dr__Guess @YoniFreedhoff And that says a lot\n",
      "------------\n",
      "Jeremy Lamb shooting 2/3 from 3pt range. 8 points showing some good spot up shooting.\n",
      "------------\n",
      "TEST_LAT/LON: 7f521b31-f8d8-4c2e-85d2-ddb82626a1b8\n",
      "------------\n",
      "How much would y’all pay for someone to cook you breakfast, lunch and dinner  for a week?\n",
      "------------\n",
      "“There’s a Kremlin on the wing!” https://t.co/1ilynBLtIA\n",
      "------------\n",
      "TEST_LAT/LON: 83a9d6f8-3797-42ed-8679-ab75667ba50a\n",
      "------------\n",
      "Yoooo😂😂😂 so many people triggered https://t.co/xVOsg46B1I\n",
      "------------\n",
      "People go to Cochella to say they went to Cochella. Cochella sucks\n",
      "------------\n",
      "I'm a much better person when I make time for yoga\n",
      "------------\n",
      "https://t.co/6V9BUBPrZW\n",
      "------------\n",
      "man idk if i feel better or worse i’m kms\n",
      "------------\n",
      "Is that a true story? #Oregon https://t.co/olV7n6AEaz\n",
      "------------\n"
     ]
    }
   ],
   "source": [
    "for text in df_SF_01.text[:20]:\n",
    "    print(text)\n",
    "    print('------------')"
   ]
  },
  {
   "cell_type": "code",
   "execution_count": 18,
   "metadata": {},
   "outputs": [
    {
     "data": {
      "text/plain": [
       "[('tfidf',\n",
       "  TfidfVectorizer(analyzer='word', binary=False, decode_error='strict',\n",
       "          dtype=<class 'numpy.int64'>, encoding='utf-8', input='content',\n",
       "          lowercase=True, max_df=1.0, max_features=None, min_df=1,\n",
       "          ngram_range=(1, 3), norm='l2', preprocessor=None, smooth_idf=True,\n",
       "          stop_words=None, strip_accents=None, sublinear_tf=False,\n",
       "          token_pattern='(?u)\\\\b\\\\w\\\\w+\\\\b', tokenizer=None, use_idf=True,\n",
       "          vocabulary=None)),\n",
       " ('clf',\n",
       "  LogisticRegression(C=1.0, class_weight=None, dual=False, fit_intercept=True,\n",
       "            intercept_scaling=1, max_iter=100, multi_class='ovr', n_jobs=1,\n",
       "            penalty='l2', random_state=None, solver='liblinear', tol=0.0001,\n",
       "            verbose=0, warm_start=False))]"
      ]
     },
     "execution_count": 18,
     "metadata": {},
     "output_type": "execute_result"
    }
   ],
   "source": [
    "clf_ecig_LR.steps"
   ]
  },
  {
   "cell_type": "code",
   "execution_count": 19,
   "metadata": {},
   "outputs": [],
   "source": [
    "clf_ecig_LR.steps\n",
    "LR_ecig = clf_ecig_LR.steps[1][1]\n",
    "# clf_ecig_LR.steps[0][1].tfidf"
   ]
  },
  {
   "cell_type": "code",
   "execution_count": 20,
   "metadata": {},
   "outputs": [],
   "source": [
    "coefficients = LR_ecig.coef_.tolist()[0]"
   ]
  },
  {
   "cell_type": "code",
   "execution_count": 21,
   "metadata": {},
   "outputs": [
    {
     "data": {
      "text/plain": [
       "19904"
      ]
     },
     "execution_count": 21,
     "metadata": {},
     "output_type": "execute_result"
    }
   ],
   "source": [
    "len(coefficients)"
   ]
  },
  {
   "cell_type": "code",
   "execution_count": 22,
   "metadata": {},
   "outputs": [
    {
     "name": "stdout",
     "output_type": "stream",
     "text": [
      "length of features:  19904\n"
     ]
    },
    {
     "data": {
      "text/plain": [
       "list"
      ]
     },
     "execution_count": 22,
     "metadata": {},
     "output_type": "execute_result"
    }
   ],
   "source": [
    "tfidf_ecig = clf_ecig_LR.get_params()['tfidf']\n",
    "features = tfidf_ecig.get_feature_names()\n",
    "print('length of features: ', len(features))\n",
    "type(features)"
   ]
  },
  {
   "cell_type": "code",
   "execution_count": 23,
   "metadata": {},
   "outputs": [
    {
     "data": {
      "text/html": [
       "<div>\n",
       "<style scoped>\n",
       "    .dataframe tbody tr th:only-of-type {\n",
       "        vertical-align: middle;\n",
       "    }\n",
       "\n",
       "    .dataframe tbody tr th {\n",
       "        vertical-align: top;\n",
       "    }\n",
       "\n",
       "    .dataframe thead th {\n",
       "        text-align: right;\n",
       "    }\n",
       "</style>\n",
       "<table border=\"1\" class=\"dataframe\">\n",
       "  <thead>\n",
       "    <tr style=\"text-align: right;\">\n",
       "      <th></th>\n",
       "      <th>features</th>\n",
       "      <th>coefficients</th>\n",
       "    </tr>\n",
       "  </thead>\n",
       "  <tbody>\n",
       "    <tr>\n",
       "      <th>8951</th>\n",
       "      <td>juul</td>\n",
       "      <td>3.204274</td>\n",
       "    </tr>\n",
       "    <tr>\n",
       "      <th>17589</th>\n",
       "      <td>vape</td>\n",
       "      <td>2.814391</td>\n",
       "    </tr>\n",
       "    <tr>\n",
       "      <th>18016</th>\n",
       "      <td>vaping</td>\n",
       "      <td>1.738162</td>\n",
       "    </tr>\n",
       "    <tr>\n",
       "      <th>11014</th>\n",
       "      <td>my</td>\n",
       "      <td>1.016856</td>\n",
       "    </tr>\n",
       "    <tr>\n",
       "      <th>11099</th>\n",
       "      <td>my juul</td>\n",
       "      <td>0.839300</td>\n",
       "    </tr>\n",
       "    <tr>\n",
       "      <th>12920</th>\n",
       "      <td>pods</td>\n",
       "      <td>0.780632</td>\n",
       "    </tr>\n",
       "    <tr>\n",
       "      <th>16015</th>\n",
       "      <td>the juul</td>\n",
       "      <td>0.728589</td>\n",
       "    </tr>\n",
       "    <tr>\n",
       "      <th>9073</th>\n",
       "      <td>juul pods</td>\n",
       "      <td>0.634277</td>\n",
       "    </tr>\n",
       "    <tr>\n",
       "      <th>10488</th>\n",
       "      <td>me</td>\n",
       "      <td>0.615104</td>\n",
       "    </tr>\n",
       "    <tr>\n",
       "      <th>2878</th>\n",
       "      <td>can</td>\n",
       "      <td>0.579114</td>\n",
       "    </tr>\n",
       "    <tr>\n",
       "      <th>6205</th>\n",
       "      <td>get</td>\n",
       "      <td>0.570759</td>\n",
       "    </tr>\n",
       "    <tr>\n",
       "      <th>17950</th>\n",
       "      <td>vapes</td>\n",
       "      <td>0.570529</td>\n",
       "    </tr>\n",
       "    <tr>\n",
       "      <th>7236</th>\n",
       "      <td>hit</td>\n",
       "      <td>0.550110</td>\n",
       "    </tr>\n",
       "    <tr>\n",
       "      <th>7999</th>\n",
       "      <td>in</td>\n",
       "      <td>0.544854</td>\n",
       "    </tr>\n",
       "    <tr>\n",
       "      <th>8129</th>\n",
       "      <td>in the</td>\n",
       "      <td>0.501707</td>\n",
       "    </tr>\n",
       "    <tr>\n",
       "      <th>19590</th>\n",
       "      <td>you</td>\n",
       "      <td>0.491827</td>\n",
       "    </tr>\n",
       "    <tr>\n",
       "      <th>11182</th>\n",
       "      <td>my vape</td>\n",
       "      <td>0.479689</td>\n",
       "    </tr>\n",
       "    <tr>\n",
       "      <th>7273</th>\n",
       "      <td>hitting</td>\n",
       "      <td>0.463396</td>\n",
       "    </tr>\n",
       "    <tr>\n",
       "      <th>13594</th>\n",
       "      <td>rip</td>\n",
       "      <td>0.445243</td>\n",
       "    </tr>\n",
       "    <tr>\n",
       "      <th>16779</th>\n",
       "      <td>to</td>\n",
       "      <td>0.436759</td>\n",
       "    </tr>\n",
       "    <tr>\n",
       "      <th>18916</th>\n",
       "      <td>when</td>\n",
       "      <td>0.422221</td>\n",
       "    </tr>\n",
       "    <tr>\n",
       "      <th>17874</th>\n",
       "      <td>vapenation</td>\n",
       "      <td>0.415354</td>\n",
       "    </tr>\n",
       "    <tr>\n",
       "      <th>9152</th>\n",
       "      <td>juuls</td>\n",
       "      <td>0.402899</td>\n",
       "    </tr>\n",
       "    <tr>\n",
       "      <th>4513</th>\n",
       "      <td>do</td>\n",
       "      <td>0.396484</td>\n",
       "    </tr>\n",
       "    <tr>\n",
       "      <th>17655</th>\n",
       "      <td>vape juice</td>\n",
       "      <td>0.395593</td>\n",
       "    </tr>\n",
       "    <tr>\n",
       "      <th>2702</th>\n",
       "      <td>buy</td>\n",
       "      <td>0.391937</td>\n",
       "    </tr>\n",
       "    <tr>\n",
       "      <th>17835</th>\n",
       "      <td>vapelife</td>\n",
       "      <td>0.376761</td>\n",
       "    </tr>\n",
       "    <tr>\n",
       "      <th>8957</th>\n",
       "      <td>juul and</td>\n",
       "      <td>0.376107</td>\n",
       "    </tr>\n",
       "    <tr>\n",
       "      <th>8807</th>\n",
       "      <td>juice</td>\n",
       "      <td>0.374643</td>\n",
       "    </tr>\n",
       "    <tr>\n",
       "      <th>5147</th>\n",
       "      <td>every</td>\n",
       "      <td>0.370848</td>\n",
       "    </tr>\n",
       "    <tr>\n",
       "      <th>...</th>\n",
       "      <td>...</td>\n",
       "      <td>...</td>\n",
       "    </tr>\n",
       "    <tr>\n",
       "      <th>7409</th>\n",
       "      <td>hours</td>\n",
       "      <td>-0.325319</td>\n",
       "    </tr>\n",
       "    <tr>\n",
       "      <th>18251</th>\n",
       "      <td>vapors</td>\n",
       "      <td>-0.326621</td>\n",
       "    </tr>\n",
       "    <tr>\n",
       "      <th>13690</th>\n",
       "      <td>rub</td>\n",
       "      <td>-0.330565</td>\n",
       "    </tr>\n",
       "    <tr>\n",
       "      <th>18759</th>\n",
       "      <td>weed</td>\n",
       "      <td>-0.331737</td>\n",
       "    </tr>\n",
       "    <tr>\n",
       "      <th>19527</th>\n",
       "      <td>yes</td>\n",
       "      <td>-0.346890</td>\n",
       "    </tr>\n",
       "    <tr>\n",
       "      <th>10959</th>\n",
       "      <td>much</td>\n",
       "      <td>-0.347542</td>\n",
       "    </tr>\n",
       "    <tr>\n",
       "      <th>15472</th>\n",
       "      <td>swishers</td>\n",
       "      <td>-0.348019</td>\n",
       "    </tr>\n",
       "    <tr>\n",
       "      <th>2734</th>\n",
       "      <td>by</td>\n",
       "      <td>-0.356983</td>\n",
       "    </tr>\n",
       "    <tr>\n",
       "      <th>9221</th>\n",
       "      <td>keep</td>\n",
       "      <td>-0.358097</td>\n",
       "    </tr>\n",
       "    <tr>\n",
       "      <th>15577</th>\n",
       "      <td>taste</td>\n",
       "      <td>-0.361313</td>\n",
       "    </tr>\n",
       "    <tr>\n",
       "      <th>9399</th>\n",
       "      <td>krave</td>\n",
       "      <td>-0.365375</td>\n",
       "    </tr>\n",
       "    <tr>\n",
       "      <th>14582</th>\n",
       "      <td>smokey</td>\n",
       "      <td>-0.371637</td>\n",
       "    </tr>\n",
       "    <tr>\n",
       "      <th>9449</th>\n",
       "      <td>kravenlupei</td>\n",
       "      <td>-0.372313</td>\n",
       "    </tr>\n",
       "    <tr>\n",
       "      <th>10334</th>\n",
       "      <td>mango</td>\n",
       "      <td>-0.389488</td>\n",
       "    </tr>\n",
       "    <tr>\n",
       "      <th>18212</th>\n",
       "      <td>vapormax</td>\n",
       "      <td>-0.419337</td>\n",
       "    </tr>\n",
       "    <tr>\n",
       "      <th>17213</th>\n",
       "      <td>travuseshakawa</td>\n",
       "      <td>-0.440300</td>\n",
       "    </tr>\n",
       "    <tr>\n",
       "      <th>10755</th>\n",
       "      <td>missingpurpleguavapear</td>\n",
       "      <td>-0.440300</td>\n",
       "    </tr>\n",
       "    <tr>\n",
       "      <th>2284</th>\n",
       "      <td>blueberry</td>\n",
       "      <td>-0.444528</td>\n",
       "    </tr>\n",
       "    <tr>\n",
       "      <th>16505</th>\n",
       "      <td>this</td>\n",
       "      <td>-0.452565</td>\n",
       "    </tr>\n",
       "    <tr>\n",
       "      <th>6005</th>\n",
       "      <td>fruit</td>\n",
       "      <td>-0.526253</td>\n",
       "    </tr>\n",
       "    <tr>\n",
       "      <th>11479</th>\n",
       "      <td>nike</td>\n",
       "      <td>-0.556501</td>\n",
       "    </tr>\n",
       "    <tr>\n",
       "      <th>10147</th>\n",
       "      <td>love</td>\n",
       "      <td>-0.585080</td>\n",
       "    </tr>\n",
       "    <tr>\n",
       "      <th>5893</th>\n",
       "      <td>freesmoke</td>\n",
       "      <td>-0.631907</td>\n",
       "    </tr>\n",
       "    <tr>\n",
       "      <th>3355</th>\n",
       "      <td>co</td>\n",
       "      <td>-0.660614</td>\n",
       "    </tr>\n",
       "    <tr>\n",
       "      <th>7469</th>\n",
       "      <td>https</td>\n",
       "      <td>-0.660614</td>\n",
       "    </tr>\n",
       "    <tr>\n",
       "      <th>7470</th>\n",
       "      <td>https co</td>\n",
       "      <td>-0.660614</td>\n",
       "    </tr>\n",
       "    <tr>\n",
       "      <th>14632</th>\n",
       "      <td>smoking</td>\n",
       "      <td>-0.713817</td>\n",
       "    </tr>\n",
       "    <tr>\n",
       "      <th>12318</th>\n",
       "      <td>orange</td>\n",
       "      <td>-0.729370</td>\n",
       "    </tr>\n",
       "    <tr>\n",
       "      <th>4713</th>\n",
       "      <td>drinking</td>\n",
       "      <td>-0.827552</td>\n",
       "    </tr>\n",
       "    <tr>\n",
       "      <th>14399</th>\n",
       "      <td>smoke</td>\n",
       "      <td>-0.950082</td>\n",
       "    </tr>\n",
       "  </tbody>\n",
       "</table>\n",
       "<p>19904 rows × 2 columns</p>\n",
       "</div>"
      ],
      "text/plain": [
       "                     features  coefficients\n",
       "8951                     juul      3.204274\n",
       "17589                    vape      2.814391\n",
       "18016                  vaping      1.738162\n",
       "11014                      my      1.016856\n",
       "11099                 my juul      0.839300\n",
       "12920                    pods      0.780632\n",
       "16015                the juul      0.728589\n",
       "9073                juul pods      0.634277\n",
       "10488                      me      0.615104\n",
       "2878                      can      0.579114\n",
       "6205                      get      0.570759\n",
       "17950                   vapes      0.570529\n",
       "7236                      hit      0.550110\n",
       "7999                       in      0.544854\n",
       "8129                   in the      0.501707\n",
       "19590                     you      0.491827\n",
       "11182                 my vape      0.479689\n",
       "7273                  hitting      0.463396\n",
       "13594                     rip      0.445243\n",
       "16779                      to      0.436759\n",
       "18916                    when      0.422221\n",
       "17874              vapenation      0.415354\n",
       "9152                    juuls      0.402899\n",
       "4513                       do      0.396484\n",
       "17655              vape juice      0.395593\n",
       "2702                      buy      0.391937\n",
       "17835                vapelife      0.376761\n",
       "8957                 juul and      0.376107\n",
       "8807                    juice      0.374643\n",
       "5147                    every      0.370848\n",
       "...                       ...           ...\n",
       "7409                    hours     -0.325319\n",
       "18251                  vapors     -0.326621\n",
       "13690                     rub     -0.330565\n",
       "18759                    weed     -0.331737\n",
       "19527                     yes     -0.346890\n",
       "10959                    much     -0.347542\n",
       "15472                swishers     -0.348019\n",
       "2734                       by     -0.356983\n",
       "9221                     keep     -0.358097\n",
       "15577                   taste     -0.361313\n",
       "9399                    krave     -0.365375\n",
       "14582                  smokey     -0.371637\n",
       "9449              kravenlupei     -0.372313\n",
       "10334                   mango     -0.389488\n",
       "18212                vapormax     -0.419337\n",
       "17213          travuseshakawa     -0.440300\n",
       "10755  missingpurpleguavapear     -0.440300\n",
       "2284                blueberry     -0.444528\n",
       "16505                    this     -0.452565\n",
       "6005                    fruit     -0.526253\n",
       "11479                    nike     -0.556501\n",
       "10147                    love     -0.585080\n",
       "5893                freesmoke     -0.631907\n",
       "3355                       co     -0.660614\n",
       "7469                    https     -0.660614\n",
       "7470                 https co     -0.660614\n",
       "14632                 smoking     -0.713817\n",
       "12318                  orange     -0.729370\n",
       "4713                 drinking     -0.827552\n",
       "14399                   smoke     -0.950082\n",
       "\n",
       "[19904 rows x 2 columns]"
      ]
     },
     "execution_count": 23,
     "metadata": {},
     "output_type": "execute_result"
    }
   ],
   "source": [
    "featuresAndCoef = {'features':features,'coefficients':coefficients}\n",
    "df_featuresAndCoef = pd.DataFrame(featuresAndCoef)\n",
    "df_featuresAndCoef.sort_values(by=['coefficients'], ascending=False)"
   ]
  },
  {
   "cell_type": "markdown",
   "metadata": {},
   "source": [
    "Even the coefficients seem good, we still got 201606 out of 278884 the classifier said was positive (e-cig relevant), which is not good. How about we include some negative sample?"
   ]
  },
  {
   "cell_type": "code",
   "execution_count": null,
   "metadata": {},
   "outputs": [],
   "source": []
  },
  {
   "cell_type": "code",
   "execution_count": null,
   "metadata": {},
   "outputs": [],
   "source": []
  },
  {
   "cell_type": "code",
   "execution_count": null,
   "metadata": {},
   "outputs": [],
   "source": []
  },
  {
   "cell_type": "code",
   "execution_count": null,
   "metadata": {},
   "outputs": [],
   "source": []
  },
  {
   "cell_type": "code",
   "execution_count": null,
   "metadata": {},
   "outputs": [],
   "source": []
  },
  {
   "cell_type": "code",
   "execution_count": null,
   "metadata": {},
   "outputs": [],
   "source": []
  }
 ],
 "metadata": {
  "kernelspec": {
   "display_name": "Python 3",
   "language": "python",
   "name": "python3"
  },
  "language_info": {
   "codemirror_mode": {
    "name": "ipython",
    "version": 3
   },
   "file_extension": ".py",
   "mimetype": "text/x-python",
   "name": "python",
   "nbconvert_exporter": "python",
   "pygments_lexer": "ipython3",
   "version": "3.6.5"
  }
 },
 "nbformat": 4,
 "nbformat_minor": 2
}
