{
 "cells": [
  {
   "cell_type": "code",
   "execution_count": 4,
   "metadata": {},
   "outputs": [
    {
     "name": "stdout",
     "output_type": "stream",
     "text": [
      "0.17\n"
     ]
    }
   ],
   "source": [
    "import os\n",
    "os.chdir('C:/Users/eddie/Desktop/Prof. Rumi Chunara/alcohol')\n",
    "import pickle\n",
    "import csv\n",
    "import json\n",
    "import sklearn\n",
    "print(sklearn.__version__)\n",
    "import pandas as pd\n",
    "import numpy as np\n",
    "import sys\n",
    "from evaluation.metric import computeAccuracy, computeF1Score, computeAUC\n",
    "# from sklearn.metrics import roc_auc_score\n",
    "\n",
    "# %load_ext autoreload\n",
    "# %autoreload\n",
    "from sklearn.linear_model import LogisticRegression\n",
    "from sklearn.svm import LinearSVC\n",
    "from scipy.stats import uniform\n",
    "# %reload_ext pipelines.alcohol.AlcoholPipeline\n",
    "from pipelines.alcohol import AlcoholPipeline\n",
    "from pipelines.ecig import ECigPipeline"
   ]
  },
  {
   "cell_type": "code",
   "execution_count": 5,
   "metadata": {},
   "outputs": [
    {
     "data": {
      "text/html": [
       "<div>\n",
       "<style scoped>\n",
       "    .dataframe tbody tr th:only-of-type {\n",
       "        vertical-align: middle;\n",
       "    }\n",
       "\n",
       "    .dataframe tbody tr th {\n",
       "        vertical-align: top;\n",
       "    }\n",
       "\n",
       "    .dataframe thead th {\n",
       "        text-align: right;\n",
       "    }\n",
       "</style>\n",
       "<table border=\"1\" class=\"dataframe\">\n",
       "  <thead>\n",
       "    <tr style=\"text-align: right;\">\n",
       "      <th></th>\n",
       "      <th>_id</th>\n",
       "      <th>created_at</th>\n",
       "      <th>labels</th>\n",
       "      <th>predict</th>\n",
       "      <th>text</th>\n",
       "      <th>user</th>\n",
       "      <th>user.created_at</th>\n",
       "      <th>user.favourites_count</th>\n",
       "      <th>user.followers_count</th>\n",
       "      <th>user.friends_count</th>\n",
       "      <th>user.statuses_count</th>\n",
       "      <th>user.verified</th>\n",
       "    </tr>\n",
       "  </thead>\n",
       "  <tbody>\n",
       "    <tr>\n",
       "      <th>0</th>\n",
       "      <td>556e0ee3d6dfbb462880f0a5</td>\n",
       "      <td>Tue Jun 02 20:16:08 +0000 2015</td>\n",
       "      <td>{'alcohol': 0}</td>\n",
       "      <td>0.526050</td>\n",
       "      <td>Impatiently waiting to get our hands on the ne...</td>\n",
       "      <td>{'created_at': 'Thu Jun 12 22:14:05 +0000 2014...</td>\n",
       "      <td>Thu Jun 12 22:14:05 +0000 2014</td>\n",
       "      <td>394</td>\n",
       "      <td>407.0</td>\n",
       "      <td>1997.0</td>\n",
       "      <td>823.0</td>\n",
       "      <td>False</td>\n",
       "    </tr>\n",
       "    <tr>\n",
       "      <th>1</th>\n",
       "      <td>556e128ad6dfbb46288111e4</td>\n",
       "      <td>Tue Jun 02 20:31:44 +0000 2015</td>\n",
       "      <td>{'alcohol': 1, 'first_person': 0, 'alcohol_rel...</td>\n",
       "      <td>0.516649</td>\n",
       "      <td>Beer fans need their @ColumbusBrewing Bodhi. I...</td>\n",
       "      <td>{'created_at': 'Mon Oct 06 21:00:38 +0000 2008...</td>\n",
       "      <td>Mon Oct 06 21:00:38 +0000 2008</td>\n",
       "      <td>806</td>\n",
       "      <td>1006.0</td>\n",
       "      <td>960.0</td>\n",
       "      <td>10442.0</td>\n",
       "      <td>False</td>\n",
       "    </tr>\n",
       "    <tr>\n",
       "      <th>2</th>\n",
       "      <td>556e12e6d6dfbb462881153e</td>\n",
       "      <td>Tue Jun 02 20:33:15 +0000 2015</td>\n",
       "      <td>{'alcohol': 1, 'first_person_level': 0, 'first...</td>\n",
       "      <td>0.523513</td>\n",
       "      <td>Beer Olympics with my #1 fan and babe😍❤️ #Team...</td>\n",
       "      <td>{'created_at': 'Tue Dec 20 02:46:19 +0000 2011...</td>\n",
       "      <td>Tue Dec 20 02:46:19 +0000 2011</td>\n",
       "      <td>11662</td>\n",
       "      <td>563.0</td>\n",
       "      <td>356.0</td>\n",
       "      <td>13940.0</td>\n",
       "      <td>False</td>\n",
       "    </tr>\n",
       "  </tbody>\n",
       "</table>\n",
       "</div>"
      ],
      "text/plain": [
       "                        _id                      created_at  \\\n",
       "0  556e0ee3d6dfbb462880f0a5  Tue Jun 02 20:16:08 +0000 2015   \n",
       "1  556e128ad6dfbb46288111e4  Tue Jun 02 20:31:44 +0000 2015   \n",
       "2  556e12e6d6dfbb462881153e  Tue Jun 02 20:33:15 +0000 2015   \n",
       "\n",
       "                                              labels   predict  \\\n",
       "0                                     {'alcohol': 0}  0.526050   \n",
       "1  {'alcohol': 1, 'first_person': 0, 'alcohol_rel...  0.516649   \n",
       "2  {'alcohol': 1, 'first_person_level': 0, 'first...  0.523513   \n",
       "\n",
       "                                                text  \\\n",
       "0  Impatiently waiting to get our hands on the ne...   \n",
       "1  Beer fans need their @ColumbusBrewing Bodhi. I...   \n",
       "2  Beer Olympics with my #1 fan and babe😍❤️ #Team...   \n",
       "\n",
       "                                                user  \\\n",
       "0  {'created_at': 'Thu Jun 12 22:14:05 +0000 2014...   \n",
       "1  {'created_at': 'Mon Oct 06 21:00:38 +0000 2008...   \n",
       "2  {'created_at': 'Tue Dec 20 02:46:19 +0000 2011...   \n",
       "\n",
       "                  user.created_at user.favourites_count  user.followers_count  \\\n",
       "0  Thu Jun 12 22:14:05 +0000 2014                   394                 407.0   \n",
       "1  Mon Oct 06 21:00:38 +0000 2008                   806                1006.0   \n",
       "2  Tue Dec 20 02:46:19 +0000 2011                 11662                 563.0   \n",
       "\n",
       "   user.friends_count  user.statuses_count user.verified  \n",
       "0              1997.0                823.0         False  \n",
       "1               960.0              10442.0         False  \n",
       "2               356.0              13940.0         False  "
      ]
     },
     "execution_count": 5,
     "metadata": {},
     "output_type": "execute_result"
    }
   ],
   "source": [
    "# # test ----------\n",
    "df_test = pd.read_csv(\"./data/alcohol_training_instances.csv\")\n",
    "df_test[:3]"
   ]
  },
  {
   "cell_type": "code",
   "execution_count": 15,
   "metadata": {},
   "outputs": [
    {
     "name": "stdout",
     "output_type": "stream",
     "text": [
      "length of X_train:  801\n",
      "length of X_test:  201\n",
      "length of y_train:  801\n",
      "length of y_test:  201\n"
     ]
    }
   ],
   "source": [
    "# read the data\n",
    "filePath = \"C:/Users/eddie/Desktop/Prof. Rumi Chunara/alcohol/data/labeled_figure_eight_csv_1000.csv\"\n",
    "df = pd.read_csv(filePath)\n",
    "df.is_this_posting_relevant_to_ecigarette[:3]\n",
    "\n",
    "# Deal with ecig_labels.\n",
    "ecig_labels = []\n",
    "# extracting pre-labeled classification\n",
    "for i in range(0,len(df.is_this_posting_relevant_to_ecigarette)):\n",
    "#     print(df.is_this_posting_relevant_to_ecigarette[i])\n",
    "    if df.is_this_posting_relevant_to_ecigarette[i] == 'ECIG':\n",
    "        ecig_labels.append(1)\n",
    "    elif df.is_this_posting_relevant_to_ecigarette[i] == 'NOT-ECIG':\n",
    "        ecig_labels.append(0)\n",
    "    else:\n",
    "        print('Should not go to here')\n",
    "# ecig_labels\n",
    "\n",
    "\n",
    "from sklearn.cross_validation import train_test_split\n",
    "X_train, X_test, y_train, y_test = train_test_split(df, ecig_labels, test_size=0.2, random_state=26)\n",
    "print('length of X_train: ', len(X_train))\n",
    "print('length of X_test: ', len(X_test))\n",
    "print('length of y_train: ', len(y_train))\n",
    "print('length of y_test: ', len(y_test))\n",
    "# X_train\n",
    "# y_train\n",
    "\n",
    "\n",
    "# # test ----------\n",
    "# df_test = pd.read_csv(\"./data/alcohol_training_instances.csv\")\n",
    "# df_test\n",
    "# df_test.labels[1]\n",
    "\n",
    "# alc_labels = []\n",
    "# # extracting pre-labeled classification\n",
    "# for i in range(0,len(df_test.labels)):\n",
    "#     alc_labels.append(df_test.labels[i][12])\n",
    "# alc_labels = list(map(int, alc_labels))\n",
    "\n",
    "# from sklearn.cross_validation import train_test_split\n",
    "# X_train, X_test, y_train, y_test = train_test_split(df_test, alc_labels, test_size=0.1, random_state=26)\n",
    "# X_train"
   ]
  },
  {
   "cell_type": "code",
   "execution_count": 16,
   "metadata": {},
   "outputs": [
    {
     "data": {
      "text/plain": [
       "[('features', FeatureUnion(n_jobs=1,\n",
       "         transformer_list=[('text', Pipeline(steps=[('getter', ItemGetter(key='realdonaldtrump_foxandfriends_smoke_blowing_up_your_orange_ass')), ('tfidf', TfidfVectorizer(analyzer='char', binary=False, decode_error='strict',\n",
       "          dtype=<class 'numpy.int64'>, encoding='utf-8', input='content',\n",
       "          lowercase=True, max_df=1.0, max_feature...\n",
       "          token_pattern='(?u)\\\\b\\\\w\\\\w+\\\\b', tokenizer=None, use_idf=True,\n",
       "          vocabulary=None))]))],\n",
       "         transformer_weights=None)),\n",
       " ('scaler', Normalizer(copy=True, norm='l2')),\n",
       " ('clf',\n",
       "  LogisticRegression(C=1.0, class_weight=None, dual=False, fit_intercept=True,\n",
       "            intercept_scaling=1, max_iter=100, multi_class='ovr', n_jobs=1,\n",
       "            penalty='l2', random_state=None, solver='liblinear', tol=0.0001,\n",
       "            verbose=0, warm_start=False))]"
      ]
     },
     "execution_count": 16,
     "metadata": {},
     "output_type": "execute_result"
    }
   ],
   "source": [
    "# LR\n",
    "clf_ecig_LR = ECigPipeline().pipeline(LogisticRegression())\n",
    "clf_ecig_LR.steps"
   ]
  },
  {
   "cell_type": "code",
   "execution_count": 17,
   "metadata": {},
   "outputs": [],
   "source": [
    "# Fit the data into model to see the performance."
   ]
  },
  {
   "cell_type": "code",
   "execution_count": 18,
   "metadata": {},
   "outputs": [
    {
     "name": "stderr",
     "output_type": "stream",
     "text": [
      "D:\\Anaconda3\\envs\\py36\\lib\\site-packages\\sklearn\\feature_extraction\\text.py:1015: FutureWarning: Conversion of the second argument of issubdtype from `float` to `np.floating` is deprecated. In future, it will be treated as `np.float64 == np.dtype(float).type`.\n",
      "  if hasattr(X, 'dtype') and np.issubdtype(X.dtype, np.float):\n"
     ]
    },
    {
     "data": {
      "text/plain": [
       "Pipeline(steps=[('features', FeatureUnion(n_jobs=1,\n",
       "       transformer_list=[('text', Pipeline(steps=[('getter', ItemGetter(key='realdonaldtrump_foxandfriends_smoke_blowing_up_your_orange_ass')), ('tfidf', TfidfVectorizer(analyzer='char', binary=False, decode_error='strict',\n",
       "        dtype=<class 'numpy.int64...ty='l2', random_state=None, solver='liblinear', tol=0.0001,\n",
       "          verbose=0, warm_start=False))])"
      ]
     },
     "execution_count": 18,
     "metadata": {},
     "output_type": "execute_result"
    }
   ],
   "source": [
    "clf_ecig_LR.fit(X_train, y_train)"
   ]
  },
  {
   "cell_type": "code",
   "execution_count": 19,
   "metadata": {
    "scrolled": true
   },
   "outputs": [
    {
     "name": "stdout",
     "output_type": "stream",
     "text": [
      "length of total comps:  201\n",
      "63 different item in whole dataset\n",
      "accuracy: 68.656716%\n",
      "F1 Score:  0.742857142857143\n",
      "alcohol LR AUC:  0.7670511035991251\n"
     ]
    },
    {
     "name": "stderr",
     "output_type": "stream",
     "text": [
      "D:\\Anaconda3\\envs\\py36\\lib\\site-packages\\sklearn\\feature_extraction\\text.py:1015: FutureWarning: Conversion of the second argument of issubdtype from `float` to `np.floating` is deprecated. In future, it will be treated as `np.float64 == np.dtype(float).type`.\n",
      "  if hasattr(X, 'dtype') and np.issubdtype(X.dtype, np.float):\n"
     ]
    }
   ],
   "source": [
    "# predict in testing set.\n",
    "y_ecig_LR = clf_ecig_LR.predict(X_test)\n",
    "# print('length of testing set: ', len(y_alc_initial))\n",
    "computeAccuracy(y_ecig_LR, y_test)\n",
    "f1_score_LR = computeF1Score(y_test, y_ecig_LR)\n",
    "print('F1 Score: ', f1_score_LR)\n",
    "auc_score_LR = computeAUC(clf_ecig_LR, X_test, y_test, plot=False)\n",
    "# auc_score = computeAUC(clf_alc_LR_updateParams, X_train, y_train, X_test, y_test, plot=True, plotTitle=\"Alcohol ROC Curve\")\n",
    "print('alcohol LR AUC: ', auc_score_LR)"
   ]
  },
  {
   "cell_type": "code",
   "execution_count": null,
   "metadata": {},
   "outputs": [],
   "source": []
  },
  {
   "cell_type": "code",
   "execution_count": null,
   "metadata": {},
   "outputs": [],
   "source": []
  },
  {
   "cell_type": "code",
   "execution_count": 9,
   "metadata": {},
   "outputs": [],
   "source": []
  },
  {
   "cell_type": "code",
   "execution_count": null,
   "metadata": {},
   "outputs": [],
   "source": []
  },
  {
   "cell_type": "code",
   "execution_count": null,
   "metadata": {},
   "outputs": [],
   "source": []
  },
  {
   "cell_type": "code",
   "execution_count": null,
   "metadata": {},
   "outputs": [],
   "source": []
  },
  {
   "cell_type": "code",
   "execution_count": 10,
   "metadata": {},
   "outputs": [],
   "source": [
    "# ecig_labels = []\n",
    "# # extracting pre-labeled classification\n",
    "# for i in range(0,len(df.is_this_posting_relevant_to_ecigarette)):\n",
    "#     ecig_labels.append(df.is_this_posting_relevant_to_ecigarette)\n",
    "# ecig_labels"
   ]
  },
  {
   "cell_type": "code",
   "execution_count": null,
   "metadata": {},
   "outputs": [],
   "source": []
  }
 ],
 "metadata": {
  "kernelspec": {
   "display_name": "Python 3",
   "language": "python",
   "name": "python3"
  },
  "language_info": {
   "codemirror_mode": {
    "name": "ipython",
    "version": 3
   },
   "file_extension": ".py",
   "mimetype": "text/x-python",
   "name": "python",
   "nbconvert_exporter": "python",
   "pygments_lexer": "ipython3",
   "version": "3.6.5"
  }
 },
 "nbformat": 4,
 "nbformat_minor": 2
}
