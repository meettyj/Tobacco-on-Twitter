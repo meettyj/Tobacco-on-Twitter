{
 "cells": [
  {
   "cell_type": "markdown",
   "metadata": {},
   "source": [
    "It seems the classifier with updated parameters is already the best we can get from grid search. But, how about we simply do cross validation in it, is the performance will improve?"
   ]
  },
  {
   "cell_type": "code",
   "execution_count": 1,
   "metadata": {},
   "outputs": [
    {
     "name": "stdout",
     "output_type": "stream",
     "text": [
      "0.17\n"
     ]
    }
   ],
   "source": [
    "import os\n",
    "os.chdir('C:/Users/eddie/Desktop/Prof. Rumi Chunara/alcohol')\n",
    "import sklearn\n",
    "print(sklearn.__version__)\n",
    "import pandas as pd\n",
    "import numpy as np\n",
    "from sklearn.linear_model import LogisticRegression\n",
    "from scipy.stats import uniform\n",
    "from evaluation.metric import computeAccuracy, computeF1Score, computeAUC\n",
    "# from sklearn.metrics import roc_auc_score\n",
    "# from sklearn.grid_search import RandomizedSearchCV, GridSearchCV\n",
    "from sklearn.cross_validation import KFold\n",
    "\n",
    "from pipelines.alcohol import AlcoholPipeline\n"
   ]
  },
  {
   "cell_type": "markdown",
   "metadata": {},
   "source": [
    "Prepare the alcohol data"
   ]
  },
  {
   "cell_type": "code",
   "execution_count": 50,
   "metadata": {},
   "outputs": [
    {
     "name": "stdout",
     "output_type": "stream",
     "text": [
      "[0, 1, 1, 1, 1, 1, 1, 1, 0, 1]\n",
      "15651\n",
      "<class 'numpy.ndarray'>\n"
     ]
    }
   ],
   "source": [
    "df = pd.read_csv(\"./data/alcohol_training_instances.csv\")\n",
    "alc_labels = []\n",
    "# extracting pre-labeled classification\n",
    "for i in range(0,len(df.labels)):\n",
    "    alc_labels.append(df.labels[i][12])\n",
    "alc_labels = list(map(int, alc_labels))\n",
    "print(alc_labels[:10])\n",
    "print(len(alc_labels))\n",
    "# print(type(alc_labels))\n",
    "alc_labels = np.asarray(alc_labels)\n",
    "print(type(alc_labels))\n",
    "from sklearn.cross_validation import train_test_split\n",
    "X_train, X_test, y_train, y_test = train_test_split(df, alc_labels, test_size=0.33, random_state=42)"
   ]
  },
  {
   "cell_type": "markdown",
   "metadata": {},
   "source": [
    "First we test the performance of classifier with updated parameters. The reason why we choose these parameters please check alcoholClassiferLR.ipynb"
   ]
  },
  {
   "cell_type": "code",
   "execution_count": 51,
   "metadata": {},
   "outputs": [
    {
     "data": {
      "text/plain": [
       "Pipeline(steps=[('features', FeatureUnion(n_jobs=1,\n",
       "       transformer_list=[('text', Pipeline(steps=[('getter', ItemGetter(key='text')), ('tfidf', TfidfVectorizer(analyzer='char', binary=False, decode_error='strict',\n",
       "        dtype=<class 'numpy.int64'>, encoding='utf-8', input='content',\n",
       "        lowercase=T...ty='l2', random_state=None, solver='liblinear', tol=0.0001,\n",
       "          verbose=0, warm_start=False))])"
      ]
     },
     "execution_count": 51,
     "metadata": {},
     "output_type": "execute_result"
    }
   ],
   "source": [
    "clf_alc_LR_updateParams = AlcoholPipeline(global_features=[\"text\"]).pipeline(LogisticRegression())\n",
    "params_LR = {'features__text__tfidf__dtype':np.int64, 'features__text__tfidf__max_features':71233, 'features__text__tfidf__ngram_range':(2,5) \n",
    "            }\n",
    "# to see all parameters in model\n",
    "# clf_alc_LR_updateParams.get_params().keys()\n",
    "clf_alc_LR_updateParams.set_params(**params_LR)"
   ]
  },
  {
   "cell_type": "code",
   "execution_count": 52,
   "metadata": {},
   "outputs": [
    {
     "name": "stdout",
     "output_type": "stream",
     "text": [
      "Please make sure the following class equals pandas.core.frame.DataFrame: \n",
      "<class 'pandas.core.frame.DataFrame'>\n",
      "length of training dataset:  10486\n",
      "TRAIN: [ 1049  1050  1051 ... 10483 10484 10485] TEST: [   0    1    2 ... 1046 1047 1048]\n"
     ]
    },
    {
     "name": "stderr",
     "output_type": "stream",
     "text": [
      "D:\\Anaconda3\\envs\\py36\\lib\\site-packages\\sklearn\\feature_extraction\\text.py:1015: FutureWarning: Conversion of the second argument of issubdtype from `float` to `np.floating` is deprecated. In future, it will be treated as `np.float64 == np.dtype(float).type`.\n",
      "  if hasattr(X, 'dtype') and np.issubdtype(X.dtype, np.float):\n"
     ]
    },
    {
     "name": "stdout",
     "output_type": "stream",
     "text": [
      "length of total comps:  1049\n",
      "pretrained alcohol classifer:  138 different item in whole dataset\n",
      "accuracy: 86.844614%\n",
      "F1 Score:  0.9071332436069987\n",
      "alcohol LR AUC:  0.9045177383592018\n",
      "TRAIN: [    0     1     2 ... 10483 10484 10485] TEST: [1049 1050 1051 ... 2095 2096 2097]\n",
      "length of total comps:  1049\n",
      "pretrained alcohol classifer:  138 different item in whole dataset\n",
      "accuracy: 86.844614%\n",
      "F1 Score:  0.9054794520547946\n",
      "alcohol LR AUC:  0.8986342846099337\n",
      "TRAIN: [    0     1     2 ... 10483 10484 10485] TEST: [2098 2099 2100 ... 3144 3145 3146]\n",
      "length of total comps:  1049\n",
      "pretrained alcohol classifer:  151 different item in whole dataset\n",
      "accuracy: 85.605338%\n",
      "F1 Score:  0.8998009289980092\n",
      "alcohol LR AUC:  0.8890790012279982\n",
      "TRAIN: [    0     1     2 ... 10483 10484 10485] TEST: [3147 3148 3149 ... 4193 4194 4195]\n",
      "length of total comps:  1049\n",
      "pretrained alcohol classifer:  171 different item in whole dataset\n",
      "accuracy: 83.698761%\n",
      "F1 Score:  0.8835942818243703\n",
      "alcohol LR AUC:  0.8906307078985403\n",
      "TRAIN: [    0     1     2 ... 10483 10484 10485] TEST: [4196 4197 4198 ... 5242 5243 5244]\n",
      "length of total comps:  1049\n",
      "pretrained alcohol classifer:  175 different item in whole dataset\n",
      "accuracy: 83.317445%\n",
      "F1 Score:  0.8818365968939905\n",
      "alcohol LR AUC:  0.8788591602531626\n",
      "TRAIN: [    0     1     2 ... 10483 10484 10485] TEST: [5245 5246 5247 ... 6291 6292 6293]\n",
      "length of total comps:  1049\n",
      "pretrained alcohol classifer:  162 different item in whole dataset\n",
      "accuracy: 84.556721%\n",
      "F1 Score:  0.8922872340425532\n",
      "alcohol LR AUC:  0.8734008130755829\n",
      "TRAIN: [    0     1     2 ... 10483 10484 10485] TEST: [6294 6295 6296 ... 7339 7340 7341]\n",
      "length of total comps:  1048\n",
      "pretrained alcohol classifer:  161 different item in whole dataset\n",
      "accuracy: 84.637405%\n",
      "F1 Score:  0.8898015058179329\n",
      "alcohol LR AUC:  0.8689125522811403\n",
      "TRAIN: [    0     1     2 ... 10483 10484 10485] TEST: [7342 7343 7344 ... 8387 8388 8389]\n",
      "length of total comps:  1048\n",
      "pretrained alcohol classifer:  147 different item in whole dataset\n",
      "accuracy: 85.973282%\n",
      "F1 Score:  0.8988300068823124\n",
      "alcohol LR AUC:  0.898720122739018\n",
      "TRAIN: [    0     1     2 ... 10483 10484 10485] TEST: [8390 8391 8392 ... 9435 9436 9437]\n",
      "length of total comps:  1048\n",
      "pretrained alcohol classifer:  159 different item in whole dataset\n",
      "accuracy: 84.828244%\n",
      "F1 Score:  0.8936454849498328\n",
      "alcohol LR AUC:  0.8726313000591028\n",
      "TRAIN: [   0    1    2 ... 9435 9436 9437] TEST: [ 9438  9439  9440 ... 10483 10484 10485]\n",
      "length of total comps:  1048\n",
      "pretrained alcohol classifer:  150 different item in whole dataset\n",
      "accuracy: 85.687023%\n",
      "F1 Score:  0.9011857707509883\n",
      "alcohol LR AUC:  0.8887248851620456\n",
      "----------------------------- after K-fold cross validation -----------------------------\n",
      "length of total comps:  5165\n",
      "pretrained alcohol classifer:  759 different item in whole dataset\n",
      "accuracy: 85.304937%\n",
      "F1 Score:  0.8943338437978561\n",
      "alcohol LR AUC:  0.8888409620850726\n"
     ]
    }
   ],
   "source": [
    "print('Please make sure the following class equals pandas.core.frame.DataFrame: ')\n",
    "print(type(X_train))\n",
    "print('length of training dataset: ', len(X_train))\n",
    "# print(X_train.index[1:3])\n",
    "kf = KFold(len(X_train), n_folds=10, shuffle=False, random_state=None)\n",
    "# print(kf)\n",
    "# print(type(y_train))\n",
    "\n",
    "\n",
    "for train_index, test_index in kf:\n",
    "    print(\"TRAIN:\", train_index, \"TEST:\", test_index)\n",
    "#     print('length of training dataset: ', len(train_index))\n",
    "#     print('length of testing dataset: ', len(test_index))\n",
    "    X_train_sub = X_train.iloc[train_index]\n",
    "    y_train_sub = y_train[train_index]\n",
    "    X_test_sub = X_train.iloc[test_index]\n",
    "    y_test_sub = y_train[test_index]\n",
    "    \n",
    "#     print(type(X_train_sub))\n",
    "#     print(len(X_train_sub))\n",
    "\n",
    "    clf_alc_LR_updateParams.fit(X_train_sub, y_train_sub)\n",
    "    \n",
    "    # predict in testing set.\n",
    "    y_alc_LR_updateParams = clf_alc_LR_updateParams.predict(X_test_sub)\n",
    "    # print('length of testing set: ', len(y_alc_initial))\n",
    "    computeAccuracy(y_alc_LR_updateParams, y_test_sub)\n",
    "    auc_score_LR_updateParams = roc_auc_score(y_test_sub,y_alc_LR_updateParams)\n",
    "    f1_score_LR_updateParams = computeF1Score(y_test_sub, y_alc_LR_updateParams)\n",
    "    print('F1 Score: ', f1_score_LR_updateParams)\n",
    "    auc_score_LR_updateParams = computeAUC(clf_alc_LR_updateParams, X_test_sub, y_test_sub, plot=False)\n",
    "    # auc_score = computeAUC(clf_alc_LR_updateParams, X_train, y_train, X_test, y_test, plot=True, plotTitle=\"Alcohol ROC Curve\")\n",
    "    print('alcohol LR AUC: ', auc_score_LR_updateParams)\n",
    "\n",
    "print('----------------------------- after K-fold cross validation -----------------------------')\n",
    "\n",
    "# predict in testing set.\n",
    "y_alc_LR_updateParams = clf_alc_LR_updateParams.predict(X_test)\n",
    "# print('length of testing set: ', len(y_alc_initial))\n",
    "computeAccuracy(y_alc_LR_updateParams, y_test)\n",
    "auc_score_LR_updateParams = roc_auc_score(y_test,y_alc_LR_updateParams)\n",
    "f1_score_LR_updateParams = computeF1Score(y_test, y_alc_LR_updateParams)\n",
    "print('F1 Score: ', f1_score_LR_updateParams)\n",
    "auc_score_LR_updateParams = computeAUC(clf_alc_LR_updateParams, X_test, y_test, plot=False)\n",
    "# auc_score = computeAUC(clf_alc_LR_updateParams, X_train, y_train, X_test, y_test, plot=True, plotTitle=\"Alcohol ROC Curve\")\n",
    "print('alcohol LR AUC: ', auc_score_LR_updateParams)"
   ]
  },
  {
   "cell_type": "markdown",
   "metadata": {},
   "source": [
    "Now we compare the performance with model without cross validation"
   ]
  },
  {
   "cell_type": "code",
   "execution_count": 53,
   "metadata": {},
   "outputs": [
    {
     "data": {
      "text/plain": [
       "Pipeline(steps=[('features', FeatureUnion(n_jobs=1,\n",
       "       transformer_list=[('text', Pipeline(steps=[('getter', ItemGetter(key='text')), ('tfidf', TfidfVectorizer(analyzer='char', binary=False, decode_error='strict',\n",
       "        dtype=<class 'numpy.int64'>, encoding='utf-8', input='content',\n",
       "        lowercase=T...ty='l2', random_state=None, solver='liblinear', tol=0.0001,\n",
       "          verbose=0, warm_start=False))])"
      ]
     },
     "execution_count": 53,
     "metadata": {},
     "output_type": "execute_result"
    }
   ],
   "source": [
    "clf_alc_LR_updateParams2 = AlcoholPipeline(global_features=[\"text\"]).pipeline(LogisticRegression())\n",
    "params_LR = {'features__text__tfidf__dtype':np.int64, 'features__text__tfidf__max_features':71233, 'features__text__tfidf__ngram_range':(2,5) \n",
    "            }\n",
    "# to see all parameters in model\n",
    "# clf_alc_LR_updateParams2.get_params().keys()\n",
    "clf_alc_LR_updateParams2.set_params(**params_LR)"
   ]
  },
  {
   "cell_type": "code",
   "execution_count": 54,
   "metadata": {},
   "outputs": [
    {
     "name": "stderr",
     "output_type": "stream",
     "text": [
      "D:\\Anaconda3\\envs\\py36\\lib\\site-packages\\sklearn\\feature_extraction\\text.py:1015: FutureWarning: Conversion of the second argument of issubdtype from `float` to `np.floating` is deprecated. In future, it will be treated as `np.float64 == np.dtype(float).type`.\n",
      "  if hasattr(X, 'dtype') and np.issubdtype(X.dtype, np.float):\n"
     ]
    },
    {
     "name": "stdout",
     "output_type": "stream",
     "text": [
      "length of total comps:  5165\n",
      "pretrained alcohol classifer:  750 different item in whole dataset\n",
      "accuracy: 85.479187%\n",
      "F1 Score:  0.8954558126568163\n",
      "alcohol LR AUC:  0.88876528818431\n"
     ]
    }
   ],
   "source": [
    "clf_alc_LR_updateParams2.fit(X_train, y_train)\n",
    "# predict in testing set.\n",
    "y_alc_LR_updateParams = clf_alc_LR_updateParams2.predict(X_test)\n",
    "# print('length of testing set: ', len(y_alc_initial))\n",
    "computeAccuracy(y_alc_LR_updateParams, y_test)\n",
    "auc_score_LR_updateParams = roc_auc_score(y_test,y_alc_LR_updateParams)\n",
    "f1_score_LR_updateParams = computeF1Score(y_test, y_alc_LR_updateParams)\n",
    "print('F1 Score: ', f1_score_LR_updateParams)\n",
    "auc_score_LR_updateParams = computeAUC(clf_alc_LR_updateParams2, X_test, y_test, plot=False)\n",
    "# auc_score = computeAUC(clf_alc_LR_updateParams2, X_train, y_train, X_test, y_test, plot=True, plotTitle=\"Alcohol ROC Curve\")\n",
    "print('alcohol LR AUC: ', auc_score_LR_updateParams)"
   ]
  },
  {
   "cell_type": "markdown",
   "metadata": {},
   "source": [
    "We can see cross validation has little effect on the performance. The fit function within pipeline is robust."
   ]
  },
  {
   "cell_type": "code",
   "execution_count": null,
   "metadata": {},
   "outputs": [],
   "source": []
  }
 ],
 "metadata": {
  "kernelspec": {
   "display_name": "Python 3",
   "language": "python",
   "name": "python3"
  },
  "language_info": {
   "codemirror_mode": {
    "name": "ipython",
    "version": 3
   },
   "file_extension": ".py",
   "mimetype": "text/x-python",
   "name": "python",
   "nbconvert_exporter": "python",
   "pygments_lexer": "ipython3",
   "version": "3.6.5"
  }
 },
 "nbformat": 4,
 "nbformat_minor": 2
}
