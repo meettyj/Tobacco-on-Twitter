{
 "cells": [
  {
   "cell_type": "markdown",
   "metadata": {},
   "source": [
    "The notebook block may ignore blank and enter. Please double click the block to see the complete structure and parameters. Please note if you want to check the structure youself, make sure you are running in environment sklearn 0.21"
   ]
  },
  {
   "cell_type": "markdown",
   "metadata": {},
   "source": [
    "**<font color = red>Alcohol:</font>** <mark>Structure load from initial model (pickle file)</mark>"
   ]
  },
  {
   "cell_type": "markdown",
   "metadata": {},
   "source": [
    "[('features', FeatureUnion(n_jobs=1,\n",
    "               transformer_list=[('text',\n",
    "                                  Pipeline(memory=None,\n",
    "                                           steps=[('getter',\n",
    "                                                   ItemGetter(key='text')),\n",
    "                                                  ('tfidf',\n",
    "                                                   TfidfVectorizer(analyzer='char',\n",
    "                                                                   binary=False,\n",
    "                                                                   decode_error='strict',\n",
    "                                                                   dtype=<class 'numpy.int64'>,\n",
    "                                                                   encoding='utf-8',\n",
    "                                                                   input='content',\n",
    "                                                                   lowercase=True,\n",
    "                                                                   max_df=1.0,\n",
    "                                                                   max_features=71233,\n",
    "                                                                   min_df=1,\n",
    "                                                                   ngram_range=(2,\n",
    "                                                                                5),\n",
    "                                                                   norm='l2',\n",
    "                                                                   preprocessor=None,\n",
    "                                                                   smooth_idf=True,\n",
    "                                                                   stop_words=None,\n",
    "                                                                   strip_accents=None,\n",
    "                                                                   sublinear_tf=False,\n",
    "                                                                   token_pattern='(?u)\\\\b\\\\w\\\\w+\\\\b',\n",
    "                                                                   tokenizer=None,\n",
    "                                                                   use_idf=True,\n",
    "                                                                   vocabulary=None))],\n",
    "                                           verbose=None))],\n",
    "               transformer_weights=None, verbose=None)),\n",
    " ('scaler', Normalizer(copy=True, norm='l2')),\n",
    " ('clf',\n",
    "  LogisticRegression(C=177.08103265690417, class_weight=None, dual=False,\n",
    "                     fit_intercept=True, intercept_scaling=1, l1_ratio=None,\n",
    "                     max_iter=100, multi_class='ovr', n_jobs=None, penalty='l2',\n",
    "                     random_state=None, solver='liblinear',\n",
    "                     tol=0.000655077907893521, verbose=0, warm_start=None))]"
   ]
  },
  {
   "cell_type": "markdown",
   "metadata": {},
   "source": [
    "<mark>Structure build by AlcoholPipeline()</mark> For more detail, please see alcoholClassiferLR.ipynb"
   ]
  },
  {
   "cell_type": "markdown",
   "metadata": {},
   "source": [
    "[('features', FeatureUnion(n_jobs=None,\n",
    "               transformer_list=[('text',\n",
    "                                  Pipeline(memory=None,\n",
    "                                           steps=[('getter',\n",
    "                                                   ItemGetter(key='text')),\n",
    "                                                  ('tfidf',\n",
    "                                                   TfidfVectorizer(analyzer='char',\n",
    "                                                                   binary=False,\n",
    "                                                                   decode_error='strict',\n",
    "                                                                   dtype=<class 'numpy.float64'>,\n",
    "                                                                   encoding='utf-8',\n",
    "                                                                   input='content',\n",
    "                                                                   lowercase=True,\n",
    "                                                                   max_df=1.0,\n",
    "                                                                   max_features=None,\n",
    "                                                                   min_df=1,\n",
    "                                                                   ngram_range=(1,\n",
    "                                                                                1),\n",
    "                                                                   norm='l2',\n",
    "                                                                   preprocessor=None,\n",
    "                                                                   smooth_idf=True,\n",
    "                                                                   stop_words=None,\n",
    "                                                                   strip_accents=None,\n",
    "                                                                   sublinear_tf=False,\n",
    "                                                                   token_pattern='(?u)\\\\b\\\\w\\\\w+\\\\b',\n",
    "                                                                   tokenizer=None,\n",
    "                                                                   use_idf=True,\n",
    "                                                                   vocabulary=None))],\n",
    "                                           verbose=False))],\n",
    "               transformer_weights=None, verbose=False)),\n",
    " ('scaler', Normalizer(copy=True, norm='l2')),\n",
    " ('clf',\n",
    "  LogisticRegression(C=1.0, class_weight=None, dual=False, fit_intercept=True,\n",
    "                     intercept_scaling=1, l1_ratio=None, max_iter=100,\n",
    "                     multi_class='warn', n_jobs=None, penalty='l2',\n",
    "                     random_state=None, solver='warn', tol=0.0001, verbose=0,\n",
    "                     warm_start=False))]"
   ]
  },
  {
   "cell_type": "markdown",
   "metadata": {},
   "source": [
    "<mark>Structure build by AlcoholPipeline() with parameters updated</mark> "
   ]
  },
  {
   "cell_type": "markdown",
   "metadata": {},
   "source": []
  }
 ],
 "metadata": {
  "kernelspec": {
   "display_name": "Python 3",
   "language": "python",
   "name": "python3"
  },
  "language_info": {
   "codemirror_mode": {
    "name": "ipython",
    "version": 3
   },
   "file_extension": ".py",
   "mimetype": "text/x-python",
   "name": "python",
   "nbconvert_exporter": "python",
   "pygments_lexer": "ipython3",
   "version": "3.6.5"
  }
 },
 "nbformat": 4,
 "nbformat_minor": 2
}
