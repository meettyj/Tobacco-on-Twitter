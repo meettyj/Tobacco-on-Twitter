{
 "cells": [
  {
   "cell_type": "code",
   "execution_count": 1,
   "metadata": {},
   "outputs": [
    {
     "name": "stdout",
     "output_type": "stream",
     "text": [
      "0.17\n"
     ]
    },
    {
     "name": "stderr",
     "output_type": "stream",
     "text": [
      "D:\\Anaconda3\\envs\\py36\\lib\\site-packages\\sklearn\\ensemble\\weight_boosting.py:29: DeprecationWarning: numpy.core.umath_tests is an internal NumPy module and should not be imported. It will be removed in a future NumPy release.\n",
      "  from numpy.core.umath_tests import inner1d\n"
     ]
    }
   ],
   "source": [
    "import os\n",
    "os.chdir('C:/Users/eddie/Desktop/Prof. Rumi Chunara/alcohol')\n",
    "import pickle\n",
    "import sklearn\n",
    "print(sklearn.__version__)\n",
    "import pandas\n",
    "import numpy as np\n",
    "import sys\n",
    "from evaluation.metric import computeAccuracy, computeF1Score, computeAUC\n",
    "# from sklearn.metrics import roc_auc_score\n",
    "\n",
    "# %load_ext autoreload\n",
    "# %autoreload\n",
    "from sklearn.linear_model import LogisticRegression\n",
    "from sklearn.svm import LinearSVC\n",
    "from sklearn.ensemble import RandomForestClassifier\n",
    "from scipy.stats import uniform\n",
    "# %reload_ext pipelines.alcohol.AlcoholPipeline\n",
    "from pipelines.alcohol import AlcoholPipeline"
   ]
  },
  {
   "cell_type": "code",
   "execution_count": 2,
   "metadata": {},
   "outputs": [],
   "source": [
    "clf_alc_initial = pickle.load(open('./alcohol classifiers/clf_alc_UPDATED.p', 'rb'))\n",
    "# clf_fpa    = pickle.load(open('./alcohol classifiers/clf_fpa_UPDATED.p', 'rb'))\n",
    "# clf_fpl_dl = pickle.load(open('./alcohol classifiers/clf_fpl_double_labeled', 'rb'))\n",
    "df = pandas.read_csv(\"./data/alcohol_training_instances.csv\")\n"
   ]
  },
  {
   "cell_type": "code",
   "execution_count": 3,
   "metadata": {},
   "outputs": [
    {
     "data": {
      "text/plain": [
       "[('features', FeatureUnion(n_jobs=1,\n",
       "         transformer_list=[('text', Pipeline(steps=[('getter', ItemGetter(key='text')), ('tfidf', TfidfVectorizer(analyzer='char', binary=False, decode_error='strict',\n",
       "          dtype=<class 'numpy.int64'>, encoding='utf-8', input='content',\n",
       "          lowercase=True, max_df=1.0, max_features=71233, min_df=1,\n",
       "     ...      token_pattern='(?u)\\\\b\\\\w\\\\w+\\\\b', tokenizer=None, use_idf=True,\n",
       "          vocabulary=None))]))],\n",
       "         transformer_weights=None)),\n",
       " ('scaler', Normalizer(copy=True, norm='l2')),\n",
       " ('clf',\n",
       "  LogisticRegression(C=177.08103265690417, class_weight=None, dual=False,\n",
       "            fit_intercept=True, intercept_scaling=1, max_iter=100,\n",
       "            multi_class='ovr', n_jobs=None, penalty='l2', random_state=None,\n",
       "            solver='liblinear', tol=0.000655077907893521, verbose=0,\n",
       "            warm_start=None))]"
      ]
     },
     "execution_count": 3,
     "metadata": {},
     "output_type": "execute_result"
    }
   ],
   "source": [
    "clf_alc_initial.steps\n",
    "# with open('structure.txt', 'w') as f:\n",
    "#     tmp = ''.join(str(e) for e in clf_alc_initial.steps)\n",
    "#     f.write(tmp)"
   ]
  },
  {
   "cell_type": "markdown",
   "metadata": {},
   "source": [
    "Prepare the alcohol data"
   ]
  },
  {
   "cell_type": "code",
   "execution_count": 4,
   "metadata": {},
   "outputs": [
    {
     "name": "stdout",
     "output_type": "stream",
     "text": [
      "[0, 1, 1, 1, 1, 1, 1, 1, 0, 1]\n",
      "15651\n"
     ]
    }
   ],
   "source": [
    "alc_labels = []\n",
    "# extracting pre-labeled classification\n",
    "for i in range(0,len(df.labels)):\n",
    "    alc_labels.append(df.labels[i][12])\n",
    "alc_labels = list(map(int, alc_labels))\n",
    "print(alc_labels[:10])\n",
    "print(len(alc_labels))\n",
    "from sklearn.cross_validation import train_test_split\n",
    "X_train, X_test, y_train, y_test = train_test_split(df, alc_labels, test_size=0.1, random_state=26)"
   ]
  },
  {
   "cell_type": "markdown",
   "metadata": {},
   "source": [
    "First we check the initial model performance"
   ]
  },
  {
   "cell_type": "code",
   "execution_count": 5,
   "metadata": {},
   "outputs": [
    {
     "name": "stderr",
     "output_type": "stream",
     "text": [
      "D:\\Anaconda3\\envs\\py36\\lib\\site-packages\\sklearn\\feature_extraction\\text.py:1015: FutureWarning: Conversion of the second argument of issubdtype from `float` to `np.floating` is deprecated. In future, it will be treated as `np.float64 == np.dtype(float).type`.\n",
      "  if hasattr(X, 'dtype') and np.issubdtype(X.dtype, np.float):\n"
     ]
    },
    {
     "name": "stdout",
     "output_type": "stream",
     "text": [
      "length of total comps:  1566\n",
      "pretrained alcohol classifer:  261 different item in whole dataset\n",
      "accuracy: 83.333333%\n",
      "F1 Score:  0.8718703976435936\n",
      "alcohol LR AUC:  0.8722371835589783\n"
     ]
    }
   ],
   "source": [
    "clf_alc_initial.fit(X_train, y_train)\n",
    "# predict in testing set.\n",
    "y_alc_initial = clf_alc_initial.predict(X_test)\n",
    "# print('length of testing set: ', len(y_alc_initial))\n",
    "computeAccuracy(y_alc_initial, y_test)\n",
    "f1 = computeF1Score(y_test, y_alc_initial)\n",
    "print('F1 Score: ', f1)\n",
    "auc_score_initial = computeAUC(clf_alc_initial, X_test, y_test, plot=False)\n",
    "# auc_score = computeAUC(clf_alc_LR_updateParams, X_train, y_train, X_test, y_test, plot=True, plotTitle=\"Alcohol ROC Curve\")\n",
    "print('alcohol LR AUC: ', auc_score_initial)"
   ]
  },
  {
   "cell_type": "markdown",
   "metadata": {
    "collapsed": true
   },
   "source": [
    "Then we make our own RF model and update structure parameters in RF model. To make sure they become same with the initial model"
   ]
  },
  {
   "cell_type": "code",
   "execution_count": 9,
   "metadata": {},
   "outputs": [
    {
     "data": {
      "text/plain": [
       "[('features', FeatureUnion(n_jobs=1,\n",
       "         transformer_list=[('text', Pipeline(steps=[('getter', ItemGetter(key='text')), ('tfidf', TfidfVectorizer(analyzer='char', binary=False, decode_error='strict',\n",
       "          dtype=<class 'numpy.int64'>, encoding='utf-8', input='content',\n",
       "          lowercase=True, max_df=1.0, max_features=71233, min_df=1,\n",
       "     ...      token_pattern='(?u)\\\\b\\\\w\\\\w+\\\\b', tokenizer=None, use_idf=True,\n",
       "          vocabulary=None))]))],\n",
       "         transformer_weights=None)),\n",
       " ('scaler', Normalizer(copy=True, norm='l2')),\n",
       " ('clf',\n",
       "  RandomForestClassifier(bootstrap=True, class_weight=None, criterion='gini',\n",
       "              max_depth=None, max_features='auto', max_leaf_nodes=None,\n",
       "              min_samples_leaf=1, min_samples_split=2,\n",
       "              min_weight_fraction_leaf=0.0, n_estimators=10, n_jobs=1,\n",
       "              oob_score=False, random_state=None, verbose=0,\n",
       "              warm_start=False))]"
      ]
     },
     "execution_count": 9,
     "metadata": {},
     "output_type": "execute_result"
    }
   ],
   "source": [
    "clf_alc_RF = AlcoholPipeline(global_features=[\"text\"]).pipeline(RandomForestClassifier())\n",
    "params_RF = {'features__text__tfidf__dtype':np.int64, 'features__text__tfidf__max_features':71233, 'features__text__tfidf__ngram_range':(2,5) \n",
    "            }\n",
    "# to see all parameters in model\n",
    "# clf_alc_LR_updateParams.get_params().keys()\n",
    "clf_alc_RF.set_params(**params_RF)\n",
    "clf_alc_RF.steps"
   ]
  },
  {
   "cell_type": "markdown",
   "metadata": {},
   "source": [
    "Train the SVM model (with updated parameters), and predict in testing set"
   ]
  },
  {
   "cell_type": "code",
   "execution_count": 11,
   "metadata": {},
   "outputs": [
    {
     "name": "stderr",
     "output_type": "stream",
     "text": [
      "D:\\Anaconda3\\envs\\py36\\lib\\site-packages\\sklearn\\feature_extraction\\text.py:1015: FutureWarning: Conversion of the second argument of issubdtype from `float` to `np.floating` is deprecated. In future, it will be treated as `np.float64 == np.dtype(float).type`.\n",
      "  if hasattr(X, 'dtype') and np.issubdtype(X.dtype, np.float):\n",
      "D:\\Anaconda3\\envs\\py36\\lib\\site-packages\\sklearn\\feature_extraction\\text.py:1015: FutureWarning: Conversion of the second argument of issubdtype from `float` to `np.floating` is deprecated. In future, it will be treated as `np.float64 == np.dtype(float).type`.\n",
      "  if hasattr(X, 'dtype') and np.issubdtype(X.dtype, np.float):\n"
     ]
    },
    {
     "name": "stdout",
     "output_type": "stream",
     "text": [
      "length of total comps:  1566\n",
      "pretrained alcohol classifer:  245 different item in whole dataset\n",
      "accuracy: 84.355045%\n",
      "F1 Score:  0.8715462918080465\n",
      "alcohol RF AUC:  0.8723071781169014\n"
     ]
    },
    {
     "data": {
      "text/plain": [
       "[('features', FeatureUnion(n_jobs=1,\n",
       "         transformer_list=[('text', Pipeline(steps=[('getter', ItemGetter(key='text')), ('tfidf', TfidfVectorizer(analyzer='char', binary=False, decode_error='strict',\n",
       "          dtype=<class 'numpy.int64'>, encoding='utf-8', input='content',\n",
       "          lowercase=True, max_df=1.0, max_features=71233, min_df=1,\n",
       "     ...      token_pattern='(?u)\\\\b\\\\w\\\\w+\\\\b', tokenizer=None, use_idf=True,\n",
       "          vocabulary=None))]))],\n",
       "         transformer_weights=None)),\n",
       " ('scaler', Normalizer(copy=True, norm='l2')),\n",
       " ('clf',\n",
       "  RandomForestClassifier(bootstrap=True, class_weight=None, criterion='gini',\n",
       "              max_depth=None, max_features='auto', max_leaf_nodes=None,\n",
       "              min_samples_leaf=1, min_samples_split=2,\n",
       "              min_weight_fraction_leaf=0.0, n_estimators=10, n_jobs=1,\n",
       "              oob_score=False, random_state=None, verbose=0,\n",
       "              warm_start=False))]"
      ]
     },
     "execution_count": 11,
     "metadata": {},
     "output_type": "execute_result"
    }
   ],
   "source": [
    "clf_alc_RF.fit(X_train, y_train)\n",
    "# predict in testing set.\n",
    "y_alc_RF = clf_alc_RF.predict(X_test)\n",
    "# print('length of testing set: ', len(y_alc_initial))\n",
    "computeAccuracy(y_alc_RF, y_test)\n",
    "f1_score_RF = computeF1Score(y_test, y_alc_SVM)\n",
    "print('F1 Score: ', f1_score_RF)\n",
    "# from sklearn.metrics import roc_auc_score\n",
    "# y_score = clf_alc_SVM.predict_proba(X_test)\n",
    "# roc_auc_score(y_test,y_score[:,1])\n",
    "# y_score[:,1]\n",
    "# print(y_score)\n",
    "auc_score_RF = computeAUC(clf_alc_RF, X_test, y_test, plot=False, RF=True)\n",
    "# auc_score = computeAUC(clf_alc_LR_updateParams, X_train, y_train, X_test, y_test, plot=True, plotTitle=\"Alcohol ROC Curve\")\n",
    "print('alcohol RF AUC: ', auc_score_RF)\n",
    "clf_alc_RF.steps"
   ]
  },
  {
   "cell_type": "markdown",
   "metadata": {},
   "source": [
    "We can see the RF model we build with updated parameters achieve almost the same results as the initial model, compared to initial model with 0.87 in F1 score and 0.87 in AUC score."
   ]
  },
  {
   "cell_type": "code",
   "execution_count": null,
   "metadata": {},
   "outputs": [],
   "source": []
  }
 ],
 "metadata": {
  "anaconda-cloud": {},
  "kernelspec": {
   "display_name": "Python 3",
   "language": "python",
   "name": "python3"
  },
  "language_info": {
   "codemirror_mode": {
    "name": "ipython",
    "version": 3
   },
   "file_extension": ".py",
   "mimetype": "text/x-python",
   "name": "python",
   "nbconvert_exporter": "python",
   "pygments_lexer": "ipython3",
   "version": "3.6.5"
  }
 },
 "nbformat": 4,
 "nbformat_minor": 2
}
