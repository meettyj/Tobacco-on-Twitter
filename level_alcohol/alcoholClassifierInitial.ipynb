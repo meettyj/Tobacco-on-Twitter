{
 "cells": [
  {
   "cell_type": "code",
   "execution_count": 1,
   "metadata": {},
   "outputs": [
    {
     "name": "stdout",
     "output_type": "stream",
     "text": [
      "0.17\n"
     ]
    }
   ],
   "source": [
    "import os\n",
    "os.chdir('C:/Users/eddie/Desktop/Prof. Rumi Chunara/alcohol')\n",
    "import pickle\n",
    "import sklearn\n",
    "print(sklearn.__version__)\n",
    "import pandas\n",
    "import numpy\n",
    "import sys"
   ]
  },
  {
   "cell_type": "code",
   "execution_count": 333,
   "metadata": {},
   "outputs": [],
   "source": [
    "# print(os.path.abspath(os.curdir))\n",
    "# os.chdir(os.path.abspath(os.curdir))"
   ]
  },
  {
   "cell_type": "code",
   "execution_count": 334,
   "metadata": {},
   "outputs": [],
   "source": [
    "clf_alc_initial = pickle.load(open('./alcohol classifiers/clf_alc_UPDATED.p', 'rb'))\n",
    "# clf_fpa    = pickle.load(open('./alcohol classifiers/clf_fpa_UPDATED.p', 'rb'))\n",
    "# clf_fpl_dl = pickle.load(open('./alcohol classifiers/clf_fpl_double_labeled', 'rb'))\n",
    "df = pandas.read_csv(\"./data/alcohol_training_instances.csv\")"
   ]
  },
  {
   "cell_type": "code",
   "execution_count": 336,
   "metadata": {},
   "outputs": [
    {
     "name": "stderr",
     "output_type": "stream",
     "text": [
      "D:\\Anaconda3\\envs\\py36\\lib\\site-packages\\sklearn\\feature_extraction\\text.py:1015: FutureWarning: Conversion of the second argument of issubdtype from `float` to `np.floating` is deprecated. In future, it will be treated as `np.float64 == np.dtype(float).type`.\n",
      "  if hasattr(X, 'dtype') and np.issubdtype(X.dtype, np.float):\n"
     ]
    },
    {
     "name": "stdout",
     "output_type": "stream",
     "text": [
      "[0 1 1 1 1 1 1 1 0 1]\n"
     ]
    }
   ],
   "source": [
    "pred_alc= clf_alc_initial.predict(df)\n",
    "print(pred_alc[:10])"
   ]
  },
  {
   "cell_type": "code",
   "execution_count": 337,
   "metadata": {},
   "outputs": [],
   "source": [
    "from sklearn.metrics import roc_curve, auc"
   ]
  },
  {
   "cell_type": "code",
   "execution_count": 338,
   "metadata": {},
   "outputs": [],
   "source": [
    "from sklearn.pipeline import Pipeline\n",
    "from sklearn.feature_extraction.text import TfidfVectorizer\n",
    "from sklearn.linear_model import LogisticRegression\n",
    "import twokenize.twokenize as tokenizer\n",
    "\n",
    "from pipelines.helpers import ItemGetter\n",
    "\n",
    "def make_classifier():\n",
    "    clf = Pipeline([\n",
    "        (\"getter\", ItemGetter(\"text\")),\n",
    "        (\"tfidf\", TfidfVectorizer()),\n",
    "        (\"clf\", LogisticRegression())])\n",
    "\n",
    "    clf_params = {\n",
    "        'clf__C': 200,\n",
    "        'clf__dual': False,\n",
    "        'clf__max_iter': 100,\n",
    "        'clf__multi_class': 'ovr',\n",
    "        'clf__penalty': 'l2',\n",
    "        'tfidf__tokenizer':tokenizer.tokenize,\n",
    "        'tfidf__ngram_range':(1, 3),\n",
    "        'tfidf__max_features':200000\n",
    "    }\n",
    "\n",
    "    clf.set_params(**clf_params)\n",
    "    return clf"
   ]
  },
  {
   "cell_type": "code",
   "execution_count": 339,
   "metadata": {},
   "outputs": [
    {
     "name": "stdout",
     "output_type": "stream",
     "text": [
      "[0, 1, 1, 1, 1, 1, 1, 1, 0, 1]\n",
      "15651\n"
     ]
    }
   ],
   "source": [
    "alc_labels = []\n",
    "# extracting pre-labeled classification\n",
    "for i in range(0,len(df.labels)):\n",
    "    alc_labels.append(df.labels[i][12])\n",
    "alc_labels = list(map(int, alc_labels))\n",
    "print(alc_labels[:10])\n",
    "print(len(alc_labels))"
   ]
  },
  {
   "cell_type": "code",
   "execution_count": 340,
   "metadata": {},
   "outputs": [],
   "source": [
    "# print(df.text[:2])\n",
    "# print(alc_labels[:2])"
   ]
  },
  {
   "cell_type": "code",
   "execution_count": 341,
   "metadata": {},
   "outputs": [],
   "source": [
    "# split data\n",
    "# from sklearn.model_selection import train_test_split\n",
    "from sklearn.cross_validation import train_test_split\n",
    "X_train, X_test, y_train, y_test = train_test_split(df, alc_labels, test_size=0.1, random_state=26)\n",
    "# print(df.labels[:5])"
   ]
  },
  {
   "cell_type": "code",
   "execution_count": 342,
   "metadata": {},
   "outputs": [],
   "source": [
    "# df[:5]\n",
    "# X_train[:5]\n",
    "# X_test[:5]\n",
    "# y_train[:5]\n",
    "# y_test[:5]\n",
    "# print('training set:', len(X_train))\n",
    "# print('testing set:', len(X_test))"
   ]
  },
  {
   "cell_type": "code",
   "execution_count": 343,
   "metadata": {},
   "outputs": [],
   "source": [
    "clf_alc_new = make_classifier()"
   ]
  },
  {
   "cell_type": "code",
   "execution_count": 344,
   "metadata": {},
   "outputs": [
    {
     "name": "stderr",
     "output_type": "stream",
     "text": [
      "D:\\Anaconda3\\envs\\py36\\lib\\site-packages\\sklearn\\feature_extraction\\text.py:1015: FutureWarning: Conversion of the second argument of issubdtype from `float` to `np.floating` is deprecated. In future, it will be treated as `np.float64 == np.dtype(float).type`.\n",
      "  if hasattr(X, 'dtype') and np.issubdtype(X.dtype, np.float):\n"
     ]
    },
    {
     "name": "stdout",
     "output_type": "stream",
     "text": [
      "Wall time: 4.25 s\n"
     ]
    },
    {
     "data": {
      "text/plain": [
       "Pipeline(steps=[('getter', ItemGetter(key='text')), ('tfidf', TfidfVectorizer(analyzer='word', binary=False, decode_error='strict',\n",
       "        dtype=<class 'numpy.int64'>, encoding='utf-8', input='content',\n",
       "        lowercase=True, max_df=1.0, max_features=200000, min_df=1,\n",
       "        ngram_range=(1, 3), norm='l2',...ty='l2', random_state=None, solver='liblinear', tol=0.0001,\n",
       "          verbose=0, warm_start=False))])"
      ]
     },
     "execution_count": 344,
     "metadata": {},
     "output_type": "execute_result"
    }
   ],
   "source": [
    "%%time\n",
    "clf_alc_new.fit(X_train, y_train)\n",
    "# pred_alc_new= clf_alc.predict(X_test)\n",
    "# pred_alc_new= clf_alc.predict(df)"
   ]
  },
  {
   "cell_type": "code",
   "execution_count": 345,
   "metadata": {},
   "outputs": [
    {
     "name": "stdout",
     "output_type": "stream",
     "text": [
      "[1 1 1 0 1 1 0 1 0 1 1 1 1 1 1 0 0 0 1 1]\n",
      "[1, 1, 1, 0, 1, 1, 0, 1, 0, 1, 1, 1, 1, 1, 1, 0, 0, 0, 1, 1]\n"
     ]
    },
    {
     "name": "stderr",
     "output_type": "stream",
     "text": [
      "D:\\Anaconda3\\envs\\py36\\lib\\site-packages\\sklearn\\feature_extraction\\text.py:1015: FutureWarning: Conversion of the second argument of issubdtype from `float` to `np.floating` is deprecated. In future, it will be treated as `np.float64 == np.dtype(float).type`.\n",
      "  if hasattr(X, 'dtype') and np.issubdtype(X.dtype, np.float):\n"
     ]
    }
   ],
   "source": [
    "y_alc_new= clf_alc_new.predict(X_test)\n",
    "# pred_alc_new= clf_alc.predict(df)\n",
    "print(y_alc_new[:20])\n",
    "print(y_test[:20])\n",
    "# print(len(pred_alc_new))\n",
    "# print(len(y_test))"
   ]
  },
  {
   "cell_type": "code",
   "execution_count": 346,
   "metadata": {},
   "outputs": [],
   "source": [
    "# def computeAccuracy(y_predict, y_gt):\n",
    "# # comps = y_test[:100] != pred_alc_new[:100]\n",
    "#     comps = y_gt != y_predict\n",
    "#     # print(comps[:100])\n",
    "#     print('length of total comps: ', len(comps))\n",
    "#     diff = list(numpy.where(comps)[0])\n",
    "#     # print('length of difference: ', len(diff))\n",
    "#     # print(diff)\n",
    "#     print('pretrained alcohol classifer:  %d different item in whole dataset'%(len(diff)))\n",
    "#     acc = (len(comps)-len(diff))/len(comps)*100\n",
    "#     print('accuracy: %f%%'%(acc))\n",
    "#     return acc"
   ]
  },
  {
   "cell_type": "code",
   "execution_count": 347,
   "metadata": {},
   "outputs": [],
   "source": [
    "# from sklearn.metrics import f1_score\n",
    "# def computeF1Score(y_gt, y_predict):\n",
    "# #     kwargs = {}\n",
    "# #     kwargs[\"average\"] = 'micro'\n",
    "# #     f1 = f1_score(y_true=y_gt, y_pred=y_alc_initial, **kwargs)\n",
    "#     f1 = f1_score(y_true=y_gt, y_pred=y_predict)\n",
    "#     return f1"
   ]
  },
  {
   "cell_type": "code",
   "execution_count": 348,
   "metadata": {},
   "outputs": [],
   "source": [
    "from evaluation.metric import computeAccuracy, computeF1Score"
   ]
  },
  {
   "cell_type": "code",
   "execution_count": 349,
   "metadata": {},
   "outputs": [
    {
     "name": "stdout",
     "output_type": "stream",
     "text": [
      "length of total comps:  1566\n",
      "pretrained alcohol classifer:  288 different item in whole dataset\n",
      "accuracy: 81.609195%\n"
     ]
    },
    {
     "data": {
      "text/plain": [
       "81.60919540229885"
      ]
     },
     "execution_count": 349,
     "metadata": {},
     "output_type": "execute_result"
    }
   ],
   "source": [
    "computeAccuracy(y_alc_new, y_test)"
   ]
  },
  {
   "cell_type": "code",
   "execution_count": 350,
   "metadata": {},
   "outputs": [
    {
     "name": "stdout",
     "output_type": "stream",
     "text": [
      "alcohol LR AUC:  0.7702148657941845\n"
     ]
    }
   ],
   "source": [
    "from sklearn.metrics import roc_curve, auc\n",
    "from sklearn.metrics import roc_auc_score\n",
    "auc_score_new = roc_auc_score(y_test,pred_alc_new)\n",
    "print('alcohol LR AUC: ', auc_score_new)"
   ]
  },
  {
   "cell_type": "code",
   "execution_count": 351,
   "metadata": {},
   "outputs": [
    {
     "data": {
      "text/plain": [
       "Pipeline(steps=[('features', FeatureUnion(n_jobs=1,\n",
       "       transformer_list=[('text', Pipeline(steps=[('getter', ItemGetter(key='text')), ('tfidf', TfidfVectorizer(analyzer='char', binary=False, decode_error='strict',\n",
       "        dtype=<class 'numpy.int64'>, encoding='utf-8', input='content',\n",
       "        lowercase=T...one,\n",
       "          solver='liblinear', tol=0.000655077907893521, verbose=0,\n",
       "          warm_start=None))])"
      ]
     },
     "execution_count": 351,
     "metadata": {},
     "output_type": "execute_result"
    }
   ],
   "source": [
    "clf_alc_initial"
   ]
  },
  {
   "cell_type": "markdown",
   "metadata": {},
   "source": [
    "Predict in whole dataset to see the accuracy of initial loaded model"
   ]
  },
  {
   "cell_type": "code",
   "execution_count": 352,
   "metadata": {},
   "outputs": [
    {
     "name": "stderr",
     "output_type": "stream",
     "text": [
      "D:\\Anaconda3\\envs\\py36\\lib\\site-packages\\sklearn\\feature_extraction\\text.py:1015: FutureWarning: Conversion of the second argument of issubdtype from `float` to `np.floating` is deprecated. In future, it will be treated as `np.float64 == np.dtype(float).type`.\n",
      "  if hasattr(X, 'dtype') and np.issubdtype(X.dtype, np.float):\n"
     ]
    },
    {
     "name": "stdout",
     "output_type": "stream",
     "text": [
      "length of total comps:  15651\n",
      "pretrained alcohol classifer:  8 different item in whole dataset\n",
      "accuracy: 99.948885%\n",
      "alcohol LR AUC:  0.9994771039256063\n"
     ]
    }
   ],
   "source": [
    "y_whole_alc_initial = clf_alc_initial.predict(df)\n",
    "computeAccuracy(y_whole_alc_initial, alc_labels)\n",
    "auc_score_initial = roc_auc_score(alc_labels,y_whole_alc_initial)\n",
    "print('alcohol LR AUC: ', auc_score_initial)"
   ]
  },
  {
   "cell_type": "markdown",
   "metadata": {},
   "source": [
    "Training in training set"
   ]
  },
  {
   "cell_type": "code",
   "execution_count": 353,
   "metadata": {},
   "outputs": [
    {
     "name": "stderr",
     "output_type": "stream",
     "text": [
      "D:\\Anaconda3\\envs\\py36\\lib\\site-packages\\sklearn\\feature_extraction\\text.py:1015: FutureWarning: Conversion of the second argument of issubdtype from `float` to `np.floating` is deprecated. In future, it will be treated as `np.float64 == np.dtype(float).type`.\n",
      "  if hasattr(X, 'dtype') and np.issubdtype(X.dtype, np.float):\n"
     ]
    },
    {
     "data": {
      "text/plain": [
       "Pipeline(steps=[('features', FeatureUnion(n_jobs=1,\n",
       "       transformer_list=[('text', Pipeline(steps=[('getter', ItemGetter(key='text')), ('tfidf', TfidfVectorizer(analyzer='char', binary=False, decode_error='strict',\n",
       "        dtype=<class 'numpy.int64'>, encoding='utf-8', input='content',\n",
       "        lowercase=T...one,\n",
       "          solver='liblinear', tol=0.000655077907893521, verbose=0,\n",
       "          warm_start=None))])"
      ]
     },
     "execution_count": 353,
     "metadata": {},
     "output_type": "execute_result"
    }
   ],
   "source": [
    "import numpy as np\n",
    "# clf_alc_initial.fit(X_train, np.asarray(y_train))\n",
    "clf_alc_initial.fit(X_train, y_train)"
   ]
  },
  {
   "cell_type": "markdown",
   "metadata": {},
   "source": [
    "Predict in testing set"
   ]
  },
  {
   "cell_type": "code",
   "execution_count": 354,
   "metadata": {},
   "outputs": [
    {
     "name": "stdout",
     "output_type": "stream",
     "text": [
      "length of total comps:  1566\n",
      "pretrained alcohol classifer:  261 different item in whole dataset\n",
      "accuracy: 83.333333%\n",
      "F1 Score:  0.8718703976435936\n",
      "alcohol LR AUC:  0.8099516512591146\n"
     ]
    },
    {
     "name": "stderr",
     "output_type": "stream",
     "text": [
      "D:\\Anaconda3\\envs\\py36\\lib\\site-packages\\sklearn\\feature_extraction\\text.py:1015: FutureWarning: Conversion of the second argument of issubdtype from `float` to `np.floating` is deprecated. In future, it will be treated as `np.float64 == np.dtype(float).type`.\n",
      "  if hasattr(X, 'dtype') and np.issubdtype(X.dtype, np.float):\n"
     ]
    }
   ],
   "source": [
    "# predict in testing set.\n",
    "y_alc_initial = clf_alc_initial.predict(X_test)\n",
    "# print('length of testing set: ', len(y_alc_initial))\n",
    "computeAccuracy(y_alc_initial, y_test)\n",
    "auc_score_initial = roc_auc_score(y_test,y_alc_initial)\n",
    "f1 = computeF1Score(y_test, y_alc_initial)\n",
    "print('F1 Score: ', f1)\n",
    "print('alcohol LR AUC: ', auc_score_initial)"
   ]
  },
  {
   "cell_type": "markdown",
   "metadata": {},
   "source": [
    "Test in training set to figure out why the test accuracy is low"
   ]
  },
  {
   "cell_type": "code",
   "execution_count": 355,
   "metadata": {},
   "outputs": [
    {
     "name": "stderr",
     "output_type": "stream",
     "text": [
      "D:\\Anaconda3\\envs\\py36\\lib\\site-packages\\sklearn\\feature_extraction\\text.py:1015: FutureWarning: Conversion of the second argument of issubdtype from `float` to `np.floating` is deprecated. In future, it will be treated as `np.float64 == np.dtype(float).type`.\n",
      "  if hasattr(X, 'dtype') and np.issubdtype(X.dtype, np.float):\n"
     ]
    },
    {
     "name": "stdout",
     "output_type": "stream",
     "text": [
      "length of total comps:  14085\n",
      "pretrained alcohol classifer:  3 different item in whole dataset\n",
      "accuracy: 99.978701%\n",
      "F1 Score:  0.9998388396454472\n",
      "alcohol LR AUC:  0.9997878973332235\n"
     ]
    }
   ],
   "source": [
    "# test in training set to figure out why the test accuracy is low\n",
    "y_train_alc_initial = clf_alc_initial.predict(X_train)\n",
    "computeAccuracy(y_train_alc_initial, y_train)\n",
    "auc_score_initial = roc_auc_score(y_train,y_train_alc_initial)\n",
    "f1 = computeF1Score(y_train, y_train_alc_initial)\n",
    "print('F1 Score: ', f1)\n",
    "print('alcohol LR AUC: ', auc_score_initial)"
   ]
  },
  {
   "cell_type": "markdown",
   "metadata": {},
   "source": [
    "Refit whole dataset instead of training-testing split dataset to see, if we can get the same wrong number as in initial model loaded from pickle."
   ]
  },
  {
   "cell_type": "code",
   "execution_count": 356,
   "metadata": {},
   "outputs": [],
   "source": [
    "# # refit whole dataset instead of training-testing split to see, if we can get the same wrong number as in initial model loaded from pickle.\n",
    "# clf_alc_initial.fit(df, alc_labels)\n",
    "# y_whole_alc_initial = clf_alc_initial.predict(df)\n",
    "# computeAccuracy(y_whole_alc_initial, alc_labels)\n",
    "# auc_score_initial = roc_auc_score(alc_labels,y_whole_alc_initial)\n",
    "# print('alcohol LR AUC: ', auc_score_initial)"
   ]
  },
  {
   "cell_type": "markdown",
   "metadata": {},
   "source": [
    "Report function from Jason's work. Include confusion matrix. Maybe used in the future"
   ]
  },
  {
   "cell_type": "code",
   "execution_count": 357,
   "metadata": {},
   "outputs": [],
   "source": [
    "# from classification.reporting import ClassificationReporting\n",
    "# reporting_new = ClassificationReporting(clf_alc_new, X_train, X_test, y_train, y_test, 2)\n",
    "# reporting_initial = ClassificationReporting(clf_alc_initial, X_train, X_test, y_train, y_test, 2)"
   ]
  },
  {
   "cell_type": "code",
   "execution_count": 358,
   "metadata": {},
   "outputs": [],
   "source": [
    "# %%time\n",
    "# report_new = reporting_new.set_name(\"Test new classifier\").set_level('alc_new').create_report(1)"
   ]
  },
  {
   "cell_type": "code",
   "execution_count": 359,
   "metadata": {},
   "outputs": [],
   "source": [
    "# report_initial = reporting_initial.set_name(\"Test initial classifier\").set_level('alc_initial').create_report(1)"
   ]
  },
  {
   "cell_type": "markdown",
   "metadata": {},
   "source": [
    "Trying to convert the LR model to SVM model."
   ]
  },
  {
   "cell_type": "code",
   "execution_count": 360,
   "metadata": {},
   "outputs": [],
   "source": [
    "# clf_alc_initial.set_params(clf_alc_initial.named_steps['clf']=LinearSVC())\n",
    "clf_alc_initial.named_steps['clf']=LinearSVC()"
   ]
  },
  {
   "cell_type": "code",
   "execution_count": 361,
   "metadata": {},
   "outputs": [
    {
     "data": {
      "text/plain": [
       "FeatureUnion(n_jobs=1, transformer_list='text', transformer_weights=None)"
      ]
     },
     "execution_count": 361,
     "metadata": {},
     "output_type": "execute_result"
    }
   ],
   "source": [
    "from sklearn.svm import LinearSVC\n",
    "from sklearn.pipeline import FeatureUnion\n",
    "# params = {'features': FeatureUnion()}\n",
    "# clf_alc_SVM = clf_alc_initial.set_params(**params)\n",
    "# params = {'clf': LinearSVC()}\n",
    "# clf_alc_SVM = clf_alc_initial.set_params(**params)\n",
    "# params = {'steps[2]'=LinearSVC()}\n",
    "# clf_alc_SVM = clf_alc_initial.set_params(**params)\n",
    "# LinearSVC()\n",
    "# clf_alc_initial.fit(X_train, y_train, clf__sample_weight=np.array([3,4,2,3]))\n",
    "#  = LinearSVC())\n",
    "FeatureUnion(transformer_list='text')"
   ]
  },
  {
   "cell_type": "code",
   "execution_count": 362,
   "metadata": {},
   "outputs": [
    {
     "name": "stdout",
     "output_type": "stream",
     "text": [
      "<class 'sklearn.pipeline.Pipeline'>\n",
      "<class 'list'>\n"
     ]
    },
    {
     "ename": "AttributeError",
     "evalue": "'list' object has no attribute 'set_params'",
     "output_type": "error",
     "traceback": [
      "\u001b[1;31m---------------------------------------------------------------------------\u001b[0m",
      "\u001b[1;31mAttributeError\u001b[0m                            Traceback (most recent call last)",
      "\u001b[1;32m<ipython-input-362-1263ec46bc2e>\u001b[0m in \u001b[0;36m<module>\u001b[1;34m()\u001b[0m\n\u001b[0;32m      5\u001b[0m \u001b[1;31m# sub_model[2]\u001b[0m\u001b[1;33m\u001b[0m\u001b[1;33m\u001b[0m\u001b[0m\n\u001b[0;32m      6\u001b[0m \u001b[0mparams_SVM\u001b[0m \u001b[1;33m=\u001b[0m \u001b[1;33m{\u001b[0m\u001b[1;34m'clf'\u001b[0m\u001b[1;33m:\u001b[0m \u001b[0mLinearSVC\u001b[0m\u001b[1;33m(\u001b[0m\u001b[1;33m)\u001b[0m\u001b[1;33m}\u001b[0m\u001b[1;33m\u001b[0m\u001b[0m\n\u001b[1;32m----> 7\u001b[1;33m \u001b[0msub_model_SVM\u001b[0m \u001b[1;33m=\u001b[0m \u001b[0msub_model\u001b[0m\u001b[1;33m.\u001b[0m\u001b[0mset_params\u001b[0m\u001b[1;33m(\u001b[0m\u001b[1;33m**\u001b[0m\u001b[0mparams_SVM\u001b[0m\u001b[1;33m)\u001b[0m\u001b[1;33m\u001b[0m\u001b[0m\n\u001b[0m",
      "\u001b[1;31mAttributeError\u001b[0m: 'list' object has no attribute 'set_params'"
     ]
    }
   ],
   "source": [
    "print(type(clf_alc_initial))\n",
    "print(type(sub_model))\n",
    "\n",
    "sub_model = clf_alc_initial.steps\n",
    "# sub_model[2]\n",
    "params_SVM = {'clf': LinearSVC()}\n",
    "sub_model_SVM = sub_model.set_params(**params_SVM)"
   ]
  },
  {
   "cell_type": "code",
   "execution_count": null,
   "metadata": {},
   "outputs": [],
   "source": [
    "clf_alc.steps"
   ]
  },
  {
   "cell_type": "code",
   "execution_count": null,
   "metadata": {},
   "outputs": [],
   "source": []
  }
 ],
 "metadata": {
  "kernelspec": {
   "display_name": "Python 3",
   "language": "python",
   "name": "python3"
  },
  "language_info": {
   "codemirror_mode": {
    "name": "ipython",
    "version": 3
   },
   "file_extension": ".py",
   "mimetype": "text/x-python",
   "name": "python",
   "nbconvert_exporter": "python",
   "pygments_lexer": "ipython3",
   "version": "3.6.5"
  }
 },
 "nbformat": 4,
 "nbformat_minor": 2
}
