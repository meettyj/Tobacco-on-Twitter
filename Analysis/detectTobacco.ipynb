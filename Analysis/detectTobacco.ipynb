{
 "cells": [
  {
   "cell_type": "code",
   "execution_count": 25,
   "metadata": {},
   "outputs": [],
   "source": [
    "import os\n",
    "os.chdir('C:/Users/eddie/Desktop/Prof. Rumi Chunara/alcohol')\n",
    "\n",
    "import pandas"
   ]
  },
  {
   "cell_type": "code",
   "execution_count": 26,
   "metadata": {},
   "outputs": [],
   "source": [
    "df = pandas.read_csv(\"./data/alcohol_training_instances.csv\")"
   ]
  },
  {
   "cell_type": "code",
   "execution_count": 27,
   "metadata": {},
   "outputs": [],
   "source": [
    "alcoholText = df.text"
   ]
  },
  {
   "cell_type": "code",
   "execution_count": 28,
   "metadata": {},
   "outputs": [
    {
     "data": {
      "text/plain": [
       "<bound method NDFrame.head of 0        Impatiently waiting to get our hands on the ne...\n",
       "1        Beer fans need their @ColumbusBrewing Bodhi. I...\n",
       "2        Beer Olympics with my #1 fan and babe😍❤️ #Team...\n",
       "3        Stone Cold use to be the baddest MF in my book...\n",
       "4        Now @iamjohnoliver has to drink a Bud Light Li...\n",
       "5        Drinking a Soft Parade by @ShortsBrewing @ Lak...\n",
       "6             Its only Tuesday and I need a drink or four.\n",
       "7        jess told me no puking this friday.. so that m...\n",
       "8        I'm  ready for a yard sale and to sell all the...\n",
       "9                             Sweeter than muska dime wine\n",
       "10       eat her till she cry, call that wine and dine☺️😋🍹\n",
       "11       \"I need a drink because I'm upset about some p...\n",
       "12       Business hours are between 1 1/2 and 5 drinks. ;)\n",
       "13       Drinking a PHL Session IPA by @phillybrewing a...\n",
       "14       So for now, no drinking for the foreseeable fu...\n",
       "15       .@MagicTreePub &amp; Eatery has T-Shirt Tuesda...\n",
       "16       The Brewhouse Grille at Dash Inn has 15 beers ...\n",
       "17       Drinking a Buried Hatchet by @SouthernStarBC @...\n",
       "18       After a Sucks and a Double Jack this isn't tha...\n",
       "19       Drinking an Osiris Pale Ale by @SunKingBrewing...\n",
       "20                       FUCK I NEED THE NEW NAKED PALETTE\n",
       "21       Seems necessary to consume a bottle of wine af...\n",
       "22       Come thru for beer pong tonight but only if yo...\n",
       "23       Drinking a SaisonHands by @tiredhandsbeer at @...\n",
       "24                      I'll be fine just drinking my wine\n",
       "25       Root Beer is one of the top 5 best Cold Drinks...\n",
       "26       Drinking a Pale Ale by @SierraNevada at @jpete...\n",
       "27       Session IPA. - Drinking an Even Keel by @bpbre...\n",
       "28       Drinking a Palm Spéciale by @palmbelgie at @ra...\n",
       "29                                    beers with no vu ...\n",
       "                               ...                        \n",
       "15621    Loving me some Timmy Time on Whiskey Wednesday...\n",
       "15622    @AGold_89 Agreed, I dig them. I couldn't resis...\n",
       "15623    @ParmB @Good_Guy69 @CUSSBRO @JeevesAlly @ekeog...\n",
       "15624    Drinks at The Standard Hotel 😍✨ #NewYorkSkyLin...\n",
       "15625    My wife, she made me dinner, baked me cupcakes...\n",
       "15626    @alene721 @rinkydnk2 @HeidimswHeidi @joselouis...\n",
       "15627    @cacci0la there is no such thing as a bad time...\n",
       "15628      Sip wine with yo bitch  https://t.co/g8cG0OdcQP\n",
       "15629    Customize your @casadragones Tequila with a pe...\n",
       "15630    @KateChadwick616 @barbsobel @gin_murray @weare...\n",
       "15631    It's #Wednesday and that means it's #BeerBQ ni...\n",
       "15632    But, but, but...they just want us all to butt ...\n",
       "15633       @GreenEyezzzzz FINE! I stole drinks from Rita.\n",
       "15634    Basic PA. Fresh from a Chicago tap room. - Dri...\n",
       "15635    Tuesday night mini golf for the win. #SPintern...\n",
       "15636    Sipping on a cocktail, tiki torches, at the la...\n",
       "15637    15\"For he will be great in the sight of the Lo...\n",
       "15638    Rickk ross was areested for kidnapping....gues...\n",
       "15639    Whatcha know bout Ferndale 8 @ Lake Champion, ...\n",
       "15640    @karlykahlert @higginding Tom Petty is there t...\n",
       "15641    Busy night at @drinkatfranklin @ The Franklin ...\n",
       "15642    Casually drinking the best beer in the world. ...\n",
       "15643    How to open a beer using a banana. http://t.co...\n",
       "15644    That settles it. Iverson wasn't drunk cause he...\n",
       "15645    Happy Birthday to my little drunk bear! Get dr...\n",
       "15646    Are you an engine or an anchor? https://t.co/O...\n",
       "15647    \"@_CollegeHumor_: Reading text messages when y...\n",
       "15648    Just learned a lot about yeast from the @CSBre...\n",
       "15649    Well @ChelseaKane @taylorswift13 @thatasianjp1...\n",
       "15650    Obama gotta take his staff out drinking tonigh...\n",
       "Name: text, Length: 15651, dtype: object>"
      ]
     },
     "execution_count": 28,
     "metadata": {},
     "output_type": "execute_result"
    }
   ],
   "source": [
    "alcoholText.head"
   ]
  },
  {
   "cell_type": "code",
   "execution_count": 29,
   "metadata": {},
   "outputs": [
    {
     "name": "stdout",
     "output_type": "stream",
     "text": [
      "<class 'pandas.core.series.Series'>\n",
      "15651\n"
     ]
    }
   ],
   "source": [
    "print(type(alcoholText))\n",
    "print(len(alcoholText))"
   ]
  },
  {
   "cell_type": "code",
   "execution_count": 30,
   "metadata": {
    "scrolled": true
   },
   "outputs": [],
   "source": [
    "smokeList = []\n",
    "smokList = [] # Include those start with 'smok' but not 'smoke' (e.g. smoking, smoky).\n",
    "cigaList = [] # Result for cigar and ciga is same\n",
    "\n",
    "marijuanaList = []\n",
    "weedList = []\n",
    "cocaineList = []\n",
    "pillList = []\n",
    "drugList = []\n",
    "\n",
    "for line in alcoholText:\n",
    "    lowercaseLine = line.lower()\n",
    "    if 'smoke' in lowercaseLine:\n",
    "        smokeList.append(line)\n",
    "    elif 'smok' in lowercaseLine:\n",
    "        smokList.append(line)\n",
    "    if 'ciga' in lowercaseLine:\n",
    "        cigaList.append(line)\n",
    "    \n",
    "    if 'marijuana' in lowercaseLine:\n",
    "        marijuanaList.append(line)\n",
    "    if 'weed' in lowercaseLine:\n",
    "        weedList.append(line)\n",
    "    if 'cocaine' in lowercaseLine:\n",
    "        cocaineList.append(line)\n",
    "    if 'pill' in lowercaseLine and 'spill' not in lowercaseLine and 'pillow' not in lowercaseLine:\n",
    "        pillList.append(line)\n",
    "    if 'drug' in lowercaseLine:\n",
    "        drugList.append(line)\n",
    "    \n",
    "    \n",
    "    "
   ]
  },
  {
   "cell_type": "code",
   "execution_count": 33,
   "metadata": {},
   "outputs": [
    {
     "name": "stdout",
     "output_type": "stream",
     "text": [
      "smokeList: 145 items\n",
      "smokList: 60 items\n",
      "cigaList: 39 items\n",
      "\n",
      "marijuanaList: 4 items\n",
      "weedList: 66 items\n",
      "cocaineList: 8 items\n",
      "pillList: 11 items\n",
      "drugList: 54 items\n"
     ]
    }
   ],
   "source": [
    "print('smokeList: %d items' %(len(smokeList)))\n",
    "print('smokList: %d items' %(len(smokList)))\n",
    "print('cigaList: %d items' %(len(cigaList)))\n",
    "\n",
    "print()\n",
    "print('marijuanaList: %d items' %(len(marijuanaList)))\n",
    "print('weedList: %d items' %(len(weedList)))\n",
    "print('cocaineList: %d items' %(len(cocaineList)))\n",
    "print('pillList: %d items' %(len(pillList)))\n",
    "print('drugList: %d items' %(len(drugList)))\n",
    "\n"
   ]
  },
  {
   "cell_type": "code",
   "execution_count": 39,
   "metadata": {},
   "outputs": [],
   "source": [
    "allList = []\n",
    "allList.extend(smokeList)\n",
    "allList.extend(smokList)\n",
    "allList.extend(cigaList)\n",
    "allList.extend(smokeList)\n",
    "allList.extend(marijuanaList)\n",
    "allList.extend(weedList)\n",
    "allList.extend(cocaineList)\n",
    "allList.extend(pillList)\n",
    "allList.extend(drugList)\n",
    "\n",
    "# Remove duplicated item in allList\n",
    "allList = list(set(allList))"
   ]
  },
  {
   "cell_type": "code",
   "execution_count": 45,
   "metadata": {},
   "outputs": [
    {
     "name": "stdout",
     "output_type": "stream",
     "text": [
      "allList: 346 items\n",
      "The percentage of drug/smoke related tweets in entire 15651 tweets is 2.210721%\n"
     ]
    }
   ],
   "source": [
    "print('allList: %d items' %(len(allList)))\n",
    "percentage = len(allList)/len(alcoholText)*100\n",
    "print('The percentage of drug/smoke related tweets in entire %d tweets is %f%%' %(len(alcoholText), percentage))"
   ]
  },
  {
   "cell_type": "markdown",
   "metadata": {},
   "source": [
    "For drug/smoke related tweets, it includes keywords like 'smoke', 'ciga', 'marijuana', 'weed', 'cocaine', 'pill' and 'drug'. Cannot find any tweet contain keyword 'tobacco'."
   ]
  },
  {
   "cell_type": "code",
   "execution_count": null,
   "metadata": {},
   "outputs": [],
   "source": []
  }
 ],
 "metadata": {
  "kernelspec": {
   "display_name": "Python 3",
   "language": "python",
   "name": "python3"
  },
  "language_info": {
   "codemirror_mode": {
    "name": "ipython",
    "version": 3
   },
   "file_extension": ".py",
   "mimetype": "text/x-python",
   "name": "python",
   "nbconvert_exporter": "python",
   "pygments_lexer": "ipython3",
   "version": "3.6.5"
  }
 },
 "nbformat": 4,
 "nbformat_minor": 2
}
