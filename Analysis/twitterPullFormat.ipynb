{
 "cells": [
  {
   "cell_type": "markdown",
   "metadata": {},
   "source": [
    "There are something wrong within the json format. Maybe we can ask Nabeel sometime."
   ]
  },
  {
   "cell_type": "code",
   "execution_count": 61,
   "metadata": {},
   "outputs": [],
   "source": [
    "# -*- coding: UTF-8 -*-\n",
    "import json"
   ]
  },
  {
   "cell_type": "code",
   "execution_count": 68,
   "metadata": {},
   "outputs": [
    {
     "name": "stdout",
     "output_type": "stream",
     "text": [
      "71\n",
      "\n"
     ]
    },
    {
     "ename": "IndexError",
     "evalue": "string index out of range",
     "output_type": "error",
     "traceback": [
      "\u001b[1;31m---------------------------------------------------------------------------\u001b[0m",
      "\u001b[1;31mIndexError\u001b[0m                                Traceback (most recent call last)",
      "\u001b[1;32m<ipython-input-68-4eb51e726f89>\u001b[0m in \u001b[0;36m<module>\u001b[1;34m()\u001b[0m\n\u001b[0;32m     13\u001b[0m \u001b[1;31m# print(example[220:235])\u001b[0m\u001b[1;33m\u001b[0m\u001b[1;33m\u001b[0m\u001b[0m\n\u001b[0;32m     14\u001b[0m \u001b[0mprint\u001b[0m\u001b[1;33m(\u001b[0m\u001b[0mexample\u001b[0m\u001b[1;33m[\u001b[0m\u001b[1;36m225\u001b[0m\u001b[1;33m:\u001b[0m\u001b[1;36m240\u001b[0m\u001b[1;33m]\u001b[0m\u001b[1;33m)\u001b[0m\u001b[1;33m\u001b[0m\u001b[0m\n\u001b[1;32m---> 15\u001b[1;33m \u001b[0mprint\u001b[0m\u001b[1;33m(\u001b[0m\u001b[0mexample\u001b[0m\u001b[1;33m[\u001b[0m\u001b[1;36m231\u001b[0m\u001b[1;33m]\u001b[0m\u001b[1;33m)\u001b[0m\u001b[1;33m\u001b[0m\u001b[0m\n\u001b[0m\u001b[0;32m     16\u001b[0m \u001b[0mprint\u001b[0m\u001b[1;33m(\u001b[0m\u001b[0mexample\u001b[0m\u001b[1;33m[\u001b[0m\u001b[1;33m:\u001b[0m\u001b[1;36m30\u001b[0m\u001b[1;33m]\u001b[0m\u001b[1;33m)\u001b[0m\u001b[1;33m\u001b[0m\u001b[0m\n",
      "\u001b[1;31mIndexError\u001b[0m: string index out of range"
     ]
    }
   ],
   "source": [
    "\n",
    "# example = '{\"created_at\":\"Wed Jan 04 04:39:31 +0000 2017\",\"id\":816504305968627712,\"id_str\":\"816504305968627712\",\"text\":\"La Firma con la celebridad del momento #FEREMA #adarle #matehualanoteacabes @ Feria Regional De\\u2026 https:\\/\\/t.co\\/jIGhs1dipy\",\"source\":\"\\u003ca href=\\\"http:\\/\\/instagram.com\\\" rel=\\\"nofollow\\\"\\u003eInstagram\\u003c\\/a\\u003e\",\"truncated\":false,\"in_reply_to_status_id\":null,\"in_reply_to_status_id_str\":null,\"in_reply_to_user_id\":null,\"in_reply_to_user_id_str\":null,\"in_reply_to_screen_name\":null,\"user\":{\"id\":133158564,\"id_str\":\"133158564\",\"name\":\"Oscar Sul\\u00e9\",\"screen_name\":\"Suls17\",\"location\":\"San Luis Potosi, Mexico\",\"url\":null,\"description\":null,\"protected\":false,\"verified\":false,\"followers_count\":142,\"friends_count\":99,\"listed_count\":3,\"favourites_count\":42,\"statuses_count\":2573,\"created_at\":\"Thu Apr 15 04:34:46 +0000 2010\",\"utc_offset\":-25200,\"time_zone\":\"Mountain Time (US & Canada)\",\"geo_enabled\":true,\"lang\":\"es\",\"contributors_enabled\":false,\"is_translator\":false,\"profile_background_color\":\"C0DEED\",\"profile_background_image_url\":\"http:\\/\\/abs.twimg.com\\/images\\/themes\\/theme1\\/bg.png\",\"profile_background_image_url_https\":\"https:\\/\\/abs.twimg.com\\/images\\/themes\\/theme1\\/bg.png\",\"profile_background_tile\":false,\"profile_link_color\":\"1DA1F2\",\"profile_sidebar_border_color\":\"C0DEED\",\"profile_sidebar_fill_color\":\"DDEEF6\",\"profile_text_color\":\"333333\",\"profile_use_background_image\":true,\"profile_image_url\":\"http:\\/\\/pbs.twimg.com\\/profile_images\\/651745235182092288\\/38vjxn7M_normal.jpg\",\"profile_image_url_https\":\"https:\\/\\/pbs.twimg.com\\/profile_images\\/651745235182092288\\/38vjxn7M_normal.jpg\",\"profile_banner_url\":\"https:\\/\\/pbs.twimg.com\\/profile_banners\\/133158564\\/1444223141\",\"default_profile\":true,\"default_profile_image\":false,\"following\":null,\"follow_request_sent\":null,\"notifications\":null},\"geo\":{\"type\":\"Point\",\"coordinates\":[23.65667125,-100.64221144]},\"coordinates\":{\"type\":\"Point\",\"coordinates\":[-100.64221144,23.65667125]},\"place\":{\"id\":\"6a487e9795d8d2c3\",\"url\":\"https:\\/\\/api.twitter.com\\/1.1\\/geo\\/id\\/6a487e9795d8d2c3.json\",\"place_type\":\"city\",\"name\":\"Matehuala\",\"full_name\":\"Matehuala, San Luis Potos\\u00ed\",\"country_code\":\"MX\",\"country\":\"M\\u00e9xico\",\"bounding_box\":{\"type\":\"Polygon\",\"coordinates\":[[[-100.783965,23.221630],[-100.783965,23.842282],[-100.446346,23.842282],[-100.446346,23.221630]]]},\"attributes\":{}},\"contributors\":null,\"is_quote_status\":false,\"retweet_count\":0,\"favorite_count\":0,\"entities\":{\"hashtags\":[{\"text\":\"FEREMA\",\"indices\":[39,46]},{\"text\":\"adarle\",\"indices\":[47,54]},{\"text\":\"matehualanoteacabes\",\"indices\":[55,75]}],\"urls\":[{\"url\":\"https:\\/\\/t.co\\/jIGhs1dipy\",\"expanded_url\":\"https:\\/\\/www.instagram.com\\/p\\/BO1FCMdAaGH\\/\",\"display_url\":\"instagram.com\\/p\\/BO1FCMdAaGH\\/\",\"indices\":[97,120]}],\"user_mentions\":[],\"symbols\":[]},\"favorited\":false,\"retweeted\":false,\"possibly_sensitive\":false,\"filter_level\":\"low\",\"lang\":\"es\",\"timestamp_ms\":\"1483504771116\"}';\n",
    "# Without text\n",
    "# example = '{\"created_at\":\"Wed Jan 04 04:39:31 +0000 2017\",\"id\":816504305968627712,\"id_str\":\"816504305968627712\",\"source\":\"\\u003ca href=\\\"http:\\/\\/instagram.com\\\" rel=\\\"nofollow\\\"\\u003eInstagram\\u003c\\/a\\u003e\",\"truncated\":false,\"in_reply_to_status_id\":null,\"in_reply_to_status_id_str\":null,\"in_reply_to_user_id\":null,\"in_reply_to_user_id_str\":null,\"in_reply_to_screen_name\":null,\"user\":{\"id\":133158564,\"id_str\":\"133158564\",\"name\":\"Oscar Sul\\u00e9\",\"screen_name\":\"Suls17\",\"location\":\"San Luis Potosi, Mexico\",\"url\":null,\"description\":null,\"protected\":false,\"verified\":false,\"followers_count\":142,\"friends_count\":99,\"listed_count\":3,\"favourites_count\":42,\"statuses_count\":2573,\"created_at\":\"Thu Apr 15 04:34:46 +0000 2010\",\"utc_offset\":-25200,\"time_zone\":\"Mountain Time (US & Canada)\",\"geo_enabled\":true,\"lang\":\"es\",\"contributors_enabled\":false,\"is_translator\":false,\"profile_background_color\":\"C0DEED\",\"profile_background_image_url\":\"http:\\/\\/abs.twimg.com\\/images\\/themes\\/theme1\\/bg.png\",\"profile_background_image_url_https\":\"https:\\/\\/abs.twimg.com\\/images\\/themes\\/theme1\\/bg.png\",\"profile_background_tile\":false,\"profile_link_color\":\"1DA1F2\",\"profile_sidebar_border_color\":\"C0DEED\",\"profile_sidebar_fill_color\":\"DDEEF6\",\"profile_text_color\":\"333333\",\"profile_use_background_image\":true,\"profile_image_url\":\"http:\\/\\/pbs.twimg.com\\/profile_images\\/651745235182092288\\/38vjxn7M_normal.jpg\",\"profile_image_url_https\":\"https:\\/\\/pbs.twimg.com\\/profile_images\\/651745235182092288\\/38vjxn7M_normal.jpg\",\"profile_banner_url\":\"https:\\/\\/pbs.twimg.com\\/profile_banners\\/133158564\\/1444223141\",\"default_profile\":true,\"default_profile_image\":false,\"following\":null,\"follow_request_sent\":null,\"notifications\":null},\"geo\":{\"type\":\"Point\",\"coordinates\":[23.65667125,-100.64221144]},\"coordinates\":{\"type\":\"Point\",\"coordinates\":[-100.64221144,23.65667125]},\"place\":{\"id\":\"6a487e9795d8d2c3\",\"url\":\"https:\\/\\/api.twitter.com\\/1.1\\/geo\\/id\\/6a487e9795d8d2c3.json\",\"place_type\":\"city\",\"name\":\"Matehuala\",\"full_name\":\"Matehuala, San Luis Potos\\u00ed\",\"country_code\":\"MX\",\"country\":\"M\\u00e9xico\",\"bounding_box\":{\"type\":\"Polygon\",\"coordinates\":[[[-100.783965,23.221630],[-100.783965,23.842282],[-100.446346,23.842282],[-100.446346,23.221630]]]},\"attributes\":{}},\"contributors\":null,\"is_quote_status\":false,\"retweet_count\":0,\"favorite_count\":0,\"entities\":{\"hashtags\":[{\"text\":\"FEREMA\",\"indices\":[39,46]},{\"text\":\"adarle\",\"indices\":[47,54]},{\"text\":\"matehualanoteacabes\",\"indices\":[55,75]}],\"urls\":[{\"url\":\"https:\\/\\/t.co\\/jIGhs1dipy\",\"expanded_url\":\"https:\\/\\/www.instagram.com\\/p\\/BO1FCMdAaGH\\/\",\"display_url\":\"instagram.com\\/p\\/BO1FCMdAaGH\\/\",\"indices\":[97,120]}],\"user_mentions\":[],\"symbols\":[]},\"favorited\":false,\"retweeted\":false,\"possibly_sensitive\":false,\"filter_level\":\"low\",\"lang\":\"es\",\"timestamp_ms\":\"1483504771116\"}'\n",
    "example = '{\"created_at\":\"Wed Jan 04 04:39:31 +0000 2017\",\"id\":816504305968627712}'\n",
    "\n",
    "# example = '{\"created_at\":\"Wed Jan 04 05:00:09 +0000 2017\",\"id\":816509500781948929,\"id_str\":\"816509500781948929\",\"text\":\"2017: Day 4. In the Mist. pursuitofportraits #hello2017xpop\\n.\\n.\\nModel(s):\\u2026 https:\\/\\/t.co\\/mSXC2xlMYA\",\"source\":\"\\u003ca href=\\\"http:\\/\\/instagram.com\\\" rel=\\\"nofollow\\\"\\u003eInstagram\\u003c\\/a\\u003e\",\"truncated\":false,\"in_reply_to_status_id\":null,\"in_reply_to_status_id_str\":null,\"in_reply_to_user_id\":null,\"in_reply_to_user_id_str\":null,\"in_reply_to_screen_name\":null,\"user\":{\"id\":99847860,\"id_str\":\"99847860\",\"name\":\"Amos Reece 111\",\"screen_name\":\"famousamos101\",\"location\":null,\"url\":null,\"description\":null,\"protected\":false,\"verified\":false,\"followers_count\":341,\"friends_count\":1538,\"listed_count\":13,\"favourites_count\":228,\"statuses_count\":4417,\"created_at\":\"Mon Dec 28 03:22:37 +0000 2009\",\"utc_offset\":null,\"time_zone\":null,\"geo_enabled\":true,\"lang\":\"en\",\"contributors_enabled\":false,\"is_translator\":false,\"profile_background_color\":\"C0DEED\",\"profile_background_image_url\":\"http:\\/\\/abs.twimg.com\\/images\\/themes\\/theme1\\/bg.png\",\"profile_background_image_url_https\":\"https:\\/\\/abs.twimg.com\\/images\\/themes\\/theme1\\/bg.png\",\"profile_background_tile\":false,\"profile_link_color\":\"1DA1F2\",\"profile_sidebar_border_color\":\"C0DEED\",\"profile_sidebar_fill_color\":\"DDEEF6\",\"profile_text_color\":\"333333\",\"profile_use_background_image\":true,\"profile_image_url\":\"http:\\/\\/pbs.twimg.com\\/profile_images\\/1115551093\\/100603_185217_normal.jpg\",\"profile_image_url_https\":\"https:\\/\\/pbs.twimg.com\\/profile_images\\/1115551093\\/100603_185217_normal.jpg\",\"default_profile\":true,\"default_profile_image\":false,\"following\":null,\"follow_request_sent\":null,\"notifications\":null},\"geo\":{\"type\":\"Point\",\"coordinates\":[40.76792413,-73.97445196]},\"coordinates\":{\"type\":\"Point\",\"coordinates\":[-73.97445196,40.76792413]},\"place\":{\"id\":\"01a9a39529b27f36\",\"url\":\"https:\\/\\/api.twitter.com\\/1.1\\/geo\\/id\\/01a9a39529b27f36.json\",\"place_type\":\"city\",\"name\":\"Manhattan\",\"full_name\":\"Manhattan, NY\",\"country_code\":\"US\",\"country\":\"United States\",\"bounding_box\":{\"type\":\"Polygon\",\"coordinates\":[[[-74.026675,40.683935],[-74.026675,40.877483],[-73.910408,40.877483],[-73.910408,40.683935]]]},\"attributes\":{}},\"contributors\":null,\"is_quote_status\":false,\"retweet_count\":0,\"favorite_count\":0,\"entities\":{\"hashtags\":[{\"text\":\"hello2017xpop\",\"indices\":[45,59]}],\"urls\":[{\"url\":\"https:\\/\\/t.co\\/mSXC2xlMYA\",\"expanded_url\":\"https:\\/\\/www.instagram.com\\/p\\/BO1HZOFAYVB\\/\",\"display_url\":\"instagram.com\\/p\\/BO1HZOFAYVB\\/\",\"indices\":[75,98]}],\"user_mentions\":[],\"symbols\":[]},\"favorited\":false,\"retweeted\":false,\"possibly_sensitive\":false,\"filter_level\":\"low\",\"lang\":\"nl\",\"timestamp_ms\":\"1483506009656\"}'\n",
    "# example = example.replace('\\r\\n', '\\\\r\\\\n').replace('\\t','').replace('\\n','').replace(',}','}').replace(',]',']').replace(\"'\", '\"').replace(\"u\", \"\").replace('=\"',':\"')\n",
    "\n",
    "# .replace('\\'', '\\\"')\n",
    "\n",
    "# example2 = '{\"a\":1,\"b\":2,\"c\":3,\"d\":4,\"e\":5}';\n",
    "print(len(example))\n",
    "# print(example[220:235])\n",
    "print(example[225:240])\n",
    "print(example[231])\n",
    "print(example[:30])"
   ]
  },
  {
   "cell_type": "code",
   "execution_count": 69,
   "metadata": {},
   "outputs": [],
   "source": [
    "example_format = json.loads(example, strict=False)"
   ]
  },
  {
   "cell_type": "code",
   "execution_count": 70,
   "metadata": {},
   "outputs": [
    {
     "data": {
      "text/plain": [
       "{'created_at': 'Wed Jan 04 04:39:31 +0000 2017', 'id': 816504305968627712}"
      ]
     },
     "execution_count": 70,
     "metadata": {},
     "output_type": "execute_result"
    }
   ],
   "source": [
    "example_format"
   ]
  },
  {
   "cell_type": "code",
   "execution_count": null,
   "metadata": {},
   "outputs": [],
   "source": []
  }
 ],
 "metadata": {
  "kernelspec": {
   "display_name": "Python 3",
   "language": "python",
   "name": "python3"
  },
  "language_info": {
   "codemirror_mode": {
    "name": "ipython",
    "version": 3
   },
   "file_extension": ".py",
   "mimetype": "text/x-python",
   "name": "python",
   "nbconvert_exporter": "python",
   "pygments_lexer": "ipython3",
   "version": "3.6.5"
  }
 },
 "nbformat": 4,
 "nbformat_minor": 2
}
