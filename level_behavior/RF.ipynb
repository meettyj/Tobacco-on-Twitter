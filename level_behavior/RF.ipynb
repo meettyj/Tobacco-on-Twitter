{
 "cells": [
  {
   "cell_type": "code",
   "execution_count": 1,
   "metadata": {},
   "outputs": [
    {
     "name": "stdout",
     "output_type": "stream",
     "text": [
      "0.17\n"
     ]
    },
    {
     "name": "stderr",
     "output_type": "stream",
     "text": [
      "D:\\Anaconda3\\envs\\py36\\lib\\site-packages\\sklearn\\ensemble\\weight_boosting.py:29: DeprecationWarning: numpy.core.umath_tests is an internal NumPy module and should not be imported. It will be removed in a future NumPy release.\n",
      "  from numpy.core.umath_tests import inner1d\n"
     ]
    }
   ],
   "source": [
    "import os\n",
    "# print(os.getcwd())\n",
    "os.chdir('C:/Users/eddie/Desktop/Prof. Rumi Chunara/alcohol')\n",
    "import pickle\n",
    "import sklearn\n",
    "print(sklearn.__version__)\n",
    "import pandas \n",
    "import numpy as np\n",
    "import sys\n",
    "\n",
    "\n",
    "from evaluation.metric import computeAccuracy, computeF1Score, computeAUC, computeAUCBehavior\n",
    "# from sklearn.metrics import roc_auc_score\n",
    "\n",
    "# %load_ext autoreload\n",
    "# %autoreload\n",
    "from sklearn.linear_model import LogisticRegression\n",
    "from sklearn.svm import LinearSVC\n",
    "from sklearn.ensemble import RandomForestClassifier\n",
    "from scipy.stats import uniform\n",
    "# %reload_ext pipelines.alcohol.AlcoholPipeline\n",
    "from pipelines.alcohol import AlcoholPipeline"
   ]
  },
  {
   "cell_type": "code",
   "execution_count": 2,
   "metadata": {},
   "outputs": [],
   "source": [
    "# clf_alc_initial = pickle.load(open('./alcohol classifiers/clf_alc_UPDATED.p', 'rb'))\n",
    "# clf_fpa_initial = pickle.load(open('./alcohol classifiers/clf_fpa_UPDATED.p', 'rb'))\n",
    "clf_behavior_initial = pickle.load(open('./alcohol classifiers/clf_fpl_double_labeled', 'rb'))\n",
    "df = pandas.read_csv(\"./data/alcohol_training_instances.csv\")"
   ]
  },
  {
   "cell_type": "markdown",
   "metadata": {},
   "source": [
    "Prepare the behavior level data"
   ]
  },
  {
   "cell_type": "code",
   "execution_count": 3,
   "metadata": {},
   "outputs": [
    {
     "name": "stdout",
     "output_type": "stream",
     "text": [
      "[0, 0, 2, 2, 1, 0, 0, 0, 1, 1, 0, 2, 0, 0, 0, 0, 0, 2, 0, 0]\n",
      "length of first person level labels:  6357\n",
      "[0, 0, 1, 0, 0, 1, 1, 1, 0, 0, 0, 1, 0, 1, 0, 0, 0, 1, 1, 0]\n",
      "length of first person level index in df:  15651\n",
      "[2, 5, 6, 7, 11, 13, 17, 18, 21, 22, 23, 24, 26, 27, 28]\n",
      "length of first person level df index:  6357\n"
     ]
    }
   ],
   "source": [
    "# appending labels based on whether tweet label contains phrase\n",
    "behavior_labels = []\n",
    "behavior_index_in_df = []\n",
    "\n",
    "fpl = \"'first_person_level'\"\n",
    "\n",
    "# extracting FP levels and constructing subset vector simultaneously\n",
    "for i in range(len(df)):\n",
    "    if fpl in df.labels[i]:\n",
    "        behavior_labels.append(int(df.labels[i][df.labels[i].find(fpl) + len(fpl) + 2]))\n",
    "        behavior_index_in_df.append(1)\n",
    "    else:\n",
    "        behavior_index_in_df.append(0)\n",
    "\n",
    "behavior_labels = list(map(int, behavior_labels))\n",
    "print(behavior_labels[:20])\n",
    "# print(subset_vec_alc_fp[:10])\n",
    "print('length of first person level labels: ', len(behavior_labels)) # 6357\n",
    "print(behavior_index_in_df[:20])\n",
    "print('length of first person level index in df: ', len(behavior_index_in_df)) # 15651\n",
    "index_behavior = list(np.where(behavior_index_in_df)[0])\n",
    "print(index_behavior[:15])\n",
    "print('length of first person level df index: ', len(index_behavior)) # 6357\n",
    "df_behavior = df.iloc[index_behavior,]\n",
    "# df_fp.head\n",
    "# fp_labels = np.asarray(fp_labels)\n",
    "\n",
    "# change label 3 to label 0\n",
    "behavior_labels = [0 if x == 3 else x for x in behavior_labels] \n",
    "\n",
    "# train test dataset split\n",
    "from sklearn.cross_validation import train_test_split\n",
    "X_train, X_test, y_train, y_test = train_test_split(df_behavior, behavior_labels, test_size=0.2, random_state=26)"
   ]
  },
  {
   "cell_type": "code",
   "execution_count": 4,
   "metadata": {},
   "outputs": [
    {
     "name": "stdout",
     "output_type": "stream",
     "text": [
      "6357\n",
      "15651\n"
     ]
    }
   ],
   "source": [
    "print(len(behavior_labels))\n",
    "print(len(behavior_index_in_df))\n",
    "# behavior_labels[:30]\n",
    "# for i in behavior_labels:\n",
    "#     if i ==3:\n",
    "#         print(True)"
   ]
  },
  {
   "cell_type": "markdown",
   "metadata": {},
   "source": [
    "Now we make our own RF model"
   ]
  },
  {
   "cell_type": "code",
   "execution_count": 5,
   "metadata": {},
   "outputs": [
    {
     "data": {
      "text/plain": [
       "[('features', FeatureUnion(n_jobs=1,\n",
       "         transformer_list=[('text', Pipeline(steps=[('getter', ItemGetter(key='text')), ('tfidf', TfidfVectorizer(analyzer='char', binary=False, decode_error='strict',\n",
       "          dtype=<class 'numpy.int64'>, encoding='utf-8', input='content',\n",
       "          lowercase=True, max_df=1.0, max_features=None, min_df=1,\n",
       "      ...      token_pattern='(?u)\\\\b\\\\w\\\\w+\\\\b', tokenizer=None, use_idf=True,\n",
       "          vocabulary=None))]))],\n",
       "         transformer_weights=None)),\n",
       " ('scaler', Normalizer(copy=True, norm='l2')),\n",
       " ('clf',\n",
       "  RandomForestClassifier(bootstrap=True, class_weight=None, criterion='gini',\n",
       "              max_depth=None, max_features='auto', max_leaf_nodes=None,\n",
       "              min_samples_leaf=1, min_samples_split=2,\n",
       "              min_weight_fraction_leaf=0.0, n_estimators=10, n_jobs=1,\n",
       "              oob_score=False, random_state=None, verbose=0,\n",
       "              warm_start=False))]"
      ]
     },
     "execution_count": 5,
     "metadata": {},
     "output_type": "execute_result"
    }
   ],
   "source": [
    "# RF\n",
    "clf_behavior_RF = AlcoholPipeline(global_features=[\"text\"]).pipeline(RandomForestClassifier())\n",
    "clf_behavior_RF.steps"
   ]
  },
  {
   "cell_type": "code",
   "execution_count": 6,
   "metadata": {},
   "outputs": [
    {
     "name": "stderr",
     "output_type": "stream",
     "text": [
      "D:\\Anaconda3\\envs\\py36\\lib\\site-packages\\sklearn\\feature_extraction\\text.py:1015: FutureWarning: Conversion of the second argument of issubdtype from `float` to `np.floating` is deprecated. In future, it will be treated as `np.float64 == np.dtype(float).type`.\n",
      "  if hasattr(X, 'dtype') and np.issubdtype(X.dtype, np.float):\n"
     ]
    },
    {
     "data": {
      "text/plain": [
       "Pipeline(steps=[('features', FeatureUnion(n_jobs=1,\n",
       "       transformer_list=[('text', Pipeline(steps=[('getter', ItemGetter(key='text')), ('tfidf', TfidfVectorizer(analyzer='char', binary=False, decode_error='strict',\n",
       "        dtype=<class 'numpy.int64'>, encoding='utf-8', input='content',\n",
       "        lowercase=T...n_jobs=1,\n",
       "            oob_score=False, random_state=None, verbose=0,\n",
       "            warm_start=False))])"
      ]
     },
     "execution_count": 6,
     "metadata": {},
     "output_type": "execute_result"
    }
   ],
   "source": [
    "clf_behavior_RF.fit(X_train, y_train)"
   ]
  },
  {
   "cell_type": "markdown",
   "metadata": {},
   "source": [
    "Predict in testing set"
   ]
  },
  {
   "cell_type": "code",
   "execution_count": 8,
   "metadata": {},
   "outputs": [
    {
     "name": "stdout",
     "output_type": "stream",
     "text": [
      "length of total comps:  1272\n",
      "625 different item in whole dataset\n",
      "accuracy: 50.864780%\n",
      "F1 Score:  [0.65712427 0.33       0.21130221]\n",
      "RF classifier AUC:  {'current': 0.669494989533141, 'looking': 0.6354579278498923, 'reflecting': 0.6112069365592563, 'micro': 0.6943866564811518, 'macro': 0.6387199513140964}\n"
     ]
    },
    {
     "name": "stderr",
     "output_type": "stream",
     "text": [
      "D:\\Anaconda3\\envs\\py36\\lib\\site-packages\\sklearn\\feature_extraction\\text.py:1015: FutureWarning: Conversion of the second argument of issubdtype from `float` to `np.floating` is deprecated. In future, it will be treated as `np.float64 == np.dtype(float).type`.\n",
      "  if hasattr(X, 'dtype') and np.issubdtype(X.dtype, np.float):\n"
     ]
    }
   ],
   "source": [
    "# predict in testing set.\n",
    "y_behavior_RF = clf_behavior_RF.predict(X_test)\n",
    "# print('length of testing set: ', len(y_alc_initial))\n",
    "computeAccuracy(y_behavior_RF, y_test)\n",
    "f1_score_RF = computeF1Score(y_test, y_behavior_RF, average = None)\n",
    "print('F1 Score: ', f1_score_RF)\n",
    "auc_score_RF = computeAUCBehavior(clf_behavior_RF, X_test, y_test, plot=False, RF=True)\n",
    "# auc_score = computeAUC(clf_alc_LR_updateParams, X_train, y_train, X_test, y_test, plot=True, plotTitle=\"Alcohol ROC Curve\")\n",
    "print('RF classifier AUC: ', auc_score_RF)"
   ]
  },
  {
   "cell_type": "markdown",
   "metadata": {},
   "source": [
    "Test in training set to figure out why the test accuracy is low"
   ]
  },
  {
   "cell_type": "code",
   "execution_count": 9,
   "metadata": {},
   "outputs": [
    {
     "name": "stderr",
     "output_type": "stream",
     "text": [
      "D:\\Anaconda3\\envs\\py36\\lib\\site-packages\\sklearn\\feature_extraction\\text.py:1015: FutureWarning: Conversion of the second argument of issubdtype from `float` to `np.floating` is deprecated. In future, it will be treated as `np.float64 == np.dtype(float).type`.\n",
      "  if hasattr(X, 'dtype') and np.issubdtype(X.dtype, np.float):\n"
     ]
    },
    {
     "name": "stdout",
     "output_type": "stream",
     "text": [
      "length of total comps:  5085\n",
      "78 different item in whole dataset\n",
      "accuracy: 98.466077%\n",
      "F1 Score:  [0.98697868 0.98435712 0.97955556]\n",
      "RF classifier AUC:  {'current': 0.9992311070355371, 'looking': 0.9996348294176197, 'reflecting': 0.9994264336379606, 'micro': 0.9993557409969556, 'macro': 0.9994307900303725}\n"
     ]
    }
   ],
   "source": [
    "# test in training set to figure out why the test accuracy is low\n",
    "y_train_behavior_RF = clf_behavior_RF.predict(X_train)\n",
    "# print('length of testing set: ', len(y_alc_initial))\n",
    "computeAccuracy(y_train_behavior_RF, y_train)\n",
    "f1_train_score_RF = computeF1Score(y_train, y_train_behavior_RF, average = None)\n",
    "print('F1 Score: ', f1_train_score_RF)\n",
    "auc_score_train_RF = computeAUCBehavior(clf_behavior_RF, X_train, y_train, plot=False, RF=True)\n",
    "# auc_score = computeAUC(clf_alc_LR_updateParams, X_train, y_train, X_test, y_test, plot=True, plotTitle=\"Alcohol ROC Curve\")\n",
    "print('RF classifier AUC: ', auc_score_train_RF)"
   ]
  },
  {
   "cell_type": "markdown",
   "metadata": {},
   "source": [
    "We can see the performance in training set is really good. Overfitting."
   ]
  },
  {
   "cell_type": "markdown",
   "metadata": {},
   "source": [
    "Update structure parameters in RF model. To make sure they become same with the initial model"
   ]
  },
  {
   "cell_type": "code",
   "execution_count": 14,
   "metadata": {},
   "outputs": [
    {
     "data": {
      "text/plain": [
       "Pipeline(steps=[('features', FeatureUnion(n_jobs=1,\n",
       "       transformer_list=[('text', Pipeline(steps=[('getter', ItemGetter(key='text')), ('tfidf', TfidfVectorizer(analyzer='word', binary=False, decode_error='strict',\n",
       "        dtype=<class 'numpy.int64'>, encoding='utf-8', input='content',\n",
       "        lowercase=T...n_jobs=1,\n",
       "            oob_score=False, random_state=None, verbose=0,\n",
       "            warm_start=False))])"
      ]
     },
     "execution_count": 14,
     "metadata": {},
     "output_type": "execute_result"
    }
   ],
   "source": [
    "clf_behavior_RF_updateParams = AlcoholPipeline(global_features=[\"text\"]).pipeline(RandomForestClassifier())\n",
    "params_RF = {'features__text__tfidf__analyzer':'word', 'features__text__tfidf__dtype':np.int64, \n",
    "             'features__text__tfidf__max_features':94963, 'features__text__tfidf__ngram_range':(1,3) \n",
    "            }\n",
    "# to see all parameters in model\n",
    "# clf_alc_LR_updateParams.get_params().keys()\n",
    "clf_behavior_RF_updateParams.set_params(**params_RF)"
   ]
  },
  {
   "cell_type": "code",
   "execution_count": 15,
   "metadata": {},
   "outputs": [
    {
     "name": "stderr",
     "output_type": "stream",
     "text": [
      "D:\\Anaconda3\\envs\\py36\\lib\\site-packages\\sklearn\\feature_extraction\\text.py:1015: FutureWarning: Conversion of the second argument of issubdtype from `float` to `np.floating` is deprecated. In future, it will be treated as `np.float64 == np.dtype(float).type`.\n",
      "  if hasattr(X, 'dtype') and np.issubdtype(X.dtype, np.float):\n"
     ]
    },
    {
     "data": {
      "text/plain": [
       "Pipeline(steps=[('features', FeatureUnion(n_jobs=1,\n",
       "       transformer_list=[('text', Pipeline(steps=[('getter', ItemGetter(key='text')), ('tfidf', TfidfVectorizer(analyzer='word', binary=False, decode_error='strict',\n",
       "        dtype=<class 'numpy.int64'>, encoding='utf-8', input='content',\n",
       "        lowercase=T...n_jobs=1,\n",
       "            oob_score=False, random_state=None, verbose=0,\n",
       "            warm_start=False))])"
      ]
     },
     "execution_count": 15,
     "metadata": {},
     "output_type": "execute_result"
    }
   ],
   "source": [
    "clf_behavior_RF_updateParams.fit(X_train, y_train)"
   ]
  },
  {
   "cell_type": "markdown",
   "metadata": {},
   "source": [
    "Predict in testing set"
   ]
  },
  {
   "cell_type": "code",
   "execution_count": 17,
   "metadata": {},
   "outputs": [
    {
     "name": "stdout",
     "output_type": "stream",
     "text": [
      "length of total comps:  1272\n",
      "490 different item in whole dataset\n",
      "accuracy: 61.477987%\n",
      "F1 Score:  [0.72174488 0.52923077 0.33595801]\n",
      "RF classifier AUC:  {'current': 0.7324014319158688, 'looking': 0.7550268644018161, 'reflecting': 0.7112641740018255, 'micro': 0.7745285182053717, 'macro': 0.7330141438851336}\n"
     ]
    },
    {
     "name": "stderr",
     "output_type": "stream",
     "text": [
      "D:\\Anaconda3\\envs\\py36\\lib\\site-packages\\sklearn\\feature_extraction\\text.py:1015: FutureWarning: Conversion of the second argument of issubdtype from `float` to `np.floating` is deprecated. In future, it will be treated as `np.float64 == np.dtype(float).type`.\n",
      "  if hasattr(X, 'dtype') and np.issubdtype(X.dtype, np.float):\n"
     ]
    }
   ],
   "source": [
    "# predict in testing set.\n",
    "y_behavior_RF_updateParams = clf_behavior_RF_updateParams.predict(X_test)\n",
    "# print('length of testing set: ', len(y_alc_initial))\n",
    "computeAccuracy(y_behavior_RF_updateParams, y_test)\n",
    "f1_score_RF_updateParams = computeF1Score(y_test, y_behavior_RF_updateParams, average = None)\n",
    "print('F1 Score: ', f1_score_RF_updateParams)\n",
    "auc_score_RF_updateParams = computeAUCBehavior(clf_behavior_RF_updateParams, X_test, y_test, plot=False, RF=True)\n",
    "# auc_score = computeAUC(clf_alc_LR_updateParams, X_train, y_train, X_test, y_test, plot=True, plotTitle=\"Alcohol ROC Curve\")\n",
    "print('RF classifier AUC: ', auc_score_RF_updateParams)"
   ]
  },
  {
   "cell_type": "code",
   "execution_count": null,
   "metadata": {},
   "outputs": [],
   "source": []
  }
 ],
 "metadata": {
  "kernelspec": {
   "display_name": "Python 3",
   "language": "python",
   "name": "python3"
  },
  "language_info": {
   "codemirror_mode": {
    "name": "ipython",
    "version": 3
   },
   "file_extension": ".py",
   "mimetype": "text/x-python",
   "name": "python",
   "nbconvert_exporter": "python",
   "pygments_lexer": "ipython3",
   "version": "3.6.5"
  }
 },
 "nbformat": 4,
 "nbformat_minor": 2
}
