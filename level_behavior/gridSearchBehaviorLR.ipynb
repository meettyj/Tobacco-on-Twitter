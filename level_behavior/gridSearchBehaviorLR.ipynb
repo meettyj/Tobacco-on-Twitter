{
 "cells": [
  {
   "cell_type": "code",
   "execution_count": 19,
   "metadata": {},
   "outputs": [
    {
     "name": "stdout",
     "output_type": "stream",
     "text": [
      "0.17\n"
     ]
    }
   ],
   "source": [
    "import os\n",
    "# print(os.getcwd())\n",
    "os.chdir('C:/Users/eddie/Desktop/Prof. Rumi Chunara/alcohol')\n",
    "import pickle\n",
    "import sklearn\n",
    "print(sklearn.__version__)\n",
    "import pandas as pd\n",
    "import numpy as np\n",
    "import sys\n",
    "from evaluation.metric import computeAccuracy, computeF1Score, computeAUC, computeAUCBehavior\n",
    "# from sklearn.metrics import roc_auc_score\n",
    "\n",
    "# %load_ext autoreload\n",
    "# %autoreload\n",
    "from sklearn.linear_model import LogisticRegression\n",
    "from sklearn.svm import LinearSVC\n",
    "from scipy.stats import uniform\n",
    "# %reload_ext pipelines.alcohol.AlcoholPipeline\n",
    "from pipelines.alcohol import AlcoholPipeline\n",
    "from sklearn.grid_search import RandomizedSearchCV, GridSearchCV\n",
    "from scripts.gridsearch import text_grid\n",
    "from sklearn.externals import joblib\n"
   ]
  },
  {
   "cell_type": "code",
   "execution_count": 2,
   "metadata": {},
   "outputs": [],
   "source": [
    "# clf_alc_initial = pickle.load(open('./alcohol classifiers/clf_alc_UPDATED.p', 'rb'))\n",
    "# clf_fpa_initial = pickle.load(open('./alcohol classifiers/clf_fpa_UPDATED.p', 'rb'))\n",
    "clf_behavior_initial = pickle.load(open('./alcohol classifiers/clf_fpl_double_labeled', 'rb'))\n",
    "df = pandas.read_csv(\"./data/alcohol_training_instances.csv\")"
   ]
  },
  {
   "cell_type": "markdown",
   "metadata": {},
   "source": [
    "Prepare the behavior level data"
   ]
  },
  {
   "cell_type": "code",
   "execution_count": 3,
   "metadata": {},
   "outputs": [
    {
     "name": "stdout",
     "output_type": "stream",
     "text": [
      "[0, 0, 2, 2, 1, 0, 0, 0, 1, 1, 0, 2, 0, 0, 0, 0, 0, 2, 0, 0]\n",
      "length of first person level labels:  6357\n",
      "[0, 0, 1, 0, 0, 1, 1, 1, 0, 0, 0, 1, 0, 1, 0, 0, 0, 1, 1, 0]\n",
      "length of first person level index in df:  15651\n",
      "[2, 5, 6, 7, 11, 13, 17, 18, 21, 22, 23, 24, 26, 27, 28]\n",
      "length of first person level df index:  6357\n"
     ]
    }
   ],
   "source": [
    "# appending labels based on whether tweet label contains phrase\n",
    "behavior_labels = []\n",
    "behavior_index_in_df = []\n",
    "\n",
    "fpl = \"'first_person_level'\"\n",
    "\n",
    "# extracting FP levels and constructing subset vector simultaneously\n",
    "for i in range(len(df)):\n",
    "    if fpl in df.labels[i]:\n",
    "        behavior_labels.append(int(df.labels[i][df.labels[i].find(fpl) + len(fpl) + 2]))\n",
    "        behavior_index_in_df.append(1)\n",
    "    else:\n",
    "        behavior_index_in_df.append(0)\n",
    "\n",
    "behavior_labels = list(map(int, behavior_labels))\n",
    "print(behavior_labels[:20])\n",
    "# print(subset_vec_alc_fp[:10])\n",
    "print('length of first person level labels: ', len(behavior_labels)) # 6357\n",
    "print(behavior_index_in_df[:20])\n",
    "print('length of first person level index in df: ', len(behavior_index_in_df)) # 15651\n",
    "index_behavior = list(np.where(behavior_index_in_df)[0])\n",
    "print(index_behavior[:15])\n",
    "print('length of first person level df index: ', len(index_behavior)) # 6357\n",
    "df_behavior = df.iloc[index_behavior,]\n",
    "# df_fp.head\n",
    "# fp_labels = np.asarray(fp_labels)\n",
    "\n",
    "# change label 3 to label 0\n",
    "behavior_labels = [0 if x == 3 else x for x in behavior_labels] \n",
    "\n",
    "# train test dataset split\n",
    "from sklearn.cross_validation import train_test_split\n",
    "X_train, X_test, y_train, y_test = train_test_split(df_behavior, behavior_labels, test_size=0.2, random_state=26)"
   ]
  },
  {
   "cell_type": "code",
   "execution_count": 4,
   "metadata": {},
   "outputs": [
    {
     "name": "stdout",
     "output_type": "stream",
     "text": [
      "6357\n",
      "15651\n"
     ]
    }
   ],
   "source": [
    "print(len(behavior_labels))\n",
    "print(len(behavior_index_in_df))\n",
    "# behavior_labels[:30]\n",
    "# for i in behavior_labels:\n",
    "#     if i ==3:\n",
    "#         print(True)"
   ]
  },
  {
   "cell_type": "markdown",
   "metadata": {},
   "source": [
    "Create a model for the following grid search"
   ]
  },
  {
   "cell_type": "code",
   "execution_count": 5,
   "metadata": {},
   "outputs": [
    {
     "data": {
      "text/plain": [
       "[('features', FeatureUnion(n_jobs=1,\n",
       "         transformer_list=[('text', Pipeline(steps=[('getter', ItemGetter(key='text')), ('tfidf', TfidfVectorizer(analyzer='char', binary=False, decode_error='strict',\n",
       "          dtype=<class 'numpy.int64'>, encoding='utf-8', input='content',\n",
       "          lowercase=True, max_df=1.0, max_features=None, min_df=1,\n",
       "      ...      token_pattern='(?u)\\\\b\\\\w\\\\w+\\\\b', tokenizer=None, use_idf=True,\n",
       "          vocabulary=None))]))],\n",
       "         transformer_weights=None)),\n",
       " ('scaler', Normalizer(copy=True, norm='l2')),\n",
       " ('clf',\n",
       "  LogisticRegression(C=1.0, class_weight=None, dual=False, fit_intercept=True,\n",
       "            intercept_scaling=1, max_iter=100, multi_class='ovr', n_jobs=1,\n",
       "            penalty='l2', random_state=None, solver='liblinear', tol=0.0001,\n",
       "            verbose=0, warm_start=False))]"
      ]
     },
     "execution_count": 5,
     "metadata": {},
     "output_type": "execute_result"
    }
   ],
   "source": [
    "# LR\n",
    "clf_behavior_LR = AlcoholPipeline(global_features=[\"text\"]).pipeline(LogisticRegression())\n",
    "clf_behavior_LR.steps"
   ]
  },
  {
   "cell_type": "code",
   "execution_count": 6,
   "metadata": {},
   "outputs": [
    {
     "name": "stderr",
     "output_type": "stream",
     "text": [
      "D:\\Anaconda3\\envs\\py36\\lib\\site-packages\\sklearn\\feature_extraction\\text.py:1015: FutureWarning: Conversion of the second argument of issubdtype from `float` to `np.floating` is deprecated. In future, it will be treated as `np.float64 == np.dtype(float).type`.\n",
      "  if hasattr(X, 'dtype') and np.issubdtype(X.dtype, np.float):\n"
     ]
    },
    {
     "data": {
      "text/plain": [
       "Pipeline(steps=[('features', FeatureUnion(n_jobs=1,\n",
       "       transformer_list=[('text', Pipeline(steps=[('getter', ItemGetter(key='text')), ('tfidf', TfidfVectorizer(analyzer='char', binary=False, decode_error='strict',\n",
       "        dtype=<class 'numpy.int64'>, encoding='utf-8', input='content',\n",
       "        lowercase=T...ty='l2', random_state=None, solver='liblinear', tol=0.0001,\n",
       "          verbose=0, warm_start=False))])"
      ]
     },
     "execution_count": 6,
     "metadata": {},
     "output_type": "execute_result"
    }
   ],
   "source": [
    "clf_behavior_LR.fit(X_train, y_train)"
   ]
  },
  {
   "cell_type": "markdown",
   "metadata": {},
   "source": [
    "Now we are trying to implement grid search."
   ]
  },
  {
   "cell_type": "code",
   "execution_count": 11,
   "metadata": {},
   "outputs": [],
   "source": [
    "param_grid = {\n",
    "    'clf__C': uniform(0.0001, 1000),\n",
    "    'clf__penalty': ['l2', \"l1\"],\n",
    "#     'clf__penalty': ['l2'],\n",
    "    'clf__tol': uniform(0.0001, 0.001),\n",
    "#     'clf__verbose': [0]\n",
    "#     'features__text__tfidf__analyzer': ['char'],\n",
    "#     'features__text__tfidf__ngram_range': [(2,5)]\n",
    "}\n",
    "\n",
    "param_grid.update(text_grid)\n",
    "\n",
    "cv_kwargs = dict(\n",
    "    n_iter=50,\n",
    "    scoring=None,\n",
    "    fit_params=None,\n",
    "    n_jobs=-1,\n",
    "    iid=True,\n",
    "    refit=True,\n",
    "    cv=10,\n",
    "    verbose=0,\n",
    "    pre_dispatch='2*n_jobs',\n",
    "    error_score=0\n",
    ")"
   ]
  },
  {
   "cell_type": "code",
   "execution_count": 12,
   "metadata": {},
   "outputs": [
    {
     "name": "stderr",
     "output_type": "stream",
     "text": [
      "D:\\Anaconda3\\envs\\py36\\lib\\site-packages\\sklearn\\feature_extraction\\text.py:1015: FutureWarning: Conversion of the second argument of issubdtype from `float` to `np.floating` is deprecated. In future, it will be treated as `np.float64 == np.dtype(float).type`.\n",
      "  if hasattr(X, 'dtype') and np.issubdtype(X.dtype, np.float):\n"
     ]
    },
    {
     "data": {
      "text/plain": [
       "RandomizedSearchCV(cv=10, error_score=0,\n",
       "          estimator=Pipeline(steps=[('features', FeatureUnion(n_jobs=1,\n",
       "       transformer_list=[('text', Pipeline(steps=[('getter', ItemGetter(key='text')), ('tfidf', TfidfVectorizer(analyzer='char', binary=False, decode_error='strict',\n",
       "        dtype=<class 'numpy.int64'>, encoding='utf-8', input='content',\n",
       "        lowercase=T...ty='l2', random_state=None, solver='liblinear', tol=0.0001,\n",
       "          verbose=0, warm_start=False))]),\n",
       "          fit_params={}, iid=True, n_iter=50, n_jobs=-1,\n",
       "          param_distributions={'clf__C': <scipy.stats._distn_infrastructure.rv_frozen object at 0x0000027A58D443C8>, 'clf__penalty': ['l2', 'l1'], 'clf__tol': <scipy.stats._distn_infrastructure.rv_frozen object at 0x0000027A591B1400>, 'features__text__tfidf__analyzer': ['char', 'word'], 'features__text__tfidf..., 'english'], 'features__text__tfidf__tokenizer': [None, <function tokenize at 0x0000027A53D45378>]},\n",
       "          pre_dispatch='2*n_jobs', random_state=None, refit=True,\n",
       "          scoring=None, verbose=0)"
      ]
     },
     "execution_count": 12,
     "metadata": {},
     "output_type": "execute_result"
    }
   ],
   "source": [
    "clf_behavior_LR_grid = RandomizedSearchCV(clf_behavior_LR, param_grid, **cv_kwargs)\n",
    "clf_behavior_LR_grid.fit(X_train, y_train)"
   ]
  },
  {
   "cell_type": "code",
   "execution_count": 13,
   "metadata": {},
   "outputs": [
    {
     "name": "stdout",
     "output_type": "stream",
     "text": [
      "best estimator:  Pipeline(steps=[('features', FeatureUnion(n_jobs=1,\n",
      "       transformer_list=[('text', Pipeline(steps=[('getter', ItemGetter(key='text')), ('tfidf', TfidfVectorizer(analyzer='char', binary=False, decode_error='strict',\n",
      "        dtype=<class 'numpy.int64'>, encoding='utf-8', input='content',\n",
      "        lowercase=F...e,\n",
      "          solver='liblinear', tol=0.0002760695329097408, verbose=0,\n",
      "          warm_start=False))])\n",
      "-------------------------- mean accuracy on the cross validation of best estimator --------------------------\n",
      "best score:  0.6338249754178957\n",
      "best score related parameters:  {'clf__C': 12.95103689337412, 'clf__penalty': 'l2', 'clf__tol': 0.0002760695329097408, 'features__text__tfidf__analyzer': 'char', 'features__text__tfidf__lowercase': False, 'features__text__tfidf__max_features': 82935, 'features__text__tfidf__min_df': 3, 'features__text__tfidf__ngram_range': (2, 5), 'features__text__tfidf__norm': 'l2', 'features__text__tfidf__stop_words': None, 'features__text__tfidf__tokenizer': None}\n"
     ]
    }
   ],
   "source": [
    "# get the best estimator \n",
    "best_estimator_LR = clf_behavior_LR_grid.best_estimator_\n",
    "print('best estimator: ', best_estimator_LR)\n",
    "print('-------------------------- mean accuracy on the cross validation of best estimator --------------------------')\n",
    "print('best score: ', clf_behavior_LR_grid.best_score_)\n",
    "print('best score related parameters: ', clf_behavior_LR_grid.best_params_)"
   ]
  },
  {
   "cell_type": "markdown",
   "metadata": {},
   "source": [
    "Test the best estimator performance on testing dataset"
   ]
  },
  {
   "cell_type": "code",
   "execution_count": 14,
   "metadata": {},
   "outputs": [
    {
     "name": "stderr",
     "output_type": "stream",
     "text": [
      "D:\\Anaconda3\\envs\\py36\\lib\\site-packages\\sklearn\\feature_extraction\\text.py:1015: FutureWarning: Conversion of the second argument of issubdtype from `float` to `np.floating` is deprecated. In future, it will be treated as `np.float64 == np.dtype(float).type`.\n",
      "  if hasattr(X, 'dtype') and np.issubdtype(X.dtype, np.float):\n"
     ]
    },
    {
     "name": "stdout",
     "output_type": "stream",
     "text": [
      "length of total comps:  1272\n",
      "482 different item in whole dataset\n",
      "accuracy: 62.106918%\n",
      "F1 Score:  [0.71367521 0.58114374 0.40973631]\n",
      "LR classifier AUC:  {'current': 0.7513099057363342, 'looking': 0.7960401594293587, 'reflecting': 0.7506381201367511, 'micro': 0.7968765451327082, 'macro': 0.7666178494772692}\n"
     ]
    }
   ],
   "source": [
    "# predict in testing set.\n",
    "y_behavior_LR_grid = best_estimator_LR.predict(X_test)\n",
    "# print('length of testing set: ', len(y_alc_initial))\n",
    "computeAccuracy(y_behavior_LR_grid, y_test)\n",
    "f1_score_LR_grid = computeF1Score(y_test, y_behavior_LR_grid, average = None)\n",
    "print('F1 Score: ', f1_score_LR_grid)\n",
    "auc_score_LR_grid = computeAUCBehavior(best_estimator_LR, X_test, y_test, plot=False)\n",
    "# auc_score = computeAUC(clf_alc_LR_updateParams, X_train, y_train, X_test, y_test, plot=True, plotTitle=\"Alcohol ROC Curve\")\n",
    "print('LR classifier AUC: ', auc_score_LR_grid)"
   ]
  },
  {
   "cell_type": "markdown",
   "metadata": {},
   "source": [
    "Save the best estimator"
   ]
  },
  {
   "cell_type": "code",
   "execution_count": 21,
   "metadata": {},
   "outputs": [
    {
     "data": {
      "text/plain": [
       "['behaviorBestEstimator.pkl']"
      ]
     },
     "execution_count": 21,
     "metadata": {},
     "output_type": "execute_result"
    }
   ],
   "source": [
    "joblib.dump(best_estimator_LR, 'behaviorBestEstimator.pkl', compress=1)"
   ]
  },
  {
   "cell_type": "markdown",
   "metadata": {},
   "source": [
    "Plot the grid search result in table. "
   ]
  },
  {
   "cell_type": "code",
   "execution_count": 18,
   "metadata": {},
   "outputs": [
    {
     "data": {
      "text/html": [
       "<div>\n",
       "<style scoped>\n",
       "    .dataframe tbody tr th:only-of-type {\n",
       "        vertical-align: middle;\n",
       "    }\n",
       "\n",
       "    .dataframe tbody tr th {\n",
       "        vertical-align: top;\n",
       "    }\n",
       "\n",
       "    .dataframe thead th {\n",
       "        text-align: right;\n",
       "    }\n",
       "</style>\n",
       "<table border=\"1\" class=\"dataframe\">\n",
       "  <thead>\n",
       "    <tr style=\"text-align: right;\">\n",
       "      <th></th>\n",
       "      <th>parameters</th>\n",
       "      <th>mean_validation_score</th>\n",
       "      <th>cv_validation_scores</th>\n",
       "    </tr>\n",
       "  </thead>\n",
       "  <tbody>\n",
       "    <tr>\n",
       "      <th>0</th>\n",
       "      <td>{'clf__C': 620.3397390085231, 'clf__penalty': ...</td>\n",
       "      <td>0.605900</td>\n",
       "      <td>[0.6196078431372549, 0.6058823529411764, 0.634...</td>\n",
       "    </tr>\n",
       "    <tr>\n",
       "      <th>1</th>\n",
       "      <td>{'clf__C': 531.6675471797098, 'clf__penalty': ...</td>\n",
       "      <td>0.526844</td>\n",
       "      <td>[0.515686274509804, 0.5392156862745098, 0.5343...</td>\n",
       "    </tr>\n",
       "    <tr>\n",
       "      <th>2</th>\n",
       "      <td>{'clf__C': 127.46245330582911, 'clf__penalty':...</td>\n",
       "      <td>0.527237</td>\n",
       "      <td>[0.5274509803921569, 0.5078431372549019, 0.497...</td>\n",
       "    </tr>\n",
       "    <tr>\n",
       "      <th>3</th>\n",
       "      <td>{'clf__C': 920.9773964822799, 'clf__penalty': ...</td>\n",
       "      <td>0.562832</td>\n",
       "      <td>[0.5588235294117647, 0.5431372549019607, 0.575...</td>\n",
       "    </tr>\n",
       "    <tr>\n",
       "      <th>4</th>\n",
       "      <td>{'clf__C': 464.7094416708465, 'clf__penalty': ...</td>\n",
       "      <td>0.517207</td>\n",
       "      <td>[0.5176470588235295, 0.48627450980392156, 0.50...</td>\n",
       "    </tr>\n",
       "    <tr>\n",
       "      <th>5</th>\n",
       "      <td>{'clf__C': 233.4135336340955, 'clf__penalty': ...</td>\n",
       "      <td>0.539626</td>\n",
       "      <td>[0.5117647058823529, 0.5196078431372549, 0.534...</td>\n",
       "    </tr>\n",
       "    <tr>\n",
       "      <th>6</th>\n",
       "      <td>{'clf__C': 595.2309441851392, 'clf__penalty': ...</td>\n",
       "      <td>0.573058</td>\n",
       "      <td>[0.5803921568627451, 0.5588235294117647, 0.552...</td>\n",
       "    </tr>\n",
       "    <tr>\n",
       "      <th>7</th>\n",
       "      <td>{'clf__C': 203.8842187916156, 'clf__penalty': ...</td>\n",
       "      <td>0.547296</td>\n",
       "      <td>[0.5764705882352941, 0.5647058823529412, 0.544...</td>\n",
       "    </tr>\n",
       "    <tr>\n",
       "      <th>8</th>\n",
       "      <td>{'clf__C': 344.76524221606775, 'clf__penalty':...</td>\n",
       "      <td>0.601770</td>\n",
       "      <td>[0.6039215686274509, 0.5862745098039216, 0.620...</td>\n",
       "    </tr>\n",
       "    <tr>\n",
       "      <th>9</th>\n",
       "      <td>{'clf__C': 817.4685905175103, 'clf__penalty': ...</td>\n",
       "      <td>0.569125</td>\n",
       "      <td>[0.5568627450980392, 0.5431372549019607, 0.585...</td>\n",
       "    </tr>\n",
       "    <tr>\n",
       "      <th>10</th>\n",
       "      <td>{'clf__C': 181.57785152331292, 'clf__penalty':...</td>\n",
       "      <td>0.547493</td>\n",
       "      <td>[0.5764705882352941, 0.5647058823529412, 0.544...</td>\n",
       "    </tr>\n",
       "    <tr>\n",
       "      <th>11</th>\n",
       "      <td>{'clf__C': 493.7192952068324, 'clf__penalty': ...</td>\n",
       "      <td>0.621436</td>\n",
       "      <td>[0.6274509803921569, 0.6215686274509804, 0.611...</td>\n",
       "    </tr>\n",
       "    <tr>\n",
       "      <th>12</th>\n",
       "      <td>{'clf__C': 168.94604841237742, 'clf__penalty':...</td>\n",
       "      <td>0.590954</td>\n",
       "      <td>[0.5941176470588235, 0.5823529411764706, 0.563...</td>\n",
       "    </tr>\n",
       "    <tr>\n",
       "      <th>13</th>\n",
       "      <td>{'clf__C': 508.3934170835095, 'clf__penalty': ...</td>\n",
       "      <td>0.542380</td>\n",
       "      <td>[0.5784313725490197, 0.5647058823529412, 0.538...</td>\n",
       "    </tr>\n",
       "    <tr>\n",
       "      <th>14</th>\n",
       "      <td>{'clf__C': 182.68804732509554, 'clf__penalty':...</td>\n",
       "      <td>0.553589</td>\n",
       "      <td>[0.5431372549019607, 0.5607843137254902, 0.563...</td>\n",
       "    </tr>\n",
       "    <tr>\n",
       "      <th>15</th>\n",
       "      <td>{'clf__C': 674.3535053741042, 'clf__penalty': ...</td>\n",
       "      <td>0.541003</td>\n",
       "      <td>[0.5490196078431373, 0.5450980392156862, 0.534...</td>\n",
       "    </tr>\n",
       "    <tr>\n",
       "      <th>16</th>\n",
       "      <td>{'clf__C': 262.3176185452978, 'clf__penalty': ...</td>\n",
       "      <td>0.570895</td>\n",
       "      <td>[0.5843137254901961, 0.5941176470588235, 0.548...</td>\n",
       "    </tr>\n",
       "    <tr>\n",
       "      <th>17</th>\n",
       "      <td>{'clf__C': 914.9610751575707, 'clf__penalty': ...</td>\n",
       "      <td>0.569715</td>\n",
       "      <td>[0.5882352941176471, 0.5980392156862745, 0.550...</td>\n",
       "    </tr>\n",
       "    <tr>\n",
       "      <th>18</th>\n",
       "      <td>{'clf__C': 594.9321375906248, 'clf__penalty': ...</td>\n",
       "      <td>0.564405</td>\n",
       "      <td>[0.5529411764705883, 0.5647058823529412, 0.561...</td>\n",
       "    </tr>\n",
       "    <tr>\n",
       "      <th>19</th>\n",
       "      <td>{'clf__C': 255.3398345536196, 'clf__penalty': ...</td>\n",
       "      <td>0.546509</td>\n",
       "      <td>[0.5490196078431373, 0.5627450980392157, 0.548...</td>\n",
       "    </tr>\n",
       "    <tr>\n",
       "      <th>20</th>\n",
       "      <td>{'clf__C': 62.76911124745849, 'clf__penalty': ...</td>\n",
       "      <td>0.613766</td>\n",
       "      <td>[0.6215686274509804, 0.615686274509804, 0.6188...</td>\n",
       "    </tr>\n",
       "    <tr>\n",
       "      <th>21</th>\n",
       "      <td>{'clf__C': 821.3262105417368, 'clf__penalty': ...</td>\n",
       "      <td>0.618092</td>\n",
       "      <td>[0.6215686274509804, 0.6039215686274509, 0.614...</td>\n",
       "    </tr>\n",
       "    <tr>\n",
       "      <th>22</th>\n",
       "      <td>{'clf__C': 180.00588158984837, 'clf__penalty':...</td>\n",
       "      <td>0.550442</td>\n",
       "      <td>[0.5450980392156862, 0.5411764705882353, 0.548...</td>\n",
       "    </tr>\n",
       "    <tr>\n",
       "      <th>23</th>\n",
       "      <td>{'clf__C': 937.1584596795692, 'clf__penalty': ...</td>\n",
       "      <td>0.498132</td>\n",
       "      <td>[0.5019607843137255, 0.47843137254901963, 0.47...</td>\n",
       "    </tr>\n",
       "    <tr>\n",
       "      <th>24</th>\n",
       "      <td>{'clf__C': 658.5276545580716, 'clf__penalty': ...</td>\n",
       "      <td>0.537266</td>\n",
       "      <td>[0.5784313725490197, 0.5490196078431373, 0.550...</td>\n",
       "    </tr>\n",
       "    <tr>\n",
       "      <th>25</th>\n",
       "      <td>{'clf__C': 540.4188171704269, 'clf__penalty': ...</td>\n",
       "      <td>0.599213</td>\n",
       "      <td>[0.592156862745098, 0.6392156862745098, 0.6011...</td>\n",
       "    </tr>\n",
       "    <tr>\n",
       "      <th>26</th>\n",
       "      <td>{'clf__C': 665.1064884750165, 'clf__penalty': ...</td>\n",
       "      <td>0.541003</td>\n",
       "      <td>[0.5745098039215686, 0.5352941176470588, 0.550...</td>\n",
       "    </tr>\n",
       "    <tr>\n",
       "      <th>27</th>\n",
       "      <td>{'clf__C': 826.5311701378582, 'clf__penalty': ...</td>\n",
       "      <td>0.527040</td>\n",
       "      <td>[0.5333333333333333, 0.5294117647058824, 0.506...</td>\n",
       "    </tr>\n",
       "    <tr>\n",
       "      <th>28</th>\n",
       "      <td>{'clf__C': 246.08180429820942, 'clf__penalty':...</td>\n",
       "      <td>0.620256</td>\n",
       "      <td>[0.6196078431372549, 0.6215686274509804, 0.618...</td>\n",
       "    </tr>\n",
       "    <tr>\n",
       "      <th>29</th>\n",
       "      <td>{'clf__C': 325.13782474446333, 'clf__penalty':...</td>\n",
       "      <td>0.573451</td>\n",
       "      <td>[0.5843137254901961, 0.5803921568627451, 0.565...</td>\n",
       "    </tr>\n",
       "    <tr>\n",
       "      <th>30</th>\n",
       "      <td>{'clf__C': 86.03209471696432, 'clf__penalty': ...</td>\n",
       "      <td>0.569518</td>\n",
       "      <td>[0.5803921568627451, 0.5549019607843138, 0.579...</td>\n",
       "    </tr>\n",
       "    <tr>\n",
       "      <th>31</th>\n",
       "      <td>{'clf__C': 239.08920022115504, 'clf__penalty':...</td>\n",
       "      <td>0.540413</td>\n",
       "      <td>[0.515686274509804, 0.5411764705882353, 0.5579...</td>\n",
       "    </tr>\n",
       "    <tr>\n",
       "      <th>32</th>\n",
       "      <td>{'clf__C': 416.8086915806466, 'clf__penalty': ...</td>\n",
       "      <td>0.559882</td>\n",
       "      <td>[0.5529411764705883, 0.5705882352941176, 0.518...</td>\n",
       "    </tr>\n",
       "    <tr>\n",
       "      <th>33</th>\n",
       "      <td>{'clf__C': 444.9814916583158, 'clf__penalty': ...</td>\n",
       "      <td>0.551819</td>\n",
       "      <td>[0.5745098039215686, 0.5568627450980392, 0.536...</td>\n",
       "    </tr>\n",
       "    <tr>\n",
       "      <th>34</th>\n",
       "      <td>{'clf__C': 969.2034635425653, 'clf__penalty': ...</td>\n",
       "      <td>0.538446</td>\n",
       "      <td>[0.5450980392156862, 0.5686274509803921, 0.530...</td>\n",
       "    </tr>\n",
       "    <tr>\n",
       "      <th>35</th>\n",
       "      <td>{'clf__C': 927.1943113276172, 'clf__penalty': ...</td>\n",
       "      <td>0.540020</td>\n",
       "      <td>[0.5549019607843138, 0.5666666666666667, 0.538...</td>\n",
       "    </tr>\n",
       "    <tr>\n",
       "      <th>36</th>\n",
       "      <td>{'clf__C': 740.3052251059094, 'clf__penalty': ...</td>\n",
       "      <td>0.539430</td>\n",
       "      <td>[0.5098039215686274, 0.5176470588235295, 0.538...</td>\n",
       "    </tr>\n",
       "    <tr>\n",
       "      <th>37</th>\n",
       "      <td>{'clf__C': 604.2860505830974, 'clf__penalty': ...</td>\n",
       "      <td>0.569518</td>\n",
       "      <td>[0.5823529411764706, 0.5647058823529412, 0.557...</td>\n",
       "    </tr>\n",
       "    <tr>\n",
       "      <th>38</th>\n",
       "      <td>{'clf__C': 896.3164934652374, 'clf__penalty': ...</td>\n",
       "      <td>0.547099</td>\n",
       "      <td>[0.5784313725490197, 0.5686274509803921, 0.550...</td>\n",
       "    </tr>\n",
       "    <tr>\n",
       "      <th>39</th>\n",
       "      <td>{'clf__C': 862.6957559755899, 'clf__penalty': ...</td>\n",
       "      <td>0.581318</td>\n",
       "      <td>[0.6019607843137255, 0.596078431372549, 0.5697...</td>\n",
       "    </tr>\n",
       "    <tr>\n",
       "      <th>40</th>\n",
       "      <td>{'clf__C': 622.5503097103214, 'clf__penalty': ...</td>\n",
       "      <td>0.541003</td>\n",
       "      <td>[0.5235294117647059, 0.5627450980392157, 0.514...</td>\n",
       "    </tr>\n",
       "    <tr>\n",
       "      <th>41</th>\n",
       "      <td>{'clf__C': 653.0992515017409, 'clf__penalty': ...</td>\n",
       "      <td>0.605113</td>\n",
       "      <td>[0.6098039215686275, 0.615686274509804, 0.5933...</td>\n",
       "    </tr>\n",
       "    <tr>\n",
       "      <th>42</th>\n",
       "      <td>{'clf__C': 535.4641016631575, 'clf__penalty': ...</td>\n",
       "      <td>0.538643</td>\n",
       "      <td>[0.5764705882352941, 0.5274509803921569, 0.559...</td>\n",
       "    </tr>\n",
       "    <tr>\n",
       "      <th>43</th>\n",
       "      <td>{'clf__C': 484.69194337436187, 'clf__penalty':...</td>\n",
       "      <td>0.527827</td>\n",
       "      <td>[0.515686274509804, 0.5352941176470588, 0.4852...</td>\n",
       "    </tr>\n",
       "    <tr>\n",
       "      <th>44</th>\n",
       "      <td>{'clf__C': 150.35187297917236, 'clf__penalty':...</td>\n",
       "      <td>0.540610</td>\n",
       "      <td>[0.5117647058823529, 0.5215686274509804, 0.534...</td>\n",
       "    </tr>\n",
       "    <tr>\n",
       "      <th>45</th>\n",
       "      <td>{'clf__C': 179.22428553721775, 'clf__penalty':...</td>\n",
       "      <td>0.552212</td>\n",
       "      <td>[0.5588235294117647, 0.5647058823529412, 0.540...</td>\n",
       "    </tr>\n",
       "    <tr>\n",
       "      <th>46</th>\n",
       "      <td>{'clf__C': 791.1476393116334, 'clf__penalty': ...</td>\n",
       "      <td>0.559095</td>\n",
       "      <td>[0.5764705882352941, 0.5607843137254902, 0.559...</td>\n",
       "    </tr>\n",
       "    <tr>\n",
       "      <th>47</th>\n",
       "      <td>{'clf__C': 378.0466665831709, 'clf__penalty': ...</td>\n",
       "      <td>0.569715</td>\n",
       "      <td>[0.5843137254901961, 0.5529411764705883, 0.528...</td>\n",
       "    </tr>\n",
       "    <tr>\n",
       "      <th>48</th>\n",
       "      <td>{'clf__C': 703.985332077067, 'clf__penalty': '...</td>\n",
       "      <td>0.606096</td>\n",
       "      <td>[0.6176470588235294, 0.615686274509804, 0.5992...</td>\n",
       "    </tr>\n",
       "    <tr>\n",
       "      <th>49</th>\n",
       "      <td>{'clf__C': 12.95103689337412, 'clf__penalty': ...</td>\n",
       "      <td>0.633825</td>\n",
       "      <td>[0.6313725490196078, 0.6411764705882353, 0.626...</td>\n",
       "    </tr>\n",
       "  </tbody>\n",
       "</table>\n",
       "</div>"
      ],
      "text/plain": [
       "                                           parameters  mean_validation_score  \\\n",
       "0   {'clf__C': 620.3397390085231, 'clf__penalty': ...               0.605900   \n",
       "1   {'clf__C': 531.6675471797098, 'clf__penalty': ...               0.526844   \n",
       "2   {'clf__C': 127.46245330582911, 'clf__penalty':...               0.527237   \n",
       "3   {'clf__C': 920.9773964822799, 'clf__penalty': ...               0.562832   \n",
       "4   {'clf__C': 464.7094416708465, 'clf__penalty': ...               0.517207   \n",
       "5   {'clf__C': 233.4135336340955, 'clf__penalty': ...               0.539626   \n",
       "6   {'clf__C': 595.2309441851392, 'clf__penalty': ...               0.573058   \n",
       "7   {'clf__C': 203.8842187916156, 'clf__penalty': ...               0.547296   \n",
       "8   {'clf__C': 344.76524221606775, 'clf__penalty':...               0.601770   \n",
       "9   {'clf__C': 817.4685905175103, 'clf__penalty': ...               0.569125   \n",
       "10  {'clf__C': 181.57785152331292, 'clf__penalty':...               0.547493   \n",
       "11  {'clf__C': 493.7192952068324, 'clf__penalty': ...               0.621436   \n",
       "12  {'clf__C': 168.94604841237742, 'clf__penalty':...               0.590954   \n",
       "13  {'clf__C': 508.3934170835095, 'clf__penalty': ...               0.542380   \n",
       "14  {'clf__C': 182.68804732509554, 'clf__penalty':...               0.553589   \n",
       "15  {'clf__C': 674.3535053741042, 'clf__penalty': ...               0.541003   \n",
       "16  {'clf__C': 262.3176185452978, 'clf__penalty': ...               0.570895   \n",
       "17  {'clf__C': 914.9610751575707, 'clf__penalty': ...               0.569715   \n",
       "18  {'clf__C': 594.9321375906248, 'clf__penalty': ...               0.564405   \n",
       "19  {'clf__C': 255.3398345536196, 'clf__penalty': ...               0.546509   \n",
       "20  {'clf__C': 62.76911124745849, 'clf__penalty': ...               0.613766   \n",
       "21  {'clf__C': 821.3262105417368, 'clf__penalty': ...               0.618092   \n",
       "22  {'clf__C': 180.00588158984837, 'clf__penalty':...               0.550442   \n",
       "23  {'clf__C': 937.1584596795692, 'clf__penalty': ...               0.498132   \n",
       "24  {'clf__C': 658.5276545580716, 'clf__penalty': ...               0.537266   \n",
       "25  {'clf__C': 540.4188171704269, 'clf__penalty': ...               0.599213   \n",
       "26  {'clf__C': 665.1064884750165, 'clf__penalty': ...               0.541003   \n",
       "27  {'clf__C': 826.5311701378582, 'clf__penalty': ...               0.527040   \n",
       "28  {'clf__C': 246.08180429820942, 'clf__penalty':...               0.620256   \n",
       "29  {'clf__C': 325.13782474446333, 'clf__penalty':...               0.573451   \n",
       "30  {'clf__C': 86.03209471696432, 'clf__penalty': ...               0.569518   \n",
       "31  {'clf__C': 239.08920022115504, 'clf__penalty':...               0.540413   \n",
       "32  {'clf__C': 416.8086915806466, 'clf__penalty': ...               0.559882   \n",
       "33  {'clf__C': 444.9814916583158, 'clf__penalty': ...               0.551819   \n",
       "34  {'clf__C': 969.2034635425653, 'clf__penalty': ...               0.538446   \n",
       "35  {'clf__C': 927.1943113276172, 'clf__penalty': ...               0.540020   \n",
       "36  {'clf__C': 740.3052251059094, 'clf__penalty': ...               0.539430   \n",
       "37  {'clf__C': 604.2860505830974, 'clf__penalty': ...               0.569518   \n",
       "38  {'clf__C': 896.3164934652374, 'clf__penalty': ...               0.547099   \n",
       "39  {'clf__C': 862.6957559755899, 'clf__penalty': ...               0.581318   \n",
       "40  {'clf__C': 622.5503097103214, 'clf__penalty': ...               0.541003   \n",
       "41  {'clf__C': 653.0992515017409, 'clf__penalty': ...               0.605113   \n",
       "42  {'clf__C': 535.4641016631575, 'clf__penalty': ...               0.538643   \n",
       "43  {'clf__C': 484.69194337436187, 'clf__penalty':...               0.527827   \n",
       "44  {'clf__C': 150.35187297917236, 'clf__penalty':...               0.540610   \n",
       "45  {'clf__C': 179.22428553721775, 'clf__penalty':...               0.552212   \n",
       "46  {'clf__C': 791.1476393116334, 'clf__penalty': ...               0.559095   \n",
       "47  {'clf__C': 378.0466665831709, 'clf__penalty': ...               0.569715   \n",
       "48  {'clf__C': 703.985332077067, 'clf__penalty': '...               0.606096   \n",
       "49  {'clf__C': 12.95103689337412, 'clf__penalty': ...               0.633825   \n",
       "\n",
       "                                 cv_validation_scores  \n",
       "0   [0.6196078431372549, 0.6058823529411764, 0.634...  \n",
       "1   [0.515686274509804, 0.5392156862745098, 0.5343...  \n",
       "2   [0.5274509803921569, 0.5078431372549019, 0.497...  \n",
       "3   [0.5588235294117647, 0.5431372549019607, 0.575...  \n",
       "4   [0.5176470588235295, 0.48627450980392156, 0.50...  \n",
       "5   [0.5117647058823529, 0.5196078431372549, 0.534...  \n",
       "6   [0.5803921568627451, 0.5588235294117647, 0.552...  \n",
       "7   [0.5764705882352941, 0.5647058823529412, 0.544...  \n",
       "8   [0.6039215686274509, 0.5862745098039216, 0.620...  \n",
       "9   [0.5568627450980392, 0.5431372549019607, 0.585...  \n",
       "10  [0.5764705882352941, 0.5647058823529412, 0.544...  \n",
       "11  [0.6274509803921569, 0.6215686274509804, 0.611...  \n",
       "12  [0.5941176470588235, 0.5823529411764706, 0.563...  \n",
       "13  [0.5784313725490197, 0.5647058823529412, 0.538...  \n",
       "14  [0.5431372549019607, 0.5607843137254902, 0.563...  \n",
       "15  [0.5490196078431373, 0.5450980392156862, 0.534...  \n",
       "16  [0.5843137254901961, 0.5941176470588235, 0.548...  \n",
       "17  [0.5882352941176471, 0.5980392156862745, 0.550...  \n",
       "18  [0.5529411764705883, 0.5647058823529412, 0.561...  \n",
       "19  [0.5490196078431373, 0.5627450980392157, 0.548...  \n",
       "20  [0.6215686274509804, 0.615686274509804, 0.6188...  \n",
       "21  [0.6215686274509804, 0.6039215686274509, 0.614...  \n",
       "22  [0.5450980392156862, 0.5411764705882353, 0.548...  \n",
       "23  [0.5019607843137255, 0.47843137254901963, 0.47...  \n",
       "24  [0.5784313725490197, 0.5490196078431373, 0.550...  \n",
       "25  [0.592156862745098, 0.6392156862745098, 0.6011...  \n",
       "26  [0.5745098039215686, 0.5352941176470588, 0.550...  \n",
       "27  [0.5333333333333333, 0.5294117647058824, 0.506...  \n",
       "28  [0.6196078431372549, 0.6215686274509804, 0.618...  \n",
       "29  [0.5843137254901961, 0.5803921568627451, 0.565...  \n",
       "30  [0.5803921568627451, 0.5549019607843138, 0.579...  \n",
       "31  [0.515686274509804, 0.5411764705882353, 0.5579...  \n",
       "32  [0.5529411764705883, 0.5705882352941176, 0.518...  \n",
       "33  [0.5745098039215686, 0.5568627450980392, 0.536...  \n",
       "34  [0.5450980392156862, 0.5686274509803921, 0.530...  \n",
       "35  [0.5549019607843138, 0.5666666666666667, 0.538...  \n",
       "36  [0.5098039215686274, 0.5176470588235295, 0.538...  \n",
       "37  [0.5823529411764706, 0.5647058823529412, 0.557...  \n",
       "38  [0.5784313725490197, 0.5686274509803921, 0.550...  \n",
       "39  [0.6019607843137255, 0.596078431372549, 0.5697...  \n",
       "40  [0.5235294117647059, 0.5627450980392157, 0.514...  \n",
       "41  [0.6098039215686275, 0.615686274509804, 0.5933...  \n",
       "42  [0.5764705882352941, 0.5274509803921569, 0.559...  \n",
       "43  [0.515686274509804, 0.5352941176470588, 0.4852...  \n",
       "44  [0.5117647058823529, 0.5215686274509804, 0.534...  \n",
       "45  [0.5588235294117647, 0.5647058823529412, 0.540...  \n",
       "46  [0.5764705882352941, 0.5607843137254902, 0.559...  \n",
       "47  [0.5843137254901961, 0.5529411764705883, 0.528...  \n",
       "48  [0.6176470588235294, 0.615686274509804, 0.5992...  \n",
       "49  [0.6313725490196078, 0.6411764705882353, 0.626...  "
      ]
     },
     "execution_count": 18,
     "metadata": {},
     "output_type": "execute_result"
    }
   ],
   "source": [
    "cv = pd.DataFrame(clf_behavior_LR_grid.grid_scores_)\n",
    "cv.cv_validation_scores[0]\n",
    "cv"
   ]
  },
  {
   "cell_type": "markdown",
   "metadata": {},
   "source": [
    "Test the one you are saved"
   ]
  },
  {
   "cell_type": "code",
   "execution_count": 26,
   "metadata": {},
   "outputs": [],
   "source": [
    "clf_saved = joblib.load('./alcohol classifiers/behaviorBestEstimatorLR.pkl')"
   ]
  },
  {
   "cell_type": "code",
   "execution_count": 27,
   "metadata": {},
   "outputs": [
    {
     "name": "stderr",
     "output_type": "stream",
     "text": [
      "D:\\Anaconda3\\envs\\py36\\lib\\site-packages\\sklearn\\feature_extraction\\text.py:1015: FutureWarning: Conversion of the second argument of issubdtype from `float` to `np.floating` is deprecated. In future, it will be treated as `np.float64 == np.dtype(float).type`.\n",
      "  if hasattr(X, 'dtype') and np.issubdtype(X.dtype, np.float):\n"
     ]
    },
    {
     "name": "stdout",
     "output_type": "stream",
     "text": [
      "length of total comps:  1272\n",
      "482 different item in whole dataset\n",
      "accuracy: 62.106918%\n",
      "F1 Score:  [0.71367521 0.58114374 0.40973631]\n",
      "LR classifier AUC:  {'current': 0.7513099057363342, 'looking': 0.7960401594293587, 'reflecting': 0.7506381201367511, 'micro': 0.7968765451327082, 'macro': 0.7666178494772692}\n"
     ]
    }
   ],
   "source": [
    "# predict in testing set.\n",
    "y_behavior_LR_saved = clf_saved.predict(X_test)\n",
    "# print('length of testing set: ', len(y_alc_initial))\n",
    "computeAccuracy(y_behavior_LR_saved, y_test)\n",
    "f1_score_LR_saved = computeF1Score(y_test, y_behavior_LR_saved, average = None)\n",
    "print('F1 Score: ', f1_score_LR_saved)\n",
    "auc_score_LR_saved = computeAUCBehavior(clf_saved, X_test, y_test, plot=False)\n",
    "# auc_score = computeAUC(clf_alc_LR_updateParams, X_train, y_train, X_test, y_test, plot=True, plotTitle=\"Alcohol ROC Curve\")\n",
    "print('LR classifier AUC: ', auc_score_LR_saved)"
   ]
  },
  {
   "cell_type": "markdown",
   "metadata": {},
   "source": [
    "Saved model works well"
   ]
  },
  {
   "cell_type": "code",
   "execution_count": null,
   "metadata": {},
   "outputs": [],
   "source": []
  }
 ],
 "metadata": {
  "kernelspec": {
   "display_name": "Python 3",
   "language": "python",
   "name": "python3"
  },
  "language_info": {
   "codemirror_mode": {
    "name": "ipython",
    "version": 3
   },
   "file_extension": ".py",
   "mimetype": "text/x-python",
   "name": "python",
   "nbconvert_exporter": "python",
   "pygments_lexer": "ipython3",
   "version": "3.6.5"
  }
 },
 "nbformat": 4,
 "nbformat_minor": 2
}
