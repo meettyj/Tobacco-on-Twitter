{
 "cells": [
  {
   "cell_type": "code",
   "execution_count": 27,
   "metadata": {},
   "outputs": [
    {
     "name": "stdout",
     "output_type": "stream",
     "text": [
      "0.17\n"
     ]
    }
   ],
   "source": [
    "import os\n",
    "# print(os.getcwd())\n",
    "os.chdir('C:/Users/eddie/Desktop/Prof. Rumi Chunara/alcohol')\n",
    "import pickle\n",
    "import sklearn\n",
    "print(sklearn.__version__)\n",
    "import pandas as pd\n",
    "import numpy as np\n",
    "import sys\n",
    "from evaluation.metric import computeAccuracy, computeF1Score, computeAUC, computeAUCBehavior\n",
    "# from sklearn.metrics import roc_auc_score\n",
    "\n",
    "# %load_ext autoreload\n",
    "# %autoreload\n",
    "from sklearn.linear_model import LogisticRegression\n",
    "from sklearn.svm import LinearSVC\n",
    "from scipy.stats import uniform\n",
    "# %reload_ext pipelines.alcohol.AlcoholPipeline\n",
    "from pipelines.alcohol import AlcoholPipeline\n",
    "from sklearn.grid_search import RandomizedSearchCV, GridSearchCV\n",
    "from scripts.gridsearch import text_grid\n",
    "from sklearn.externals import joblib\n"
   ]
  },
  {
   "cell_type": "code",
   "execution_count": 28,
   "metadata": {},
   "outputs": [],
   "source": [
    "# clf_alc_initial = pickle.load(open('./alcohol classifiers/clf_alc_UPDATED.p', 'rb'))\n",
    "# clf_fpa_initial = pickle.load(open('./alcohol classifiers/clf_fpa_UPDATED.p', 'rb'))\n",
    "clf_behavior_initial = pickle.load(open('./alcohol classifiers/clf_fpl_double_labeled', 'rb'))\n",
    "df = pd.read_csv(\"./data/alcohol_training_instances.csv\")"
   ]
  },
  {
   "cell_type": "markdown",
   "metadata": {},
   "source": [
    "Prepare the behavior level data"
   ]
  },
  {
   "cell_type": "code",
   "execution_count": 29,
   "metadata": {},
   "outputs": [
    {
     "name": "stdout",
     "output_type": "stream",
     "text": [
      "[0, 0, 2, 2, 1, 0, 0, 0, 1, 1, 0, 2, 0, 0, 0, 0, 0, 2, 0, 0]\n",
      "length of first person level labels:  6357\n",
      "[0, 0, 1, 0, 0, 1, 1, 1, 0, 0, 0, 1, 0, 1, 0, 0, 0, 1, 1, 0]\n",
      "length of first person level index in df:  15651\n",
      "[2, 5, 6, 7, 11, 13, 17, 18, 21, 22, 23, 24, 26, 27, 28]\n",
      "length of first person level df index:  6357\n"
     ]
    }
   ],
   "source": [
    "# appending labels based on whether tweet label contains phrase\n",
    "behavior_labels = []\n",
    "behavior_index_in_df = []\n",
    "\n",
    "fpl = \"'first_person_level'\"\n",
    "\n",
    "# extracting FP levels and constructing subset vector simultaneously\n",
    "for i in range(len(df)):\n",
    "    if fpl in df.labels[i]:\n",
    "        behavior_labels.append(int(df.labels[i][df.labels[i].find(fpl) + len(fpl) + 2]))\n",
    "        behavior_index_in_df.append(1)\n",
    "    else:\n",
    "        behavior_index_in_df.append(0)\n",
    "\n",
    "behavior_labels = list(map(int, behavior_labels))\n",
    "print(behavior_labels[:20])\n",
    "# print(subset_vec_alc_fp[:10])\n",
    "print('length of first person level labels: ', len(behavior_labels)) # 6357\n",
    "print(behavior_index_in_df[:20])\n",
    "print('length of first person level index in df: ', len(behavior_index_in_df)) # 15651\n",
    "index_behavior = list(np.where(behavior_index_in_df)[0])\n",
    "print(index_behavior[:15])\n",
    "print('length of first person level df index: ', len(index_behavior)) # 6357\n",
    "df_behavior = df.iloc[index_behavior,]\n",
    "# df_fp.head\n",
    "# fp_labels = np.asarray(fp_labels)\n",
    "\n",
    "# change label 3 to label 0\n",
    "behavior_labels = [0 if x == 3 else x for x in behavior_labels] \n",
    "\n",
    "# train test dataset split\n",
    "from sklearn.cross_validation import train_test_split\n",
    "X_train, X_test, y_train, y_test = train_test_split(df_behavior, behavior_labels, test_size=0.2, random_state=26)"
   ]
  },
  {
   "cell_type": "code",
   "execution_count": 30,
   "metadata": {},
   "outputs": [
    {
     "name": "stdout",
     "output_type": "stream",
     "text": [
      "6357\n",
      "15651\n"
     ]
    }
   ],
   "source": [
    "print(len(behavior_labels))\n",
    "print(len(behavior_index_in_df))\n",
    "# behavior_labels[:30]\n",
    "# for i in behavior_labels:\n",
    "#     if i ==3:\n",
    "#         print(True)"
   ]
  },
  {
   "cell_type": "markdown",
   "metadata": {},
   "source": [
    "Create a model for the following grid search"
   ]
  },
  {
   "cell_type": "code",
   "execution_count": 31,
   "metadata": {},
   "outputs": [
    {
     "data": {
      "text/plain": [
       "[('features', FeatureUnion(n_jobs=1,\n",
       "         transformer_list=[('text', Pipeline(steps=[('getter', ItemGetter(key='text')), ('tfidf', TfidfVectorizer(analyzer='char', binary=False, decode_error='strict',\n",
       "          dtype=<class 'numpy.int64'>, encoding='utf-8', input='content',\n",
       "          lowercase=True, max_df=1.0, max_features=None, min_df=1,\n",
       "      ...      token_pattern='(?u)\\\\b\\\\w\\\\w+\\\\b', tokenizer=None, use_idf=True,\n",
       "          vocabulary=None))]))],\n",
       "         transformer_weights=None)),\n",
       " ('scaler', Normalizer(copy=True, norm='l2')),\n",
       " ('clf', LinearSVC(C=1.0, class_weight=None, dual=True, fit_intercept=True,\n",
       "       intercept_scaling=1, loss='squared_hinge', max_iter=1000,\n",
       "       multi_class='ovr', penalty='l2', random_state=None, tol=0.0001,\n",
       "       verbose=0))]"
      ]
     },
     "execution_count": 31,
     "metadata": {},
     "output_type": "execute_result"
    }
   ],
   "source": [
    "# SVM\n",
    "clf_behavior_SVM = AlcoholPipeline(global_features=[\"text\"]).pipeline(LinearSVC())\n",
    "clf_behavior_SVM.steps"
   ]
  },
  {
   "cell_type": "code",
   "execution_count": 32,
   "metadata": {},
   "outputs": [
    {
     "name": "stderr",
     "output_type": "stream",
     "text": [
      "D:\\Anaconda3\\envs\\py36\\lib\\site-packages\\sklearn\\feature_extraction\\text.py:1015: FutureWarning: Conversion of the second argument of issubdtype from `float` to `np.floating` is deprecated. In future, it will be treated as `np.float64 == np.dtype(float).type`.\n",
      "  if hasattr(X, 'dtype') and np.issubdtype(X.dtype, np.float):\n"
     ]
    },
    {
     "data": {
      "text/plain": [
       "Pipeline(steps=[('features', FeatureUnion(n_jobs=1,\n",
       "       transformer_list=[('text', Pipeline(steps=[('getter', ItemGetter(key='text')), ('tfidf', TfidfVectorizer(analyzer='char', binary=False, decode_error='strict',\n",
       "        dtype=<class 'numpy.int64'>, encoding='utf-8', input='content',\n",
       "        lowercase=T...ax_iter=1000,\n",
       "     multi_class='ovr', penalty='l2', random_state=None, tol=0.0001,\n",
       "     verbose=0))])"
      ]
     },
     "execution_count": 32,
     "metadata": {},
     "output_type": "execute_result"
    }
   ],
   "source": [
    "clf_behavior_SVM.fit(X_train, y_train)"
   ]
  },
  {
   "cell_type": "markdown",
   "metadata": {},
   "source": [
    "Now we are trying to implement grid search."
   ]
  },
  {
   "cell_type": "code",
   "execution_count": 33,
   "metadata": {},
   "outputs": [],
   "source": [
    "param_grid = {\n",
    "    'clf__C': uniform(0.0001, 1000),\n",
    "    'clf__penalty': ['l2', \"l1\"],\n",
    "#     'clf__penalty': ['l2'],\n",
    "    'clf__tol': uniform(0.0001, 0.001),\n",
    "#     'clf__verbose': [0]\n",
    "#     'features__text__tfidf__analyzer': ['char'],\n",
    "#     'features__text__tfidf__ngram_range': [(2,5)]\n",
    "}\n",
    "\n",
    "param_grid.update(text_grid)\n",
    "\n",
    "cv_kwargs = dict(\n",
    "    n_iter=50,\n",
    "    scoring=None,\n",
    "    fit_params=None,\n",
    "    n_jobs=-1,\n",
    "    iid=True,\n",
    "    refit=True,\n",
    "    cv=10,\n",
    "    verbose=0,\n",
    "    pre_dispatch='2*n_jobs',\n",
    "    error_score=0\n",
    ")"
   ]
  },
  {
   "cell_type": "code",
   "execution_count": 34,
   "metadata": {},
   "outputs": [
    {
     "name": "stderr",
     "output_type": "stream",
     "text": [
      "D:\\Anaconda3\\envs\\py36\\lib\\site-packages\\sklearn\\feature_extraction\\text.py:1015: FutureWarning: Conversion of the second argument of issubdtype from `float` to `np.floating` is deprecated. In future, it will be treated as `np.float64 == np.dtype(float).type`.\n",
      "  if hasattr(X, 'dtype') and np.issubdtype(X.dtype, np.float):\n"
     ]
    },
    {
     "data": {
      "text/plain": [
       "RandomizedSearchCV(cv=10, error_score=0,\n",
       "          estimator=Pipeline(steps=[('features', FeatureUnion(n_jobs=1,\n",
       "       transformer_list=[('text', Pipeline(steps=[('getter', ItemGetter(key='text')), ('tfidf', TfidfVectorizer(analyzer='char', binary=False, decode_error='strict',\n",
       "        dtype=<class 'numpy.int64'>, encoding='utf-8', input='content',\n",
       "        lowercase=T...ax_iter=1000,\n",
       "     multi_class='ovr', penalty='l2', random_state=None, tol=0.0001,\n",
       "     verbose=0))]),\n",
       "          fit_params={}, iid=True, n_iter=50, n_jobs=-1,\n",
       "          param_distributions={'clf__C': <scipy.stats._distn_infrastructure.rv_frozen object at 0x0000028E0540A320>, 'clf__penalty': ['l2', 'l1'], 'clf__tol': <scipy.stats._distn_infrastructure.rv_frozen object at 0x0000028E05429128>, 'features__text__tfidf__analyzer': ['char', 'word'], 'features__text__tfidf..., 'english'], 'features__text__tfidf__tokenizer': [None, <function tokenize at 0x0000028E03236378>]},\n",
       "          pre_dispatch='2*n_jobs', random_state=None, refit=True,\n",
       "          scoring=None, verbose=0)"
      ]
     },
     "execution_count": 34,
     "metadata": {},
     "output_type": "execute_result"
    }
   ],
   "source": [
    "clf_behavior_SVM_grid = RandomizedSearchCV(clf_behavior_SVM, param_grid, **cv_kwargs)\n",
    "clf_behavior_SVM_grid.fit(X_train, y_train)"
   ]
  },
  {
   "cell_type": "code",
   "execution_count": 35,
   "metadata": {},
   "outputs": [
    {
     "name": "stdout",
     "output_type": "stream",
     "text": [
      "best estimator:  Pipeline(steps=[('features', FeatureUnion(n_jobs=1,\n",
      "       transformer_list=[('text', Pipeline(steps=[('getter', ItemGetter(key='text')), ('tfidf', TfidfVectorizer(analyzer='word', binary=False, decode_error='strict',\n",
      "        dtype=<class 'numpy.int64'>, encoding='utf-8', input='content',\n",
      "        lowercase=F...00, multi_class='ovr', penalty='l2', random_state=None,\n",
      "     tol=0.0010541708034333423, verbose=0))])\n",
      "-------------------------- mean accuracy on the cross validation of best estimator --------------------------\n",
      "best score:  0.640511307767945\n",
      "best score related parameters:  {'clf__C': 251.59075109196576, 'clf__penalty': 'l2', 'clf__tol': 0.0010541708034333423, 'features__text__tfidf__analyzer': 'word', 'features__text__tfidf__lowercase': False, 'features__text__tfidf__max_features': 99765, 'features__text__tfidf__min_df': 1, 'features__text__tfidf__ngram_range': (1, 3), 'features__text__tfidf__norm': 'l1', 'features__text__tfidf__stop_words': None, 'features__text__tfidf__tokenizer': <function tokenize at 0x0000028E03236378>}\n"
     ]
    }
   ],
   "source": [
    "# get the best estimator \n",
    "best_estimator_SVM = clf_behavior_SVM_grid.best_estimator_\n",
    "print('best estimator: ', best_estimator_SVM)\n",
    "print('-------------------------- mean accuracy on the cross validation of best estimator --------------------------')\n",
    "print('best score: ', clf_behavior_SVM_grid.best_score_)\n",
    "print('best score related parameters: ', clf_behavior_SVM_grid.best_params_)"
   ]
  },
  {
   "cell_type": "markdown",
   "metadata": {},
   "source": [
    "Test the best estimator performance on testing dataset"
   ]
  },
  {
   "cell_type": "code",
   "execution_count": 36,
   "metadata": {},
   "outputs": [
    {
     "name": "stderr",
     "output_type": "stream",
     "text": [
      "D:\\Anaconda3\\envs\\py36\\lib\\site-packages\\sklearn\\feature_extraction\\text.py:1015: FutureWarning: Conversion of the second argument of issubdtype from `float` to `np.floating` is deprecated. In future, it will be treated as `np.float64 == np.dtype(float).type`.\n",
      "  if hasattr(X, 'dtype') and np.issubdtype(X.dtype, np.float):\n"
     ]
    },
    {
     "name": "stdout",
     "output_type": "stream",
     "text": [
      "length of total comps:  1272\n",
      "492 different item in whole dataset\n",
      "accuracy: 61.320755%\n",
      "F1 Score:  [0.70159453 0.57631954 0.44106464]\n",
      "SVM classifier AUC:  {'current': 0.7472408368532535, 'looking': 0.7876124744533872, 'reflecting': 0.7478516622062713, 'micro': 0.7824014328942683, 'macro': 0.7615474208016202}\n"
     ]
    }
   ],
   "source": [
    "# predict in testing set.\n",
    "y_behavior_SVM_grid = best_estimator_SVM.predict(X_test)\n",
    "# print('length of testing set: ', len(y_alc_initial))\n",
    "computeAccuracy(y_behavior_SVM_grid, y_test)\n",
    "f1_score_SVM_grid = computeF1Score(y_test, y_behavior_SVM_grid, average = None)\n",
    "print('F1 Score: ', f1_score_SVM_grid)\n",
    "auc_score_SVM_grid = computeAUCBehavior(best_estimator_SVM, X_test, y_test, plot=False)\n",
    "# auc_score = computeAUC(clf_alc_LR_updateParams, X_train, y_train, X_test, y_test, plot=True, plotTitle=\"Alcohol ROC Curve\")\n",
    "print('SVM classifier AUC: ', auc_score_SVM_grid)"
   ]
  },
  {
   "cell_type": "markdown",
   "metadata": {},
   "source": [
    "Save the best estimator"
   ]
  },
  {
   "cell_type": "code",
   "execution_count": 37,
   "metadata": {},
   "outputs": [
    {
     "data": {
      "text/plain": [
       "['./alcohol classifiers/behaviorBestEstimatorSVM.pkl']"
      ]
     },
     "execution_count": 37,
     "metadata": {},
     "output_type": "execute_result"
    }
   ],
   "source": [
    "joblib.dump(best_estimator_SVM, './alcohol classifiers/behaviorBestEstimatorSVM.pkl', compress=1)"
   ]
  },
  {
   "cell_type": "markdown",
   "metadata": {},
   "source": [
    "Plot the grid search result in table. "
   ]
  },
  {
   "cell_type": "code",
   "execution_count": 38,
   "metadata": {},
   "outputs": [
    {
     "data": {
      "text/html": [
       "<div>\n",
       "<style scoped>\n",
       "    .dataframe tbody tr th:only-of-type {\n",
       "        vertical-align: middle;\n",
       "    }\n",
       "\n",
       "    .dataframe tbody tr th {\n",
       "        vertical-align: top;\n",
       "    }\n",
       "\n",
       "    .dataframe thead th {\n",
       "        text-align: right;\n",
       "    }\n",
       "</style>\n",
       "<table border=\"1\" class=\"dataframe\">\n",
       "  <thead>\n",
       "    <tr style=\"text-align: right;\">\n",
       "      <th></th>\n",
       "      <th>parameters</th>\n",
       "      <th>mean_validation_score</th>\n",
       "      <th>cv_validation_scores</th>\n",
       "    </tr>\n",
       "  </thead>\n",
       "  <tbody>\n",
       "    <tr>\n",
       "      <th>0</th>\n",
       "      <td>{'clf__C': 770.6447695224987, 'clf__penalty': ...</td>\n",
       "      <td>0.000000</td>\n",
       "      <td>[0, 0, 0, 0, 0, 0, 0, 0, 0, 0]</td>\n",
       "    </tr>\n",
       "    <tr>\n",
       "      <th>1</th>\n",
       "      <td>{'clf__C': 977.1116173791768, 'clf__penalty': ...</td>\n",
       "      <td>0.000000</td>\n",
       "      <td>[0, 0, 0, 0, 0, 0, 0, 0, 0, 0]</td>\n",
       "    </tr>\n",
       "    <tr>\n",
       "      <th>2</th>\n",
       "      <td>{'clf__C': 964.2952641726399, 'clf__penalty': ...</td>\n",
       "      <td>0.545919</td>\n",
       "      <td>[0.5588235294117647, 0.5549019607843138, 0.530...</td>\n",
       "    </tr>\n",
       "    <tr>\n",
       "      <th>3</th>\n",
       "      <td>{'clf__C': 489.8651724072061, 'clf__penalty': ...</td>\n",
       "      <td>0.547689</td>\n",
       "      <td>[0.5588235294117647, 0.5529411764705883, 0.532...</td>\n",
       "    </tr>\n",
       "    <tr>\n",
       "      <th>4</th>\n",
       "      <td>{'clf__C': 387.4303002020613, 'clf__penalty': ...</td>\n",
       "      <td>0.000000</td>\n",
       "      <td>[0, 0, 0, 0, 0, 0, 0, 0, 0, 0]</td>\n",
       "    </tr>\n",
       "    <tr>\n",
       "      <th>5</th>\n",
       "      <td>{'clf__C': 337.11018641210205, 'clf__penalty':...</td>\n",
       "      <td>0.542183</td>\n",
       "      <td>[0.5470588235294118, 0.5588235294117647, 0.546...</td>\n",
       "    </tr>\n",
       "    <tr>\n",
       "      <th>6</th>\n",
       "      <td>{'clf__C': 181.2533686130598, 'clf__penalty': ...</td>\n",
       "      <td>0.000000</td>\n",
       "      <td>[0, 0, 0, 0, 0, 0, 0, 0, 0, 0]</td>\n",
       "    </tr>\n",
       "    <tr>\n",
       "      <th>7</th>\n",
       "      <td>{'clf__C': 928.0617505710735, 'clf__penalty': ...</td>\n",
       "      <td>0.573058</td>\n",
       "      <td>[0.6058823529411764, 0.5588235294117647, 0.573...</td>\n",
       "    </tr>\n",
       "    <tr>\n",
       "      <th>8</th>\n",
       "      <td>{'clf__C': 543.6319027796051, 'clf__penalty': ...</td>\n",
       "      <td>0.557522</td>\n",
       "      <td>[0.5686274509803921, 0.5764705882352941, 0.544...</td>\n",
       "    </tr>\n",
       "    <tr>\n",
       "      <th>9</th>\n",
       "      <td>{'clf__C': 309.71409162304, 'clf__penalty': 'l...</td>\n",
       "      <td>0.000000</td>\n",
       "      <td>[0, 0, 0, 0, 0, 0, 0, 0, 0, 0]</td>\n",
       "    </tr>\n",
       "    <tr>\n",
       "      <th>10</th>\n",
       "      <td>{'clf__C': 439.9379618936128, 'clf__penalty': ...</td>\n",
       "      <td>0.000000</td>\n",
       "      <td>[0, 0, 0, 0, 0, 0, 0, 0, 0, 0]</td>\n",
       "    </tr>\n",
       "    <tr>\n",
       "      <th>11</th>\n",
       "      <td>{'clf__C': 458.77883963500034, 'clf__penalty':...</td>\n",
       "      <td>0.000000</td>\n",
       "      <td>[0, 0, 0, 0, 0, 0, 0, 0, 0, 0]</td>\n",
       "    </tr>\n",
       "    <tr>\n",
       "      <th>12</th>\n",
       "      <td>{'clf__C': 965.8362206368581, 'clf__penalty': ...</td>\n",
       "      <td>0.549263</td>\n",
       "      <td>[0.5705882352941176, 0.5666666666666667, 0.534...</td>\n",
       "    </tr>\n",
       "    <tr>\n",
       "      <th>13</th>\n",
       "      <td>{'clf__C': 533.9649651119818, 'clf__penalty': ...</td>\n",
       "      <td>0.000000</td>\n",
       "      <td>[0, 0, 0, 0, 0, 0, 0, 0, 0, 0]</td>\n",
       "    </tr>\n",
       "    <tr>\n",
       "      <th>14</th>\n",
       "      <td>{'clf__C': 306.66257254164145, 'clf__penalty':...</td>\n",
       "      <td>0.518584</td>\n",
       "      <td>[0.5058823529411764, 0.5313725490196078, 0.487...</td>\n",
       "    </tr>\n",
       "    <tr>\n",
       "      <th>15</th>\n",
       "      <td>{'clf__C': 847.6006744049329, 'clf__penalty': ...</td>\n",
       "      <td>0.000000</td>\n",
       "      <td>[0, 0, 0, 0, 0, 0, 0, 0, 0, 0]</td>\n",
       "    </tr>\n",
       "    <tr>\n",
       "      <th>16</th>\n",
       "      <td>{'clf__C': 274.83062215960757, 'clf__penalty':...</td>\n",
       "      <td>0.502852</td>\n",
       "      <td>[0.46862745098039216, 0.503921568627451, 0.485...</td>\n",
       "    </tr>\n",
       "    <tr>\n",
       "      <th>17</th>\n",
       "      <td>{'clf__C': 378.1095222585398, 'clf__penalty': ...</td>\n",
       "      <td>0.508751</td>\n",
       "      <td>[0.5686274509803921, 0.5235294117647059, 0.463...</td>\n",
       "    </tr>\n",
       "    <tr>\n",
       "      <th>18</th>\n",
       "      <td>{'clf__C': 337.52532029167105, 'clf__penalty':...</td>\n",
       "      <td>0.000000</td>\n",
       "      <td>[0, 0, 0, 0, 0, 0, 0, 0, 0, 0]</td>\n",
       "    </tr>\n",
       "    <tr>\n",
       "      <th>19</th>\n",
       "      <td>{'clf__C': 251.00955332704007, 'clf__penalty':...</td>\n",
       "      <td>0.000000</td>\n",
       "      <td>[0, 0, 0, 0, 0, 0, 0, 0, 0, 0]</td>\n",
       "    </tr>\n",
       "    <tr>\n",
       "      <th>20</th>\n",
       "      <td>{'clf__C': 166.79281719580547, 'clf__penalty':...</td>\n",
       "      <td>0.567945</td>\n",
       "      <td>[0.5568627450980392, 0.5666666666666667, 0.581...</td>\n",
       "    </tr>\n",
       "    <tr>\n",
       "      <th>21</th>\n",
       "      <td>{'clf__C': 844.4722510763908, 'clf__penalty': ...</td>\n",
       "      <td>0.000000</td>\n",
       "      <td>[0, 0, 0, 0, 0, 0, 0, 0, 0, 0]</td>\n",
       "    </tr>\n",
       "    <tr>\n",
       "      <th>22</th>\n",
       "      <td>{'clf__C': 13.99780353887153, 'clf__penalty': ...</td>\n",
       "      <td>0.607473</td>\n",
       "      <td>[0.6039215686274509, 0.6294117647058823, 0.605...</td>\n",
       "    </tr>\n",
       "    <tr>\n",
       "      <th>23</th>\n",
       "      <td>{'clf__C': 805.0630861194264, 'clf__penalty': ...</td>\n",
       "      <td>0.575418</td>\n",
       "      <td>[0.5823529411764706, 0.5941176470588235, 0.573...</td>\n",
       "    </tr>\n",
       "    <tr>\n",
       "      <th>24</th>\n",
       "      <td>{'clf__C': 672.9142535614113, 'clf__penalty': ...</td>\n",
       "      <td>0.000000</td>\n",
       "      <td>[0, 0, 0, 0, 0, 0, 0, 0, 0, 0]</td>\n",
       "    </tr>\n",
       "    <tr>\n",
       "      <th>25</th>\n",
       "      <td>{'clf__C': 171.81313197018326, 'clf__penalty':...</td>\n",
       "      <td>0.588594</td>\n",
       "      <td>[0.5901960784313726, 0.596078431372549, 0.5933...</td>\n",
       "    </tr>\n",
       "    <tr>\n",
       "      <th>26</th>\n",
       "      <td>{'clf__C': 538.114280211643, 'clf__penalty': '...</td>\n",
       "      <td>0.480039</td>\n",
       "      <td>[0.5431372549019607, 0.5392156862745098, 0.516...</td>\n",
       "    </tr>\n",
       "    <tr>\n",
       "      <th>27</th>\n",
       "      <td>{'clf__C': 306.2066462779882, 'clf__penalty': ...</td>\n",
       "      <td>0.000000</td>\n",
       "      <td>[0, 0, 0, 0, 0, 0, 0, 0, 0, 0]</td>\n",
       "    </tr>\n",
       "    <tr>\n",
       "      <th>28</th>\n",
       "      <td>{'clf__C': 953.4041148322736, 'clf__penalty': ...</td>\n",
       "      <td>0.453491</td>\n",
       "      <td>[0.43333333333333335, 0.49411764705882355, 0.4...</td>\n",
       "    </tr>\n",
       "    <tr>\n",
       "      <th>29</th>\n",
       "      <td>{'clf__C': 892.7382950496627, 'clf__penalty': ...</td>\n",
       "      <td>0.000000</td>\n",
       "      <td>[0, 0, 0, 0, 0, 0, 0, 0, 0, 0]</td>\n",
       "    </tr>\n",
       "    <tr>\n",
       "      <th>30</th>\n",
       "      <td>{'clf__C': 579.3592620523127, 'clf__penalty': ...</td>\n",
       "      <td>0.000000</td>\n",
       "      <td>[0, 0, 0, 0, 0, 0, 0, 0, 0, 0]</td>\n",
       "    </tr>\n",
       "    <tr>\n",
       "      <th>31</th>\n",
       "      <td>{'clf__C': 979.7596727918112, 'clf__penalty': ...</td>\n",
       "      <td>0.498722</td>\n",
       "      <td>[0.5392156862745098, 0.43333333333333335, 0.44...</td>\n",
       "    </tr>\n",
       "    <tr>\n",
       "      <th>32</th>\n",
       "      <td>{'clf__C': 676.0788060548142, 'clf__penalty': ...</td>\n",
       "      <td>0.000000</td>\n",
       "      <td>[0, 0, 0, 0, 0, 0, 0, 0, 0, 0]</td>\n",
       "    </tr>\n",
       "    <tr>\n",
       "      <th>33</th>\n",
       "      <td>{'clf__C': 938.8069072652041, 'clf__penalty': ...</td>\n",
       "      <td>0.000000</td>\n",
       "      <td>[0, 0, 0, 0, 0, 0, 0, 0, 0, 0]</td>\n",
       "    </tr>\n",
       "    <tr>\n",
       "      <th>34</th>\n",
       "      <td>{'clf__C': 366.8896566971374, 'clf__penalty': ...</td>\n",
       "      <td>0.000000</td>\n",
       "      <td>[0, 0, 0, 0, 0, 0, 0, 0, 0, 0]</td>\n",
       "    </tr>\n",
       "    <tr>\n",
       "      <th>35</th>\n",
       "      <td>{'clf__C': 230.77446939020257, 'clf__penalty':...</td>\n",
       "      <td>0.547296</td>\n",
       "      <td>[0.5607843137254902, 0.5470588235294118, 0.534...</td>\n",
       "    </tr>\n",
       "    <tr>\n",
       "      <th>36</th>\n",
       "      <td>{'clf__C': 779.6417290325332, 'clf__penalty': ...</td>\n",
       "      <td>0.608063</td>\n",
       "      <td>[0.5980392156862745, 0.615686274509804, 0.6188...</td>\n",
       "    </tr>\n",
       "    <tr>\n",
       "      <th>37</th>\n",
       "      <td>{'clf__C': 804.8280286368956, 'clf__penalty': ...</td>\n",
       "      <td>0.000000</td>\n",
       "      <td>[0, 0, 0, 0, 0, 0, 0, 0, 0, 0]</td>\n",
       "    </tr>\n",
       "    <tr>\n",
       "      <th>38</th>\n",
       "      <td>{'clf__C': 178.57973071771144, 'clf__penalty':...</td>\n",
       "      <td>0.000000</td>\n",
       "      <td>[0, 0, 0, 0, 0, 0, 0, 0, 0, 0]</td>\n",
       "    </tr>\n",
       "    <tr>\n",
       "      <th>39</th>\n",
       "      <td>{'clf__C': 771.4219371956981, 'clf__penalty': ...</td>\n",
       "      <td>0.485742</td>\n",
       "      <td>[0.5490196078431373, 0.515686274509804, 0.4872...</td>\n",
       "    </tr>\n",
       "    <tr>\n",
       "      <th>40</th>\n",
       "      <td>{'clf__C': 788.8515350724105, 'clf__penalty': ...</td>\n",
       "      <td>0.000000</td>\n",
       "      <td>[0, 0, 0, 0, 0, 0, 0, 0, 0, 0]</td>\n",
       "    </tr>\n",
       "    <tr>\n",
       "      <th>41</th>\n",
       "      <td>{'clf__C': 795.6528064338037, 'clf__penalty': ...</td>\n",
       "      <td>0.000000</td>\n",
       "      <td>[0, 0, 0, 0, 0, 0, 0, 0, 0, 0]</td>\n",
       "    </tr>\n",
       "    <tr>\n",
       "      <th>42</th>\n",
       "      <td>{'clf__C': 447.216703068797, 'clf__penalty': '...</td>\n",
       "      <td>0.000000</td>\n",
       "      <td>[0, 0, 0, 0, 0, 0, 0, 0, 0, 0]</td>\n",
       "    </tr>\n",
       "    <tr>\n",
       "      <th>43</th>\n",
       "      <td>{'clf__C': 251.59075109196576, 'clf__penalty':...</td>\n",
       "      <td>0.640511</td>\n",
       "      <td>[0.6490196078431373, 0.615686274509804, 0.6326...</td>\n",
       "    </tr>\n",
       "    <tr>\n",
       "      <th>44</th>\n",
       "      <td>{'clf__C': 157.8438032017319, 'clf__penalty': ...</td>\n",
       "      <td>0.000000</td>\n",
       "      <td>[0, 0, 0, 0, 0, 0, 0, 0, 0, 0]</td>\n",
       "    </tr>\n",
       "    <tr>\n",
       "      <th>45</th>\n",
       "      <td>{'clf__C': 860.5185410658332, 'clf__penalty': ...</td>\n",
       "      <td>0.606293</td>\n",
       "      <td>[0.6, 0.6294117647058823, 0.5618860510805501, ...</td>\n",
       "    </tr>\n",
       "    <tr>\n",
       "      <th>46</th>\n",
       "      <td>{'clf__C': 384.3980636697807, 'clf__penalty': ...</td>\n",
       "      <td>0.607473</td>\n",
       "      <td>[0.6254901960784314, 0.611764705882353, 0.6070...</td>\n",
       "    </tr>\n",
       "    <tr>\n",
       "      <th>47</th>\n",
       "      <td>{'clf__C': 152.90388364527914, 'clf__penalty':...</td>\n",
       "      <td>0.000000</td>\n",
       "      <td>[0, 0, 0, 0, 0, 0, 0, 0, 0, 0]</td>\n",
       "    </tr>\n",
       "    <tr>\n",
       "      <th>48</th>\n",
       "      <td>{'clf__C': 827.8786786743337, 'clf__penalty': ...</td>\n",
       "      <td>0.000000</td>\n",
       "      <td>[0, 0, 0, 0, 0, 0, 0, 0, 0, 0]</td>\n",
       "    </tr>\n",
       "    <tr>\n",
       "      <th>49</th>\n",
       "      <td>{'clf__C': 187.1161883426668, 'clf__penalty': ...</td>\n",
       "      <td>0.546116</td>\n",
       "      <td>[0.5372549019607843, 0.5803921568627451, 0.510...</td>\n",
       "    </tr>\n",
       "  </tbody>\n",
       "</table>\n",
       "</div>"
      ],
      "text/plain": [
       "                                           parameters  mean_validation_score  \\\n",
       "0   {'clf__C': 770.6447695224987, 'clf__penalty': ...               0.000000   \n",
       "1   {'clf__C': 977.1116173791768, 'clf__penalty': ...               0.000000   \n",
       "2   {'clf__C': 964.2952641726399, 'clf__penalty': ...               0.545919   \n",
       "3   {'clf__C': 489.8651724072061, 'clf__penalty': ...               0.547689   \n",
       "4   {'clf__C': 387.4303002020613, 'clf__penalty': ...               0.000000   \n",
       "5   {'clf__C': 337.11018641210205, 'clf__penalty':...               0.542183   \n",
       "6   {'clf__C': 181.2533686130598, 'clf__penalty': ...               0.000000   \n",
       "7   {'clf__C': 928.0617505710735, 'clf__penalty': ...               0.573058   \n",
       "8   {'clf__C': 543.6319027796051, 'clf__penalty': ...               0.557522   \n",
       "9   {'clf__C': 309.71409162304, 'clf__penalty': 'l...               0.000000   \n",
       "10  {'clf__C': 439.9379618936128, 'clf__penalty': ...               0.000000   \n",
       "11  {'clf__C': 458.77883963500034, 'clf__penalty':...               0.000000   \n",
       "12  {'clf__C': 965.8362206368581, 'clf__penalty': ...               0.549263   \n",
       "13  {'clf__C': 533.9649651119818, 'clf__penalty': ...               0.000000   \n",
       "14  {'clf__C': 306.66257254164145, 'clf__penalty':...               0.518584   \n",
       "15  {'clf__C': 847.6006744049329, 'clf__penalty': ...               0.000000   \n",
       "16  {'clf__C': 274.83062215960757, 'clf__penalty':...               0.502852   \n",
       "17  {'clf__C': 378.1095222585398, 'clf__penalty': ...               0.508751   \n",
       "18  {'clf__C': 337.52532029167105, 'clf__penalty':...               0.000000   \n",
       "19  {'clf__C': 251.00955332704007, 'clf__penalty':...               0.000000   \n",
       "20  {'clf__C': 166.79281719580547, 'clf__penalty':...               0.567945   \n",
       "21  {'clf__C': 844.4722510763908, 'clf__penalty': ...               0.000000   \n",
       "22  {'clf__C': 13.99780353887153, 'clf__penalty': ...               0.607473   \n",
       "23  {'clf__C': 805.0630861194264, 'clf__penalty': ...               0.575418   \n",
       "24  {'clf__C': 672.9142535614113, 'clf__penalty': ...               0.000000   \n",
       "25  {'clf__C': 171.81313197018326, 'clf__penalty':...               0.588594   \n",
       "26  {'clf__C': 538.114280211643, 'clf__penalty': '...               0.480039   \n",
       "27  {'clf__C': 306.2066462779882, 'clf__penalty': ...               0.000000   \n",
       "28  {'clf__C': 953.4041148322736, 'clf__penalty': ...               0.453491   \n",
       "29  {'clf__C': 892.7382950496627, 'clf__penalty': ...               0.000000   \n",
       "30  {'clf__C': 579.3592620523127, 'clf__penalty': ...               0.000000   \n",
       "31  {'clf__C': 979.7596727918112, 'clf__penalty': ...               0.498722   \n",
       "32  {'clf__C': 676.0788060548142, 'clf__penalty': ...               0.000000   \n",
       "33  {'clf__C': 938.8069072652041, 'clf__penalty': ...               0.000000   \n",
       "34  {'clf__C': 366.8896566971374, 'clf__penalty': ...               0.000000   \n",
       "35  {'clf__C': 230.77446939020257, 'clf__penalty':...               0.547296   \n",
       "36  {'clf__C': 779.6417290325332, 'clf__penalty': ...               0.608063   \n",
       "37  {'clf__C': 804.8280286368956, 'clf__penalty': ...               0.000000   \n",
       "38  {'clf__C': 178.57973071771144, 'clf__penalty':...               0.000000   \n",
       "39  {'clf__C': 771.4219371956981, 'clf__penalty': ...               0.485742   \n",
       "40  {'clf__C': 788.8515350724105, 'clf__penalty': ...               0.000000   \n",
       "41  {'clf__C': 795.6528064338037, 'clf__penalty': ...               0.000000   \n",
       "42  {'clf__C': 447.216703068797, 'clf__penalty': '...               0.000000   \n",
       "43  {'clf__C': 251.59075109196576, 'clf__penalty':...               0.640511   \n",
       "44  {'clf__C': 157.8438032017319, 'clf__penalty': ...               0.000000   \n",
       "45  {'clf__C': 860.5185410658332, 'clf__penalty': ...               0.606293   \n",
       "46  {'clf__C': 384.3980636697807, 'clf__penalty': ...               0.607473   \n",
       "47  {'clf__C': 152.90388364527914, 'clf__penalty':...               0.000000   \n",
       "48  {'clf__C': 827.8786786743337, 'clf__penalty': ...               0.000000   \n",
       "49  {'clf__C': 187.1161883426668, 'clf__penalty': ...               0.546116   \n",
       "\n",
       "                                 cv_validation_scores  \n",
       "0                      [0, 0, 0, 0, 0, 0, 0, 0, 0, 0]  \n",
       "1                      [0, 0, 0, 0, 0, 0, 0, 0, 0, 0]  \n",
       "2   [0.5588235294117647, 0.5549019607843138, 0.530...  \n",
       "3   [0.5588235294117647, 0.5529411764705883, 0.532...  \n",
       "4                      [0, 0, 0, 0, 0, 0, 0, 0, 0, 0]  \n",
       "5   [0.5470588235294118, 0.5588235294117647, 0.546...  \n",
       "6                      [0, 0, 0, 0, 0, 0, 0, 0, 0, 0]  \n",
       "7   [0.6058823529411764, 0.5588235294117647, 0.573...  \n",
       "8   [0.5686274509803921, 0.5764705882352941, 0.544...  \n",
       "9                      [0, 0, 0, 0, 0, 0, 0, 0, 0, 0]  \n",
       "10                     [0, 0, 0, 0, 0, 0, 0, 0, 0, 0]  \n",
       "11                     [0, 0, 0, 0, 0, 0, 0, 0, 0, 0]  \n",
       "12  [0.5705882352941176, 0.5666666666666667, 0.534...  \n",
       "13                     [0, 0, 0, 0, 0, 0, 0, 0, 0, 0]  \n",
       "14  [0.5058823529411764, 0.5313725490196078, 0.487...  \n",
       "15                     [0, 0, 0, 0, 0, 0, 0, 0, 0, 0]  \n",
       "16  [0.46862745098039216, 0.503921568627451, 0.485...  \n",
       "17  [0.5686274509803921, 0.5235294117647059, 0.463...  \n",
       "18                     [0, 0, 0, 0, 0, 0, 0, 0, 0, 0]  \n",
       "19                     [0, 0, 0, 0, 0, 0, 0, 0, 0, 0]  \n",
       "20  [0.5568627450980392, 0.5666666666666667, 0.581...  \n",
       "21                     [0, 0, 0, 0, 0, 0, 0, 0, 0, 0]  \n",
       "22  [0.6039215686274509, 0.6294117647058823, 0.605...  \n",
       "23  [0.5823529411764706, 0.5941176470588235, 0.573...  \n",
       "24                     [0, 0, 0, 0, 0, 0, 0, 0, 0, 0]  \n",
       "25  [0.5901960784313726, 0.596078431372549, 0.5933...  \n",
       "26  [0.5431372549019607, 0.5392156862745098, 0.516...  \n",
       "27                     [0, 0, 0, 0, 0, 0, 0, 0, 0, 0]  \n",
       "28  [0.43333333333333335, 0.49411764705882355, 0.4...  \n",
       "29                     [0, 0, 0, 0, 0, 0, 0, 0, 0, 0]  \n",
       "30                     [0, 0, 0, 0, 0, 0, 0, 0, 0, 0]  \n",
       "31  [0.5392156862745098, 0.43333333333333335, 0.44...  \n",
       "32                     [0, 0, 0, 0, 0, 0, 0, 0, 0, 0]  \n",
       "33                     [0, 0, 0, 0, 0, 0, 0, 0, 0, 0]  \n",
       "34                     [0, 0, 0, 0, 0, 0, 0, 0, 0, 0]  \n",
       "35  [0.5607843137254902, 0.5470588235294118, 0.534...  \n",
       "36  [0.5980392156862745, 0.615686274509804, 0.6188...  \n",
       "37                     [0, 0, 0, 0, 0, 0, 0, 0, 0, 0]  \n",
       "38                     [0, 0, 0, 0, 0, 0, 0, 0, 0, 0]  \n",
       "39  [0.5490196078431373, 0.515686274509804, 0.4872...  \n",
       "40                     [0, 0, 0, 0, 0, 0, 0, 0, 0, 0]  \n",
       "41                     [0, 0, 0, 0, 0, 0, 0, 0, 0, 0]  \n",
       "42                     [0, 0, 0, 0, 0, 0, 0, 0, 0, 0]  \n",
       "43  [0.6490196078431373, 0.615686274509804, 0.6326...  \n",
       "44                     [0, 0, 0, 0, 0, 0, 0, 0, 0, 0]  \n",
       "45  [0.6, 0.6294117647058823, 0.5618860510805501, ...  \n",
       "46  [0.6254901960784314, 0.611764705882353, 0.6070...  \n",
       "47                     [0, 0, 0, 0, 0, 0, 0, 0, 0, 0]  \n",
       "48                     [0, 0, 0, 0, 0, 0, 0, 0, 0, 0]  \n",
       "49  [0.5372549019607843, 0.5803921568627451, 0.510...  "
      ]
     },
     "execution_count": 38,
     "metadata": {},
     "output_type": "execute_result"
    }
   ],
   "source": [
    "cv = pd.DataFrame(clf_behavior_SVM_grid.grid_scores_)\n",
    "cv.cv_validation_scores[0]\n",
    "cv"
   ]
  },
  {
   "cell_type": "markdown",
   "metadata": {},
   "source": [
    "Test the one you are saved"
   ]
  },
  {
   "cell_type": "code",
   "execution_count": 39,
   "metadata": {},
   "outputs": [],
   "source": [
    "clf_saved = joblib.load('./alcohol classifiers/behaviorBestEstimatorSVM.pkl')"
   ]
  },
  {
   "cell_type": "code",
   "execution_count": 40,
   "metadata": {},
   "outputs": [
    {
     "name": "stdout",
     "output_type": "stream",
     "text": [
      "length of total comps:  1272\n",
      "492 different item in whole dataset\n",
      "accuracy: 61.320755%\n",
      "F1 Score:  [0.70159453 0.57631954 0.44106464]\n",
      "LR classifier AUC:  {'current': 0.7472408368532535, 'looking': 0.7876124744533872, 'reflecting': 0.7478516622062713, 'micro': 0.7824014328942683, 'macro': 0.7615474208016202}\n"
     ]
    },
    {
     "name": "stderr",
     "output_type": "stream",
     "text": [
      "D:\\Anaconda3\\envs\\py36\\lib\\site-packages\\sklearn\\feature_extraction\\text.py:1015: FutureWarning: Conversion of the second argument of issubdtype from `float` to `np.floating` is deprecated. In future, it will be treated as `np.float64 == np.dtype(float).type`.\n",
      "  if hasattr(X, 'dtype') and np.issubdtype(X.dtype, np.float):\n"
     ]
    }
   ],
   "source": [
    "# predict in testing set.\n",
    "y_behavior_SVM_saved = clf_saved.predict(X_test)\n",
    "# print('length of testing set: ', len(y_alc_initial))\n",
    "computeAccuracy(y_behavior_SVM_saved, y_test)\n",
    "f1_score_SVM_saved = computeF1Score(y_test, y_behavior_SVM_saved, average = None)\n",
    "print('F1 Score: ', f1_score_SVM_saved)\n",
    "auc_score_SVM_saved = computeAUCBehavior(clf_saved, X_test, y_test, plot=False)\n",
    "# auc_score = computeAUC(clf_alc_LR_updateParams, X_train, y_train, X_test, y_test, plot=True, plotTitle=\"Alcohol ROC Curve\")\n",
    "print('LR classifier AUC: ', auc_score_SVM_saved)"
   ]
  },
  {
   "cell_type": "markdown",
   "metadata": {},
   "source": [
    "Saved model works well"
   ]
  },
  {
   "cell_type": "code",
   "execution_count": null,
   "metadata": {},
   "outputs": [],
   "source": []
  }
 ],
 "metadata": {
  "kernelspec": {
   "display_name": "Python 3",
   "language": "python",
   "name": "python3"
  },
  "language_info": {
   "codemirror_mode": {
    "name": "ipython",
    "version": 3
   },
   "file_extension": ".py",
   "mimetype": "text/x-python",
   "name": "python",
   "nbconvert_exporter": "python",
   "pygments_lexer": "ipython3",
   "version": "3.6.5"
  }
 },
 "nbformat": 4,
 "nbformat_minor": 2
}
