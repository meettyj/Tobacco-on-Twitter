{
 "cells": [
  {
   "cell_type": "code",
   "execution_count": 2,
   "metadata": {},
   "outputs": [
    {
     "name": "stdout",
     "output_type": "stream",
     "text": [
      "0.17\n"
     ]
    }
   ],
   "source": [
    "import os\n",
    "# print(os.getcwd())\n",
    "os.chdir('C:/Users/eddie/Desktop/Prof. Rumi Chunara/alcohol')\n",
    "import pickle\n",
    "import sklearn\n",
    "print(sklearn.__version__)\n",
    "import pandas\n",
    "import numpy as np\n",
    "import sys\n",
    "\n",
    "\n",
    "from evaluation.metric import computeAccuracy, computeF1Score, computeAUC, computeAUCBehavior\n",
    "# from sklearn.metrics import roc_auc_score\n",
    "\n",
    "# %load_ext autoreload\n",
    "# %autoreload\n",
    "from sklearn.linear_model import LogisticRegression\n",
    "from sklearn.svm import LinearSVC\n",
    "from scipy.stats import uniform\n",
    "# %reload_ext pipelines.alcohol.AlcoholPipeline\n",
    "from pipelines.alcohol import AlcoholPipeline"
   ]
  },
  {
   "cell_type": "code",
   "execution_count": 3,
   "metadata": {},
   "outputs": [],
   "source": [
    "# clf_alc_initial = pickle.load(open('./alcohol classifiers/clf_alc_UPDATED.p', 'rb'))\n",
    "# clf_fpa_initial = pickle.load(open('./alcohol classifiers/clf_fpa_UPDATED.p', 'rb'))\n",
    "clf_behavior_initial = pickle.load(open('./alcohol classifiers/clf_fpl_double_labeled', 'rb'))\n",
    "df = pandas.read_csv(\"./data/alcohol_training_instances.csv\")"
   ]
  },
  {
   "cell_type": "markdown",
   "metadata": {},
   "source": [
    "Prepare the behavior level data"
   ]
  },
  {
   "cell_type": "code",
   "execution_count": 4,
   "metadata": {},
   "outputs": [
    {
     "name": "stdout",
     "output_type": "stream",
     "text": [
      "[0, 0, 2, 2, 1, 0, 0, 0, 1, 1, 0, 2, 0, 0, 0, 0, 0, 2, 0, 0]\n",
      "length of first person level labels:  6357\n",
      "[0, 0, 1, 0, 0, 1, 1, 1, 0, 0, 0, 1, 0, 1, 0, 0, 0, 1, 1, 0]\n",
      "length of first person level index in df:  15651\n",
      "[2, 5, 6, 7, 11, 13, 17, 18, 21, 22, 23, 24, 26, 27, 28]\n",
      "length of first person level df index:  6357\n"
     ]
    }
   ],
   "source": [
    "# appending labels based on whether tweet label contains phrase\n",
    "behavior_labels = []\n",
    "behavior_index_in_df = []\n",
    "\n",
    "fpl = \"'first_person_level'\"\n",
    "\n",
    "# extracting FP levels and constructing subset vector simultaneously\n",
    "for i in range(len(df)):\n",
    "    if fpl in df.labels[i]:\n",
    "        behavior_labels.append(int(df.labels[i][df.labels[i].find(fpl) + len(fpl) + 2]))\n",
    "        behavior_index_in_df.append(1)\n",
    "    else:\n",
    "        behavior_index_in_df.append(0)\n",
    "\n",
    "behavior_labels = list(map(int, behavior_labels))\n",
    "print(behavior_labels[:20])\n",
    "# print(subset_vec_alc_fp[:10])\n",
    "print('length of first person level labels: ', len(behavior_labels)) # 6357\n",
    "print(behavior_index_in_df[:20])\n",
    "print('length of first person level index in df: ', len(behavior_index_in_df)) # 15651\n",
    "index_behavior = list(np.where(behavior_index_in_df)[0])\n",
    "print(index_behavior[:15])\n",
    "print('length of first person level df index: ', len(index_behavior)) # 6357\n",
    "df_behavior = df.iloc[index_behavior,]\n",
    "# df_fp.head\n",
    "# fp_labels = np.asarray(fp_labels)\n",
    "\n",
    "# change label 3 to label 0\n",
    "behavior_labels = [0 if x == 3 else x for x in behavior_labels] \n",
    "\n",
    "# train test dataset split\n",
    "from sklearn.cross_validation import train_test_split\n",
    "X_train, X_test, y_train, y_test = train_test_split(df_behavior, behavior_labels, test_size=0.2, random_state=26)"
   ]
  },
  {
   "cell_type": "code",
   "execution_count": 5,
   "metadata": {},
   "outputs": [
    {
     "name": "stdout",
     "output_type": "stream",
     "text": [
      "6357\n",
      "15651\n"
     ]
    }
   ],
   "source": [
    "print(len(behavior_labels))\n",
    "print(len(behavior_index_in_df))\n",
    "# behavior_labels[:30]\n",
    "# for i in behavior_labels:\n",
    "#     if i ==3:\n",
    "#         print(True)"
   ]
  },
  {
   "cell_type": "markdown",
   "metadata": {},
   "source": [
    "First we check the initial model performance before re-training. On whole behavior dataset"
   ]
  },
  {
   "cell_type": "code",
   "execution_count": 6,
   "metadata": {},
   "outputs": [
    {
     "name": "stderr",
     "output_type": "stream",
     "text": [
      "D:\\Anaconda3\\envs\\py36\\lib\\site-packages\\sklearn\\feature_extraction\\text.py:1015: FutureWarning: Conversion of the second argument of issubdtype from `float` to `np.floating` is deprecated. In future, it will be treated as `np.float64 == np.dtype(float).type`.\n",
      "  if hasattr(X, 'dtype') and np.issubdtype(X.dtype, np.float):\n"
     ]
    },
    {
     "name": "stdout",
     "output_type": "stream",
     "text": [
      "length of total comps:  6357\n",
      "2062 different item in whole dataset\n",
      "accuracy: 67.563316%\n",
      "F1 Score (current, looking, reflecting):  [0.75419892 0.63490208 0.51267375]\n",
      "Initial classifier AUC:  {'current': 0.81565410674169, 'looking': 0.8359241441688562, 'reflecting': 0.806718858722408, 'micro': 0.8402825273600063, 'macro': 0.8195504247393393}\n"
     ]
    }
   ],
   "source": [
    "# predict in whole dataset\n",
    "y_before_retrain = clf_behavior_initial.predict(df_behavior)\n",
    "# print('length of testing set: ', len(y_alc_initial))\n",
    "computeAccuracy(y_before_retrain, behavior_labels)\n",
    "f1_before_retrain = computeF1Score(behavior_labels, y_before_retrain, average = None)\n",
    "print('F1 Score (current, looking, reflecting): ', f1_before_retrain)\n",
    "auc_score_before_retrain = computeAUCBehavior(clf_behavior_initial, df_behavior, behavior_labels, plot=False)\n",
    "# auc_score = computeAUC(clf_alc_LR_updateParams, X_train, y_train, X_test, y_test, plot=True, plotTitle=\"Alcohol ROC Curve\")\n",
    "print('Initial classifier AUC: ', auc_score_before_retrain)"
   ]
  },
  {
   "cell_type": "markdown",
   "metadata": {},
   "source": [
    "Then we check the initial model performance with training and testing"
   ]
  },
  {
   "cell_type": "code",
   "execution_count": 7,
   "metadata": {},
   "outputs": [
    {
     "name": "stderr",
     "output_type": "stream",
     "text": [
      "D:\\Anaconda3\\envs\\py36\\lib\\site-packages\\sklearn\\feature_extraction\\text.py:1015: FutureWarning: Conversion of the second argument of issubdtype from `float` to `np.floating` is deprecated. In future, it will be treated as `np.float64 == np.dtype(float).type`.\n",
      "  if hasattr(X, 'dtype') and np.issubdtype(X.dtype, np.float):\n"
     ]
    },
    {
     "name": "stdout",
     "output_type": "stream",
     "text": [
      "length of total comps:  1272\n",
      "502 different item in whole dataset\n",
      "accuracy: 60.534591%\n",
      "F1 Score (current, looking, reflecting):  [0.69850746 0.5730659  0.40316206]\n",
      "Initial classifier AUC:  {'current': 0.7524668343015695, 'looking': 0.7975783506521129, 'reflecting': 0.7502397784756277, 'micro': 0.7919831098453383, 'macro': 0.7673463251080409}\n"
     ]
    }
   ],
   "source": [
    "clf_behavior_initial.fit(X_train, y_train)\n",
    "# predict in testing set.\n",
    "y_behavior_initial = clf_behavior_initial.predict(X_test)\n",
    "# print('length of testing set: ', len(y_alc_initial))\n",
    "computeAccuracy(y_behavior_initial, y_test)\n",
    "f1 = computeF1Score(y_test, y_behavior_initial, average = None)\n",
    "print('F1 Score (current, looking, reflecting): ', f1)\n",
    "auc_score_before_retrain = computeAUCBehavior(clf_behavior_initial, X_test, y_test, plot=False)\n",
    "# auc_score = computeAUC(clf_alc_LR_updateParams, X_train, y_train, X_test, y_test, plot=True, plotTitle=\"Alcohol ROC Curve\")\n",
    "print('Initial classifier AUC: ', auc_score_before_retrain)\n",
    "\n",
    "\n",
    "# f1 = computeF1Score(y_test, y_behavior_initial,average = None)\n",
    "# print('F1 Score: ', f1)\n",
    "# auc_score_initial = computeAUCBehavior(clf_behavior_initial, X_test, y_test, plot=False)\n",
    "# # auc_score = computeAUC(clf_alc_LR_updateParams, X_train, y_train, X_test, y_test, plot=True, plotTitle=\"Alcohol ROC Curve\")\n",
    "# print('alcohol LR AUC: ', auc_score_initial)"
   ]
  },
  {
   "cell_type": "markdown",
   "metadata": {},
   "source": [
    "But how Jason get so much higher performance in paper? "
   ]
  },
  {
   "cell_type": "code",
   "execution_count": null,
   "metadata": {},
   "outputs": [],
   "source": []
  }
 ],
 "metadata": {
  "kernelspec": {
   "display_name": "Python 3",
   "language": "python",
   "name": "python3"
  },
  "language_info": {
   "codemirror_mode": {
    "name": "ipython",
    "version": 3
   },
   "file_extension": ".py",
   "mimetype": "text/x-python",
   "name": "python",
   "nbconvert_exporter": "python",
   "pygments_lexer": "ipython3",
   "version": "3.6.5"
  }
 },
 "nbformat": 4,
 "nbformat_minor": 2
}
