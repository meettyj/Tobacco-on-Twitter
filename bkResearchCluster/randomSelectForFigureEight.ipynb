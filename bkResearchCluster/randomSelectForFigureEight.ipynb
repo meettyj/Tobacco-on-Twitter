{
 "cells": [
  {
   "cell_type": "markdown",
   "metadata": {},
   "source": [
    "This is the first version of data generating for figure eight. Target is to get 1000 tweets across 4 month. With in 250 tweets per month, 200 are e-cig relevant keywords, 50 are flavor relevant keywords."
   ]
  },
  {
   "cell_type": "code",
   "execution_count": 75,
   "metadata": {},
   "outputs": [],
   "source": [
    "import os\n",
    "# os.chdir('C:/Users/eddie/Desktop/Prof. Rumi Chunara/alcohol')\n",
    "import json\n",
    "import pandas as pd\n",
    "import random\n",
    "import csv\n"
   ]
  },
  {
   "cell_type": "code",
   "execution_count": 76,
   "metadata": {},
   "outputs": [
    {
     "name": "stdout",
     "output_type": "stream",
     "text": [
      "monthList:  [1, 2, 3, 4]\n",
      "Finished:  juliana_all_Flavor_ECigarette_second_version_2018_01.json\n",
      "length:  228\n",
      "Finished:  juliana_all_Flavor_ECigarette_second_version_2018_02.json\n",
      "length:  218\n",
      "Finished:  juliana_all_Flavor_ECigarette_second_version_2018_03.json\n",
      "length:  298\n",
      "Finished:  juliana_all_Flavor_ECigarette_second_version_2018_04.json\n",
      "length:  296\n",
      "Finished:  juliana_not_SF_allECigarette_2018_01_categoryKeyWord.json\n",
      "length:  16357\n",
      "Finished:  juliana_not_SF_allECigarette_2018_02_categoryKeyWord.json\n",
      "length:  14535\n",
      "Finished:  juliana_not_SF_allECigarette_2018_03_categoryKeyWord.json\n",
      "length:  16249\n",
      "Finished:  juliana_not_SF_allECigarette_2018_04_categoryKeyWord.json\n",
      "length:  15883\n"
     ]
    }
   ],
   "source": [
    "resulrDirectoryPath = \"/mnt/volume/result\"\n",
    "fileNames = os.listdir(resulrDirectoryPath)\n",
    "\n",
    "os.chdir(resulrDirectoryPath)\n",
    "\n",
    "allFlavorList = []\n",
    "allECigarette_not_SF_List = []\n",
    "\n",
    "monthList = [i+1 for i in range(4)]\n",
    "print('monthList: ', monthList)\n",
    "\n",
    "\n",
    "# Deal with flavor.\n",
    "for month in monthList:\n",
    "    fileName = 'juliana_all_Flavor_ECigarette_second_version_2018_0' + str(month) + '.json'\n",
    "    print('Finished: ', fileName)\n",
    "\n",
    "    with open(fileName, \"r\") as f:\n",
    "        everyLines = f.readlines()\n",
    "        print('length: ', len(everyLines))\n",
    "        random.seed(10)\n",
    "        slice = random.sample(everyLines, 50)\n",
    "#             allFlavorList.extend(slice)\n",
    "        for line in slice:\n",
    "            try:\n",
    "                lineInJson = json.loads(line)\n",
    "            except:\n",
    "                print('Cannot load the line: ', line)\n",
    "            textInLine = lineInJson[\"text\"]\n",
    "#             print(textInLine)\n",
    "            allFlavorList.append(textInLine)\n",
    "\n",
    "    \n",
    "# Deal with e-cig tweets that not in SF.\n",
    "for month in monthList:\n",
    "    fileName = 'juliana_not_SF_allECigarette_2018_0' + str(month) + '_categoryKeyWord.json'\n",
    "    print('Finished: ', fileName)\n",
    "    with open(fileName, \"r\") as f:\n",
    "        everyLines = f.readlines()\n",
    "        print('length: ', len(everyLines))\n",
    "        random.seed(10)\n",
    "        slice = random.sample(everyLines, 200)\n",
    "#             allFlavorList.extend(slice)\n",
    "        for line in slice:\n",
    "            try:\n",
    "                lineInJson = json.loads(line)\n",
    "            except:\n",
    "                print('Cannot load the line: ', line)\n",
    "            textInLine = lineInJson[\"text\"]\n",
    "#             print(textInLine)\n",
    "            allECigarette_not_SF_List.append(textInLine)\n",
    "    \n",
    "    \n",
    "    \n",
    "#     fileName = 'juliana_not_SF_allECigarette_2018_0'\n",
    "# #     For e-cig relevant tweets\n",
    "# #     if fileName.startswith('juliana_not_SF_allECigarette'):\n",
    "#     if fileName.startswith('juliana_not_SF_allECigarette'):\n",
    "#         print(fileName)\n",
    "\n"
   ]
  },
  {
   "cell_type": "code",
   "execution_count": 77,
   "metadata": {},
   "outputs": [
    {
     "name": "stdout",
     "output_type": "stream",
     "text": [
      "length of allFlavorList:  200\n",
      "length of allECigarette_not_SF_List:  800\n"
     ]
    }
   ],
   "source": [
    "print('length of allFlavorList: ', len(allFlavorList))\n",
    "print('length of allECigarette_not_SF_List: ', len(allECigarette_not_SF_List))"
   ]
  },
  {
   "cell_type": "code",
   "execution_count": 78,
   "metadata": {},
   "outputs": [],
   "source": [
    "# save it to some file.\n",
    "SavingFilePath = \"/mnt/volume/result/figure_eight_1000\"\n",
    "count = 0\n",
    "count_ecig = 0\n",
    "with open(SavingFilePath, 'w', encoding=\"utf-8\") as f:\n",
    "    f.write('Flavor: \\n\\n')\n",
    "    for eachLine in allFlavorList:\n",
    "        if (count%50 == 0):\n",
    "            f.write('%d month: \\n\\n'%(count/50 + 1))\n",
    "        f.write(eachLine+'\\n')\n",
    "        count += 1\n",
    "        if (count%50 == 0):\n",
    "            f.write('-------------------------------------------------------------------\\n\\n\\n')\n",
    "        else:\n",
    "            f.write('----------\\n')\n",
    "    \n",
    "    # Now is for e-cig relevant tweets.\n",
    "    f.write('E-Cig: \\n\\n')\n",
    "    for eachLine in allECigarette_not_SF_List:\n",
    "        if (count_ecig%200 == 0):\n",
    "            f.write('%d month: \\n\\n'%(count_ecig/200 + 1))\n",
    "        f.write(eachLine+'\\n')\n",
    "        count_ecig += 1\n",
    "        if (count_ecig%200 == 0):\n",
    "            f.write('-------------------------------------------------------------------\\n\\n\\n')\n",
    "        else:\n",
    "            f.write('----------\\n')\n",
    "    \n",
    "    "
   ]
  },
  {
   "cell_type": "code",
   "execution_count": 79,
   "metadata": {},
   "outputs": [
    {
     "name": "stdout",
     "output_type": "stream",
     "text": [
      "Finished writing to csv file.\n"
     ]
    }
   ],
   "source": [
    "# save it to csv file.\n",
    "csvFilePath = \"/mnt/volume/result/figure_eight_csv_1000.csv\"\n",
    "with open(csvFilePath, 'w', encoding='utf-8-sig', newline='') as csvfile:\n",
    "    writer = csv.writer(csvfile)\n",
    "    for index in range(len(allFlavorList)):\n",
    "#         print(eachLine)\n",
    "        writer.writerow([allFlavorList[index]])\n",
    "    for index in range(len(allECigarette_not_SF_List)):\n",
    "        writer.writerow([allECigarette_not_SF_List[index]])\n",
    "print('Finished writing to csv file.')"
   ]
  },
  {
   "cell_type": "code",
   "execution_count": null,
   "metadata": {},
   "outputs": [],
   "source": []
  }
 ],
 "metadata": {
  "kernelspec": {
   "display_name": "Python 3",
   "language": "python",
   "name": "python3"
  },
  "language_info": {
   "codemirror_mode": {
    "name": "ipython",
    "version": 3
   },
   "file_extension": ".py",
   "mimetype": "text/x-python",
   "name": "python",
   "nbconvert_exporter": "python",
   "pygments_lexer": "ipython3",
   "version": "3.7.3"
  }
 },
 "nbformat": 4,
 "nbformat_minor": 2
}
