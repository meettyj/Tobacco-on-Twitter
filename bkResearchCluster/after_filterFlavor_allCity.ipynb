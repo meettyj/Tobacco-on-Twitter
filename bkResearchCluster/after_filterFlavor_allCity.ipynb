{
 "cells": [
  {
   "cell_type": "markdown",
   "metadata": {},
   "source": [
    "Here we do some keyword adjustment based on the result filter by filterFlavor_allCity.ipynb. "
   ]
  },
  {
   "cell_type": "code",
   "execution_count": 5,
   "metadata": {},
   "outputs": [],
   "source": [
    "import os\n",
    "# os.chdir('C:/Users/eddie/Desktop/Prof. Rumi Chunara/alcohol')\n",
    "import json\n",
    "import pandas as pd"
   ]
  },
  {
   "cell_type": "code",
   "execution_count": 23,
   "metadata": {},
   "outputs": [],
   "source": [
    "# # Category keyword\n",
    "# synonym_ecig = ['electronic-cigarette', 'electronic cigarette', 'electronic cig', ' e-cig', ' ecig', ' e cig', 'e-cigarette', 'ecigarette', ' e cigarette', 'e-juice', ' ejuice', ' e juice', 'e-liquid', ' eliquid', ' e liquid', 'e-smoke', 'esmoke', ' e smoke', 'vape', 'vaper', 'vaping', 'vape-juice',\n",
    "#                 'vape-liquid', ' vapor', 'vaporizer', 'boxmod', 'cloud chaser', 'cloudchaser', 'smoke assist', 'ehookah', 'e-hookah', ' e hookah', 'stillblowingsmoke', 'still blowing smoke', 'cherry tip cigarillo', '#e-cig', '#ecig', '#e cigar', '#ejuice', '#e juice', '#eliquid', '#e liquid', '#vapor', '#ehookah', '#e hookah']\n",
    "# # remove ' fin '\n",
    "# brand_ecig = ['juul', 'vaporfi', 'vype pebble', 'v2 cig', 'v2cigs', 'v2 cigs', 'halocigs', ' njoy', 'markten', 'vuse', ' tryst', 'atomizer', 'cartomizer', 'south beach smoke', 'eversmoke', 'joye510', 'joye 510', 'joyetech', 'logicecig', 'smartsmoker', ' mistic', 'smokestiks', '21st century smoke', 'logic black label',\n",
    "#               ' finiti', 'nicotek', 'cigirex', 'ciga&blu', 'cig&blu', 'logic&cig', 'e-swisher', 'e swisher', 'eswisher', 'ezsmoker', 'ez&cig', 'green smoke', 'cigalectric', 'xhale o2', 'xhaleo2', 'cig2o', 'green smart living', 'greensmartliving', 'krave', 'swisher blk', 'grimmgreen', '#njoy', '#fin ', '#finiti']\n",
    "# policy_ecig = ['sb140', 'sb 140', 'sb24', 'sb 24']\n",
    "# cessation_ecig = ['notblowingsmoke', 'not blowing smoke',\n",
    "#                   'tobaccofreekids', 'notareplacement']\n",
    "\n",
    "# Flavor keyword with some space included.\n",
    "flavor_ecig = ['blueberry', 'pomegranate', 'strawberry', ' orange', 'candy,', 'grapefruit,', 'kiwi', 'guave,', 'lemonade,', 'apple,', 'mango ', ' peach ', 'pineapple,', 'raspberry', 'mint ', 'lemonade,', 'grape,', 'watermelon', 'flavor', 'fruit', ]\n",
    "not_flavor_ecig = ['smoky', 'smoked']\n"
   ]
  },
  {
   "cell_type": "code",
   "execution_count": 24,
   "metadata": {},
   "outputs": [
    {
     "name": "stdout",
     "output_type": "stream",
     "text": [
      "monthList:  [1, 2, 3, 4]\n",
      "Processing:  juliana_all_Flavor_ECigarette_2018_01.json\n",
      "length before:  451\n",
      "length after:  228\n",
      "Processing:  juliana_all_Flavor_ECigarette_2018_02.json\n",
      "length before:  395\n",
      "length after:  218\n",
      "Processing:  juliana_all_Flavor_ECigarette_2018_03.json\n",
      "length before:  543\n",
      "length after:  298\n",
      "Processing:  juliana_all_Flavor_ECigarette_2018_04.json\n",
      "length before:  538\n",
      "length after:  296\n"
     ]
    }
   ],
   "source": [
    "resulrDirectoryPath = \"/mnt/volume/result\"\n",
    "\n",
    "os.chdir(resulrDirectoryPath)\n",
    "\n",
    "after_allFlavorList = []\n",
    "\n",
    "monthList = [i+1 for i in range(4)]\n",
    "print('monthList: ', monthList)\n",
    "\n",
    "\n",
    "# Deal with flavor.\n",
    "for month in monthList:\n",
    "    after_FlavorList_month = []\n",
    "    \n",
    "    fileName = 'juliana_all_Flavor_ECigarette_2018_0' + str(month) + '.json'\n",
    "    print('Processing: ', fileName)\n",
    "\n",
    "    with open(fileName, \"r\") as f:\n",
    "        everyLines = f.readlines()\n",
    "        print('length before: ', len(everyLines))\n",
    "        for line in everyLines:\n",
    "            try:\n",
    "                lineInJson = json.loads(line)\n",
    "            except:\n",
    "                print('Cannot load the line: ', line)\n",
    "            textInLine = lineInJson[\"text\"]\n",
    "#             print(textInLine)\n",
    "            lowercaseLine = textInLine.lower()\n",
    "    \n",
    "            # test for synonym\n",
    "            not_flavor_flag = True\n",
    "            for not_flavor_keyword in not_flavor_ecig:\n",
    "                if not_flavor_keyword in lowercaseLine:\n",
    "                    not_flavor_flag = False\n",
    "                    break\n",
    "            if not_flavor_flag == True:\n",
    "                for flavor_keyword in flavor_ecig:\n",
    "                    if flavor_keyword in lowercaseLine:\n",
    "                        after_FlavorList_month.append(line)\n",
    "                        break\n",
    "    after_FlavorList_month = set(after_FlavorList_month)\n",
    "    print('length after: ', len(after_FlavorList_month))\n",
    "\n",
    "    \n",
    "    # Write the result to second version.    \n",
    "    second_version_fileName = 'juliana_all_Flavor_ECigarette_second_version_2018_0' + str(month) + '.json'\n",
    "    with open(second_version_fileName, \"w\", encoding=\"utf-8\") as f:\n",
    "        for line in after_FlavorList_month:\n",
    "            f.write(str(line))\n",
    "    \n",
    "#     break\n"
   ]
  },
  {
   "cell_type": "code",
   "execution_count": null,
   "metadata": {},
   "outputs": [],
   "source": []
  }
 ],
 "metadata": {
  "kernelspec": {
   "display_name": "Python 3",
   "language": "python",
   "name": "python3"
  },
  "language_info": {
   "codemirror_mode": {
    "name": "ipython",
    "version": 3
   },
   "file_extension": ".py",
   "mimetype": "text/x-python",
   "name": "python",
   "nbconvert_exporter": "python",
   "pygments_lexer": "ipython3",
   "version": "3.7.3"
  }
 },
 "nbformat": 4,
 "nbformat_minor": 2
}
