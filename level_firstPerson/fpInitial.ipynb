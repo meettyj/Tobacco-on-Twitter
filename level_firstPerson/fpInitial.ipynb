{
 "cells": [
  {
   "cell_type": "code",
   "execution_count": 3,
   "metadata": {},
   "outputs": [
    {
     "name": "stdout",
     "output_type": "stream",
     "text": [
      "0.17\n"
     ]
    }
   ],
   "source": [
    "import os\n",
    "# print(os.getcwd())\n",
    "os.chdir('C:/Users/eddie/Desktop/Prof. Rumi Chunara/alcohol')\n",
    "import pickle\n",
    "import sklearn\n",
    "print(sklearn.__version__)\n",
    "import pandas\n",
    "import numpy as np\n",
    "import sys\n",
    "\n",
    "\n",
    "from evaluation.metric import computeAccuracy, computeF1Score, computeAUC\n",
    "# from sklearn.metrics import roc_auc_score\n",
    "\n",
    "# %load_ext autoreload\n",
    "# %autoreload\n",
    "from sklearn.linear_model import LogisticRegression\n",
    "from sklearn.svm import LinearSVC\n",
    "from scipy.stats import uniform\n",
    "# %reload_ext pipelines.alcohol.AlcoholPipeline\n",
    "from pipelines.alcohol import AlcoholPipeline"
   ]
  },
  {
   "cell_type": "code",
   "execution_count": 4,
   "metadata": {},
   "outputs": [],
   "source": [
    "# clf_alc_initial = pickle.load(open('./alcohol classifiers/clf_alc_UPDATED.p', 'rb'))\n",
    "clf_fpa_initial = pickle.load(open('./alcohol classifiers/clf_fpa_UPDATED.p', 'rb'))\n",
    "# clf_fpl_dl = pickle.load(open('./alcohol classifiers/clf_fpl_double_labeled', 'rb'))\n",
    "df = pandas.read_csv(\"./data/alcohol_training_instances.csv\")"
   ]
  },
  {
   "cell_type": "markdown",
   "metadata": {},
   "source": [
    "Prepare the first person level data"
   ]
  },
  {
   "cell_type": "code",
   "execution_count": 7,
   "metadata": {},
   "outputs": [
    {
     "name": "stdout",
     "output_type": "stream",
     "text": [
      "[0, 1, 0, 0, 1, 1, 1, 0, 1, 0, 1, 0, 0, 0, 1, 1, 0, 1, 1, 1]\n",
      "length of first person level labels:  9816\n",
      "[0, 1, 1, 1, 1, 1, 1, 1, 0, 1, 0, 1, 1, 1, 1, 1, 1, 1, 1, 1]\n",
      "length of first person level index in df:  15651\n",
      "[1, 2, 3, 4, 5, 6, 7, 9, 11, 12, 13, 14, 15, 16, 17]\n",
      "length of first person level df index:  9816\n"
     ]
    }
   ],
   "source": [
    "fp_labels = []\n",
    "fp_index_in_df = []\n",
    "# index = \n",
    "\n",
    "fp_0 = \"'first_person': 0\"\n",
    "fp_1 = \"'first_person': 1\"\n",
    "\n",
    "# the actual extraction\n",
    "for i in range(len(df)):\n",
    "    if fp_0 in df.labels[i] or fp_1 in df.labels[i]:\n",
    "        fp_index_in_df.append(1)\n",
    "        if df.labels[i].find(fp_0) != -1:\n",
    "            fp_labels.append(df.labels[i][df.labels[i].find(fp_0) + len(fp_0) - 1])\n",
    "        else:\n",
    "            fp_labels.append(df.labels[i][df.labels[i].find(fp_1) + len(fp_0) - 1])\n",
    "    else:\n",
    "        fp_index_in_df.append(0)\n",
    "fp_labels = list(map(int, fp_labels))\n",
    "print(fp_labels[:20])\n",
    "# print(subset_vec_alc_fp[:10])\n",
    "print('length of first person level labels: ', len(fp_labels)) # 9816\n",
    "print(fp_index_in_df[:20])\n",
    "print('length of first person level index in df: ', len(fp_index_in_df)) # 15651\n",
    "index_fp = list(np.where(fp_index_in_df)[0])\n",
    "print(index_fp[:15])\n",
    "print('length of first person level df index: ', len(index_fp)) # 9816\n",
    "df_fp = df.iloc[index_fp,]\n",
    "# df_fp.head\n",
    "# fp_labels = np.asarray(fp_labels)\n",
    "\n",
    "# train test dataset split\n",
    "from sklearn.cross_validation import train_test_split\n",
    "X_train, X_test, y_train, y_test = train_test_split(df_fp, fp_labels, test_size=0.2, random_state=26)"
   ]
  },
  {
   "cell_type": "markdown",
   "metadata": {},
   "source": [
    "Then we check the initial model performance before re-training. On whole first person level dataset"
   ]
  },
  {
   "cell_type": "code",
   "execution_count": 8,
   "metadata": {},
   "outputs": [
    {
     "name": "stderr",
     "output_type": "stream",
     "text": [
      "D:\\Anaconda3\\envs\\py36\\lib\\site-packages\\sklearn\\feature_extraction\\text.py:1015: FutureWarning: Conversion of the second argument of issubdtype from `float` to `np.floating` is deprecated. In future, it will be treated as `np.float64 == np.dtype(float).type`.\n",
      "  if hasattr(X, 'dtype') and np.issubdtype(X.dtype, np.float):\n"
     ]
    },
    {
     "name": "stdout",
     "output_type": "stream",
     "text": [
      "length of total comps:  9816\n",
      "pretrained alcohol classifer:  2442 different item in whole dataset\n",
      "accuracy: 75.122249%\n",
      "F1 Score:  0.8341257981252548\n",
      "alcohol LR AUC:  0.8498529687505898\n"
     ]
    }
   ],
   "source": [
    "# predict in whole dataset\n",
    "y_before_retrain = clf_fpa_initial.predict(df_fp)\n",
    "# print('length of testing set: ', len(y_alc_initial))\n",
    "computeAccuracy(y_before_retrain, fp_labels)\n",
    "f1_before_retrain = computeF1Score(fp_labels, y_before_retrain)\n",
    "print('F1 Score: ', f1_before_retrain)\n",
    "auc_score_LR_before_retrain = computeAUC(clf_fpa_initial, df_fp, fp_labels, plot=False)\n",
    "# auc_score = computeAUC(clf_alc_LR_updateParams, X_train, y_train, X_test, y_test, plot=True, plotTitle=\"Alcohol ROC Curve\")\n",
    "print('alcohol LR AUC: ', auc_score_LR_before_retrain)"
   ]
  },
  {
   "cell_type": "code",
   "execution_count": null,
   "metadata": {},
   "outputs": [],
   "source": []
  }
 ],
 "metadata": {
  "anaconda-cloud": {},
  "kernelspec": {
   "display_name": "Python 3",
   "language": "python",
   "name": "python3"
  },
  "language_info": {
   "codemirror_mode": {
    "name": "ipython",
    "version": 3
   },
   "file_extension": ".py",
   "mimetype": "text/x-python",
   "name": "python",
   "nbconvert_exporter": "python",
   "pygments_lexer": "ipython3",
   "version": "3.6.5"
  }
 },
 "nbformat": 4,
 "nbformat_minor": 1
}
