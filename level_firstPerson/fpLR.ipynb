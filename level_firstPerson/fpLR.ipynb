{
 "cells": [
  {
   "cell_type": "code",
   "execution_count": 1,
   "metadata": {},
   "outputs": [
    {
     "name": "stdout",
     "output_type": "stream",
     "text": [
      "0.17\n"
     ]
    }
   ],
   "source": [
    "import os\n",
    "os.chdir('../')\n",
    "import pickle\n",
    "import sklearn\n",
    "print(sklearn.__version__)\n",
    "import pandas\n",
    "import numpy as np\n",
    "import sys\n",
    "from evaluation.metric import computeAccuracy, computeF1Score, computeAUC\n",
    "# from sklearn.metrics import roc_auc_score\n",
    "\n",
    "# %load_ext autoreload\n",
    "# %autoreload\n",
    "from sklearn.linear_model import LogisticRegression\n",
    "from sklearn.svm import LinearSVC\n",
    "from scipy.stats import uniform\n",
    "# %reload_ext pipelines.alcohol.AlcoholPipeline\n",
    "from pipelines.alcohol import AlcoholPipeline"
   ]
  },
  {
   "cell_type": "code",
   "execution_count": 5,
   "metadata": {},
   "outputs": [
    {
     "name": "stderr",
     "output_type": "stream",
     "text": [
      "D:\\Anaconda3\\lib\\site-packages\\sklearn\\base.py:306: UserWarning: Trying to unpickle estimator TfidfTransformer from version pre-0.18 when using version 0.21.1. This might lead to breaking code or invalid results. Use at your own risk.\n",
      "  UserWarning)\n",
      "D:\\Anaconda3\\lib\\site-packages\\sklearn\\base.py:306: UserWarning: Trying to unpickle estimator TfidfVectorizer from version pre-0.18 when using version 0.21.1. This might lead to breaking code or invalid results. Use at your own risk.\n",
      "  UserWarning)\n",
      "D:\\Anaconda3\\lib\\site-packages\\sklearn\\base.py:306: UserWarning: Trying to unpickle estimator Pipeline from version pre-0.18 when using version 0.21.1. This might lead to breaking code or invalid results. Use at your own risk.\n",
      "  UserWarning)\n",
      "D:\\Anaconda3\\lib\\site-packages\\sklearn\\base.py:306: UserWarning: Trying to unpickle estimator FeatureUnion from version pre-0.18 when using version 0.21.1. This might lead to breaking code or invalid results. Use at your own risk.\n",
      "  UserWarning)\n",
      "D:\\Anaconda3\\lib\\site-packages\\sklearn\\base.py:306: UserWarning: Trying to unpickle estimator Normalizer from version pre-0.18 when using version 0.21.1. This might lead to breaking code or invalid results. Use at your own risk.\n",
      "  UserWarning)\n",
      "D:\\Anaconda3\\lib\\site-packages\\sklearn\\base.py:306: UserWarning: Trying to unpickle estimator SVC from version pre-0.18 when using version 0.21.1. This might lead to breaking code or invalid results. Use at your own risk.\n",
      "  UserWarning)\n",
      "D:\\Anaconda3\\lib\\site-packages\\sklearn\\base.py:306: UserWarning: Trying to unpickle estimator LogisticRegression from version pre-0.18 when using version 0.21.1. This might lead to breaking code or invalid results. Use at your own risk.\n",
      "  UserWarning)\n"
     ]
    }
   ],
   "source": [
    "# clf_alc_initial = pickle.load(open('./alcohol classifiers/clf_alc_UPDATED.p', 'rb'))\n",
    "clf_fpa    = pickle.load(open('./alcohol classifiers/clf_fpa_UPDATED.p', 'rb'))\n",
    "clf_fpl_dl = pickle.load(open('./alcohol classifiers/clf_fpl_double_labeled', 'rb'))\n",
    "df = pandas.read_csv(\"./data/alcohol_training_instances.csv\")"
   ]
  },
  {
   "cell_type": "code",
   "execution_count": 4,
   "metadata": {},
   "outputs": [
    {
     "data": {
      "text/plain": [
       "[('features', FeatureUnion(n_jobs=1,\n",
       "               transformer_list=[('text',\n",
       "                                  Pipeline(memory=None,\n",
       "                                           steps=[('getter',\n",
       "                                                   ItemGetter(key='text')),\n",
       "                                                  ('tfidf',\n",
       "                                                   TfidfVectorizer(analyzer='char',\n",
       "                                                                   binary=False,\n",
       "                                                                   decode_error='strict',\n",
       "                                                                   dtype=<class 'numpy.int64'>,\n",
       "                                                                   encoding='utf-8',\n",
       "                                                                   input='content',\n",
       "                                                                   lowercase=False,\n",
       "                                                                   max_df=1.0,\n",
       "                                                                   max_features=86124,\n",
       "                                                                   min_df=2,\n",
       "                                                                   ngram_range=(1,\n",
       "                                                                                3),\n",
       "                                                                   norm='l2',\n",
       "                                                                   preprocessor=None,\n",
       "                                                                   smooth_idf=True,\n",
       "                                                                   stop_words=None,\n",
       "                                                                   strip_accents=None,\n",
       "                                                                   sublinear_tf=False,\n",
       "                                                                   token_pattern='(?u)\\\\b\\\\w\\\\w+\\\\b',\n",
       "                                                                   tokenizer=<function tokenize at 0x00000154D9A5F2F0>,\n",
       "                                                                   use_idf=True,\n",
       "                                                                   vocabulary=None))],\n",
       "                                           verbose=None))],\n",
       "               transformer_weights=None, verbose=None)),\n",
       " ('scaler', Normalizer(copy=True, norm='l2')),\n",
       " ('clf', SVC(C=4086.318933386609, cache_size=500, class_weight=None,\n",
       "      coef0=0.7756461215720399, decision_function_shape=None, degree=3,\n",
       "      gamma='auto', kernel='rbf', max_iter=-1, probability=True,\n",
       "      random_state=None, shrinking=True, tol=0.0008753898561476732,\n",
       "      verbose=False))]"
      ]
     },
     "execution_count": 4,
     "metadata": {},
     "output_type": "execute_result"
    }
   ],
   "source": [
    "clf_fpa.steps"
   ]
  },
  {
   "cell_type": "code",
   "execution_count": 7,
   "metadata": {},
   "outputs": [
    {
     "data": {
      "text/plain": [
       "[('features', FeatureUnion(n_jobs=1,\n",
       "               transformer_list=[('text',\n",
       "                                  Pipeline(memory=None,\n",
       "                                           steps=[('getter',\n",
       "                                                   ItemGetter(key='text')),\n",
       "                                                  ('tfidf',\n",
       "                                                   TfidfVectorizer(analyzer='word',\n",
       "                                                                   binary=False,\n",
       "                                                                   decode_error='strict',\n",
       "                                                                   dtype=<class 'numpy.int64'>,\n",
       "                                                                   encoding='utf-8',\n",
       "                                                                   input='content',\n",
       "                                                                   lowercase=False,\n",
       "                                                                   max_df=1.0,\n",
       "                                                                   max_features=94963,\n",
       "                                                                   min_df=1,\n",
       "                                                                   ngram_range=(1,\n",
       "                                                                                3),\n",
       "                                                                   norm='l2',\n",
       "                                                                   preprocessor=None,\n",
       "                                                                   smooth_idf=True,\n",
       "                                                                   stop_words=None,\n",
       "                                                                   strip_accents=None,\n",
       "                                                                   sublinear_tf=False,\n",
       "                                                                   token_pattern='(?u)\\\\b\\\\w\\\\w+\\\\b',\n",
       "                                                                   tokenizer=None,\n",
       "                                                                   use_idf=True,\n",
       "                                                                   vocabulary=None))],\n",
       "                                           verbose=None))],\n",
       "               transformer_weights=None, verbose=None)),\n",
       " ('scaler', Normalizer(copy=True, norm='l2')),\n",
       " ('clf',\n",
       "  LogisticRegression(C=139.67415702201885, class_weight=None, dual=False,\n",
       "                     fit_intercept=True, intercept_scaling=1, l1_ratio=None,\n",
       "                     max_iter=100, multi_class='ovr', n_jobs=None, penalty='l2',\n",
       "                     random_state=None, solver='liblinear',\n",
       "                     tol=0.000449897709599141, verbose=0, warm_start=None))]"
      ]
     },
     "execution_count": 7,
     "metadata": {},
     "output_type": "execute_result"
    }
   ],
   "source": [
    "clf_fpl_dl.steps"
   ]
  },
  {
   "cell_type": "code",
   "execution_count": null,
   "metadata": {
    "collapsed": true
   },
   "outputs": [],
   "source": []
  }
 ],
 "metadata": {
  "anaconda-cloud": {},
  "kernelspec": {
   "display_name": "Python 3",
   "language": "python",
   "name": "python3"
  },
  "language_info": {
   "codemirror_mode": {
    "name": "ipython",
    "version": 3
   },
   "file_extension": ".py",
   "mimetype": "text/x-python",
   "name": "python",
   "nbconvert_exporter": "python",
   "pygments_lexer": "ipython3",
   "version": "3.6.5"
  }
 },
 "nbformat": 4,
 "nbformat_minor": 1
}
