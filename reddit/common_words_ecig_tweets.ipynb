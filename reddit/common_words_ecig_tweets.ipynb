{
 "cells": [
  {
   "cell_type": "code",
   "execution_count": 22,
   "metadata": {},
   "outputs": [],
   "source": [
    "import pandas as pd\n",
    "import requests\n",
    "import json\n",
    "import csv\n",
    "\n",
    "import re\n",
    "from collections import Counter\n",
    "import collections\n",
    "\n",
    "import nltk\n",
    "from nltk.corpus import stopwords"
   ]
  },
  {
   "cell_type": "code",
   "execution_count": 2,
   "metadata": {},
   "outputs": [],
   "source": [
    "tag = 'ecig'\n",
    "year_month_key_list = ['2017_06', '2018_06', '2019_01']\n",
    "\n",
    "file_path = \"/mnt/volume-5T/result/\""
   ]
  },
  {
   "cell_type": "code",
   "execution_count": 3,
   "metadata": {},
   "outputs": [
    {
     "name": "stdout",
     "output_type": "stream",
     "text": [
      "\n",
      "length of proposal_ecig_tweets_list:  88\n",
      "length of approval_ecig_tweets_list:  92\n",
      "length of enforcement_ecig_tweets_list_01:  130\n"
     ]
    }
   ],
   "source": [
    "# file_name = 'juliana_SF_allECigarette_'+year_month+'_categoryKeyWord.json'\n",
    "\n",
    "proposal_ecig_tweets_list = []\n",
    "approval_ecig_tweets_list = []\n",
    "enforcement_ecig_tweets_list_01 = []\n",
    "\n",
    "for year_month in year_month_key_list:\n",
    "   \n",
    "    if tag == 'ecig':\n",
    "        file_name = 'juliana_SF_allECigarette_'+year_month+'_categoryKeyWord.json'\n",
    "    elif tag == 'tobacco':\n",
    "        file_name = 'juliana_allSF_tobacco_'+year_month+'.json'\n",
    "    elif tag == 'flavored tobacco':\n",
    "        file_name = 'juliana_allSF_flavored_tobacco_'+year_month+'.json'\n",
    "    else:\n",
    "        print('please specify a meaningful tag')\n",
    "    \n",
    "    file = file_path + file_name\n",
    "    with open(file, \"r\") as f:\n",
    "        everyLines = f.readlines()\n",
    "        for line in everyLines:\n",
    "            try:\n",
    "                lineInJson = json.loads(line)\n",
    "            except:\n",
    "                print('Cannot load the line: ', line)\n",
    "            textInLine = lineInJson[\"text\"]\n",
    "            textAfterRE = re.sub('https?:\\/\\/t\\.co\\/[\\s\\S]{10}', '', textInLine)\n",
    "                \n",
    "            if year_month == '2017_06':\n",
    "                proposal_ecig_tweets_list.append(textAfterRE)\n",
    "            elif year_month == '2018_06':\n",
    "                approval_ecig_tweets_list.append(textAfterRE)\n",
    "            elif year_month == '2019_01':\n",
    "                enforcement_ecig_tweets_list_01.append(textAfterRE)\n",
    "\n",
    "#     break\n",
    "\n",
    "print()\n",
    "print('length of proposal_ecig_tweets_list: ', len(proposal_ecig_tweets_list))\n",
    "print('length of approval_ecig_tweets_list: ', len(approval_ecig_tweets_list))\n",
    "print('length of enforcement_ecig_tweets_list_01: ', len(enforcement_ecig_tweets_list_01))\n"
   ]
  },
  {
   "cell_type": "code",
   "execution_count": 31,
   "metadata": {},
   "outputs": [],
   "source": [
    "# check the number words appeared in each month tweets\n",
    "\n",
    "# proposal_counter = collections.Counter(''.join(proposal_ecig_tweets_list.split('')))\n",
    "# proposal_counter\n",
    "# print(''.join(proposal_ecig_tweets_list).split(' '))\n",
    "def get_most_common_words(input_list):\n",
    "    text_string = ''.join(input_list)\n",
    "    text_string = text_string.encode('ascii', 'ignore').decode('ascii') # remove emoji\n",
    "    text_string = re.sub(r'[^\\w\\s]','',text_string) # remove punctuations\n",
    "\n",
    "#     tokenized_list = nltk.word_tokenize(text_string)\n",
    "    tokenized_list = text_string.split()\n",
    "\n",
    "    # remove stop words\n",
    "    stops = set(stopwords.words(\"english\"))\n",
    "    text_list = [word for word in tokenized_list if word not in stops]\n",
    "    \n",
    "    counter = collections.Counter(text_list).most_common(15)\n",
    "    return counter\n"
   ]
  },
  {
   "cell_type": "code",
   "execution_count": 32,
   "metadata": {},
   "outputs": [
    {
     "data": {
      "text/plain": [
       "[('vape', 23),\n",
       " ('I', 15),\n",
       " ('CA', 9),\n",
       " ('vapor', 8),\n",
       " ('vaping', 7),\n",
       " ('pen', 6),\n",
       " ('like', 6),\n",
       " ('SouthSanFrancisco', 5),\n",
       " ('KellyJobs', 5),\n",
       " ('latest', 5),\n",
       " ('work', 5),\n",
       " ('wanna', 5),\n",
       " ('new', 4),\n",
       " ('San', 4),\n",
       " ('Francisco', 4)]"
      ]
     },
     "execution_count": 32,
     "metadata": {},
     "output_type": "execute_result"
    }
   ],
   "source": [
    "# proposal\n",
    "get_most_common_words(proposal_ecig_tweets_list)"
   ]
  },
  {
   "cell_type": "code",
   "execution_count": 33,
   "metadata": {},
   "outputs": [
    {
     "data": {
      "text/plain": [
       "[('I', 20),\n",
       " ('vape', 18),\n",
       " ('juul', 9),\n",
       " ('amp', 8),\n",
       " ('Juul', 8),\n",
       " ('like', 7),\n",
       " ('louieswisher', 5),\n",
       " ('Im', 5),\n",
       " ('day', 4),\n",
       " ('The', 4),\n",
       " ('vaping', 4),\n",
       " ('game', 4),\n",
       " ('got', 4),\n",
       " ('goods', 4),\n",
       " ('get', 3)]"
      ]
     },
     "execution_count": 33,
     "metadata": {},
     "output_type": "execute_result"
    }
   ],
   "source": [
    "# approval\n",
    "get_most_common_words(approval_ecig_tweets_list)"
   ]
  },
  {
   "cell_type": "code",
   "execution_count": 34,
   "metadata": {},
   "outputs": [
    {
     "data": {
      "text/plain": [
       "[('juul', 20),\n",
       " ('vape', 19),\n",
       " ('I', 15),\n",
       " ('Francisco', 11),\n",
       " ('San', 8),\n",
       " ('new', 6),\n",
       " ('JUULvapor', 6),\n",
       " ('vaping', 6),\n",
       " ('time', 5),\n",
       " ('get', 5),\n",
       " ('You', 5),\n",
       " ('smoking', 5),\n",
       " ('The', 5),\n",
       " ('Juul', 5),\n",
       " ('would', 4)]"
      ]
     },
     "execution_count": 34,
     "metadata": {},
     "output_type": "execute_result"
    }
   ],
   "source": [
    "# enforcement\n",
    "get_most_common_words(enforcement_ecig_tweets_list_01)"
   ]
  },
  {
   "cell_type": "code",
   "execution_count": null,
   "metadata": {},
   "outputs": [],
   "source": []
  }
 ],
 "metadata": {
  "kernelspec": {
   "display_name": "Python 3",
   "language": "python",
   "name": "python3"
  },
  "language_info": {
   "codemirror_mode": {
    "name": "ipython",
    "version": 3
   },
   "file_extension": ".py",
   "mimetype": "text/x-python",
   "name": "python",
   "nbconvert_exporter": "python",
   "pygments_lexer": "ipython3",
   "version": "3.7.3"
  }
 },
 "nbformat": 4,
 "nbformat_minor": 2
}
