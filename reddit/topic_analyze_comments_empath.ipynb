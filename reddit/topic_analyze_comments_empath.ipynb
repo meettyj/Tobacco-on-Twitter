{
 "cells": [
  {
   "cell_type": "markdown",
   "metadata": {},
   "source": [
    "Get comments for all the submissions collected in subreddit 'electronic cigarette' using keywords ban and SF."
   ]
  },
  {
   "cell_type": "code",
   "execution_count": 2,
   "metadata": {},
   "outputs": [],
   "source": [
    "import pandas as pd\n",
    "import requests\n",
    "import json\n",
    "import csv"
   ]
  },
  {
   "cell_type": "code",
   "execution_count": 3,
   "metadata": {},
   "outputs": [],
   "source": [
    "# submission_id = '8ozrej'\n",
    "submission_id_list = ['8ozrej']"
   ]
  },
  {
   "cell_type": "markdown",
   "metadata": {},
   "source": [
    "### Based on the submission, retrieve the comments"
   ]
  },
  {
   "cell_type": "code",
   "execution_count": 4,
   "metadata": {},
   "outputs": [],
   "source": [
    "get_comments_id_from_submission_url = \"https://api.pushshift.io/reddit/submission/comment_ids/\"\n",
    "get_comment_by_id_url = \"https://api.pushshift.io/reddit/comment/search?ids=\""
   ]
  },
  {
   "cell_type": "code",
   "execution_count": 7,
   "metadata": {
    "scrolled": false
   },
   "outputs": [
    {
     "name": "stdout",
     "output_type": "stream",
     "text": [
      "['e07amzg', 'e07b94u', 'e07cxi7', 'e07d8oy', 'e07dhwl', 'e07drfl', 'e07e52d', 'e07edk9', 'e07ees6', 'e07elcg', 'e07eprq', 'e07ex33', 'e07f2rk', 'e07fgx8', 'e07fypu', 'e07fysd', 'e07g3ts', 'e07g41x', 'e07g5nv', 'e07g7u8', 'e07gd55', 'e07getm', 'e07gjoy', 'e07gzrd', 'e07h1f8', 'e07h6qy', 'e07h8v6', 'e07h9ue', 'e07hf92', 'e07ici8', 'e07iuzj', 'e07j04x', 'e07j3y6', 'e07j4m7', 'e07j4xs', 'e07j5sf', 'e07j6sj', 'e07jajr', 'e07jalp', 'e07jbjt', 'e07jbof', 'e07jdff', 'e07jfvf', 'e07jiub', 'e07jjyp', 'e07jmpc', 'e07jnhw', 'e07jpka', 'e07jqd5', 'e07jqlt', 'e07jvmr', 'e07jyjx', 'e07k48s', 'e07k79j', 'e07k85x', 'e07kb10', 'e07kb7d', 'e07kcmv', 'e07kht1', 'e07ki7k', 'e07kisy', 'e07kmgk', 'e07kpw6', 'e07ksix', 'e07l5k8', 'e07l9kk', 'e07lblj', 'e07lha9', 'e07lmmx', 'e07lr9y', 'e07ly9o', 'e07lze8', 'e07m5k7', 'e07m5la', 'e07m7ul', 'e07m8ju', 'e07mydx', 'e07mzpm', 'e07n0pm', 'e07n1pg', 'e07n1tj', 'e07n2a1', 'e07nce0', 'e07nenn', 'e07nh89', 'e07ni5b', 'e07njrc', 'e07nm8n', 'e07nnhp', 'e07nqu4', 'e07nzlo', 'e07o0tv', 'e07o6om', 'e07ob68', 'e07ocdd', 'e07ochs', 'e07ofa1', 'e07ofvd', 'e07ogng', 'e07okqz', 'e07oyv0', 'e07p08f', 'e07pais', 'e07peab', 'e07phk3', 'e07pm9z', 'e07pmey', 'e07pofg', 'e07q2am', 'e07q5gm', 'e07q87q', 'e07qa8a', 'e07qasa', 'e07qciy', 'e07qg7r', 'e07qj3o', 'e07qms1', 'e07qoom', 'e07qs3m', 'e07qt4n', 'e07qtwf', 'e07qvup', 'e07qyve', 'e07r4zm', 'e07r6np', 'e07r7ng', 'e07rbeb', 'e07rc20', 'e07rc8i', 'e07rfxp', 'e07rheg', 'e07rjyd', 'e07rnn1', 'e07rsfd', 'e07rtb4', 'e07rvve', 'e07rxcq', 'e07s4i2', 'e07scqo', 'e07si71', 'e07siy1', 'e07sp4p', 'e07sqhs', 'e07szbw', 'e07t0kw', 'e07t3pc', 'e07t4tk', 'e07t72o', 'e07t86v', 'e07t8g7', 'e07t8k4', 'e07t8y1', 'e07td8s', 'e07td96', 'e07tdmo', 'e07tgun', 'e07tok1', 'e07tp0f', 'e07tqfx', 'e07tqyg', 'e07tw9z', 'e07twhj', 'e07u3bn', 'e07u5ti', 'e07uby6', 'e07ufsz', 'e07ukx7', 'e07ul8i', 'e07us4g', 'e07uxaa', 'e07uzyn', 'e07v066', 'e07v0be', 'e07v367', 'e07v3i7', 'e07v9fp', 'e07vafo', 'e07vow0', 'e07vtou', 'e07vtug', 'e07vuys', 'e07w5cr', 'e07w8y4', 'e07wglk', 'e07wo48', 'e07wpt7', 'e07wqwp', 'e07wzbc', 'e07x4yf', 'e07x6dz', 'e07x6of', 'e07x7mk', 'e07x958', 'e07xcf2', 'e07xdjy', 'e07xf3v', 'e07xha5', 'e07xk2i', 'e07xk5g', 'e07xmic', 'e07xsvq', 'e07y860', 'e07yskt', 'e07z3eq', 'e07z5ru', 'e07z6hq', 'e07zb3i', 'e07zfl9', 'e07zrk0', 'e07zvai', 'e07zwhr', 'e07zy60', 'e0803gl', 'e0805vy', 'e0806ua', 'e0809o1', 'e080ap8', 'e080bqo', 'e080drn', 'e080sva', 'e080ynk', 'e0812br', 'e08236q', 'e082bb2', 'e082g27', 'e082hik', 'e082izp', 'e0831yi', 'e08361l', 'e083h23', 'e083kxr', 'e083mi5', 'e083v8x', 'e084dtd', 'e084k1y', 'e084lec', 'e084xuu', 'e0852rm', 'e085g44', 'e085t9q', 'e08629v', 'e086j64', 'e087tg0', 'e0888e4', 'e08892l', 'e0895pv', 'e0896vr', 'e089ctv', 'e089i1m', 'e08a4gp', 'e08a4tj', 'e08asao', 'e08aycg', 'e08b04m', 'e08b5zf', 'e08bfhq', 'e08blbr', 'e08blc7', 'e08bzt9', 'e08c2di', 'e08c53s', 'e08cffy', 'e08cgpz', 'e08cnhv', 'e08ct9d', 'e08d7x7', 'e08d97d', 'e08po0q', 'e08ppo2']\n",
      "\n",
      "comment:  [{'approved_at_utc': None, 'author': 'AbigailLilac', 'author_flair_background_color': '', 'author_flair_css_class': None, 'author_flair_template_id': None, 'author_flair_text': None, 'author_flair_text_color': 'dark', 'banned_at_utc': None, 'body': \"&gt;People really have a big dislike and big distrust for Big Tobacco companies and are not fooled by propaganda and tactics\\n\\n/^ Ironic\\n\\nSanFran is a bizzare place, and not in a good way. It's not a place for people who enjoy individual freedoms. It's unfortunate.\", 'can_mod_post': False, 'collapsed': False, 'collapsed_reason': None, 'created_utc': 1528284397, 'distinguished': None, 'edited': False, 'id': 'e07amzg', 'is_submitter': False, 'link_id': 't3_8ozrej', 'no_follow': True, 'parent_id': 't3_8ozrej', 'permalink': '/r/electronic_cigarette/comments/8ozrej/california_san_francisco_bans_sales_of_flavored/e07amzg/', 'retrieved_on': 1528284398, 'rte_mode': 'markdown', 'score': 1, 'send_replies': True, 'stickied': False, 'subreddit': 'electronic_cigarette', 'subreddit_id': 't5_2qmlu'}]\n"
     ]
    }
   ],
   "source": [
    "# get comment_ids based on submission_id\n",
    "for submission_id in submission_id_list:\n",
    "    tmp_comments_list = []\n",
    "    \n",
    "    r = requests.get(get_comments_id_from_submission_url + submission_id)\n",
    "    data = json.loads(r.text)\n",
    "    comments_id_list = data['data']\n",
    "    print(comments_id_list)\n",
    "    print()\n",
    "    \n",
    "    # get comments based on comment_id\n",
    "    for comment_id in comments_id_list:\n",
    "        r_comment = requests.get(get_comment_by_id_url + comment_id)\n",
    "        data_comment = json.loads(r_comment.text)\n",
    "        comment = data_comment['data']\n",
    "        print('comment: ', comment)\n",
    "        break\n",
    "        \n",
    "    break\n",
    "    "
   ]
  },
  {
   "cell_type": "code",
   "execution_count": null,
   "metadata": {},
   "outputs": [],
   "source": []
  },
  {
   "cell_type": "code",
   "execution_count": null,
   "metadata": {},
   "outputs": [],
   "source": []
  },
  {
   "cell_type": "code",
   "execution_count": null,
   "metadata": {},
   "outputs": [],
   "source": []
  }
 ],
 "metadata": {
  "kernelspec": {
   "display_name": "Python 3",
   "language": "python",
   "name": "python3"
  },
  "language_info": {
   "codemirror_mode": {
    "name": "ipython",
    "version": 3
   },
   "file_extension": ".py",
   "mimetype": "text/x-python",
   "name": "python",
   "nbconvert_exporter": "python",
   "pygments_lexer": "ipython3",
   "version": "3.7.3"
  }
 },
 "nbformat": 4,
 "nbformat_minor": 2
}
