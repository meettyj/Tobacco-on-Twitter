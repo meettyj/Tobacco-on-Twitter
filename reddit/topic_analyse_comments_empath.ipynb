{
 "cells": [
  {
   "cell_type": "markdown",
   "metadata": {},
   "source": [
    "Get comments for all the submissions collected in subreddit 'electronic cigarette' using keywords ban and SF."
   ]
  },
  {
   "cell_type": "code",
   "execution_count": 46,
   "metadata": {},
   "outputs": [],
   "source": [
    "import pandas as pd\n",
    "import requests\n",
    "import json\n",
    "import csv\n",
    "\n",
    "from empath import Empath\n",
    "\n",
    "import liwcanalysis\n",
    "\n",
    "import re\n",
    "from collections import Counter\n",
    "import liwc\n",
    "\n"
   ]
  },
  {
   "cell_type": "code",
   "execution_count": 41,
   "metadata": {},
   "outputs": [],
   "source": [
    "# submission_id = '8ozrej'\n",
    "proposal_submission_id_list = ['6fdqte', '6fmuh0', '6fvkkp', '6fy75u', '6g3nb9', '6iipqn', '6ijdlp', '6imjdh', '6iq0kc', '6itwc5', '6iv0ks', '6ixsg4', '6j8x00', '6j9x4e', '6jivbz', '6jpqk8', '6it6yd']\n",
    "approval_submission_id_list = ['8nri82', '8nrny8', '8ogow8', '8oytiu', '8q0gll', '8qwh4j', '8r0173', '8rlqof', '8uof7u', '8o872d', '8ozrej', '8p04se', '8ptyha']\n",
    "enforcement_submission_id_list_01 = ['abv0nb', 'aff9cy', 'ag4jxn', 'ahlnat', 'ai9pt8', 'aicytd', 'akzio7', 'al6iqb']\n",
    "\n"
   ]
  },
  {
   "cell_type": "markdown",
   "metadata": {},
   "source": [
    "### Based on the submission, retrieve the comments"
   ]
  },
  {
   "cell_type": "code",
   "execution_count": 32,
   "metadata": {},
   "outputs": [],
   "source": [
    "get_comments_id_from_submission_url = \"https://api.pushshift.io/reddit/submission/comment_ids/\"\n",
    "get_comment_by_id_url = \"https://api.pushshift.io/reddit/comment/search?ids=\""
   ]
  },
  {
   "cell_type": "code",
   "execution_count": 36,
   "metadata": {
    "scrolled": false
   },
   "outputs": [],
   "source": [
    "def get_comment_text_list(submission_id_list):\n",
    "    comments_text_list = []\n",
    "\n",
    "    # get comment_ids based on submission_id\n",
    "    for submission_id in submission_id_list:\n",
    "        tmp_comments_list = []\n",
    "\n",
    "        r = requests.get(get_comments_id_from_submission_url + submission_id)\n",
    "        data = json.loads(r.text)\n",
    "        comments_id_list = data['data']\n",
    "        print('crawling comments: ', comments_id_list)\n",
    "        print()\n",
    "\n",
    "        # get comments based on comment_id\n",
    "        for comment_id in comments_id_list:\n",
    "            r_comment = requests.get(get_comment_by_id_url + comment_id)\n",
    "            try:\n",
    "                data_comment = json.loads(r_comment.text)\n",
    "                comment = data_comment['data']\n",
    "                comment_body = comment[0]['body']\n",
    "                comments_text_list.append(comment_body)\n",
    "            except:\n",
    "                print('r_comment: ', r_comment)\n",
    "    #         print('comment_body: ', comment_body)\n",
    "    #         print('comment: ', comment)\n",
    "    #         break\n",
    "#         break\n",
    "    return comments_text_list"
   ]
  },
  {
   "cell_type": "markdown",
   "metadata": {},
   "source": [
    "### proposal comments"
   ]
  },
  {
   "cell_type": "code",
   "execution_count": 34,
   "metadata": {
    "scrolled": true
   },
   "outputs": [
    {
     "name": "stdout",
     "output_type": "stream",
     "text": [
      "crawling comments:  ['dihiyhy', 'dihorch', 'dihpy6s', 'dihzu55', 'dii8zlo', 'dii90pd', 'dii923m', 'dii9wva', 'diizlbw', 'dij3zd8', 'dijyyb3', 'dik2y8i']\n",
      "\n",
      "crawling comments:  ['dijgn06', 'dijhtk9', 'dijierl', 'dijkfxt', 'dijl4uz', 'dijq2tk', 'dijq3e9', 'dijq5tx', 'dijrt9s']\n",
      "\n",
      "crawling comments:  ['dilb2sp', 'dilb4x7', 'dilbqe2', 'dilbtlu', 'dild5on', 'dilel7v', 'dilfh60', 'dilfn0h', 'dilg535', 'dilgu01', 'dilgyip', 'dillomh', 'dils9n0', 'dilsvy4', 'dilzwwx', 'dimlzwq', 'dimw2ne', 'dimyc7u']\n",
      "\n",
      "crawling comments:  ['dim3a2e']\n",
      "\n",
      "crawling comments:  ['din81f2', 'din9end', 'dinc4x2', 'dincaut', 'dinct6x', 'dingkw4', 'dingstv', 'dinh3q3', 'dinh7n0', 'diniioa', 'dinikzo', 'dink857', 'dinlggc', 'dinllt3', 'dinlnxc', 'dinlpl0', 'dinlt8z', 'dinlvay', 'dinmfyl', 'dinmh66', 'dinmid7', 'dinmjxm', 'dinmnae', 'dinmos1', 'dinn5zz', 'dinncoa', 'dinnd46', 'dinng92', 'dino020', 'dino31m', 'dino397', 'dino8md', 'dinokhw', 'dinoo4z', 'dinp6ko', 'dinpocf', 'dinq68j', 'dinr6l1', 'dins0bw', 'dinsm8s', 'dinsypt', 'dint0j2', 'dinycug', 'dinzf3p', 'dinzhzs', 'dinzqxd', 'dinzuda', 'dinzw7s', 'dinzx9y', 'dio07bm', 'dio0hvw', 'dio0pfq', 'dio1h42', 'dio1zrm', 'dio2n9k', 'dio2zp5', 'dio304q', 'dio41ll', 'diocwo7', 'dioglh7', 'dioj0os', 'diomapt', 'dionmtx', 'diooy2c', 'diophjd', 'diqxnna', 'dir2ubc', 'dirhpce', 'dit0nst']\n",
      "\n",
      "crawling comments:  ['dj6lhrz', 'dj6li64', 'dj6nbnl', 'dj6nui9', 'djftxnh']\n",
      "\n",
      "crawling comments:  ['dj6qipf', 'dj6ql28', 'dj6qmyc', 'dj6qynz', 'dj6s29h', 'dj6s4c3', 'dj6s70u', 'dj6sd9f', 'dj6snbz', 'dj6t2m1', 'dj6t8vh', 'dj6tl69', 'dj6tna2', 'dj6u2pc', 'dj6u6t5', 'dj6ukos', 'dj6ulyo', 'dj6urz2', 'dj6uu46', 'dj6uxu6', 'dj6uy5k', 'dj6va5u', 'dj6vd3n', 'dj6vljv', 'dj6vmlt', 'dj6vqnw', 'dj6w58p', 'dj6we31', 'dj6wmio', 'dj6wuzx', 'dj6x3oo', 'dj6xg30', 'dj6xzui', 'dj6yg0a', 'dj6ylxd', 'dj6ynzn', 'dj6zofe', 'dj70ebb', 'dj70ijh', 'dj70u1s', 'dj7291a', 'dj72j8z', 'dj72jqs', 'dj72kmb', 'dj72lf8', 'dj72wbq', 'dj73rmi', 'dj73sj0', 'dj73tdm', 'dj73ucm', 'dj73vqa', 'dj742ou', 'dj74lmg', 'dj74sgn', 'dj74x9z', 'dj75e31', 'dj75pfk', 'dj75s23', 'dj762o5', 'dj76kvn', 'dj76r7r', 'dj76usq', 'dj76v5c', 'dj77sfm', 'dj77xvy', 'dj780k8', 'dj79clc', 'dj79w8x', 'dj7axj5', 'dj7b2s2', 'dj7b5ir', 'dj7b8qa', 'dj7bbuc', 'dj7biuu', 'dj7bjgx', 'dj7blx9', 'dj7bqo4', 'dj7bvkz', 'dj7bxns', 'dj7cbnf', 'dj7cf4o', 'dj7cvox', 'dj7d1t5', 'dj7d2p6', 'dj7d74w', 'dj7daj7', 'dj7dmsk', 'dj7doib', 'dj7e0of', 'dj7eark', 'dj7esrr', 'dj7eww9', 'dj7f8kd', 'dj7fn11', 'dj7fogz', 'dj7fop1', 'dj7fxnt', 'dj7g4ez', 'dj7jkm9', 'dj7jlag', 'dj7k9xh', 'dj7kusw', 'dj7ltbe', 'dj7meo4', 'dj7nmwt', 'dj7nuo4', 'dj7o0fv', 'dj7o547', 'dj7pl8r', 'dj7ps9a', 'dj7q3sw', 'dj7rzw2', 'dj7sx35', 'dj7t2ug', 'dj7tgbs', 'dj7wxg0', 'dj7x33q', 'dj7xfuh', 'dj7xh44', 'dj7xk1y', 'dj7yv2u', 'dj801kc', 'dj806y0', 'dj83t1d', 'dj84gtd', 'dj85dhj', 'dj879cf', 'dj8gl3w', 'dj8j4zt', 'dj8lqef']\n",
      "\n",
      "crawling comments:  ['dj7cv2m', 'dj7d4dn', 'dj7d9st', 'dj7dfa6', 'dj7e8i4', 'dj7fhjf', 'dj7fk94', 'dj7g1g9', 'dj7grve', 'dj7iwml', 'dj7j4q6', 'dj7lxhx', 'dj7qkxn', 'dj7svxv', 'dj7v3dq', 'dj7vbzn', 'dj7xe52', 'dj7zl5b', 'dj809o8', 'dj80eeb', 'dj80k9f', 'dj80vwf', 'dj81tir', 'dj8c13j', 'dj8drls', 'dj8ed3z', 'dj8gi6a', 'dj8om5q', 'dj9978z']\n",
      "\n",
      "crawling comments:  ['dj8a753', 'dj8ffck', 'dj8h9yy']\n",
      "\n",
      "crawling comments:  ['dj8zmt1', 'dj97ur6', 'dj9e0fu']\n",
      "\n",
      "crawling comments:  ['dj9a7iu', 'dj9akue', 'dj9asf6', 'dj9blvn', 'dj9bnip', 'dj9bqbl', 'dj9bswq', 'dj9buiz', 'dj9bvab', 'dj9cfmm', 'dj9cg2h', 'dj9ci3d', 'dj9cz7q', 'dj9czjc', 'dj9d1d0', 'dj9d1hn', 'dj9d4i1', 'dj9d6zm', 'dj9da08', 'dj9dd9o', 'dj9dk4c', 'dj9dn0f', 'dj9drtp', 'dj9e1rp', 'dj9e9f7', 'dj9ebid', 'dj9ecqx', 'dj9ef00', 'dj9eg1w', 'dj9f43o', 'dj9fkfm', 'dj9fl50', 'dj9fzy9', 'dj9g300', 'dj9gycw', 'dj9gz64', 'dj9h0dh', 'dj9ifq0', 'dj9ilt6', 'dj9iml2', 'dj9inok', 'dj9io2c', 'dj9ipgd', 'dj9iz1s', 'dj9jizh', 'dj9k1sd', 'dj9koky', 'dj9kp5h', 'dj9kuer', 'dj9kwpi', 'dj9l9s6', 'dj9lj8f', 'dj9lkli', 'dj9m21g', 'dj9ovz3', 'dj9ox8h', 'dj9oxrw', 'dj9ozg4', 'dj9p173', 'dj9rd2j', 'dj9remt', 'dj9rfb0', 'dj9s1vg', 'dj9s54u', 'dj9ssu4', 'dj9t2ec', 'dj9tsgd', 'dj9u1e0', 'dj9u9hm', 'dj9ugg7', 'dj9uipe', 'dj9unt8', 'dj9v7w1', 'dj9v8um', 'dj9vcky', 'dj9viry', 'dj9wapu', 'dj9wmyd', 'dj9wyj8', 'dj9wzqp', 'dj9x1ov', 'dj9x9cc', 'dj9xb75', 'dj9ygb8', 'dja0gtt', 'dja0t8u', 'dja0uia', 'dja2d32', 'dja2jto', 'dja2oru', 'dja2pyn', 'dja4lxw', 'dja4nqr', 'dja5qb2', 'dja6cup', 'dja6jlc', 'dja6m5o', 'dja6tgm', 'dja8yr3', 'dja9947', 'dja9o8s', 'dja9q7x', 'djaa9f9', 'djaac4t', 'djab4k2', 'djab8ap', 'djabjfo', 'djabmoz', 'djado8x', 'djak42v', 'djan8fs', 'djapbgy', 'djapini', 'djarpul', 'djaswak', 'djax7fq', 'djaz9mb', 'djazcy7', 'djb0llp', 'djb0myk', 'djb0p24', 'djb2u6v', 'djb2y6t', 'djbfjfv', 'djcjb1b', 'dji2dvn']\n",
      "\n",
      "crawling comments:  ['dj9xq0p', 'dj9xslk', 'dj9xwti', 'dj9xx93', 'dj9xxyw', 'dj9xyb8', 'dj9xz4k', 'dj9y1ts', 'dj9y513', 'dj9y5tt', 'dj9y7p9', 'dj9y804', 'dj9y86i', 'dj9y9r4', 'dj9yanc', 'dj9yazf', 'dj9ycmv', 'dj9yfix', 'dj9yfx4', 'dj9yh6n', 'dj9yip9', 'dj9yknd', 'dj9yl62', 'dj9ymc1', 'dj9ymo2', 'dj9yr2o', 'dj9yrhp', 'dj9yuvs', 'dj9ywb3', 'dj9z9zj', 'dj9zacu', 'dj9zh0y', 'dj9zh5e', 'dj9zhq9', 'dj9ztn5', 'dj9zuaz', 'dja0670', 'dja0c6r', 'dja0f80', 'dja0nz5', 'dja0ou7', 'dja0w7y', 'dja140e', 'dja1olq', 'dja1qhh', 'dja2gy7', 'dja2nbv', 'dja2r4l', 'dja3b9t', 'dja3gp9', 'dja3t9y', 'dja40cq', 'dja46ps', 'dja4mnt', 'dja5brt', 'dja7mna', 'dja84r0', 'djad6cd', 'djaewv4', 'djaf0v4', 'djaf9sb', 'djay24l', 'djb1swb', 'djb1xvu', 'djb32fa', 'djbghd9']\n",
      "\n",
      "crawling comments:  ['djcf9ud', 'djcfctw', 'djcffll', 'djcfs3a', 'djcg218', 'djcg2kc', 'djcg37m', 'djcgvws', 'djci139', 'djck616', 'djckh0u', 'djckxl0', 'djcl343', 'djcllhp', 'djcph6q', 'djctfw2', 'djcvzgp', 'djd166y', 'djd193o', 'djdc17e', 'djdfr3z', 'djdozoh', 'djdp2cg', 'djlw931', 'djlyjpx', 'djlywuk', 'djlz5y6']\n",
      "\n",
      "crawling comments:  ['djco69h', 'djcpee6', 'djcqpic', 'djcqsyx', 'djcvf80', 'djcx30a', 'djd1ckk', 'djd1qlx', 'djd6cnm', 'djd7z2o', 'djd956n', 'djdltsd', 'djdmue0']\n",
      "\n",
      "crawling comments:  ['djellhk', 'djelsl1', 'djeqvic', 'djetjhn', 'djf256b', 'djf2bbc', 'djf2bz5', 'djf57dh', 'djf5aj4', 'djf5crd', 'djf5qgm', 'djf5vmz', 'djf70pg', 'djf8w5k', 'djfaxg5', 'djfbu6s', 'djfc2c4', 'djfcack', 'djfcfnn', 'djfchj6', 'djfcl49', 'djfctr0', 'djfd575', 'djfdcje', 'djff8ah', 'djfkufh', 'djfkyva', 'djfl9es', 'djfpq0b', 'djfyjkv', 'djfykzb']\n",
      "\n",
      "crawling comments:  ['djgo6b1', 'djgqhb9', 'djhjeg6', 'dji9irw', 'djidn09', 'djidnck', 'djmey4r']\n",
      "\n",
      "crawling comments:  ['dj8u3a5', 'dj8yxrp', 'dj8zff2', 'dj8zini', 'dj8zlvr', 'dj908qz', 'dj90q96', 'dj93y2b', 'dj94am7', 'dj95j6y', 'dj95pl3', 'dj95tr1', 'dj95z7u', 'dj960ga', 'dj967yi', 'dj9796i', 'dj97d0j', 'dj97oe2', 'dj982g2', 'dj9856m', 'dj98r5u', 'dj98x2o', 'dj99je8', 'dj9a4lj', 'dj9bw1s', 'dj9h968', 'dj9jlc7', 'dj9jrky', 'dj9kjy0', 'dj9l482', 'dj9m3hr', 'dj9mczm', 'dj9mgwr', 'dj9n7l4', 'dj9nqu4', 'dj9nujc', 'dj9nxef', 'dj9o0zz', 'dj9o5wm', 'dj9o5wq', 'dj9o82k', 'dj9oh1w', 'dj9rn5r', 'dj9s2a3', 'dj9t5vr', 'dj9t80z', 'dj9u2bz', 'dj9uu8v', 'dj9uwqr', 'dj9v46g', 'dj9v865', 'dja9fav', 'djayczi', 'djb17r3', 'djb2bjx', 'djb9moj', 'djbagcr', 'djbc1zt']\n",
      "\n",
      "length of proposal_comments_text_list:  607\n"
     ]
    }
   ],
   "source": [
    "proposal_comments_text_list = get_comment_text_list(proposal_submission_id_list)\n",
    "print('length of proposal_comments_text_list: ', len(proposal_comments_text_list))"
   ]
  },
  {
   "cell_type": "markdown",
   "metadata": {},
   "source": [
    "### approval comments"
   ]
  },
  {
   "cell_type": "code",
   "execution_count": 37,
   "metadata": {
    "scrolled": true
   },
   "outputs": [
    {
     "name": "stdout",
     "output_type": "stream",
     "text": [
      "crawling comments:  ['dzy26no', 'dzyamo7', 'dzzpj2w', 'dzzpop3']\n",
      "\n",
      "crawling comments:  ['dzxuj5h', 'dzxv5i8', 'dzxvqg4', 'dzxvwu0', 'dzxx5m5', 'dzy01p9', 'dzy4iut', 'dzy6jmi', 'dzy7bte', 'dzy8qtl', 'dzyh6i2', 'dzz3sdj', 'dzz3uku', 'dzzs0wk', 'e0131zc']\n",
      "\n",
      "crawling comments:  ['e0365d8', 'e03adg2', 'e03ggha', 'e03gk9r', 'e03qc6q', 'e03sl6n', 'e03uiiw', 'e03vzs9', 'e04239z', 'e044tty', 'e04950p', 'e04dru2', 'e04fvgx', 'e04ikvc', 'e055psf', 'e05cpou', 'e05dntq']\n",
      "\n",
      "crawling comments:  ['e077rff', 'e078dzp', 'e079woy', 'e07b8cc', 'e07bphz', 'e07bsxg', 'e07domf', 'e07du5w', 'e07eezm', 'e07ek5w', 'e07ekim', 'e07gnoi', 'e07iajc', 'e07k4dv', 'e07kkfd', 'e07m6sd', 'e07mmjo', 'e07nuvk', 'e07oq27', 'e07oui4', 'e07p6ay', 'e07pomg', 'e07qj9p', 'e07rshg', 'e07tnpd', 'e07tp5q', 'e07vfvw', 'e07vog8', 'e08280c', 'e082b3m', 'e082tnp', 'e083428', 'e085yc8', 'e0884rs', 'e088933', 'e088nl8', 'e08bnzt', 'e08hdva', 'e08l0zc', 'e08nh2j', 'e08ol7o', 'e08qjef', 'e08qxv8', 'e08tztc', 'e08xi3r', 'e08zdpm', 'e08zkfo', 'e0903u0', 'e090nuy', 'e09in5j', 'e09kt4a', 'e09l5yp', 'e09l8do', 'e09lbte', 'e09lfoq', 'e09lkas', 'e09lmp9', 'e09lnz0', 'e09lqb8', 'e09zy4d', 'e0a7eop', 'e0atba3', 'e0atifj', 'e0atmor', 'e0c993s', 'e0c9mec', 'e0cjl7w', 'e0d8qn5', 'e0d8ukx', 'e0d8w0d', 'e0d9211', 'e0d98ok']\n",
      "\n",
      "crawling comments:  ['e0fgtj0', 'e0frthe', 'e0fx4fs', 'e0g5vmk', 'e0garxv', 'e0gauqg', 'e0gb9id', 'e0glpvf', 'e0go88r', 'e0goe0n']\n",
      "\n",
      "crawling comments:  ['e0mlf4x', 'e0mlk3w', 'e0mlqya', 'e0mm1t4', 'e0mm1un', 'e0mmx8j', 'e0mq6bh', 'e0mqefr', 'e0mragi', 'e0ms605', 'e0msuqu', 'e0muvjw', 'e0mvkua', 'e0mwv9n', 'e0my3ot', 'e0n3w8y', 'e0n7g3h', 'e0n8qb0', 'e0n8uj3', 'e0nm7uk', 'e0ntiik', 'e0odmoy', 'e0ojvi4']\n",
      "\n",
      "crawling comments:  ['e0ne50s', 'e0nebaf', 'e0neczf', 'e0nefzp', 'e0ng6co', 'e0ngfff', 'e0ngrt7', 'e0nguxy', 'e0ngwav', 'e0ngynz', 'e0nj6b8', 'e0nm2qv', 'e0nsb7a', 'e0o4vjb']\n",
      "\n",
      "crawling comments:  ['e0sb82k', 'e0sb9e7', 'e0sbe3n', 'e0sbu91', 'e0sbye7', 'e0sdi2o', 'e0sdwyh', 'e0se27t', 'e0se7io', 'e0seed4', 'e0sevtl', 'e0seya5', 'e0sfhg0', 'e0sfjkg', 'e0sg8rn', 'e0sglkf', 'e0sgou3', 'e0sh92i', 'e0shfm0', 'e0shfzw', 'e0shv1r', 'e0sif97', 'e0sin41', 'e0skvur', 'e0snuo2', 'e0sqxhk', 'e0srixm', 'e0ss7jx', 'e0suort', 'e0suzq6', 'e0svhah', 'e0sw8hu', 'e0swcnu', 'e0swpd9', 'e0sy7zr', 'e0t52yl', 'e0t7vh7', 'e0t8c8n', 'e0t8cxx', 'e0t9kss', 'e0ta8rl', 'e0tapcs', 'e0tarkk', 'e0tckym', 'e0thahu', 'e0thhfy', 'e0thn7a', 'e0tm82p', 'e0tq3lb', 'e0tqabb', 'e0ts63m', 'e0tsxfn', 'e0ttprn', 'e0tvxtt', 'e0tzs8u', 'e0ue4rw', 'e0ulprz', 'e0vb9jr', 'e0ve9fa', 'e0vno0t', 'e0w96jq', 'e0xivsi', 'e0xm3dr', 'e0xydw8', 'e0yn0sm', 'e0zm6g2', 'e0zs0e8', 'e104k0p', 'e10bzt2', 'e10w5xn', 'e10ykd9', 'e11s57a', 'e13d9ok']\n",
      "\n",
      "crawling comments:  ['e1gwefo', 'e1gwnkx', 'e1gwtic', 'e1gwypg', 'e1h5nzb', 'e1hayzv', 'e1hb9xo', 'e1hij7p']\n",
      "\n",
      "crawling comments:  ['e01w1dt', 'e027icc', 'e02ec9k', 'e02f6dl', 'e02ma5i', 'e0312ym', 'e03dkns']\n",
      "\n",
      "crawling comments:  ['e07amzg', 'e07b94u', 'e07cxi7', 'e07d8oy', 'e07dhwl', 'e07drfl', 'e07e52d', 'e07edk9', 'e07ees6', 'e07elcg', 'e07eprq', 'e07ex33', 'e07f2rk', 'e07fgx8', 'e07fypu', 'e07fysd', 'e07g3ts', 'e07g41x', 'e07g5nv', 'e07g7u8', 'e07gd55', 'e07getm', 'e07gjoy', 'e07gzrd', 'e07h1f8', 'e07h6qy', 'e07h8v6', 'e07h9ue', 'e07hf92', 'e07ici8', 'e07iuzj', 'e07j04x', 'e07j3y6', 'e07j4m7', 'e07j4xs', 'e07j5sf', 'e07j6sj', 'e07jajr', 'e07jalp', 'e07jbjt', 'e07jbof', 'e07jdff', 'e07jfvf', 'e07jiub', 'e07jjyp', 'e07jmpc', 'e07jnhw', 'e07jpka', 'e07jqd5', 'e07jqlt', 'e07jvmr', 'e07jyjx', 'e07k48s', 'e07k79j', 'e07k85x', 'e07kb10', 'e07kb7d', 'e07kcmv', 'e07kht1', 'e07ki7k', 'e07kisy', 'e07kmgk', 'e07kpw6', 'e07ksix', 'e07l5k8', 'e07l9kk', 'e07lblj', 'e07lha9', 'e07lmmx', 'e07lr9y', 'e07ly9o', 'e07lze8', 'e07m5k7', 'e07m5la', 'e07m7ul', 'e07m8ju', 'e07mydx', 'e07mzpm', 'e07n0pm', 'e07n1pg', 'e07n1tj', 'e07n2a1', 'e07nce0', 'e07nenn', 'e07nh89', 'e07ni5b', 'e07njrc', 'e07nm8n', 'e07nnhp', 'e07nqu4', 'e07nzlo', 'e07o0tv', 'e07o6om', 'e07ob68', 'e07ocdd', 'e07ochs', 'e07ofa1', 'e07ofvd', 'e07ogng', 'e07okqz', 'e07oyv0', 'e07p08f', 'e07pais', 'e07peab', 'e07phk3', 'e07pm9z', 'e07pmey', 'e07pofg', 'e07q2am', 'e07q5gm', 'e07q87q', 'e07qa8a', 'e07qasa', 'e07qciy', 'e07qg7r', 'e07qj3o', 'e07qms1', 'e07qoom', 'e07qs3m', 'e07qt4n', 'e07qtwf', 'e07qvup', 'e07qyve', 'e07r4zm', 'e07r6np', 'e07r7ng', 'e07rbeb', 'e07rc20', 'e07rc8i', 'e07rfxp', 'e07rheg', 'e07rjyd', 'e07rnn1', 'e07rsfd', 'e07rtb4', 'e07rvve', 'e07rxcq', 'e07s4i2', 'e07scqo', 'e07si71', 'e07siy1', 'e07sp4p', 'e07sqhs', 'e07szbw', 'e07t0kw', 'e07t3pc', 'e07t4tk', 'e07t72o', 'e07t86v', 'e07t8g7', 'e07t8k4', 'e07t8y1', 'e07td8s', 'e07td96', 'e07tdmo', 'e07tgun', 'e07tok1', 'e07tp0f', 'e07tqfx', 'e07tqyg', 'e07tw9z', 'e07twhj', 'e07u3bn', 'e07u5ti', 'e07uby6', 'e07ufsz', 'e07ukx7', 'e07ul8i', 'e07us4g', 'e07uxaa', 'e07uzyn', 'e07v066', 'e07v0be', 'e07v367', 'e07v3i7', 'e07v9fp', 'e07vafo', 'e07vow0', 'e07vtou', 'e07vtug', 'e07vuys', 'e07w5cr', 'e07w8y4', 'e07wglk', 'e07wo48', 'e07wpt7', 'e07wqwp', 'e07wzbc', 'e07x4yf', 'e07x6dz', 'e07x6of', 'e07x7mk', 'e07x958', 'e07xcf2', 'e07xdjy', 'e07xf3v', 'e07xha5', 'e07xk2i', 'e07xk5g', 'e07xmic', 'e07xsvq', 'e07y860', 'e07yskt', 'e07z3eq', 'e07z5ru', 'e07z6hq', 'e07zb3i', 'e07zfl9', 'e07zrk0', 'e07zvai', 'e07zwhr', 'e07zy60', 'e0803gl', 'e0805vy', 'e0806ua', 'e0809o1', 'e080ap8', 'e080bqo', 'e080drn', 'e080sva', 'e080ynk', 'e0812br', 'e08236q', 'e082bb2', 'e082g27', 'e082hik', 'e082izp', 'e0831yi', 'e08361l', 'e083h23', 'e083kxr', 'e083mi5', 'e083v8x', 'e084dtd', 'e084k1y', 'e084lec', 'e084xuu', 'e0852rm', 'e085g44', 'e085t9q', 'e08629v', 'e086j64', 'e087tg0', 'e0888e4', 'e08892l', 'e0895pv', 'e0896vr', 'e089ctv', 'e089i1m', 'e08a4gp', 'e08a4tj', 'e08asao', 'e08aycg', 'e08b04m', 'e08b5zf', 'e08bfhq', 'e08blbr', 'e08blc7', 'e08bzt9', 'e08c2di', 'e08c53s', 'e08cffy', 'e08cgpz', 'e08cnhv', 'e08ct9d', 'e08d7x7', 'e08d97d', 'e08po0q', 'e08ppo2']\n",
      "\n",
      "crawling comments:  ['e07d28s', 'e07e7d9', 'e07fgfh', 'e07g9ku', 'e07iops', 'e07iud9', 'e07khtg', 'e07kqnp', 'e07l91f', 'e07prwb', 'e07rnux', 'e07svlh', 'e07ysud', 'e082jzr', 'e0855vf', 'e08ehqo', 'e08eqzh', 'e08f4zf', 'e08j31n', 'e08m6z7', 'e091jcg', 'e093uvj', 'e0942i0', 'e097su4', 'e0aec5j', 'e0ak1cf']\n",
      "\n",
      "crawling comments:  ['e0dzo6t', 'e0dzt4k', 'e0dzthj', 'e0dzwoe', 'e0dzywo', 'e0e00vk', 'e0e02pa', 'e0e0aez', 'e0e0n9q', 'e0e1e0r', 'e0e211g', 'e0e2ued', 'e0e2wzj', 'e0e2x1r', 'e0e2xrq', 'e0e30u0', 'e0e31op', 'e0e3s8a', 'e0e4r3a', 'e0e6po3', 'e0e7htj', 'e0ec63u', 'e0ef3jf', 'e0efpy4', 'e0egbn1', 'e0ejl5c', 'e0ekpz5', 'e0euuyo', 'e0ev4a4', 'e0evj86', 'e0evset', 'e0f8ihs', 'e0fcrns', 'e0feh80', 'e0fo2ic', 'e0foddw', 'e0ghmsu', 'e0i5rhi', 'e0i5xvb']\n",
      "\n",
      "length of approval_comments_text_list:  577\n"
     ]
    }
   ],
   "source": [
    "approval_comments_text_list = get_comment_text_list(approval_submission_id_list)\n",
    "print('length of approval_comments_text_list: ', len(approval_comments_text_list))"
   ]
  },
  {
   "cell_type": "markdown",
   "metadata": {},
   "source": [
    "### enforcement comments"
   ]
  },
  {
   "cell_type": "code",
   "execution_count": 42,
   "metadata": {
    "scrolled": true
   },
   "outputs": [
    {
     "name": "stdout",
     "output_type": "stream",
     "text": [
      "crawling comments:  ['ed35tg2']\n",
      "\n",
      "crawling comments:  ['edy5q2c', 'edy6t4w', 'edy94ps', 'edy9ji4', 'edyabrx', 'edyek0g', 'edyk0ws', 'edykek5', 'edykfls', 'edyo7lv', 'edyu58t', 'edyu5m7', 'edz24w0', 'edz3ixm', 'edze42h', 'edze46z', 'edzebrs', 'edzesci', 'edzfrft', 'edzt8i5', 'edzvsff', 'edzwnhd', 'edzxlhf', 'ee058ft', 'ee1t1w5', 'ee2jwv1', 'ee2zh17']\n",
      "\n",
      "crawling comments:  ['ee3kzku', 'ee3l815', 'ee3l8wv', 'ee3np66', 'ee42vut', 'ee5ks2t', 'ef3xlh3']\n",
      "\n",
      "crawling comments:  ['eefp0ka', 'eeg44wq', 'eegfikz', 'eego6hp', 'eehc7e4', 'eehv7wr', 'eehvfc3', 'eehvorj', 'eei2kck', 'eeitp1m', 'eejy19b']\n",
      "\n",
      "crawling comments:  ['eem3rwq', 'eem3s5o', 'eem3ulq', 'eem3yd0', 'eem52g6', 'eem5nys', 'eem87ek', 'eemb4ap', 'eembbti', 'eemczjf', 'eemgi5k', 'eemiwmp', 'eemn1qh', 'eemnw63', 'eemqdwk', 'eemr4il', 'eemwi53', 'eemxixc', 'eemzlj4', 'eemzp0y', 'eemzrg7', 'een0sbi', 'een6oez', 'een6ohw', 'een6s35', 'een7boc', 'eengxv5', 'eenjz05', 'eenkqvq', 'eenkzfg', 'eenv4vh', 'eenwi0h', 'eeo3k2m', 'eeo3o3r', 'eeo3rbb', 'eeo3rlc', 'eeo5b27', 'eeo5pux', 'eeo5qt6']\n",
      "\n",
      "crawling comments:  ['eemzile', 'een646l', 'eeohu62', 'eepjj1y']\n",
      "\n",
      "crawling comments:  ['ef9hgy1', 'ef9iize', 'ef9p8w0', 'ef9pc9k', 'ef9tjlk', 'efa0fue', 'efa11mc', 'efacu8s', 'efajqix', 'efamub2', 'efank7t', 'efao9cp', 'efapjtp', 'efaq1dt', 'efayib9', 'efhzygp']\n",
      "\n",
      "crawling comments:  ['efb83hk', 'efbeuqc', 'efbgn8d', 'efc41ou', 'efebw5x']\n",
      "\n",
      "length of enforcement_comments_text_list_01:  110\n"
     ]
    }
   ],
   "source": [
    "enforcement_comments_text_list_01 = get_comment_text_list(enforcement_submission_id_list_01)\n",
    "print('length of enforcement_comments_text_list_01: ', len(enforcement_comments_text_list_01))"
   ]
  },
  {
   "cell_type": "markdown",
   "metadata": {},
   "source": [
    "### Empath"
   ]
  },
  {
   "cell_type": "code",
   "execution_count": 69,
   "metadata": {},
   "outputs": [],
   "source": [
    "empath_lexicon = Empath()\n",
    "proposal_empath_result = empath_lexicon.analyze(proposal_comments_text_list, normalize=False)\n",
    "approval_empath_result = empath_lexicon.analyze(approval_comments_text_list, normalize=False)\n",
    "enforcement_empath_result_01 = empath_lexicon.analyze(enforcement_comments_text_list_01, normalize=False)\n",
    "\n",
    "# sort\n",
    "proposal_empath_result = sorted(proposal_empath_result.items(), key=lambda d: d[1], reverse=True)\n",
    "approval_empath_result = sorted(approval_empath_result.items(), key=lambda d: d[1], reverse=True)\n",
    "enforcement_empath_result_01 = sorted(enforcement_empath_result_01.items(), key=lambda d: d[1], reverse=True)"
   ]
  },
  {
   "cell_type": "code",
   "execution_count": 74,
   "metadata": {},
   "outputs": [
    {
     "data": {
      "text/plain": [
       "[('eating', 237.0),\n",
       " ('negative_emotion', 226.0),\n",
       " ('smell', 219.0),\n",
       " ('communication', 217.0),\n",
       " ('speaking', 191.0),\n",
       " ('business', 190.0),\n",
       " ('economics', 171.0),\n",
       " ('shopping', 168.0),\n",
       " ('liquid', 129.0),\n",
       " ('internet', 122.0),\n",
       " ('real_estate', 119.0),\n",
       " ('alcohol', 119.0),\n",
       " ('money', 118.0),\n",
       " ('positive_emotion', 112.0),\n",
       " ('children', 105.0),\n",
       " ('giving', 97.0),\n",
       " ('valuable', 96.0),\n",
       " ('work', 94.0),\n",
       " ('trust', 93.0),\n",
       " ('violence', 91.0)]"
      ]
     },
     "execution_count": 74,
     "metadata": {},
     "output_type": "execute_result"
    }
   ],
   "source": [
    "proposal_empath_result[:20]"
   ]
  },
  {
   "cell_type": "code",
   "execution_count": 75,
   "metadata": {},
   "outputs": [
    {
     "data": {
      "text/plain": [
       "[('negative_emotion', 196.0),\n",
       " ('communication', 148.0),\n",
       " ('business', 139.0),\n",
       " ('economics', 133.0),\n",
       " ('speaking', 131.0),\n",
       " ('smell', 126.0),\n",
       " ('shopping', 119.0),\n",
       " ('eating', 107.0),\n",
       " ('law', 101.0),\n",
       " ('money', 97.0),\n",
       " ('government', 91.0),\n",
       " ('real_estate', 91.0),\n",
       " ('positive_emotion', 88.0),\n",
       " ('dispute', 84.0),\n",
       " ('giving', 84.0),\n",
       " ('valuable', 83.0),\n",
       " ('shape_and_size', 77.0),\n",
       " ('strength', 73.0),\n",
       " ('liquid', 72.0),\n",
       " ('fight', 70.0)]"
      ]
     },
     "execution_count": 75,
     "metadata": {},
     "output_type": "execute_result"
    }
   ],
   "source": [
    "approval_empath_result[:20]"
   ]
  },
  {
   "cell_type": "code",
   "execution_count": 76,
   "metadata": {},
   "outputs": [
    {
     "data": {
      "text/plain": [
       "[('negative_emotion', 47.0),\n",
       " ('money', 32.0),\n",
       " ('speaking', 31.0),\n",
       " ('business', 30.0),\n",
       " ('communication', 29.0),\n",
       " ('economics', 28.0),\n",
       " ('shopping', 26.0),\n",
       " ('smell', 26.0),\n",
       " ('valuable', 25.0),\n",
       " ('youth', 25.0),\n",
       " ('payment', 25.0),\n",
       " ('children', 24.0),\n",
       " ('law', 23.0),\n",
       " ('real_estate', 20.0),\n",
       " ('violence', 20.0),\n",
       " ('giving', 19.0),\n",
       " ('positive_emotion', 19.0),\n",
       " ('government', 18.0),\n",
       " ('healing', 17.0),\n",
       " ('liquid', 17.0)]"
      ]
     },
     "execution_count": 76,
     "metadata": {},
     "output_type": "execute_result"
    }
   ],
   "source": [
    "enforcement_empath_result_01[:20]"
   ]
  },
  {
   "cell_type": "markdown",
   "metadata": {},
   "source": [
    "### liwc-analysis: this package is erroneous"
   ]
  },
  {
   "cell_type": "code",
   "execution_count": 58,
   "metadata": {},
   "outputs": [],
   "source": [
    "# LIWCLocation = \"/mnt/volume-second-5T/data/liwc_dictionary/LIWC2015_English.dic\"\n",
    "# LIWC = liwcanalysis.liwc(LIWCLocation)"
   ]
  },
  {
   "cell_type": "markdown",
   "metadata": {},
   "source": [
    "### liwc-python"
   ]
  },
  {
   "cell_type": "code",
   "execution_count": 59,
   "metadata": {},
   "outputs": [
    {
     "data": {
      "text/plain": [
       "['function (Function Words)',\n",
       " 'pronoun (Pronouns)',\n",
       " 'ppron (Personal Pronouns)',\n",
       " 'i (I)',\n",
       " 'we (We)',\n",
       " 'you (You)',\n",
       " 'shehe (SheHe)',\n",
       " 'they (They)',\n",
       " 'ipron (Impersonal Pronouns)',\n",
       " 'article (Articles)']"
      ]
     },
     "execution_count": 59,
     "metadata": {},
     "output_type": "execute_result"
    }
   ],
   "source": [
    "def tokenize(text):\n",
    "    # you may want to use a smarter tokenizer\n",
    "    for match in re.finditer(r'\\w+', text, re.UNICODE):\n",
    "        yield match.group(0)\n",
    "        \n",
    "parse, category_names = liwc.load_token_parser('/mnt/volume-second-5T/data/LIWC2015_English.dic')\n",
    "# parse, category_names = liwc.load_token_parser('/mnt/volume-second-5T/data/LIWC2007_English100131.dic')\n",
    "category_names[:10]"
   ]
  },
  {
   "cell_type": "code",
   "execution_count": null,
   "metadata": {},
   "outputs": [],
   "source": [
    "for comment in proposal_comments_text_list:\n",
    "    "
   ]
  },
  {
   "cell_type": "code",
   "execution_count": 61,
   "metadata": {},
   "outputs": [
    {
     "name": "stdout",
     "output_type": "stream",
     "text": [
      "Counter({'function (Function Words)': 49, 'verb (Verbs)': 17, 'relativ (Relativity)': 16, 'pronoun (Pronouns)': 15, 'drives (Drives)': 11, 'ipron (Impersonal Pronouns)': 11, 'social (Social)': 10, 'prep (Prepositions)': 10, 'space (Space)': 10, 'focuspresent (Present Focus)': 10, 'conj (Conjunctions)': 9, 'auxverb (Auxiliary Verbs)': 9, 'adj (Adjectives)': 8, 'affect (Affect)': 8, 'cogproc (Cognitive Processes)': 8, 'article (Articles)': 6, 'focuspast (Past Focus)': 5, 'posemo (Positive Emotions)': 5, 'time (Time)': 4, 'ppron (Personal Pronouns)': 4, 'affiliation (Affiliation)': 4, 'reward (Reward)': 3, 'we (We)': 3, 'quant (Quantifiers)': 3, 'negemo (Negative Emotions)': 3, 'anger (Anger)': 3, 'power (Power)': 3, 'tentat (Tentative)': 3, 'adverb (Adverbs)': 3, 'male (Male)': 2, 'motion (Motion)': 2, 'certain (Certainty)': 2, 'compare (Comparisons)': 2, 'death (Death)': 2, 'interrog (Interrogatives)': 2, 'differ (Differentiation)': 2, 'bio (Biological Processes)': 2, 'health (Health)': 2, 'number (Numbers)': 1, 'family (Family)': 1, 'cause (Causal)': 1, 'achieve (Achievement)': 1, 'work (Work)': 1, 'leisure (Leisure)': 1, 'they (They)': 1, 'focusfuture (Future Focus)': 1, 'discrep (Discrepancies)': 1})\n"
     ]
    }
   ],
   "source": [
    "gettysburg = '''Four score and seven years ago our fathers brought forth on\n",
    "  this continent a new nation, conceived in liberty, and dedicated to the\n",
    "  proposition that all men are created equal. Now we are engaged in a great\n",
    "  civil war, testing whether that nation, or any nation so conceived and so\n",
    "  dedicated, can long endure. We are met on a great battlefield of that war.\n",
    "  We have come to dedicate a portion of that field, as a final resting place\n",
    "  for those who here gave their lives that that nation might live. It is\n",
    "  altogether fitting and proper that we should do this.'''\n",
    "gettysburg_tokens = tokenize(gettysburg)\n",
    "# now flatmap over all the categories in all of the tokens using a generator:\n",
    "gettysburg_counts = Counter(category for token in gettysburg_tokens for category in parse(token))\n",
    "# and print the results:\n",
    "print(gettysburg_counts)"
   ]
  },
  {
   "cell_type": "code",
   "execution_count": null,
   "metadata": {},
   "outputs": [],
   "source": []
  }
 ],
 "metadata": {
  "kernelspec": {
   "display_name": "Python 3",
   "language": "python",
   "name": "python3"
  },
  "language_info": {
   "codemirror_mode": {
    "name": "ipython",
    "version": 3
   },
   "file_extension": ".py",
   "mimetype": "text/x-python",
   "name": "python",
   "nbconvert_exporter": "python",
   "pygments_lexer": "ipython3",
   "version": "3.7.3"
  }
 },
 "nbformat": 4,
 "nbformat_minor": 2
}
