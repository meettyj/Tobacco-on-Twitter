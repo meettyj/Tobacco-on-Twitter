{
 "cells": [
  {
   "cell_type": "code",
   "execution_count": 67,
   "metadata": {},
   "outputs": [],
   "source": [
    "import pandas as pd\n",
    "import requests\n",
    "import json\n",
    "import csv\n",
    "import time\n",
    "import datetime\n",
    "from datetime import date"
   ]
  },
  {
   "cell_type": "code",
   "execution_count": 68,
   "metadata": {},
   "outputs": [],
   "source": [
    "def getPushshiftData(query, after, before, sub):\n",
    "    url = 'https://api.pushshift.io/reddit/search/submission/?title='+\\\n",
    "          str(query)+'&size=1000&after='+str(after)+'&before='+str(before)+'&subreddit='+str(sub)\n",
    "#     url = 'https://api.pushshift.io/reddit/search/submission/?title='+\\\n",
    "#           str(query)+'&size=1000'+'&subreddit='+str(sub)\n",
    "    print(url)\n",
    "    r = requests.get(url)\n",
    "    print(r)\n",
    "    data = json.loads(r.text)\n",
    "    return data['data']"
   ]
  },
  {
   "cell_type": "code",
   "execution_count": 69,
   "metadata": {},
   "outputs": [
    {
     "name": "stdout",
     "output_type": "stream",
     "text": [
      "after_start_seconds:  1514764800.0\n",
      "before_end_seconds:  1538352000.0\n"
     ]
    }
   ],
   "source": [
    "# date\n",
    "after_start_date = date.fromisoformat('2018-01-01')\n",
    "before_end_date = date.fromisoformat('2018-10-01')\n",
    "after_start_seconds = (after_start_date -  date.fromisoformat('1970-01-01')).total_seconds()\n",
    "before_end_seconds = (before_end_date -  date.fromisoformat('1970-01-01')).total_seconds()\n",
    "\n",
    "print('after_start_seconds: ', after_start_seconds)\n",
    "print('before_end_seconds: ', before_end_seconds)\n"
   ]
  },
  {
   "cell_type": "code",
   "execution_count": 70,
   "metadata": {},
   "outputs": [],
   "source": [
    "def collectSubData(subm):\n",
    "    subData = list() #list to store data points\n",
    "    title = subm['title']\n",
    "    url = subm['url']\n",
    "    try:\n",
    "        flair = subm['link_flair_text']\n",
    "    except KeyError:\n",
    "        flair = \"NaN\"    \n",
    "    author = subm['author']\n",
    "    sub_id = subm['id']\n",
    "    score = subm['score']\n",
    "    created = datetime.datetime.fromtimestamp(subm['created_utc']) #1520561700.0\n",
    "    numComms = subm['num_comments']\n",
    "    permalink = subm['permalink']\n",
    "    \n",
    "    subData.append((sub_id,title,url,author,score,created,numComms,permalink,flair))\n",
    "    subStats[sub_id] = subData"
   ]
  },
  {
   "cell_type": "code",
   "execution_count": 71,
   "metadata": {},
   "outputs": [
    {
     "name": "stdout",
     "output_type": "stream",
     "text": [
      "https://api.pushshift.io/reddit/search/submission/?title=&size=1000&after=1514764800&before=1538352000&subreddit=electronic_cigarette\n",
      "<Response [200]>\n",
      "1000\n",
      "2018-01-09 16:18:13\n",
      "https://api.pushshift.io/reddit/search/submission/?title=&size=1000&after=1515514693&before=1538352000&subreddit=electronic_cigarette\n",
      "<Response [200]>\n",
      "1000\n"
     ]
    }
   ],
   "source": [
    "query = \"\"\n",
    "sub = \"electronic_cigarette\"\n",
    "after = str(after_start_seconds).split('.')[0]\n",
    "before = str(before_end_seconds).split('.')[0]\n",
    "\n",
    "\n",
    "subCount = 0\n",
    "subStats = {}\n",
    "\n",
    "data = getPushshiftData(query, after, before, sub)\n",
    "# Will run until all posts have been gathered \n",
    "# from the 'after' date up until before date\n",
    "while len(data) > 0:\n",
    "    for submission in data:\n",
    "        collectSubData(submission)\n",
    "        subCount+=1\n",
    "    # Calls getPushshiftData() with the created date of the last submission\n",
    "    print(len(data))\n",
    "    print(str(datetime.datetime.fromtimestamp(data[-1]['created_utc'])))\n",
    "    after = data[-1]['created_utc']\n",
    "    data = getPushshiftData(query, after, before, sub)\n",
    "    break\n",
    "    \n",
    "print(len(data))"
   ]
  },
  {
   "cell_type": "code",
   "execution_count": 72,
   "metadata": {},
   "outputs": [
    {
     "data": {
      "text/plain": [
       "dict_keys(['7nbz39', '7nc1ya', '7nc2or', '7nc2q8', '7nc53a', '7nc8an', '7nc91b', '7nckk3', '7ncmbu', '7ncnku', '7ncnzl', '7nctgp', '7ncut4', '7ncvkz', '7ncvrw', '7ncyis', '7nd5fs', '7nd9q2', '7ndapu', '7ndhcs', '7ndhs3', '7ndinb', '7ndl4w', '7ndp28', '7ndu7n', '7ndxpc', '7ndy5r', '7ndzyy', '7ne5hc', '7ne6xd', '7ne8ip', '7nedo6', '7nefxs', '7neg89', '7nehp0', '7nei30', '7nejt1', '7neozg', '7nery4', '7nevrg', '7nex6v', '7nezto', '7nezuk', '7nf1vv', '7nf1yn', '7nf9ka', '7nfa76', '7nfadn', '7nfd9w', '7nfdrt', '7nff7v', '7nfg3j', '7nfgqd', '7nfheh', '7nfiwt', '7nfkvp', '7nfkwu', '7nfw0o', '7ng032', '7ng1h4', '7ng4k4', '7ngn3m', '7ngol4', '7ngral', '7ngvq9', '7nh0dh', '7nh2n7', '7nh4cq', '7nh4ql', '7nh5wm', '7nh6jy', '7nh71k', '7nh77i', '7nh9b5', '7nhb3h', '7nhgke', '7nhi3i', '7nhizn', '7nhjn8', '7nhkny', '7nhn9g', '7nht6w', '7nhtgu', '7nhvh4', '7nhvnn', '7nhx0k', '7ni1x6', '7ni4a4', '7ni6k5', '7ni6kn', '7ni8q7', '7ni9wg', '7nie2s', '7nigrh', '7nil34', '7niljs', '7niswi', '7niul2', '7niyag', '7nj21p', '7nj27w', '7nj4b2', '7nj6gb', '7nj7c1', '7nj7pc', '7nj9fm', '7njb5b', '7njbv8', '7njglc', '7njhds', '7njig7', '7njkc0', '7njks4', '7njn1b', '7njpna', '7nju2j', '7nju7h', '7njx3r', '7nk2fs', '7nk2ia', '7nk3k0', '7nk5dp', '7nk9u4', '7nkbrb', '7nkct8', '7nkctr', '7nkemt', '7nkfgp', '7nkhwk', '7nklz2', '7nkph8', '7nkwlt', '7nkyns', '7nkzyn', '7nl02e', '7nl3lx', '7nl4ql', '7nl500', '7nl9b1', '7nl9qs', '7nlb0f', '7nlc1o', '7nljb1', '7nll1z', '7nllin', '7nlm8b', '7nlpqt', '7nlpux', '7nlq1s', '7nlt4v', '7nluo0', '7nm9oj', '7nmc0f', '7nmdx2', '7nmesa', '7nmgwm', '7nmgxq', '7nmn7y', '7nmur7', '7nmzcv', '7nn1u9', '7nn3eu', '7nn3zk', '7nnac2', '7nnbvs', '7nne9p', '7nnfao', '7nngp3', '7nnkqg', '7nnli6', '7nnm37', '7nnngx', '7nno1f', '7nnox1', '7nnp2h', '7nnrki', '7nnsfv', '7no0nv', '7no43m', '7no52e', '7no6rp', '7no710', '7no9gn', '7nob2z', '7noepu', '7noevv', '7nog6t', '7nojfz', '7nokgs', '7nolk5', '7nom60', '7norkh', '7nosrr', '7nouw0', '7nox0b', '7noy2m', '7np1uw', '7np99o', '7npbjl', '7npcxt', '7npdwk', '7npe6w', '7npey5', '7nphee', '7npj1m', '7npk7p', '7npldc', '7npmwo', '7npn07', '7npqn2', '7nps1k', '7nq0w9', '7nq44j', '7nq7tw', '7nq8g6', '7nq8od', '7nq8xj', '7nq9gk', '7nqbqy', '7nqgzg', '7nqm0u', '7nqm1x', '7nqmki', '7nqq3u', '7nqtu7', '7nqump', '7nqxye', '7nr20g', '7nr985', '7nrbw7', '7nrepl', '7nri2a', '7nrie9', '7nrlqd', '7nrlqp', '7nrlz7', '7nrmtg', '7nrn14', '7nrn59', '7nrnh3', '7nrs7n', '7nrtrm', '7nru6m', '7nrur9', '7nrvid', '7nrze0', '7ns0xo', '7ns0z1', '7ns1i4', '7ns2du', '7ns40l', '7ns5ih', '7ns5kx', '7ns7cj', '7nsadq', '7nsecp', '7nsj3v', '7nsjn7', '7nsp1x', '7nsts7', '7nsu2k', '7nsuj3', '7nsuk2', '7nt4r1', '7nt4z4', '7nt79b', '7nt83f', '7nt9m3', '7nteer', '7ntft6', '7ntgnv', '7ntk52', '7ntlu9', '7ntph1', '7ntsbj', '7ntsxn', '7nttzi', '7nu2nx', '7nu3j2', '7nu5he', '7nuci5', '7nug1s', '7nuhmt', '7nuibr', '7nuwwb', '7nv4o0', '7nv883', '7nv8n3', '7nvhjg', '7nvna9', '7nvrjt', '7nvv1i', '7nvvce', '7nw0q2', '7nw0wa', '7nw2jw', '7nw2p7', '7nw9px', '7nwcc9', '7nwe2h', '7nwf3b', '7nwke4', '7nwkge', '7nwkxd', '7nwmy7', '7nwmyt', '7nwn4z', '7nwnd2', '7nwpbr', '7nwu70', '7nwvs1', '7nwzpd', '7nx17e', '7nx4kr', '7nx9rk', '7nxaxd', '7nxcdv', '7nxgz2', '7nxh9r', '7nxklv', '7nxpz1', '7nxrb8', '7nxrzt', '7nxs5f', '7nxt6r', '7nxwb8', '7nxy2r', '7nxylh', '7ny3y9', '7ny7qd', '7ny9g8', '7nydc9', '7nydhx', '7nyfsw', '7nyhhq', '7nymxe', '7nyveg', '7nywtk', '7nyzqs', '7nz0rl', '7nz14o', '7nz5b1', '7nz5er', '7nz5yk', '7nz6np', '7nzay5', '7nzbog', '7nzgrp', '7nzjlx', '7nznw4', '7nzq1r', '7nzq6q', '7nzrgf', '7nzsdl', '7nzu63', '7nzxwy', '7nzynz', '7o00sy', '7o01uf', '7o02ug', '7o0358', '7o043k', '7o047m', '7o09u6', '7o0b5l', '7o0c1m', '7o0ca7', '7o0egl', '7o0fbb', '7o0h1g', '7o0ire', '7o0itt', '7o0m6i', '7o0n1q', '7o0oei', '7o0p5e', '7o0qtx', '7o0smi', '7o0smk', '7o0tct', '7o0vmj', '7o0za5', '7o0zpd', '7o105i', '7o111x', '7o11v4', '7o14hr', '7o19tj', '7o1adh', '7o1b15', '7o1cul', '7o1ej4', '7o1h3y', '7o1mgq', '7o1n47', '7o1tjz', '7o1wqo', '7o1yeu', '7o23jn', '7o24j9', '7o266f', '7o2bu0', '7o2byc', '7o2cnn', '7o2h0t', '7o2ljq', '7o2rap', '7o2sfl', '7o2t8h', '7o2u9y', '7o33ri', '7o36ax', '7o36q6', '7o3brv', '7o3d1s', '7o3f0u', '7o3fh9', '7o3nbi', '7o3o1v', '7o3sqh', '7o3thk', '7o3v5n', '7o3xab', '7o406y', '7o44ys', '7o46zx', '7o488o', '7o4ash', '7o4d8a', '7o4n4c', '7o4rbr', '7o4u7o', '7o4uct', '7o4usq', '7o4vle', '7o4y6g', '7o4zs8', '7o5394', '7o5d2r', '7o5d99', '7o5guq', '7o5idw', '7o5ipf', '7o5kp3', '7o5opm', '7o5oqx', '7o5ow7', '7o5s5o', '7o5yh7', '7o619o', '7o64o7', '7o6541', '7o65ur', '7o6ea3', '7o6f1q', '7o6o3p', '7o6pxj', '7o6rhx', '7o6vma', '7o6yof', '7o702g', '7o73fy', '7o78se', '7o7a50', '7o7a9h', '7o7ail', '7o7b62', '7o7j90', '7o7jku', '7o7kk0', '7o7lxe', '7o7m3e', '7o7sbe', '7o7wcp', '7o7xmv', '7o82ly', '7o833k', '7o83t7', '7o88gv', '7o89ld', '7o89ww', '7o8awt', '7o8csj', '7o8d4x', '7o8e02', '7o8k5n', '7o8kk5', '7o8y9q', '7o8yrs', '7o8z65', '7o93dt', '7o96rm', '7o9fea', '7o9ijn', '7o9jpz', '7o9nl2', '7o9u2k', '7o9xtq', '7oa1dj', '7oa7uo', '7oa8wy', '7oa92d', '7oabj4', '7oacl5', '7oae51', '7oatap', '7oavu8', '7ob16d', '7ob2er', '7ob40h', '7obar6', '7obatm', '7obdzt', '7obe8x', '7obkhp', '7obnhe', '7obom6', '7obsfw', '7obt5c', '7obv4q', '7oby3z', '7ocbq4', '7occe9', '7occn3', '7ocft6', '7ociw6', '7ockph', '7ocms4', '7ocpsc', '7ocq4t', '7ocs0c', '7od2qr', '7od5vf', '7odbim', '7odbox', '7odbws', '7odcv2', '7odejo', '7odeuc', '7odl3v', '7odqet', '7odrpq', '7odsga', '7odxlm', '7oe0o2', '7oe2eo', '7oe7x7', '7oe8my', '7oe8w6', '7oebrb', '7oecp1', '7oegvb', '7oejmy', '7oelv8', '7oep1t', '7oewvo', '7of8vc', '7ofbwl', '7ofdf2', '7ofovu', '7ofp0w', '7ofr28', '7ofvgf', '7ofwik', '7og00g', '7og0zf', '7og264', '7og3ft', '7og3tp', '7og4bv', '7og4nm', '7og5xa', '7og9w3', '7oggd4', '7ogggy', '7oggj4', '7ogiii', '7ogl4b', '7ogm8f', '7ognbm', '7ognjm', '7ogo5o', '7ogow9', '7ogsxd', '7ogzb1', '7oh1ee', '7oh7gc', '7oha4l', '7ohcib', '7ohclc', '7ohdck', '7ohf4j', '7ohhe1', '7ohhus', '7ohhw4', '7ohi28', '7ohj8y', '7ohjy0', '7ohkkk', '7ohlqz', '7ohm69', '7ohp24', '7ohpoc', '7ohujw', '7ohupu', '7ohx03', '7ohxyn', '7oi1ym', '7oi303', '7oi48z', '7oi589', '7oi6zg', '7oiarr', '7oictw', '7oieg8', '7oiiij', '7oik8y', '7oikdv', '7oily9', '7oirsv', '7oiuk3', '7oivm6', '7oj20f', '7oj2p6', '7oj4pl', '7ojg5o', '7ojixe', '7ojkkp', '7ojlir', '7ojmnh', '7ojmw0', '7ojpsj', '7ojqbz', '7ojru1', '7ojxnq', '7ojy6q', '7ojyex', '7ojygk', '7ok2ec', '7ok68t', '7ok86v', '7ok9f2', '7okbem', '7okdke', '7okgrz', '7okoct', '7okosl', '7okqlv', '7okqnc', '7okuc3', '7okuwm', '7okvfc', '7ol1ez', '7ol583', '7ol5gf', '7ol5hf', '7ol773', '7olf7a', '7olhev', '7olhgs', '7olk5e', '7ollay', '7olpiv', '7olu4j', '7olwun', '7olx8w', '7olytj', '7om0hv', '7om0ke', '7om55n', '7om6un', '7om7c9', '7oma34', '7omax7', '7ome64', '7ome7h', '7omec1', '7omfjf', '7omfwl', '7omhwk', '7omi8o', '7omlt8', '7omm8e', '7omn5k', '7omphk', '7ompi9', '7omrqz', '7omrrz', '7omsjp', '7omw2l', '7omzao', '7on0nn', '7on110', '7on1em', '7on4em', '7onaov', '7onb5v', '7oncua', '7ond7n', '7ondcx', '7onjbd', '7onk3j', '7onmhl', '7onmog', '7onqve', '7oo01x', '7oo26k', '7oo3s1', '7oo4f7', '7oo6pa', '7oo7ks', '7oo93z', '7oobnr', '7oobqe', '7ooe5q', '7ooe7y', '7oof6i', '7oogfh', '7ooiio', '7oosic', '7oovke', '7ooyew', '7op2al', '7op6oh', '7op6qg', '7op9cv', '7opgni', '7ophzd', '7opjfi', '7opleu', '7opmyb', '7opopw', '7opq1g', '7opq6i', '7oprb3', '7opvz2', '7opw0o', '7oq7ia', '7oqa1d', '7oqakj', '7oqcyn', '7oqh2z', '7oqkrh', '7oqlws', '7oqsou', '7oqtac', '7oqu5r', '7oqx7h', '7or10a', '7or4bm', '7or6bq', '7orc06', '7orcdk', '7ord0y', '7ordmp', '7orete', '7orf6s', '7orhw8', '7ornph', '7orqir', '7orql2', '7orv64', '7orwp3', '7orxk6', '7orxn2', '7orxzj', '7orylq', '7oryx1', '7orzy3', '7os00v', '7os33o', '7os3e4', '7os4g5', '7os8hh', '7oscfc', '7oseq1', '7oshjp', '7osi45', '7osi78', '7osj56', '7osjjl', '7osmub', '7osoke', '7osqiy', '7osydz', '7ot1ti', '7ot2k7', '7ot53q', '7ot9ue', '7ota34', '7otdw5', '7otetx', '7otfio', '7otj5x', '7otjyz', '7otlog', '7otnuf', '7otqj1', '7ots7z', '7otx9d', '7otyjn', '7ou137', '7ou3os', '7ou78f', '7ou7hm', '7ouag6', '7ouccm', '7ougd8', '7ougn6', '7ouloe', '7oun1z', '7ouotd', '7ourc3', '7ous3h', '7outc4', '7ouvbf', '7ouyfu', '7ouzxt', '7ov21k', '7ov27q', '7ov3h2', '7ov6qz', '7ov7lf', '7ov8wn', '7ov95g', '7ov971', '7ov9vk', '7ovcxb', '7ovf4a', '7ovi24', '7ovi4y', '7ovkym', '7ovm9t', '7ovnr8', '7ovp04', '7ovrwq', '7ovua3', '7ovw9p', '7ovwx0', '7ow0ml', '7ow1uw', '7ow61y', '7ow6d3', '7ow91v', '7ow936', '7ow9mh', '7owbgq', '7owefp', '7owent', '7owf9s', '7owfue', '7owgmn', '7owjch', '7owl56', '7owsof', '7owsyb', '7owvev', '7ox4p7', '7ox7v7', '7oxe4g', '7oxg9q', '7oxm7h', '7oxm8j', '7oxn9f', '7oy6wc', '7oy796', '7oy9rg', '7oyaxt', '7oyc90', '7oymlh', '7oyo68', '7oys1p', '7oysb6', '7oytwq', '7oyys2', '7oyyu1', '7ozipv', '7ozj86', '7oznuu', '7ozt38', '7ozwa8', '7ozyq9', '7ozzqx', '7p03jw', '7p052c', '7p0adl', '7p0bzi', '7p0emg', '7p0jzg', '7p0k3l', '7p0k4o', '7p0kr1', '7p0tb7', '7p0vbj', '7p11jx', '7p12ml', '7p14ki', '7p15k9', '7p1bg6', '7p1bq5', '7p1igg', '7p1j6q', '7p1k6k', '7p1mid', '7p1os0', '7p1pyk', '7p1ztr', '7p1zv8', '7p22jh', '7p25p9', '7p25zy', '7p2643', '7p2686', '7p28ck', '7p28j3', '7p2bnv', '7p2cr6', '7p2dad', '7p2fkt', '7p2jde', '7p2mb1', '7p2nsl', '7p2p0k', '7p2xb9', '7p2xcn', '7p2xk7', '7p2zxq', '7p301j', '7p32u9', '7p32z5', '7p358y', '7p3f1r', '7p3f7u', '7p3iyn', '7p3ju2', '7p3k7a', '7p3kb0', '7p3l3b', '7p3lij', '7p3nhw', '7p3ozf', '7p3q65', '7p3ro1', '7p3rtu', '7p3xho', '7p3y5b', '7p3z8f', '7p3zdn', '7p3zxk', '7p4437', '7p445o', '7p46i3', '7p472f', '7p49dx', '7p49yj', '7p4at2', '7p4eob', '7p4giv', '7p4ihg', '7p4ijw', '7p4jgn', '7p4pau', '7p4s8j', '7p4tk5', '7p4wl0', '7p4z1z', '7p53qi', '7p5621', '7p5hlk', '7p5i4e', '7p5ibz', '7p5iw7', '7p5iyz', '7p5nyr', '7p5pm9', '7p66dy', '7p6802', '7p6e3f', '7p6fdq', '7p6gij', '7p6h0u', '7p6jl2', '7p6mrf', '7p6ztx', '7p71ae', '7p72fv', '7p74kh', '7p76ej', '7p77cr', '7p78zv', '7p7eou', '7p7ezk', '7p7iwy', '7p7s7k', '7p7zig', '7p7zxa', '7p83ud', '7p83x7', '7p842a', '7p84dl'])"
      ]
     },
     "execution_count": 72,
     "metadata": {},
     "output_type": "execute_result"
    }
   ],
   "source": [
    "subStats.keys()"
   ]
  },
  {
   "cell_type": "code",
   "execution_count": 74,
   "metadata": {},
   "outputs": [
    {
     "data": {
      "text/plain": [
       "[('7nbz39',\n",
       "  'brand new coil, brand new juice, way too harsh and almost unvapeable',\n",
       "  'https://www.reddit.com/r/electronic_cigarette/comments/7nbz39/brand_new_coil_brand_new_juice_way_too_harsh_and/',\n",
       "  'jayden8250',\n",
       "  7,\n",
       "  datetime.datetime(2018, 1, 1, 0, 6, 48),\n",
       "  15,\n",
       "  '/r/electronic_cigarette/comments/7nbz39/brand_new_coil_brand_new_juice_way_too_harsh_and/',\n",
       "  'NaN')]"
      ]
     },
     "execution_count": 74,
     "metadata": {},
     "output_type": "execute_result"
    }
   ],
   "source": [
    "subStats['7nbz39']"
   ]
  }
 ],
 "metadata": {
  "kernelspec": {
   "display_name": "Python 3",
   "language": "python",
   "name": "python3"
  },
  "language_info": {
   "codemirror_mode": {
    "name": "ipython",
    "version": 3
   },
   "file_extension": ".py",
   "mimetype": "text/x-python",
   "name": "python",
   "nbconvert_exporter": "python",
   "pygments_lexer": "ipython3",
   "version": "3.7.3"
  }
 },
 "nbformat": 4,
 "nbformat_minor": 2
}
