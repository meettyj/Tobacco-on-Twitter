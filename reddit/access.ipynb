{
 "cells": [
  {
   "cell_type": "code",
   "execution_count": 2,
   "metadata": {},
   "outputs": [],
   "source": [
    "import requests\n",
    "base_url = 'https://www.reddit.com/'\n",
    "data = {'grant_type': 'password', 'username': 'meettyj', 'password': 'asdfghtyj'}\n",
    "auth = requests.auth.HTTPBasicAuth('app_1506', 'Jcq8qbPSFoaVdVoPYDSga3qe22M')\n",
    "r = requests.post(base_url + 'api/v1/access_token',\n",
    "                  data=data,\n",
    "                  headers={'user-agent': 'APP-NAME by REDDIT-USERNAME'},\n",
    "                  auth=auth)\n",
    "d = r.json()"
   ]
  },
  {
   "cell_type": "code",
   "execution_count": 3,
   "metadata": {},
   "outputs": [
    {
     "data": {
      "text/plain": [
       "{'message': 'Unauthorized', 'error': 401}"
      ]
     },
     "execution_count": 3,
     "metadata": {},
     "output_type": "execute_result"
    }
   ],
   "source": [
    "d"
   ]
  },
  {
   "cell_type": "code",
   "execution_count": 7,
   "metadata": {},
   "outputs": [],
   "source": [
    "import praw\n",
    "import pandas as pd\n",
    "import datetime as dt"
   ]
  },
  {
   "cell_type": "code",
   "execution_count": 29,
   "metadata": {},
   "outputs": [],
   "source": [
    "reddit = praw.Reddit(client_id='VxEXbQ4XNH2Z0A', \n",
    "                     client_secret='Jcq8qbPSFoaVdVoPYDSga3qe22M', \n",
    "                     user_agent='app_1506', \n",
    "                     username='meettyj', \n",
    "                     password='asdfghtyj')"
   ]
  },
  {
   "cell_type": "code",
   "execution_count": 30,
   "metadata": {},
   "outputs": [
    {
     "name": "stdout",
     "output_type": "stream",
     "text": [
      "meettyj\n"
     ]
    }
   ],
   "source": [
    "print(reddit.user.me())"
   ]
  },
  {
   "cell_type": "code",
   "execution_count": 35,
   "metadata": {},
   "outputs": [],
   "source": [
    "subreddit = reddit.subreddit('electronic_cigarette')"
   ]
  },
  {
   "cell_type": "code",
   "execution_count": 43,
   "metadata": {},
   "outputs": [],
   "source": [
    "topics_dict = { \"title\":[], \n",
    "                \"score\":[], \n",
    "                \"id\":[], \"url\":[], \n",
    "                \"comms_num\": [], \n",
    "                \"created\": [], \n",
    "                \"body\":[]}\n",
    "\n",
    "for submission in subreddit.top(limit=10000):\n",
    "    continue\n",
    "#     topics_dict[\"title\"].append(submission.title)\n",
    "#     topics_dict[\"score\"].append(submission.score)\n",
    "#     topics_dict[\"id\"].append(submission.id)\n",
    "#     topics_dict[\"url\"].append(submission.url)\n",
    "#     topics_dict[\"comms_num\"].append(submission.num_comments)\n",
    "#     topics_dict[\"created\"].append(submission.created)\n",
    "#     topics_dict[\"body\"].append(submission.selftext)\n",
    "\n",
    "# topics_data = pd.DataFrame(topics_dict)"
   ]
  },
  {
   "cell_type": "code",
   "execution_count": 41,
   "metadata": {},
   "outputs": [
    {
     "data": {
      "text/html": [
       "<div>\n",
       "<style scoped>\n",
       "    .dataframe tbody tr th:only-of-type {\n",
       "        vertical-align: middle;\n",
       "    }\n",
       "\n",
       "    .dataframe tbody tr th {\n",
       "        vertical-align: top;\n",
       "    }\n",
       "\n",
       "    .dataframe thead th {\n",
       "        text-align: right;\n",
       "    }\n",
       "</style>\n",
       "<table border=\"1\" class=\"dataframe\">\n",
       "  <thead>\n",
       "    <tr style=\"text-align: right;\">\n",
       "      <th></th>\n",
       "      <th>title</th>\n",
       "      <th>score</th>\n",
       "      <th>id</th>\n",
       "      <th>url</th>\n",
       "      <th>comms_num</th>\n",
       "      <th>created</th>\n",
       "      <th>body</th>\n",
       "    </tr>\n",
       "  </thead>\n",
       "  <tbody>\n",
       "    <tr>\n",
       "      <th>0</th>\n",
       "      <td>Let's get this on /r/all for the 4th time! Qui...</td>\n",
       "      <td>15424</td>\n",
       "      <td>5laqtd</td>\n",
       "      <td>https://www.reddit.com/r/electronic_cigarette/...</td>\n",
       "      <td>1314</td>\n",
       "      <td>1.483235e+09</td>\n",
       "      <td>I'm sure you've heard \"we get it you vape\", bu...</td>\n",
       "    </tr>\n",
       "    <tr>\n",
       "      <th>1</th>\n",
       "      <td>Let's get this on /r/all for the 3rd time! Qui...</td>\n",
       "      <td>6472</td>\n",
       "      <td>3yymib</td>\n",
       "      <td>https://www.reddit.com/r/electronic_cigarette/...</td>\n",
       "      <td>754</td>\n",
       "      <td>1.451631e+09</td>\n",
       "      <td>I'm sure you've heard \"we get it you vape\", bu...</td>\n",
       "    </tr>\n",
       "    <tr>\n",
       "      <th>2</th>\n",
       "      <td>Let's get this on /r/all again! Quitting smoki...</td>\n",
       "      <td>6386</td>\n",
       "      <td>2qzovq</td>\n",
       "      <td>https://www.reddit.com/r/electronic_cigarette/...</td>\n",
       "      <td>781</td>\n",
       "      <td>1.420125e+09</td>\n",
       "      <td>Quitting smoking is hard, no doubt about that!...</td>\n",
       "    </tr>\n",
       "    <tr>\n",
       "      <th>3</th>\n",
       "      <td>A local coffee shop has this sign up.</td>\n",
       "      <td>3394</td>\n",
       "      <td>5mlod0</td>\n",
       "      <td>https://i.reddituploads.com/3f7d236c2e07406ca9...</td>\n",
       "      <td>325</td>\n",
       "      <td>1.483840e+09</td>\n",
       "      <td></td>\n",
       "    </tr>\n",
       "    <tr>\n",
       "      <th>4</th>\n",
       "      <td>Shots fired</td>\n",
       "      <td>3284</td>\n",
       "      <td>5jzps7</td>\n",
       "      <td>https://i.reddituploads.com/4fbbb7effc2c40818a...</td>\n",
       "      <td>297</td>\n",
       "      <td>1.482560e+09</td>\n",
       "      <td></td>\n",
       "    </tr>\n",
       "    <tr>\n",
       "      <th>5</th>\n",
       "      <td>Signpost at a hospital in the UK</td>\n",
       "      <td>2983</td>\n",
       "      <td>6gzffe</td>\n",
       "      <td>https://i.redd.it/vzdqk0sale3z.jpg</td>\n",
       "      <td>288</td>\n",
       "      <td>1.497384e+09</td>\n",
       "      <td></td>\n",
       "    </tr>\n",
       "    <tr>\n",
       "      <th>6</th>\n",
       "      <td>It made me laugh, so...</td>\n",
       "      <td>2957</td>\n",
       "      <td>4rzfij</td>\n",
       "      <td>http://imgur.com/3l190j6</td>\n",
       "      <td>85</td>\n",
       "      <td>1.468080e+09</td>\n",
       "      <td></td>\n",
       "    </tr>\n",
       "    <tr>\n",
       "      <th>7</th>\n",
       "      <td>Let's get this on /r/all! Quitting smoking for...</td>\n",
       "      <td>2916</td>\n",
       "      <td>1u3fc7</td>\n",
       "      <td>https://www.reddit.com/r/electronic_cigarette/...</td>\n",
       "      <td>808</td>\n",
       "      <td>1.388532e+09</td>\n",
       "      <td>Quitting smoking is hard, no doubt about that!...</td>\n",
       "    </tr>\n",
       "    <tr>\n",
       "      <th>8</th>\n",
       "      <td>Cigarette Tax (Satire)</td>\n",
       "      <td>2690</td>\n",
       "      <td>3eb9yk</td>\n",
       "      <td>http://i.imgur.com/IbYAP2x.jpg</td>\n",
       "      <td>165</td>\n",
       "      <td>1.437681e+09</td>\n",
       "      <td></td>\n",
       "    </tr>\n",
       "    <tr>\n",
       "      <th>9</th>\n",
       "      <td>Flavors for e-cigs include products marketed a...</td>\n",
       "      <td>2538</td>\n",
       "      <td>5klurc</td>\n",
       "      <td>http://imgur.com/P5kUiZ2</td>\n",
       "      <td>427</td>\n",
       "      <td>1.482899e+09</td>\n",
       "      <td></td>\n",
       "    </tr>\n",
       "  </tbody>\n",
       "</table>\n",
       "</div>"
      ],
      "text/plain": [
       "                                               title  score      id  \\\n",
       "0  Let's get this on /r/all for the 4th time! Qui...  15424  5laqtd   \n",
       "1  Let's get this on /r/all for the 3rd time! Qui...   6472  3yymib   \n",
       "2  Let's get this on /r/all again! Quitting smoki...   6386  2qzovq   \n",
       "3              A local coffee shop has this sign up.   3394  5mlod0   \n",
       "4                                        Shots fired   3284  5jzps7   \n",
       "5                   Signpost at a hospital in the UK   2983  6gzffe   \n",
       "6                            It made me laugh, so...   2957  4rzfij   \n",
       "7  Let's get this on /r/all! Quitting smoking for...   2916  1u3fc7   \n",
       "8                             Cigarette Tax (Satire)   2690  3eb9yk   \n",
       "9  Flavors for e-cigs include products marketed a...   2538  5klurc   \n",
       "\n",
       "                                                 url  comms_num       created  \\\n",
       "0  https://www.reddit.com/r/electronic_cigarette/...       1314  1.483235e+09   \n",
       "1  https://www.reddit.com/r/electronic_cigarette/...        754  1.451631e+09   \n",
       "2  https://www.reddit.com/r/electronic_cigarette/...        781  1.420125e+09   \n",
       "3  https://i.reddituploads.com/3f7d236c2e07406ca9...        325  1.483840e+09   \n",
       "4  https://i.reddituploads.com/4fbbb7effc2c40818a...        297  1.482560e+09   \n",
       "5                 https://i.redd.it/vzdqk0sale3z.jpg        288  1.497384e+09   \n",
       "6                           http://imgur.com/3l190j6         85  1.468080e+09   \n",
       "7  https://www.reddit.com/r/electronic_cigarette/...        808  1.388532e+09   \n",
       "8                     http://i.imgur.com/IbYAP2x.jpg        165  1.437681e+09   \n",
       "9                           http://imgur.com/P5kUiZ2        427  1.482899e+09   \n",
       "\n",
       "                                                body  \n",
       "0  I'm sure you've heard \"we get it you vape\", bu...  \n",
       "1  I'm sure you've heard \"we get it you vape\", bu...  \n",
       "2  Quitting smoking is hard, no doubt about that!...  \n",
       "3                                                     \n",
       "4                                                     \n",
       "5                                                     \n",
       "6                                                     \n",
       "7  Quitting smoking is hard, no doubt about that!...  \n",
       "8                                                     \n",
       "9                                                     "
      ]
     },
     "execution_count": 41,
     "metadata": {},
     "output_type": "execute_result"
    }
   ],
   "source": [
    "topics_data"
   ]
  }
 ],
 "metadata": {
  "kernelspec": {
   "display_name": "Python 3",
   "language": "python",
   "name": "python3"
  },
  "language_info": {
   "codemirror_mode": {
    "name": "ipython",
    "version": 3
   },
   "file_extension": ".py",
   "mimetype": "text/x-python",
   "name": "python",
   "nbconvert_exporter": "python",
   "pygments_lexer": "ipython3",
   "version": "3.7.3"
  }
 },
 "nbformat": 4,
 "nbformat_minor": 2
}
