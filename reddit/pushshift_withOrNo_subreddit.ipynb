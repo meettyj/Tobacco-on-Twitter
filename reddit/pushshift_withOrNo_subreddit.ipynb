{
 "cells": [
  {
   "cell_type": "code",
   "execution_count": 1,
   "metadata": {},
   "outputs": [],
   "source": [
    "import pandas as pd\n",
    "import requests\n",
    "import json\n",
    "import csv\n",
    "import time\n",
    "import datetime\n",
    "from datetime import date"
   ]
  },
  {
   "cell_type": "code",
   "execution_count": 13,
   "metadata": {},
   "outputs": [
    {
     "name": "stdout",
     "output_type": "stream",
     "text": [
      "after_start_seconds:  1459468800.0\n",
      "before_end_seconds:  1556582400.0\n"
     ]
    }
   ],
   "source": [
    "# date\n",
    "after_start_date = date.fromisoformat('2016-04-01')\n",
    "before_end_date = date.fromisoformat('2019-04-30')\n",
    "after_start_seconds = (after_start_date -  date.fromisoformat('1970-01-01')).total_seconds()\n",
    "before_end_seconds = (before_end_date -  date.fromisoformat('1970-01-01')).total_seconds()\n",
    "\n",
    "print('after_start_seconds: ', after_start_seconds)\n",
    "print('before_end_seconds: ', before_end_seconds)"
   ]
  },
  {
   "cell_type": "markdown",
   "metadata": {},
   "source": [
    "# Retrieve the submissions"
   ]
  },
  {
   "cell_type": "code",
   "execution_count": 3,
   "metadata": {},
   "outputs": [],
   "source": [
    "def getPushshiftData(query, after, before, sub):\n",
    "    url = 'https://api.pushshift.io/reddit/search/submission/?title='+\\\n",
    "          str(query)+'&size=1000&after='+str(after)+'&before='+str(before)+'&subreddit='+str(sub)+'&sort=asc'\n",
    "#     url = 'https://api.pushshift.io/reddit/search/submission/?title='+\\\n",
    "#           str(query)+'&size=1000'+'&subreddit='+str(sub)\n",
    "#     print(url)\n",
    "    r = requests.get(url)\n",
    "#     print(r)\n",
    "    data = json.loads(r.text)\n",
    "    return data['data']\n",
    "\n",
    "def getPushshiftData_noSubreddit(query, after, before):\n",
    "    url = 'https://api.pushshift.io/reddit/search/submission/?title='+\\\n",
    "          str(query)+'&size=1000&after='+str(after)+'&before='+str(before)+'&sort=asc'\n",
    "#     url = 'https://api.pushshift.io/reddit/search/submission/?title='+\\\n",
    "#           str(query)+'&size=1000'+'&subreddit='+str(sub)\n",
    "#     print(url)\n",
    "    r = requests.get(url)\n",
    "    print(r)\n",
    "    data = json.loads(r.text)\n",
    "    return data['data']"
   ]
  },
  {
   "cell_type": "code",
   "execution_count": 4,
   "metadata": {},
   "outputs": [],
   "source": [
    "def collectSubData(subm):\n",
    "    subData = list() #list to store data points\n",
    "    title = subm['title']\n",
    "    url = subm['url']\n",
    "    try:\n",
    "        flair = subm['link_flair_text']\n",
    "    except KeyError:\n",
    "        flair = \"NaN\"    \n",
    "    author = subm['author']\n",
    "    sub_id = subm['id']\n",
    "    score = subm['score']\n",
    "    try:\n",
    "        subreddit = subm['subreddit']\n",
    "    except KeyError:\n",
    "        subreddit = \"None\"\n",
    "    created = datetime.datetime.fromtimestamp(subm['created_utc']) #1520561700.0\n",
    "    numComms = subm['num_comments']\n",
    "    permalink = subm['permalink']\n",
    "    \n",
    "    subData.append((sub_id,title,url,author,score,subreddit, created,numComms,permalink,flair))\n",
    "    subStats[sub_id] = subData"
   ]
  },
  {
   "cell_type": "code",
   "execution_count": 11,
   "metadata": {},
   "outputs": [],
   "source": [
    "# keywords list\n",
    "# keywords = ['vape', 'e liquid', 'e juice', 'ejuice', 'electronic cigarette', 'eliquid', 'e cig', 'ecig', 'e hookah', 'electronic cig', 'ehookah']\n",
    "keywords = ['abcd']"
   ]
  },
  {
   "cell_type": "markdown",
   "metadata": {},
   "source": [
    "### No specific subreddit"
   ]
  },
  {
   "cell_type": "code",
   "execution_count": 12,
   "metadata": {
    "scrolled": true
   },
   "outputs": [
    {
     "name": "stdout",
     "output_type": "stream",
     "text": [
      "--------------------------------------\n",
      "Query:  abcd\n",
      "<Response [200]>\n",
      "<Response [200]>\n",
      "length of subStats.keys():  126\n",
      "Sorted:  [('ABCDesis', 9), ('newsbotMARKET', 5), ('kidsvideo', 5), ('battlebots', 5), ('bakchodi', 3), ('u_puckhukids', 3), ('youtubehaiku', 3), ('rupaulsdragrace', 3), ('DragRaceExchange', 2), ('u_littlebabytube', 2), ('comsgntest', 2), ('funny', 2), ('anything', 2), ('explainlikeimfive', 2), ('test', 2), ('videos', 2), ('Blackops4', 2), ('HomeworkHelp', 2), ('business', 2), ('SummonSign', 2), ('cdcoverdesign', 1), ('IndieMusicPromotion', 1), ('u_Coinfans', 1), ('DiepioPartyLinks', 1), ('deals', 1), ('u_maxpro30', 1), ('ABCDesiSupportGroup', 1), ('Showerthoughts', 1), ('Dance', 1), ('dancedubbing', 1), ('freemusicpromo', 1), ('u_javbiz', 1), ('NoStupidQuestions', 1), ('bollywoodsongs', 1), ('pakistan', 1), ('india', 1), ('u_a1627', 1), ('u_vea8Ogh7xax_pdf', 1), ('u_ohW3see2uph_freepdf', 1), ('DeepFriedMemes', 1), ('u_TheeS3El2i_PDF', 1), ('u_eif6QueeBie_Book', 1), ('u_v22vijay', 1), ('BabyKids', 1), ('VirtualYoutubers', 1), ('todayilearned', 1), ('teaching', 1), ('gardening', 1), ('u_ChildrensTvFunny', 1), ('indiadiscussion', 1), ('tradeflags', 1), ('SkincareAddiction', 1), ('askmath', 1), ('TopIndieArtists', 1), ('VideoSynd', 1), ('woooosh', 1), ('alphabet', 1), ('everything', 1), ('anime', 1), ('animenews', 1), ('AnimeLounging', 1), ('nycrail', 1), ('raisingkids', 1), ('Bitcoin', 1), ('BitcoinAll', 1), ('Daytrading', 1), ('CryptoCurrencies', 1), ('cryptoall', 1), ('u_toySchoolForKids', 1), ('u_kidsplaytvytc', 1), ('Vaporwave', 1), ('dankmemes', 1), ('youtube', 1), ('options', 1), ('peacecorps', 1), ('KidsAreFuckingStupid', 1), ('u_noman_khursheed', 1), ('CompetitiveForHonor', 1), ('Entrepreneur', 1), ('businesstalkdaily', 1), ('Coinness', 1), ('BitcoinExchangeGuide', 1), ('AppNaNaExchange', 1), ('movies', 1), ('androidfiles', 1), ('AskReddit', 1)]\n"
     ]
    }
   ],
   "source": [
    "# query = \"electronic-cigarette\"\n",
    "# sub = \"electronic_cigarette\"\n",
    "\n",
    "for query in keywords:\n",
    "    print('--------------------------------------')\n",
    "    print('Query: ', query)\n",
    "    after = str(after_start_seconds).split('.')[0]\n",
    "    before = str(before_end_seconds).split('.')[0]\n",
    "\n",
    "    subStats = {}\n",
    "    subreddit_dict = {}\n",
    "\n",
    "    data = getPushshiftData_noSubreddit(query, after, before)\n",
    "    # Will run until all posts have been gathered \n",
    "    # from the 'after' date up until before date\n",
    "    while len(data) > 0:\n",
    "        for submission in data:\n",
    "#             print(submission)\n",
    "#             print(submission['title'])\n",
    "#             print(submission['subreddit'])\n",
    "#             print('-----------')\n",
    "            collectSubData(submission)\n",
    "    #         print(submission)\n",
    "            try:\n",
    "                subreddit = submission['subreddit']\n",
    "            except KeyError:\n",
    "                subreddit = \"None\"\n",
    "            subreddit_dict[subreddit] = subreddit_dict.get(subreddit, 0) + 1\n",
    "    #         break\n",
    "\n",
    "        # Prepare for next iteration\n",
    "        # print(str(datetime.datetime.fromtimestamp(data[-1]['created_utc'])))\n",
    "        after = data[-1]['created_utc']\n",
    "        data = getPushshiftData_noSubreddit(query, after, before)\n",
    "\n",
    "#     print(len(data))\n",
    "    print('length of subStats.keys(): ', len(subStats.keys()))\n",
    "#     print('subreddit_dict: ', subreddit_dict)\n",
    "    print('Sorted: ', sorted(subreddit_dict.items(), key=lambda d: d[1], reverse=True))\n",
    "    break\n",
    "#     print('Sorted: ', sorted(subreddit_dict.items(), key=lambda d: d[1], reverse=True))\n"
   ]
  },
  {
   "cell_type": "code",
   "execution_count": null,
   "metadata": {},
   "outputs": [],
   "source": []
  },
  {
   "cell_type": "code",
   "execution_count": null,
   "metadata": {},
   "outputs": [],
   "source": []
  },
  {
   "cell_type": "code",
   "execution_count": null,
   "metadata": {},
   "outputs": [],
   "source": []
  },
  {
   "cell_type": "code",
   "execution_count": null,
   "metadata": {},
   "outputs": [],
   "source": []
  },
  {
   "cell_type": "code",
   "execution_count": null,
   "metadata": {},
   "outputs": [],
   "source": []
  },
  {
   "cell_type": "markdown",
   "metadata": {},
   "source": [
    "### Specific subreddit"
   ]
  },
  {
   "cell_type": "code",
   "execution_count": 16,
   "metadata": {},
   "outputs": [
    {
     "name": "stdout",
     "output_type": "stream",
     "text": [
      "50\n",
      "2019-04-19 07:46:13\n",
      "0\n"
     ]
    }
   ],
   "source": [
    "query = \"san francisco\"\n",
    "sub = \"electronic_cigarette\"\n",
    "after = str(after_start_seconds).split('.')[0]\n",
    "before = str(before_end_seconds).split('.')[0]\n",
    "\n",
    "\n",
    "subCount = 0\n",
    "subStats = {}\n",
    "\n",
    "data = getPushshiftData(query, after, before, sub)\n",
    "# Will run until all posts have been gathered \n",
    "# from the 'after' date up until before date\n",
    "while len(data) > 0:\n",
    "    for submission in data:      \n",
    "        collectSubData(submission)\n",
    "#         print(submission)\n",
    "#         subCount+=1\n",
    "#         break\n",
    "    # Calls getPushshiftData() with the created date of the last submission\n",
    "    print(len(data))\n",
    "    print(str(datetime.datetime.fromtimestamp(data[-1]['created_utc'])))\n",
    "    after = data[-1]['created_utc']\n",
    "    data = getPushshiftData(query, after, before, sub)\n",
    "#     break\n",
    "    \n",
    "print(len(data))"
   ]
  },
  {
   "cell_type": "code",
   "execution_count": 9,
   "metadata": {},
   "outputs": [
    {
     "name": "stdout",
     "output_type": "stream",
     "text": [
      "length of subStats.keys():  5457\n"
     ]
    }
   ],
   "source": [
    "print('length of subStats.keys(): ', len(subStats.keys()))"
   ]
  },
  {
   "cell_type": "code",
   "execution_count": 11,
   "metadata": {
    "scrolled": true
   },
   "outputs": [
    {
     "name": "stdout",
     "output_type": "stream",
     "text": [
      "5457 submissions have added to list\n",
      "1st entry is:\n",
      "Need of advice for a begginer ( Smok AL85 and Zeus mono coil) created: electronic_cigarette\n",
      "Last entry is:\n",
      "Customer experience with MYLÉ created: electronic_cigarette\n"
     ]
    }
   ],
   "source": [
    "print(str(len(subStats)) + \" submissions have added to list\")\n",
    "print(\"1st entry is:\")\n",
    "print(list(subStats.values())[0][0][1] + \" created: \" + str(list(subStats.values())[0][0][5]))\n",
    "print(\"Last entry is:\")\n",
    "print(list(subStats.values())[-1][0][1] + \" created: \" + str(list(subStats.values())[-1][0][5]))"
   ]
  },
  {
   "cell_type": "code",
   "execution_count": 112,
   "metadata": {},
   "outputs": [
    {
     "name": "stdout",
     "output_type": "stream",
     "text": [
      "input filename of submission file, please add .csv\n",
      "test.csv\n",
      "1000 submissions have been uploaded\n"
     ]
    }
   ],
   "source": [
    "def updateSubs_file():\n",
    "    upload_count = 0\n",
    "    location = \"\"\n",
    "    print(\"input filename of submission file, please add .csv\")\n",
    "    filename = input()\n",
    "    file = location + filename\n",
    "    with open(file, 'w', newline='', encoding='utf-8') as file: \n",
    "        a = csv.writer(file, delimiter=',')\n",
    "        headers = [\"Post ID\",\"Title\",\"Url\",\"Author\",\"Score\",\"Publish Date\",\"Total No. of Comments\",\"Permalink\",\"Flair\"]\n",
    "        a.writerow(headers)\n",
    "        for sub in subStats:\n",
    "            a.writerow(subStats[sub][0])\n",
    "            upload_count+=1\n",
    "            \n",
    "        print(str(upload_count) + \" submissions have been uploaded\")\n",
    "        \n",
    "updateSubs_file()"
   ]
  },
  {
   "cell_type": "markdown",
   "metadata": {},
   "source": [
    "# Based on the submission, retrieve the comments"
   ]
  },
  {
   "cell_type": "code",
   "execution_count": 125,
   "metadata": {},
   "outputs": [],
   "source": [
    "get_comments_id_from_submission_url = \"https://api.pushshift.io/reddit/submission/comment_ids/\"\n",
    "get_comment_by_id_url = \"https://api.pushshift.io/reddit/comment/search?ids=\""
   ]
  },
  {
   "cell_type": "code",
   "execution_count": 131,
   "metadata": {
    "scrolled": true
   },
   "outputs": [
    {
     "name": "stdout",
     "output_type": "stream",
     "text": [
      "['ds0npl7', 'ds0nrb1', 'ds0ridc', 'ds0rmkn', 'ds0tfjt', 'ds0twmr', 'ds0uado', 'ds0v8qw', 'ds0vmti', 'ds0vndj', 'ds0yzmw', 'ds0z0kc', 'ds0zftx', 'ds19414', 'ds2om6u']\n",
      "comment:  [{'approved_at_utc': None, 'author': 'kwajr', 'author_flair_css_class': 'current', 'author_flair_text': 'Therion DNA 75c bf w/dead rabbit', 'banned_at_utc': None, 'body': 'Perhaps they did mess up the nic.', 'can_mod_post': False, 'collapsed': False, 'collapsed_reason': None, 'created_utc': 1514765577, 'distinguished': None, 'edited': False, 'id': 'ds0npl7', 'is_submitter': False, 'link_id': 't3_7nbz39', 'parent_id': 't3_7nbz39', 'permalink': '/r/electronic_cigarette/comments/7nbz39/brand_new_coil_brand_new_juice_way_too_harsh_and/ds0npl7/', 'retrieved_on': 1514765579, 'score': 1, 'stickied': False, 'subreddit': 'electronic_cigarette', 'subreddit_id': 't5_2qmlu'}]\n",
      "comment:  [{'approved_at_utc': None, 'author': 'bennyblanco2121', 'author_flair_css_class': None, 'author_flair_text': None, 'banned_at_utc': None, 'body': 'Have you tried another juice with the same coil?', 'can_mod_post': False, 'collapsed': False, 'collapsed_reason': None, 'created_utc': 1514765636, 'distinguished': None, 'edited': False, 'id': 'ds0nrb1', 'is_submitter': False, 'link_id': 't3_7nbz39', 'parent_id': 't3_7nbz39', 'permalink': '/r/electronic_cigarette/comments/7nbz39/brand_new_coil_brand_new_juice_way_too_harsh_and/ds0nrb1/', 'retrieved_on': 1514765637, 'score': 1, 'stickied': False, 'subreddit': 'electronic_cigarette', 'subreddit_id': 't5_2qmlu'}]\n",
      "comment:  [{'approved_at_utc': None, 'author': 'ninjatrex17', 'author_flair_css_class': None, 'author_flair_text': None, 'banned_at_utc': None, 'body': 'Old nic can be harsh. Does the bottle have a best by date, or a date of manufacture?', 'can_mod_post': False, 'collapsed': False, 'collapsed_reason': None, 'created_utc': 1514770309, 'distinguished': None, 'edited': False, 'id': 'ds0ridc', 'is_submitter': False, 'link_id': 't3_7nbz39', 'parent_id': 't3_7nbz39', 'permalink': '/r/electronic_cigarette/comments/7nbz39/brand_new_coil_brand_new_juice_way_too_harsh_and/ds0ridc/', 'retrieved_on': 1514770311, 'score': 1, 'stickied': False, 'subreddit': 'electronic_cigarette', 'subreddit_id': 't5_2qmlu'}]\n",
      "comment:  [{'approved_at_utc': None, 'author': 'jayden8250', 'author_flair_css_class': None, 'author_flair_text': None, 'banned_at_utc': None, 'body': 'nope, nothing about that on the bottle', 'can_mod_post': False, 'collapsed': False, 'collapsed_reason': None, 'created_utc': 1514770481, 'distinguished': None, 'edited': False, 'id': 'ds0rmkn', 'is_submitter': True, 'link_id': 't3_7nbz39', 'parent_id': 't1_ds0ridc', 'permalink': '/r/electronic_cigarette/comments/7nbz39/brand_new_coil_brand_new_juice_way_too_harsh_and/ds0rmkn/', 'retrieved_on': 1514770482, 'score': 1, 'stickied': False, 'subreddit': 'electronic_cigarette', 'subreddit_id': 't5_2qmlu'}]\n",
      "comment:  [{'approved_at_utc': None, 'author': 'EdibleMalfunction', 'author_flair_css_class': 'current', 'author_flair_text': 'DIY Guy', 'banned_at_utc': None, 'body': 'It’s probably shitty juice/nic. Also, never give your juice warm baths', 'can_mod_post': False, 'collapsed': False, 'collapsed_reason': None, 'created_utc': 1514773200, 'distinguished': None, 'edited': False, 'id': 'ds0tfjt', 'is_submitter': False, 'link_id': 't3_7nbz39', 'parent_id': 't3_7nbz39', 'permalink': '/r/electronic_cigarette/comments/7nbz39/brand_new_coil_brand_new_juice_way_too_harsh_and/ds0tfjt/', 'retrieved_on': 1514773201, 'score': 1, 'stickied': False, 'subreddit': 'electronic_cigarette', 'subreddit_id': 't5_2qmlu'}]\n",
      "comment:  [{'approved_at_utc': None, 'author': 'jayden8250', 'author_flair_css_class': None, 'author_flair_text': None, 'banned_at_utc': None, 'body': \"I think it's a quality juice, but i think they put way more than 3mg of nicotine in it. is there any way to know if there's a ton of nicotine in it? does the amount of bubbles when you shake it mean anything?\", 'can_mod_post': False, 'collapsed': False, 'collapsed_reason': None, 'created_utc': 1514773903, 'distinguished': None, 'edited': False, 'id': 'ds0twmr', 'is_submitter': True, 'link_id': 't3_7nbz39', 'parent_id': 't1_ds0tfjt', 'permalink': '/r/electronic_cigarette/comments/7nbz39/brand_new_coil_brand_new_juice_way_too_harsh_and/ds0twmr/', 'retrieved_on': 1514773903, 'score': 1, 'stickied': False, 'subreddit': 'electronic_cigarette', 'subreddit_id': 't5_2qmlu'}]\n",
      "comment:  [{'approved_at_utc': None, 'author': 'prunmas', 'author_flair_css_class': None, 'author_flair_text': None, 'banned_at_utc': None, 'body': 'It’s probably a bad batch happens pretty often, the bubbles don’t mean anything I have a 6mg and I shake it and there’s a good amount of bubbles but I don’t believe it matters it’s probably the ration is all fucked and if it is, that means they made like a gallon of bad juice and shipped it off before testing is just message them I’m sure you could get a new bottle.', 'can_mod_post': False, 'collapsed': False, 'collapsed_reason': None, 'created_utc': 1514774481, 'distinguished': None, 'edited': False, 'id': 'ds0uado', 'is_submitter': False, 'link_id': 't3_7nbz39', 'parent_id': 't1_ds0twmr', 'permalink': '/r/electronic_cigarette/comments/7nbz39/brand_new_coil_brand_new_juice_way_too_harsh_and/ds0uado/', 'retrieved_on': 1514774481, 'score': 1, 'stickied': False, 'subreddit': 'electronic_cigarette', 'subreddit_id': 't5_2qmlu'}]\n",
      "comment:  [{'approved_at_utc': None, 'author': 'jayden8250', 'author_flair_css_class': None, 'author_flair_text': None, 'banned_at_utc': None, 'body': \"i got it from my local vape shop and there's no website or anything on the bottle, searching for the company brings up no results either. looks like they don't have a website. it's The Slushy Man\", 'can_mod_post': False, 'collapsed': False, 'collapsed_reason': None, 'created_utc': 1514775959, 'distinguished': None, 'edited': False, 'id': 'ds0v8qw', 'is_submitter': True, 'link_id': 't3_7nbz39', 'parent_id': 't1_ds0uado', 'permalink': '/r/electronic_cigarette/comments/7nbz39/brand_new_coil_brand_new_juice_way_too_harsh_and/ds0v8qw/', 'retrieved_on': 1514775960, 'score': 1, 'stickied': False, 'subreddit': 'electronic_cigarette', 'subreddit_id': 't5_2qmlu'}]\n",
      "comment:  [{'approved_at_utc': None, 'author': 'EdibleMalfunction', 'author_flair_css_class': 'current', 'author_flair_text': 'DIY Guy', 'banned_at_utc': None, 'body': 'Then how do you know it’s a “quality” juice?', 'can_mod_post': False, 'collapsed': False, 'collapsed_reason': None, 'created_utc': 1514776582, 'distinguished': None, 'edited': False, 'id': 'ds0vmti', 'is_submitter': False, 'link_id': 't3_7nbz39', 'parent_id': 't1_ds0v8qw', 'permalink': '/r/electronic_cigarette/comments/7nbz39/brand_new_coil_brand_new_juice_way_too_harsh_and/ds0vmti/', 'retrieved_on': 1514776583, 'score': 1, 'stickied': False, 'subreddit': 'electronic_cigarette', 'subreddit_id': 't5_2qmlu'}]\n",
      "comment:  [{'approved_at_utc': None, 'author': 'jayden8250', 'author_flair_css_class': None, 'author_flair_text': None, 'banned_at_utc': None, 'body': \"i guess i don't lol\", 'can_mod_post': False, 'collapsed': False, 'collapsed_reason': None, 'created_utc': 1514776608, 'distinguished': None, 'edited': False, 'id': 'ds0vndj', 'is_submitter': True, 'link_id': 't3_7nbz39', 'parent_id': 't1_ds0vmti', 'permalink': '/r/electronic_cigarette/comments/7nbz39/brand_new_coil_brand_new_juice_way_too_harsh_and/ds0vndj/', 'retrieved_on': 1514776609, 'score': 1, 'stickied': False, 'subreddit': 'electronic_cigarette', 'subreddit_id': 't5_2qmlu'}]\n",
      "comment:  [{'approved_at_utc': None, 'author': 'prunmas', 'author_flair_css_class': None, 'author_flair_text': None, 'banned_at_utc': None, 'body': 'Probably the vape shop mixes there own juice, I also have a local shop that does this “cloud 9” it’s owned and ran by the same guy he buys juice from sellers for wholesale but he also mixes his own, it’s possible that he mix it and did not let it sit for two weeks, after mixing the batch has to sit, either he’s mixing his own or it’s a bad batch I suggest asking next time you go in, or just buy from a online site that makes ejuice you can find tons of good ones on this subreddit.', 'can_mod_post': False, 'collapsed': False, 'collapsed_reason': None, 'created_utc': 1514782611, 'distinguished': None, 'edited': False, 'id': 'ds0yzmw', 'is_submitter': False, 'link_id': 't3_7nbz39', 'parent_id': 't1_ds0v8qw', 'permalink': '/r/electronic_cigarette/comments/7nbz39/brand_new_coil_brand_new_juice_way_too_harsh_and/ds0yzmw/', 'retrieved_on': 1514782612, 'score': 1, 'stickied': False, 'subreddit': 'electronic_cigarette', 'subreddit_id': 't5_2qmlu'}]\n"
     ]
    },
    {
     "name": "stdout",
     "output_type": "stream",
     "text": [
      "comment:  [{'approved_at_utc': None, 'author': 'jayden8250', 'author_flair_css_class': None, 'author_flair_text': None, 'banned_at_utc': None, 'body': 'great advice. definitely going to buy online next time. smoothest e juice?', 'can_mod_post': False, 'collapsed': False, 'collapsed_reason': None, 'created_utc': 1514782663, 'distinguished': None, 'edited': False, 'id': 'ds0z0kc', 'is_submitter': True, 'link_id': 't3_7nbz39', 'parent_id': 't1_ds0yzmw', 'permalink': '/r/electronic_cigarette/comments/7nbz39/brand_new_coil_brand_new_juice_way_too_harsh_and/ds0z0kc/', 'retrieved_on': 1514782664, 'score': 1, 'stickied': False, 'subreddit': 'electronic_cigarette', 'subreddit_id': 't5_2qmlu'}]\n",
      "comment:  [{'approved_at_utc': None, 'author': 'prunmas', 'author_flair_css_class': None, 'author_flair_text': None, 'banned_at_utc': None, 'body': 'Almost anything that is either max VG or 80VG 20PG I buy from cloud compass but im Canadian I’m sure he ships to the US as well, his juice is very smooth and it’s flavour isn’t super sweet so, it’s almost all a all day vape, if you do end up buying from them I suggest either melon doh, or blue eyed snitch both of which are his best sellers. There’s a lot of US vendors that sell good juice too just make sure you get max vg or 80/20 and you’ll be fine the throat hit won’t be overpowering', 'can_mod_post': False, 'collapsed': False, 'collapsed_reason': None, 'created_utc': 1514783538, 'distinguished': None, 'edited': False, 'id': 'ds0zftx', 'is_submitter': False, 'link_id': 't3_7nbz39', 'parent_id': 't1_ds0z0kc', 'permalink': '/r/electronic_cigarette/comments/7nbz39/brand_new_coil_brand_new_juice_way_too_harsh_and/ds0zftx/', 'retrieved_on': 1514783540, 'score': 1, 'stickied': False, 'subreddit': 'electronic_cigarette', 'subreddit_id': 't5_2qmlu'}]\n",
      "comment:  [{'approved_at_utc': None, 'author': 'JustSayNoToDiacetyl', 'author_flair_css_class': None, 'author_flair_text': None, 'banned_at_utc': None, 'body': \"The bubbles don't mean much.  I mix my own liquid and when I give it the initial shake, tons of tiny bubbles form.  After a day or two if I shake it again, bubbles will form but not nearly to the degree as when it's fresh.\\n\\nThe juice probably hasn't had time to steep or they fucked up mixing it.\", 'can_mod_post': False, 'collapsed': False, 'collapsed_reason': None, 'created_utc': 1514809593, 'distinguished': None, 'edited': False, 'id': 'ds19414', 'is_submitter': False, 'link_id': 't3_7nbz39', 'parent_id': 't1_ds0twmr', 'permalink': '/r/electronic_cigarette/comments/7nbz39/brand_new_coil_brand_new_juice_way_too_harsh_and/ds19414/', 'retrieved_on': 1514809594, 'score': 1, 'stickied': False, 'subreddit': 'electronic_cigarette', 'subreddit_id': 't5_2qmlu'}]\n",
      "comment:  [{'approved_at_utc': None, 'author': 'evilistics', 'author_flair_css_class': None, 'author_flair_text': None, 'banned_at_utc': None, 'body': \"Its probably just shitty nic. I had the same experience with juice from an NZ juice maker and it made me cough up a lung at 3mg. I could barely take half a lung hit. Compared to 3mg juice I just got from the US and it doesn't have any throat hit at all. \", 'can_mod_post': False, 'collapsed': False, 'collapsed_reason': None, 'created_utc': 1514887388, 'distinguished': None, 'edited': False, 'id': 'ds2om6u', 'is_submitter': False, 'link_id': 't3_7nbz39', 'parent_id': 't3_7nbz39', 'permalink': '/r/electronic_cigarette/comments/7nbz39/brand_new_coil_brand_new_juice_way_too_harsh_and/ds2om6u/', 'retrieved_on': 1514887389, 'score': 1, 'stickied': False, 'subreddit': 'electronic_cigarette', 'subreddit_id': 't5_2qmlu'}]\n"
     ]
    }
   ],
   "source": [
    "# get comment_ids based on submission_id\n",
    "for submission_id in subStats.keys():\n",
    "    tmp_comments_list = []\n",
    "    \n",
    "    r = requests.get(get_comments_id_from_submission_url + submission_id)\n",
    "    data = json.loads(r.text)\n",
    "    comments_id_list = data['data']\n",
    "    print(comments_id_list)\n",
    "    \n",
    "    # get comments based on comment_id\n",
    "    for comment_id in comments_id_list:\n",
    "        r_comment = requests.get(get_comment_by_id_url + comment_id)\n",
    "        data_comment = json.loads(r_comment.text)\n",
    "        comment = data_comment['data']\n",
    "        print('comment: ', comment)\n",
    "        \n",
    "    break\n",
    "    "
   ]
  },
  {
   "cell_type": "code",
   "execution_count": null,
   "metadata": {},
   "outputs": [],
   "source": []
  },
  {
   "cell_type": "code",
   "execution_count": null,
   "metadata": {},
   "outputs": [],
   "source": []
  },
  {
   "cell_type": "code",
   "execution_count": null,
   "metadata": {},
   "outputs": [],
   "source": []
  }
 ],
 "metadata": {
  "kernelspec": {
   "display_name": "Python 3",
   "language": "python",
   "name": "python3"
  },
  "language_info": {
   "codemirror_mode": {
    "name": "ipython",
    "version": 3
   },
   "file_extension": ".py",
   "mimetype": "text/x-python",
   "name": "python",
   "nbconvert_exporter": "python",
   "pygments_lexer": "ipython3",
   "version": "3.7.3"
  }
 },
 "nbformat": 4,
 "nbformat_minor": 2
}
