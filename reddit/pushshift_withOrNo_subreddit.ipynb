{
 "cells": [
  {
   "cell_type": "code",
   "execution_count": 2,
   "metadata": {},
   "outputs": [],
   "source": [
    "import pandas as pd\n",
    "import requests\n",
    "import json\n",
    "import csv\n",
    "import time\n",
    "import datetime\n",
    "from datetime import date"
   ]
  },
  {
   "cell_type": "code",
   "execution_count": 3,
   "metadata": {},
   "outputs": [
    {
     "name": "stdout",
     "output_type": "stream",
     "text": [
      "after_start_seconds:  1535760000.0\n",
      "before_end_seconds:  1540944000.0\n"
     ]
    }
   ],
   "source": [
    "# date\n",
    "after_start_date = date.fromisoformat('2018-09-01')\n",
    "before_end_date = date.fromisoformat('2018-10-31')\n",
    "after_start_seconds = (after_start_date -  date.fromisoformat('1970-01-01')).total_seconds()\n",
    "before_end_seconds = (before_end_date -  date.fromisoformat('1970-01-01')).total_seconds()\n",
    "\n",
    "print('after_start_seconds: ', after_start_seconds)\n",
    "print('before_end_seconds: ', before_end_seconds)"
   ]
  },
  {
   "cell_type": "markdown",
   "metadata": {},
   "source": [
    "# Retrieve the submissions"
   ]
  },
  {
   "cell_type": "code",
   "execution_count": 4,
   "metadata": {},
   "outputs": [],
   "source": [
    "def getPushshiftData(query, after, before, sub):\n",
    "    url = 'https://api.pushshift.io/reddit/search/submission/?title='+\\\n",
    "          str(query)+'&size=1000&after='+str(after)+'&before='+str(before)+'&subreddit='+str(sub)+'&sort=asc'\n",
    "#     url = 'https://api.pushshift.io/reddit/search/submission/?title='+\\\n",
    "#           str(query)+'&size=1000'+'&subreddit='+str(sub)\n",
    "#     print(url)\n",
    "    r = requests.get(url)\n",
    "#     print(r)\n",
    "    data = json.loads(r.text)\n",
    "    return data['data']\n",
    "\n",
    "def getPushshiftData_noSubreddit(query, after, before):\n",
    "    url = 'https://api.pushshift.io/reddit/search/submission/?title='+\\\n",
    "          str(query)+'&size=1000&after='+str(after)+'&before='+str(before)+'&sort=asc'\n",
    "#     url = 'https://api.pushshift.io/reddit/search/submission/?title='+\\\n",
    "#           str(query)+'&size=1000'+'&subreddit='+str(sub)\n",
    "#     print(url)\n",
    "    r = requests.get(url)\n",
    "    print(r)\n",
    "    data = json.loads(r.text)\n",
    "    return data['data']"
   ]
  },
  {
   "cell_type": "code",
   "execution_count": 5,
   "metadata": {},
   "outputs": [],
   "source": [
    "def collectSubData(subm):\n",
    "    subData = list() #list to store data points\n",
    "    title = subm['title']\n",
    "    url = subm['url']\n",
    "    try:\n",
    "        flair = subm['link_flair_text']\n",
    "    except KeyError:\n",
    "        flair = \"NaN\"    \n",
    "    author = subm['author']\n",
    "    sub_id = subm['id']\n",
    "    score = subm['score']\n",
    "    try:\n",
    "        subreddit = subm['subreddit']\n",
    "    except KeyError:\n",
    "        subreddit = \"None\"\n",
    "    created = datetime.datetime.fromtimestamp(subm['created_utc']) #1520561700.0\n",
    "    numComms = subm['num_comments']\n",
    "    permalink = subm['permalink']\n",
    "    \n",
    "    subData.append((sub_id,title,url,author,score,subreddit, created,numComms,permalink,flair))\n",
    "    subStats[sub_id] = subData"
   ]
  },
  {
   "cell_type": "code",
   "execution_count": 6,
   "metadata": {},
   "outputs": [],
   "source": [
    "# keywords list\n",
    "# keywords = ['vape', 'e liquid', 'e juice', 'ejuice', 'electronic cigarette', 'eliquid', 'e cig', 'ecig', 'e hookah', 'electronic cig', 'ehookah']\n",
    "keywords = ['New Jersey']"
   ]
  },
  {
   "cell_type": "markdown",
   "metadata": {},
   "source": [
    "### No specific subreddit"
   ]
  },
  {
   "cell_type": "code",
   "execution_count": 7,
   "metadata": {
    "scrolled": true
   },
   "outputs": [
    {
     "name": "stdout",
     "output_type": "stream",
     "text": [
      "--------------------------------------\n",
      "Query:  New Jersey\n",
      "<Response [200]>\n",
      "<Response [200]>\n",
      "<Response [200]>\n",
      "<Response [200]>\n",
      "<Response [200]>\n",
      "<Response [200]>\n",
      "<Response [200]>\n",
      "0\n",
      "length of subStats.keys():  5617\n",
      "Sorted:  [('AutoNewspaper', 309), ('newjersey', 242), ('newsbotbot', 218), ('dirtyr4r', 137), ('The_Donald', 104), ('hockey', 66), ('devils', 63), ('r4r', 57), ('whatsthisbug', 51), ('hockeyjerseys', 49), ('politics', 48), ('newsbotMARKET', 41), ('news', 40), ('FOXauto', 39), ('MIAMIHERALDauto', 37), ('RandomActsOfBlowJob', 36), ('NHLSuper', 35), ('NHLTVStreams', 34), ('legaladvice', 32), ('AskReddit', 32), ('SoccerSeason', 32), ('PHILLYauto', 30), ('reddit_stream', 30), ('nofeenews', 28), ('pics', 27), ('Stream_Today', 27), ('BusinessIntelligence', 26), ('REUTERSauto', 26), ('EcoInternet', 25), ('business', 25), ('TheNewsFeed', 23), ('TWTauto', 23), ('nba', 23), ('u_richardrobbins2422', 23), ('NYTauto', 22), ('nj4nj', 22), ('BlueMidterm2018', 22), ('USATODAYauto', 21), ('Conservative', 21), ('RandomActsOfMuffDive', 20), ('videos', 20), ('nsfw', 20), ('worldnews', 20), ('todayilearned', 20), ('whatsthisplant', 19), ('NHLLiveReddit', 19), ('WarshipPorn', 18), ('UFONEWS1', 18), ('BreakingNews24hr', 18), ('NewJerseyuncensored', 18), ('ABCauto', 17), ('ATLASLaws', 17), ('NewsWhatever', 17), ('EarthPorn', 17), ('spiders', 17), ('Health', 17), ('borrow', 15), ('Laserlike_Hodgepodge', 15), ('NewJerseyFilm', 15), ('mycology', 15), ('SanJoseSharks', 15), ('unknownvideos', 14), ('ReddLineNews', 14), ('trees', 14), ('New_Jersey_Politics', 14), ('NoFilterNews', 14), ('Jobudsmeetup', 14), ('StateoftheUnionNONF', 14), ('NZHauto', 13), ('u_blettingsadmin', 13), ('Right_Wing_Politics', 13), ('NBCauto', 13), ('OrganicMarijuana', 13), ('whatisthisthing', 13), ('POLITIC', 13), ('TheRightPill', 13), ('nottheonion', 13), ('VirginityExchange', 12), ('GaySnapchat', 12), ('soccer', 12), ('SportsHillTv', 12), ('PornhubComments', 11), ('StreamingNHL', 11), ('CHIBears', 10), ('Infographics', 10), ('OldSchoolCool', 10), ('CorporateAttorneyJobs', 10), ('philadelphia', 10), ('CorruptioNNews', 10), ('removalbot', 10), ('Promotes', 10), ('RedditGameThreads', 10), ('mahwah', 10), ('weedstocks', 10), ('NHLTVstream', 10), ('nytimes', 10), ('AntiqueSewingMachines', 10), ('Newark', 10), ('civilengineering', 10), ('Stream_Forever', 10), ('sissypersonals', 9), ('MilitaryPorn', 9), ('NoSillySuffix', 9), ('SouthJersey', 9), ('NYPOSTauto', 9), ('trump', 9), ('JTTAlerts', 9), ('CBSauto', 9), ('jerseycity', 9), ('TheColorIsRed', 9), ('nyc', 9), ('TheTwitterFeed', 9), ('CNNauto', 9), ('alt_source_bot_log', 9), ('NHLFreeLive', 9), ('WTF', 8), ('legal', 8), ('HotVids', 8), ('Marijuana', 8), ('prisons', 8), ('Lawyertalk', 8), ('tattoos', 8), ('itookapicture', 8), ('dirtykikpals', 8), ('FreeStuffNYC', 8), ('lfg', 8), ('nhlpreseasons', 8), ('HighlightStore', 8), ('THEHILLauto', 8), ('Livestream24ras', 8), ('WagerTalk', 7), ('whatsthisbird', 7), ('newsbotTMT', 7), ('nhl', 7), ('HeavyMetalBoneyard', 7), ('Showerthoughts', 7), ('JustTheTopNews', 7), ('lakers', 7), ('rangers', 7), ('Music', 7), ('WAEXauto', 7), ('miamidolphins', 7), ('Bad_Cop_No_Donut', 7), ('u_itgurusatlanta', 7), ('u_oakhillacademy5', 7), ('WayOfTheBern', 7), ('entertainment', 7), ('thesopranos', 6), ('nyjets', 6), ('teenagersnew', 6), ('basketballjerseys', 6), ('gifs', 6), ('aww', 6), ('usa', 6), ('autotldr', 6), ('unremovable', 6), ('beauty', 6), ('u_paystopostnyc', 6), ('penguins', 6), ('MagaFirstNews', 6), ('AnaheimDucks', 6), ('tvshow', 6), ('vexillology', 6), ('law', 6), ('ChapoTrapHouse', 6), ('u_tintman12', 6), ('NubzSports', 6), ('TheHockeyGuyNHLScores', 6), ('NHLLive4K', 6), ('NinjaSexParty', 6), ('StreamTheNHL', 6), ('WarshipFans', 5), ('ShinedownsNation', 5), ('BDSMpersonals', 5), ('UMukhasimAutoNews', 5), ('NewYorkIslanders', 5), ('offbeat', 5), ('WSJauto', 5), ('u_ferrolabella', 5), ('arrow', 5), ('NPRauto', 5), ('NJGuns', 5), ('rageagainstthetoupee', 5), ('Genealogy', 5), ('RedditDayOf', 5), ('rugbyunion', 5), ('GlobalOffensive', 5), ('CalgaryFlames', 5), ('funny', 5), ('naughtyfromneglect', 5), ('canes', 5), ('sportsbetting', 5), ('mynews', 5), ('Roadcam', 5), ('weather', 5), ('MeetPeople', 5), ('RandomPosts', 5), ('u_TheRealPureGusto', 5), ('CasinoNewsDaily', 5), ('nursingjobs', 5), ('u_richardrobbins22', 5), ('Home', 5), ('CHICAGOTRIBauto', 5), ('magicTCG', 5), ('SportStreames', 5), ('nfl', 4), ('mildlyinteresting', 4), ('sissykik', 4), ('FindABand', 4), ('AmateurRoomPorn', 4), ('RandomActsofCards', 4), ('forhire', 4), ('conspiracy', 4), ('EdmontonOilers', 4), ('travel', 4), ('GunsAreCool', 4), ('newyorkcity', 4), ('MapPorn', 4), ('GreenBayPackers', 4), ('landscaping', 4), ('Trending_News', 4), ('GothamElections', 4), ('wicked_edge', 4), ('TrumpPA', 4), ('climbing', 4), ('AskOuija', 4), ('feetpics', 4), ('newyork', 4), ('solar', 4), ('DDLGPersonals', 4), ('KansasCityChiefs', 4), ('sportislife', 4), ('airsoft', 4), ('StandUpComedy', 4), ('ClimateChaos', 4), ('limousine', 4), ('Browns', 4), ('OttawaSenators', 4), ('conservatives', 4), ('worldpolitics', 4), ('cannabis', 4), ('TJTauto', 4), ('u_kfleming54', 4), ('healthcare', 4), ('technology', 4), ('tiretalk', 4), ('fantasywriters', 4), ('UpliftingNews', 4), ('gaming', 4), ('ColoradoAvalanche', 4), ('fark', 4), ('u_ApneeCommunity1', 4), ('POTUSWatch', 4), ('BravoRealHousewives', 4), ('LegalNews', 4), ('detroitlions', 4), ('PoliticalVideos', 4), ('bostonceltics', 4), ('SquaredCircle', 4), ('whatsthisspider', 4), ('education', 4), ('100yearsago', 4), ('badlawyer', 4), ('PublicFreakout', 4), ('Patriots', 4), ('BookieInsights', 4), ('NBAStreamsReddit', 4), ('MLBNLCSlive', 4), ('u_janicemiller1', 3), ('drydockporn', 3), ('DenverBroncos', 3), ('minnesotavikings', 3), ('OnlineBargains', 3), ('R4R30Plus', 3), ('NoStupidQuestions', 3), ('PokemonGoNewJersey', 3), ('bicycling', 3), ('u_Ashley981', 3), ('gardening', 3), ('Catholicism', 3), ('bombshellbra', 3), ('u_MotorsportsLatest', 3), ('guns', 3), ('reddevils', 3), ('TruthLeaks', 3), ('SportsFanMerch', 3), ('u_astrobholenath', 3), ('ConservativesOnly', 3), ('betternews', 3), ('WAPOauto', 3), ('TORONTOSTARauto', 3), ('warriors', 3), ('ww2database', 3), ('EVILAND', 3), ('teenagers', 3), ('AnythingGoesNews', 3), ('hiphopheads', 3), ('steelers', 3), ('u_bipinsharma29', 3), ('BlankTV', 3), ('ForeverAloneDating', 3), ('u_canbayinc', 3), ('SEO', 3), ('Teachers', 3), ('cscareerquestions', 3), ('The_NewDonald', 3), ('CrossdressersOnKik', 3), ('PokemonGoFriends', 3), ('CityPorn', 3), ('CrappyDesign', 3), ('swingersr4r', 3), ('Colts', 3), ('AquaSwap', 3), ('CannabisKulture', 3), ('urbanexploration', 3), ('GameFeed', 3), ('Metal', 3), ('Habs', 3), ('u_schoenhomes', 3), ('fantasyfootball', 3), ('sportsjerseys', 3), ('businesstalkdaily', 3), ('u_stevemethiew', 3), ('ripcity', 3), ('CHICAGOSUNauto', 3), ('energy', 3), ('Judaism', 3), ('trumptweets', 3), ('Tennesseetitans', 3), ('eagles', 3), ('calewerks', 3), ('Random_Acts_Of_Sex', 3), ('torontoraptors', 3), ('FlyingCheap', 3), ('towing', 3), ('finance', 3), ('CraftBeer', 3), ('formula1', 3), ('ireland', 3), ('environment', 3), ('TheBlogFeed', 3), ('personalfinance', 3), ('TheWayWeWere', 3), ('india', 3), ('Update_Today', 3), ('carporn', 3), ('caps', 3), ('NYGiants', 3), ('weddingplanning', 3), ('u_MeherMulchandani', 3), ('HockeyStreamtv', 3), ('PBSauto', 3), ('TwoXChromosomes', 3), ('CableNewsArchive', 3), ('chicagobulls', 3), ('Flyers', 3), ('u_rrobbins222', 3), ('AllgamefRee', 3), ('pacers', 3), ('NHLGameTvHD', 3), ('GoNets', 3), ('CTVLivesport', 3), ('NHLLiVeReeDiT', 3), ('CryptoNewsandTalk', 3), ('ID_News', 3), ('u_xarufff', 3), ('u_mikepandey', 3), ('ChurchOfSaros', 3), ('spikes', 3), ('LivenowspoRT', 3), ('mealtimevideos', 3), ('cardfightvanguard', 2), ('90DayFiance', 2), ('Cloud9', 2), ('HumanForScale', 2), ('hockeywriters', 2), ('supremeclothing', 2), ('buffalobills', 2), ('TheColorIsBlue', 2), ('Competitiveoverwatch', 2), ('blockchainanalytics', 2), ('gamblingnews', 2), ('polyamoryR4R', 2), ('deadmalls', 2), ('TranscribersOfReddit', 2), ('Telecommunication', 2), ('RoomPorn', 2), ('RoomFans', 2), ('u_darren15pp', 2), ('falcons', 2), ('Graffiti', 2), ('u_nn1lmoav', 2), ('medicine', 2), ('swimmingpools', 2), ('sunset', 2), ('DunderMifflin', 2), ('Woodcarving', 2), ('HVAC', 2), ('Roofing', 2), ('AZCardinals', 2), ('Outdoors', 2), ('latestnews', 2), ('realnewz', 2), ('humor', 2), ('u_juvieruel', 2), ('Military', 2), ('iamatotalpieceofshit', 2), ('Insurance', 2), ('commercialinsurance', 2), ('JoeRogan', 2), ('JusticeServed', 2), ('u_repiwane', 2), ('u_SuperbTemperature', 2), ('NaturalGas', 2), ('Bossfight', 2), ('DigitalMarketing', 2), ('WorldOfWarships', 2), ('atheism', 2), ('spotted', 2), ('pokemongo', 2), ('mushroom_hunting', 2), ('madlads', 2), ('nycrail', 2), ('unpopularopinion', 2), ('sports', 2), ('almosthomeless', 2), ('u_ethershirt', 2), ('CryptoCurrency', 2), ('CFB', 2), ('cowboys', 2), ('wikipedia', 2), ('chelseafc', 2), ('legaladviceofftopic', 2), ('LongDistance', 2), ('tattoo', 2), ('LALakersAddict', 2), ('Volvo', 2), ('BellsPalsy', 2), ('CuckoldPersonals', 2), ('punk', 2), ('esist', 2), ('TelevisionST', 2), ('Shitty_Car_Mods', 2), ('birding', 2), ('attorneys', 2), ('SolarCity', 2), ('SpidermanPS4', 2), ('u_ravixfff', 2), ('u_solarpowerpanel', 2), ('u_Annabrowntct', 2), ('buccaneers', 2), ('badgovnofreedom', 2), ('ncaaweek3Streaming', 2), ('Philippines', 2), ('hms', 2), ('NBA2k', 2), ('jewelers', 2), ('denvernuggets', 2), ('cuddlebuddies', 2), ('leafs', 2), ('ShroomID', 2), ('FriendlyAtheist', 2), ('ObscureMedia', 2), ('u_nujoz', 2), ('u_gexixosi', 2), ('HeavySeas', 2), ('feet', 2), ('AskAnAmerican', 2), ('rutgers', 2), ('Blackfellas', 2), ('u_rebuf', 2), ('asianamerican', 2), ('funkopop', 2), ('bjj', 2), ('teamliquid', 2), ('NBASpurs', 2), ('JonoBondTwitter', 2), ('winnipegjets', 2), ('women', 2), ('tweetsfromtrump', 2), ('TrumpsTweets', 2), ('RealDonaldTrump', 2), ('u_LateRoyal', 2), ('racism', 2), ('reactiongifs', 2), ('u_revow', 2), ('usanews', 2), ('meetup', 2), ('GreenPartyNJ', 2), ('GreenPartyUSA', 2), ('thisisntwhoweare', 2), ('USNEWS', 2), ('democrats', 2), ('baseball', 2), ('NewJerseyMarijuana', 2), ('original', 2), ('WolfPAChq', 2), ('HotPeppers', 2), ('food', 2), ('u_Hardmoney365', 2), ('Exaro', 2), ('u_Easing_the_Badger', 2), ('NHL4k', 2), ('baseballunis', 2), ('Cyberpunk', 2), ('Oldhouses', 2), ('u_hotadibin', 2), ('NewJerseyMan', 2), ('Fighters', 2), ('canucks', 2), ('Futurology', 2), ('AskALiberal', 2), ('LeafNation', 2), ('NatureIsFuckingLit', 2), ('Kikpals', 2), ('winemaking', 2), ('Mushrooms', 2), ('CirclejerkSopranos', 2), ('Libertarian', 2), ('batman', 2), ('njHistory', 2), ('MorbidReality', 2), ('MineralPorn', 2), ('Dentistry', 2), ('ChristmasLights', 2), ('hockeyGTT', 2), ('interestingasfuck', 2), ('texas', 2), ('u_Systemart', 2), ('suns', 2), ('Nedir', 2), ('538auto', 2), ('DataUncensored', 2), ('MilitaryNewsfeed', 2), ('yimby', 2), ('species', 2), ('Thunder', 2), ('All_American_News', 2), ('jobs', 2), ('anythinggoesblog', 2), ('whowouldwin', 2), ('leagueoflegends', 2), ('STOCKMARKETNEWS', 2), ('artstudio', 2), ('funny_news', 2), ('lawncare', 2), ('DallasStars', 2), ('Affairs', 2), ('u_CollexCollision', 2), ('disney', 2), ('u_wildwoodvacation', 2), ('cars', 2), ('BobsBurgers', 2), ('TampaBayLightning', 2), ('u_Larry-33-Shotz', 2), ('u_yemonaffffff', 2), ('u_agileurgentcare', 2), ('OneAmericaNews', 2), ('DunnoGang', 2), ('rap', 2), ('memes', 2), ('NCAAFPremierTv', 2), ('u_koxowu', 2), ('TheGreatWar', 2), ('pancakepalpatine', 2), ('TheColorIsOrange', 2), ('thongsandals', 2), ('Jokes', 2), ('bodegaboys', 2), ('NEWSDAYauto', 2), ('u_girolawus', 2), ('u_xuzojebihef', 2), ('climate', 2), ('MLS', 2), ('DHgate', 2), ('u_SpecializedAutoMrkt', 2), ('hockeyplayers', 2), ('NewsOfTheStupid', 2), ('CommentAwardsForum', 2), ('whatsthisrock', 2), ('crappyoffbrands', 2), ('Coinness', 2), ('The_Congress', 2), ('NYKnicks', 2), ('Frei_Donald', 2), ('u_xinugurif', 2), ('u_njlaw1234', 2), ('u_stresstherapistnj', 2), ('PaidStudies', 2), ('FellowKids', 2), ('u_warinidawf', 2), ('INSTALLATION', 2), ('aviation', 2), ('TBTauto', 2), ('IndustrialPharmacy', 2), ('MachinePorn', 2), ('AmarsportUS', 2), ('AskNYC', 2), ('Predators', 2), ('HistoryPorn', 2), ('u_THANOS_CAR_420', 2), ('rental', 2), ('u_RobbDigitalMarketing', 2), ('u_tommy_mover', 2), ('SportstvLive', 2), ('liluzivert', 1), ('u_lokawuto', 1), ('MilitaryFans', 1), ('bigdicklovers', 1), ('u_helanlanez', 1), ('propellerporn', 1), ('wholock', 1), ('SQL', 1), ('Torontobluejays', 1), ('nova', 1), ('TheCosbyShow', 1), ('PhotoshopRequest', 1), ('JurassicPark', 1), ('u_Yung-Rahdrikus-Jr', 1), ('hockeygoalies', 1), ('Mortytown', 1), ('listentothis', 1), ('Veterinary', 1), ('shittyengineering', 1), ('ComedyCemetery', 1), ('Deathmetal', 1), ('swingertravel', 1), ('u_wizije', 1), ('Vinesauce', 1), ('Entertainment_Gossip', 1), ('jobbit', 1), ('DCcomics', 1), ('RisingThreads', 1), ('u_michele41op', 1), ('u_kurt0ee', 1), ('FixedGearBicycle', 1), ('sadboys', 1), ('u_tex_Davi', 1), ('u_JibbitICO', 1), ('tacobell', 1), ('doodles', 1), ('AdvertiseYourVideos', 1), ('UofT', 1), ('AskDocs', 1), ('medical', 1), ('submarine', 1), ('u_wil_do', 1), ('jimmysnfldiscordnews', 1), ('opieandanthony', 1), ('HomeImprovementGuides', 1), ('howardstern', 1), ('fakehistoryporn', 1), ('dadjokes', 1), ('Cigarettes', 1), ('podemos', 1), ('vacationtalk', 1), ('MostBeautiful', 1), ('scuba', 1), ('Jaguars', 1), ('TheMakingOf', 1), ('u_aaronuso', 1), ('hockeysimtest', 1), ('zerohedge', 1), ('submechanophobia', 1), ('greatawakening', 1), ('Trumptrain2020', 1), ('The_GreatAwakening', 1), ('umass', 1), ('woodworking', 1), ('Redskins', 1), ('MapFans', 1), ('BlackPeopleTwitter', 1), ('Ice_Poseidon', 1), ('JoeBiden', 1), ('mtred', 1), ('circlejerk', 1), ('Bobbers', 1), ('DrawForMe', 1), ('birdpics', 1), ('APICaseFiles', 1), ('pharmacy', 1), ('fauxre', 1), ('SkincareAddiction', 1), ('Rochester', 1), ('DeFranco', 1), ('NewsPorn', 1), ('NewsFans', 1), ('u_NearbyNeat', 1), ('moped', 1), ('News24Hour', 1), ('Threesomes', 1), ('SCMPauto', 1), ('AmIFreeToGo', 1), ('exchristian', 1), ('KitSwap', 1), ('RATS', 1), ('stlouisblues', 1), ('FreeAtheism', 1), ('spain', 1), ('seedstock', 1), ('scammers', 1), ('Zoomies', 1), ('qualitynews', 1), ('yester', 1), ('Mizkif', 1), ('neoliberal', 1), ('adultnursing', 1), ('u_hypnosispeel2', 1), ('u_piseleca', 1), ('r4rFurry', 1), ('JusticeServedCold', 1), ('drugdetox', 1), ('RoastMe', 1), ('navy', 1), ('Con3News', 1), ('Conservatives_Today', 1), ('R4OlderWomen', 1), ('FootFetish', 1), ('NHLStreams', 1), ('LonzoBall', 1), ('linkbuilding', 1), ('Maine', 1), ('acappella', 1), ('u_UpcomingAmerica', 1), ('sabres', 1), ('renfaire', 1), ('nbadiscussion', 1), ('Fuck_the_NRA', 1), ('YouTube_startups', 1), ('u_shirtbybabilon', 1), ('u_ducadi', 1), ('SeaList', 1), ('Seahawks', 1), ('SeattleWA', 1), ('lesbianr4r', 1), ('u_bigbrass93', 1), ('FrankOcean', 1), ('OurWorldTWD', 1), ('talesfromtamriel', 1), ('SkyDiving', 1), ('Seattle', 1), ('driving', 1), ('pokemongotrades', 1), ('WarofTheWorlds', 1), ('jhartifttt', 1), ('Bombing', 1), ('TropicalWeather', 1), ('h1b', 1), ('Lyft', 1), ('MakeFriendsHere', 1), ('unschool', 1), ('BeautyDiagrams', 1), ('BeefCakeHunter', 1), ('censorship', 1), ('niceguys', 1), ('u_pulofff', 1), ('SubaruEmbassy', 1), ('u_carolyngarvey', 1), ('NBA_Addict', 1), ('u_DizzyStomach', 1), ('u_cabafFF', 1), ('u_yflogisticsllc', 1), ('Cuckold', 1), ('CANiTunesMovieDeals', 1), ('averagecock', 1), ('AskHistorians', 1), ('gaygeek', 1), ('TopDesign', 1), ('pelotoncycle', 1), ('whalewatching', 1), ('BestCasinoReview', 1), ('InstacartShoppers', 1), ('Ska', 1), ('Hardcore', 1), ('Cryptozoology', 1), ('u_shirtooo', 1), ('SelfSufficiency', 1), ('GillianJacobs', 1), ('Ringnews24', 1), ('papertowns', 1), ('u_pitidif', 1), ('askcarsales', 1), ('Hotwife', 1), ('u_Omgdealsz', 1), ('u_rextees', 1), ('u_brendaphillips1', 1), ('u_onlinegamblings', 1), ('4x4', 1), ('washingtondc', 1), ('Millville', 1), ('u_BetterThanSeptic', 1), ('sushi', 1), ('HotWifeRequests', 1), ('not_the_donald', 1), ('Art', 1), ('nesclassicmods', 1), ('u_StrongWolf85', 1), ('u_wecujut', 1), ('ACMilan', 1), ('CuckoldCommunity', 1), ('u_juliabozeman', 1), ('poker', 1), ('deals4you', 1), ('casino8', 1), ('rollercoasters', 1), ('u_nenijfff', 1), ('PoliceVehicles', 1), ('flying', 1), ('NewEnglandPatriots', 1), ('Arrowverse', 1), ('cigars', 1), ('TheMAGANetwork', 1), ('israelexposed', 1), ('sludge', 1), ('u_njcopierlease12', 1), ('newjerseypolitics', 1), ('MAGA_MAGAZINE', 1), ('wildhockey', 1), ('AmericanHistory', 1), ('Nails', 1), ('nosleep', 1), ('ftlgame', 1), ('Ohio', 1), ('LinkinPark', 1), ('copypasta', 1), ('camping', 1), ('u_vildesign', 1), ('u_tantrung', 1), ('u_grimapplez88', 1), ('MagaOneRadio', 1), ('FoodPorn', 1), ('u_nickwilson51214', 1), ('Texans', 1), ('usedpanties', 1), ('NewYorkMets', 1), ('LegendsOfTomorrow', 1), ('u_teejeep', 1), ('hemp', 1), ('Wellthatsucks', 1), ('HumanTrafficking', 1), ('photography', 1), ('badMovies', 1), ('PostHardcore', 1), ('GenderCritical', 1), ('LandRover', 1), ('photomarket', 1), ('trashy', 1), ('TELEGRAPHauto', 1), ('mildlyinfuriating', 1), ('SportsbookNews', 1), ('TransAdoption', 1), ('keyholding', 1), ('AsburyPark', 1), ('SurfFishing', 1), ('jacksonville', 1), ('aliens', 1), ('EBEs', 1), ('wanttobelieve', 1), ('Trump_Idiocy', 1), ('LAFC', 1), ('Mommit', 1), ('tiltshift', 1), ('freebies', 1), ('asktransgender', 1), ('12keys', 1), ('localmusic', 1), ('centraljersey', 1), ('CryptocurrencyICO', 1), ('icocrypto', 1), ('islam', 1), ('RenewableEnergy', 1), ('SSBPM', 1), ('SavageGarden', 1), ('EcoNewsNetwork', 1), ('poppunkers', 1), ('TheInfowarsFeed', 1), ('cryptobots', 1), ('VolvoRWD', 1), ('economy', 1), ('homebuilt', 1), ('DogBreeds', 1), ('uncensorship', 1), ('predsgirl92', 1), ('imaginarymaps', 1), ('Clouding', 1), ('coys', 1), ('datarecovery', 1), ('security', 1), ('profileshare', 1), ('u_buhadarol', 1), ('u_vitelglobalLLC', 1), ('N_N_N', 1), ('12hdemlink', 1), ('PearlJamBootlegs', 1), ('Gunners', 1), ('PGATourGolf', 1), ('vandwellers', 1), ('verizon', 1), ('aznidentity', 1), ('UrbanMyths', 1), ('NewJerseyforSanders', 1), ('SEC', 1), ('TransphobiaProject', 1), ('Charleston', 1), ('planetaryannihilation', 1), ('NonBinary', 1), ('woahdude', 1), ('psychedelicrock', 1), ('flightattendants', 1), ('RealEstateTechnology', 1), ('u_adamcrist000', 1), ('u_DarthEthereum', 1), ('moths', 1), ('u_steveMixtiffinuel', 1), ('wind', 1), ('Documentaries', 1), ('DavidBowie', 1), ('softwaregore', 1), ('NJTech', 1), ('Rateme', 1), ('yellowperil', 1), ('sexcriminals', 1), ('waterporn', 1), ('tennis', 1), ('trunknation', 1), ('BonJovi', 1), ('LoveLive', 1), ('u_bitofff', 1), ('Pizzagatekeeping', 1), ('RiderUniversity', 1), ('u_Forklift_Certificate', 1), ('Dagtar', 1), ('apple', 1), ('tom', 1), ('Standup', 1), ('ResponseToPresident', 1), ('SASpursAddict', 1), ('hookup', 1), ('shakespeare', 1), ('u_StandardMemory', 1), ('WordAvalanches', 1), ('SublimeText', 1), ('gamingnews', 1), ('ScottPilgrim', 1), ('Watercolor', 1), ('alexkime', 1), ('servers', 1), ('MarkMyWords', 1), ('TeamSolomid', 1), ('SurfPunk', 1), ('u_graydown_aw', 1), ('mega64', 1), ('ExplainAFilmPlotBadly', 1), ('aclu', 1), ('NewJerseyForTrump', 1), ('melodichardcore', 1), ('Paintings', 1), ('u_Groundbreaking_Depth', 1), ('globalisation', 1), ('whatbugisthis', 1), ('badparking', 1), ('petsitting', 1), ('Salted_Crime', 1), ('sellmycar', 1), ('mistyfront', 1), ('ArtSphere', 1), ('Entomology', 1), ('Hungercraft', 1), ('HIFW', 1), ('Drifting', 1), ('pixelography', 1), ('u_yvonne65tt', 1), ('Fuckthealtright', 1), ('u_wumadf', 1), ('GUARDIANauto', 1), ('roadtrip', 1), ('literature', 1), ('u_frfrmstobi77', 1), ('homeautomation', 1), ('GamePhysics', 1), ('SFBayAreaNews', 1), ('LGBTnews', 1), ('AthleticAesthetics', 1), ('BasketballSociety', 1), ('gratefuldead', 1), ('internettoday', 1), ('gaybrosgonemild', 1), ('NYCtrees', 1), ('kauai', 1), ('u_herixomi', 1), ('PPC', 1), ('rescuedogs', 1), ('AnimalPorn', 1), ('Foodnews', 1), ('hotsauce', 1), ('WarhammerChampions', 1), ('bostontrees', 1), ('SellerZen', 1), ('NeedABand', 1), ('makeaband', 1), ('musicianswanted', 1), ('Radiology', 1), ('musicianfinder', 1), ('49ers', 1), ('freeworldnews', 1), ('rcboats', 1), ('runes', 1), ('crime', 1), ('superman', 1), ('TrueWalkingDead', 1), ('baseballcards', 1), ('u_Nicefrogtee', 1), ('UFOs', 1), ('u_bevawuke', 1), ('socialwork', 1), ('privatejets', 1), ('TheBrewery', 1), ('badtastingmedicine', 1), ('BrasilOnReddit', 1), ('Corinthians', 1), ('dub', 1), ('TheLibertyEagle', 1), ('riddim', 1), ('CoOpGaming', 1), ('Techno', 1), ('PhotographyJobs', 1), ('Filmmaker4Filmmaker', 1), ('PedoGate', 1), ('G2eSports', 1), ('JoeyDiaz', 1), ('CFL', 1), ('maintenance', 1), ('Airports', 1), ('MyChemicalRomance', 1), ('indianapolis', 1), ('toilet', 1), ('wma', 1), ('ussoccer', 1), ('unitedstatesofamerica', 1), ('skrillex', 1), ('ask', 1), ('beer', 1), ('facepalm', 1), ('u_lopawfff', 1), ('fightinggames', 1), ('BearLingo', 1), ('WritingPrompts', 1), ('Repairs', 1), ('opensource', 1), ('u_rachelgreen007', 1), ('u_ufosightingsfootage', 1), ('uberdrivers', 1), ('NotAnotherDnDPodcast', 1), ('volunteer', 1), ('u_ReleaseSky', 1), ('MMA', 1), ('Counternarcotics', 1), ('u_somudaxuwfff', 1), ('GAA', 1), ('ChairmanMao', 1), ('MakeNewFriendsHere', 1), ('travisscott', 1), ('drunk', 1), ('MadeMeSmile', 1), ('wow', 1), ('PoliticalDiscussion', 1), ('u_tintman121', 1), ('flowers', 1), ('u_Man_from_modern_era', 1), ('Filmmakers', 1), ('WhatAGorgeousCity', 1), ('randomactofblowjob', 1), ('lawn', 1), ('AtlantaUnited', 1), ('PlantIdentification', 1), ('cringeanarcy', 1), ('WhiskeyTribe', 1), ('u_ozzystormalert', 1), ('mineralcollectors', 1), ('u_cigisegubafff', 1), ('Montana', 1), ('MassiveCock', 1), ('realestateinvesting', 1), ('Autos', 1), ('Joedor', 1), ('Dashcam', 1), ('bassnectar', 1), ('u_diaalina123', 1), ('WQHD_Wallpaper', 1), ('SmallYTChannel', 1), ('books', 1), ('MiamiHurricanes', 1), ('Countable', 1), ('Saints', 1), ('u_MarkBrooklyn', 1), ('u_FullMain', 1), ('ABCDesis', 1), ('Scotland', 1), ('tickling', 1), ('carcrash', 1), ('ScienceImages', 1), ('weatherballoons', 1), ('apod', 1), ('Eddy_Test', 1), ('Astronomy', 1), ('Jupiters', 1), ('BeAmazed', 1), ('bagpipes', 1), ('landscape', 1), ('swimmingpool', 1), ('nursing', 1), ('Lottery', 1), ('DamnInteresting', 1), ('u_srinunj', 1), ('peloton', 1), ('hiking', 1), ('HEATVICE', 1), ('AdoptedDogsAreBest', 1), ('gatekeeping', 1), ('ftm', 1), ('StarWars', 1), ('Cumtown', 1), ('u_julesreuben1686', 1), ('u_hartylawgroup', 1), ('TraditionalCatholics', 1), ('911dispatchers', 1), ('2ALiberals', 1), ('NYr4r', 1), ('gunpolitics', 1), ('NOWTTYG', 1), ('starterpacks', 1), ('Cleveland', 1), ('imaginedragons', 1), ('click', 1), ('u_parsajames', 1), ('wsw', 1), ('comedy', 1), ('u_BookingMarkets', 1), ('u_itoutsourcshanghai', 1), ('single', 1), ('Homebrewing', 1), ('The_Hugin', 1), ('u_Biographytree', 1), ('mylittleandysonic1', 1), ('TheAvettBrothers', 1), ('Kossacks_for_Sanders', 1), ('u_syamtejavallabhu', 1), ('southpark', 1), ('OldNews', 1), ('u_printbrokerassociate', 1), ('u_sohanlal11', 1), ('TenYearsAgoOnReddit', 1), ('promote', 1), ('NOLAPelicans', 1), ('CuckqueanCommunity', 1), ('Republican', 1), ('webgirlporn', 1), ('securityguards', 1), ('shamelessplug', 1), ('u_AWtech18', 1), ('firstworldproblems', 1), ('Floof', 1), ('MensRights', 1), ('ultimate', 1), ('BadDesigns', 1), ('electronic_cigarette', 1), ('finechina', 1), ('NHLGamestreaming', 1), ('Sat', 1), ('LittlePeopleBigWorld', 1), ('Anarchism', 1), ('socialism', 1), ('berserklejerk', 1), ('CougarsAndCubs', 1), ('PBSOD', 1), ('WTFJustHappenedToday', 1), ('u_metalman251276', 1), ('Hoboken', 1), ('Beto_for_Senate', 1), ('shrooms', 1), ('missouri', 1), ('Fishing', 1), ('Sissy', 1), ('Followback', 1), ('TexasConservatives', 1), ('u_zantechsolution1', 1), ('CreepyWikipedia', 1), ('bertstrips', 1), ('GayTeensGoneMild', 1), ('bodybuilding', 1), ('EngineeringJobs', 1), ('atlanticcity', 1), ('BruceSpringsteen', 1), ('u_socialspaniac', 1), ('Positive_News', 1), ('Journalism', 1), ('Wishlist', 1), ('Mosses', 1), ('mapmaking', 1), ('MkeBucks', 1), ('decoration', 1), ('03103108xxx', 1), ('WouldYouFuckMyWife', 1), ('toptickets', 1), ('BostonBruins', 1), ('LiveCamsSFW', 1), ('BlueJackets', 1), ('MechanicalKeyboards', 1), ('LawSchool', 1), ('ModestMouse', 1), ('destiny2', 1), ('PinegroveBand', 1), ('snakes', 1), ('moving', 1), ('Warehousing', 1), ('civilengineers', 1), ('100thieves', 1), ('u_cipedafff', 1), ('television', 1), ('Hookit', 1), ('u_bestastrologerusa', 1), ('donate', 1), ('Mediaite', 1), ('MGTOW', 1), ('realitytv', 1), ('marchingband', 1), ('EA_NHL', 1), ('EASHL', 1), ('VoiceActing', 1), ('AirConditioningRepair', 1), ('u_jerseycitymovers', 1), ('RealEstate', 1), ('njgaymers', 1), ('EconNews', 1), ('mopar', 1), ('meettransgirls', 1), ('FallOutBoy', 1), ('Whatisthis', 1), ('smashbros', 1), ('u_nezawalf', 1), ('transmeetup', 1), ('ukpolitics', 1), ('TWRP', 1), ('Lightning', 1), ('fcs', 1), ('transformers', 1), ('tbftc', 1), ('lnlfsnews', 1), ('NFLScoresUpdate', 1), ('college', 1), ('Hiphopcirclejerk', 1), ('NewsRegardingAmoebas', 1), ('u_mowdownjoe', 1), ('u_IllustriousCondition', 1), ('bikecommuting', 1), ('incest', 1), ('Greyhounds', 1), ('propaganda', 1), ('AbandonedPorn', 1), ('The_Donald_NJ', 1), ('thatHappened', 1), ('MarshallBrain', 1), ('EasternSunRising', 1), ('wwi', 1), ('ww1', 1), ('LocationBot', 1), ('houston', 1), ('jobuds', 1), ('SkydTech', 1), ('u_DryRespond', 1), ('IndianHotwife', 1), ('eu4', 1), ('DonaldTrumpWhiteHouse', 1), ('namenerds', 1), ('u_m30w7h', 1), ('u_Dimas051', 1), ('r4rdirty', 1), ('ImpregPersonals', 1), ('Attorney_Lawyer', 1), ('u_vkshastriv', 1), ('u_antiagingcentrnj', 1), ('ProfileSummary', 1), ('u_NewAgeSMB_', 1), ('u_cogofff', 1), ('golf', 1), ('SevillaFC', 1), ('Pictures', 1), ('tipofmytongue', 1), ('FuckMyShitUp', 1), ('CancerSucks', 1), ('Immigrants_in_America', 1), ('rapbattles', 1), ('Madden', 1), ('u_bidulf', 1), ('medicalcannabis', 1), ('THPS', 1), ('HUFFPOauto', 1), ('westfieldnj', 1), ('Truckers', 1), ('beholdthemasterrace', 1), ('joker', 1), ('CrossdressDating', 1), ('ApplyingToCollege', 1), ('nintendo', 1), ('Chargers', 1), ('u_yoferupidf', 1), ('TokyoGhoul', 1), ('ModelT', 1), ('hillaryclinton', 1), ('HillaryForPrison', 1), ('u_rentahelpermoving', 1), ('naturepics', 1), ('Fingerboards', 1), ('ThePodcastFeed', 1), ('seinfeld', 1), ('nra', 1), ('maximumfun', 1), ('u_vkshastri366', 1), ('RandomActsOfPegging', 1), ('thalassophobia', 1), ('ThisIsOurMusic', 1), ('TheMajorityReport', 1), ('u_euphoriaray', 1), ('me_irl', 1), ('u_mucedf', 1), ('lasskicker', 1), ('investing', 1), ('acecombat', 1), ('Bushcraft', 1), ('Moneybags', 1), ('FrehleyFans', 1), ('cuba', 1), ('memphisgrizzlies', 1), ('centerleftpolitics', 1), ('democraticparty', 1), ('Liberal', 1), ('Christianvids', 1), ('CCW', 1), ('OSHA', 1), ('u_wesayejf', 1), ('metaldetecting', 1), ('HighStrangeness', 1), ('Padres', 1), ('gorillaz', 1), ('BoardGameExchange', 1), ('F1FeederSeries', 1), ('whatisthismushroom', 1), ('GWCOEPBot', 1), ('GayChubs', 1), ('WeinsteinEffect', 1), ('Quoteprism', 1), ('bookmark', 1), ('RadioFree', 1), ('ftmspunished', 1), ('CryptoProfits', 1), ('news_just_for_you', 1), ('NEWSJUSTFORYOU', 1), ('TheSilphRoad', 1), ('PlantedTank', 1), ('TheWayWeWereOnVideo', 1), ('Sizz', 1), ('marvelstudios', 1), ('seduction', 1), ('plantclinic', 1), ('dynamo', 1), ('u_BGMSportsTrax', 1), ('DetroitPistons', 1), ('Pixel3', 1), ('u_TsujSynthmane', 1), ('u_Manningpaul788', 1), ('HomeLoans', 1), ('Fitness', 1), ('savedyouaclick', 1), ('DanLeBatardShow', 1), ('UrbanHell', 1), ('ImpracticalJokers', 1), ('u_messineolaw24', 1), ('insects', 1), ('casa', 1), ('cryptoall', 1), ('BitNewsLive', 1), ('fbitcoin', 1), ('SkyPorn', 1), ('john_Weaver_solar_Guy', 1), ('screenshots', 1), ('sissyboys', 1), ('u_xihasif', 1), ('Bitcoin', 1), ('Concerts', 1), ('Replacements', 1), ('retailporn', 1), ('Transportation', 1), ('Firearms', 1), ('LeagueOfIreland', 1), ('depression', 1), ('ATBGE', 1), ('u_luwismart', 1), ('nflmemes', 1), ('Wired_Top_Stories', 1), ('RTauto', 1), ('littlenews', 1), ('motorcycles', 1), ('noagenda', 1), ('Assistance', 1), ('u_tommcneely', 1), ('hexagons', 1), ('u_problemtipstoday', 1), ('u_KalitorMensa', 1), ('political_leader', 1), ('PupliftingNews', 1), ('socialmilf', 1), ('LitecoinMarkets', 1), ('u_jamieroofingrepairnj', 1), ('JunkRemoval', 1), ('WarplanePorn', 1), ('explainlikeimfive', 1), ('wirtschaftsticker', 1), ('hauntedattractions', 1), ('altnewz', 1), ('WWIIplanes', 1), ('gorecrowsociety', 1), ('gross', 1), ('Gaykikpals', 1), ('fossils', 1), ('u_CuteIncrease', 1), ('FinalFantasyTCG', 1), ('Social_Terrorism', 1), ('grumpy_archive', 1), ('LasVegas', 1), ('dock', 1), ('BBCauto', 1), ('WW24NEWS', 1), ('carwash', 1), ('undelete', 1), ('TheGoodPlace', 1), ('avesNYC', 1), ('Mavericks', 1), ('gentlefemdompersonals', 1), ('EverythingScience', 1), ('drumcorps', 1), ('EDH', 1), ('u_wawakiruf', 1), ('Purdue', 1), ('improvement', 1), ('russmartinshow', 1), ('u_Quantumitpro1', 1), ('gravityfalls', 1), ('u_cassieillianc', 1), ('NHLHUT', 1), ('u_atmocean275', 1), ('TalesFromTheFrontDesk', 1), ('wikinews', 1), ('Sissydating', 1), ('FBIWatch', 1), ('AmateurEarthPorn', 1), ('Dodgers', 1), ('tuesday', 1), ('BuyEventTickets', 1), ('Pizza', 1), ('Animals', 1), ('sportsbooking', 1), ('guncontrol', 1), ('nycfood', 1), ('textfriends', 1), ('cf4cf', 1), ('u_vikaramastrology', 1), ('techhelp', 1), ('AMAAggregator', 1), ('DirecTVNow', 1), ('u_Washington_Brief', 1), ('privinv', 1), ('Watches', 1), ('Celebsshack', 1), ('Cricket', 1), ('u_vkshastri384', 1), ('Divorce', 1), ('westerner', 1), ('westernvalues', 1), ('spartanrace', 1), ('Blind', 1), ('changemyview', 1), ('HomeImprovement', 1), ('kitchenremodel', 1), ('DeltaLog', 1), ('WeAreTheMusicMakers', 1), ('MagicArena', 1), ('ockytop', 1), ('surfing', 1), ('u_hiwugejf', 1), ('msp', 1), ('TargetedEnergyWeapons', 1), ('publichealth', 1), ('GetMotivatedBuddies', 1), ('u_TomOrrLaw', 1), ('SoundersFC', 1), ('epidemiology', 1), ('chess', 1), ('Jeep', 1), ('VHS', 1), ('redsox', 1), ('the_mDonald', 1), ('MissilePorn', 1), ('EngineeringPorn', 1), ('scifi', 1), ('u_BillyEliasNSR', 1), ('CGPGrey2', 1), ('HelloInternet', 1), ('throwaway_the_videos', 1), ('Jpmc1SUBREDDIT', 1), ('oldschoolmtg', 1), ('dancormier', 1), ('AmazonFlexDrivers', 1), ('LifeProTips', 1), ('GetMotivated', 1), ('u_GuardianMajor', 1), ('GreatAmericanRoadTrip', 1), ('mazda3', 1)]\n"
     ]
    }
   ],
   "source": [
    "# query = \"electronic-cigarette\"\n",
    "# sub = \"electronic_cigarette\"\n",
    "\n",
    "for query in keywords:\n",
    "    print('--------------------------------------')\n",
    "    print('Query: ', query)\n",
    "    after = str(after_start_seconds).split('.')[0]\n",
    "    before = str(before_end_seconds).split('.')[0]\n",
    "\n",
    "    subStats = {}\n",
    "    subreddit_dict = {}\n",
    "\n",
    "    data = getPushshiftData_noSubreddit(query, after, before)\n",
    "    # Will run until all posts have been gathered \n",
    "    # from the 'after' date up until before date\n",
    "    while len(data) > 0:\n",
    "        for submission in data:\n",
    "#             print(submission)\n",
    "#             print(submission['title'])\n",
    "#             print(submission['subreddit'])\n",
    "#             print('-----------')\n",
    "            collectSubData(submission)\n",
    "    #         print(submission)\n",
    "            try:\n",
    "                subreddit = submission['subreddit']\n",
    "            except KeyError:\n",
    "                subreddit = \"None\"\n",
    "            subreddit_dict[subreddit] = subreddit_dict.get(subreddit, 0) + 1\n",
    "    #         break\n",
    "\n",
    "        # Prepare for next iteration\n",
    "        # print(str(datetime.datetime.fromtimestamp(data[-1]['created_utc'])))\n",
    "        after = data[-1]['created_utc']\n",
    "        data = getPushshiftData_noSubreddit(query, after, before)\n",
    "\n",
    "    print(len(data))\n",
    "    print('length of subStats.keys(): ', len(subStats.keys()))\n",
    "#     print('subreddit_dict: ', subreddit_dict)\n",
    "    print('Sorted: ', sorted(subreddit_dict.items(), key=lambda d: d[1], reverse=True))\n",
    "    break\n",
    "#     print('Sorted: ', sorted(subreddit_dict.items(), key=lambda d: d[1], reverse=True))\n"
   ]
  },
  {
   "cell_type": "code",
   "execution_count": null,
   "metadata": {},
   "outputs": [],
   "source": []
  },
  {
   "cell_type": "code",
   "execution_count": null,
   "metadata": {},
   "outputs": [],
   "source": []
  },
  {
   "cell_type": "code",
   "execution_count": null,
   "metadata": {},
   "outputs": [],
   "source": []
  },
  {
   "cell_type": "code",
   "execution_count": null,
   "metadata": {},
   "outputs": [],
   "source": []
  },
  {
   "cell_type": "code",
   "execution_count": null,
   "metadata": {},
   "outputs": [],
   "source": []
  },
  {
   "cell_type": "markdown",
   "metadata": {},
   "source": [
    "### Specific subreddit"
   ]
  },
  {
   "cell_type": "code",
   "execution_count": 12,
   "metadata": {},
   "outputs": [
    {
     "name": "stdout",
     "output_type": "stream",
     "text": [
      "0\n"
     ]
    }
   ],
   "source": [
    "query = \"\"\n",
    "sub = \"electronic_cigarette\"\n",
    "after = str(after_start_seconds).split('.')[0]\n",
    "before = str(before_end_seconds).split('.')[0]\n",
    "\n",
    "\n",
    "subCount = 0\n",
    "subStats = {}\n",
    "\n",
    "data = getPushshiftData(query, after, before, sub)\n",
    "# Will run until all posts have been gathered \n",
    "# from the 'after' date up until before date\n",
    "while len(data) > 0:\n",
    "    for submission in data:      \n",
    "        collectSubData(submission)\n",
    "#         print(submission)\n",
    "#         subCount+=1\n",
    "#         break\n",
    "    # Calls getPushshiftData() with the created date of the last submission\n",
    "    print(len(data))\n",
    "    print(str(datetime.datetime.fromtimestamp(data[-1]['created_utc'])))\n",
    "    after = data[-1]['created_utc']\n",
    "    data = getPushshiftData(query, after, before, sub)\n",
    "#     break\n",
    "    \n",
    "print(len(data))"
   ]
  },
  {
   "cell_type": "code",
   "execution_count": 9,
   "metadata": {},
   "outputs": [
    {
     "name": "stdout",
     "output_type": "stream",
     "text": [
      "length of subStats.keys():  5457\n"
     ]
    }
   ],
   "source": [
    "print('length of subStats.keys(): ', len(subStats.keys()))"
   ]
  },
  {
   "cell_type": "code",
   "execution_count": 11,
   "metadata": {
    "scrolled": true
   },
   "outputs": [
    {
     "name": "stdout",
     "output_type": "stream",
     "text": [
      "5457 submissions have added to list\n",
      "1st entry is:\n",
      "Need of advice for a begginer ( Smok AL85 and Zeus mono coil) created: electronic_cigarette\n",
      "Last entry is:\n",
      "Customer experience with MYLÉ created: electronic_cigarette\n"
     ]
    }
   ],
   "source": [
    "print(str(len(subStats)) + \" submissions have added to list\")\n",
    "print(\"1st entry is:\")\n",
    "print(list(subStats.values())[0][0][1] + \" created: \" + str(list(subStats.values())[0][0][5]))\n",
    "print(\"Last entry is:\")\n",
    "print(list(subStats.values())[-1][0][1] + \" created: \" + str(list(subStats.values())[-1][0][5]))"
   ]
  },
  {
   "cell_type": "code",
   "execution_count": 112,
   "metadata": {},
   "outputs": [
    {
     "name": "stdout",
     "output_type": "stream",
     "text": [
      "input filename of submission file, please add .csv\n",
      "test.csv\n",
      "1000 submissions have been uploaded\n"
     ]
    }
   ],
   "source": [
    "def updateSubs_file():\n",
    "    upload_count = 0\n",
    "    location = \"\"\n",
    "    print(\"input filename of submission file, please add .csv\")\n",
    "    filename = input()\n",
    "    file = location + filename\n",
    "    with open(file, 'w', newline='', encoding='utf-8') as file: \n",
    "        a = csv.writer(file, delimiter=',')\n",
    "        headers = [\"Post ID\",\"Title\",\"Url\",\"Author\",\"Score\",\"Publish Date\",\"Total No. of Comments\",\"Permalink\",\"Flair\"]\n",
    "        a.writerow(headers)\n",
    "        for sub in subStats:\n",
    "            a.writerow(subStats[sub][0])\n",
    "            upload_count+=1\n",
    "            \n",
    "        print(str(upload_count) + \" submissions have been uploaded\")\n",
    "        \n",
    "updateSubs_file()"
   ]
  },
  {
   "cell_type": "markdown",
   "metadata": {},
   "source": [
    "# Based on the submission, retrieve the comments"
   ]
  },
  {
   "cell_type": "code",
   "execution_count": 125,
   "metadata": {},
   "outputs": [],
   "source": [
    "get_comments_id_from_submission_url = \"https://api.pushshift.io/reddit/submission/comment_ids/\"\n",
    "get_comment_by_id_url = \"https://api.pushshift.io/reddit/comment/search?ids=\""
   ]
  },
  {
   "cell_type": "code",
   "execution_count": 131,
   "metadata": {
    "scrolled": true
   },
   "outputs": [
    {
     "name": "stdout",
     "output_type": "stream",
     "text": [
      "['ds0npl7', 'ds0nrb1', 'ds0ridc', 'ds0rmkn', 'ds0tfjt', 'ds0twmr', 'ds0uado', 'ds0v8qw', 'ds0vmti', 'ds0vndj', 'ds0yzmw', 'ds0z0kc', 'ds0zftx', 'ds19414', 'ds2om6u']\n",
      "comment:  [{'approved_at_utc': None, 'author': 'kwajr', 'author_flair_css_class': 'current', 'author_flair_text': 'Therion DNA 75c bf w/dead rabbit', 'banned_at_utc': None, 'body': 'Perhaps they did mess up the nic.', 'can_mod_post': False, 'collapsed': False, 'collapsed_reason': None, 'created_utc': 1514765577, 'distinguished': None, 'edited': False, 'id': 'ds0npl7', 'is_submitter': False, 'link_id': 't3_7nbz39', 'parent_id': 't3_7nbz39', 'permalink': '/r/electronic_cigarette/comments/7nbz39/brand_new_coil_brand_new_juice_way_too_harsh_and/ds0npl7/', 'retrieved_on': 1514765579, 'score': 1, 'stickied': False, 'subreddit': 'electronic_cigarette', 'subreddit_id': 't5_2qmlu'}]\n",
      "comment:  [{'approved_at_utc': None, 'author': 'bennyblanco2121', 'author_flair_css_class': None, 'author_flair_text': None, 'banned_at_utc': None, 'body': 'Have you tried another juice with the same coil?', 'can_mod_post': False, 'collapsed': False, 'collapsed_reason': None, 'created_utc': 1514765636, 'distinguished': None, 'edited': False, 'id': 'ds0nrb1', 'is_submitter': False, 'link_id': 't3_7nbz39', 'parent_id': 't3_7nbz39', 'permalink': '/r/electronic_cigarette/comments/7nbz39/brand_new_coil_brand_new_juice_way_too_harsh_and/ds0nrb1/', 'retrieved_on': 1514765637, 'score': 1, 'stickied': False, 'subreddit': 'electronic_cigarette', 'subreddit_id': 't5_2qmlu'}]\n",
      "comment:  [{'approved_at_utc': None, 'author': 'ninjatrex17', 'author_flair_css_class': None, 'author_flair_text': None, 'banned_at_utc': None, 'body': 'Old nic can be harsh. Does the bottle have a best by date, or a date of manufacture?', 'can_mod_post': False, 'collapsed': False, 'collapsed_reason': None, 'created_utc': 1514770309, 'distinguished': None, 'edited': False, 'id': 'ds0ridc', 'is_submitter': False, 'link_id': 't3_7nbz39', 'parent_id': 't3_7nbz39', 'permalink': '/r/electronic_cigarette/comments/7nbz39/brand_new_coil_brand_new_juice_way_too_harsh_and/ds0ridc/', 'retrieved_on': 1514770311, 'score': 1, 'stickied': False, 'subreddit': 'electronic_cigarette', 'subreddit_id': 't5_2qmlu'}]\n",
      "comment:  [{'approved_at_utc': None, 'author': 'jayden8250', 'author_flair_css_class': None, 'author_flair_text': None, 'banned_at_utc': None, 'body': 'nope, nothing about that on the bottle', 'can_mod_post': False, 'collapsed': False, 'collapsed_reason': None, 'created_utc': 1514770481, 'distinguished': None, 'edited': False, 'id': 'ds0rmkn', 'is_submitter': True, 'link_id': 't3_7nbz39', 'parent_id': 't1_ds0ridc', 'permalink': '/r/electronic_cigarette/comments/7nbz39/brand_new_coil_brand_new_juice_way_too_harsh_and/ds0rmkn/', 'retrieved_on': 1514770482, 'score': 1, 'stickied': False, 'subreddit': 'electronic_cigarette', 'subreddit_id': 't5_2qmlu'}]\n",
      "comment:  [{'approved_at_utc': None, 'author': 'EdibleMalfunction', 'author_flair_css_class': 'current', 'author_flair_text': 'DIY Guy', 'banned_at_utc': None, 'body': 'It’s probably shitty juice/nic. Also, never give your juice warm baths', 'can_mod_post': False, 'collapsed': False, 'collapsed_reason': None, 'created_utc': 1514773200, 'distinguished': None, 'edited': False, 'id': 'ds0tfjt', 'is_submitter': False, 'link_id': 't3_7nbz39', 'parent_id': 't3_7nbz39', 'permalink': '/r/electronic_cigarette/comments/7nbz39/brand_new_coil_brand_new_juice_way_too_harsh_and/ds0tfjt/', 'retrieved_on': 1514773201, 'score': 1, 'stickied': False, 'subreddit': 'electronic_cigarette', 'subreddit_id': 't5_2qmlu'}]\n",
      "comment:  [{'approved_at_utc': None, 'author': 'jayden8250', 'author_flair_css_class': None, 'author_flair_text': None, 'banned_at_utc': None, 'body': \"I think it's a quality juice, but i think they put way more than 3mg of nicotine in it. is there any way to know if there's a ton of nicotine in it? does the amount of bubbles when you shake it mean anything?\", 'can_mod_post': False, 'collapsed': False, 'collapsed_reason': None, 'created_utc': 1514773903, 'distinguished': None, 'edited': False, 'id': 'ds0twmr', 'is_submitter': True, 'link_id': 't3_7nbz39', 'parent_id': 't1_ds0tfjt', 'permalink': '/r/electronic_cigarette/comments/7nbz39/brand_new_coil_brand_new_juice_way_too_harsh_and/ds0twmr/', 'retrieved_on': 1514773903, 'score': 1, 'stickied': False, 'subreddit': 'electronic_cigarette', 'subreddit_id': 't5_2qmlu'}]\n",
      "comment:  [{'approved_at_utc': None, 'author': 'prunmas', 'author_flair_css_class': None, 'author_flair_text': None, 'banned_at_utc': None, 'body': 'It’s probably a bad batch happens pretty often, the bubbles don’t mean anything I have a 6mg and I shake it and there’s a good amount of bubbles but I don’t believe it matters it’s probably the ration is all fucked and if it is, that means they made like a gallon of bad juice and shipped it off before testing is just message them I’m sure you could get a new bottle.', 'can_mod_post': False, 'collapsed': False, 'collapsed_reason': None, 'created_utc': 1514774481, 'distinguished': None, 'edited': False, 'id': 'ds0uado', 'is_submitter': False, 'link_id': 't3_7nbz39', 'parent_id': 't1_ds0twmr', 'permalink': '/r/electronic_cigarette/comments/7nbz39/brand_new_coil_brand_new_juice_way_too_harsh_and/ds0uado/', 'retrieved_on': 1514774481, 'score': 1, 'stickied': False, 'subreddit': 'electronic_cigarette', 'subreddit_id': 't5_2qmlu'}]\n",
      "comment:  [{'approved_at_utc': None, 'author': 'jayden8250', 'author_flair_css_class': None, 'author_flair_text': None, 'banned_at_utc': None, 'body': \"i got it from my local vape shop and there's no website or anything on the bottle, searching for the company brings up no results either. looks like they don't have a website. it's The Slushy Man\", 'can_mod_post': False, 'collapsed': False, 'collapsed_reason': None, 'created_utc': 1514775959, 'distinguished': None, 'edited': False, 'id': 'ds0v8qw', 'is_submitter': True, 'link_id': 't3_7nbz39', 'parent_id': 't1_ds0uado', 'permalink': '/r/electronic_cigarette/comments/7nbz39/brand_new_coil_brand_new_juice_way_too_harsh_and/ds0v8qw/', 'retrieved_on': 1514775960, 'score': 1, 'stickied': False, 'subreddit': 'electronic_cigarette', 'subreddit_id': 't5_2qmlu'}]\n",
      "comment:  [{'approved_at_utc': None, 'author': 'EdibleMalfunction', 'author_flair_css_class': 'current', 'author_flair_text': 'DIY Guy', 'banned_at_utc': None, 'body': 'Then how do you know it’s a “quality” juice?', 'can_mod_post': False, 'collapsed': False, 'collapsed_reason': None, 'created_utc': 1514776582, 'distinguished': None, 'edited': False, 'id': 'ds0vmti', 'is_submitter': False, 'link_id': 't3_7nbz39', 'parent_id': 't1_ds0v8qw', 'permalink': '/r/electronic_cigarette/comments/7nbz39/brand_new_coil_brand_new_juice_way_too_harsh_and/ds0vmti/', 'retrieved_on': 1514776583, 'score': 1, 'stickied': False, 'subreddit': 'electronic_cigarette', 'subreddit_id': 't5_2qmlu'}]\n",
      "comment:  [{'approved_at_utc': None, 'author': 'jayden8250', 'author_flair_css_class': None, 'author_flair_text': None, 'banned_at_utc': None, 'body': \"i guess i don't lol\", 'can_mod_post': False, 'collapsed': False, 'collapsed_reason': None, 'created_utc': 1514776608, 'distinguished': None, 'edited': False, 'id': 'ds0vndj', 'is_submitter': True, 'link_id': 't3_7nbz39', 'parent_id': 't1_ds0vmti', 'permalink': '/r/electronic_cigarette/comments/7nbz39/brand_new_coil_brand_new_juice_way_too_harsh_and/ds0vndj/', 'retrieved_on': 1514776609, 'score': 1, 'stickied': False, 'subreddit': 'electronic_cigarette', 'subreddit_id': 't5_2qmlu'}]\n",
      "comment:  [{'approved_at_utc': None, 'author': 'prunmas', 'author_flair_css_class': None, 'author_flair_text': None, 'banned_at_utc': None, 'body': 'Probably the vape shop mixes there own juice, I also have a local shop that does this “cloud 9” it’s owned and ran by the same guy he buys juice from sellers for wholesale but he also mixes his own, it’s possible that he mix it and did not let it sit for two weeks, after mixing the batch has to sit, either he’s mixing his own or it’s a bad batch I suggest asking next time you go in, or just buy from a online site that makes ejuice you can find tons of good ones on this subreddit.', 'can_mod_post': False, 'collapsed': False, 'collapsed_reason': None, 'created_utc': 1514782611, 'distinguished': None, 'edited': False, 'id': 'ds0yzmw', 'is_submitter': False, 'link_id': 't3_7nbz39', 'parent_id': 't1_ds0v8qw', 'permalink': '/r/electronic_cigarette/comments/7nbz39/brand_new_coil_brand_new_juice_way_too_harsh_and/ds0yzmw/', 'retrieved_on': 1514782612, 'score': 1, 'stickied': False, 'subreddit': 'electronic_cigarette', 'subreddit_id': 't5_2qmlu'}]\n"
     ]
    },
    {
     "name": "stdout",
     "output_type": "stream",
     "text": [
      "comment:  [{'approved_at_utc': None, 'author': 'jayden8250', 'author_flair_css_class': None, 'author_flair_text': None, 'banned_at_utc': None, 'body': 'great advice. definitely going to buy online next time. smoothest e juice?', 'can_mod_post': False, 'collapsed': False, 'collapsed_reason': None, 'created_utc': 1514782663, 'distinguished': None, 'edited': False, 'id': 'ds0z0kc', 'is_submitter': True, 'link_id': 't3_7nbz39', 'parent_id': 't1_ds0yzmw', 'permalink': '/r/electronic_cigarette/comments/7nbz39/brand_new_coil_brand_new_juice_way_too_harsh_and/ds0z0kc/', 'retrieved_on': 1514782664, 'score': 1, 'stickied': False, 'subreddit': 'electronic_cigarette', 'subreddit_id': 't5_2qmlu'}]\n",
      "comment:  [{'approved_at_utc': None, 'author': 'prunmas', 'author_flair_css_class': None, 'author_flair_text': None, 'banned_at_utc': None, 'body': 'Almost anything that is either max VG or 80VG 20PG I buy from cloud compass but im Canadian I’m sure he ships to the US as well, his juice is very smooth and it’s flavour isn’t super sweet so, it’s almost all a all day vape, if you do end up buying from them I suggest either melon doh, or blue eyed snitch both of which are his best sellers. There’s a lot of US vendors that sell good juice too just make sure you get max vg or 80/20 and you’ll be fine the throat hit won’t be overpowering', 'can_mod_post': False, 'collapsed': False, 'collapsed_reason': None, 'created_utc': 1514783538, 'distinguished': None, 'edited': False, 'id': 'ds0zftx', 'is_submitter': False, 'link_id': 't3_7nbz39', 'parent_id': 't1_ds0z0kc', 'permalink': '/r/electronic_cigarette/comments/7nbz39/brand_new_coil_brand_new_juice_way_too_harsh_and/ds0zftx/', 'retrieved_on': 1514783540, 'score': 1, 'stickied': False, 'subreddit': 'electronic_cigarette', 'subreddit_id': 't5_2qmlu'}]\n",
      "comment:  [{'approved_at_utc': None, 'author': 'JustSayNoToDiacetyl', 'author_flair_css_class': None, 'author_flair_text': None, 'banned_at_utc': None, 'body': \"The bubbles don't mean much.  I mix my own liquid and when I give it the initial shake, tons of tiny bubbles form.  After a day or two if I shake it again, bubbles will form but not nearly to the degree as when it's fresh.\\n\\nThe juice probably hasn't had time to steep or they fucked up mixing it.\", 'can_mod_post': False, 'collapsed': False, 'collapsed_reason': None, 'created_utc': 1514809593, 'distinguished': None, 'edited': False, 'id': 'ds19414', 'is_submitter': False, 'link_id': 't3_7nbz39', 'parent_id': 't1_ds0twmr', 'permalink': '/r/electronic_cigarette/comments/7nbz39/brand_new_coil_brand_new_juice_way_too_harsh_and/ds19414/', 'retrieved_on': 1514809594, 'score': 1, 'stickied': False, 'subreddit': 'electronic_cigarette', 'subreddit_id': 't5_2qmlu'}]\n",
      "comment:  [{'approved_at_utc': None, 'author': 'evilistics', 'author_flair_css_class': None, 'author_flair_text': None, 'banned_at_utc': None, 'body': \"Its probably just shitty nic. I had the same experience with juice from an NZ juice maker and it made me cough up a lung at 3mg. I could barely take half a lung hit. Compared to 3mg juice I just got from the US and it doesn't have any throat hit at all. \", 'can_mod_post': False, 'collapsed': False, 'collapsed_reason': None, 'created_utc': 1514887388, 'distinguished': None, 'edited': False, 'id': 'ds2om6u', 'is_submitter': False, 'link_id': 't3_7nbz39', 'parent_id': 't3_7nbz39', 'permalink': '/r/electronic_cigarette/comments/7nbz39/brand_new_coil_brand_new_juice_way_too_harsh_and/ds2om6u/', 'retrieved_on': 1514887389, 'score': 1, 'stickied': False, 'subreddit': 'electronic_cigarette', 'subreddit_id': 't5_2qmlu'}]\n"
     ]
    }
   ],
   "source": [
    "# get comment_ids based on submission_id\n",
    "for submission_id in subStats.keys():\n",
    "    tmp_comments_list = []\n",
    "    \n",
    "    r = requests.get(get_comments_id_from_submission_url + submission_id)\n",
    "    data = json.loads(r.text)\n",
    "    comments_id_list = data['data']\n",
    "    print(comments_id_list)\n",
    "    \n",
    "    # get comments based on comment_id\n",
    "    for comment_id in comments_id_list:\n",
    "        r_comment = requests.get(get_comment_by_id_url + comment_id)\n",
    "        data_comment = json.loads(r_comment.text)\n",
    "        comment = data_comment['data']\n",
    "        print('comment: ', comment)\n",
    "        \n",
    "    break\n",
    "    "
   ]
  },
  {
   "cell_type": "code",
   "execution_count": null,
   "metadata": {},
   "outputs": [],
   "source": []
  },
  {
   "cell_type": "code",
   "execution_count": null,
   "metadata": {},
   "outputs": [],
   "source": []
  },
  {
   "cell_type": "code",
   "execution_count": null,
   "metadata": {},
   "outputs": [],
   "source": []
  }
 ],
 "metadata": {
  "kernelspec": {
   "display_name": "Python 3",
   "language": "python",
   "name": "python3"
  },
  "language_info": {
   "codemirror_mode": {
    "name": "ipython",
    "version": 3
   },
   "file_extension": ".py",
   "mimetype": "text/x-python",
   "name": "python",
   "nbconvert_exporter": "python",
   "pygments_lexer": "ipython3",
   "version": "3.7.3"
  }
 },
 "nbformat": 4,
 "nbformat_minor": 2
}
