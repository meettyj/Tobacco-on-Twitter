{
 "cells": [
  {
   "cell_type": "markdown",
   "metadata": {},
   "source": [
    "Get comments for all the submissions collected in subreddit 'electronic cigarette' using keywords ban and SF."
   ]
  },
  {
   "cell_type": "code",
   "execution_count": 1,
   "metadata": {},
   "outputs": [],
   "source": [
    "import pandas as pd\n",
    "import requests\n",
    "import json\n",
    "import csv\n",
    "\n",
    "from empath import Empath\n",
    "\n",
    "import liwcanalysis\n",
    "\n",
    "import re\n",
    "from collections import Counter\n",
    "import liwc\n",
    "import collections\n"
   ]
  },
  {
   "cell_type": "code",
   "execution_count": 2,
   "metadata": {},
   "outputs": [],
   "source": [
    "# submission_id = '8ozrej'\n",
    "proposal_submission_id_list = ['6fdqte', '6fmuh0', '6fvkkp', '6fy75u', '6g3nb9', '6iipqn', '6ijdlp', '6imjdh', '6iq0kc', '6itwc5', '6iv0ks', '6ixsg4', '6j8x00', '6j9x4e', '6jivbz', '6jpqk8', '6it6yd']\n",
    "approval_submission_id_list = ['8nri82', '8nrny8', '8ogow8', '8oytiu', '8q0gll', '8qwh4j', '8r0173', '8rlqof', '8uof7u', '8o872d', '8ozrej', '8p04se', '8ptyha']\n",
    "enforcement_submission_id_list_01 = ['abv0nb', 'aff9cy', 'ag4jxn', 'ahlnat', 'ai9pt8', 'aicytd', 'akzio7', 'al6iqb']\n"
   ]
  },
  {
   "cell_type": "markdown",
   "metadata": {},
   "source": [
    "### Based on the submission, retrieve the comments"
   ]
  },
  {
   "cell_type": "code",
   "execution_count": 3,
   "metadata": {},
   "outputs": [],
   "source": [
    "get_comments_id_from_submission_url = \"https://api.pushshift.io/reddit/submission/comment_ids/\"\n",
    "get_comment_by_id_url = \"https://api.pushshift.io/reddit/comment/search?ids=\""
   ]
  },
  {
   "cell_type": "code",
   "execution_count": 6,
   "metadata": {
    "scrolled": false
   },
   "outputs": [],
   "source": [
    "def get_comment_text_list(submission_id_list):\n",
    "    comments_text_list = []\n",
    "\n",
    "    # get comment_ids based on submission_id\n",
    "    for submission_id in submission_id_list:\n",
    "        tmp_comments_list = []\n",
    "\n",
    "        r = requests.get(get_comments_id_from_submission_url + submission_id)\n",
    "        data = json.loads(r.text)\n",
    "        comments_id_list = data['data']\n",
    "        print('crawling comments: ', comments_id_list)\n",
    "        print()\n",
    "\n",
    "        # get comments based on comment_id\n",
    "        for comment_id in comments_id_list:\n",
    "            r_comment = requests.get(get_comment_by_id_url + comment_id)\n",
    "            try:\n",
    "                data_comment = json.loads(r_comment.text)\n",
    "                comment = data_comment['data']\n",
    "                comment_body = comment[0]['body']\n",
    "                comments_text_list.append(comment_body)\n",
    "                \n",
    "                if 'bucks that after a month you' in comment_body:\n",
    "                    print('!!!!!!!!!!!!!!!!!!!!!!!!!')\n",
    "                    print('submission_id: ', submission_id)\n",
    "                    print('r_comment: ', r_comment)\n",
    "                    print('data_comment: ', data_comment)\n",
    "                    print('comment: ', comment)\n",
    "                    break\n",
    "                \n",
    "            except:\n",
    "                print('r_comment: ', r_comment)\n",
    "    #         print('comment_body: ', comment_body)\n",
    "    #         print('comment: ', comment)\n",
    "    #         break\n",
    "#         break\n",
    "    return comments_text_list"
   ]
  },
  {
   "cell_type": "markdown",
   "metadata": {},
   "source": [
    "### proposal comments"
   ]
  },
  {
   "cell_type": "code",
   "execution_count": 8,
   "metadata": {
    "scrolled": true
   },
   "outputs": [
    {
     "name": "stdout",
     "output_type": "stream",
     "text": [
      "crawling comments:  ['dihiyhy', 'dihorch', 'dihpy6s', 'dihzu55', 'dii8zlo', 'dii90pd', 'dii923m', 'dii9wva', 'diizlbw', 'dij3zd8', 'dijyyb3', 'dik2y8i']\n",
      "\n",
      "crawling comments:  ['dijgn06', 'dijhtk9', 'dijierl', 'dijkfxt', 'dijl4uz', 'dijq2tk', 'dijq3e9', 'dijq5tx', 'dijrt9s']\n",
      "\n",
      "crawling comments:  ['dilb2sp', 'dilb4x7', 'dilbqe2', 'dilbtlu', 'dild5on', 'dilel7v', 'dilfh60', 'dilfn0h', 'dilg535', 'dilgu01', 'dilgyip', 'dillomh', 'dils9n0', 'dilsvy4', 'dilzwwx', 'dimlzwq', 'dimw2ne', 'dimyc7u']\n",
      "\n",
      "crawling comments:  ['dim3a2e']\n",
      "\n",
      "crawling comments:  ['din81f2', 'din9end', 'dinc4x2', 'dincaut', 'dinct6x', 'dingkw4', 'dingstv', 'dinh3q3', 'dinh7n0', 'diniioa', 'dinikzo', 'dink857', 'dinlggc', 'dinllt3', 'dinlnxc', 'dinlpl0', 'dinlt8z', 'dinlvay', 'dinmfyl', 'dinmh66', 'dinmid7', 'dinmjxm', 'dinmnae', 'dinmos1', 'dinn5zz', 'dinncoa', 'dinnd46', 'dinng92', 'dino020', 'dino31m', 'dino397', 'dino8md', 'dinokhw', 'dinoo4z', 'dinp6ko', 'dinpocf', 'dinq68j', 'dinr6l1', 'dins0bw', 'dinsm8s', 'dinsypt', 'dint0j2', 'dinycug', 'dinzf3p', 'dinzhzs', 'dinzqxd', 'dinzuda', 'dinzw7s', 'dinzx9y', 'dio07bm', 'dio0hvw', 'dio0pfq', 'dio1h42', 'dio1zrm', 'dio2n9k', 'dio2zp5', 'dio304q', 'dio41ll', 'diocwo7', 'dioglh7', 'dioj0os', 'diomapt', 'dionmtx', 'diooy2c', 'diophjd', 'diqxnna', 'dir2ubc', 'dirhpce', 'dit0nst']\n",
      "\n",
      "crawling comments:  ['dj6lhrz', 'dj6li64', 'dj6nbnl', 'dj6nui9', 'djftxnh']\n",
      "\n",
      "crawling comments:  ['dj6qipf', 'dj6ql28', 'dj6qmyc', 'dj6qynz', 'dj6s29h', 'dj6s4c3', 'dj6s70u', 'dj6sd9f', 'dj6snbz', 'dj6t2m1', 'dj6t8vh', 'dj6tl69', 'dj6tna2', 'dj6u2pc', 'dj6u6t5', 'dj6ukos', 'dj6ulyo', 'dj6urz2', 'dj6uu46', 'dj6uxu6', 'dj6uy5k', 'dj6va5u', 'dj6vd3n', 'dj6vljv', 'dj6vmlt', 'dj6vqnw', 'dj6w58p', 'dj6we31', 'dj6wmio', 'dj6wuzx', 'dj6x3oo', 'dj6xg30', 'dj6xzui', 'dj6yg0a', 'dj6ylxd', 'dj6ynzn', 'dj6zofe', 'dj70ebb', 'dj70ijh', 'dj70u1s', 'dj7291a', 'dj72j8z', 'dj72jqs', 'dj72kmb', 'dj72lf8', 'dj72wbq', 'dj73rmi', 'dj73sj0', 'dj73tdm', 'dj73ucm', 'dj73vqa', 'dj742ou', 'dj74lmg', 'dj74sgn', 'dj74x9z', 'dj75e31', 'dj75pfk', 'dj75s23', 'dj762o5', 'dj76kvn', 'dj76r7r', 'dj76usq', 'dj76v5c', 'dj77sfm', 'dj77xvy', 'dj780k8', 'dj79clc', 'dj79w8x', 'dj7axj5', 'dj7b2s2', 'dj7b5ir', 'dj7b8qa', 'dj7bbuc', 'dj7biuu', 'dj7bjgx', 'dj7blx9', 'dj7bqo4', 'dj7bvkz', 'dj7bxns', 'dj7cbnf', 'dj7cf4o', 'dj7cvox', 'dj7d1t5', 'dj7d2p6', 'dj7d74w', 'dj7daj7', 'dj7dmsk', 'dj7doib', 'dj7e0of', 'dj7eark', 'dj7esrr', 'dj7eww9', 'dj7f8kd', 'dj7fn11', 'dj7fogz', 'dj7fop1', 'dj7fxnt', 'dj7g4ez', 'dj7jkm9', 'dj7jlag', 'dj7k9xh', 'dj7kusw', 'dj7ltbe', 'dj7meo4', 'dj7nmwt', 'dj7nuo4', 'dj7o0fv', 'dj7o547', 'dj7pl8r', 'dj7ps9a', 'dj7q3sw', 'dj7rzw2', 'dj7sx35', 'dj7t2ug', 'dj7tgbs', 'dj7wxg0', 'dj7x33q', 'dj7xfuh', 'dj7xh44', 'dj7xk1y', 'dj7yv2u', 'dj801kc', 'dj806y0', 'dj83t1d', 'dj84gtd', 'dj85dhj', 'dj879cf', 'dj8gl3w', 'dj8j4zt', 'dj8lqef']\n",
      "\n",
      "crawling comments:  ['dj7cv2m', 'dj7d4dn', 'dj7d9st', 'dj7dfa6', 'dj7e8i4', 'dj7fhjf', 'dj7fk94', 'dj7g1g9', 'dj7grve', 'dj7iwml', 'dj7j4q6', 'dj7lxhx', 'dj7qkxn', 'dj7svxv', 'dj7v3dq', 'dj7vbzn', 'dj7xe52', 'dj7zl5b', 'dj809o8', 'dj80eeb', 'dj80k9f', 'dj80vwf', 'dj81tir', 'dj8c13j', 'dj8drls', 'dj8ed3z', 'dj8gi6a', 'dj8om5q', 'dj9978z']\n",
      "\n",
      "crawling comments:  ['dj8a753', 'dj8ffck', 'dj8h9yy']\n",
      "\n",
      "crawling comments:  ['dj8zmt1', 'dj97ur6', 'dj9e0fu']\n",
      "\n",
      "crawling comments:  ['dj9a7iu', 'dj9akue', 'dj9asf6', 'dj9blvn', 'dj9bnip', 'dj9bqbl', 'dj9bswq', 'dj9buiz', 'dj9bvab', 'dj9cfmm', 'dj9cg2h', 'dj9ci3d', 'dj9cz7q', 'dj9czjc', 'dj9d1d0', 'dj9d1hn', 'dj9d4i1', 'dj9d6zm', 'dj9da08', 'dj9dd9o', 'dj9dk4c', 'dj9dn0f', 'dj9drtp', 'dj9e1rp', 'dj9e9f7', 'dj9ebid', 'dj9ecqx', 'dj9ef00', 'dj9eg1w', 'dj9f43o', 'dj9fkfm', 'dj9fl50', 'dj9fzy9', 'dj9g300', 'dj9gycw', 'dj9gz64', 'dj9h0dh', 'dj9ifq0', 'dj9ilt6', 'dj9iml2', 'dj9inok', 'dj9io2c', 'dj9ipgd', 'dj9iz1s', 'dj9jizh', 'dj9k1sd', 'dj9koky', 'dj9kp5h', 'dj9kuer', 'dj9kwpi', 'dj9l9s6', 'dj9lj8f', 'dj9lkli', 'dj9m21g', 'dj9ovz3', 'dj9ox8h', 'dj9oxrw', 'dj9ozg4', 'dj9p173', 'dj9rd2j', 'dj9remt', 'dj9rfb0', 'dj9s1vg', 'dj9s54u', 'dj9ssu4', 'dj9t2ec', 'dj9tsgd', 'dj9u1e0', 'dj9u9hm', 'dj9ugg7', 'dj9uipe', 'dj9unt8', 'dj9v7w1', 'dj9v8um', 'dj9vcky', 'dj9viry', 'dj9wapu', 'dj9wmyd', 'dj9wyj8', 'dj9wzqp', 'dj9x1ov', 'dj9x9cc', 'dj9xb75', 'dj9ygb8', 'dja0gtt', 'dja0t8u', 'dja0uia', 'dja2d32', 'dja2jto', 'dja2oru', 'dja2pyn', 'dja4lxw', 'dja4nqr', 'dja5qb2', 'dja6cup', 'dja6jlc', 'dja6m5o', 'dja6tgm', 'dja8yr3', 'dja9947', 'dja9o8s', 'dja9q7x', 'djaa9f9', 'djaac4t', 'djab4k2', 'djab8ap', 'djabjfo', 'djabmoz', 'djado8x', 'djak42v', 'djan8fs', 'djapbgy', 'djapini', 'djarpul', 'djaswak', 'djax7fq', 'djaz9mb', 'djazcy7', 'djb0llp', 'djb0myk', 'djb0p24', 'djb2u6v', 'djb2y6t', 'djbfjfv', 'djcjb1b', 'dji2dvn']\n",
      "\n",
      "crawling comments:  ['dj9xq0p', 'dj9xslk', 'dj9xwti', 'dj9xx93', 'dj9xxyw', 'dj9xyb8', 'dj9xz4k', 'dj9y1ts', 'dj9y513', 'dj9y5tt', 'dj9y7p9', 'dj9y804', 'dj9y86i', 'dj9y9r4', 'dj9yanc', 'dj9yazf', 'dj9ycmv', 'dj9yfix', 'dj9yfx4', 'dj9yh6n', 'dj9yip9', 'dj9yknd', 'dj9yl62', 'dj9ymc1', 'dj9ymo2', 'dj9yr2o', 'dj9yrhp', 'dj9yuvs', 'dj9ywb3', 'dj9z9zj', 'dj9zacu', 'dj9zh0y', 'dj9zh5e', 'dj9zhq9', 'dj9ztn5', 'dj9zuaz', 'dja0670', 'dja0c6r', 'dja0f80', 'dja0nz5', 'dja0ou7', 'dja0w7y', 'dja140e', 'dja1olq', 'dja1qhh', 'dja2gy7', 'dja2nbv', 'dja2r4l', 'dja3b9t', 'dja3gp9', 'dja3t9y', 'dja40cq', 'dja46ps', 'dja4mnt', 'dja5brt', 'dja7mna', 'dja84r0', 'djad6cd', 'djaewv4', 'djaf0v4', 'djaf9sb', 'djay24l', 'djb1swb', 'djb1xvu', 'djb32fa', 'djbghd9']\n",
      "\n",
      "crawling comments:  ['djcf9ud', 'djcfctw', 'djcffll', 'djcfs3a', 'djcg218', 'djcg2kc', 'djcg37m', 'djcgvws', 'djci139', 'djck616', 'djckh0u', 'djckxl0', 'djcl343', 'djcllhp', 'djcph6q', 'djctfw2', 'djcvzgp', 'djd166y', 'djd193o', 'djdc17e', 'djdfr3z', 'djdozoh', 'djdp2cg', 'djlw931', 'djlyjpx', 'djlywuk', 'djlz5y6']\n",
      "\n",
      "crawling comments:  ['djco69h', 'djcpee6', 'djcqpic', 'djcqsyx', 'djcvf80', 'djcx30a', 'djd1ckk', 'djd1qlx', 'djd6cnm', 'djd7z2o', 'djd956n', 'djdltsd', 'djdmue0']\n",
      "\n",
      "crawling comments:  ['djellhk', 'djelsl1', 'djeqvic', 'djetjhn', 'djf256b', 'djf2bbc', 'djf2bz5', 'djf57dh', 'djf5aj4', 'djf5crd', 'djf5qgm', 'djf5vmz', 'djf70pg', 'djf8w5k', 'djfaxg5', 'djfbu6s', 'djfc2c4', 'djfcack', 'djfcfnn', 'djfchj6', 'djfcl49', 'djfctr0', 'djfd575', 'djfdcje', 'djff8ah', 'djfkufh', 'djfkyva', 'djfl9es', 'djfpq0b', 'djfyjkv', 'djfykzb']\n",
      "\n",
      "!!!!!!!!!!!!!!!!!!!!!!!!!\n",
      "submission_id:  6jivbz\n",
      "r_comment:  <Response [200]>\n",
      "data_comment:  {'data': [{'author': 'AblativMeatshld', 'author_flair_css_class': 'current', 'author_flair_text': 'This is not legal advice', 'body': 'I\\'m willing to put $10 bucks that after a month you\\'re going to feel differently. They might let smoking go in bars, and you apparently don\\'t understand what \"public places\" means, but have a sneaking feeling vaping in, say, the park, will get you a lil bit of hassle.\\n\\nAnd you will then become my new favorite object lesson.', 'can_gild': True, 'created_utc': 1498470949, 'distinguished': None, 'edited': False, 'id': 'djetjhn', 'link_id': 't3_6jivbz', 'parent_id': 't1_djeqvic', 'retrieved_on': 1498470950, 'stickied': False, 'subreddit': 'electronic_cigarette', 'subreddit_id': 't5_2qmlu'}]}\n",
      "comment:  [{'author': 'AblativMeatshld', 'author_flair_css_class': 'current', 'author_flair_text': 'This is not legal advice', 'body': 'I\\'m willing to put $10 bucks that after a month you\\'re going to feel differently. They might let smoking go in bars, and you apparently don\\'t understand what \"public places\" means, but have a sneaking feeling vaping in, say, the park, will get you a lil bit of hassle.\\n\\nAnd you will then become my new favorite object lesson.', 'can_gild': True, 'created_utc': 1498470949, 'distinguished': None, 'edited': False, 'id': 'djetjhn', 'link_id': 't3_6jivbz', 'parent_id': 't1_djeqvic', 'retrieved_on': 1498470950, 'stickied': False, 'subreddit': 'electronic_cigarette', 'subreddit_id': 't5_2qmlu'}]\n",
      "crawling comments:  ['djgo6b1', 'djgqhb9', 'djhjeg6', 'dji9irw', 'djidn09', 'djidnck', 'djmey4r']\n",
      "\n",
      "crawling comments:  ['dj8u3a5', 'dj8yxrp', 'dj8zff2', 'dj8zini', 'dj8zlvr', 'dj908qz', 'dj90q96', 'dj93y2b', 'dj94am7', 'dj95j6y', 'dj95pl3', 'dj95tr1', 'dj95z7u', 'dj960ga', 'dj967yi', 'dj9796i', 'dj97d0j', 'dj97oe2', 'dj982g2', 'dj9856m', 'dj98r5u', 'dj98x2o', 'dj99je8', 'dj9a4lj', 'dj9bw1s', 'dj9h968', 'dj9jlc7', 'dj9jrky', 'dj9kjy0', 'dj9l482', 'dj9m3hr', 'dj9mczm', 'dj9mgwr', 'dj9n7l4', 'dj9nqu4', 'dj9nujc', 'dj9nxef', 'dj9o0zz', 'dj9o5wm', 'dj9o5wq', 'dj9o82k', 'dj9oh1w', 'dj9rn5r', 'dj9s2a3', 'dj9t5vr', 'dj9t80z', 'dj9u2bz', 'dj9uu8v', 'dj9uwqr', 'dj9v46g', 'dj9v865', 'dja9fav', 'djayczi', 'djb17r3', 'djb2bjx', 'djb9moj', 'djbagcr', 'djbc1zt']\n",
      "\n"
     ]
    },
    {
     "name": "stdout",
     "output_type": "stream",
     "text": [
      "length of proposal_comments_text_list:  580\n"
     ]
    }
   ],
   "source": [
    "proposal_comments_text_list = get_comment_text_list(proposal_submission_id_list)\n",
    "print('length of proposal_comments_text_list: ', len(proposal_comments_text_list))"
   ]
  },
  {
   "cell_type": "markdown",
   "metadata": {},
   "source": [
    "### result pasted"
   ]
  },
  {
   "cell_type": "markdown",
   "metadata": {},
   "source": [
    "!!!!!!!!!!!!!!!!!!!!!!!!!\n",
    "submission_id:  6jivbz\n",
    "r_comment:  <Response [200]>\n",
    "data_comment:  {'data': [{'author': 'AblativMeatshld', 'author_flair_css_class': 'current', 'author_flair_text': 'This is not legal advice', 'body': 'I\\'m willing to put $10 bucks that after a month you\\'re going to feel differently. They might let smoking go in bars, and you apparently don\\'t understand what \"public places\" means, but have a sneaking feeling vaping in, say, the park, will get you a lil bit of hassle.\\n\\nAnd you will then become my new favorite object lesson.', 'can_gild': True, 'created_utc': 1498470949, 'distinguished': None, 'edited': False, 'id': 'djetjhn', 'link_id': 't3_6jivbz', 'parent_id': 't1_djeqvic', 'retrieved_on': 1498470950, 'stickied': False, 'subreddit': 'electronic_cigarette', 'subreddit_id': 't5_2qmlu'}]}\n",
    "comment:  [{'author': 'AblativMeatshld', 'author_flair_css_class': 'current', 'author_flair_text': 'This is not legal advice', 'body': 'I\\'m willing to put $10 bucks that after a month you\\'re going to feel differently. They might let smoking go in bars, and you apparently don\\'t understand what \"public places\" means, but have a sneaking feeling vaping in, say, the park, will get you a lil bit of hassle.\\n\\nAnd you will then become my new favorite object lesson.', 'can_gild': True, 'created_utc': 1498470949, 'distinguished': None, 'edited': False, 'id': 'djetjhn', 'link_id': 't3_6jivbz', 'parent_id': 't1_djeqvic', 'retrieved_on': 1498470950, 'stickied': False, 'subreddit': 'electronic_cigarette', 'subreddit_id': 't5_2qmlu'}]"
   ]
  }
 ],
 "metadata": {
  "kernelspec": {
   "display_name": "Python 3",
   "language": "python",
   "name": "python3"
  },
  "language_info": {
   "codemirror_mode": {
    "name": "ipython",
    "version": 3
   },
   "file_extension": ".py",
   "mimetype": "text/x-python",
   "name": "python",
   "nbconvert_exporter": "python",
   "pygments_lexer": "ipython3",
   "version": "3.7.3"
  }
 },
 "nbformat": 4,
 "nbformat_minor": 2
}
