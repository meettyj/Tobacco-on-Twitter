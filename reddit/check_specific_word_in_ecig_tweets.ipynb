{
 "cells": [
  {
   "cell_type": "code",
   "execution_count": 2,
   "metadata": {},
   "outputs": [],
   "source": [
    "import pandas as pd\n",
    "import requests\n",
    "import json\n",
    "import csv\n",
    "\n",
    "import re\n",
    "from collections import Counter\n",
    "import collections\n"
   ]
  },
  {
   "cell_type": "code",
   "execution_count": 5,
   "metadata": {},
   "outputs": [],
   "source": [
    "tag = 'ecig'\n",
    "year_month_key_list = ['2016_04','2016_05','2016_06','2016_07','2016_08','2016_09','2016_10','2016_11','2016_12',\n",
    "                       '2017_01','2017_02', '2017_03','2017_04','2017_05','2017_06','2017_07','2017_08','2017_09',\n",
    "                       '2017_10','2017_11','2017_12', '2018_01', '2018_02', '2018_03', '2018_04', '2018_05', \n",
    "                       '2018_06', '2018_07', '2018_08', '2018_09', '2018_10', '2018_11', '2018_12', '2019_01', \n",
    "                       '2019_02', '2019_03', '2019_04' ]\n",
    "\n",
    "file_path = \"/mnt/volume-5T/result/\""
   ]
  },
  {
   "cell_type": "code",
   "execution_count": 8,
   "metadata": {},
   "outputs": [
    {
     "name": "stdout",
     "output_type": "stream",
     "text": [
      "year_month:  2019_03\n",
      "podbay power bank charger available🐷\n",
      "#podbay #vapeaccessories #diyvape #friendvape #powerbank #hotselling… \n",
      "---------------\n"
     ]
    }
   ],
   "source": [
    "# file_name = 'juliana_SF_allECigarette_'+year_month+'_categoryKeyWord.json'\n",
    "\n",
    "proposal_ecig_tweets_list = []\n",
    "approval_ecig_tweets_list = []\n",
    "enforcement_ecig_tweets_list_01 = []\n",
    "\n",
    "for year_month in year_month_key_list:\n",
    "   \n",
    "    if tag == 'ecig':\n",
    "        file_name = 'juliana_SF_allECigarette_'+year_month+'_categoryKeyWord.json'\n",
    "    elif tag == 'tobacco':\n",
    "        file_name = 'juliana_allSF_tobacco_'+year_month+'.json'\n",
    "    elif tag == 'flavored tobacco':\n",
    "        file_name = 'juliana_allSF_flavored_tobacco_'+year_month+'.json'\n",
    "    else:\n",
    "        print('please specify a meaningful tag')\n",
    "    \n",
    "    file = file_path + file_name\n",
    "    with open(file, \"r\") as f:\n",
    "        everyLines = f.readlines()\n",
    "        for line in everyLines:\n",
    "            try:\n",
    "                lineInJson = json.loads(line)\n",
    "            except:\n",
    "                print('Cannot load the line: ', line)\n",
    "            textInLine = lineInJson[\"text\"]\n",
    "            textAfterRE = re.sub('https?:\\/\\/t\\.co\\/[\\s\\S]{10}', '', textInLine)\n",
    "            textAfterRE = textAfterRE.lower()\n",
    "            if 'diy' in textAfterRE:\n",
    "                print('year_month: ', year_month)\n",
    "                print(textAfterRE)\n",
    "                print('---------------')\n",
    "\n",
    "#     break\n",
    "\n",
    "# print()\n",
    "# print('length of proposal_ecig_tweets_list: ', len(proposal_ecig_tweets_list))\n",
    "# print('length of approval_ecig_tweets_list: ', len(approval_ecig_tweets_list))\n",
    "# print('length of enforcement_ecig_tweets_list_01: ', len(enforcement_ecig_tweets_list_01))\n"
   ]
  },
  {
   "cell_type": "code",
   "execution_count": null,
   "metadata": {},
   "outputs": [],
   "source": []
  },
  {
   "cell_type": "code",
   "execution_count": null,
   "metadata": {},
   "outputs": [],
   "source": []
  },
  {
   "cell_type": "code",
   "execution_count": null,
   "metadata": {},
   "outputs": [],
   "source": []
  },
  {
   "cell_type": "code",
   "execution_count": null,
   "metadata": {},
   "outputs": [],
   "source": []
  },
  {
   "cell_type": "code",
   "execution_count": null,
   "metadata": {},
   "outputs": [],
   "source": []
  },
  {
   "cell_type": "code",
   "execution_count": null,
   "metadata": {},
   "outputs": [],
   "source": []
  },
  {
   "cell_type": "code",
   "execution_count": null,
   "metadata": {},
   "outputs": [],
   "source": []
  },
  {
   "cell_type": "code",
   "execution_count": null,
   "metadata": {},
   "outputs": [],
   "source": []
  },
  {
   "cell_type": "code",
   "execution_count": null,
   "metadata": {},
   "outputs": [],
   "source": []
  },
  {
   "cell_type": "code",
   "execution_count": null,
   "metadata": {},
   "outputs": [],
   "source": []
  }
 ],
 "metadata": {
  "kernelspec": {
   "display_name": "Python 3",
   "language": "python",
   "name": "python3"
  },
  "language_info": {
   "codemirror_mode": {
    "name": "ipython",
    "version": 3
   },
   "file_extension": ".py",
   "mimetype": "text/x-python",
   "name": "python",
   "nbconvert_exporter": "python",
   "pygments_lexer": "ipython3",
   "version": "3.7.3"
  }
 },
 "nbformat": 4,
 "nbformat_minor": 2
}
