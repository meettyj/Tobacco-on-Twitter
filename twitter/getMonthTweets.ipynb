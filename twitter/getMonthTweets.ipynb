{
 "cells": [
  {
   "cell_type": "markdown",
   "metadata": {},
   "source": [
    "The files in the directory is too many, so if we want to combine all of them into one file, it will take so many space. Ignore this notebook. We will try doing the iterate method."
   ]
  },
  {
   "cell_type": "code",
   "execution_count": 1,
   "metadata": {},
   "outputs": [],
   "source": [
    "import json\n",
    "import os\n",
    "# Please be careful that this line should be at last.\n",
    "# os.chdir('C:/Users/eddie/Desktop/Prof. Rumi Chunara/alcohol')"
   ]
  },
  {
   "cell_type": "code",
   "execution_count": 2,
   "metadata": {},
   "outputs": [],
   "source": [
    "def checkAllTweets(fileName):\n",
    "    allTweetsInOneFile = []\n",
    "    with open(fileName, \"r\") as f:\n",
    "        everyLines = f.readlines()\n",
    "        for line in everyLines:\n",
    "            try:\n",
    "                tweetInJson = json.loads(line)\n",
    "                allTweetsInOneFile.append(line)\n",
    "#                 tweetPlace = getPlaceName(tweetInJson)\n",
    "#                 if tweetPlace == 'San Francisco':\n",
    "#                     SF_tweetsInOneFile.append(line)\n",
    "            except:\n",
    "                continue\n",
    "        return allTweetsInOneFile"
   ]
  },
  {
   "cell_type": "code",
   "execution_count": null,
   "metadata": {},
   "outputs": [],
   "source": [
    "%%time\n",
    "# Iterate the files in the directory you stored the data.\n",
    "jsonFileDirectoryPath = \"C:/Users/eddie/Desktop/Prof. Rumi Chunara/alcohol/data/pullFromTwitter_2017_01\"\n",
    "jsonFiles= os.listdir(jsonFileDirectoryPath)\n",
    "# Create a list to store SF tweets\n",
    "allTweets = []\n",
    "\n",
    "# print(os.getcwd())\n",
    "os.chdir('C:/Users/eddie/Desktop/Prof. Rumi Chunara/alcohol/data/pullFromTwitter_2017_01')\n",
    "for jsonFile in jsonFiles:\n",
    "    # Make sure we open the file that is Json format (not .tar) and not directory.\n",
    "    if not os.path.isdir(jsonFile) and os.path.splitext(jsonFile)[-1] == \".json\":\n",
    "        # Iterate the jsonFile to check if there are any SF tweets\n",
    "        allTweetsInOneFile = checkAllTweets(jsonFile)\n",
    "        allTweets.extend(allTweetsInOneFile)\n",
    "#         SF_tweetsInOneFile = checkSFTweets(jsonFile)\n",
    "#         SF_tweets.extend(SF_tweetsInOneFile)"
   ]
  },
  {
   "cell_type": "code",
   "execution_count": null,
   "metadata": {},
   "outputs": [],
   "source": [
    "print(len(allTweets))"
   ]
  },
  {
   "cell_type": "markdown",
   "metadata": {},
   "source": [
    "Remove duplicate, even it's only a small part."
   ]
  },
  {
   "cell_type": "code",
   "execution_count": null,
   "metadata": {},
   "outputs": [],
   "source": [
    "allTweets = list(set(allTweets))"
   ]
  },
  {
   "cell_type": "code",
   "execution_count": null,
   "metadata": {},
   "outputs": [],
   "source": [
    "print('All Tweets that posted in 2017_01: ', len(allTweets))"
   ]
  },
  {
   "cell_type": "code",
   "execution_count": null,
   "metadata": {},
   "outputs": [],
   "source": [
    "os.chdir('C:/Users/eddie/Desktop/Prof. Rumi Chunara/alcohol')\n",
    "all_tweetsFileName = './data/all_tweets_2017_01.json'\n",
    "with open(all_tweetsFileName, \"w\") as f:\n",
    "    for tweet in allTweets:\n",
    "        f.write(tweet)"
   ]
  },
  {
   "cell_type": "code",
   "execution_count": null,
   "metadata": {},
   "outputs": [],
   "source": []
  }
 ],
 "metadata": {
  "kernelspec": {
   "display_name": "Python 3",
   "language": "python",
   "name": "python3"
  },
  "language_info": {
   "codemirror_mode": {
    "name": "ipython",
    "version": 3
   },
   "file_extension": ".py",
   "mimetype": "text/x-python",
   "name": "python",
   "nbconvert_exporter": "python",
   "pygments_lexer": "ipython3",
   "version": "3.6.5"
  }
 },
 "nbformat": 4,
 "nbformat_minor": 2
}
