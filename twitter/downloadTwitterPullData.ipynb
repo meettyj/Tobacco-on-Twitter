{
 "cells": [
  {
   "cell_type": "code",
   "execution_count": 1,
   "metadata": {},
   "outputs": [],
   "source": [
    "import boto3\n",
    "\n",
    "from __private import ACCESS_KEY\n",
    "from __private import SECRET_KEY\n",
    "\n",
    "import os"
   ]
  },
  {
   "cell_type": "code",
   "execution_count": 3,
   "metadata": {},
   "outputs": [],
   "source": [
    "# We change to the directory where we want our data stored.\n",
    "os.chdir('C:/Users/eddie/Desktop/Prof. Rumi Chunara/alcohol/data/pullFromTwitter_2017_02')"
   ]
  },
  {
   "cell_type": "markdown",
   "metadata": {},
   "source": [
    "Connect to AWS"
   ]
  },
  {
   "cell_type": "code",
   "execution_count": 4,
   "metadata": {},
   "outputs": [],
   "source": [
    "s3 = boto3.client(\n",
    "    's3',\n",
    "    aws_access_key_id=ACCESS_KEY,\n",
    "    aws_secret_access_key=SECRET_KEY\n",
    ")"
   ]
  },
  {
   "cell_type": "code",
   "execution_count": 5,
   "metadata": {},
   "outputs": [],
   "source": [
    "bucketName = \"twitter-pull-data\""
   ]
  },
  {
   "cell_type": "markdown",
   "metadata": {},
   "source": [
    "Here we only take a month period data. "
   ]
  },
  {
   "cell_type": "code",
   "execution_count": 6,
   "metadata": {},
   "outputs": [],
   "source": [
    "# We are going to download the data collected in February of 2017.\n",
    "files_2017_02 = s3.list_objects(Bucket=bucketName,Prefix='2017_02_')\n",
    "# resp = s3_client.get_object(Bucket=bucketName, Key=\"您该bucket中的对象名\")"
   ]
  },
  {
   "cell_type": "code",
   "execution_count": 7,
   "metadata": {},
   "outputs": [],
   "source": [
    "# files_2017_02"
   ]
  },
  {
   "cell_type": "code",
   "execution_count": 8,
   "metadata": {},
   "outputs": [
    {
     "name": "stdout",
     "output_type": "stream",
     "text": [
      "length of files collected in 2017 January: 668\n"
     ]
    }
   ],
   "source": [
    "print('length of files collected in 2017 January: %d' %(len(files_2017_02['Contents'])))"
   ]
  },
  {
   "cell_type": "code",
   "execution_count": 9,
   "metadata": {},
   "outputs": [],
   "source": [
    "filesName_2017_02 = []\n",
    "for jsonFile in files_2017_02['Contents']:\n",
    "    filesName_2017_02.append(jsonFile['Key'])\n",
    "#     print(jsonFile['Key'])"
   ]
  },
  {
   "cell_type": "markdown",
   "metadata": {},
   "source": [
    "Now download the data in directory you specified."
   ]
  },
  {
   "cell_type": "code",
   "execution_count": 10,
   "metadata": {},
   "outputs": [
    {
     "name": "stdout",
     "output_type": "stream",
     "text": [
      "Wall time: 15min 11s\n"
     ]
    }
   ],
   "source": [
    "%%time\n",
    "os.chdir('C:/Users/eddie/Desktop/Prof. Rumi Chunara/alcohol/data/pullFromTwitter_2017_02')\n",
    "# test = filesName_2017_02[0]\n",
    "# print(test)\n",
    "# temp = s3.get_object(Bucket=bucketName, Key=test)\n",
    "\n",
    "for jsonFileName in filesName_2017_02:\n",
    "    tempContent = s3.get_object(Bucket=bucketName, Key=jsonFileName)\n",
    "    with open(jsonFileName,'wb') as f:\n",
    "        f.write(tempContent['Body'].read())"
   ]
  },
  {
   "cell_type": "code",
   "execution_count": null,
   "metadata": {},
   "outputs": [],
   "source": []
  }
 ],
 "metadata": {
  "kernelspec": {
   "display_name": "Python 3",
   "language": "python",
   "name": "python3"
  },
  "language_info": {
   "codemirror_mode": {
    "name": "ipython",
    "version": 3
   },
   "file_extension": ".py",
   "mimetype": "text/x-python",
   "name": "python",
   "nbconvert_exporter": "python",
   "pygments_lexer": "ipython3",
   "version": "3.6.5"
  }
 },
 "nbformat": 4,
 "nbformat_minor": 2
}
