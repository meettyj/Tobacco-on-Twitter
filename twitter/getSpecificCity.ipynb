{
 "cells": [
  {
   "cell_type": "code",
   "execution_count": 42,
   "metadata": {},
   "outputs": [],
   "source": [
    "from urllib.request import urlopen\n",
    "import boto3\n",
    "\n",
    "from __private import ACCESS_KEY\n",
    "from __private import SECRET_KEY\n",
    "\n",
    "import json\n",
    "import os\n",
    "# Please be careful that this line should be at last.\n",
    "os.chdir('C:/Users/eddie/Desktop/Prof. Rumi Chunara/alcohol')\n"
   ]
  },
  {
   "cell_type": "code",
   "execution_count": 43,
   "metadata": {},
   "outputs": [],
   "source": [
    "with open(\"./data/pullFromTwitter/2017_01_04_00.json\", \"r\") as f:\n",
    "    firstLine = f.readline()\n",
    "    firstLine_format = json.loads(firstLine)"
   ]
  },
  {
   "cell_type": "code",
   "execution_count": 44,
   "metadata": {},
   "outputs": [
    {
     "data": {
      "text/plain": [
       "{'created_at': 'Wed Jan 04 05:00:10 +0000 2017',\n",
       " 'id': 816509503109664768,\n",
       " 'id_str': '816509503109664768',\n",
       " 'text': 'Wind 20.9 km/h E. Barometer 1028.28 mb, Falling slowly. Temperature -0.9 °C. Rain today 0.0mm. Humidity 45%',\n",
       " 'source': '<a href=\"http://sandaysoft.com/\" rel=\"nofollow\">Sandaysoft Cumulus</a>',\n",
       " 'truncated': False,\n",
       " 'in_reply_to_status_id': None,\n",
       " 'in_reply_to_status_id_str': None,\n",
       " 'in_reply_to_user_id': None,\n",
       " 'in_reply_to_user_id_str': None,\n",
       " 'in_reply_to_screen_name': None,\n",
       " 'user': {'id': 212967154,\n",
       "  'id_str': '212967154',\n",
       "  'name': 'Gordon Larsen',\n",
       "  'screen_name': 'gordonlarsen',\n",
       "  'location': 'Calgary, Alberta, Canada',\n",
       "  'url': None,\n",
       "  'description': None,\n",
       "  'protected': False,\n",
       "  'verified': False,\n",
       "  'followers_count': 6,\n",
       "  'friends_count': 37,\n",
       "  'listed_count': 4,\n",
       "  'favourites_count': 1,\n",
       "  'statuses_count': 22090,\n",
       "  'created_at': 'Sun Nov 07 15:45:02 +0000 2010',\n",
       "  'utc_offset': -25200,\n",
       "  'time_zone': 'Mountain Time (US & Canada)',\n",
       "  'geo_enabled': True,\n",
       "  'lang': 'en',\n",
       "  'contributors_enabled': False,\n",
       "  'is_translator': False,\n",
       "  'profile_background_color': 'C0DEED',\n",
       "  'profile_background_image_url': 'http://abs.twimg.com/images/themes/theme1/bg.png',\n",
       "  'profile_background_image_url_https': 'https://abs.twimg.com/images/themes/theme1/bg.png',\n",
       "  'profile_background_tile': False,\n",
       "  'profile_link_color': '1DA1F2',\n",
       "  'profile_sidebar_border_color': 'C0DEED',\n",
       "  'profile_sidebar_fill_color': 'DDEEF6',\n",
       "  'profile_text_color': '333333',\n",
       "  'profile_use_background_image': True,\n",
       "  'profile_image_url': 'http://pbs.twimg.com/profile_images/468216152947056640/xmBgRCit_normal.jpeg',\n",
       "  'profile_image_url_https': 'https://pbs.twimg.com/profile_images/468216152947056640/xmBgRCit_normal.jpeg',\n",
       "  'profile_banner_url': 'https://pbs.twimg.com/profile_banners/212967154/1400466157',\n",
       "  'default_profile': True,\n",
       "  'default_profile_image': False,\n",
       "  'following': None,\n",
       "  'follow_request_sent': None,\n",
       "  'notifications': None},\n",
       " 'geo': {'type': 'Point', 'coordinates': [48.59277778, -123.42166667]},\n",
       " 'coordinates': {'type': 'Point', 'coordinates': [-123.42166667, 48.59277778]},\n",
       " 'place': {'id': '30904a009a9000a0',\n",
       "  'url': 'https://api.twitter.com/1.1/geo/id/30904a009a9000a0.json',\n",
       "  'place_type': 'city',\n",
       "  'name': 'Central Saanich',\n",
       "  'full_name': 'Central Saanich, British Columbia',\n",
       "  'country_code': 'CA',\n",
       "  'country': 'Canada',\n",
       "  'bounding_box': {'type': 'Polygon',\n",
       "   'coordinates': [[[-123.484088, 48.550064],\n",
       "     [-123.484088, 48.613903],\n",
       "     [-123.359588, 48.613903],\n",
       "     [-123.359588, 48.550064]]]},\n",
       "  'attributes': {}},\n",
       " 'contributors': None,\n",
       " 'is_quote_status': False,\n",
       " 'retweet_count': 0,\n",
       " 'favorite_count': 0,\n",
       " 'entities': {'hashtags': [], 'urls': [], 'user_mentions': [], 'symbols': []},\n",
       " 'favorited': False,\n",
       " 'retweeted': False,\n",
       " 'filter_level': 'low',\n",
       " 'lang': 'en',\n",
       " 'timestamp_ms': '1483506010211'}"
      ]
     },
     "execution_count": 44,
     "metadata": {},
     "output_type": "execute_result"
    }
   ],
   "source": [
    "firstLine_format"
   ]
  },
  {
   "cell_type": "code",
   "execution_count": 45,
   "metadata": {},
   "outputs": [
    {
     "data": {
      "text/plain": [
       "{'id': '30904a009a9000a0',\n",
       " 'url': 'https://api.twitter.com/1.1/geo/id/30904a009a9000a0.json',\n",
       " 'place_type': 'city',\n",
       " 'name': 'Central Saanich',\n",
       " 'full_name': 'Central Saanich, British Columbia',\n",
       " 'country_code': 'CA',\n",
       " 'country': 'Canada',\n",
       " 'bounding_box': {'type': 'Polygon',\n",
       "  'coordinates': [[[-123.484088, 48.550064],\n",
       "    [-123.484088, 48.613903],\n",
       "    [-123.359588, 48.613903],\n",
       "    [-123.359588, 48.550064]]]},\n",
       " 'attributes': {}}"
      ]
     },
     "execution_count": 45,
     "metadata": {},
     "output_type": "execute_result"
    }
   ],
   "source": [
    "firstLine_format['place']"
   ]
  },
  {
   "cell_type": "code",
   "execution_count": 46,
   "metadata": {},
   "outputs": [
    {
     "data": {
      "text/plain": [
       "'Central Saanich'"
      ]
     },
     "execution_count": 46,
     "metadata": {},
     "output_type": "execute_result"
    }
   ],
   "source": [
    "firstLine_format['place']['name']"
   ]
  },
  {
   "cell_type": "code",
   "execution_count": 47,
   "metadata": {},
   "outputs": [],
   "source": [
    "def getPlaceName(jsonLine):\n",
    "    return jsonLine['place']['name']"
   ]
  },
  {
   "cell_type": "code",
   "execution_count": 48,
   "metadata": {},
   "outputs": [],
   "source": [
    "allTweetPlace = set()"
   ]
  },
  {
   "cell_type": "code",
   "execution_count": 49,
   "metadata": {},
   "outputs": [],
   "source": [
    "fileName = \"./data/pullFromTwitter/2017_01_04_00.json\"\n",
    "with open(fileName, \"r\") as f:\n",
    "    everyLines = f.readlines()\n",
    "    for line in everyLines:\n",
    "        try:\n",
    "            tweetInJson = json.loads(line)\n",
    "            tweetPlace = getPlaceName(tweetInJson)\n",
    "#             print(tweetPlace)\n",
    "            allTweetPlace.add(tweetPlace)\n",
    "        except:\n",
    "            continue\n",
    "#     everyLines_format = json.loads(everyLines)"
   ]
  },
  {
   "cell_type": "code",
   "execution_count": 50,
   "metadata": {},
   "outputs": [
    {
     "name": "stdout",
     "output_type": "stream",
     "text": [
      "length of allTweetPlace:  945\n"
     ]
    }
   ],
   "source": [
    "print('length of allTweetPlace: ', len(allTweetPlace))"
   ]
  },
  {
   "cell_type": "code",
   "execution_count": 51,
   "metadata": {},
   "outputs": [
    {
     "name": "stdout",
     "output_type": "stream",
     "text": [
      "{'Rogers', 'South Windsor', 'Portsmouth', 'Albany', 'Union Park', 'Carnelian Bay', 'North Las Vegas', 'South Lebanon', 'Troy', 'Ottawa', 'Missouri', 'Arlington', 'Chesapeake', 'Brea', 'Highland', 'Tallahassee', 'Southborough', 'Estes Park', 'Cypress Gardens', 'Iowa', 'Baton Rouge', 'Bradenton', 'Fort Thomas', 'Hanford', 'Beverly Hills', 'Greensboro', 'Whitefish Bay', 'Des Moines', 'Bowen Island', 'Riverside', 'Branson', 'Santa Catarina', 'Hoboken', 'Piedras Negras', 'The Blue Mountains', 'Clermont', 'Dover', 'Gering', 'Edmond', 'Upland', 'Marinette', 'Tinton Falls', 'Kinston', 'Holiday City South', 'The Las Vegas Strip', 'Parma', 'Lancaster', 'Carmichael', 'New Mexico', 'New Brunswick', 'North Portal', 'Mansfield', 'Gadsden', 'Trenton', 'Howell', 'Lynwood', 'North Bergen', 'Lake City', 'Cardiff', 'New Britain', 'Martinsville', 'Evansville', 'East Lake', 'Kerrville', 'Ocala', 'Lansing', 'Deltona', 'Highland Park', 'Enterprise', 'Guadalupe', 'Burlington', 'Town and Country', 'Pocatello', 'Kentucky', 'Puerto Peñasco', 'Grand Prairie', 'Louiseville', 'Wesley Chapel', 'Gulfport', 'Lake Worth', 'El Monte', 'River Park', 'Indio', 'Oakdale', 'El Segundo', 'Laurel Springs', 'Houston', 'Anderson', 'Oklahoma City', 'Québec', 'West Chester', 'Medford', 'Vestal', 'Vista', 'Biloxi', 'Downers Grove', 'Duluth', 'Fair Oaks', 'West Covina', 'Columbus', 'Detroit', 'Belleville', 'Thousand Oaks', 'Daphne', 'Barrie', 'Ramsey', 'Lakewood', 'Belle Plaine', 'Hanover Park', 'Omaha', 'Cortez', 'Florin', 'San Bernardino', 'Coral Terrace', 'Burbank', 'Seagoville', 'Fort Washington', 'Ahome', 'Oregon City', 'Cranford', 'Chula Vista', 'Santa Cruz', 'Hawthorn Woods', 'Wakefield', 'Scottsdale', 'Utah', 'Clayton', 'Oxnard', 'Chino', 'Gilbert', 'Starke', 'Kearns', 'Williamstown', 'Monroe', 'The Colony', 'Beavercreek', 'Festus', 'Minneapolis', 'Milton', 'Mount Juliet', 'Miramar', 'Brandon', 'Encinitas', 'Perry Hall', 'Surrey', 'Apodaca', 'Wentzville', 'Covington', 'Walnut Creek', 'Laguna Niguel', 'Manassas', 'Jericho', 'Windsor', 'Santa Fe', 'Anderson Mill', 'Kennedale', 'Kalamazoo', 'Cape Coral', 'North Richland Hills', 'North Fair Oaks', 'Ohio', 'North Haven', 'Orange', 'Landen', 'Greenwood Village', 'Incline Village', 'Short Pump', 'Waynesboro', 'Bend', 'Elverta', 'Culver City', 'Aliso Viejo', 'Rapid City', 'Visalia', 'Buffalo', 'Seminole', 'Carlsbad', 'Burnaby', 'Ellenton', 'Mesa', 'Sunrise', 'Vacaville', 'North Babylon', 'Clarksville', 'Billings', 'Wabash', 'Albion', 'Union', 'Toronto', 'Menlo Park', 'Northbrook', 'Montréal', 'Virginia Beach', 'Winston-Salem', 'Grand Terrace', 'Cornelius', 'Downtown', 'Rock Island Arsenal', 'Stanton', 'Lorain', 'Fort Wayne', 'Aventura', 'Davenport', 'Portland', 'Plymouth', 'Maurice', 'Grapevine', 'Lakeshore', 'Dayton', 'Glen Burnie', 'Weirton', 'French Valley', 'Concord', 'Saint-Ambroise', 'Asheville', 'Minnesota', 'Columbiana', 'Attleboro', 'West Bloomfield Township', 'Soperton', 'Lake Ronkonkoma', 'Temple', 'Santa Barbara', 'Prunedale', 'Altamonte Springs', 'La Mirada', 'Parkway', 'Millbrae', 'East Kootenay A', 'Boston', 'Allentown', 'Oakton', 'Pekin', 'Willowridge-Martingrove-Richview', 'Arizona', 'Waterford', 'San Bruno', 'Provo', 'Atlantic City', 'Sunny Isles Beach', 'Savannah', 'Issaquah', 'Grass Valley', 'Pasadena', 'Ensenada', 'Edinburg', 'Oakland', 'Saraland', 'Los Ranchos de Albuquerque', 'McLean', 'Centreville', 'Mobile', 'Delavan', 'Indianapolis', 'California City', 'Edison', 'Denver', 'Colorado', 'Kansas', 'Aspen', 'Annapolis', 'Brownsville', 'Four Corners', 'Silverthorne', 'Nashville', 'Santa Clarita', 'North Port', 'Davis', 'Joshua Tree', 'Echelon', 'Fargo', 'Vancouver', 'Livermore', 'Catalina Foothills', 'Maryland', 'Ronks', 'Flower Mound', 'North Bethesda', 'Oakley', 'Keller', 'Dallas', 'Central Point', 'King of Prussia', 'El Paso', 'McDonough', 'Flint', 'Suitland', 'Modesto', 'St Joseph', 'Brunswick', 'Gunbarrel', 'Deer Park', 'Lake Mary', 'East Brunswick', 'Green Bay', 'Oroville', 'West Village', 'Brentwood', 'Lexington', 'Plano', 'Elizabeth', 'Pearland', 'Utica', 'Fremont', 'National City', 'Asheboro', 'Bahamas', 'Madisonville', 'Elmira', 'Kansas City', 'Leon Valley', 'Winchester', 'Springfield', 'Estero', 'Baltimore', 'Mill Valley', 'Breckenridge', 'Savoy', 'Downey', 'Sabinas', 'Minoa', 'Ventura', 'Milwaukee', 'Marietta', 'Gilroy', 'Princeton', 'Santa Rosa', 'Philadelphia', 'Westerville', 'Montclair', 'Gallup', 'Greenwood', 'Rochester', 'Oakwood', 'West University Place', 'Alamogordo', 'Healdsburg', 'Chihuahua', 'Gahanna', 'Pasco', 'Georgia', 'Placentia', 'West Babylon', 'Cincinnati', 'Oak Hill', 'Fort Worth', 'Huatabampo', 'Hopkinton', 'Pawtucket', 'Gainesville', 'Pomona', 'Monterey', 'Manchester', 'North Carolina', 'Redmond', 'Cananea', 'Fredonia', 'Lovejoy', 'Burlingame', 'Palm Desert', 'Southside', 'La Grange', 'Decatur', 'Hillsborough', 'Schaumburg', 'Boca Raton', 'Ridgefield', 'San Leandro', 'San Antonio', 'Carmel', 'Oregon', 'North Vancouver', 'Houghton', 'Reno', 'Creve Coeur', 'Los Cabos', 'Apple Valley', 'University Center', 'Vail', 'Palo Alto', 'El Dorado', 'Little Elm', 'Temecula', 'Chattanooga', 'Naperville', 'North Highlands', 'Erie', 'Avon', 'Palm Springs', 'Anaheim', 'Whitney', 'Manahawkin', 'Frisco', 'Morrisville', 'Huntsville', 'Oklahoma', 'Redington Shores', 'Downtown Jacksonville', 'Emeryville', 'West Jordan', 'Bethesda', 'Timberlane', 'Largo', 'La Paz', 'Redwood Falls', 'Llano', 'Plantation', 'Level Park-Oak Park', 'Louisburg', 'Amarillo', 'Larkfield', 'Bridgeport', 'Califórnia', 'Hillsboro', 'St Petersburg', 'Union City', 'Oak Creek', 'Thonotosassa', 'White Lake', 'Los Altos', 'South Valley Stream', 'Roswell', 'Indian Wells', 'East Stroudsburg', 'Lake Magdalene', 'Yorba Linda', 'Lithia Springs', 'Mukilteo', 'Castle Rock', 'Salem', 'Torrington', 'Panama City', 'Maple Ridge', 'Platte City', 'Toledo', 'St. Catharines', 'Santa Monica', 'Mexicali', 'Fresno', 'Chapel Hill', 'Mississippi', 'Sedona', 'Sausalito', 'Pico Rivera', 'Woodhaven', 'Bedford', 'Montebello', 'Jonesboro', 'Caborca', 'General Escobedo', 'Perry Heights', 'Lewisville', 'Monrovia', 'Rubidoux', 'Mazatlán', 'Prichard', 'Tuckerton', 'Milpitas', 'Montpelier', 'Boulder', 'Montana', 'Fredericksburg', 'Marlborough', 'West Virginia', 'Seabrook', 'Petersburg', 'Hermosa Beach', 'Menifee', 'Lake Arrowhead', 'San Jose', 'Eureka', 'Swampscott', 'Crystal Lake', 'Rosedale', 'Tamiami', 'Folsom', 'Laguna Hills', 'Fond du Lac', 'Rodeo', 'Benton', 'San Mateo', 'San Gabriel', 'Ashland', 'Colma', 'Miami', 'Waltham', 'Marysville', 'Margate', 'Phoenix', 'Louisville', 'St Peters', 'Hermosillo', 'Tijuana', 'Los Angeles', 'South Fulton', 'Cudahy', 'Davie', 'Taylors', 'Goodyear', 'Santa Ana', 'Lincoln Park', 'Antioch', 'Frederick', 'Kootenay Boundary E', 'Little Rock', 'Lenexa', 'Mount Vernon', 'Monterrey', 'Cuba', 'Amboy', 'Morehead City', 'Cambridge', 'Central Huron', 'Evans', 'West Palm Beach', 'Tempe', 'Barnesville', 'Hayward', 'Schertz', 'Poughkeepsie', 'Glendora', 'Franklin', 'Silver Spring', 'Denison', 'Pine Hills', 'Winnipeg', 'West Hollywood', 'Staten Island', 'Hopewell', 'Westminster', 'Spartanburg', 'Clyde', 'Poncha Springs', 'Bronx', 'Arcadia', 'Fort George G Meade', 'Lindale', 'Vadnais Heights', 'Selmer', 'Louisiana', 'Jersey City', 'Great Falls', 'Rialto', 'Kendallville', 'Sterling Heights', 'New Orleans', 'Frankfort', 'Addison', 'Danielson', 'Varnell', 'Kettering', 'Murfreesboro', 'Beaumont', 'St Augustine', 'Southaven', 'Queens', 'Livonia', 'Big Bear City', 'West Seneca', 'Lubbock', 'Ledgewood', 'Alhambra', 'Sunrise Manor', 'Escalon', 'Raytown', 'Pennsylvania', 'Fort Lee', 'Hawthorne', 'Alameda', 'Pueblo', 'Barstow', 'Maine', 'Brampton', 'Manhattan', 'Colwood', 'Carson City', 'Lake Forest', 'Glen Allen', 'Colchester', 'Canton', 'Amherstburg', 'Hialeah', 'Tanque Verde', 'Kennesaw', 'South Lyon', 'Shorewood', 'Clovis', 'Edgewood', 'Clearwater', 'Freeland', 'Guaymas', 'Pinellas Park', 'Saw Creek', 'Tracy', 'Wheaton', 'Illinois', 'Pleasanton', 'Apopka', 'Rhinebeck', 'Arkansas', 'Cookeville', 'Jackson', 'Carthage', 'Live Oak', 'Tucson', 'South Carolina', 'Summerlin South', 'Prosper', 'Port Washington', 'Saint-Bruno-de-Montarville', 'Paoli', 'Levittown', 'Rancho Cucamonga', 'Akron', 'Long Beach', 'Madison Heights', 'Blackwood', 'Dearborn', 'Sacramento', 'Barbourville', 'Waco', 'Conroe', 'Hazel Dell North', 'Arden-Arcade', 'San Pedro Garza García', 'San Diego', 'Spokane', 'Hopkins', 'Helena', 'Hilton Head Island', 'Romeoville', 'Cleveland', 'Key West', 'Indiana', 'Norfolk', 'Charlotte', 'Wappingers Falls', 'Iowa City', 'Olathe', 'San Francisco', 'West Carson', 'Doney Park', 'Murrieta', 'Wallingford', 'Dublin', 'Boerne', 'Rohnert Park', 'Irving', 'Mississauga', 'Kingston', 'Sioux Falls', 'Villa de Cos', 'La Mesa', 'Newport', 'West Chicago', 'Corona', 'Chandler', 'Peterborough', 'Paradise', 'Grand Rapids', 'St Louis', 'Steubenville', 'Richmond', 'Victoria', 'Occoquan', 'Berkeley', 'Leesburg', 'Cottonwood', 'Fort Bliss', 'Stockton', 'Potomac', 'Overland Park', 'Waterloo', 'Pinehurst', 'Ballston Lake', 'Doral', 'Hartford', 'New Hampshire', 'Fontana', 'Roseville', 'Chevy Chase', 'Duvall', 'Huntington Beach', 'Escondido', 'Gonzales', 'DeCordova', 'Leominster', 'Pumphrey', 'Mountlake Terrace', 'Huber Heights', 'East Renton Highlands', 'South Bend', 'Raleigh', 'Hidden Meadows', 'Jonestown', 'Tacoma', 'Waynesburg', 'Andover', 'Merrimack', 'Fullerton', 'Durham', 'Forest Grove', 'Clarington', 'Terrytown', 'South Lake Tahoe', 'Quincy', 'Redlands', 'Brookhaven', 'Germantown', 'Logan', 'Mountain View', 'Fayetteville', 'Culiacán', 'Bethel', 'Caledon', 'Vernon Hills', 'Oshkosh', 'New Braunfels', 'West Monroe', 'Vidalia', 'Rancho Santa Margarita', 'South Glens Falls', 'Lucas', 'Eagar', 'Oshawa', 'Turlock', 'Eloy', 'Durango', 'Bellefontaine Neighbors', 'South Gate', 'Lakeland Heights', 'Grants Pass', 'Nevada', 'Hollywood', 'Metropolis', 'North Charleston', 'Sinaloa', 'Harvey', 'Odessa', 'Chambersburg', 'Michigan', 'Bloomfield Hills', 'Hutchinson', 'Raton', 'North Dakota', 'Lakeport', 'Ellensburg', 'Tilton', 'Corpus Christi', 'Aurora', 'Kutztown', 'Greer', 'Alexandria', 'St Michael', 'Bee Cave', 'Bremerton', 'Milwaukie', 'Texas', 'West Pensacola', 'Ann Arbor', 'Chesterfield', 'Holly Springs', 'Manhattan Beach', 'Grey Highlands', 'Greenville', 'Wayne', 'Sherman', 'Grandview', 'Oak Ridge', 'McKinney', 'North Miami Beach', 'Janos', 'Norman', 'Romulus', 'Greeley', 'Norwalk', 'Bainbridge Island', 'Kendall', 'El Cajon', 'Hibbing', 'Denton', 'Aspen Hill', 'Temple Hills', 'Highland Village', 'Bellows Falls', 'Lafayette', 'Falls Church', 'Bloomfield', 'Calabasas', 'Elk Grove', 'Boise', 'South Dakota', 'Chuckanut', 'Irvine', 'Rocklin', 'Wichita', 'Big Bear Lake', 'Tampa', 'Newark', 'Ocean Springs', 'Oro-Medonte', 'Florence-Graham', 'Tigard', 'Watertown', 'Jefferson', 'Redondo Beach', 'Massachusetts', 'Auburn', 'La Canada Flintridge', 'Estevan No. 5', 'Schiller Park', 'New Berlin', 'Bremen', 'Kalispell', 'Albuquerque', 'Metairie', 'Fort Lauderdale', 'Eucalyptus Hills', 'Birmingham', 'West Valley City', 'Puyallup', 'Memphis', 'Providence', 'Miami Beach', 'Salt Lake City', 'East Norriton', 'Olympia', 'Alabama', 'Cicero', 'Pequannock', 'West New York', 'Lake Park', 'Round Rock', 'Torreón', 'Adams', 'Amherst', 'Manteca', 'Aztec', 'Seattle', 'Richboro', 'Riverview', 'Spring Lake Heights', 'Coppell', 'Los Gatos', 'Central Saanich', 'Galveston', 'Virginia', 'Chicago', 'Exton', 'Basking Ridge', 'Lamesa', 'Bakersfield', 'Joplin', 'DeLand', 'SeaTac', 'Colorado Springs', 'Lakeside', 'California', 'Delta', 'Wisconsin', 'Brossard', 'Oshtemo', 'Cupertino', 'Breaux Bridge', 'Salisbury', 'Washington', 'Austin', 'Shiloh', 'Westfield', 'San Dimas', 'Costa Mesa', 'Wyoming', 'Mount Shasta', 'Ten Broeck', 'Pineville', 'Coronado', 'Bald Knob', 'Matamoros', 'Guasave', 'Valinda', 'Auburn Hills', 'Brooklyn', 'Henderson', 'Celebration', 'New Jersey', 'Sandy Springs', 'Fleming Island', 'Flemington', 'New York', 'Laramie', 'Dardanelle', 'Des Plaines', 'Sheridan', 'Pittsburgh', 'Castle Hills', 'Saltillo', 'Fountain Valley', 'New Haven', 'Citrus Park', 'Mesquite', 'Paloma Creek', 'Delaware', 'Cascades', 'San Nicolás de los Garza', 'Garden Grove', 'Moreno Valley', 'Florida', 'Bolingbrook', 'New Brighton', 'Orlando', 'Seven Oaks', 'Oceanside', 'Mammoth Lakes', 'Tuscaloosa', 'Sky Lake', 'Stamford', 'Eagan', 'Knoxville', 'Cottonwood West', 'White Marsh', 'Edina', 'Idaho', 'Central', 'San Rafael', 'Waterbury', 'Fort Collins', 'Eau Claire', 'Las Vegas', 'Fairborn', 'Atlanta', 'Breinigsville', 'Yonkers', 'Lynnfield', 'Irvington', 'Cloverville', 'Geneva', 'Castlewood', 'Woodlawn', 'Lakewood Ranch', 'Lincoln', 'Moon', 'Northglenn', 'Cranberry', 'College Station', 'Bayonne'}\n"
     ]
    }
   ],
   "source": [
    "print(allTweetPlace)"
   ]
  },
  {
   "cell_type": "markdown",
   "metadata": {},
   "source": [
    "We can see there are also nearby city in the tweet's location. For example, Mill Valley, Sausalito and San Rafael appears here. Following I will try to import all pull data from server."
   ]
  },
  {
   "cell_type": "markdown",
   "metadata": {},
   "source": [
    "Here we only take a month period data. January 2017. "
   ]
  },
  {
   "cell_type": "code",
   "execution_count": 52,
   "metadata": {},
   "outputs": [],
   "source": [
    "def checkSFTweets(fileName):\n",
    "    SF_tweetsInOneFile = []\n",
    "    with open(fileName, \"r\") as f:\n",
    "        everyLines = f.readlines()\n",
    "        for line in everyLines:\n",
    "            try:\n",
    "                tweetInJson = json.loads(line)\n",
    "                tweetPlace = getPlaceName(tweetInJson)\n",
    "                if tweetPlace == 'San Francisco':\n",
    "                    SF_tweetsInOneFile.append(line)\n",
    "            except:\n",
    "                continue\n",
    "        return SF_tweetsInOneFile"
   ]
  },
  {
   "cell_type": "code",
   "execution_count": 60,
   "metadata": {},
   "outputs": [
    {
     "name": "stdout",
     "output_type": "stream",
     "text": [
      "C:\\Users\\eddie\\Desktop\\Prof. Rumi Chunara\\alcohol\n",
      "Wall time: 8min 45s\n"
     ]
    }
   ],
   "source": [
    "%%time\n",
    "# Iterate the files in the directory you stored the data.\n",
    "jsonFileDirectoryPath = \"C:/Users/eddie/Desktop/Prof. Rumi Chunara/alcohol/data/pullFromTwitter_2017_01\"\n",
    "jsonFiles= os.listdir(jsonFileDirectoryPath)\n",
    "# Create a list to store SF tweets\n",
    "SF_tweets = []\n",
    "\n",
    "# print(os.getcwd())\n",
    "os.chdir('C:/Users/eddie/Desktop/Prof. Rumi Chunara/alcohol/data/pullFromTwitter_2017_01')\n",
    "for jsonFile in jsonFiles:\n",
    "    # Make sure we open the file that is Json format (not .tar) and not directory.\n",
    "    if not os.path.isdir(jsonFile) and os.path.splitext(jsonFile)[-1] == \".json\":\n",
    "        # Iterate the jsonFile to check if there are any SF tweets\n",
    "        SF_tweetsInOneFile = checkSFTweets(jsonFile)\n",
    "        SF_tweets.extend(SF_tweetsInOneFile)\n"
   ]
  },
  {
   "cell_type": "markdown",
   "metadata": {},
   "source": [
    "Remove duplicate, even it's only a small part. "
   ]
  },
  {
   "cell_type": "code",
   "execution_count": 72,
   "metadata": {},
   "outputs": [],
   "source": [
    "SF_tweets = list(set(SF_tweets))"
   ]
  },
  {
   "cell_type": "code",
   "execution_count": 73,
   "metadata": {},
   "outputs": [
    {
     "name": "stdout",
     "output_type": "stream",
     "text": [
      "Tweets that posted in San Francisco:  87764\n"
     ]
    }
   ],
   "source": [
    "print('Tweets that posted in San Francisco: ', len(SF_tweets))\n",
    "# print(SF_tweets[1])"
   ]
  },
  {
   "cell_type": "code",
   "execution_count": 74,
   "metadata": {},
   "outputs": [],
   "source": [
    "# Write SF tweets into file.\n",
    "os.chdir('C:/Users/eddie/Desktop/Prof. Rumi Chunara/alcohol')\n",
    "SF_tweetsFileName = './data/SF_tweets_2017_01.json'\n",
    "with open(SF_tweetsFileName, \"w\") as f:\n",
    "    for tweet in SF_tweets:\n",
    "        f.write(tweet)"
   ]
  },
  {
   "cell_type": "code",
   "execution_count": 75,
   "metadata": {},
   "outputs": [],
   "source": [
    "# Load those tweets back in Json format to check if there are anything wrong.\n",
    "with open(\"./data/SF_tweets_2017_01.json\", \"r\") as f:\n",
    "    firstLine = f.readline()\n",
    "    firstLine_format = json.loads(firstLine)\n",
    "#     everyLines = f.readlines()\n",
    "#     for line in everyLines:\n",
    "#         tweetInJson = json.loads(line)\n",
    "    "
   ]
  },
  {
   "cell_type": "code",
   "execution_count": 76,
   "metadata": {},
   "outputs": [
    {
     "data": {
      "text/plain": [
       "{'created_at': 'Wed Jan 04 21:51:34 +0000 2017',\n",
       " 'id': 816764032929660928,\n",
       " 'id_str': '816764032929660928',\n",
       " 'text': 'Opened Street or Sidewalk Cleaning request via android at 3154 17th St https://t.co/nR9l9sWgkf. Piles of trash. https://t.co/rYeD6jSgnr',\n",
       " 'display_text_range': [0, 111],\n",
       " 'source': '<a href=\"http://spotreporters.com\" rel=\"nofollow\">Spot Reporters Server</a>',\n",
       " 'truncated': False,\n",
       " 'in_reply_to_status_id': None,\n",
       " 'in_reply_to_status_id_str': None,\n",
       " 'in_reply_to_user_id': None,\n",
       " 'in_reply_to_user_id_str': None,\n",
       " 'in_reply_to_screen_name': None,\n",
       " 'user': {'id': 1589692776,\n",
       "  'id_str': '1589692776',\n",
       "  'name': 'SF311 Reports',\n",
       "  'screen_name': 'SF311Reports',\n",
       "  'location': 'San Francisco, CA',\n",
       "  'url': 'http://mobile311.sfgov.org',\n",
       "  'description': \"This is account is not monitored and is used to post service request update information. To communicate with SF311, please use our main account 'SF311'\",\n",
       "  'protected': False,\n",
       "  'verified': False,\n",
       "  'followers_count': 128,\n",
       "  'friends_count': 0,\n",
       "  'listed_count': 73,\n",
       "  'favourites_count': 0,\n",
       "  'statuses_count': 464116,\n",
       "  'created_at': 'Sat Jul 13 00:04:48 +0000 2013',\n",
       "  'utc_offset': None,\n",
       "  'time_zone': None,\n",
       "  'geo_enabled': True,\n",
       "  'lang': 'en',\n",
       "  'contributors_enabled': False,\n",
       "  'is_translator': False,\n",
       "  'profile_background_color': 'C0DEED',\n",
       "  'profile_background_image_url': 'http://abs.twimg.com/images/themes/theme1/bg.png',\n",
       "  'profile_background_image_url_https': 'https://abs.twimg.com/images/themes/theme1/bg.png',\n",
       "  'profile_background_tile': False,\n",
       "  'profile_link_color': '1DA1F2',\n",
       "  'profile_sidebar_border_color': 'C0DEED',\n",
       "  'profile_sidebar_fill_color': 'DDEEF6',\n",
       "  'profile_text_color': '333333',\n",
       "  'profile_use_background_image': True,\n",
       "  'profile_image_url': 'http://pbs.twimg.com/profile_images/378800000255346636/324671de53605fa795ab03eb73a7b0b5_normal.png',\n",
       "  'profile_image_url_https': 'https://pbs.twimg.com/profile_images/378800000255346636/324671de53605fa795ab03eb73a7b0b5_normal.png',\n",
       "  'default_profile': True,\n",
       "  'default_profile_image': False,\n",
       "  'following': None,\n",
       "  'follow_request_sent': None,\n",
       "  'notifications': None},\n",
       " 'geo': {'type': 'Point', 'coordinates': [37.763941, -122.416533]},\n",
       " 'coordinates': {'type': 'Point', 'coordinates': [-122.416533, 37.763941]},\n",
       " 'place': {'id': '5a110d312052166f',\n",
       "  'url': 'https://api.twitter.com/1.1/geo/id/5a110d312052166f.json',\n",
       "  'place_type': 'city',\n",
       "  'name': 'San Francisco',\n",
       "  'full_name': 'San Francisco, CA',\n",
       "  'country_code': 'US',\n",
       "  'country': 'United States',\n",
       "  'bounding_box': {'type': 'Polygon',\n",
       "   'coordinates': [[[-122.514926, 37.708075],\n",
       "     [-122.514926, 37.833238],\n",
       "     [-122.357031, 37.833238],\n",
       "     [-122.357031, 37.708075]]]},\n",
       "  'attributes': {}},\n",
       " 'contributors': None,\n",
       " 'is_quote_status': False,\n",
       " 'retweet_count': 0,\n",
       " 'favorite_count': 0,\n",
       " 'entities': {'hashtags': [],\n",
       "  'urls': [{'url': 'https://t.co/nR9l9sWgkf',\n",
       "    'expanded_url': 'https://goo.gl/S9LmMS',\n",
       "    'display_url': 'goo.gl/S9LmMS',\n",
       "    'indices': [71, 94]}],\n",
       "  'user_mentions': [],\n",
       "  'symbols': [],\n",
       "  'media': [{'id': 816764030060621824,\n",
       "    'id_str': '816764030060621824',\n",
       "    'indices': [112, 135],\n",
       "    'media_url': 'http://pbs.twimg.com/media/C1W6jtUUcAAs9GF.jpg',\n",
       "    'media_url_https': 'https://pbs.twimg.com/media/C1W6jtUUcAAs9GF.jpg',\n",
       "    'url': 'https://t.co/rYeD6jSgnr',\n",
       "    'display_url': 'pic.twitter.com/rYeD6jSgnr',\n",
       "    'expanded_url': 'https://twitter.com/SF311Reports/status/816764032929660928/photo/1',\n",
       "    'type': 'photo',\n",
       "    'sizes': {'medium': {'w': 512, 'h': 288, 'resize': 'fit'},\n",
       "     'thumb': {'w': 150, 'h': 150, 'resize': 'crop'},\n",
       "     'small': {'w': 512, 'h': 288, 'resize': 'fit'},\n",
       "     'large': {'w': 512, 'h': 288, 'resize': 'fit'}}}]},\n",
       " 'extended_entities': {'media': [{'id': 816764030060621824,\n",
       "    'id_str': '816764030060621824',\n",
       "    'indices': [112, 135],\n",
       "    'media_url': 'http://pbs.twimg.com/media/C1W6jtUUcAAs9GF.jpg',\n",
       "    'media_url_https': 'https://pbs.twimg.com/media/C1W6jtUUcAAs9GF.jpg',\n",
       "    'url': 'https://t.co/rYeD6jSgnr',\n",
       "    'display_url': 'pic.twitter.com/rYeD6jSgnr',\n",
       "    'expanded_url': 'https://twitter.com/SF311Reports/status/816764032929660928/photo/1',\n",
       "    'type': 'photo',\n",
       "    'sizes': {'medium': {'w': 512, 'h': 288, 'resize': 'fit'},\n",
       "     'thumb': {'w': 150, 'h': 150, 'resize': 'crop'},\n",
       "     'small': {'w': 512, 'h': 288, 'resize': 'fit'},\n",
       "     'large': {'w': 512, 'h': 288, 'resize': 'fit'}}}]},\n",
       " 'favorited': False,\n",
       " 'retweeted': False,\n",
       " 'possibly_sensitive': False,\n",
       " 'filter_level': 'low',\n",
       " 'lang': 'en',\n",
       " 'timestamp_ms': '1483566694849'}"
      ]
     },
     "execution_count": 76,
     "metadata": {},
     "output_type": "execute_result"
    }
   ],
   "source": [
    "firstLine_format"
   ]
  },
  {
   "cell_type": "markdown",
   "metadata": {},
   "source": [
    "There are 87764 tweets posted in San Francisco in January 2017."
   ]
  },
  {
   "cell_type": "code",
   "execution_count": null,
   "metadata": {},
   "outputs": [],
   "source": []
  }
 ],
 "metadata": {
  "kernelspec": {
   "display_name": "Python 3",
   "language": "python",
   "name": "python3"
  }
 },
 "nbformat": 4,
 "nbformat_minor": 2
}
