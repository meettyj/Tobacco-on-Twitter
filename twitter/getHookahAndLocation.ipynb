{
 "cells": [
  {
   "cell_type": "code",
   "execution_count": 15,
   "metadata": {},
   "outputs": [],
   "source": [
    "import json\n",
    "import pandas as pd\n",
    "\n",
    "import os\n",
    "os.chdir('C:/Users/eddie/Desktop/Prof. Rumi Chunara/alcohol')"
   ]
  },
  {
   "cell_type": "code",
   "execution_count": 17,
   "metadata": {},
   "outputs": [],
   "source": [
    "def getPlaceName(jsonLine):\n",
    "    return jsonLine['place']['name']"
   ]
  },
  {
   "cell_type": "code",
   "execution_count": 18,
   "metadata": {},
   "outputs": [],
   "source": [
    "# return a set of location\n",
    "def getLocationOfFile(fileName):\n",
    "    allLocationInOneFile = set()\n",
    "    with open(fileName, \"r\") as f:\n",
    "        everyLines = f.readlines()\n",
    "        for line in everyLines:\n",
    "            try:\n",
    "                tweetInJson = json.loads(line)\n",
    "                tweetPlace = getPlaceName(tweetInJson)\n",
    "                allLocationInOneFile.add(tweetPlace)\n",
    "#                 if tweetPlace == 'San Francisco':\n",
    "#                     SF_tweetsInOneFile.append(line)\n",
    "            except:\n",
    "                continue\n",
    "        return allLocationInOneFile"
   ]
  },
  {
   "cell_type": "code",
   "execution_count": 31,
   "metadata": {},
   "outputs": [],
   "source": [
    "def checkHookahInTweet(oneTweet):\n",
    "    lowercaseTweet = oneTweet.lower()\n",
    "    if 'hookah' in lowercaseTweet:\n",
    "#         print(line)\n",
    "        return True\n",
    "    elif 'hooka' in lowercaseTweet:\n",
    "#         print(line)\n",
    "        return True\n",
    "    elif 'shisha' in lowercaseTweet:\n",
    "#         print(line)\n",
    "        return True\n",
    "    elif 'sheesha' in lowercaseTweet:\n",
    "#         print(line)\n",
    "        return True\n",
    "    elif 'narghile' in lowercaseTweet:\n",
    "#         print(line)\n",
    "        return True\n",
    "    elif 'steam pipe' in lowercaseTweet:\n",
    "#         print(line)\n",
    "        return True\n",
    "    else:\n",
    "        return False"
   ]
  },
  {
   "cell_type": "code",
   "execution_count": 32,
   "metadata": {},
   "outputs": [],
   "source": [
    "def getAllHookahTweets(fileName):\n",
    "    allHookahTweetInOneFile = []\n",
    "    with open(fileName, \"r\") as f:\n",
    "        everyLines = f.readlines()\n",
    "        for line in everyLines:\n",
    "#             try:\n",
    "#                 tweetInJson = json.loads(line)\n",
    "#                 tweetPlace = getPlaceName(tweetInJson)\n",
    "            if checkHookahInTweet(line):\n",
    "                allHookahTweetInOneFile.append(line)\n",
    "\n",
    "#                 if tweetPlace == 'San Francisco':\n",
    "#                     SF_tweetsInOneFile.append(line)\n",
    "#             except:\n",
    "#                 continue\n",
    "        return allHookahTweetInOneFile"
   ]
  },
  {
   "cell_type": "code",
   "execution_count": 38,
   "metadata": {},
   "outputs": [
    {
     "name": "stdout",
     "output_type": "stream",
     "text": [
      "Wall time: 11min 22s\n"
     ]
    }
   ],
   "source": [
    "%%time\n",
    "# Iterate the files in the directory you stored the data.\n",
    "jsonFileDirectoryPath = \"C:/Users/eddie/Desktop/Prof. Rumi Chunara/alcohol/data/pullFromTwitter_2017_01\"\n",
    "# jsonFileDirectoryPath = \"C:/Users/eddie/Desktop/Prof. Rumi Chunara/alcohol/data/pullFromTwitter\"\n",
    "jsonFiles= os.listdir(jsonFileDirectoryPath)\n",
    "# Create a list to store SF tweets\n",
    "allLocation = set()\n",
    "allHookahTweet = []\n",
    "\n",
    "# print(os.getcwd())\n",
    "os.chdir('C:/Users/eddie/Desktop/Prof. Rumi Chunara/alcohol/data/pullFromTwitter_2017_01')\n",
    "# os.chdir('C:/Users/eddie/Desktop/Prof. Rumi Chunara/alcohol/data/pullFromTwitter')\n",
    "for jsonFile in jsonFiles:\n",
    "    if not os.path.isdir(jsonFile) and os.path.splitext(jsonFile)[-1] == \".json\":\n",
    "        # Iterate the jsonFile to get the hookah related tweets\n",
    "        allHookahTweetInOneFile = getAllHookahTweets(jsonFile)\n",
    "        allHookahTweet.extend(allHookahTweetInOneFile)\n",
    "        \n",
    "        # Iterate the jsonFile to get the location of all tweets\n",
    "        allLocationInOneFile = getLocationOfFile(jsonFile)\n",
    "        allLocation.update(allLocationInOneFile)"
   ]
  },
  {
   "cell_type": "markdown",
   "metadata": {},
   "source": [
    "Now remove the duplicate in allHookahTweet:"
   ]
  },
  {
   "cell_type": "code",
   "execution_count": 39,
   "metadata": {},
   "outputs": [],
   "source": [
    "allHookahTweet = list(set(allHookahTweet))"
   ]
  },
  {
   "cell_type": "code",
   "execution_count": 40,
   "metadata": {},
   "outputs": [
    {
     "name": "stdout",
     "output_type": "stream",
     "text": [
      "length of allLocation in 2017_01:  14045\n",
      "length of allHookahTweet in 2017_01:  3739\n"
     ]
    }
   ],
   "source": [
    "print('length of allLocation in 2017_01: ', len(allLocation))\n",
    "print('length of allHookahTweet in 2017_01: ', len(allHookahTweet))"
   ]
  },
  {
   "cell_type": "markdown",
   "metadata": {},
   "source": [
    "Save these information for future use:"
   ]
  },
  {
   "cell_type": "code",
   "execution_count": 48,
   "metadata": {},
   "outputs": [],
   "source": [
    "# Write location information into file.\n",
    "os.chdir('C:/Users/eddie/Desktop/Prof. Rumi Chunara/alcohol')\n",
    "allLocation_FileName = './data/allLocation_2017_01.json'\n",
    "with open(allLocation_FileName, \"w\", encoding=\"utf-8\") as f:\n",
    "    for loc in allLocation:\n",
    "        f.write(loc+'\\n')\n",
    "\n",
    "# Write all Hookah tweets into file.\n",
    "os.chdir('C:/Users/eddie/Desktop/Prof. Rumi Chunara/alcohol')\n",
    "allHookah_tweetsFileName = './data/allHookah_tweets_2017_01.json'\n",
    "with open(allHookah_tweetsFileName, \"w\") as f:\n",
    "    for tweet in allHookahTweet:\n",
    "        f.write(tweet)"
   ]
  },
  {
   "cell_type": "markdown",
   "metadata": {},
   "source": [
    "Try to load allHookahTweet file to check save correctly."
   ]
  },
  {
   "cell_type": "code",
   "execution_count": 51,
   "metadata": {},
   "outputs": [],
   "source": [
    "with open(\"./data/allHookah_tweets_2017_01.json\", \"r\") as f:\n",
    "    firstLine = f.readline()\n",
    "    firstLine_format = json.loads(firstLine)\n",
    "# firstLine_format"
   ]
  },
  {
   "cell_type": "code",
   "execution_count": null,
   "metadata": {},
   "outputs": [],
   "source": []
  }
 ],
 "metadata": {
  "kernelspec": {
   "display_name": "Python 3",
   "language": "python",
   "name": "python3"
  },
  "language_info": {
   "codemirror_mode": {
    "name": "ipython",
    "version": 3
   },
   "file_extension": ".py",
   "mimetype": "text/x-python",
   "name": "python",
   "nbconvert_exporter": "python",
   "pygments_lexer": "ipython3",
   "version": "3.6.5"
  }
 },
 "nbformat": 4,
 "nbformat_minor": 2
}
