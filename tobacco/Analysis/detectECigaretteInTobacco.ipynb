{
 "cells": [
  {
   "cell_type": "code",
   "execution_count": 3,
   "metadata": {},
   "outputs": [],
   "source": [
    "import os\n",
    "os.chdir('C:/Users/eddie/Desktop/Prof. Rumi Chunara/tobacco')\n",
    "\n",
    "import pandas"
   ]
  },
  {
   "cell_type": "code",
   "execution_count": 4,
   "metadata": {},
   "outputs": [],
   "source": [
    "df = pandas.read_csv(\"./data/used training data/tob.csv\")"
   ]
  },
  {
   "cell_type": "code",
   "execution_count": 5,
   "metadata": {},
   "outputs": [],
   "source": [
    "ECigarText = df.text"
   ]
  },
  {
   "cell_type": "code",
   "execution_count": 6,
   "metadata": {},
   "outputs": [
    {
     "name": "stdout",
     "output_type": "stream",
     "text": [
      "<class 'pandas.core.series.Series'>\n",
      "26168\n"
     ]
    }
   ],
   "source": [
    "print(type(ECigarText))\n",
    "print(len(ECigarText))"
   ]
  },
  {
   "cell_type": "code",
   "execution_count": 78,
   "metadata": {},
   "outputs": [
    {
     "name": "stdout",
     "output_type": "stream",
     "text": [
      "krave\n",
      "#iec 61641 standard krave maga\n",
      "--------------------------------\n",
      "finiti\n",
      "11 11 You're every single definition of perfect in my mind\n",
      "--------------------------------\n",
      "finiti\n",
      "i typo'd 'fervor' in MSword amp the suggestion was \"furvert\" i googled the definition which A furry who is a pervert\n",
      "--------------------------------\n",
      "vapor\n",
      "Ingest nicotine via vaporising not cigarettes Extremely powerful mood altering concentration enhancing human potential unlocking shit\n",
      "--------------------------------\n",
      "krave\n",
      "Mama came home with a family size Krave cereal She does love me\n",
      "--------------------------------\n",
      "finiti\n",
      "Mavs losing in the first round after ranking first in the west is the definition of underachieving lol\n",
      "--------------------------------\n",
      "finiti\n",
      "the one line Lucas can't stop saying 'let me finish chill' but man dont know the definition of chill bruh #bkchatldn\n",
      "--------------------------------\n",
      "krave\n",
      "Think I'm addicted to Krave\n",
      "--------------------------------\n",
      "mistic\n",
      "Tryna b optimistic on the daily lol and let things go lol\n",
      "--------------------------------\n",
      "mistic\n",
      "Tune into -MENTION- to listen to Cautiously Optimistic right now #sabres\n",
      "--------------------------------\n",
      "finiti\n",
      "What's the definition of blem please I only know it to mean a cigarette\n",
      "--------------------------------\n",
      "vapor\n",
      "Y do u have to b 18 2 go 2 a shisha bar LOL I swear it's jus evaporated flavoured water\n",
      "--------------------------------\n",
      "finiti\n",
      "You can't just change word definitions to mean whatever you want \"Are you racist \" \"If racist means loving everyone then yes \" #complicit\n",
      "--------------------------------\n"
     ]
    }
   ],
   "source": [
    "finList = []\n",
    "label_finList = []\n",
    "njoyList = []\n",
    "label_njoyList = []\n",
    "\n",
    "eCigarList = []\n",
    "label_eCigarList = []\n",
    "ECigar_keywords = ['smokestiks','v2 cig','v2 cigs','v2cigs','v2cig',' mistic ',\n",
    "            '21st century smoke','logic black label',' finiti','nicotek',\n",
    "            'cigirex','logic platinum','cigalectric','xhale o2','cig2o',\n",
    "            'green smart living','krave','secondhand vape','secondhand vaping',\n",
    "            'second-hand vape','second-hand vaping','vape smoke','ecig smoke',\n",
    "            'e-cig smoke','e-cigarette smoke','vape shs','ecig shs',\n",
    "            'vape secondhand smoke','vape second-hand smoke','esmoke','esmoke',\n",
    "            'stillblowingsmoke','still blowing smoke','notblowingsmoke',\n",
    "            'not blowing smoke','capublichealth','tobaccofreekids','notareplacement',\n",
    "            'trulyfree','truly free','sb140','sb 140','sb24','sb 24',\n",
    "            'cherry tip cigarillos','mini-cigarillos','tip cigarillos',\n",
    "            'king edward cigars','royal gold cigars','sweet coronella',\n",
    "            'swisher blk','swisher sweets','vapercon','vapercon west',\n",
    "            'grimmgreen',' vapor','electronic cigarette','vape meet',\n",
    "            'ecigssavelive','ecigssavelives','ecigssaveslives']\n",
    "\n",
    "for id, row in df.iterrows():\n",
    "#     print(row)\n",
    "    line = str(row[1])\n",
    "    lowercaseLine = line.lower()\n",
    "    \n",
    "    flagForECigar = True # assume true at first step.\n",
    "    \n",
    "    if 'electronic-cigarette' in lowercaseLine:\n",
    "#         print(line)\n",
    "        eCigarList.append(line)\n",
    "    elif 'electronic cigarette' in lowercaseLine:\n",
    "        eCigarList.append(line)\n",
    "    elif 'electronic cig' in lowercaseLine:\n",
    "        eCigarList.append(line)\n",
    "    elif ' e-cig' in lowercaseLine:\n",
    "        eCigarList.append(line)\n",
    "    elif ' ecig' in lowercaseLine:\n",
    "        eCigarList.append(line)\n",
    "    elif ' e cig' in lowercaseLine:\n",
    "        eCigarList.append(line)\n",
    "    elif ' e-cigarette' in lowercaseLine:\n",
    "        eCigarList.append(line)\n",
    "    elif ' ecigarette' in lowercaseLine:\n",
    "        eCigarList.append(line)\n",
    "    elif ' e cigarette' in lowercaseLine:\n",
    "        eCigarList.append(line)\n",
    "    \n",
    "    elif 'e-juice' in lowercaseLine:\n",
    "        eCigarList.append(line)\n",
    "    elif ' ejuice' in lowercaseLine: # lots of False positive. grapejuice, creativejuice ...\n",
    "#         print(line)\n",
    "        eCigarList.append(line)\n",
    "    elif ' e juice' in lowercaseLine:\n",
    "#         print(line)\n",
    "        eCigarList.append(line)\n",
    "    elif 'e-liquid' in lowercaseLine:\n",
    "        eCigarList.append(line)\n",
    "    elif 'eliquid' in lowercaseLine:\n",
    "        eCigarList.append(line)\n",
    "    elif ' e liquid' in lowercaseLine:\n",
    "        eCigarList.append(line)\n",
    "    elif 'vaper' in lowercaseLine: # Just for thoughtfulness, put it in front of 'vape' incase future use.\n",
    "        eCigarList.append(line)\n",
    "    elif 'vape' in lowercaseLine: \n",
    "        eCigarList.append(line)\n",
    "    elif 'vaping' in lowercaseLine:\n",
    "        eCigarList.append(line)\n",
    "    elif 'vape-juice' in lowercaseLine: # Just for thoughtfulness\n",
    "        eCigarList.append(line)\n",
    "    elif 'vape-liquid' in lowercaseLine:  # Just for thoughtfulness\n",
    "        eCigarList.append(line)\n",
    "    elif 'vaporizer' in lowercaseLine:\n",
    "        eCigarList.append(line)\n",
    "    elif 'boxmod' in lowercaseLine:\n",
    "        eCigarList.append(line)\n",
    "        \n",
    "        \n",
    "    elif 'e-smoke' in lowercaseLine: \n",
    "        eCigarList.append(line)\n",
    "    elif 'esmoke' in lowercaseLine:\n",
    "        eCigarList.append(line)\n",
    "    elif ' e smoke' in lowercaseLine:\n",
    "        eCigarList.append(line)\n",
    "        \n",
    "    # Brand\n",
    "    elif 'juul' in lowercaseLine: \n",
    "        eCigarList.append(line)\n",
    "    elif 'vaporfi' in lowercaseLine:\n",
    "        eCigarList.append(line)\n",
    "    elif 'vype pebble' in lowercaseLine: # Just for thoughtfulness\n",
    "        eCigarList.append(line)\n",
    "    elif 'v2cigs' in lowercaseLine:  # Just for thoughtfulness\n",
    "        eCigarList.append(line)\n",
    "    elif 'halocigs' in lowercaseLine:\n",
    "        eCigarList.append(line)\n",
    "    \n",
    "    # \n",
    "    elif 'cloud chaser' in lowercaseLine: \n",
    "        eCigarList.append(line)\n",
    "    elif 'cloudchaser' in lowercaseLine:\n",
    "        eCigarList.append(line)\n",
    "    elif 'ciga' in lowercaseLine and 'blu' in lowercaseLine: \n",
    "        eCigarList.append(line)\n",
    "    elif 'cig' in lowercaseLine and 'blu' in lowercaseLine: \n",
    "        eCigarList.append(line)\n",
    "    elif 'e-swisher' in lowercaseLine:\n",
    "        eCigarList.append(line)\n",
    "    elif 'ezsmoker' in lowercaseLine: \n",
    "        eCigarList.append(line)\n",
    "\n",
    "    # It turns out it mainly because of this.\n",
    "    elif ' fin ' in lowercaseLine:\n",
    "        finList.append(line)\n",
    "        label_finList.append(row[0])\n",
    "        eCigarList.append(line)\n",
    "    elif ' njoy' in lowercaseLine: \n",
    "        njoyList.append(line)\n",
    "        label_njoyList.append(row[0])\n",
    "        eCigarList.append(line)\n",
    "    \n",
    "    # 0 more\n",
    "    elif 'smoke assist' in lowercaseLine: \n",
    "        eCigarList.append(line)\n",
    "    elif 'v2 cigs' in lowercaseLine:\n",
    "        eCigarList.append(line)\n",
    "    elif 'markten' in lowercaseLine:\n",
    "        eCigarList.append(line)\n",
    "    elif 'vuse' in lowercaseLine: \n",
    "        eCigarList.append(line)\n",
    "    elif 'tryst' in lowercaseLine:\n",
    "        eCigarList.append(line)       \n",
    "    elif 'atomizer' in lowercaseLine: \n",
    "        eCigarList.append(line)\n",
    "    elif 'cartomizer' in lowercaseLine: \n",
    "        eCigarList.append(line)\n",
    "    \n",
    "#     1 more\n",
    "    elif 'ehookah' in lowercaseLine:\n",
    "        eCigarList.append(line)\n",
    "    elif 'e-hookah' in lowercaseLine:\n",
    "        eCigarList.append(line)\n",
    "    elif ' e hookah' in lowercaseLine: \n",
    "        eCigarList.append(line)\n",
    "    elif 'green smoke' in lowercaseLine:\n",
    "        eCigarList.append(line)       \n",
    "    elif 'south beach smoke' in lowercaseLine: \n",
    "        eCigarList.append(line)\n",
    "    elif 'eversmoke' in lowercaseLine: \n",
    "        eCigarList.append(line)\n",
    "    elif 'joye510' in lowercaseLine:\n",
    "        eCigarList.append(line)\n",
    "    \n",
    "    elif 'joye 510' in lowercaseLine:\n",
    "        eCigarList.append(line)\n",
    "    elif 'joyetech' in lowercaseLine:\n",
    "        eCigarList.append(line)\n",
    "    elif 'logicecig' in lowercaseLine: \n",
    "        eCigarList.append(line)\n",
    "    elif 'smartsmoker' in lowercaseLine:\n",
    "        eCigarList.append(line)       \n",
    "    else:\n",
    "        flagForECigar = False\n",
    "    \n",
    "    # only give us 7 more.\n",
    "    if flagForECigar == False:\n",
    "        for keyword in ECigar_keywords:\n",
    "            if keyword in lowercaseLine:\n",
    "                \n",
    "                print(keyword)\n",
    "                print(line)\n",
    "                print('--------------------------------')\n",
    "                \n",
    "                eCigarList.append(line)\n",
    "                flagForECigar = True\n",
    "                break\n",
    "\n",
    "    \n",
    "    # add Label\n",
    "    if flagForECigar == True:\n",
    "        label_eCigarList.append(row[0])\n",
    "        "
   ]
  },
  {
   "cell_type": "code",
   "execution_count": 67,
   "metadata": {},
   "outputs": [
    {
     "name": "stdout",
     "output_type": "stream",
     "text": [
      "eCigarList: 870 items\n"
     ]
    }
   ],
   "source": [
    "print('eCigarList: %d items' %(len(eCigarList)))"
   ]
  },
  {
   "cell_type": "code",
   "execution_count": 68,
   "metadata": {},
   "outputs": [
    {
     "data": {
      "text/plain": [
       "['Tobacco',\n",
       " 'Tobacco',\n",
       " 'Tobacco',\n",
       " 'Tobacco',\n",
       " 'Tobacco',\n",
       " 'Tobacco',\n",
       " 'NOT-Tobacco',\n",
       " 'NOT-Tobacco',\n",
       " 'Tobacco',\n",
       " 'Tobacco']"
      ]
     },
     "execution_count": 68,
     "metadata": {},
     "output_type": "execute_result"
    }
   ],
   "source": [
    "label_eCigarList[:10]"
   ]
  },
  {
   "cell_type": "code",
   "execution_count": 69,
   "metadata": {},
   "outputs": [
    {
     "name": "stdout",
     "output_type": "stream",
     "text": [
      "Tobacco:  770\n",
      "Not-Tobacco:  100\n"
     ]
    }
   ],
   "source": [
    "countForTobacco = 0\n",
    "for i in label_eCigarList:\n",
    "    if i == 'Tobacco':\n",
    "        countForTobacco+=1\n",
    "print('Tobacco: ', countForTobacco)\n",
    "print('Not-Tobacco: ', len(label_eCigarList)-countForTobacco)"
   ]
  },
  {
   "cell_type": "markdown",
   "metadata": {},
   "source": [
    "Print those e-cigarette not in tobacco related."
   ]
  },
  {
   "cell_type": "code",
   "execution_count": 70,
   "metadata": {},
   "outputs": [],
   "source": [
    "# # print those e-cigarette related tweets\n",
    "# for i in eCigarList:\n",
    "#     print(i)\n",
    "#     print('-----------')"
   ]
  },
  {
   "cell_type": "code",
   "execution_count": 76,
   "metadata": {},
   "outputs": [
    {
     "name": "stdout",
     "output_type": "stream",
     "text": [
      "\"allegheny county indoor vaping ban\" has to be the most out of control thing i've heard this week\n",
      "\"By 2035 China will become the world s first aviation market to exceed one trillion dollars in value \" Juul Mortensen #TFWA\n",
      "\"is that a flute or a vape\"\n",
      "\"Some of the most significant opportunities are the continued expansion of downtown duty free shopping in China\"Juul Mortensen -MENTION-\n",
      "\"The background to all our hopes and ambitions in China is first of all the health of the Chinese economy \" Juul Mortensen\n",
      "viciously taking rips from an asthma inhaler melia your vape sucks ass\n",
      "If you live in Goldsboro do you vape\n",
      "#flavors of vape white 2008 honda accord\n",
      "#iec 61641 standard krave maga\n",
      "#most expensive houses in texas cons of e cigs\n",
      "HWAL HUGE news and promotions and newsletter on it's way Super LOW float OTC Load up before this takes off MMHC ECIG TXHD MMEX RCII\n",
      "MYLI PSNX MMEG VAPE EMSF FORC ASTI SOUL GAHC BTSC IFAN MJTK VRCI PHOT just to name a few plays Patience Reward in this game\n",
      "SING is acquiring interest in a company that developed the first oil filling machine for vape pens\n",
      "UBQU #BREAKING Setting up to explode Stocks on watch CVSI VAPE #potstocks\n",
      "11 11 You're every single definition of perfect in my mind\n",
      "2017 Vape Trick Expo held in the Pace University dorms\n",
      "2017 yeah I'll have the vaped salmon please\n",
      "A Malaysian MP said girls as young as nine were \"physically and spiritually\" ready for marriage En fin (\n",
      "A wish for investment in airports and aviation \"is being fulfilled across China \" Erik Juul Mortensen tells #TFWAChina\n",
      "RADWIMPS HKT48 Penny StateBoard Snowboard bass guitar VAPE EDM Splatoon GoPro\n",
      "Aimcig orders sent out everyday Email ben ecig-MENTION- com Wechat 86 18571514701 Whatsapp 86 18571514701 Skype wholesale ben\n",
      "All these things I'm learning sex tapes vaping and pearl necklaces\" Phyl 2017\n",
      "an account called majestic vape is following me and its just gifs and pictures of people vaping what did i do to deserve this\n",
      "As I drove away this a m a man on the corner holding what looked like a small vacuum cleaner to his mouth a vape machine Enormous\n",
      "Bungo vape or wave alone and punnished Bungy big boom boom Bungle SAADbot 1 5\n",
      "Can someone explain to me why there's so many vape shops everywhere Have we not reached peak vape\n",
      "China has been in the luxury goods business for centuries but that is being redefined and redistributed says Juul Mortensen -MENTION-\n",
      "cool is gay but so is objective vaping\n",
      "Cut film to vent vape or wave so GOD HELP ME worth a gold star Bungle SAADbot will die SAADbot 1 5\n",
      "Do u even vape\n",
      "do u think flint keeps his vape pen in his hair\n",
      "enter the void become vape\n",
      "Erik Juul Mortensen tells #TFWAChina that sustainable growth and a growing middle class in China will be good news for GTR\n",
      "every time I write anything about minhyuk juul comments the cutest things seyma eda amp hicran too I love my friends they are the best\n",
      "Feet a knuckles vape dragons\n",
      "fitzgjames hel p me pleasure myself anally with this vape pen\n",
      "Good Morning #JudgeVape #YouBeTheJudge\n",
      "HAHAHAH -MENTION- got a flat tire at 1am that's what you get for vaping\n",
      "Happy birthday bunce #juul -MENTION-\n",
      "Happy birthday to the greatest person at UNL Hope you had a great day so glad we became friends -MENTION- #juul\n",
      "Happy birthday -MENTION- #juul\n",
      "Hello fellow vapers Just a reminder that VapingMad is open today\n",
      "Hey Blo Vape thanks for the follow Please #follow us on #Instagram Username #WeedzRUs\n",
      "HEY MEMBERS HAVE YOU SEEN OUR NEW SUICIDE GIRLS VAPES THEY COME IN INDICA SATIVA AND HYBRID ASK YOUR BUDTENDER TODAY #VAPE #MEDICATE\n",
      "i hate the sound of a vape so much that it literally wakes me from a deep sleep\n",
      "I need to Zoey 101 necklace my JUUL I lose this shit every time I walk in a different room\n",
      "I sexually identify as an vape\n",
      "i typo'd 'fervor' in MSword amp the suggestion was \"furvert\" i googled the definition which A furry who is a pervert\n",
      "i wish -MENTION- 's profile picture would give some insight as to whether or not he vaped like i just wanna kno man\n",
      "I'm confused It's not that cold outside but when I exhale it looks like I'm vaping Am I on fire\n",
      "I'm over party darts vape life here I come #vapegod #vapelife\n",
      "I'm so British I vape tea\n",
      "If the X Files were made today we'd call him the vaping man (\n",
      "If u voted remain expect right wing squads of vape puffing autistic killers to come knocking\n",
      "If you're guna smoke in line at least smoke weed not some lame as flavored fucking vape shit like pls me da asco guey\n",
      "Im so stoned I tried hitting my vape and it wasn't even on Smh\n",
      "Ima be honest I'm #baked #lifted #vaped I didn't fail 3rd grade I'm gonna be in poverty amp I went to #University\n",
      "ISIS carrots vaping lightsteelblue vaginas gone wild\n",
      "Just got vape juice in my eye or semen I can't tell since I've been getting wrecked by dudes since I started vaping\n",
      "juul disagrees but my voice sucks as much as my life\n",
      "Juul Mortensen \"China has the potential to become the world's largest cruise market\" -MENTION-\n",
      "logan was like a 10 but every time there was a vaping scene it went down\n",
      "Make a superhero video about slothman againts vape Lord nord\n",
      "Mama came home with a family size Krave cereal She does love me\n",
      "Mavs losing in the first round after ranking first in the west is the definition of underachieving lol\n",
      "Min for Fin Services -MENTION- ON NOW to discuss big businesses getting a tax bill because they haven't been paying their fair share\n",
      "my dreams of being a vape god are still alive\n",
      "my fashion sense can only be described as a fine balance between 80s yakuza and vaping fuckboy\n",
      "my vape nation manager doubles as a gay stripper\n",
      "New tank I hope I don't drop this one #vape\n",
      "nico what's a vape pen can i write with it\n",
      "nier automata is extremely takes a huuuge vape hit Gender\n",
      "NotMemes this is my i hate objective vaping i cant mention cool peeps or else their feed gets rekt\n",
      "Okay I gotta stop fckn with this vape so hard\n",
      "Okay I hate the VAPE's name but I want their masks\n",
      "older brother weakness hozier effect falls asleep after one song strength vaping effect unknown\n",
      "On a scale of one to vape how FUCKING 42\n",
      "Our follows are great #rtsvapes #vape #vapin #eliquid\n",
      "Playin bf1 n one fuck in my squad hits a vape I teabagged him the whole time nvr revived him\n",
      "Promote your own brand at any time #vapor #juice #vape\n",
      "Rose keeps referring to kissing as \"vaping\" I'm now celibate\n",
      "SK8 Licks self and purrs vape dragons\n",
      "So far I've seen a Pret A Manger a Vape Shop and a Kilt Shop all my necessities are here looks like I'm moving to Glasgow x\n",
      "So I asked the gal what is the 20 Off Vape Juice4TheDaySpecial SheWroteDownPMS\n",
      "Stillwater is full of snakes rats and vape gods\n",
      "thanks nitw for that sweeet vape representation\n",
      "The #HookahSpot is #Open Check us out for all your #Hookah Needs 1 Garden State Plaza Paramus NJ 07652 #Mya #Hookah #Ehookah #ecigs\n",
      "the one line Lucas can't stop saying 'let me finish chill' but man dont know the definition of chill bruh #bkchatldn\n",
      "the vape life is real at four years strong\n",
      "the yard shet amoy vape na amoy alak kanina what the fries\n",
      "Think I'm addicted to Krave\n",
      "This vape pen makes it way too easy to get way too stoned\n",
      "Tryna b optimistic on the daily lol and let things go lol\n",
      "Tune into -MENTION- to listen to Cautiously Optimistic right now #sabres\n",
      "Vape battery died an hour into my evening out #StonerWorldProblems\n",
      "Vaping desert sand lightslategray 420 blaze it methamphetamine\n",
      "vaping kief has got me so stoned\n",
      "Wake and Vape #420\n",
      "Wow if I wasn't already stressed out enough today everything I own is COVERED IN VAPE JUICE\n",
      "You can't just change word definitions to mean whatever you want \"Are you racist \" \"If racist means loving everyone then yes \" #complicit\n"
     ]
    }
   ],
   "source": [
    "# print that not in Tobacco but e-cigarette related.\n",
    "for i in range(len(label_eCigarList)):\n",
    "    if label_eCigarList[i] != 'Tobacco':\n",
    "        print(eCigarList[i])"
   ]
  },
  {
   "cell_type": "markdown",
   "metadata": {},
   "source": [
    "Analyze the reason what keyword increase the number so much."
   ]
  },
  {
   "cell_type": "code",
   "execution_count": 72,
   "metadata": {},
   "outputs": [
    {
     "data": {
      "text/plain": [
       "['A Malaysian MP said girls as young as nine were \"physically and spiritually\" ready for marriage En fin (',\n",
       " \"Min for Fin Services -MENTION- ON NOW to discuss big businesses getting a tax bill because they haven't been paying their fair share\"]"
      ]
     },
     "execution_count": 72,
     "metadata": {},
     "output_type": "execute_result"
    }
   ],
   "source": [
    "finList"
   ]
  },
  {
   "cell_type": "code",
   "execution_count": 73,
   "metadata": {},
   "outputs": [
    {
     "data": {
      "text/plain": [
       "[]"
      ]
     },
     "execution_count": 73,
     "metadata": {},
     "output_type": "execute_result"
    }
   ],
   "source": [
    "njoyList"
   ]
  },
  {
   "cell_type": "markdown",
   "metadata": {},
   "source": [
    "Analyze the label of finList and njoyList."
   ]
  },
  {
   "cell_type": "code",
   "execution_count": 74,
   "metadata": {},
   "outputs": [
    {
     "name": "stdout",
     "output_type": "stream",
     "text": [
      "Tobacco:  0\n",
      "Not-Tobacco:  2\n"
     ]
    }
   ],
   "source": [
    "countForTobacco = 0\n",
    "for i in label_finList:\n",
    "    if i == 'Tobacco':\n",
    "        countForTobacco+=1\n",
    "print('Tobacco: ', countForTobacco)\n",
    "print('Not-Tobacco: ', len(label_finList)-countForTobacco)"
   ]
  },
  {
   "cell_type": "code",
   "execution_count": 61,
   "metadata": {},
   "outputs": [
    {
     "name": "stdout",
     "output_type": "stream",
     "text": [
      "Tobacco:  0\n",
      "Not-Tobacco:  0\n"
     ]
    }
   ],
   "source": [
    "countForTobacco = 0\n",
    "for i in label_njoyList:\n",
    "    if i == 'Tobacco':\n",
    "        countForTobacco+=1\n",
    "print('Tobacco: ', countForTobacco)\n",
    "print('Not-Tobacco: ', len(label_njoyList)-countForTobacco)"
   ]
  },
  {
   "cell_type": "code",
   "execution_count": null,
   "metadata": {},
   "outputs": [],
   "source": []
  },
  {
   "cell_type": "code",
   "execution_count": 88,
   "metadata": {},
   "outputs": [],
   "source": [
    "# This is some experiment to get the class of keyword of e-cigarette.\n",
    "\n",
    "# testString = \"juul, vaporfi, vype pebble, 'sb140', v2cigs, halocigs, fin, njoy, v2 cigs, markten, vuse, tryst, atomizer, cartomizer, south beach smoke, eversmoke, joye510, joye 510, joyetech, logicecig, smartsmoker\"\n",
    "\n",
    "synonym_ecig = ['electronic-cigarette', 'electronic cigarette', 'electronic cig', ' e-cig', ' ecig', ' e cig', 'e-cigarette', 'ecigarette', ' e cigarette', 'e-juice', ' ejuice', ' e juice', 'e-liquid', ' eliquid', ' e liquid', 'e-smoke', 'esmoke', ' e smoke', 'vape', 'vaper', 'vaping', 'vape-juice', 'vape-liquid', ' vapor', 'vaporizer', 'boxmod', 'cloud chaser', 'cloudchaser', 'smoke assist', 'ehookah', 'e-hookah', ' e hookah', 'stillblowingsmoke', 'still blowing smoke', 'cherry tip cigarillo']\n",
    "\n",
    "brand_ecig = ['juul', 'vaporfi', 'vype pebble', 'v2 cig', 'v2cigs', 'v2 cigs', 'halocigs', ' njoy', 'markten', 'vuse', 'tryst', 'atomizer', 'cartomizer', 'south beach smoke', 'eversmoke', 'joye510', 'joye 510', 'joyetech', 'logicecig', 'smartsmoker', ' mistic', 'smokestiks', '21st century smoke', 'logic black label', ' fin', ' finiti', 'nicotek', 'cigirex', 'ciga & blu', 'cig & blu', 'logic & cig', 'e-swisher', 'e swisher', 'eswisher', 'ezsmoker', 'ez & cig', 'green smoke', 'cigalectric', 'xhale o2', 'xhaleo2', 'cig2o', 'green smart living', 'greensmartliving', 'krave', 'swisher blk', 'grimmgreen']\n",
    "\n",
    "policy_ecig = ['sb140','sb 140','sb24','sb 24']\n",
    "\n",
    "cessation_ecig = ['notblowingsmoke', 'not blowing smoke', 'tobaccofreekids', 'notareplacement']\n"
   ]
  },
  {
   "cell_type": "code",
   "execution_count": 89,
   "metadata": {},
   "outputs": [
    {
     "name": "stdout",
     "output_type": "stream",
     "text": [
      "89\n"
     ]
    }
   ],
   "source": [
    "print(len(synonym_ecig)+len(brand_ecig)+len(policy_ecig)+len(cessation_ecig))"
   ]
  },
  {
   "cell_type": "code",
   "execution_count": null,
   "metadata": {},
   "outputs": [],
   "source": []
  }
 ],
 "metadata": {
  "kernelspec": {
   "display_name": "Python 3",
   "language": "python",
   "name": "python3"
  },
  "language_info": {
   "codemirror_mode": {
    "name": "ipython",
    "version": 3
   },
   "file_extension": ".py",
   "mimetype": "text/x-python",
   "name": "python",
   "nbconvert_exporter": "python",
   "pygments_lexer": "ipython3",
   "version": "3.6.5"
  }
 },
 "nbformat": 4,
 "nbformat_minor": 2
}
