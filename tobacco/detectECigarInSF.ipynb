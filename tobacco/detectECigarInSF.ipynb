{
 "cells": [
  {
   "cell_type": "code",
   "execution_count": 1,
   "metadata": {},
   "outputs": [],
   "source": [
    "import os\n",
    "# os.chdir('C:/Users/eddie/Desktop/Prof. Rumi Chunara/alcohol')\n",
    "\n",
    "import pandas as pd"
   ]
  },
  {
   "cell_type": "code",
   "execution_count": 2,
   "metadata": {},
   "outputs": [],
   "source": [
    "with open('./data/SF_tweets_2017_01.json', 'r') as f:\n",
    "    data = f.readlines()\n",
    "\n",
    "# remove the trailing \"\\n\" from each line\n",
    "data = map(lambda x: x.rstrip(), data)\n",
    "\n",
    "# each element of 'data' is an individual JSON object. I want to convert it into an *array* of JSON objects \n",
    "# which, in and of itself, is one large JSON object basically... add square brackets to the beginning\n",
    "# and end, and have all the individual business JSON objects separated by a comma.\n",
    "data_json_str = \"[\" + ','.join(data) + \"]\"\n",
    "\n",
    "df = pd.read_json(data_json_str)"
   ]
  },
  {
   "cell_type": "code",
   "execution_count": 3,
   "metadata": {},
   "outputs": [],
   "source": [
    "allText = df.text"
   ]
  },
  {
   "cell_type": "code",
   "execution_count": 33,
   "metadata": {},
   "outputs": [
    {
     "name": "stdout",
     "output_type": "stream",
     "text": [
      "<class 'pandas.core.series.Series'>\n",
      "87764\n"
     ]
    }
   ],
   "source": [
    "print(type(allText))\n",
    "print(len(allText))"
   ]
  },
  {
   "cell_type": "code",
   "execution_count": 55,
   "metadata": {},
   "outputs": [],
   "source": [
    "eCigarList = []\n",
    "\n",
    "for line in allText:\n",
    "    lowercaseLine = line.lower()\n",
    "    if 'electronic-cigarette' in lowercaseLine:\n",
    "#         print(line)\n",
    "        eCigarList.append(line)\n",
    "    elif 'electronic cigarette' in lowercaseLine:\n",
    "        eCigarList.append(line)\n",
    "    elif 'electronic cig' in lowercaseLine:\n",
    "        eCigarList.append(line)\n",
    "    elif 'e-cig' in lowercaseLine:\n",
    "        eCigarList.append(line)\n",
    "    elif 'ecig' in lowercaseLine:\n",
    "        eCigarList.append(line)\n",
    "    elif 'e cig' in lowercaseLine:\n",
    "        eCigarList.append(line)\n",
    "    elif 'e-cigarette' in lowercaseLine:\n",
    "        eCigarList.append(line)\n",
    "    elif 'ecigarette' in lowercaseLine:\n",
    "        eCigarList.append(line)\n",
    "    elif 'e cigarette' in lowercaseLine:\n",
    "        eCigarList.append(line)\n",
    "    \n",
    "    elif 'e-juice' in lowercaseLine:\n",
    "        eCigarList.append(line)\n",
    "#     elif 'ejuice' in lowercaseLine: # lots of False positive. grapejuice, creativejuice ...\n",
    "#         print(line)\n",
    "#         eCigarList.append(line)\n",
    "#     elif 'e juice' in lowercaseLine:\n",
    "#         print(line)\n",
    "#         eCigarList.append(line)\n",
    "    elif 'e-liquid' in lowercaseLine:\n",
    "        eCigarList.append(line)\n",
    "    elif 'eliquid' in lowercaseLine:\n",
    "        eCigarList.append(line)\n",
    "#     elif 'e liquid' in lowercaseLine: # False positive. the liquid ...\n",
    "#         eCigarList.append(line)\n",
    "    elif 'vaper' in lowercaseLine: # Just for thoughtfulness, put it in front of 'vape' incase future use.\n",
    "        eCigarList.append(line)\n",
    "    elif 'vape' in lowercaseLine: \n",
    "        eCigarList.append(line)\n",
    "    elif 'vaping' in lowercaseLine:\n",
    "        eCigarList.append(line)\n",
    "    elif 'vape-juice' in lowercaseLine: # Just for thoughtfulness\n",
    "        eCigarList.append(line)\n",
    "    elif 'vape-liquid' in lowercaseLine:  # Just for thoughtfulness\n",
    "        eCigarList.append(line)\n",
    "    elif 'vaporizer' in lowercaseLine:\n",
    "        eCigarList.append(line)\n",
    "    elif 'boxmod' in lowercaseLine:\n",
    "        eCigarList.append(line)\n",
    "        \n",
    "        \n",
    "    elif 'e-smoke' in lowercaseLine: \n",
    "        eCigarList.append(line)\n",
    "    elif 'esmoke' in lowercaseLine:\n",
    "        eCigarList.append(line)\n",
    "        \n",
    "    # Brand\n",
    "    elif 'juul' in lowercaseLine: \n",
    "        eCigarList.append(line)\n",
    "    elif 'vaporfi' in lowercaseLine:\n",
    "        eCigarList.append(line)\n",
    "    elif 'vype pebble' in lowercaseLine: # Just for thoughtfulness\n",
    "        eCigarList.append(line)\n",
    "    elif 'v2cigs' in lowercaseLine:  # Just for thoughtfulness\n",
    "        eCigarList.append(line)\n",
    "    elif 'halocigs' in lowercaseLine:\n",
    "        eCigarList.append(line)\n",
    "#     elif 'eking' in lowercaseLine:\n",
    "#         eCigarList.append(line)\n",
    "#     elif 'e smoke' in lowercaseLine: # False Positive\n",
    "#         eCigarList.append(line\n",
    "\n"
   ]
  },
  {
   "cell_type": "code",
   "execution_count": 56,
   "metadata": {},
   "outputs": [
    {
     "name": "stdout",
     "output_type": "stream",
     "text": [
      "eCigarList: 3 items\n"
     ]
    }
   ],
   "source": [
    "print('eCigarList: %d items' %(len(eCigarList)))\n"
   ]
  },
  {
   "cell_type": "code",
   "execution_count": 57,
   "metadata": {},
   "outputs": [
    {
     "name": "stdout",
     "output_type": "stream",
     "text": [
      "Our SF native weighs in on the city's battle between drivers and cyclists https://t.co/jUULQs6tZh\n",
      "Opened Street or Sidewalk Cleaning request via iphone at 1480 Waller St https://t.co/5n8GRLtl4u. https://t.co/AaKEcIGPnH\n",
      "Level UP with these Vape Carts from Level &amp; Opus Blends. Super clean with a consistent strength.… https://t.co/CJzZu72vkq\n"
     ]
    }
   ],
   "source": [
    "for i in eCigarList:\n",
    "    print(i)"
   ]
  },
  {
   "cell_type": "code",
   "execution_count": 38,
   "metadata": {},
   "outputs": [],
   "source": [
    "# allText.head(50)"
   ]
  },
  {
   "cell_type": "code",
   "execution_count": null,
   "metadata": {},
   "outputs": [],
   "source": []
  }
 ],
 "metadata": {
  "kernelspec": {
   "display_name": "Python 3",
   "language": "python",
   "name": "python3"
  },
  "language_info": {
   "codemirror_mode": {
    "name": "ipython",
    "version": 3
   },
   "file_extension": ".py",
   "mimetype": "text/x-python",
   "name": "python",
   "nbconvert_exporter": "python",
   "pygments_lexer": "ipython3",
   "version": "3.6.5"
  }
 },
 "nbformat": 4,
 "nbformat_minor": 2
}
