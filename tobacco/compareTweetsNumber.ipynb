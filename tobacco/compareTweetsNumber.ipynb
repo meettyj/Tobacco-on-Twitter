{
 "cells": [
  {
   "cell_type": "code",
   "execution_count": 1,
   "metadata": {},
   "outputs": [],
   "source": [
    "import json\n",
    "import pandas as pd\n",
    "\n",
    "import os\n",
    "os.chdir('C:/Users/eddie/Desktop/Prof. Rumi Chunara/alcohol')"
   ]
  },
  {
   "cell_type": "code",
   "execution_count": 3,
   "metadata": {},
   "outputs": [],
   "source": [
    "# return a set of location\n",
    "def getLineNum(fileName):\n",
    "    lineNum = len(open(fileName,'rU').readlines())\n",
    "    return lineNum"
   ]
  },
  {
   "cell_type": "code",
   "execution_count": 5,
   "metadata": {},
   "outputs": [
    {
     "name": "stderr",
     "output_type": "stream",
     "text": [
      "D:\\Anaconda3\\envs\\py36\\lib\\site-packages\\ipykernel_launcher.py:3: DeprecationWarning: 'U' mode is deprecated\n",
      "  This is separate from the ipykernel package so we can avoid doing imports until\n"
     ]
    },
    {
     "name": "stdout",
     "output_type": "stream",
     "text": [
      "6434282\n",
      "Wall time: 4min 3s\n"
     ]
    }
   ],
   "source": [
    "%%time\n",
    "# Iterate the files in the directory you stored the data.\n",
    "jsonFileDirectoryPath = \"C:/Users/eddie/Desktop/Prof. Rumi Chunara/alcohol/data/pullFromTwitter_2017_01\"\n",
    "# jsonFileDirectoryPath = \"C:/Users/eddie/Desktop/Prof. Rumi Chunara/alcohol/data/pullFromTwitter\"\n",
    "jsonFiles= os.listdir(jsonFileDirectoryPath)\n",
    "\n",
    "totalLineNum = 0\n",
    "\n",
    "# print(os.getcwd())\n",
    "os.chdir('C:/Users/eddie/Desktop/Prof. Rumi Chunara/alcohol/data/pullFromTwitter_2017_01')\n",
    "# os.chdir('C:/Users/eddie/Desktop/Prof. Rumi Chunara/alcohol/data/pullFromTwitter')\n",
    "for jsonFile in jsonFiles:\n",
    "    if not os.path.isdir(jsonFile) and os.path.splitext(jsonFile)[-1] == \".json\":\n",
    "        # Iterate the jsonFile to get the hookah related tweets\n",
    "        lineInOneFile = getLineNum(jsonFile)\n",
    "        totalLineNum += lineInOneFile\n",
    "print(totalLineNum)\n",
    "        "
   ]
  },
  {
   "cell_type": "markdown",
   "metadata": {},
   "source": [
    "Now we download the Juliana's data and count the number within May, 2016."
   ]
  },
  {
   "cell_type": "code",
   "execution_count": null,
   "metadata": {},
   "outputs": [],
   "source": [
    "%%time\n",
    "# Iterate the files in the directory you stored the data.\n",
    "Juliana_jsonFileDirectoryPath = \"C:/Users/eddie/Desktop/Prof. Rumi Chunara/alcohol/data/pullFromTwitter_2017_01\"\n",
    "# jsonFileDirectoryPath = \"C:/Users/eddie/Desktop/Prof. Rumi Chunara/alcohol/data/pullFromTwitter\"\n",
    "Juliana_jsonFiles= os.listdir(Juliana_jsonFileDirectoryPath)"
   ]
  }
 ],
 "metadata": {
  "kernelspec": {
   "display_name": "Python 3",
   "language": "python",
   "name": "python3"
  },
  "language_info": {
   "codemirror_mode": {
    "name": "ipython",
    "version": 3
   },
   "file_extension": ".py",
   "mimetype": "text/x-python",
   "name": "python",
   "nbconvert_exporter": "python",
   "pygments_lexer": "ipython3",
   "version": "3.6.5"
  }
 },
 "nbformat": 4,
 "nbformat_minor": 2
}
