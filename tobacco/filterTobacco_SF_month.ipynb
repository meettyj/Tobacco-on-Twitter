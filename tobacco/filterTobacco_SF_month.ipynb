{
 "cells": [
  {
   "cell_type": "code",
   "execution_count": 1,
   "metadata": {},
   "outputs": [],
   "source": [
    "import os\n",
    "import pickle\n",
    "import sklearn\n",
    "import pandas as pd\n",
    "import numpy as np\n",
    "# os.chdir('/Users/dethf/NYU/Spring 2019/Chunara Internship/nyu-twipsy/')"
   ]
  },
  {
   "cell_type": "code",
   "execution_count": 2,
   "metadata": {},
   "outputs": [],
   "source": [
    "clf_tob = pickle.load(open('./tobacco classifiers/classifier1_tobacco.p', 'rb'))"
   ]
  },
  {
   "cell_type": "markdown",
   "metadata": {},
   "source": [
    "Processing data."
   ]
  },
  {
   "cell_type": "code",
   "execution_count": 3,
   "metadata": {},
   "outputs": [],
   "source": [
    "with open('./data/SF_tweets_2017_01.json', 'r') as f:\n",
    "    data = f.readlines()\n",
    "\n",
    "# remove the trailing \"\\n\" from each line\n",
    "data = map(lambda x: x.rstrip(), data)\n",
    "\n",
    "# each element of 'data' is an individual JSON object. I want to convert it into an *array* of JSON objects \n",
    "# which, in and of itself, is one large JSON object basically... add square brackets to the beginning\n",
    "# and end, and have all the individual business JSON objects separated by a comma.\n",
    "data_json_str = \"[\" + ','.join(data) + \"]\"\n",
    "\n",
    "df = pd.read_json(data_json_str)"
   ]
  },
  {
   "cell_type": "code",
   "execution_count": 4,
   "metadata": {},
   "outputs": [
    {
     "data": {
      "text/plain": [
       "Index(['contributors', 'coordinates', 'created_at', 'display_text_range',\n",
       "       'entities', 'extended_entities', 'extended_tweet', 'favorite_count',\n",
       "       'favorited', 'filter_level', 'geo', 'id', 'id_str',\n",
       "       'in_reply_to_screen_name', 'in_reply_to_status_id',\n",
       "       'in_reply_to_status_id_str', 'in_reply_to_user_id',\n",
       "       'in_reply_to_user_id_str', 'is_quote_status', 'lang', 'place',\n",
       "       'possibly_sensitive', 'quoted_status', 'quoted_status_id',\n",
       "       'quoted_status_id_str', 'retweet_count', 'retweeted', 'source', 'text',\n",
       "       'timestamp_ms', 'truncated', 'user'],\n",
       "      dtype='object')"
      ]
     },
     "execution_count": 4,
     "metadata": {},
     "output_type": "execute_result"
    }
   ],
   "source": [
    "df.columns"
   ]
  },
  {
   "cell_type": "code",
   "execution_count": 5,
   "metadata": {},
   "outputs": [
    {
     "data": {
      "text/html": [
       "<div>\n",
       "<style scoped>\n",
       "    .dataframe tbody tr th:only-of-type {\n",
       "        vertical-align: middle;\n",
       "    }\n",
       "\n",
       "    .dataframe tbody tr th {\n",
       "        vertical-align: top;\n",
       "    }\n",
       "\n",
       "    .dataframe thead th {\n",
       "        text-align: right;\n",
       "    }\n",
       "</style>\n",
       "<table border=\"1\" class=\"dataframe\">\n",
       "  <thead>\n",
       "    <tr style=\"text-align: right;\">\n",
       "      <th></th>\n",
       "      <th>contributors</th>\n",
       "      <th>coordinates</th>\n",
       "      <th>created_at</th>\n",
       "      <th>display_text_range</th>\n",
       "      <th>entities</th>\n",
       "      <th>extended_entities</th>\n",
       "      <th>extended_tweet</th>\n",
       "      <th>favorite_count</th>\n",
       "      <th>favorited</th>\n",
       "      <th>filter_level</th>\n",
       "      <th>...</th>\n",
       "      <th>quoted_status</th>\n",
       "      <th>quoted_status_id</th>\n",
       "      <th>quoted_status_id_str</th>\n",
       "      <th>retweet_count</th>\n",
       "      <th>retweeted</th>\n",
       "      <th>source</th>\n",
       "      <th>text</th>\n",
       "      <th>timestamp_ms</th>\n",
       "      <th>truncated</th>\n",
       "      <th>user</th>\n",
       "    </tr>\n",
       "  </thead>\n",
       "  <tbody>\n",
       "    <tr>\n",
       "      <th>0</th>\n",
       "      <td>NaN</td>\n",
       "      <td>{'type': 'Point', 'coordinates': [-122.416533,...</td>\n",
       "      <td>2017-01-04 21:51:34</td>\n",
       "      <td>[0, 111]</td>\n",
       "      <td>{'hashtags': [], 'urls': [{'url': 'https://t.c...</td>\n",
       "      <td>{'media': [{'id': 816764030060621824, 'id_str'...</td>\n",
       "      <td>NaN</td>\n",
       "      <td>0</td>\n",
       "      <td>False</td>\n",
       "      <td>low</td>\n",
       "      <td>...</td>\n",
       "      <td>NaN</td>\n",
       "      <td>NaN</td>\n",
       "      <td>NaN</td>\n",
       "      <td>0</td>\n",
       "      <td>False</td>\n",
       "      <td>&lt;a href=\"http://spotreporters.com\" rel=\"nofoll...</td>\n",
       "      <td>Opened Street or Sidewalk Cleaning request via...</td>\n",
       "      <td>2017-01-04 21:51:34.849</td>\n",
       "      <td>False</td>\n",
       "      <td>{'id': 1589692776, 'id_str': '1589692776', 'na...</td>\n",
       "    </tr>\n",
       "    <tr>\n",
       "      <th>1</th>\n",
       "      <td>NaN</td>\n",
       "      <td>{'type': 'Point', 'coordinates': [-122.433851,...</td>\n",
       "      <td>2017-01-12 21:34:11</td>\n",
       "      <td>NaN</td>\n",
       "      <td>{'hashtags': [], 'urls': [{'url': 'https://t.c...</td>\n",
       "      <td>NaN</td>\n",
       "      <td>NaN</td>\n",
       "      <td>0</td>\n",
       "      <td>False</td>\n",
       "      <td>low</td>\n",
       "      <td>...</td>\n",
       "      <td>NaN</td>\n",
       "      <td>NaN</td>\n",
       "      <td>NaN</td>\n",
       "      <td>0</td>\n",
       "      <td>False</td>\n",
       "      <td>&lt;a href=\"http://spotreporters.com\" rel=\"nofoll...</td>\n",
       "      <td>Opened Street or Sidewalk Cleaning request via...</td>\n",
       "      <td>2017-01-12 21:34:11.692</td>\n",
       "      <td>False</td>\n",
       "      <td>{'id': 1589692776, 'id_str': '1589692776', 'na...</td>\n",
       "    </tr>\n",
       "    <tr>\n",
       "      <th>2</th>\n",
       "      <td>NaN</td>\n",
       "      <td>{'type': 'Point', 'coordinates': [-122.514, 37...</td>\n",
       "      <td>2017-01-17 23:23:49</td>\n",
       "      <td>NaN</td>\n",
       "      <td>{'hashtags': [], 'urls': [{'url': 'https://t.c...</td>\n",
       "      <td>NaN</td>\n",
       "      <td>NaN</td>\n",
       "      <td>0</td>\n",
       "      <td>False</td>\n",
       "      <td>low</td>\n",
       "      <td>...</td>\n",
       "      <td>NaN</td>\n",
       "      <td>NaN</td>\n",
       "      <td>NaN</td>\n",
       "      <td>0</td>\n",
       "      <td>False</td>\n",
       "      <td>&lt;a href=\"http://instagram.com\" rel=\"nofollow\"&gt;...</td>\n",
       "      <td>Just posted a photo @ Cliff House, San Francis...</td>\n",
       "      <td>2017-01-17 23:23:49.139</td>\n",
       "      <td>False</td>\n",
       "      <td>{'id': 883339848, 'id_str': '883339848', 'name...</td>\n",
       "    </tr>\n",
       "  </tbody>\n",
       "</table>\n",
       "<p>3 rows × 32 columns</p>\n",
       "</div>"
      ],
      "text/plain": [
       "   contributors                                        coordinates  \\\n",
       "0           NaN  {'type': 'Point', 'coordinates': [-122.416533,...   \n",
       "1           NaN  {'type': 'Point', 'coordinates': [-122.433851,...   \n",
       "2           NaN  {'type': 'Point', 'coordinates': [-122.514, 37...   \n",
       "\n",
       "           created_at display_text_range  \\\n",
       "0 2017-01-04 21:51:34           [0, 111]   \n",
       "1 2017-01-12 21:34:11                NaN   \n",
       "2 2017-01-17 23:23:49                NaN   \n",
       "\n",
       "                                            entities  \\\n",
       "0  {'hashtags': [], 'urls': [{'url': 'https://t.c...   \n",
       "1  {'hashtags': [], 'urls': [{'url': 'https://t.c...   \n",
       "2  {'hashtags': [], 'urls': [{'url': 'https://t.c...   \n",
       "\n",
       "                                   extended_entities extended_tweet  \\\n",
       "0  {'media': [{'id': 816764030060621824, 'id_str'...            NaN   \n",
       "1                                                NaN            NaN   \n",
       "2                                                NaN            NaN   \n",
       "\n",
       "   favorite_count  favorited filter_level  \\\n",
       "0               0      False          low   \n",
       "1               0      False          low   \n",
       "2               0      False          low   \n",
       "\n",
       "                         ...                         quoted_status  \\\n",
       "0                        ...                                   NaN   \n",
       "1                        ...                                   NaN   \n",
       "2                        ...                                   NaN   \n",
       "\n",
       "   quoted_status_id  quoted_status_id_str retweet_count  retweeted  \\\n",
       "0               NaN                   NaN             0      False   \n",
       "1               NaN                   NaN             0      False   \n",
       "2               NaN                   NaN             0      False   \n",
       "\n",
       "                                              source  \\\n",
       "0  <a href=\"http://spotreporters.com\" rel=\"nofoll...   \n",
       "1  <a href=\"http://spotreporters.com\" rel=\"nofoll...   \n",
       "2  <a href=\"http://instagram.com\" rel=\"nofollow\">...   \n",
       "\n",
       "                                                text            timestamp_ms  \\\n",
       "0  Opened Street or Sidewalk Cleaning request via... 2017-01-04 21:51:34.849   \n",
       "1  Opened Street or Sidewalk Cleaning request via... 2017-01-12 21:34:11.692   \n",
       "2  Just posted a photo @ Cliff House, San Francis... 2017-01-17 23:23:49.139   \n",
       "\n",
       "   truncated                                               user  \n",
       "0      False  {'id': 1589692776, 'id_str': '1589692776', 'na...  \n",
       "1      False  {'id': 1589692776, 'id_str': '1589692776', 'na...  \n",
       "2      False  {'id': 883339848, 'id_str': '883339848', 'name...  \n",
       "\n",
       "[3 rows x 32 columns]"
      ]
     },
     "execution_count": 5,
     "metadata": {},
     "output_type": "execute_result"
    }
   ],
   "source": [
    "df.head(3)"
   ]
  },
  {
   "cell_type": "code",
   "execution_count": 6,
   "metadata": {},
   "outputs": [
    {
     "name": "stdout",
     "output_type": "stream",
     "text": [
      "87764\n"
     ]
    }
   ],
   "source": [
    "print(len(df))"
   ]
  },
  {
   "cell_type": "code",
   "execution_count": 7,
   "metadata": {},
   "outputs": [
    {
     "data": {
      "text/plain": [
       "0    Opened Street or Sidewalk Cleaning request via...\n",
       "1    Opened Street or Sidewalk Cleaning request via...\n",
       "2    Just posted a photo @ Cliff House, San Francis...\n",
       "3    Search for bank robbery suspect shuts down Hig...\n",
       "4    Opened Graffiti request via android at 4134 Mi...\n",
       "5    Opened Street or Sidewalk Cleaning request via...\n",
       "6    Closed Graffiti request at Intersection of Bra...\n",
       "7    William Rhodes's work call for Beauty @ Root D...\n",
       "8     #DarkestPossibleTimeline https://t.co/AglO5D5hNx\n",
       "9    Opened Street or Sidewalk Cleaning request via...\n",
       "Name: text, dtype: object"
      ]
     },
     "execution_count": 7,
     "metadata": {},
     "output_type": "execute_result"
    }
   ],
   "source": [
    "df.text[:10]"
   ]
  },
  {
   "cell_type": "code",
   "execution_count": 112,
   "metadata": {},
   "outputs": [],
   "source": [
    "df_text = df[['text']] # instead of df.text, which will only return Series object."
   ]
  },
  {
   "cell_type": "code",
   "execution_count": 9,
   "metadata": {},
   "outputs": [
    {
     "data": {
      "text/html": [
       "<div>\n",
       "<style scoped>\n",
       "    .dataframe tbody tr th:only-of-type {\n",
       "        vertical-align: middle;\n",
       "    }\n",
       "\n",
       "    .dataframe tbody tr th {\n",
       "        vertical-align: top;\n",
       "    }\n",
       "\n",
       "    .dataframe thead th {\n",
       "        text-align: right;\n",
       "    }\n",
       "</style>\n",
       "<table border=\"1\" class=\"dataframe\">\n",
       "  <thead>\n",
       "    <tr style=\"text-align: right;\">\n",
       "      <th></th>\n",
       "      <th>text</th>\n",
       "    </tr>\n",
       "  </thead>\n",
       "  <tbody>\n",
       "    <tr>\n",
       "      <th>0</th>\n",
       "      <td>Opened Street or Sidewalk Cleaning request via...</td>\n",
       "    </tr>\n",
       "    <tr>\n",
       "      <th>1</th>\n",
       "      <td>Opened Street or Sidewalk Cleaning request via...</td>\n",
       "    </tr>\n",
       "    <tr>\n",
       "      <th>2</th>\n",
       "      <td>Just posted a photo @ Cliff House, San Francis...</td>\n",
       "    </tr>\n",
       "    <tr>\n",
       "      <th>3</th>\n",
       "      <td>Search for bank robbery suspect shuts down Hig...</td>\n",
       "    </tr>\n",
       "    <tr>\n",
       "      <th>4</th>\n",
       "      <td>Opened Graffiti request via android at 4134 Mi...</td>\n",
       "    </tr>\n",
       "    <tr>\n",
       "      <th>5</th>\n",
       "      <td>Opened Street or Sidewalk Cleaning request via...</td>\n",
       "    </tr>\n",
       "    <tr>\n",
       "      <th>6</th>\n",
       "      <td>Closed Graffiti request at Intersection of Bra...</td>\n",
       "    </tr>\n",
       "    <tr>\n",
       "      <th>7</th>\n",
       "      <td>William Rhodes's work call for Beauty @ Root D...</td>\n",
       "    </tr>\n",
       "    <tr>\n",
       "      <th>8</th>\n",
       "      <td>#DarkestPossibleTimeline https://t.co/AglO5D5hNx</td>\n",
       "    </tr>\n",
       "    <tr>\n",
       "      <th>9</th>\n",
       "      <td>Opened Street or Sidewalk Cleaning request via...</td>\n",
       "    </tr>\n",
       "    <tr>\n",
       "      <th>10</th>\n",
       "      <td>Can you recommend anyone for this #job? Retail...</td>\n",
       "    </tr>\n",
       "    <tr>\n",
       "      <th>11</th>\n",
       "      <td>We're #hiring! Click to apply: Expanding SF Re...</td>\n",
       "    </tr>\n",
       "    <tr>\n",
       "      <th>12</th>\n",
       "      <td>I'm at @Benihana in San Francisco, CA w/ @drew...</td>\n",
       "    </tr>\n",
       "    <tr>\n",
       "      <th>13</th>\n",
       "      <td>I'm at Lafayette Park in San Francisco, CA htt...</td>\n",
       "    </tr>\n",
       "    <tr>\n",
       "      <th>14</th>\n",
       "      <td>hannemurphy loves me. 😍 @ Nopasf https://t.co/...</td>\n",
       "    </tr>\n",
       "    <tr>\n",
       "      <th>15</th>\n",
       "      <td>Opened Homeless Concerns request via android a...</td>\n",
       "    </tr>\n",
       "    <tr>\n",
       "      <th>16</th>\n",
       "      <td>Want to work at Kindred Healthcare? We're #hir...</td>\n",
       "    </tr>\n",
       "    <tr>\n",
       "      <th>17</th>\n",
       "      <td>We're #hiring! Click to apply: Account Managem...</td>\n",
       "    </tr>\n",
       "    <tr>\n",
       "      <th>18</th>\n",
       "      <td>TEST_LAT/LON: bfb6a97f-2e49-45f7-82e3-83a40fd6...</td>\n",
       "    </tr>\n",
       "    <tr>\n",
       "      <th>19</th>\n",
       "      <td>新年快乐! Our cravings for #dumplings &amp;amp; #dimsu...</td>\n",
       "    </tr>\n",
       "  </tbody>\n",
       "</table>\n",
       "</div>"
      ],
      "text/plain": [
       "                                                 text\n",
       "0   Opened Street or Sidewalk Cleaning request via...\n",
       "1   Opened Street or Sidewalk Cleaning request via...\n",
       "2   Just posted a photo @ Cliff House, San Francis...\n",
       "3   Search for bank robbery suspect shuts down Hig...\n",
       "4   Opened Graffiti request via android at 4134 Mi...\n",
       "5   Opened Street or Sidewalk Cleaning request via...\n",
       "6   Closed Graffiti request at Intersection of Bra...\n",
       "7   William Rhodes's work call for Beauty @ Root D...\n",
       "8    #DarkestPossibleTimeline https://t.co/AglO5D5hNx\n",
       "9   Opened Street or Sidewalk Cleaning request via...\n",
       "10  Can you recommend anyone for this #job? Retail...\n",
       "11  We're #hiring! Click to apply: Expanding SF Re...\n",
       "12  I'm at @Benihana in San Francisco, CA w/ @drew...\n",
       "13  I'm at Lafayette Park in San Francisco, CA htt...\n",
       "14  hannemurphy loves me. 😍 @ Nopasf https://t.co/...\n",
       "15  Opened Homeless Concerns request via android a...\n",
       "16  Want to work at Kindred Healthcare? We're #hir...\n",
       "17  We're #hiring! Click to apply: Account Managem...\n",
       "18  TEST_LAT/LON: bfb6a97f-2e49-45f7-82e3-83a40fd6...\n",
       "19  新年快乐! Our cravings for #dumplings &amp; #dimsu..."
      ]
     },
     "execution_count": 9,
     "metadata": {},
     "output_type": "execute_result"
    }
   ],
   "source": [
    "df_text.head(20)"
   ]
  },
  {
   "cell_type": "markdown",
   "metadata": {},
   "source": [
    "Now feed the data into classifier to filter out those tobacco tweets."
   ]
  },
  {
   "cell_type": "code",
   "execution_count": 10,
   "metadata": {},
   "outputs": [
    {
     "name": "stderr",
     "output_type": "stream",
     "text": [
      "D:\\Anaconda3\\envs\\py36\\lib\\site-packages\\sklearn\\feature_extraction\\text.py:1015: FutureWarning: Conversion of the second argument of issubdtype from `float` to `np.floating` is deprecated. In future, it will be treated as `np.float64 == np.dtype(float).type`.\n",
      "  if hasattr(X, 'dtype') and np.issubdtype(X.dtype, np.float):\n"
     ]
    }
   ],
   "source": [
    "# running the classifier\n",
    "tob_preds = clf_tob.predict(df_text)"
   ]
  },
  {
   "cell_type": "code",
   "execution_count": 11,
   "metadata": {},
   "outputs": [
    {
     "data": {
      "text/plain": [
       "87764"
      ]
     },
     "execution_count": 11,
     "metadata": {},
     "output_type": "execute_result"
    }
   ],
   "source": [
    "len(tob_preds)"
   ]
  },
  {
   "cell_type": "code",
   "execution_count": 12,
   "metadata": {},
   "outputs": [
    {
     "data": {
      "text/plain": [
       "array(['NOT-Tobacco', 'Tobacco', 'NOT-Tobacco', ..., 'NOT-Tobacco',\n",
       "       'NOT-Tobacco', 'NOT-Tobacco'], dtype='<U11')"
      ]
     },
     "execution_count": 12,
     "metadata": {},
     "output_type": "execute_result"
    }
   ],
   "source": [
    "type(list(tob_preds))\n",
    "tob_preds"
   ]
  },
  {
   "cell_type": "code",
   "execution_count": 14,
   "metadata": {},
   "outputs": [
    {
     "name": "stdout",
     "output_type": "stream",
     "text": [
      "NOT-Tobacco: 86492 Tobacco: 1272\n"
     ]
    }
   ],
   "source": [
    "# finding out how many tweets there were in each group\n",
    "# numpy.unique(tob_preds, return_counts=True)\n",
    "print(\"NOT-Tobacco:\", np.unique(tob_preds, return_counts=True)[1][0],\n",
    "      \"Tobacco:\",np.unique(tob_preds, return_counts=True)[1][1])"
   ]
  },
  {
   "cell_type": "code",
   "execution_count": 15,
   "metadata": {},
   "outputs": [
    {
     "data": {
      "text/plain": [
       "1272"
      ]
     },
     "execution_count": 15,
     "metadata": {},
     "output_type": "execute_result"
    }
   ],
   "source": [
    "indexTobacco = np.where(tob_preds == 'Tobacco')\n",
    "indexTobacco = indexTobacco[0].tolist()\n",
    "len(indexTobacco)\n",
    "# indexTobacco"
   ]
  },
  {
   "cell_type": "code",
   "execution_count": 16,
   "metadata": {},
   "outputs": [],
   "source": [
    "# Double checked the index from tob_preds is correct.\n",
    "# for i in indexTobacco:\n",
    "#     print(tob_preds[i])"
   ]
  },
  {
   "cell_type": "code",
   "execution_count": 17,
   "metadata": {},
   "outputs": [
    {
     "data": {
      "text/plain": [
       "array(['NOT-Tobacco', 'Tobacco', 'NOT-Tobacco', 'NOT-Tobacco',\n",
       "       'NOT-Tobacco', 'NOT-Tobacco', 'NOT-Tobacco', 'NOT-Tobacco',\n",
       "       'NOT-Tobacco', 'Tobacco', 'NOT-Tobacco', 'NOT-Tobacco',\n",
       "       'NOT-Tobacco', 'NOT-Tobacco', 'NOT-Tobacco', 'NOT-Tobacco',\n",
       "       'NOT-Tobacco', 'NOT-Tobacco', 'NOT-Tobacco', 'NOT-Tobacco'],\n",
       "      dtype='<U11')"
      ]
     },
     "execution_count": 17,
     "metadata": {},
     "output_type": "execute_result"
    }
   ],
   "source": [
    "tob_preds[:20]"
   ]
  },
  {
   "cell_type": "code",
   "execution_count": 18,
   "metadata": {},
   "outputs": [],
   "source": [
    "dfTobacco = df.iloc[indexTobacco,]"
   ]
  },
  {
   "cell_type": "code",
   "execution_count": 19,
   "metadata": {},
   "outputs": [
    {
     "data": {
      "text/html": [
       "<div>\n",
       "<style scoped>\n",
       "    .dataframe tbody tr th:only-of-type {\n",
       "        vertical-align: middle;\n",
       "    }\n",
       "\n",
       "    .dataframe tbody tr th {\n",
       "        vertical-align: top;\n",
       "    }\n",
       "\n",
       "    .dataframe thead th {\n",
       "        text-align: right;\n",
       "    }\n",
       "</style>\n",
       "<table border=\"1\" class=\"dataframe\">\n",
       "  <thead>\n",
       "    <tr style=\"text-align: right;\">\n",
       "      <th></th>\n",
       "      <th>contributors</th>\n",
       "      <th>coordinates</th>\n",
       "      <th>created_at</th>\n",
       "      <th>display_text_range</th>\n",
       "      <th>entities</th>\n",
       "      <th>extended_entities</th>\n",
       "      <th>extended_tweet</th>\n",
       "      <th>favorite_count</th>\n",
       "      <th>favorited</th>\n",
       "      <th>filter_level</th>\n",
       "      <th>...</th>\n",
       "      <th>quoted_status</th>\n",
       "      <th>quoted_status_id</th>\n",
       "      <th>quoted_status_id_str</th>\n",
       "      <th>retweet_count</th>\n",
       "      <th>retweeted</th>\n",
       "      <th>source</th>\n",
       "      <th>text</th>\n",
       "      <th>timestamp_ms</th>\n",
       "      <th>truncated</th>\n",
       "      <th>user</th>\n",
       "    </tr>\n",
       "  </thead>\n",
       "  <tbody>\n",
       "    <tr>\n",
       "      <th>1</th>\n",
       "      <td>NaN</td>\n",
       "      <td>{'type': 'Point', 'coordinates': [-122.433851,...</td>\n",
       "      <td>2017-01-12 21:34:11</td>\n",
       "      <td>NaN</td>\n",
       "      <td>{'hashtags': [], 'urls': [{'url': 'https://t.c...</td>\n",
       "      <td>NaN</td>\n",
       "      <td>NaN</td>\n",
       "      <td>0</td>\n",
       "      <td>False</td>\n",
       "      <td>low</td>\n",
       "      <td>...</td>\n",
       "      <td>NaN</td>\n",
       "      <td>NaN</td>\n",
       "      <td>NaN</td>\n",
       "      <td>0</td>\n",
       "      <td>False</td>\n",
       "      <td>&lt;a href=\"http://spotreporters.com\" rel=\"nofoll...</td>\n",
       "      <td>Opened Street or Sidewalk Cleaning request via...</td>\n",
       "      <td>2017-01-12 21:34:11.692</td>\n",
       "      <td>False</td>\n",
       "      <td>{'id': 1589692776, 'id_str': '1589692776', 'na...</td>\n",
       "    </tr>\n",
       "    <tr>\n",
       "      <th>9</th>\n",
       "      <td>NaN</td>\n",
       "      <td>{'type': 'Point', 'coordinates': [-122.405413,...</td>\n",
       "      <td>2017-01-18 20:13:38</td>\n",
       "      <td>[0, 140]</td>\n",
       "      <td>{'hashtags': [], 'urls': [{'url': 'https://t.c...</td>\n",
       "      <td>NaN</td>\n",
       "      <td>{'full_text': 'Opened Street or Sidewalk Clean...</td>\n",
       "      <td>0</td>\n",
       "      <td>False</td>\n",
       "      <td>low</td>\n",
       "      <td>...</td>\n",
       "      <td>NaN</td>\n",
       "      <td>NaN</td>\n",
       "      <td>NaN</td>\n",
       "      <td>0</td>\n",
       "      <td>False</td>\n",
       "      <td>&lt;a href=\"http://spotreporters.com\" rel=\"nofoll...</td>\n",
       "      <td>Opened Street or Sidewalk Cleaning request via...</td>\n",
       "      <td>2017-01-18 20:13:38.842</td>\n",
       "      <td>True</td>\n",
       "      <td>{'id': 1589692776, 'id_str': '1589692776', 'na...</td>\n",
       "    </tr>\n",
       "    <tr>\n",
       "      <th>78</th>\n",
       "      <td>NaN</td>\n",
       "      <td>{'type': 'Point', 'coordinates': [-122.405531,...</td>\n",
       "      <td>2017-01-09 18:05:21</td>\n",
       "      <td>[0, 140]</td>\n",
       "      <td>{'hashtags': [], 'urls': [{'url': 'https://t.c...</td>\n",
       "      <td>NaN</td>\n",
       "      <td>{'full_text': 'Opened Street or Sidewalk Clean...</td>\n",
       "      <td>0</td>\n",
       "      <td>False</td>\n",
       "      <td>low</td>\n",
       "      <td>...</td>\n",
       "      <td>NaN</td>\n",
       "      <td>NaN</td>\n",
       "      <td>NaN</td>\n",
       "      <td>0</td>\n",
       "      <td>False</td>\n",
       "      <td>&lt;a href=\"http://spotreporters.com\" rel=\"nofoll...</td>\n",
       "      <td>Opened Street or Sidewalk Cleaning request via...</td>\n",
       "      <td>2017-01-09 18:05:21.031</td>\n",
       "      <td>True</td>\n",
       "      <td>{'id': 1589692776, 'id_str': '1589692776', 'na...</td>\n",
       "    </tr>\n",
       "  </tbody>\n",
       "</table>\n",
       "<p>3 rows × 32 columns</p>\n",
       "</div>"
      ],
      "text/plain": [
       "    contributors                                        coordinates  \\\n",
       "1            NaN  {'type': 'Point', 'coordinates': [-122.433851,...   \n",
       "9            NaN  {'type': 'Point', 'coordinates': [-122.405413,...   \n",
       "78           NaN  {'type': 'Point', 'coordinates': [-122.405531,...   \n",
       "\n",
       "            created_at display_text_range  \\\n",
       "1  2017-01-12 21:34:11                NaN   \n",
       "9  2017-01-18 20:13:38           [0, 140]   \n",
       "78 2017-01-09 18:05:21           [0, 140]   \n",
       "\n",
       "                                             entities extended_entities  \\\n",
       "1   {'hashtags': [], 'urls': [{'url': 'https://t.c...               NaN   \n",
       "9   {'hashtags': [], 'urls': [{'url': 'https://t.c...               NaN   \n",
       "78  {'hashtags': [], 'urls': [{'url': 'https://t.c...               NaN   \n",
       "\n",
       "                                       extended_tweet  favorite_count  \\\n",
       "1                                                 NaN               0   \n",
       "9   {'full_text': 'Opened Street or Sidewalk Clean...               0   \n",
       "78  {'full_text': 'Opened Street or Sidewalk Clean...               0   \n",
       "\n",
       "    favorited filter_level                        ...                          \\\n",
       "1       False          low                        ...                           \n",
       "9       False          low                        ...                           \n",
       "78      False          low                        ...                           \n",
       "\n",
       "   quoted_status  quoted_status_id  quoted_status_id_str retweet_count  \\\n",
       "1            NaN               NaN                   NaN             0   \n",
       "9            NaN               NaN                   NaN             0   \n",
       "78           NaN               NaN                   NaN             0   \n",
       "\n",
       "    retweeted                                             source  \\\n",
       "1       False  <a href=\"http://spotreporters.com\" rel=\"nofoll...   \n",
       "9       False  <a href=\"http://spotreporters.com\" rel=\"nofoll...   \n",
       "78      False  <a href=\"http://spotreporters.com\" rel=\"nofoll...   \n",
       "\n",
       "                                                 text            timestamp_ms  \\\n",
       "1   Opened Street or Sidewalk Cleaning request via... 2017-01-12 21:34:11.692   \n",
       "9   Opened Street or Sidewalk Cleaning request via... 2017-01-18 20:13:38.842   \n",
       "78  Opened Street or Sidewalk Cleaning request via... 2017-01-09 18:05:21.031   \n",
       "\n",
       "    truncated                                               user  \n",
       "1       False  {'id': 1589692776, 'id_str': '1589692776', 'na...  \n",
       "9        True  {'id': 1589692776, 'id_str': '1589692776', 'na...  \n",
       "78       True  {'id': 1589692776, 'id_str': '1589692776', 'na...  \n",
       "\n",
       "[3 rows x 32 columns]"
      ]
     },
     "execution_count": 19,
     "metadata": {},
     "output_type": "execute_result"
    }
   ],
   "source": [
    "dfTobacco.head(3)"
   ]
  },
  {
   "cell_type": "code",
   "execution_count": 124,
   "metadata": {},
   "outputs": [
    {
     "name": "stdout",
     "output_type": "stream",
     "text": [
      "Opened Street or Sidewalk Cleaning request via android at 969 Fell St https://t.co/8H4KRcGjzt. Mattress.\n",
      "Opened Street or Sidewalk Cleaning request via android at Intersection of Pine St &amp; Quincy St… https://t.co/EyXllNNLgK\n",
      "Opened Street or Sidewalk Cleaning request via android at 746 Commercial St https://t.co/boz0KEC2Lt. Actual outside… https://t.co/6spgW7T2cu\n",
      "Opened Street or Sidewalk Cleaning request via iphone at 465 Natoma St https://t.co/4Xax9TTefE. Broken, dumped toil… https://t.co/ibakwPqM4b\n",
      "Opened Street or Sidewalk Cleaning request via iphone at Intersection of Gough St &amp; Mccoppin St… https://t.co/nnT4XgqHv9\n",
      "Opened Street or Sidewalk Cleaning request via android at Intersection of Sycamore St &amp; Valencia St… https://t.co/uQTHRkozb7\n",
      "Opened Street or Sidewalk Cleaning request via web at 666 Ellis St Tenderloin https://t.co/JQRwD9aRMX. Feces on the sidewalk.\n",
      "Coffee and dessert. @ Nespresso Boutique &amp; Bar https://t.co/NaIAyV0VG0\n",
      "Opened Street or Sidewalk Cleaning request via android at 1191 Quesada Ave https://t.co/r5pf76vIg7. https://t.co/mJgTpMMauL\n",
      "Opened Street or Sidewalk Cleaning request via android at 152 Langton St https://t.co/CrGNPcDujS. Carpet boxes and… https://t.co/c26cuNtt9k\n",
      "Opened Street or Sidewalk Cleaning request via iphone at 7777 Geary Blvd https://t.co/KiefBBeW09. Sweep and clean at bus stop.\n",
      "Opened Street or Sidewalk Cleaning request via android at 1655 Hyde St https://t.co/SUmCeLdVMy. https://t.co/MvfprvXvrG\n",
      "Opened Street or Sidewalk Cleaning request via android at 1551 Oakdale Ave https://t.co/BeSgC46zQE. https://t.co/9zTqyLutlo\n",
      "Opened Street or Sidewalk Cleaning request via android at Intersection of Brannan St &amp; Dore St… https://t.co/GgAyWO7iqi\n",
      "Opened Street or Sidewalk Cleaning request via android at 5248 Mission St https://t.co/CqRXK55Oae. At 5243 mission… https://t.co/L7Lnx2xNgd\n",
      "Opened Street or Sidewalk Cleaning request via android at 1100 Powell St https://t.co/u1F8PDmzWN. Washington and po… https://t.co/EJoSRdq3tI\n",
      "Opened Street or Sidewalk Cleaning request via android at 82 Carr St https://t.co/RgfzJurqE4. https://t.co/foCjSG5Iez\n",
      "Opened Street or Sidewalk Cleaning request via android at Intersection of Steiner St &amp; Sutter St https://t.co/uP5W7vD0Hd. Boxes.\n",
      "Opened Street or Sidewalk Cleaning request via android at 532 Natoma St https://t.co/EJt6O6Hgnu. Syringes. https://t.co/zH0WCLXops\n",
      "Opened Street or Sidewalk Cleaning request via android at 901 Powell St https://t.co/qRwCeTpRPS. Powell and sacrame… https://t.co/iQHcBd2f9G\n",
      "Opened Street or Sidewalk Cleaning request via android at Intersection of London St &amp; Russia Ave… https://t.co/Fyd07u3Bi6\n",
      "Opened Street or Sidewalk Cleaning request via android at 1241 Stockton St https://t.co/XkJR0HRxz4. Stark and stock… https://t.co/8nHaBAueku\n",
      "Opened Street or Sidewalk Cleaning request via android at 2591 22nd St https://t.co/KPxaUc2Eqf. https://t.co/HpiISqVpZ1\n",
      "Opened Street or Sidewalk Cleaning request via android at Intersection of 24th St &amp; Utah St https://t.co/ItJQEAFsyL… https://t.co/FWm7dIsM0H\n",
      "Opened Street or Sidewalk Cleaning request via android at 50 14th St https://t.co/Q1yCJcUUVo. Garbage. https://t.co/MkrVIeILbq\n",
      "#ChoppinGame! New year, adding new methods! @ Cigar Bar &amp; Grill https://t.co/fNE5L5rxF2\n",
      "Opened Street or Sidewalk Cleaning request via android at Intersection of Mission St &amp; Niagara Ave… https://t.co/bdIrs0W7hZ\n",
      "Opened Street or Sidewalk Cleaning request via android at Intersection of Geneva Ave &amp; Prague St… https://t.co/M0CXzu6kOs\n",
      "Opened Street or Sidewalk Cleaning request via android at 1722 Newcomb Ave https://t.co/vLm5iYf7oV. https://t.co/edpQJw2uf3\n",
      "Opened Street or Sidewalk Cleaning request via android at Intersection of Mission St &amp; Rolph St… https://t.co/xHQjdSHyy1\n"
     ]
    }
   ],
   "source": [
    "# dfTobacco.text[:30]\n",
    "for i in dfTobacco.text[:30]:\n",
    "    print(i)"
   ]
  },
  {
   "cell_type": "markdown",
   "metadata": {},
   "source": [
    "It's so weird that all classified tobacco related tweets have nothing to do with tobacco. Then we print all the tweets data below to see if all tweets data contains location like above."
   ]
  },
  {
   "cell_type": "code",
   "execution_count": 125,
   "metadata": {},
   "outputs": [
    {
     "name": "stdout",
     "output_type": "stream",
     "text": [
      "Opened Street or Sidewalk Cleaning request via android at 3154 17th St https://t.co/nR9l9sWgkf. Piles of trash. https://t.co/rYeD6jSgnr\n",
      "Opened Street or Sidewalk Cleaning request via android at 969 Fell St https://t.co/8H4KRcGjzt. Mattress.\n",
      "Just posted a photo @ Cliff House, San Francisco https://t.co/uDQtPy4zjV\n",
      "Search for bank robbery suspect shuts down Highway 17 in Santa Cruz Mountains https://t.co/XpiXx9LuQL\n",
      "Opened Graffiti request via android at 4134 Mission St https://t.co/yyGs3jGWNO. Graffiti on bus shelter window. https://t.co/viVrR2EPpC\n",
      "Opened Street or Sidewalk Cleaning request via iphone at 743 Broderick St https://t.co/CnBkw883DR. https://t.co/ZxN5Cv0dJh\n",
      "Closed Graffiti request at Intersection of Brady St &amp; Colton St https://t.co/QkCOYoY4XU. Case closed. case resolved. https://t.co/RDAiwH04QN\n",
      "William Rhodes's work call for Beauty @ Root Division https://t.co/mbHmkqtE1g\n",
      "#DarkestPossibleTimeline https://t.co/AglO5D5hNx\n",
      "Opened Street or Sidewalk Cleaning request via android at Intersection of Pine St &amp; Quincy St… https://t.co/EyXllNNLgK\n",
      "Can you recommend anyone for this #job? Retail Associate - Palace - https://t.co/3kmJXUTyzQ #Retail #SanFrancisco, CA #Hiring #CareerArc\n",
      "We're #hiring! Click to apply: Expanding SF Retail Firm Seeking Junior Accountant - https://t.co/7bOsjbYFdi #Accountemps #SanFrancisco, CA\n",
      "I'm at @Benihana in San Francisco, CA w/ @drewg https://t.co/1hkAMjfRLi\n",
      "I'm at Lafayette Park in San Francisco, CA https://t.co/4id9umSPmN\n",
      "hannemurphy loves me. 😍 @ Nopasf https://t.co/9JCvy7tijB\n",
      "Opened Homeless Concerns request via android at 3803 18th St https://t.co/FAQsPN8mdo. Location: dolores park west pathway near 18&amp;church.\n",
      "Want to work at Kindred Healthcare? We're #hiring in #SanFrancisco, CA! Click for details: https://t.co/W6tKPUxkMP #Job #Healthcare #Jobs\n",
      "We're #hiring! Click to apply: Account Management Associate - SF - https://t.co/eOKONOzKOR #UMich #BusinessMgmt… https://t.co/proHr4DdyG\n",
      "TEST_LAT/LON: bfb6a97f-2e49-45f7-82e3-83a40fd6083f\n",
      "新年快乐! Our cravings for #dumplings &amp; #dimsum, &amp; #bakery #chinesenewyear #chinatown #sanfrancisco… https://t.co/dHOEowRB9v\n",
      "TEST_LAT/LON: 49472c2f-feaf-4b30-98d4-c78e38d78438\n",
      "Want to work in #SanFrancisco, CA? View our latest opening: https://t.co/566SQJnRsE #Job #Retail #Jobs #Hiring #CareerArc\n",
      "California Dreamin' 🌤 Perfect day for a #bobarun. \n",
      "📸: schwemi @ Boba Guys Fillmore https://t.co/b4mSTdXT0p\n",
      "cate, and tim, and me @ The Chapel https://t.co/KLAIh4EgaK\n",
      "See our latest #SanFrancisco, CA #job and click to apply: Store Counter Sales - https://t.co/QCaNiZcMA4 #Sales #Hiring #CareerArc\n",
      "City hall lit up pink for the #womensmarch in #sanfrancisco. Thousands and thousands of friends… https://t.co/JFtnVSIwMb\n",
      "Bringing @riipbeer up to the Bay Area one brewpub at a time. The world needs to know what these… https://t.co/WLBe3D1qkT\n",
      "This #job might be a great fit for you: Executive Compensation Program Manager - https://t.co/R3K3xyCzSh #HR #SanFrancisco, CA #Hiring\n",
      "TEST_LAT/LON: 7d862281-3f87-403b-8f54-cd13d68efb50\n",
      "TEST_LAT/LON: cb513473-83d0-4457-ab06-66eda6365e6b\n"
     ]
    }
   ],
   "source": [
    "for i in df.text[:30]:\n",
    "    print(i)"
   ]
  },
  {
   "cell_type": "markdown",
   "metadata": {},
   "source": [
    "The answer is not. Then we trying to print the features and the related coefficients to see what features matters."
   ]
  },
  {
   "cell_type": "code",
   "execution_count": 22,
   "metadata": {},
   "outputs": [
    {
     "data": {
      "text/plain": [
       "[('getter', ItemGetter(key='text')),\n",
       " ('tfidf',\n",
       "  TfidfVectorizer(analyzer='word', binary=False, decode_error='strict',\n",
       "          dtype=<class 'numpy.int64'>, encoding='utf-8', input='content',\n",
       "          lowercase=True, max_df=1.0, max_features=200000, min_df=1,\n",
       "          ngram_range=(1, 3), norm='l2', preprocessor=None, smooth_idf=True,\n",
       "          stop_words=None, strip_accents=None, sublinear_tf=False,\n",
       "          token_pattern='(?u)\\\\b\\\\w\\\\w+\\\\b',\n",
       "          tokenizer=<function tokenize at 0x00000205FCCFB620>, use_idf=True,\n",
       "          vocabulary=None)),\n",
       " ('clf',\n",
       "  LogisticRegression(C=139.67415702201885, class_weight=None, dual=False,\n",
       "            fit_intercept=True, intercept_scaling=1, max_iter=100,\n",
       "            multi_class='ovr', n_jobs=-1, penalty='l2', random_state=None,\n",
       "            solver='liblinear', tol=0.000449897709599141, verbose=0,\n",
       "            warm_start=None))]"
      ]
     },
     "execution_count": 22,
     "metadata": {},
     "output_type": "execute_result"
    }
   ],
   "source": [
    "clf_tob.steps"
   ]
  },
  {
   "cell_type": "code",
   "execution_count": 23,
   "metadata": {},
   "outputs": [],
   "source": [
    "LR_tob = clf_tob.steps[2][1]"
   ]
  },
  {
   "cell_type": "code",
   "execution_count": 24,
   "metadata": {},
   "outputs": [
    {
     "data": {
      "text/plain": [
       "46.848000675020025"
      ]
     },
     "execution_count": 24,
     "metadata": {},
     "output_type": "execute_result"
    }
   ],
   "source": [
    "# coefficent = LR_tob.coef_\n",
    "coefficients = LR_tob.coef_.tolist()[0]\n",
    "type(coefficients)\n",
    "# len(coefficent.tolist()[0])\n",
    "max(coefficients)\n",
    "coefficients.index(max(coefficients))\n",
    "coefficients[15713]"
   ]
  },
  {
   "cell_type": "code",
   "execution_count": 25,
   "metadata": {
    "scrolled": true
   },
   "outputs": [],
   "source": [
    "# LR_tob.intercept_\n",
    "# LR_tob.classes_ \n",
    "# LR_tob.n_iter_ \n",
    "# LR_tob.get_params"
   ]
  },
  {
   "cell_type": "code",
   "execution_count": 26,
   "metadata": {},
   "outputs": [
    {
     "name": "stdout",
     "output_type": "stream",
     "text": [
      "length of features:  200000\n"
     ]
    },
    {
     "data": {
      "text/plain": [
       "list"
      ]
     },
     "execution_count": 26,
     "metadata": {},
     "output_type": "execute_result"
    }
   ],
   "source": [
    "tfidf_tob = clf_tob.get_params()['tfidf']\n",
    "features = tfidf_tob.get_feature_names()\n",
    "print('length of features: ', len(features))\n",
    "type(features)"
   ]
  },
  {
   "cell_type": "code",
   "execution_count": 27,
   "metadata": {},
   "outputs": [],
   "source": [
    "featuresAndCoef = {'features':features,'coefficients':coefficients}"
   ]
  },
  {
   "cell_type": "code",
   "execution_count": 28,
   "metadata": {},
   "outputs": [],
   "source": [
    "df_featuresAndCoef = pd.DataFrame(featuresAndCoef)\n",
    "# df_featuresAndCoef.head(20)"
   ]
  },
  {
   "cell_type": "markdown",
   "metadata": {},
   "source": [
    "The most important features."
   ]
  },
  {
   "cell_type": "code",
   "execution_count": 29,
   "metadata": {},
   "outputs": [
    {
     "data": {
      "text/html": [
       "<div>\n",
       "<style scoped>\n",
       "    .dataframe tbody tr th:only-of-type {\n",
       "        vertical-align: middle;\n",
       "    }\n",
       "\n",
       "    .dataframe tbody tr th {\n",
       "        vertical-align: top;\n",
       "    }\n",
       "\n",
       "    .dataframe thead th {\n",
       "        text-align: right;\n",
       "    }\n",
       "</style>\n",
       "<table border=\"1\" class=\"dataframe\">\n",
       "  <thead>\n",
       "    <tr style=\"text-align: right;\">\n",
       "      <th></th>\n",
       "      <th>features</th>\n",
       "      <th>coefficients</th>\n",
       "    </tr>\n",
       "  </thead>\n",
       "  <tbody>\n",
       "    <tr>\n",
       "      <th>15713</th>\n",
       "      <td>cigarettes</td>\n",
       "      <td>46.848001</td>\n",
       "    </tr>\n",
       "    <tr>\n",
       "      <th>177829</th>\n",
       "      <td>vaping</td>\n",
       "      <td>45.527301</td>\n",
       "    </tr>\n",
       "    <tr>\n",
       "      <th>15634</th>\n",
       "      <td>cigarette</td>\n",
       "      <td>42.503140</td>\n",
       "    </tr>\n",
       "    <tr>\n",
       "      <th>161073</th>\n",
       "      <td>tobacco</td>\n",
       "      <td>37.335308</td>\n",
       "    </tr>\n",
       "    <tr>\n",
       "      <th>15794</th>\n",
       "      <td>cigs</td>\n",
       "      <td>37.218617</td>\n",
       "    </tr>\n",
       "    <tr>\n",
       "      <th>177397</th>\n",
       "      <td>vape</td>\n",
       "      <td>36.357769</td>\n",
       "    </tr>\n",
       "    <tr>\n",
       "      <th>15589</th>\n",
       "      <td>cigar</td>\n",
       "      <td>34.601034</td>\n",
       "    </tr>\n",
       "    <tr>\n",
       "      <th>29019</th>\n",
       "      <td>hookah</td>\n",
       "      <td>33.055269</td>\n",
       "    </tr>\n",
       "    <tr>\n",
       "      <th>15532</th>\n",
       "      <td>cig</td>\n",
       "      <td>32.934133</td>\n",
       "    </tr>\n",
       "    <tr>\n",
       "      <th>142743</th>\n",
       "      <td>smoking</td>\n",
       "      <td>31.356351</td>\n",
       "    </tr>\n",
       "    <tr>\n",
       "      <th>15787</th>\n",
       "      <td>ciggs</td>\n",
       "      <td>26.006832</td>\n",
       "    </tr>\n",
       "    <tr>\n",
       "      <th>177712</th>\n",
       "      <td>vaped</td>\n",
       "      <td>25.671818</td>\n",
       "    </tr>\n",
       "    <tr>\n",
       "      <th>36617</th>\n",
       "      <td>juul</td>\n",
       "      <td>25.165293</td>\n",
       "    </tr>\n",
       "    <tr>\n",
       "      <th>141487</th>\n",
       "      <td>shisha</td>\n",
       "      <td>24.251662</td>\n",
       "    </tr>\n",
       "    <tr>\n",
       "      <th>142478</th>\n",
       "      <td>smoke</td>\n",
       "      <td>21.744468</td>\n",
       "    </tr>\n",
       "    <tr>\n",
       "      <th>15784</th>\n",
       "      <td>cigg</td>\n",
       "      <td>20.813610</td>\n",
       "    </tr>\n",
       "    <tr>\n",
       "      <th>177775</th>\n",
       "      <td>vapeing</td>\n",
       "      <td>18.295033</td>\n",
       "    </tr>\n",
       "    <tr>\n",
       "      <th>691</th>\n",
       "      <td>#cigarette</td>\n",
       "      <td>17.636620</td>\n",
       "    </tr>\n",
       "    <tr>\n",
       "      <th>15632</th>\n",
       "      <td>cigarets</td>\n",
       "      <td>16.935802</td>\n",
       "    </tr>\n",
       "    <tr>\n",
       "      <th>29010</th>\n",
       "      <td>hooka</td>\n",
       "      <td>16.478211</td>\n",
       "    </tr>\n",
       "    <tr>\n",
       "      <th>3804</th>\n",
       "      <td>a cig</td>\n",
       "      <td>15.158899</td>\n",
       "    </tr>\n",
       "    <tr>\n",
       "      <th>3834</th>\n",
       "      <td>a cigarette</td>\n",
       "      <td>14.615683</td>\n",
       "    </tr>\n",
       "    <tr>\n",
       "      <th>15629</th>\n",
       "      <td>cigaret</td>\n",
       "      <td>14.355075</td>\n",
       "    </tr>\n",
       "    <tr>\n",
       "      <th>1175</th>\n",
       "      <td>#vape</td>\n",
       "      <td>14.155241</td>\n",
       "    </tr>\n",
       "    <tr>\n",
       "      <th>142721</th>\n",
       "      <td>smokes</td>\n",
       "      <td>14.154691</td>\n",
       "    </tr>\n",
       "    <tr>\n",
       "      <th>1184</th>\n",
       "      <td>#vaping</td>\n",
       "      <td>13.131698</td>\n",
       "    </tr>\n",
       "    <tr>\n",
       "      <th>141440</th>\n",
       "      <td>sheesha</td>\n",
       "      <td>12.691243</td>\n",
       "    </tr>\n",
       "    <tr>\n",
       "      <th>14643</th>\n",
       "      <td>cancer sticks</td>\n",
       "      <td>12.578515</td>\n",
       "    </tr>\n",
       "    <tr>\n",
       "      <th>20251</th>\n",
       "      <td>ecig</td>\n",
       "      <td>12.115006</td>\n",
       "    </tr>\n",
       "    <tr>\n",
       "      <th>14641</th>\n",
       "      <td>cancer</td>\n",
       "      <td>11.908741</td>\n",
       "    </tr>\n",
       "    <tr>\n",
       "      <th>20083</th>\n",
       "      <td>e</td>\n",
       "      <td>11.818480</td>\n",
       "    </tr>\n",
       "    <tr>\n",
       "      <th>15055</th>\n",
       "      <td>causes</td>\n",
       "      <td>11.056361</td>\n",
       "    </tr>\n",
       "    <tr>\n",
       "      <th>43254</th>\n",
       "      <td>marlboro</td>\n",
       "      <td>11.039882</td>\n",
       "    </tr>\n",
       "    <tr>\n",
       "      <th>1141</th>\n",
       "      <td>#tobacco</td>\n",
       "      <td>10.317745</td>\n",
       "    </tr>\n",
       "    <tr>\n",
       "      <th>15926</th>\n",
       "      <td>cleaning</td>\n",
       "      <td>10.317240</td>\n",
       "    </tr>\n",
       "    <tr>\n",
       "      <th>142679</th>\n",
       "      <td>smoked in</td>\n",
       "      <td>10.213058</td>\n",
       "    </tr>\n",
       "    <tr>\n",
       "      <th>10778</th>\n",
       "      <td>bar</td>\n",
       "      <td>10.041871</td>\n",
       "    </tr>\n",
       "    <tr>\n",
       "      <th>144660</th>\n",
       "      <td>sticks</td>\n",
       "      <td>9.816925</td>\n",
       "    </tr>\n",
       "    <tr>\n",
       "      <th>21544</th>\n",
       "      <td>fags</td>\n",
       "      <td>9.780268</td>\n",
       "    </tr>\n",
       "    <tr>\n",
       "      <th>700</th>\n",
       "      <td>#cigarettes</td>\n",
       "      <td>9.774513</td>\n",
       "    </tr>\n",
       "  </tbody>\n",
       "</table>\n",
       "</div>"
      ],
      "text/plain": [
       "             features  coefficients\n",
       "15713      cigarettes     46.848001\n",
       "177829         vaping     45.527301\n",
       "15634       cigarette     42.503140\n",
       "161073        tobacco     37.335308\n",
       "15794            cigs     37.218617\n",
       "177397           vape     36.357769\n",
       "15589           cigar     34.601034\n",
       "29019          hookah     33.055269\n",
       "15532             cig     32.934133\n",
       "142743        smoking     31.356351\n",
       "15787           ciggs     26.006832\n",
       "177712          vaped     25.671818\n",
       "36617            juul     25.165293\n",
       "141487         shisha     24.251662\n",
       "142478          smoke     21.744468\n",
       "15784            cigg     20.813610\n",
       "177775        vapeing     18.295033\n",
       "691        #cigarette     17.636620\n",
       "15632        cigarets     16.935802\n",
       "29010           hooka     16.478211\n",
       "3804            a cig     15.158899\n",
       "3834      a cigarette     14.615683\n",
       "15629         cigaret     14.355075\n",
       "1175            #vape     14.155241\n",
       "142721         smokes     14.154691\n",
       "1184          #vaping     13.131698\n",
       "141440        sheesha     12.691243\n",
       "14643   cancer sticks     12.578515\n",
       "20251            ecig     12.115006\n",
       "14641          cancer     11.908741\n",
       "20083               e     11.818480\n",
       "15055          causes     11.056361\n",
       "43254        marlboro     11.039882\n",
       "1141         #tobacco     10.317745\n",
       "15926        cleaning     10.317240\n",
       "142679      smoked in     10.213058\n",
       "10778             bar     10.041871\n",
       "144660         sticks      9.816925\n",
       "21544            fags      9.780268\n",
       "700       #cigarettes      9.774513"
      ]
     },
     "execution_count": 29,
     "metadata": {},
     "output_type": "execute_result"
    }
   ],
   "source": [
    "df_featuresAndCoef.sort_values(by=['coefficients'], ascending=False).head(40)"
   ]
  },
  {
   "cell_type": "markdown",
   "metadata": {},
   "source": [
    "The least important features."
   ]
  },
  {
   "cell_type": "code",
   "execution_count": 30,
   "metadata": {},
   "outputs": [
    {
     "data": {
      "text/html": [
       "<div>\n",
       "<style scoped>\n",
       "    .dataframe tbody tr th:only-of-type {\n",
       "        vertical-align: middle;\n",
       "    }\n",
       "\n",
       "    .dataframe tbody tr th {\n",
       "        vertical-align: top;\n",
       "    }\n",
       "\n",
       "    .dataframe thead th {\n",
       "        text-align: right;\n",
       "    }\n",
       "</style>\n",
       "<table border=\"1\" class=\"dataframe\">\n",
       "  <thead>\n",
       "    <tr style=\"text-align: right;\">\n",
       "      <th></th>\n",
       "      <th>features</th>\n",
       "      <th>coefficients</th>\n",
       "    </tr>\n",
       "  </thead>\n",
       "  <tbody>\n",
       "    <tr>\n",
       "      <th>16454</th>\n",
       "      <td>company</td>\n",
       "      <td>-18.917868</td>\n",
       "    </tr>\n",
       "    <tr>\n",
       "      <th>37352</th>\n",
       "      <td>kong</td>\n",
       "      <td>-10.662821</td>\n",
       "    </tr>\n",
       "    <tr>\n",
       "      <th>151530</th>\n",
       "      <td>time to smoke</td>\n",
       "      <td>-9.971389</td>\n",
       "    </tr>\n",
       "    <tr>\n",
       "      <th>186941</th>\n",
       "      <td>weed</td>\n",
       "      <td>-9.784976</td>\n",
       "    </tr>\n",
       "    <tr>\n",
       "      <th>109998</th>\n",
       "      <td>pipes</td>\n",
       "      <td>-9.671286</td>\n",
       "    </tr>\n",
       "    <tr>\n",
       "      <th>217</th>\n",
       "      <td>\" i don't</td>\n",
       "      <td>-9.661308</td>\n",
       "    </tr>\n",
       "    <tr>\n",
       "      <th>60804</th>\n",
       "      <td>my brudds</td>\n",
       "      <td>-9.609917</td>\n",
       "    </tr>\n",
       "    <tr>\n",
       "      <th>3330</th>\n",
       "      <td>59</td>\n",
       "      <td>-8.744774</td>\n",
       "    </tr>\n",
       "    <tr>\n",
       "      <th>17075</th>\n",
       "      <td>crack</td>\n",
       "      <td>-8.735898</td>\n",
       "    </tr>\n",
       "    <tr>\n",
       "      <th>108361</th>\n",
       "      <td>petty</td>\n",
       "      <td>-8.714689</td>\n",
       "    </tr>\n",
       "    <tr>\n",
       "      <th>72764</th>\n",
       "      <td>niggas</td>\n",
       "      <td>-8.201396</td>\n",
       "    </tr>\n",
       "    <tr>\n",
       "      <th>12654</th>\n",
       "      <td>blunt</td>\n",
       "      <td>-7.740529</td>\n",
       "    </tr>\n",
       "    <tr>\n",
       "      <th>19397</th>\n",
       "      <td>don't smoke cigarettes</td>\n",
       "      <td>-7.734766</td>\n",
       "    </tr>\n",
       "    <tr>\n",
       "      <th>145118</th>\n",
       "      <td>studios</td>\n",
       "      <td>-7.687336</td>\n",
       "    </tr>\n",
       "    <tr>\n",
       "      <th>142759</th>\n",
       "      <td>smoking alone</td>\n",
       "      <td>-7.499529</td>\n",
       "    </tr>\n",
       "    <tr>\n",
       "      <th>177478</th>\n",
       "      <td>vape dragons</td>\n",
       "      <td>-7.333314</td>\n",
       "    </tr>\n",
       "    <tr>\n",
       "      <th>28204</th>\n",
       "      <td>henny</td>\n",
       "      <td>-7.258361</td>\n",
       "    </tr>\n",
       "    <tr>\n",
       "      <th>18445</th>\n",
       "      <td>diet cig</td>\n",
       "      <td>-7.216907</td>\n",
       "    </tr>\n",
       "    <tr>\n",
       "      <th>161275</th>\n",
       "      <td>tobacco road</td>\n",
       "      <td>-7.200433</td>\n",
       "    </tr>\n",
       "    <tr>\n",
       "      <th>131222</th>\n",
       "      <td>road</td>\n",
       "      <td>-7.151310</td>\n",
       "    </tr>\n",
       "    <tr>\n",
       "      <th>19730</th>\n",
       "      <td>dragons</td>\n",
       "      <td>-6.942640</td>\n",
       "    </tr>\n",
       "    <tr>\n",
       "      <th>37912</th>\n",
       "      <td>les</td>\n",
       "      <td>-6.924899</td>\n",
       "    </tr>\n",
       "    <tr>\n",
       "      <th>17847</th>\n",
       "      <td>dead</td>\n",
       "      <td>-6.614406</td>\n",
       "    </tr>\n",
       "    <tr>\n",
       "      <th>549</th>\n",
       "      <td>#420</td>\n",
       "      <td>-6.564936</td>\n",
       "    </tr>\n",
       "    <tr>\n",
       "      <th>197969</th>\n",
       "      <td>you</td>\n",
       "      <td>-6.545561</td>\n",
       "    </tr>\n",
       "    <tr>\n",
       "      <th>14654</th>\n",
       "      <td>candy</td>\n",
       "      <td>-6.440413</td>\n",
       "    </tr>\n",
       "    <tr>\n",
       "      <th>142798</th>\n",
       "      <td>smoking dick</td>\n",
       "      <td>-6.377221</td>\n",
       "    </tr>\n",
       "    <tr>\n",
       "      <th>72870</th>\n",
       "      <td>niggas like cigarettes</td>\n",
       "      <td>-6.377090</td>\n",
       "    </tr>\n",
       "    <tr>\n",
       "      <th>27986</th>\n",
       "      <td>headphones</td>\n",
       "      <td>-6.350945</td>\n",
       "    </tr>\n",
       "    <tr>\n",
       "      <th>167581</th>\n",
       "      <td>tryna smoke</td>\n",
       "      <td>-6.349974</td>\n",
       "    </tr>\n",
       "    <tr>\n",
       "      <th>177672</th>\n",
       "      <td>vape tea</td>\n",
       "      <td>-6.167059</td>\n",
       "    </tr>\n",
       "    <tr>\n",
       "      <th>72869</th>\n",
       "      <td>niggas like</td>\n",
       "      <td>-6.142302</td>\n",
       "    </tr>\n",
       "    <tr>\n",
       "      <th>38361</th>\n",
       "      <td>like cigarette</td>\n",
       "      <td>-6.141415</td>\n",
       "    </tr>\n",
       "    <tr>\n",
       "      <th>183514</th>\n",
       "      <td>was</td>\n",
       "      <td>-6.063631</td>\n",
       "    </tr>\n",
       "    <tr>\n",
       "      <th>55383</th>\n",
       "      <td>more cigarettes</td>\n",
       "      <td>-5.951204</td>\n",
       "    </tr>\n",
       "    <tr>\n",
       "      <th>9571</th>\n",
       "      <td>as an</td>\n",
       "      <td>-5.900315</td>\n",
       "    </tr>\n",
       "    <tr>\n",
       "      <th>22144</th>\n",
       "      <td>filtered</td>\n",
       "      <td>-5.888986</td>\n",
       "    </tr>\n",
       "    <tr>\n",
       "      <th>24267</th>\n",
       "      <td>george</td>\n",
       "      <td>-5.804906</td>\n",
       "    </tr>\n",
       "    <tr>\n",
       "      <th>12577</th>\n",
       "      <td>blessedt</td>\n",
       "      <td>-5.793971</td>\n",
       "    </tr>\n",
       "    <tr>\n",
       "      <th>28488</th>\n",
       "      <td>high</td>\n",
       "      <td>-5.783105</td>\n",
       "    </tr>\n",
       "  </tbody>\n",
       "</table>\n",
       "</div>"
      ],
      "text/plain": [
       "                      features  coefficients\n",
       "16454                  company    -18.917868\n",
       "37352                     kong    -10.662821\n",
       "151530           time to smoke     -9.971389\n",
       "186941                    weed     -9.784976\n",
       "109998                   pipes     -9.671286\n",
       "217                  \" i don't     -9.661308\n",
       "60804                my brudds     -9.609917\n",
       "3330                        59     -8.744774\n",
       "17075                    crack     -8.735898\n",
       "108361                   petty     -8.714689\n",
       "72764                   niggas     -8.201396\n",
       "12654                    blunt     -7.740529\n",
       "19397   don't smoke cigarettes     -7.734766\n",
       "145118                 studios     -7.687336\n",
       "142759           smoking alone     -7.499529\n",
       "177478            vape dragons     -7.333314\n",
       "28204                    henny     -7.258361\n",
       "18445                 diet cig     -7.216907\n",
       "161275            tobacco road     -7.200433\n",
       "131222                    road     -7.151310\n",
       "19730                  dragons     -6.942640\n",
       "37912                      les     -6.924899\n",
       "17847                     dead     -6.614406\n",
       "549                       #420     -6.564936\n",
       "197969                     you     -6.545561\n",
       "14654                    candy     -6.440413\n",
       "142798            smoking dick     -6.377221\n",
       "72870   niggas like cigarettes     -6.377090\n",
       "27986               headphones     -6.350945\n",
       "167581             tryna smoke     -6.349974\n",
       "177672                vape tea     -6.167059\n",
       "72869              niggas like     -6.142302\n",
       "38361           like cigarette     -6.141415\n",
       "183514                     was     -6.063631\n",
       "55383          more cigarettes     -5.951204\n",
       "9571                     as an     -5.900315\n",
       "22144                 filtered     -5.888986\n",
       "24267                   george     -5.804906\n",
       "12577                 blessedt     -5.793971\n",
       "28488                     high     -5.783105"
      ]
     },
     "execution_count": 30,
     "metadata": {},
     "output_type": "execute_result"
    }
   ],
   "source": [
    "df_featuresAndCoef.sort_values(by=['coefficients'], ascending=True).head(40)"
   ]
  },
  {
   "cell_type": "code",
   "execution_count": 31,
   "metadata": {},
   "outputs": [
    {
     "data": {
      "text/plain": [
       "features           weed\n",
       "coefficients   -9.78498\n",
       "Name: 186941, dtype: object"
      ]
     },
     "execution_count": 31,
     "metadata": {},
     "output_type": "execute_result"
    }
   ],
   "source": [
    "df_featuresAndCoef.iloc[186941] # Double check to make sure we make the ranking above right."
   ]
  },
  {
   "cell_type": "code",
   "execution_count": null,
   "metadata": {},
   "outputs": [],
   "source": []
  },
  {
   "cell_type": "markdown",
   "metadata": {},
   "source": [
    "Test the bad performance is because the label within the input data or not."
   ]
  },
  {
   "cell_type": "code",
   "execution_count": 33,
   "metadata": {},
   "outputs": [
    {
     "data": {
      "text/html": [
       "<div>\n",
       "<style scoped>\n",
       "    .dataframe tbody tr th:only-of-type {\n",
       "        vertical-align: middle;\n",
       "    }\n",
       "\n",
       "    .dataframe tbody tr th {\n",
       "        vertical-align: top;\n",
       "    }\n",
       "\n",
       "    .dataframe thead th {\n",
       "        text-align: right;\n",
       "    }\n",
       "</style>\n",
       "<table border=\"1\" class=\"dataframe\">\n",
       "  <thead>\n",
       "    <tr style=\"text-align: right;\">\n",
       "      <th></th>\n",
       "      <th>text</th>\n",
       "    </tr>\n",
       "  </thead>\n",
       "  <tbody>\n",
       "    <tr>\n",
       "      <th>0</th>\n",
       "      <td>gets left on read by her teacher '</td>\n",
       "    </tr>\n",
       "    <tr>\n",
       "      <th>1</th>\n",
       "      <td>lol give that bitch a cape cause she SUPER mad</td>\n",
       "    </tr>\n",
       "    <tr>\n",
       "      <th>2</th>\n",
       "      <td>the truth is not meant to hurt its meant to in...</td>\n",
       "    </tr>\n",
       "    <tr>\n",
       "      <th>3</th>\n",
       "      <td>bbcnews I give you this toast Here s to the da...</td>\n",
       "    </tr>\n",
       "    <tr>\n",
       "      <th>4</th>\n",
       "      <td>Lmaoo Don't Get Shit Twisted</td>\n",
       "    </tr>\n",
       "    <tr>\n",
       "      <th>5</th>\n",
       "      <td>but last year was so weird it just got to a po...</td>\n",
       "    </tr>\n",
       "    <tr>\n",
       "      <th>6</th>\n",
       "      <td>BBCanada Sindy to Bruno Neda defends keeping D...</td>\n",
       "    </tr>\n",
       "    <tr>\n",
       "      <th>7</th>\n",
       "      <td>BBCanada Sindy to Bruno Only person who doesnt...</td>\n",
       "    </tr>\n",
       "    <tr>\n",
       "      <th>8</th>\n",
       "      <td>BBCanada Sindy told Bruno that Ika got upset w...</td>\n",
       "    </tr>\n",
       "    <tr>\n",
       "      <th>9</th>\n",
       "      <td>Coca Cola doesn't make an ad by Friday I WILL ...</td>\n",
       "    </tr>\n",
       "  </tbody>\n",
       "</table>\n",
       "</div>"
      ],
      "text/plain": [
       "                                                text\n",
       "0                 gets left on read by her teacher '\n",
       "1     lol give that bitch a cape cause she SUPER mad\n",
       "2  the truth is not meant to hurt its meant to in...\n",
       "3  bbcnews I give you this toast Here s to the da...\n",
       "4                       Lmaoo Don't Get Shit Twisted\n",
       "5  but last year was so weird it just got to a po...\n",
       "6  BBCanada Sindy to Bruno Neda defends keeping D...\n",
       "7  BBCanada Sindy to Bruno Only person who doesnt...\n",
       "8  BBCanada Sindy told Bruno that Ika got upset w...\n",
       "9  Coca Cola doesn't make an ad by Friday I WILL ..."
      ]
     },
     "execution_count": 33,
     "metadata": {},
     "output_type": "execute_result"
    }
   ],
   "source": [
    "initialData = pd.read_csv(\"./data/used training data/tob.csv\")\n",
    "initialData.head(10)\n",
    "initialData = initialData[['text']]\n",
    "initialData.head(10)"
   ]
  },
  {
   "cell_type": "code",
   "execution_count": 34,
   "metadata": {},
   "outputs": [
    {
     "name": "stderr",
     "output_type": "stream",
     "text": [
      "D:\\Anaconda3\\envs\\py36\\lib\\site-packages\\sklearn\\feature_extraction\\text.py:1015: FutureWarning: Conversion of the second argument of issubdtype from `float` to `np.floating` is deprecated. In future, it will be treated as `np.float64 == np.dtype(float).type`.\n",
      "  if hasattr(X, 'dtype') and np.issubdtype(X.dtype, np.float):\n"
     ]
    }
   ],
   "source": [
    "clf_tob = pickle.load(open('./tobacco classifiers/classifier1_tobacco.p', 'rb'))\n",
    "result = clf_tob.predict(initialData)"
   ]
  },
  {
   "cell_type": "code",
   "execution_count": 36,
   "metadata": {},
   "outputs": [
    {
     "name": "stdout",
     "output_type": "stream",
     "text": [
      "NOT-Tobacco: 22492 Tobacco: 3676\n"
     ]
    }
   ],
   "source": [
    "# len(result)\n",
    "print(\"NOT-Tobacco:\", np.unique(result, return_counts=True)[1][0],\n",
    "      \"Tobacco:\",np.unique(result, return_counts=True)[1][1])"
   ]
  },
  {
   "cell_type": "code",
   "execution_count": 37,
   "metadata": {},
   "outputs": [
    {
     "data": {
      "text/html": [
       "<div>\n",
       "<style scoped>\n",
       "    .dataframe tbody tr th:only-of-type {\n",
       "        vertical-align: middle;\n",
       "    }\n",
       "\n",
       "    .dataframe tbody tr th {\n",
       "        vertical-align: top;\n",
       "    }\n",
       "\n",
       "    .dataframe thead th {\n",
       "        text-align: right;\n",
       "    }\n",
       "</style>\n",
       "<table border=\"1\" class=\"dataframe\">\n",
       "  <thead>\n",
       "    <tr style=\"text-align: right;\">\n",
       "      <th></th>\n",
       "      <th>text</th>\n",
       "    </tr>\n",
       "  </thead>\n",
       "  <tbody>\n",
       "    <tr>\n",
       "      <th>12</th>\n",
       "      <td>dyou reckon i can give up ciggs for lent again...</td>\n",
       "    </tr>\n",
       "    <tr>\n",
       "      <th>19</th>\n",
       "      <td>hookah bar w it '</td>\n",
       "    </tr>\n",
       "    <tr>\n",
       "      <th>22</th>\n",
       "      <td>cigarette smoking kills you at 50 weed smoking...</td>\n",
       "    </tr>\n",
       "    <tr>\n",
       "      <th>27</th>\n",
       "      <td>1 WEEK OF NO CIGARETTES FOR</td>\n",
       "    </tr>\n",
       "    <tr>\n",
       "      <th>51</th>\n",
       "      <td>understand that cigarette vapour or halitosis ...</td>\n",
       "    </tr>\n",
       "    <tr>\n",
       "      <th>54</th>\n",
       "      <td>on the sofa dead Woke up from a coma pulled up...</td>\n",
       "    </tr>\n",
       "    <tr>\n",
       "      <th>58</th>\n",
       "      <td>-MENTION- -MENTION- -MENTION- Bates Cdn #vape ...</td>\n",
       "    </tr>\n",
       "    <tr>\n",
       "      <th>62</th>\n",
       "      <td>-MENTION- -MENTION- I don't like \"7 yrs old\" (...</td>\n",
       "    </tr>\n",
       "    <tr>\n",
       "      <th>63</th>\n",
       "      <td>-MENTION- -MENTION- I don't like \"ironic\" (#np...</td>\n",
       "    </tr>\n",
       "    <tr>\n",
       "      <th>64</th>\n",
       "      <td>-MENTION- -MENTION- I don't like \"piano man\" (...</td>\n",
       "    </tr>\n",
       "  </tbody>\n",
       "</table>\n",
       "</div>"
      ],
      "text/plain": [
       "                                                 text\n",
       "12  dyou reckon i can give up ciggs for lent again...\n",
       "19                                  hookah bar w it '\n",
       "22  cigarette smoking kills you at 50 weed smoking...\n",
       "27                        1 WEEK OF NO CIGARETTES FOR\n",
       "51  understand that cigarette vapour or halitosis ...\n",
       "54  on the sofa dead Woke up from a coma pulled up...\n",
       "58  -MENTION- -MENTION- -MENTION- Bates Cdn #vape ...\n",
       "62  -MENTION- -MENTION- I don't like \"7 yrs old\" (...\n",
       "63  -MENTION- -MENTION- I don't like \"ironic\" (#np...\n",
       "64  -MENTION- -MENTION- I don't like \"piano man\" (..."
      ]
     },
     "execution_count": 37,
     "metadata": {},
     "output_type": "execute_result"
    }
   ],
   "source": [
    "indexTobacco_initial = np.where(result == 'Tobacco')\n",
    "indexTobacco_initial = indexTobacco_initial[0].tolist()\n",
    "initialData.iloc[indexTobacco_initial,].head(10)"
   ]
  },
  {
   "cell_type": "code",
   "execution_count": null,
   "metadata": {},
   "outputs": [],
   "source": []
  },
  {
   "cell_type": "markdown",
   "metadata": {},
   "source": [
    "Go back again to see what's the prediction."
   ]
  },
  {
   "cell_type": "code",
   "execution_count": 46,
   "metadata": {},
   "outputs": [
    {
     "name": "stderr",
     "output_type": "stream",
     "text": [
      "D:\\Anaconda3\\envs\\py36\\lib\\site-packages\\sklearn\\feature_extraction\\text.py:1015: FutureWarning: Conversion of the second argument of issubdtype from `float` to `np.floating` is deprecated. In future, it will be treated as `np.float64 == np.dtype(float).type`.\n",
      "  if hasattr(X, 'dtype') and np.issubdtype(X.dtype, np.float):\n"
     ]
    }
   ],
   "source": [
    "textToPredict = dfTobacco.text\n",
    "textToPredict = pd.DataFrame(textToPredict)\n",
    "clf_tob = pickle.load(open('./tobacco classifiers/classifier1_tobacco.p', 'rb'))\n",
    "result_textToPredict = clf_tob.predict(textToPredict)\n",
    "# Actually all is labeled Tobacco. I didn't make the index wrong.\n",
    "# for i in result_textToPredict:\n",
    "#     print(i)"
   ]
  },
  {
   "cell_type": "markdown",
   "metadata": {},
   "source": [
    "------------------------------------------\n",
    "Generate some tobacco dataset myself."
   ]
  },
  {
   "cell_type": "code",
   "execution_count": 48,
   "metadata": {},
   "outputs": [
    {
     "data": {
      "text/plain": [
       "pandas.core.series.Series"
      ]
     },
     "execution_count": 48,
     "metadata": {},
     "output_type": "execute_result"
    }
   ],
   "source": [
    "type(dfTobacco.text)"
   ]
  },
  {
   "cell_type": "code",
   "execution_count": 73,
   "metadata": {},
   "outputs": [
    {
     "data": {
      "text/html": [
       "<div>\n",
       "<style scoped>\n",
       "    .dataframe tbody tr th:only-of-type {\n",
       "        vertical-align: middle;\n",
       "    }\n",
       "\n",
       "    .dataframe tbody tr th {\n",
       "        vertical-align: top;\n",
       "    }\n",
       "\n",
       "    .dataframe thead th {\n",
       "        text-align: right;\n",
       "    }\n",
       "</style>\n",
       "<table border=\"1\" class=\"dataframe\">\n",
       "  <thead>\n",
       "    <tr style=\"text-align: right;\">\n",
       "      <th></th>\n",
       "      <th>text</th>\n",
       "    </tr>\n",
       "  </thead>\n",
       "  <tbody>\n",
       "    <tr>\n",
       "      <th>0</th>\n",
       "      <td>I love cigarettes</td>\n",
       "    </tr>\n",
       "    <tr>\n",
       "      <th>1</th>\n",
       "      <td>I don't love cigarettes</td>\n",
       "    </tr>\n",
       "    <tr>\n",
       "      <th>2</th>\n",
       "      <td>I love vaping</td>\n",
       "    </tr>\n",
       "    <tr>\n",
       "      <th>3</th>\n",
       "      <td>vaping and cigarettes</td>\n",
       "    </tr>\n",
       "    <tr>\n",
       "      <th>4</th>\n",
       "      <td>I need a cigarette</td>\n",
       "    </tr>\n",
       "    <tr>\n",
       "      <th>5</th>\n",
       "      <td>I'm on the street smoking a cigarette</td>\n",
       "    </tr>\n",
       "    <tr>\n",
       "      <th>6</th>\n",
       "      <td>We're #hiring! Click to apply: Expanding SF Re...</td>\n",
       "    </tr>\n",
       "    <tr>\n",
       "      <th>7</th>\n",
       "      <td>I'm at @Benihana in San Francisco, CA w/ @drewg</td>\n",
       "    </tr>\n",
       "    <tr>\n",
       "      <th>8</th>\n",
       "      <td>Opened Street or Sidewalk Cleaning request via</td>\n",
       "    </tr>\n",
       "    <tr>\n",
       "      <th>9</th>\n",
       "      <td>Opened Street or</td>\n",
       "    </tr>\n",
       "    <tr>\n",
       "      <th>10</th>\n",
       "      <td>Sidewalk Cleaning request via</td>\n",
       "    </tr>\n",
       "    <tr>\n",
       "      <th>11</th>\n",
       "      <td>Sidewalk Cleaning</td>\n",
       "    </tr>\n",
       "    <tr>\n",
       "      <th>12</th>\n",
       "      <td>request via</td>\n",
       "    </tr>\n",
       "    <tr>\n",
       "      <th>13</th>\n",
       "      <td>Sidewalk</td>\n",
       "    </tr>\n",
       "    <tr>\n",
       "      <th>14</th>\n",
       "      <td>Cleaning</td>\n",
       "    </tr>\n",
       "    <tr>\n",
       "      <th>15</th>\n",
       "      <td>Opened Street or Sidewalk request via</td>\n",
       "    </tr>\n",
       "  </tbody>\n",
       "</table>\n",
       "</div>"
      ],
      "text/plain": [
       "                                                 text\n",
       "0                                   I love cigarettes\n",
       "1                             I don't love cigarettes\n",
       "2                                       I love vaping\n",
       "3                               vaping and cigarettes\n",
       "4                                  I need a cigarette\n",
       "5               I'm on the street smoking a cigarette\n",
       "6   We're #hiring! Click to apply: Expanding SF Re...\n",
       "7     I'm at @Benihana in San Francisco, CA w/ @drewg\n",
       "8      Opened Street or Sidewalk Cleaning request via\n",
       "9                                    Opened Street or\n",
       "10                      Sidewalk Cleaning request via\n",
       "11                                  Sidewalk Cleaning\n",
       "12                                        request via\n",
       "13                                           Sidewalk\n",
       "14                                           Cleaning\n",
       "15              Opened Street or Sidewalk request via"
      ]
     },
     "execution_count": 73,
     "metadata": {},
     "output_type": "execute_result"
    }
   ],
   "source": [
    "generateText = [\"I love cigarettes\",\n",
    "                \"I don't love cigarettes\",\n",
    "                \"I love vaping\",\n",
    "                \"vaping and cigarettes\",\n",
    "                \"I need a cigarette\",\n",
    "                \"I'm on the street smoking a cigarette\",\n",
    "                \"We're #hiring! Click to apply: Expanding SF Retail Firm Seeking Junior Accountant - https://t.co/7bOsjbYFdi #Accountemps #SanFrancisco, CA\",\n",
    "                \"I'm at @Benihana in San Francisco, CA w/ @drewg\",\n",
    "                \"Opened Street or Sidewalk Cleaning request via\", # Tobacco\n",
    "                \"Opened Street or\",\n",
    "                \"Sidewalk Cleaning request via\",\n",
    "                \"Sidewalk Cleaning\", # Tobacco\n",
    "                \"request via\",\n",
    "                \"Sidewalk\",\n",
    "                \"Cleaning\", # Tobacco\n",
    "                \"Opened Street or Sidewalk request via\" # Not Tobacco\n",
    "                \n",
    "                \n",
    "                \n",
    "                \n",
    "               ]\n",
    "# generateText = ['I love cigarettes'\n",
    "                \n",
    "#                ]\n",
    "generateInput = {'text':generateText}\n",
    "generateToPredict = pd.DataFrame(generateInput)\n",
    "generateToPredict"
   ]
  },
  {
   "cell_type": "code",
   "execution_count": 74,
   "metadata": {},
   "outputs": [
    {
     "name": "stderr",
     "output_type": "stream",
     "text": [
      "D:\\Anaconda3\\envs\\py36\\lib\\site-packages\\sklearn\\feature_extraction\\text.py:1015: FutureWarning: Conversion of the second argument of issubdtype from `float` to `np.floating` is deprecated. In future, it will be treated as `np.float64 == np.dtype(float).type`.\n",
      "  if hasattr(X, 'dtype') and np.issubdtype(X.dtype, np.float):\n"
     ]
    },
    {
     "data": {
      "text/plain": [
       "array(['Tobacco', 'Tobacco', 'Tobacco', 'Tobacco', 'Tobacco', 'Tobacco',\n",
       "       'NOT-Tobacco', 'NOT-Tobacco', 'Tobacco', 'NOT-Tobacco', 'Tobacco',\n",
       "       'Tobacco', 'NOT-Tobacco', 'NOT-Tobacco', 'Tobacco', 'NOT-Tobacco'],\n",
       "      dtype='<U11')"
      ]
     },
     "execution_count": 74,
     "metadata": {},
     "output_type": "execute_result"
    }
   ],
   "source": [
    "clf_tob = pickle.load(open('./tobacco classifiers/classifier1_tobacco.p', 'rb'))\n",
    "# running the classifier\n",
    "result_generateToPredict = clf_tob.predict(generateToPredict)\n",
    "result_generateToPredict"
   ]
  },
  {
   "cell_type": "markdown",
   "metadata": {},
   "source": [
    "It turns out that it's all because the word \"cleaning\". Now check what's the coefficient of \"cleaning\"."
   ]
  },
  {
   "cell_type": "code",
   "execution_count": 80,
   "metadata": {},
   "outputs": [
    {
     "data": {
      "text/html": [
       "<div>\n",
       "<style scoped>\n",
       "    .dataframe tbody tr th:only-of-type {\n",
       "        vertical-align: middle;\n",
       "    }\n",
       "\n",
       "    .dataframe tbody tr th {\n",
       "        vertical-align: top;\n",
       "    }\n",
       "\n",
       "    .dataframe thead th {\n",
       "        text-align: right;\n",
       "    }\n",
       "</style>\n",
       "<table border=\"1\" class=\"dataframe\">\n",
       "  <thead>\n",
       "    <tr style=\"text-align: right;\">\n",
       "      <th></th>\n",
       "      <th>features</th>\n",
       "      <th>coefficients</th>\n",
       "    </tr>\n",
       "  </thead>\n",
       "  <tbody>\n",
       "    <tr>\n",
       "      <th>15926</th>\n",
       "      <td>cleaning</td>\n",
       "      <td>10.31724</td>\n",
       "    </tr>\n",
       "  </tbody>\n",
       "</table>\n",
       "</div>"
      ],
      "text/plain": [
       "       features  coefficients\n",
       "15926  cleaning      10.31724"
      ]
     },
     "execution_count": 80,
     "metadata": {},
     "output_type": "execute_result"
    }
   ],
   "source": [
    "# df_featuresAndCoef.ix[:, 'cigarettes']\n",
    "df_featuresAndCoef.loc[df_featuresAndCoef['features'] ==  'cleaning']"
   ]
  },
  {
   "cell_type": "markdown",
   "metadata": {},
   "source": [
    "It's so weird. I go back to the data that Jason has used to train the classifier. In all tobacco labeled tweets, 'cleaning' only appears 4 times."
   ]
  },
  {
   "cell_type": "markdown",
   "metadata": {},
   "source": [
    "------------------------\n",
    "First, check the prediction probability. I go back to the source code of function predict(). It turns out the funtion just directly take the score value calculateb by funtion decision_function(). If the score is greater than 0, then it's 'Tobacco', else it's 'Not-Tobacco'. In other words, the threshold is 0."
   ]
  },
  {
   "cell_type": "code",
   "execution_count": 83,
   "metadata": {},
   "outputs": [
    {
     "name": "stderr",
     "output_type": "stream",
     "text": [
      "D:\\Anaconda3\\envs\\py36\\lib\\site-packages\\sklearn\\feature_extraction\\text.py:1015: FutureWarning: Conversion of the second argument of issubdtype from `float` to `np.floating` is deprecated. In future, it will be treated as `np.float64 == np.dtype(float).type`.\n",
      "  if hasattr(X, 'dtype') and np.issubdtype(X.dtype, np.float):\n"
     ]
    },
    {
     "data": {
      "text/plain": [
       "array([0.05318358, 0.23617969, 0.42242443, ..., 0.04150259, 0.3094653 ,\n",
       "       0.23736232])"
      ]
     },
     "execution_count": 83,
     "metadata": {},
     "output_type": "execute_result"
    }
   ],
   "source": [
    "textToPredict = dfTobacco.text\n",
    "textToPredict = pd.DataFrame(textToPredict)\n",
    "clf_tob = pickle.load(open('./tobacco classifiers/classifier1_tobacco.p', 'rb'))\n",
    "result_textToPredict = clf_tob.decision_function(textToPredict)\n",
    "# len(result_textToPredict)\n",
    "result_textToPredict"
   ]
  },
  {
   "cell_type": "code",
   "execution_count": 87,
   "metadata": {},
   "outputs": [
    {
     "name": "stderr",
     "output_type": "stream",
     "text": [
      "D:\\Anaconda3\\envs\\py36\\lib\\site-packages\\sklearn\\feature_extraction\\text.py:1015: FutureWarning: Conversion of the second argument of issubdtype from `float` to `np.floating` is deprecated. In future, it will be treated as `np.float64 == np.dtype(float).type`.\n",
      "  if hasattr(X, 'dtype') and np.issubdtype(X.dtype, np.float):\n"
     ]
    },
    {
     "data": {
      "text/plain": [
       "array([-0.28596195,  0.05318358, -6.97263249, ..., -5.64834359,\n",
       "       -5.36897124, -4.90257439])"
      ]
     },
     "execution_count": 87,
     "metadata": {},
     "output_type": "execute_result"
    }
   ],
   "source": [
    "# df_text\n",
    "all_textToPredict = pd.DataFrame(df_text)\n",
    "clf_tob = pickle.load(open('./tobacco classifiers/classifier1_tobacco.p', 'rb'))\n",
    "result_all_textToPredict = clf_tob.decision_function(all_textToPredict)\n",
    "# len(result_all_textToPredict)\n",
    "result_all_textToPredict"
   ]
  },
  {
   "cell_type": "code",
   "execution_count": 88,
   "metadata": {},
   "outputs": [
    {
     "data": {
      "text/plain": [
       "1272"
      ]
     },
     "execution_count": 88,
     "metadata": {},
     "output_type": "execute_result"
    }
   ],
   "source": [
    "sum(result_all_textToPredict>0)"
   ]
  },
  {
   "cell_type": "code",
   "execution_count": 89,
   "metadata": {},
   "outputs": [
    {
     "name": "stderr",
     "output_type": "stream",
     "text": [
      "D:\\Anaconda3\\envs\\py36\\lib\\site-packages\\sklearn\\feature_extraction\\text.py:1015: FutureWarning: Conversion of the second argument of issubdtype from `float` to `np.floating` is deprecated. In future, it will be treated as `np.float64 == np.dtype(float).type`.\n",
      "  if hasattr(X, 'dtype') and np.issubdtype(X.dtype, np.float):\n"
     ]
    },
    {
     "data": {
      "text/plain": [
       "array([[5.71007266e-01, 4.28992734e-01],\n",
       "       [4.86707239e-01, 5.13292761e-01],\n",
       "       [9.99063695e-01, 9.36305041e-04],\n",
       "       ...,\n",
       "       [9.96489022e-01, 3.51097765e-03],\n",
       "       [9.95362683e-01, 4.63731684e-03],\n",
       "       [9.92627323e-01, 7.37267721e-03]])"
      ]
     },
     "execution_count": 89,
     "metadata": {},
     "output_type": "execute_result"
    }
   ],
   "source": [
    "# Change prediction method to funtion predict_proba()\n",
    "# df_text\n",
    "all_textToPredict = pd.DataFrame(df_text)\n",
    "clf_tob = pickle.load(open('./tobacco classifiers/classifier1_tobacco.p', 'rb'))\n",
    "result_all_textToPredictProba = clf_tob.predict_proba(all_textToPredict)\n",
    "# len(result_all_textToPredictProba)\n",
    "result_all_textToPredictProba"
   ]
  },
  {
   "cell_type": "code",
   "execution_count": 90,
   "metadata": {},
   "outputs": [
    {
     "data": {
      "text/plain": [
       "87764"
      ]
     },
     "execution_count": 90,
     "metadata": {},
     "output_type": "execute_result"
    }
   ],
   "source": [
    "len(result_all_textToPredictProba)"
   ]
  },
  {
   "cell_type": "code",
   "execution_count": 99,
   "metadata": {},
   "outputs": [],
   "source": [
    "tmpSum = 0\n",
    "for i in result_all_textToPredictProba:\n",
    "#     print(i)\n",
    "    tmpSum += i.argmax()"
   ]
  },
  {
   "cell_type": "code",
   "execution_count": 100,
   "metadata": {},
   "outputs": [
    {
     "data": {
      "text/plain": [
       "1272"
      ]
     },
     "execution_count": 100,
     "metadata": {},
     "output_type": "execute_result"
    }
   ],
   "source": [
    "tmpSum"
   ]
  },
  {
   "cell_type": "markdown",
   "metadata": {},
   "source": [
    "So for function predict_proba(), it just extract the index of bigger value as the predicted class label."
   ]
  },
  {
   "cell_type": "markdown",
   "metadata": {},
   "source": [
    "-----------------------------------\n",
    "Second, remove all the word 'cleaning' in the data and re-predict."
   ]
  },
  {
   "cell_type": "code",
   "execution_count": 123,
   "metadata": {},
   "outputs": [
    {
     "data": {
      "text/html": [
       "<div>\n",
       "<style scoped>\n",
       "    .dataframe tbody tr th:only-of-type {\n",
       "        vertical-align: middle;\n",
       "    }\n",
       "\n",
       "    .dataframe tbody tr th {\n",
       "        vertical-align: top;\n",
       "    }\n",
       "\n",
       "    .dataframe thead th {\n",
       "        text-align: right;\n",
       "    }\n",
       "</style>\n",
       "<table border=\"1\" class=\"dataframe\">\n",
       "  <thead>\n",
       "    <tr style=\"text-align: right;\">\n",
       "      <th></th>\n",
       "      <th>text</th>\n",
       "    </tr>\n",
       "  </thead>\n",
       "  <tbody>\n",
       "    <tr>\n",
       "      <th>0</th>\n",
       "      <td>Opened Street or Sidewalk  request via android...</td>\n",
       "    </tr>\n",
       "    <tr>\n",
       "      <th>1</th>\n",
       "      <td>Opened Street or Sidewalk  request via android...</td>\n",
       "    </tr>\n",
       "    <tr>\n",
       "      <th>2</th>\n",
       "      <td>Just posted a photo @ Cliff House, San Francis...</td>\n",
       "    </tr>\n",
       "    <tr>\n",
       "      <th>3</th>\n",
       "      <td>Search for bank robbery suspect shuts down Hig...</td>\n",
       "    </tr>\n",
       "    <tr>\n",
       "      <th>4</th>\n",
       "      <td>Opened Graffiti request via android at 4134 Mi...</td>\n",
       "    </tr>\n",
       "    <tr>\n",
       "      <th>5</th>\n",
       "      <td>Opened Street or Sidewalk  request via iphone ...</td>\n",
       "    </tr>\n",
       "    <tr>\n",
       "      <th>6</th>\n",
       "      <td>Closed Graffiti request at Intersection of Bra...</td>\n",
       "    </tr>\n",
       "    <tr>\n",
       "      <th>7</th>\n",
       "      <td>William Rhodes's work call for Beauty @ Root D...</td>\n",
       "    </tr>\n",
       "    <tr>\n",
       "      <th>8</th>\n",
       "      <td>#DarkestPossibleTimeline https://t.co/AglO5D5hNx</td>\n",
       "    </tr>\n",
       "    <tr>\n",
       "      <th>9</th>\n",
       "      <td>Opened Street or Sidewalk  request via android...</td>\n",
       "    </tr>\n",
       "    <tr>\n",
       "      <th>10</th>\n",
       "      <td>Can you recommend anyone for this #job? Retail...</td>\n",
       "    </tr>\n",
       "    <tr>\n",
       "      <th>11</th>\n",
       "      <td>We're #hiring! Click to apply: Expanding SF Re...</td>\n",
       "    </tr>\n",
       "    <tr>\n",
       "      <th>12</th>\n",
       "      <td>I'm at @Benihana in San Francisco, CA w/ @drew...</td>\n",
       "    </tr>\n",
       "    <tr>\n",
       "      <th>13</th>\n",
       "      <td>I'm at Lafayette Park in San Francisco, CA htt...</td>\n",
       "    </tr>\n",
       "    <tr>\n",
       "      <th>14</th>\n",
       "      <td>hannemurphy loves me. 😍 @ Nopasf https://t.co/...</td>\n",
       "    </tr>\n",
       "    <tr>\n",
       "      <th>15</th>\n",
       "      <td>Opened Homeless Concerns request via android a...</td>\n",
       "    </tr>\n",
       "    <tr>\n",
       "      <th>16</th>\n",
       "      <td>Want to work at Kindred Healthcare? We're #hir...</td>\n",
       "    </tr>\n",
       "    <tr>\n",
       "      <th>17</th>\n",
       "      <td>We're #hiring! Click to apply: Account Managem...</td>\n",
       "    </tr>\n",
       "    <tr>\n",
       "      <th>18</th>\n",
       "      <td>TEST_LAT/LON: bfb6a97f-2e49-45f7-82e3-83a40fd6...</td>\n",
       "    </tr>\n",
       "    <tr>\n",
       "      <th>19</th>\n",
       "      <td>新年快乐! Our cravings for #dumplings &amp;amp; #dimsu...</td>\n",
       "    </tr>\n",
       "  </tbody>\n",
       "</table>\n",
       "</div>"
      ],
      "text/plain": [
       "                                                 text\n",
       "0   Opened Street or Sidewalk  request via android...\n",
       "1   Opened Street or Sidewalk  request via android...\n",
       "2   Just posted a photo @ Cliff House, San Francis...\n",
       "3   Search for bank robbery suspect shuts down Hig...\n",
       "4   Opened Graffiti request via android at 4134 Mi...\n",
       "5   Opened Street or Sidewalk  request via iphone ...\n",
       "6   Closed Graffiti request at Intersection of Bra...\n",
       "7   William Rhodes's work call for Beauty @ Root D...\n",
       "8    #DarkestPossibleTimeline https://t.co/AglO5D5hNx\n",
       "9   Opened Street or Sidewalk  request via android...\n",
       "10  Can you recommend anyone for this #job? Retail...\n",
       "11  We're #hiring! Click to apply: Expanding SF Re...\n",
       "12  I'm at @Benihana in San Francisco, CA w/ @drew...\n",
       "13  I'm at Lafayette Park in San Francisco, CA htt...\n",
       "14  hannemurphy loves me. 😍 @ Nopasf https://t.co/...\n",
       "15  Opened Homeless Concerns request via android a...\n",
       "16  Want to work at Kindred Healthcare? We're #hir...\n",
       "17  We're #hiring! Click to apply: Account Managem...\n",
       "18  TEST_LAT/LON: bfb6a97f-2e49-45f7-82e3-83a40fd6...\n",
       "19  新年快乐! Our cravings for #dumplings &amp; #dimsu..."
      ]
     },
     "execution_count": 123,
     "metadata": {},
     "output_type": "execute_result"
    }
   ],
   "source": [
    "df_text_filtered = df_text.replace(to_replace =\"Cleaning\", value =\"\", regex=True)\n",
    "df_text_filtered.head(20)"
   ]
  },
  {
   "cell_type": "markdown",
   "metadata": {},
   "source": [
    "Now we trying to input the data after filtered into classifier."
   ]
  },
  {
   "cell_type": "code",
   "execution_count": 126,
   "metadata": {},
   "outputs": [
    {
     "name": "stderr",
     "output_type": "stream",
     "text": [
      "D:\\Anaconda3\\envs\\py36\\lib\\site-packages\\sklearn\\feature_extraction\\text.py:1015: FutureWarning: Conversion of the second argument of issubdtype from `float` to `np.floating` is deprecated. In future, it will be treated as `np.float64 == np.dtype(float).type`.\n",
      "  if hasattr(X, 'dtype') and np.issubdtype(X.dtype, np.float):\n"
     ]
    }
   ],
   "source": [
    "# running the classifier\n",
    "tob_preds_filtered = clf_tob.predict(df_text_filtered)"
   ]
  },
  {
   "cell_type": "code",
   "execution_count": 127,
   "metadata": {},
   "outputs": [
    {
     "name": "stdout",
     "output_type": "stream",
     "text": [
      "NOT-Tobacco: 87665 Tobacco: 99\n"
     ]
    }
   ],
   "source": [
    "# finding out how many tweets there were in each group\n",
    "# numpy.unique(tob_preds, return_counts=True)\n",
    "print(\"NOT-Tobacco:\", np.unique(tob_preds_filtered, return_counts=True)[1][0],\n",
    "      \"Tobacco:\",np.unique(tob_preds_filtered, return_counts=True)[1][1])"
   ]
  },
  {
   "cell_type": "code",
   "execution_count": 128,
   "metadata": {},
   "outputs": [
    {
     "data": {
      "text/plain": [
       "99"
      ]
     },
     "execution_count": 128,
     "metadata": {},
     "output_type": "execute_result"
    }
   ],
   "source": [
    "indexTobacco_filtered = np.where(tob_preds_filtered == 'Tobacco')\n",
    "indexTobacco_filtered = indexTobacco_filtered[0].tolist()\n",
    "len(indexTobacco_filtered)\n",
    "# indexTobacco"
   ]
  },
  {
   "cell_type": "code",
   "execution_count": 138,
   "metadata": {},
   "outputs": [
    {
     "data": {
      "text/html": [
       "<div>\n",
       "<style scoped>\n",
       "    .dataframe tbody tr th:only-of-type {\n",
       "        vertical-align: middle;\n",
       "    }\n",
       "\n",
       "    .dataframe tbody tr th {\n",
       "        vertical-align: top;\n",
       "    }\n",
       "\n",
       "    .dataframe thead th {\n",
       "        text-align: right;\n",
       "    }\n",
       "</style>\n",
       "<table border=\"1\" class=\"dataframe\">\n",
       "  <thead>\n",
       "    <tr style=\"text-align: right;\">\n",
       "      <th></th>\n",
       "      <th>text</th>\n",
       "    </tr>\n",
       "  </thead>\n",
       "  <tbody>\n",
       "    <tr>\n",
       "      <th>279</th>\n",
       "      <td>Coffee and dessert. @ Nespresso Boutique &amp;amp;...</td>\n",
       "    </tr>\n",
       "    <tr>\n",
       "      <th>1538</th>\n",
       "      <td>#ChoppinGame! New year, adding new methods! @ ...</td>\n",
       "    </tr>\n",
       "    <tr>\n",
       "      <th>2186</th>\n",
       "      <td>I'm at 724 Hookah in San Francisco, CA https:/...</td>\n",
       "    </tr>\n",
       "  </tbody>\n",
       "</table>\n",
       "</div>"
      ],
      "text/plain": [
       "                                                   text\n",
       "279   Coffee and dessert. @ Nespresso Boutique &amp;...\n",
       "1538  #ChoppinGame! New year, adding new methods! @ ...\n",
       "2186  I'm at 724 Hookah in San Francisco, CA https:/..."
      ]
     },
     "execution_count": 138,
     "metadata": {},
     "output_type": "execute_result"
    }
   ],
   "source": [
    "dfTobacco_filtered = df_text_filtered.iloc[indexTobacco_filtered,]\n",
    "dfTobacco_filtered.head(3)"
   ]
  },
  {
   "cell_type": "code",
   "execution_count": 139,
   "metadata": {},
   "outputs": [
    {
     "name": "stdout",
     "output_type": "stream",
     "text": [
      "Coffee and dessert. @ Nespresso Boutique &amp; Bar https://t.co/NaIAyV0VG0\n",
      "#ChoppinGame! New year, adding new methods! @ Cigar Bar &amp; Grill https://t.co/fNE5L5rxF2\n",
      "I'm at 724 Hookah in San Francisco, CA https://t.co/Fj8DSv8hNi\n",
      "Don't buy Nestle products 🎨 #explorecalifornia #sanfrancisco #cliffhouse #california #graffiti @… https://t.co/JAvM9D2h5L\n",
      "Interesting flavor, smokey and crisp - Drinking a Smokes Mcgotes by @blackhammerbrew @ Black Hammer Brewing  — https://t.co/mCRblrl0IM\n",
      "Fresh from Cuba. Thanks @air_andrea for the gift, smoking this on my… https://t.co/T2PhdzDs2b\n",
      "I'm at Cigar Bar &amp; Grill - @850cigarbar in San Francisco, CA https://t.co/tOFw3TyqXW\n",
      "I'm off to the airport in about 12 hours. Didn't do much today except pack, clean and relax one… https://t.co/TfTVXXzH73\n",
      "Drinking a Smokes Mcgotes by @blackhammerbrew @ Black Hammer Brewing — https://t.co/K4T4UADepQ\n",
      "Headed to Bar Fluxus #SF #downtown #Bowie #singalong @kittenonthekeys 6-9 1/6/17 #cocktails @… https://t.co/BvkW3H4o4J\n",
      "Art and beer. Beer and art #madroneartbar @ Madrone Art Bar https://t.co/ujcDpPNZaX\n",
      "Drinking a Tufts Ship IPA by @BerryessaBeer at @mikkellerbarsf — https://t.co/ZdmZZXNOY5\n",
      "Smoke break. #workday #streetstyle #cityview #sanfrancisco @ Financial District, San Francisco https://t.co/drOGIKjy3t\n",
      "#ninjacats #singlikehella #dp @ The Mint Karaoke Lounge https://t.co/qbwSyEApa7\n",
      "#textured #backyard in #noevalley 4bd/3.5ba $4.64 #milliondollarlisting #sanfrancisco #luxury… https://t.co/3Dkii3810C\n",
      "Aperitivo! @ Bar Agricole https://t.co/XWZuh5CUNu\n",
      "#haightstreet #sanfrancisco #kalesocks and #records✌🏼 maryjane_z… https://t.co/Wl8GQjFfG5\n",
      "#ftr1 quick smoke break 📸: jonbgoood @ Haight-Ashbury https://t.co/fXd4gSlmRy\n",
      "♬ DEATH GUILD at DNA Lounge starting now! https://t.co/YPVoHM35W6 https://t.co/RZ8OoeiFju\n",
      "Having a drink on a Friday @ Tonga Room and Hurricane Bar https://t.co/QTni56T3TO\n",
      "About that time (@ The Occidental Cigar Club in San Francisco, CA) https://t.co/LDbFrWfdlE\n",
      "🐏🐑\n",
      "Sì perché il ciclone, quando arriva, ‘un t'avverte. Passa, piglia e porta via. E a te 'un ti… https://t.co/87ONcPi3ge\n",
      "My kind of bar...#champagnebar #petnat #naturalwine #vinnaturel #theriddlersf @ The Riddler https://t.co/jbxueTXnA9\n",
      "Feelin alive breathing the smooth fresh air that swims through my lungs with fresh sweet… https://t.co/C0omYuPf2q\n",
      "In Benicia, a flavor factory explores new territory. via Tara Duggan https://t.co/74OJTM4yr9\n",
      "☕️🌵 @ Coffee Bar https://t.co/fAMXdQPCEm\n",
      "Lit. 🌃 #sanfrancisco #twinpeaks #views #viewsfromthepeak #litcity #thebay #bayarea #city… https://t.co/ttTn3EHmHr\n",
      "Cohiba's very rare 50th anniversary edition cigar called \"Grandioso\" palconi #cohiba #cuba… https://t.co/Ce4jD82Qzu\n",
      "#coffee @ Chrome Coffee Bar powered by Cento https://t.co/CjUwcvXS1x\n",
      "Found a Cowboys bar down the street. #howaboutthemcowboys @ Bus Stop Bar https://t.co/wagB2bWEiV\n",
      "Corporate girls coffee break with han_sandwichh #friends #friendtime #catchingup #coffeebreak… https://t.co/OdfzKhhs6Q\n",
      "Bar vibes. #sf #sanfrancisco #documentary #photojournalism #reportage #haraclub #dailylife… https://t.co/aPEZVinJvZ\n",
      "\"Coffee coffee coffee coffee, coffee coffee, coffee. COFFEE. coffee coffee; coffee.. coffee.\" -… https://t.co/a2FtxAn7Qu\n",
      "Ex-judge faces sentencing trying to bribe officer with beer https://t.co/lPfyOKRxmW\n",
      "Super cool product #shelfstable #hummus comes in a kit - hummus, tahini, spices and a stirring… https://t.co/Fg4fPIwAM3\n",
      "Cigar time! (@ The Occidental Cigar Club in San Francisco, CA w/ @wolnisty) https://t.co/bqXBz7vXS2\n",
      "Mudslide causes traffic back-up in Castro Valley https://t.co/Tj6jLBgJWD\n",
      "Spent end of winter break in SF at the beach, milk bar, and trying to finish up my application… https://t.co/t6Be67Dhqs\n",
      "I'm at Cigar Bar &amp; Grill - @850cigarbar for Joe Baer Magnant in San Francisco, CA https://t.co/qSa5yzKuQ4\n",
      "#dadabar nights #latergram @ DaDa Bar https://t.co/29DPuRyaTT\n",
      "E continuamos com as missões - Stanford University e Yelp - #missionsiliconvalley… https://t.co/gGXp2BCtFD\n",
      "#shrimp #dumplings and #chicken and #mushroom dumplings for #chinesenewyear #lunarnewyear in… https://t.co/aCwbir4v8k\n",
      "On three @ Cigar Bar &amp; Grill https://t.co/As4FmNOnRH\n",
      "Belgian Golden made with Philz coffee &amp; aged in bourbon barrels. - Drinking a Bourbon Bump at @thirstybearbrew - https://t.co/hbKDpk2yUd\n",
      "I'm at 724 Hookah in San Francisco, CA https://t.co/XcY5Ri6bux\n",
      "Rain causes big pothole problems across Bay Area https://t.co/lk6NM5VAuK\n",
      "Todo piso será palco, toda parede, mural e a cidade inteira poesia!! #streetart #artederua… https://t.co/40zsQa3ALN\n",
      "On a bit of a Tiki Bar kick - from @reefboise for a fun 21st birthday party to the tongaroom. We… https://t.co/Vbx6EbFs2U\n",
      "#coffeethatdoesntsuck #ironhorsecoffeebar #coffee @ Iron Horse Coffee Bar https://t.co/jjDeR3QsqQ\n",
      "Mmmmmmm coffee and a guava/cheese pastry today :-) (@ Wildcraft Espresso Bar in San Francisco, Calif) https://t.co/jTp1wIt21h\n",
      "Shaking Beef at E &amp; O Kitchen and  Bar https://t.co/kLAZNBIuPx\n",
      "My #RideOrDie #bestfriend &amp; #bestbrother ! ❤❤❤ \n",
      "*************************\n",
      "#MySista #Mule #Nag… https://t.co/xmpY4g0P2B\n",
      "I'm at 724 Hookah in San Francisco, CA https://t.co/rxCI8psfRl\n",
      "Opened Graffiti request via android at 2790 Mission St https://t.co/EhImVR4JvB. On smoke shop. https://t.co/IsZCpfST5r\n",
      "♬ DEATH GUILD at DNA Lounge starting now! https://t.co/l74QGCB93m https://t.co/c6Zgw5zcUS\n",
      "#dinner #marina #sanfrancisco #skirt #steak #mediumrare #theusual my #goto #potatoes #cream… https://t.co/HaRD1B1uH5\n",
      "#coffee @ Chrome Coffee Bar powered by Cento https://t.co/nPXnY4nplW\n",
      "A nice tart and plum flavor. - Drinking a Mariposa by @AlmanacBeer at @thirstybearbrew  — https://t.co/yF9UND0nux\n",
      "Sobre escrever por e com prazer: muda completamente a minha rotina e, desconfio, interfere… https://t.co/RMNlUkztKU\n",
      "Drink Organic. Coffee Anyone? #kozlovstout #black #dark #draft #tapfresh #thirstybear #sf #chubs… https://t.co/J39C7V0a1m\n",
      "♬ DEATH GUILD at DNA Lounge starting now! https://t.co/8FGMtwhZy9 https://t.co/jxx1x2Elow\n",
      "#porchetta #kale #fennel #onion and #orange zest #yummy #brickovenpizza #brickoven #pizza… https://t.co/mbhYw2ihKf\n",
      "Carne asada, 🍟, and Hollandaise sauce🥄🍽. #tacos #carneasada #fries #potatoes #hollandaise… https://t.co/TkpRRzPMtr\n",
      "• W E E K E N D S 🍉 #dolorespark #sanfrancisco #view @ Mission Dolores Park https://t.co/oWA1YgQ7on\n",
      "@ysioscapital #onemoreyear #invited and #attending #healthcare… https://t.co/kSiqC85laJ\n",
      "#mementos in #myoffice in #sanfrancisco.  Of #heritagebanners or #footballhelmets and #toys, I… https://t.co/I8TyDVYDQw\n",
      "#scoring a #scarf and a #shirt #thanks miyoko_runs and @runcompetitor @runrocknroll #sf… https://t.co/p3QfX92h5J\n",
      "Level UP with these Vape Carts from Level &amp; Opus Blends. Super clean with a consistent strength.… https://t.co/CJzZu72vkq\n",
      "#traderjoes knock off of a #snickers bar and a #midnightmilkyways… https://t.co/r1Qt8sTOcK\n",
      "What the heck!! (@ The Occidental Cigar Club in San Francisco, CA w/ @wolnisty) https://t.co/NCBadX5j78\n",
      "A #sisterofmercy ,a wet room and a guinea pig in an #armless #blacklatex #bondage #suit.… https://t.co/3TOJQelWfH\n",
      "Opals and Moonstone🌙 \n",
      ".\n",
      ".\n",
      ".\n",
      "#gorgeous #opal #moonstone #chic #urban #fashion #style… https://t.co/1xX8JXSXMN\n",
      "#cigarbar #sanfrancisco #susiebutlerroundmidnight #kofytv20  1:00am @ Cigar Bar &amp; Grill https://t.co/VDfwSaCwT8\n",
      "Smoking woman #2 @ Sir Francis Drake Hotel https://t.co/E3qCn2yI51\n",
      "Mi sono messa davanti alla macchina fotografica e ho iniziato a parlare e parlare e più… https://t.co/VP7sanL5LW\n",
      "#greatselfie #murica🇺🇸 #newfwends #karaoke @ The Mint Karaoke Lounge https://t.co/U2q06p1JbD\n",
      "Drinking  The Smell by @socialbrewery at @socialbrewery — https://t.co/XvvLfbiYRS\n",
      "Cheap mini bottle wine and a sunset #basicaf #sanfrancisco… https://t.co/5QOAwZxxDl\n",
      "Meet, Earl 🖌 @ Cigar Bar &amp; Grill https://t.co/ZV1E4ZBidb\n",
      "Cool steampunk bar in the SOMA.  One cocktail before hitting Cirque du Soleil: LUZIA... https://t.co/ynDCO5qxjC https://t.co/EsFr45X8By\n",
      "In my Zone🙏⚛️🕉☯️🌸#yogalove #yogaholic #yogaaddict #yogadaily #instayoga #lotuspose #meditation… https://t.co/zVJvhpv63n\n",
      "Drinking a Speedway Stout Mokasida Coffee by @AleSmithBrewing at @craftyfoxsf — https://t.co/flDjEjCshT\n",
      "Just a cozy, romantic evening in my hotel room with @pressedjuicery freeze. Shout out to… https://t.co/QJVup7lCb4\n",
      "That time (@ The Occidental Cigar Club in San Francisco, CA w/ @rlwolnisty) https://t.co/bMMVLKTDZO\n",
      "The Sir Francis Drake Hotel. Lovely lobby and hotel bar with Sir… https://t.co/KvLg49e64U\n",
      "Killin time. (@ The Occidental Cigar Club in San Francisco, CA) https://t.co/WGSpMNQueN\n",
      "@danielcgold Cool!\n",
      "Smoking break #filmisnotdead #leicam6 #ishootfilm #agfavista #35mmfilmphotography #sanfrancisco… https://t.co/RXBJqdCELB\n",
      "Drinking a Midnight Coffee Stout by @laughingmonksf at @laughingmonksf — https://t.co/3chEuCiw2t #photo\n",
      "Sunday coffee and cake with kali_rayz ☕️ \n",
      "\n",
      "#marlabakery #sanfrancisco #coffee #cake #sunday… https://t.co/uWK2s9zF2p\n",
      "Drinking natural wine and raising money for Planned Parenthood. Good kickoff to the… https://t.co/JngvvFPPAn\n",
      "I'm at La Stazione Coffee &amp; Wine Bar - @lastazione_sf in San Francisco, CA https://t.co/v5W8XIs7rD\n",
      "smoke to forget my everythings\n",
      "Someone's had too much #coffee 😋 @ Philz Coffee - Front Street https://t.co/uUBOlG00Se\n",
      "Italian sodas for my little African Jew boys.  #ancestrydotcom @ Mario's Bohemian Cigar Store Cafe https://t.co/CWx2wl99uQ\n",
      "Favorite bar but no cigar for this girl. Grrrrrr. (@ The Occidental Cigar Club in San Francisco, CA w/ @wolnisty) https://t.co/sVizrrqO0a\n",
      "Oiii amores!! Aproveitando esse tempo pra descansar e voltar pro Brasil e pra vocês com muitas… https://t.co/sg4WRs2lo6\n",
      "More high school seniors smoke pot than tobacco #NSFWRadioClip feat. @TheLonelyWaiter music by… https://t.co/CDorPLi1G0\n",
      "Shhhh...my #secret citriburstlimepearls #wantmore @craftcarejoy @craftcarejoy #wffs17… https://t.co/1v2Vz6K3Qk\n"
     ]
    }
   ],
   "source": [
    "for i in dfTobacco_filtered.text:\n",
    "    print(i)"
   ]
  },
  {
   "cell_type": "code",
   "execution_count": 142,
   "metadata": {},
   "outputs": [
    {
     "data": {
      "text/html": [
       "<div>\n",
       "<style scoped>\n",
       "    .dataframe tbody tr th:only-of-type {\n",
       "        vertical-align: middle;\n",
       "    }\n",
       "\n",
       "    .dataframe tbody tr th {\n",
       "        vertical-align: top;\n",
       "    }\n",
       "\n",
       "    .dataframe thead th {\n",
       "        text-align: right;\n",
       "    }\n",
       "</style>\n",
       "<table border=\"1\" class=\"dataframe\">\n",
       "  <thead>\n",
       "    <tr style=\"text-align: right;\">\n",
       "      <th></th>\n",
       "      <th>features</th>\n",
       "      <th>coefficients</th>\n",
       "    </tr>\n",
       "  </thead>\n",
       "  <tbody>\n",
       "    <tr>\n",
       "      <th>19848</th>\n",
       "      <td>drinking</td>\n",
       "      <td>6.953225</td>\n",
       "    </tr>\n",
       "  </tbody>\n",
       "</table>\n",
       "</div>"
      ],
      "text/plain": [
       "       features  coefficients\n",
       "19848  drinking      6.953225"
      ]
     },
     "execution_count": 142,
     "metadata": {},
     "output_type": "execute_result"
    }
   ],
   "source": [
    "df_featuresAndCoef.loc[df_featuresAndCoef['features'] ==  'drink']"
   ]
  },
  {
   "cell_type": "code",
   "execution_count": 147,
   "metadata": {},
   "outputs": [
    {
     "data": {
      "text/html": [
       "<div>\n",
       "<style scoped>\n",
       "    .dataframe tbody tr th:only-of-type {\n",
       "        vertical-align: middle;\n",
       "    }\n",
       "\n",
       "    .dataframe tbody tr th {\n",
       "        vertical-align: top;\n",
       "    }\n",
       "\n",
       "    .dataframe thead th {\n",
       "        text-align: right;\n",
       "    }\n",
       "</style>\n",
       "<table border=\"1\" class=\"dataframe\">\n",
       "  <thead>\n",
       "    <tr style=\"text-align: right;\">\n",
       "      <th></th>\n",
       "      <th>features</th>\n",
       "      <th>coefficients</th>\n",
       "    </tr>\n",
       "  </thead>\n",
       "  <tbody>\n",
       "    <tr>\n",
       "      <th>16084</th>\n",
       "      <td>coffee</td>\n",
       "      <td>6.809538</td>\n",
       "    </tr>\n",
       "  </tbody>\n",
       "</table>\n",
       "</div>"
      ],
      "text/plain": [
       "      features  coefficients\n",
       "16084   coffee      6.809538"
      ]
     },
     "execution_count": 147,
     "metadata": {},
     "output_type": "execute_result"
    }
   ],
   "source": [
    "df_featuresAndCoef.loc[df_featuresAndCoef['features'] ==  'coffee']"
   ]
  },
  {
   "cell_type": "code",
   "execution_count": 141,
   "metadata": {},
   "outputs": [
    {
     "data": {
      "text/html": [
       "<div>\n",
       "<style scoped>\n",
       "    .dataframe tbody tr th:only-of-type {\n",
       "        vertical-align: middle;\n",
       "    }\n",
       "\n",
       "    .dataframe tbody tr th {\n",
       "        vertical-align: top;\n",
       "    }\n",
       "\n",
       "    .dataframe thead th {\n",
       "        text-align: right;\n",
       "    }\n",
       "</style>\n",
       "<table border=\"1\" class=\"dataframe\">\n",
       "  <thead>\n",
       "    <tr style=\"text-align: right;\">\n",
       "      <th></th>\n",
       "      <th>features</th>\n",
       "      <th>coefficients</th>\n",
       "    </tr>\n",
       "  </thead>\n",
       "  <tbody>\n",
       "    <tr>\n",
       "      <th>10778</th>\n",
       "      <td>bar</td>\n",
       "      <td>10.041871</td>\n",
       "    </tr>\n",
       "  </tbody>\n",
       "</table>\n",
       "</div>"
      ],
      "text/plain": [
       "      features  coefficients\n",
       "10778      bar     10.041871"
      ]
     },
     "execution_count": 141,
     "metadata": {},
     "output_type": "execute_result"
    }
   ],
   "source": [
    "df_featuresAndCoef.loc[df_featuresAndCoef['features'] ==  'bar']"
   ]
  },
  {
   "cell_type": "code",
   "execution_count": 148,
   "metadata": {},
   "outputs": [
    {
     "data": {
      "text/html": [
       "<div>\n",
       "<style scoped>\n",
       "    .dataframe tbody tr th:only-of-type {\n",
       "        vertical-align: middle;\n",
       "    }\n",
       "\n",
       "    .dataframe tbody tr th {\n",
       "        vertical-align: top;\n",
       "    }\n",
       "\n",
       "    .dataframe thead th {\n",
       "        text-align: right;\n",
       "    }\n",
       "</style>\n",
       "<table border=\"1\" class=\"dataframe\">\n",
       "  <thead>\n",
       "    <tr style=\"text-align: right;\">\n",
       "      <th></th>\n",
       "      <th>features</th>\n",
       "      <th>coefficients</th>\n",
       "    </tr>\n",
       "  </thead>\n",
       "  <tbody>\n",
       "    <tr>\n",
       "      <th>188911</th>\n",
       "      <td>wine</td>\n",
       "      <td>4.515863</td>\n",
       "    </tr>\n",
       "  </tbody>\n",
       "</table>\n",
       "</div>"
      ],
      "text/plain": [
       "       features  coefficients\n",
       "188911     wine      4.515863"
      ]
     },
     "execution_count": 148,
     "metadata": {},
     "output_type": "execute_result"
    }
   ],
   "source": [
    "df_featuresAndCoef.loc[df_featuresAndCoef['features'] ==  'wine']"
   ]
  },
  {
   "cell_type": "code",
   "execution_count": null,
   "metadata": {},
   "outputs": [],
   "source": []
  }
 ],
 "metadata": {
  "kernelspec": {
   "display_name": "Python 3",
   "language": "python",
   "name": "python3"
  },
  "language_info": {
   "codemirror_mode": {
    "name": "ipython",
    "version": 3
   },
   "file_extension": ".py",
   "mimetype": "text/x-python",
   "name": "python",
   "nbconvert_exporter": "python",
   "pygments_lexer": "ipython3",
   "version": "3.6.5"
  }
 },
 "nbformat": 4,
 "nbformat_minor": 2
}
