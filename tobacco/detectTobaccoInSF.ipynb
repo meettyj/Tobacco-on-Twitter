{
 "cells": [
  {
   "cell_type": "code",
   "execution_count": 1,
   "metadata": {},
   "outputs": [],
   "source": [
    "import os\n",
    "# os.chdir('C:/Users/eddie/Desktop/Prof. Rumi Chunara/alcohol')\n",
    "\n",
    "import pandas as pd"
   ]
  },
  {
   "cell_type": "code",
   "execution_count": 6,
   "metadata": {},
   "outputs": [],
   "source": [
    "# with open('./data/SF_tweets_2017_01.json', 'r') as f:\n",
    "with open('./data/juliana_allSF_2019_01.json', 'r', encoding='UTF-8') as f:\n",
    "#     juliana_allSF_2019_01\n",
    "    data = f.readlines()\n",
    "\n",
    "# remove the trailing \"\\n\" from each line\n",
    "data = map(lambda x: x.rstrip(), data)\n",
    "\n",
    "# each element of 'data' is an individual JSON object. I want to convert it into an *array* of JSON objects \n",
    "# which, in and of itself, is one large JSON object basically... add square brackets to the beginning\n",
    "# and end, and have all the individual business JSON objects separated by a comma.\n",
    "data_json_str = \"[\" + ','.join(data) + \"]\"\n",
    "\n",
    "df = pd.read_json(data_json_str)"
   ]
  },
  {
   "cell_type": "code",
   "execution_count": 7,
   "metadata": {},
   "outputs": [],
   "source": [
    "# df.text"
   ]
  },
  {
   "cell_type": "code",
   "execution_count": 8,
   "metadata": {},
   "outputs": [
    {
     "data": {
      "text/plain": [
       "Index(['contributors', 'coordinates', 'created_at', 'display_text_range',\n",
       "       'entities', 'extended_entities', 'extended_tweet', 'favorite_count',\n",
       "       'favorited', 'filter_level', 'geo', 'id', 'id_str',\n",
       "       'in_reply_to_screen_name', 'in_reply_to_status_id',\n",
       "       'in_reply_to_status_id_str', 'in_reply_to_user_id',\n",
       "       'in_reply_to_user_id_str', 'is_quote_status', 'lang', 'place',\n",
       "       'possibly_sensitive', 'quote_count', 'quoted_status',\n",
       "       'quoted_status_id', 'quoted_status_id_str', 'quoted_status_permalink',\n",
       "       'reply_count', 'retweet_count', 'retweeted', 'source', 'text',\n",
       "       'timestamp_ms', 'truncated', 'user'],\n",
       "      dtype='object')"
      ]
     },
     "execution_count": 8,
     "metadata": {},
     "output_type": "execute_result"
    }
   ],
   "source": [
    "df.columns"
   ]
  },
  {
   "cell_type": "code",
   "execution_count": 9,
   "metadata": {
    "scrolled": false
   },
   "outputs": [],
   "source": [
    "# df.head(3)"
   ]
  },
  {
   "cell_type": "code",
   "execution_count": 10,
   "metadata": {},
   "outputs": [],
   "source": [
    "allText = df.text"
   ]
  },
  {
   "cell_type": "code",
   "execution_count": 11,
   "metadata": {},
   "outputs": [],
   "source": [
    "# allText.head"
   ]
  },
  {
   "cell_type": "code",
   "execution_count": 12,
   "metadata": {},
   "outputs": [
    {
     "name": "stdout",
     "output_type": "stream",
     "text": [
      "<class 'pandas.core.series.Series'>\n",
      "288603\n"
     ]
    }
   ],
   "source": [
    "print(type(allText))\n",
    "print(len(allText))"
   ]
  },
  {
   "cell_type": "code",
   "execution_count": 13,
   "metadata": {
    "scrolled": true
   },
   "outputs": [],
   "source": [
    "smokeList = []\n",
    "smokList = [] # Include those start with 'smok' but not 'smoke' (e.g. smoking, smoky).\n",
    "cigaList = [] # Result for cigar and ciga is same\n",
    "\n",
    "marijuanaList = []\n",
    "weedList = []\n",
    "cocaineList = []\n",
    "pillList = []\n",
    "drugList = []\n",
    "\n",
    "for line in allText:\n",
    "    lowercaseLine = line.lower()\n",
    "    if 'smoke' in lowercaseLine:\n",
    "#         print(line)\n",
    "        smokeList.append(line)\n",
    "    elif 'smok' in lowercaseLine:\n",
    "        smokList.append(line)\n",
    "    if 'ciga' in lowercaseLine:\n",
    "        cigaList.append(line)\n",
    "    \n",
    "    if 'marijuana' in lowercaseLine:\n",
    "        marijuanaList.append(line)\n",
    "    if 'weed' in lowercaseLine:\n",
    "        weedList.append(line)\n",
    "    if 'cocaine' in lowercaseLine:\n",
    "        cocaineList.append(line)\n",
    "    if 'pill' in lowercaseLine and 'spill' not in lowercaseLine and 'pillow' not in lowercaseLine:\n",
    "        pillList.append(line)\n",
    "    if 'drug' in lowercaseLine:\n",
    "        drugList.append(line)\n",
    "    \n",
    "    \n",
    "    "
   ]
  },
  {
   "cell_type": "code",
   "execution_count": 14,
   "metadata": {},
   "outputs": [
    {
     "name": "stdout",
     "output_type": "stream",
     "text": [
      "smokeList: 326 items\n",
      "smokList: 125 items\n",
      "cigaList: 64 items\n",
      "\n",
      "marijuanaList: 44 items\n",
      "weedList: 219 items\n",
      "cocaineList: 31 items\n",
      "pillList: 110 items\n",
      "drugList: 336 items\n"
     ]
    }
   ],
   "source": [
    "print('smokeList: %d items' %(len(smokeList)))\n",
    "print('smokList: %d items' %(len(smokList)))\n",
    "print('cigaList: %d items' %(len(cigaList)))\n",
    "\n",
    "print()\n",
    "print('marijuanaList: %d items' %(len(marijuanaList)))\n",
    "print('weedList: %d items' %(len(weedList)))\n",
    "print('cocaineList: %d items' %(len(cocaineList)))\n",
    "print('pillList: %d items' %(len(pillList)))\n",
    "print('drugList: %d items' %(len(drugList)))\n",
    "\n"
   ]
  },
  {
   "cell_type": "markdown",
   "metadata": {},
   "source": [
    "Take a look at smokList:"
   ]
  },
  {
   "cell_type": "code",
   "execution_count": 15,
   "metadata": {},
   "outputs": [
    {
     "data": {
      "text/plain": [
       "['a real failure that we’re gonna let men be the ones to take smoky eye to its peak, but other than that I’m feeling… https://t.co/5ju2wL1zFb',\n",
       " '@sanfranciscobAJ @BistAmbika #sittingisthenewsmoking',\n",
       " 'Why she wasting the weed like that and smoking it like that!!!!',\n",
       " '@ananavarro On second thought.. I am not so sure I want what he is smoking... Maybe it’s in the fertilizer?',\n",
       " \"@CVRAMELL @LaBeautyologist Smokin'!\",\n",
       " '@zachheltzel You certainly are a handsome guy! Just stay away from smoking and drugs and you should hold together f… https://t.co/WP26124RVh',\n",
       " '@victorrleonard can easily make the same 1 mill smoking 😂',\n",
       " \"in case you weren't aware: smoking weed is very cool and fun\",\n",
       " 'I love you @ilovesmokingmid',\n",
       " 'Moe Greens on Market - best smoking lounge in SF',\n",
       " 'Smoking woods isn’t a personality trait',\n",
       " 'Stop smoking weed',\n",
       " '@CobainLaflare And SMOKING DOPE',\n",
       " '@SmokingSkeleton Sorry.',\n",
       " '@CyrusMMcQueen Years of chain smoking and boozing.',\n",
       " '@goosebintch @zoe_purcell @ilovesmokingmid My soulmate is @goosebintch',\n",
       " 'these are the days I’m happy I chose SF over Chicago 😳 people are dying and the lake is ‘smoking’.. I can’t https://t.co/ymq6EHMrex',\n",
       " 'The next question that needs answering - how harmful is smoking e cigarettes vs. not smoking at all?    https://t.co/pBIUkvG5yJ #juul',\n",
       " 'This gives a good, balanced overview of the new RCT showing positive results for #ecigs in adult smoking cessation.… https://t.co/aRfxMvFVHV',\n",
       " '@BogantesEduardo Oh you’re smoking crack crack',\n",
       " \"@SmokingSkeleton Oh shit I'm pregnant.\",\n",
       " 'Smokin layups😂',\n",
       " '@calipeachy @laurenzagram He spent too much time smokin blunts in the green room. He was messy',\n",
       " 'note to self 🎧 Chainsmoking by @MrJacobBanks on @PandoraMusic https://t.co/Tc4WkjOlC2',\n",
       " 'I was out back smoking and my neighbor was listening to Fleetwood Mac’s Rumours and holy shit, this guy was kind of killing it',\n",
       " 'I’m smoking a joint that has kief sprinkled through it and is twaxed with more kief on the wax',\n",
       " '@SmokinHot4Life @SophieASlut @tterb1407 @SccsMR @lee_ecclestone @b0rn2tease @absoluteukbabes @bikini_friday… https://t.co/HvfeCRzmQ3',\n",
       " '@SMDKyrie @Prime_LeBron23 @JetsLuvaLovers @Jumpman23 You smoking nuts',\n",
       " 'Smoking inside a shut down bar is chicken soup for the soul',\n",
       " 'Nigga smoking meth',\n",
       " '@Farrier105 @with_integrity @boone_jo @Consortiumnews The smoking gun is unfortunately missing and we just don’t kn… https://t.co/3GGLFu8qv5',\n",
       " 'Bunch of people smoking marijuana on  @SFBART 😔 SF is too degenerate for my liking #SFBayArea',\n",
       " '“Avoidance of sun exposure is a risk factor of a similar magnitude as smoking, in terms of life expectancy.” https://t.co/pzXUC5tc8x',\n",
       " '@pdacosta Which is why Michael Cohen and Lanny Davis lie about Prague. They know it is THE smoking gun',\n",
       " 'Ain’t nothing like smoking cookies from the bay, best in the world on god',\n",
       " 'Sausage Party Sundays at Local means $2 off all sausages and Lil’ Smokies specials — plus unlimited supply of beer… https://t.co/8p3umU1tuH',\n",
       " '@Madonna What is with this smoking? Love you forever!',\n",
       " 'Sabrina &amp; I made a deal to stop drinkin and me to stop smokin starting tm... welp looks like I’m gettin mad turnt tn🤷🏽\\u200d♀️',\n",
       " 'Fuck The Roc. I’m just gonna continue smoking my hookah n moving lowkey 😒',\n",
       " 'Days like these i just wanna be in bed smoking a blunt',\n",
       " 'No weed smoking this week',\n",
       " 'I literally had 6 different dreams last night. Not smoking is fucking with me.',\n",
       " '@Sami83858560 Damnit your smokin hot',\n",
       " 'smoking a blunt/joint on your story just makes you look like a tool, sorry to break it to yal',\n",
       " '@SteveMcNY @fud31 I find it also  ironic that we preached the dangers of cigarette smoking and now that revenue fro… https://t.co/nKivjUbWMg',\n",
       " '@fraying clearly he hasn’t spent the requisite 10k hours smoking weed to have an worthwhile opinion.',\n",
       " 'smoking music - Reeds gallery https://t.co/ZEwNZ8VcOI via @ArtPal',\n",
       " 'Lol just seen a cop smoking weed out of his patrol car 😂😂',\n",
       " '@womangale i don’t really fuck w edibles like that ☹️ plus i enjoy the act of smoking 😭',\n",
       " '@thekosmokat ill take you to my favourite food places !',\n",
       " '@thekosmokat come to san francisco mann',\n",
       " 'wish my friends were here so i could drag them from dive bar to dive bar smoking j’s in between',\n",
       " '@thekosmokat ok! i know really good places for that !',\n",
       " 'Bitch today I’m cleaning my whole house done , getting my nails done, doing a face mask, and smoking a blunt. Of fu… https://t.co/EFA5kinuI3',\n",
       " '@ABC @matthewjdowd What kind of crack IZ you awl SMOKIN’????? \\n\\nNah.\\n\\nYOU should apologize for writing this wack az… https://t.co/rWYk8OVw8R',\n",
       " 'bro I stopped smoking weed and I’ve never pressed more motherfuckers in my life. Swear that shit made me too dumb t… https://t.co/VRxLTilbHt',\n",
       " 'As I\\'m chainsmoking, #hip: \"...cigarettes, what do they give you? It\\'s like a bandage over an infected wound..\"',\n",
       " 'Did my first take on Bandersnatch after smoking. I’m gonna watch it on default and then who wants to join for me my third attempt?',\n",
       " '@jimrome Nooch smoking dope and  talking shit like Lane Kiffin. Too bad he’s wrong',\n",
       " '@Evanish “Eating an egg is like smoking 20 cigarettes!!!”\\n\\nOr some shit like that.',\n",
       " 'Smoking a blunt and watching the NFL playoffs is a must ..',\n",
       " '#foodiechap🍴🍷🎤\\n#BottleRock2019 IS “SMOKIN’ “\\n2019 music line-up is announced &amp; single day tickets NOW on sale.\\nCHEF… https://t.co/yYGc3Yg9rp',\n",
       " 'This man really smoking on the bus!! Like do you not see the kids on the bus...',\n",
       " 'i call work to tell them i ain’t coming and they tell me i needa stop smoking lol',\n",
       " 'Sneak preview!!!!\\n\\nSmoking Disney Princess at @BloomRoomSF coming soon. \\n\\nCome visit and check out your favorite Pr… https://t.co/1XBKsXsP9T',\n",
       " 'I gotta learn how to save my weed I stay smoking that shit too fast then act surprised when it’s all gone😭 #SendHelp',\n",
       " '@mirchagalib @AMIT_GUJJU @free_thinker @SmokingSkills_ Ankur Pandey ki .......da',\n",
       " '@pornobobbie @KayleighCoxx84 @kinkdotcom Smokin classy',\n",
       " 'Okay I hate the type of person who post about weed and smoking 24/7...like don’t you got a job? School? Chores?!? N… https://t.co/Xs2vtoMk54',\n",
       " 'So I was walking and some guy stopped me to ask if I wanted some of the cigarettes he was smoking and I was like na… https://t.co/xSv02zcV7n',\n",
       " 'Jimmy picking up the joint after smoking the layup😂😂',\n",
       " 'i love the feeling of smoking with your roomate for the first time',\n",
       " 'What’s the difference between burning money and smoking weed?',\n",
       " \"@SenTedCruz i don't know hat you're smoking but you aint right in the head. I just watched your appearance on Meet… https://t.co/djcL0McGrk\",\n",
       " 'If you ain’t got no Bs you don’t needa be smoking',\n",
       " '@dreamsforchng @SmokingMammal The first thing I tell folks is about the “respect” rule. We have that same rule at o… https://t.co/bWCBFpvtze',\n",
       " 'hell nah my cuddie put me on them bks cause im not smokin them or no harsh ass fronto leaf 😂😂😂😂😂',\n",
       " '@DanaSchwartzzz \"she\\'s probably outside sitting on the curb, chain smoking, waiting for me to come out, just like the day I was born\"',\n",
       " 'You can buy recreational weed at any corner, but alternate smoking like vape...',\n",
       " 'Saw an anti-smoking ad on a taxi that mentioned Juul specifically',\n",
       " '@DearAuntCrabby This is one of many smoking guns.',\n",
       " '@ChrisHayner @TheSmokingManX @TheDaveKlein @saikocat @NeilGortz @tamoorh I wanna go home and watch all of these RIGHT NOW',\n",
       " '@tamoorh @TheSmokingManX holy crap I’m using this for everything',\n",
       " 'This resort smoking dope if they think I’m paying 150 for one days lift ticket..imma stay my ass in this comfy cabin',\n",
       " 'this weekend my friends pointed at an old lady at the bar who was smoking a juul and hitting on a guy that was prob… https://t.co/Kzjfl2x6OV',\n",
       " 'Smoking through a Pringles can',\n",
       " 'Smoking too much indica got me in da couch',\n",
       " 'San Francisco ::  The Daystarter: Child drowning spike in Hillsborough; Adding beaches to state’s no-smoking list;… https://t.co/jS7qTqbusx',\n",
       " '@nextdoornurs3 Smoking hottt',\n",
       " \"@MuslimIQ SMOKIN'!!!!!\",\n",
       " 'Today’s my last day smoking !! https://t.co/UvGcfadvbN',\n",
       " 'Starting the new year by smoking crack &lt;3',\n",
       " 'I love smoking while watching @JeffreeStar 💕',\n",
       " 'smoking on gushers &amp; strawberry cough 💨',\n",
       " '@Jean_Scott_xxx Smokin sexy',\n",
       " 'New Years resolutions:\\nDrink more\\nStart smoking\\nDon’t workout\\nSleep in more\\nEat only carbs\\nMake least amount of mon… https://t.co/G6KEaY3ED4',\n",
       " 'yesterday, within the hour of being in SF, I had succumbed to my New Year’s promise of not getting a pen + smoking… https://t.co/FpxWHu6Vfd',\n",
       " 'Why is the guy from high school who bullied me for playing WoW and for not smoking weed at a party once waving at me on Facebook',\n",
       " '😂😂😂damn what you smokin?',\n",
       " '@KateySagal Stop smoking',\n",
       " 'Have you tried #TheBird? #Spicy. #Smoky. @ The Bird https://t.co/60Yg6tB4Tk',\n",
       " 'Don’t think you will be cool to be around people who are still drinking, and smoking regularly like it’s such an avoidable trigger',\n",
       " 'My God, somebody at @BBC is smoking some good shit!  I suggest they switch from richly outrageous dreams for rich t… https://t.co/8p4WA8SRUA',\n",
       " 'My God, Somebody in the @TwitterUK Government is smoking some good shit!  Switch richly outrageous dreams for rich… https://t.co/OWTASMrYZD',\n",
       " 'Oh you smoking dick DICK lmfaoooo get tf outta here',\n",
       " \"@juliey4 ok cool cool have you ever tried *vaporizing* tho, because let me tell you, it's NOT the same as smoking... https://t.co/QRcIsehLja\",\n",
       " '“Oh my god is she smoking weed?!?”\\n\\n- “Shut the fuck up, Bryce”\\n\\nHow these conversations should go, in my head',\n",
       " '@786Voice Smh . What happened to just smoking weed in a joint or off a bong lol',\n",
       " 'Does this mean the possibility of the creation of the artisanal “smoky” doughnuts varietal to match its coffee and… https://t.co/b0gCzS47Yg',\n",
       " 'So who’s smoking w me after work',\n",
       " '@bear1378 You remember them trying to sleep with you ??? 😂😂😂😂😂 &amp; how devastated Jess Aunty was 😂😂😂😂😂 &amp; then smoking on the roof lol haha',\n",
       " 'I stopped smoking weed for the last few days and I really be living my best life like damn 😭',\n",
       " 'Honestly Prague is the only city where I have spent most of my time there in smoky bars and restaurants and still f… https://t.co/lV8uDUOHNJ',\n",
       " '@JC1053 Smoking, oven or sous vide?',\n",
       " 'Smoking a bowl, cooking veggies, topless, living in one of the most beautiful cities in the world.\\nI am exactly where i want to be.',\n",
       " 'This nigga smoking cigs like this I know he stressin',\n",
       " 'Drinking lean and smoking weed pure retardation. You drinking a cough suppressant then inhaling something that make… https://t.co/XU8KmBMFGP',\n",
       " 'This lil pot head is smoking one.😈\\nThinking of all the dirty things future Daddy would have me doing.❤️ #Dreaming… https://t.co/IWFHdU4qyp',\n",
       " 'I’m so high in here, been smokin’ on this weed',\n",
       " 'Dude smoking a stoggie in the stu lmaooooo',\n",
       " \"i been smoking this fronto leaf n it aint all that bad it's kinda harsh but it aint lemme put tha blunt out im finn… https://t.co/r6TQsjWa8I\",\n",
       " 'Catching flights, smokin crack pipes https://t.co/edPpj0DZBO',\n",
       " '✨Flawless complexion + subtle smoky-eye look✨ #avedamakeup created by our talented esti intro class!\\n•\\n•\\n•… https://t.co/e5VR9RAwGr',\n",
       " 'This guy is deadass smoking crack in the seat across the aisle for me. The shit you see on @SFBART amazes me sometimes 😱😂🤦🏾\\u200d♀️',\n",
       " 'They smoking sum medium😂😂']"
      ]
     },
     "execution_count": 15,
     "metadata": {},
     "output_type": "execute_result"
    }
   ],
   "source": [
    "smokList"
   ]
  },
  {
   "cell_type": "markdown",
   "metadata": {},
   "source": [
    "Take a look at cigaList:"
   ]
  },
  {
   "cell_type": "code",
   "execution_count": 16,
   "metadata": {
    "scrolled": true
   },
   "outputs": [
    {
     "data": {
      "text/plain": [
       "['There needs to be more cigar/tobacco shops in #SF and less bong shops. Bong shops are a dime a dozen here. (@ Twili… https://t.co/WhSC9gkaU6',\n",
       " 'how many cigarettes can one smoke before an interview without dying.',\n",
       " '“Time takes a cigarette puts it in your mouth. You pull on your finger, then another finger then cigarette. The wal… https://t.co/adkGtBiUn7',\n",
       " 'Cigarettes should have a $5 deposit per cigarette butt. This would solve many problems.',\n",
       " 'Cigarettes should have a $1 deposit',\n",
       " \"People think I read labels only for nutrition (like Paula Deen..); now I'm all about a 4th stick of butter every no… https://t.co/KWeaD8cigA\",\n",
       " 'I find it funny that some people don’t want their kids around weed smoke, but go around and smoke cigarettes around them.',\n",
       " 'cigarettes fuckin stink',\n",
       " 'i haven’t had a cigarette in three days, dare me to tweet?',\n",
       " 'i only had one or two cigarettes a day, at night after arrow went to bed, but quitting is still extremely hell beca… https://t.co/5ZSoCLTbRn',\n",
       " '\"Untitled\" #streetphotography #street #photography #original #sanfrancisco #cigarette #bubbles #smoker #unionsquare https://t.co/BBD5lwWNGz',\n",
       " '@Adriibaabby @raquelephant Bring back some canacigars 😢',\n",
       " 'The next question that needs answering - how harmful is smoking e cigarettes vs. not smoking at all?    https://t.co/pBIUkvG5yJ #juul',\n",
       " 'Don’t smoke cigars but might try this one https://t.co/WkgH9Pqfbi',\n",
       " 'I just chainsmoked five cigarettes #qiqi #stop',\n",
       " \"Sitting in traffic  the day of the women's march: \\nguy in the car in front of us got out to have a cigarette. His g… https://t.co/58K9b1XzKl\",\n",
       " 'Drinking a Coffee &amp; Cigarettes by @cellarmakerbeer at @cellarmakerbeer — https://t.co/uruwa6ao8T',\n",
       " '@pachkacigaret thanks for the .0001 xmr',\n",
       " \"Why are so many people still sucking on cigarettes? It's like they're sending smoke signals up to death.\",\n",
       " '@LuvAfterLockup I know Scott is dumb as hell but Lizzie is trash for having a cigarette in her hand while be proposed to. #LoveAfterLockup',\n",
       " 'my high school coworker asked to bum a cigarette off me and I gave him a wholeass lecture on why he shouldn’t be sm… https://t.co/UuwB9OE2sG',\n",
       " 'Chillin’ with my man #cigarbar @ Cigar Bar &amp; Grill https://t.co/Wi2AP4FKc3',\n",
       " '@NathanErbland It amazes me that we declared cigarettes a cancer agent but do not consider marijuana a carcinogen.… https://t.co/H21wP5rTNz',\n",
       " 'i haven’t smoked a cigarette in 9 mf days',\n",
       " '@SteveMcNY @fud31 I find it also  ironic that we preached the dangers of cigarette smoking and now that revenue fro… https://t.co/nKivjUbWMg',\n",
       " 'She lights two cigarettes',\n",
       " '@AndrwHouse Um, whatever was super flammable in the dumpster that burst into flame when I flipped my cigarette butt… https://t.co/IeHnj8NuUd',\n",
       " 'Remember when @Benioff said Facebook should be regulated like the cigarette industry? Yep @sherylsandberg was not t… https://t.co/7bD9eKdmkt',\n",
       " 'It’s day three with no cigarettes. Am I a cranky bitch? Yes. Do I want a smoke? Yes? Am I going to buy a pack? No.',\n",
       " '#Repost creamhaze with get_repost\\n・・・\\nWeed cigar! 🔥 Tag a friend!👇🏻\\n➖➖➖➖➖➖➖➖➖➖➖➖➖➖\\nFollow creamhaze for more! ☘️\\n🔥D… https://t.co/EBiHKIHacK',\n",
       " 'As I\\'m chainsmoking, #hip: \"...cigarettes, what do they give you? It\\'s like a bandage over an infected wound..\"',\n",
       " '@Evanish “Eating an egg is like smoking 20 cigarettes!!!”\\n\\nOr some shit like that.',\n",
       " 'I hate inhaling second hand smoke especially if it’s from cigarettes',\n",
       " '@EddyElfenbein My sister went from 1 pack of cigarettes per day in December to NONE this month because of Juul. Ass… https://t.co/wg73ysUsKH',\n",
       " 'Cigar.... !!',\n",
       " 'I want hippie love, future sex,\\n5am French cigarettes\\nOkay. Okay!\\nOh, que sera sera!',\n",
       " 'So I was walking and some guy stopped me to ask if I wanted some of the cigarettes he was smoking and I was like na… https://t.co/xSv02zcV7n',\n",
       " '10 minutes in the freezer, 35 pushes on your stomach, 6 cigars, 12 hot dogs=714 HR. Also, wtf is this?',\n",
       " '@DanaSchwartzzz \"...have you ever put a cigar out on Gilbert Godfrey\\'s neck? Well, I have, and his screams were the… https://t.co/mwEJKFtWKk',\n",
       " 'Which have I quit more times, grindr or cigarettes?',\n",
       " '@ellaceron @eiffeltyler *takes long drag of cigarette* I’ve been on these streets a long time. I should’ve known better.',\n",
       " 'The Cigarette Man @ San Francisco, California https://t.co/czyJYhaokS',\n",
       " 'What if waste could be processed.\\nLapDock.   Stale (smoke a cigarette)\\n2nd layer San Francisco. (Material)\\nConsorti… https://t.co/JA9Qgc4A6j',\n",
       " 'What if waste could be processed.\\nLapDock.   Stale (smoke a cigarette)\\n2nd layer San Francisco. (Material)\\nConsorti… https://t.co/dEZthKwdUJ',\n",
       " 'More pictures from last night, ending at the Cigar Bar toasting to the New Year #newyearseve #sanfrancisco… https://t.co/vFay4kibZX',\n",
       " 'More pictures from last night, ending at the Cigar Bar toasting to the New Year #newyearseve #sanfrancisco… https://t.co/Xit2WJv9FM',\n",
       " 'My momma said she finna die wit out cigarettes girl. 😒',\n",
       " 'Wow they really stopped sellin cigarettes America on sum nut shit bitch u still got crack n pcp out ina damn streets u hoes.',\n",
       " 'My legislation would offer credits for psychedelic therapist to break user addiction\\n\\nRequire all cigarette manufac… https://t.co/i57Jh2TxpY',\n",
       " 'Não usem cigarro, usem maconha',\n",
       " 'People tossing cigarette butts in the street. #rage\\n\\nhttps://t.co/NomXOt0GPP',\n",
       " 'Aino called me ready 2 flip tf out cuz the person at the gas station would seek her cigarettes 😂😂😂I’m like BITCH THEY STOPPED SELLIN EM😭',\n",
       " 'Smoked a cigarette before getting into a lyft and I feel so DIRTY LOL',\n",
       " 'I smoke cigarettes and know it’s nasty but HOW in the world do people smoke with all their car window up? Like do y… https://t.co/8IWOkXchjt',\n",
       " 'if your good friends are making you reconsider trying cigarettes again are they rly your good friends?',\n",
       " 'Sugar really becoming the new cigarettes',\n",
       " 'been rolling my own cigarettes recently n ive honestly never felt cooler',\n",
       " '@MatPaciga At least there is a helpful naming convention for rust belt, legacy e-commerce platforms.',\n",
       " 'Baking student Jay cranking out cigarettes on the chocolate station! 👏🏼👏🏼 @ City College of San Francisco Downtown… https://t.co/JhH8K57MGu',\n",
       " 'this is an open invitation for anyone to punch me if they see me with a cigarette',\n",
       " 'So no riots in San Francisco over menthol cigarette ban? I guess everyone has secured alternate sources. ‘Cause the… https://t.co/afvSckZoby',\n",
       " 'I need a cigarette',\n",
       " '@erinthibeau @_Nefertitties @ArielDumas Not being rude, but you know that the first case are cigarettes, right?',\n",
       " 'I haven’t smoked a cigarette in 549 days, I’m usually fine. Every once in a while the craving will come HARD out of… https://t.co/RkBPbnERX9']"
      ]
     },
     "execution_count": 16,
     "metadata": {},
     "output_type": "execute_result"
    }
   ],
   "source": [
    "cigaList"
   ]
  },
  {
   "cell_type": "markdown",
   "metadata": {},
   "source": [
    "If we search cigarette in above result, the number is too less (only 1). Also we can notice the cigar are always occurs with word \"bar\" or \"club\".."
   ]
  },
  {
   "cell_type": "code",
   "execution_count": 17,
   "metadata": {},
   "outputs": [],
   "source": [
    "allList = []\n",
    "allList.extend(smokeList)\n",
    "allList.extend(smokList)\n",
    "allList.extend(cigaList)\n",
    "allList.extend(smokeList)\n",
    "allList.extend(marijuanaList)\n",
    "allList.extend(weedList)\n",
    "allList.extend(cocaineList)\n",
    "allList.extend(pillList)\n",
    "allList.extend(drugList)\n",
    "\n",
    "# Remove duplicated item in allList\n",
    "allList = list(set(allList))"
   ]
  },
  {
   "cell_type": "code",
   "execution_count": 18,
   "metadata": {},
   "outputs": [
    {
     "name": "stdout",
     "output_type": "stream",
     "text": [
      "allList: 1171 items\n",
      "The percentage of drug/smoke related tweets in entire 288603 tweets is 0.405748%\n"
     ]
    }
   ],
   "source": [
    "print('allList: %d items' %(len(allList)))\n",
    "percentage = len(allList)/len(allText)*100\n",
    "print('The percentage of drug/smoke related tweets in entire %d tweets is %f%%' %(len(allText), percentage))"
   ]
  },
  {
   "cell_type": "markdown",
   "metadata": {},
   "source": [
    "For drug/smoke related tweets, it includes keywords like 'smoke', 'ciga', 'marijuana', 'weed', 'cocaine', 'pill' and 'drug'. Cannot find any tweet contain keyword 'tobacco'."
   ]
  },
  {
   "cell_type": "markdown",
   "metadata": {},
   "source": [
    "Compared to the training set used in alcohol classifier, they got:\n",
    "\n",
    "allList: 346 items\n",
    "\n",
    "The percentage of drug/smoke related tweets in entire 15651 tweets is 2.210721%.\n",
    "What we got here is even much more less."
   ]
  },
  {
   "cell_type": "markdown",
   "metadata": {},
   "source": [
    "----------------------------------------------------------------------------------------------------------------\n",
    "Now we want to detect the propotion of hookah."
   ]
  },
  {
   "cell_type": "code",
   "execution_count": 19,
   "metadata": {},
   "outputs": [
    {
     "name": "stdout",
     "output_type": "stream",
     "text": [
      "@_krystalkennedy @_Sheesha_ @51Larios human embodiment of the “it’s fine” meme https://t.co/DDgX8col6O\n",
      "#kunafa #arabicdessert #ohhowilovefood #sweet @ Cloud hookah lounge https://t.co/EqSjb8nOpK\n",
      "I Chill Harder Than You Party! 🌬💃🏻🌁🇺🇸 #LetsShakeSomeBooty #BellyDancing #MiddleEasternSheesha #MaghrebiTea… https://t.co/X90UqSBlGq\n",
      "@ashishanand @codinghorror @paulg But that says nothing about his \"insights\" into policy and change for social good… https://t.co/bR8dtuL6Pm\n",
      "@ashishanand @codinghorror @paulg I'm an entrepreneur who's a fan of his work when it comes to entrepreneurial advi… https://t.co/DcF7NiZFcM\n",
      "#shisha #hookah #oreomilkshake #lounge #cloudhookahlounge #cloudhookah @ Cloud hookah lounge https://t.co/vyIMa1P935\n",
      "Fuck The Roc. I’m just gonna continue smoking my hookah n moving lowkey 😒\n",
      "@FreeReignsOwn Facts a. I know bad bitches fucking For  some pizza and Hookah..i think he was just a Bozo.\n",
      "San Francisco ::  S.F. tobacco law’s impact on hookah bars is cloudy — even though they’re legal - San Francisco Ch… https://t.co/7GoXR56yTA\n",
      "For the whole month of January no alcohol, hookah or video games.\n",
      "Been in the mood for some hookah\n",
      "@ashishanand Thank you Ashish!!\n",
      "hookahList: 12 items\n"
     ]
    }
   ],
   "source": [
    "hookahList = []\n",
    "# print(len(allText))\n",
    "\n",
    "for line in allText:\n",
    "    lowercaseLine = line.lower()\n",
    "    if 'hookah' in lowercaseLine:\n",
    "        print(line)\n",
    "        hookahList.append(line) \n",
    "    elif 'hooka' in lowercaseLine:\n",
    "        print(line)\n",
    "        hookahList.append(line)\n",
    "    elif 'shisha' in lowercaseLine:\n",
    "        print(line)\n",
    "        hookahList.append(line)\n",
    "    elif 'sheesha' in lowercaseLine:\n",
    "        print(line)\n",
    "        hookahList.append(line)\n",
    "    elif 'narghile' in lowercaseLine:\n",
    "        print(line)\n",
    "        hookahList.append(line)\n",
    "    elif 'steam pipe' in lowercaseLine:\n",
    "        print(line)\n",
    "        hookahList.append(line)\n",
    "\n",
    "\n",
    "print('hookahList: %d items' %(len(hookahList)))"
   ]
  },
  {
   "cell_type": "markdown",
   "metadata": {},
   "source": [
    "Not so many hookah occurs. This statistic is based on all tweet with specific geo information that post on SF in January, 2017."
   ]
  },
  {
   "cell_type": "markdown",
   "metadata": {},
   "source": [
    "---------------------------------------------------------------------------------\n",
    "Conclusion:\n",
    "\n",
    "If we only use the SF tweets data with specific geo infomation, we do not have enough data to classify hookah, cigar and kind of these class under \"other tobacco\". A direct idea is, we can go back to the all tweets that a specific user has posted, and find those tweets that appear between tweets with geo information (in this case, SF). Then we assume these tweets also appeared in San Francisco."
   ]
  },
  {
   "cell_type": "code",
   "execution_count": null,
   "metadata": {},
   "outputs": [],
   "source": []
  }
 ],
 "metadata": {
  "kernelspec": {
   "display_name": "Python 3",
   "language": "python",
   "name": "python3"
  },
  "language_info": {
   "codemirror_mode": {
    "name": "ipython",
    "version": 3
   },
   "file_extension": ".py",
   "mimetype": "text/x-python",
   "name": "python",
   "nbconvert_exporter": "python",
   "pygments_lexer": "ipython3",
   "version": "3.6.5"
  }
 },
 "nbformat": 4,
 "nbformat_minor": 2
}
