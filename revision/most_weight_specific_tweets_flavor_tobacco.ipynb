{
 "cells": [
  {
   "cell_type": "code",
   "execution_count": 1,
   "metadata": {},
   "outputs": [],
   "source": [
    "import os\n",
    "import json\n",
    "import pandas as pd\n",
    "import numpy as np\n",
    "import requests\n",
    "import time\n",
    "\n",
    "import tweepy\n",
    "\n",
    "from vaderSentiment.vaderSentiment import SentimentIntensityAnalyzer \n",
    "import re\n",
    "\n",
    "from __private import CONSUMER_API_KEY\n",
    "from __private import CONSUMER_API_KEY_SECRET\n",
    "from __private import ACCESS_TOKEN\n",
    "from __private import ACCESS_TOKEN_SECRET"
   ]
  },
  {
   "cell_type": "code",
   "execution_count": 2,
   "metadata": {
    "scrolled": true
   },
   "outputs": [],
   "source": [
    "# tweepy API\n",
    "auth = tweepy.OAuthHandler(CONSUMER_API_KEY, CONSUMER_API_KEY_SECRET)\n",
    "auth.set_access_token(ACCESS_TOKEN, ACCESS_TOKEN_SECRET)\n",
    "api = tweepy.API(auth)\n",
    "    \n",
    "def get_tweet_retweet_favorite_by_id(tweet_id):\n",
    "    try:\n",
    "        status = api.get_status(tweet_id)\n",
    "        tweet = status._json\n",
    "        retweet = tweet['retweet_count']\n",
    "        favorite = tweet['favorite_count']\n",
    "    except:\n",
    "        retweet = 0\n",
    "        favorite = 0\n",
    "    return retweet, favorite\n",
    "\n",
    "# get_tweet_retweet_favorite_by_id(726061616869961728)"
   ]
  },
  {
   "cell_type": "code",
   "execution_count": 3,
   "metadata": {},
   "outputs": [],
   "source": [
    "# sentiment analysis\n",
    "analyzer = SentimentIntensityAnalyzer()\n",
    "\n",
    "def analyzeSentimentByVader_one_sentence(sentence):\n",
    "    vs = analyzer.polarity_scores(sentence)\n",
    "\n",
    "    if vs['compound'] >= 0.05:\n",
    "        return 1 # positive\n",
    "    elif vs['compound'] <= 0.05 and vs['compound'] > -0.05:\n",
    "        return 0 # neutral\n",
    "    elif vs['compound'] <= -0.05:\n",
    "        return -1 # negative\n",
    "\n",
    "    return -2 # should not be in here"
   ]
  },
  {
   "cell_type": "code",
   "execution_count": 9,
   "metadata": {},
   "outputs": [],
   "source": [
    "# year_month_key_list = ['2016_04','2016_05','2016_06','2016_07','2016_08','2016_09','2016_10','2016_11','2016_12',\n",
    "#                        '2017_01','2017_02', '2017_03','2017_04','2017_05','2017_06','2017_07','2017_08','2017_09',\n",
    "#                        '2017_10','2017_11','2017_12', '2018_01', '2018_02', '2018_03', '2018_04', '2018_05', \n",
    "#                        '2018_06', '2018_07', '2018_08', '2018_09', '2018_10', '2018_11', '2018_12', '2019_01', \n",
    "#                        '2019_02', '2019_03', '2019_04' ]\n",
    "year_month_key_list = ['2017_10']\n",
    "file_path = \"/mnt/volume-5T/result/\""
   ]
  },
  {
   "cell_type": "code",
   "execution_count": 10,
   "metadata": {
    "scrolled": true
   },
   "outputs": [
    {
     "name": "stdout",
     "output_type": "stream",
     "text": [
      "length of tweets in month 2017_10: 27\n",
      "length of text_total_dict:  1\n",
      "length of sentiment_total_dict:  1\n",
      "sentiment_total_dict:  {'2017_10': [1, -1, -1, 0, 1, 0, 0, 0, 0, 1, 0, 0, 0, 0, 0, 1, 0, 0, 1, 0, 0, 0, 1, 1, -1, 1, 0]}\n",
      "retweet_total_dict:  {'2017_10': [0, 0, 0, 0, 0, 0, 0, 0, 0, 0, 0, 0, 0, 0, 0, 0, 0, 0, 1, 0, 0, 0, 0, 0, 0, 0, 0]}\n",
      "favorite_total_dict:  {'2017_10': [0, 0, 5, 0, 0, 10, 1, 0, 0, 0, 0, 0, 3, 0, 0, 0, 0, 0, 3, 0, 0, 0, 1, 11, 0, 3, 0]}\n"
     ]
    }
   ],
   "source": [
    "text_total_dict = {}\n",
    "text_total_dict_no_RE = {}\n",
    "sentiment_total_dict = {}\n",
    "retweet_total_dict = {}\n",
    "favorite_total_dict = {}\n",
    "\n",
    "for year_month in year_month_key_list:\n",
    "    # Wait for 20 mins\n",
    "#     time.sleep(1200)\n",
    "    \n",
    "    # e-cigarette\n",
    "#     file_name = 'juliana_SF_allECigarette_'+year_month+'_categoryKeyWord.json'\n",
    "    \n",
    "    # tobacco\n",
    "#     file_name = 'juliana_allSF_tobacco_'+year_month+'.json'\n",
    "    \n",
    "    # flavored tobacco\n",
    "    file_name = 'juliana_allSF_flavored_tobacco_'+year_month+'.json'\n",
    "    \n",
    "    file = file_path + file_name\n",
    "    \n",
    "    # initialization\n",
    "    text_total_dict[year_month] = []\n",
    "    text_total_dict_no_RE[year_month] = []\n",
    "    sentiment_total_dict[year_month] = []\n",
    "    retweet_total_dict[year_month] = []\n",
    "    favorite_total_dict[year_month] = []\n",
    "    \n",
    "    with open(file, \"r\") as f:\n",
    "        everyLines = f.readlines()\n",
    "        num_of_tweets = len(everyLines)\n",
    "        print('length of tweets in month %s: %d' % (year_month, num_of_tweets))\n",
    "#         tweets_total_list.append(num_of_tweets)\n",
    "        for line in everyLines:\n",
    "            try:\n",
    "                lineInJson = json.loads(line)\n",
    "            except:\n",
    "                print('Cannot load the line: ', line)\n",
    "                \n",
    "            text_inLine = lineInJson[\"text\"]\n",
    "            text_total_dict_no_RE[year_month].append(text_inLine)\n",
    "            text_afterRE = re.sub('https?:\\/\\/t\\.co\\/[\\s\\S]{10}', '', text_inLine)\n",
    "            text_total_dict[year_month].append(text_afterRE)\n",
    "            \n",
    "            # get sentiment\n",
    "            sentiment_sentence = analyzeSentimentByVader_one_sentence(text_afterRE)\n",
    "            if sentiment_sentence == -2:\n",
    "                print('Something wrong. The sentiment cannot be -2')\n",
    "            else:\n",
    "                sentiment_total_dict[year_month].append(sentiment_sentence)\n",
    "            \n",
    "            # get retweet and favorite\n",
    "            id_inLine = lineInJson['id']\n",
    "            retweet_inLine, favorite_inLine = get_tweet_retweet_favorite_by_id(id_inLine)\n",
    "            retweet_total_dict[year_month].append(retweet_inLine)\n",
    "            favorite_total_dict[year_month].append(favorite_inLine)\n",
    "            \n",
    "#             print('finished processing 1 line.')\n",
    "            \n",
    "#         break\n",
    "    \n",
    "print('length of text_total_dict: ', len(text_total_dict))\n",
    "print('length of sentiment_total_dict: ', len(sentiment_total_dict))\n",
    "print('sentiment_total_dict: ', sentiment_total_dict)\n",
    "print('retweet_total_dict: ', retweet_total_dict)\n",
    "print('favorite_total_dict: ', favorite_total_dict)"
   ]
  },
  {
   "cell_type": "markdown",
   "metadata": {},
   "source": [
    "### get the tweet with most favorite and retweet"
   ]
  },
  {
   "cell_type": "code",
   "execution_count": 11,
   "metadata": {
    "scrolled": true
   },
   "outputs": [
    {
     "name": "stdout",
     "output_type": "stream",
     "text": [
      "positive_weight_num_dict:  {'2017_10': {0: [(0, 0, 'Very cherry with good tart - Drinking a Vape Tricks by @Prairieales @ Archive Bar and Kitchen  — '), (0, 0, 'It was cool seeing the sun in a orange hue because of the smoke.'), (0, 0, '@garrytan It almost sounds like cigarettes or tinted moisturizer now (CC, BB cream)'), (0, 0, \"Starting my Sunday morning with coffee and @TheDefeatedPod, 24 and sunny out, squad reunited, it's all good 🌈 \")], 4: [(3, 1, 'I’d love to buy all my favorite cops a coffee tomorrow #SFPD ')], 1: [(1, 0, 'Morning workout, free coffee &amp; bfast, and a nice walk downtown...I’m loving today')], 11: [(11, 0, 'Drinking a large coffee at 10pm Pacific wasn’t the brightest idea.')], 3: [(3, 0, '@DianePodcast Lynch directing on set with a cigarette, megaphone, and fire extinguisher is a wonderfully evocative image. #TwinPeaks')]}}\n",
      "neutral_weight_num_dict:  {'2017_10': {0: [(0, 0, 'calamansi juice &gt;&gt;&gt;&gt;&gt; lemonade 🍋'), (0, 0, 'Earlier chilling in hotel room my girl asked me to go get her ice cream. Placed this parlay while waiting for ice c… '), (0, 0, 'I dnt dab in it girl i smoke cookie mind my buisness'), (0, 0, \"I'm at Vinyl Coffee &amp; Wine Bar - @vinylsf in San Francisco, CA \"), (0, 0, '@cesar_mars5 my glass is just coffee'), (0, 0, 'Kush💨 &amp; Coffee ☕️'), (0, 0, '60 crackers smoked in Vegas'), (0, 0, 'Heading into the smoke in search of coffee.'), (0, 0, 'On the Coffee tour. #coffee #coffeeart #californiacoffeetour #sanfrancisco #illycaffe #illy… '), (0, 0, 'Drinking my fourth coffee'), (0, 0, \"I'm at Vinyl Coffee &amp; Wine Bar - @vinylsf in San Francisco, CA \"), (0, 0, 'Drinking a Shadow Wave With Reveille Coffee by @BlackSandsBeer at @blacksandsbeer —  #photo'), (0, 0, 'Parem tudo q vcs estão fazendo e escutem esse Podcast ')], 10: [(10, 0, 'A Tahoe-tónál svédnek nézett egy srác, aki Isztambulból gondolt pesti látogatásra. 😶 És mint kiderült, a nevem Leel… ')], 1: [(1, 0, '#nadamooicecream and #hocuspocus 🎃😍')], 3: [(3, 0, 'Kush💨 &amp; Coffee ☕️')]}}\n",
      "negative_weight_num_dict:  {'2017_10': {0: [(0, 0, 'Walked out for a smoke break, when I came across this random apple.. uhh some snow white poison apple shit! Not tod… '), (0, 0, 'Just offered to buy a guy who was shivering a cup of coffee. He ordered a Frappuccino. I’m a damn sucker! 😒')], 5: [(5, 0, 'homeless lady: U got an extra cigarette? oh that’s menthol I hate menthol nvm')]}}\n"
     ]
    }
   ],
   "source": [
    "# positive_retweet_num_dict = {}\n",
    "# neutral_retweet_num_dict = {}\n",
    "# negative_retweet_num_dict = {}\n",
    "\n",
    "# positive_favorite_num_dict = {}\n",
    "# neutral_favorite_num_dict = {}\n",
    "# negative_favorite_num_dict = {}\n",
    "\n",
    "positive_weight_num_dict = {}\n",
    "neutral_weight_num_dict = {}\n",
    "negative_weight_num_dict = {}\n",
    "\n",
    "for year_month_index in range(len(year_month_key_list)):\n",
    "    year_month = year_month_key_list[year_month_index]\n",
    "    positive_weight_num_dict[year_month] = {}\n",
    "    neutral_weight_num_dict[year_month] = {}\n",
    "    negative_weight_num_dict[year_month] = {}\n",
    "\n",
    "for year_month_index in range(len(year_month_key_list)):\n",
    "    year_month = year_month_key_list[year_month_index]\n",
    "    for i in range(len(sentiment_total_dict[year_month])):\n",
    "        sentiment = sentiment_total_dict[year_month][i]\n",
    "        retweet = retweet_total_dict[year_month][i]\n",
    "        favorite = favorite_total_dict[year_month][i]\n",
    "        tweet_text = text_total_dict[year_month][i]\n",
    "#         tweet_text = text_total_dict_no_RE[year_month][i]\n",
    "        \n",
    "        weight = retweet + favorite\n",
    "        \n",
    "        \n",
    "        if sentiment == 1:\n",
    "            if weight not in positive_weight_num_dict[year_month]:\n",
    "                positive_weight_num_dict[year_month][weight] = []\n",
    "            positive_weight_num_dict[year_month][weight].append((favorite, retweet, tweet_text))\n",
    "#             positive_retweet_num_list[year_month_index] += retweet\n",
    "#             positive_favorite_num_list[year_month_index] += favorite\n",
    "        elif sentiment == 0:\n",
    "            if weight not in neutral_weight_num_dict[year_month]:\n",
    "                neutral_weight_num_dict[year_month][weight] = []\n",
    "            neutral_weight_num_dict[year_month][weight].append((favorite, retweet, tweet_text))\n",
    "#             neutral_retweet_num_list[year_month_index] += retweet\n",
    "#             neutral_favorite_num_list[year_month_index] += favorite\n",
    "        elif sentiment == -1:\n",
    "            if weight not in negative_weight_num_dict[year_month]:\n",
    "                negative_weight_num_dict[year_month][weight] = []\n",
    "            negative_weight_num_dict[year_month][weight].append((favorite, retweet, tweet_text))\n",
    "#             negative_retweet_num_list[year_month_index] += retweet\n",
    "#             negative_favorite_num_list[year_month_index] += favorite\n",
    "        else:\n",
    "            print('sentiment cannot be other nunmber besides 1, 0, -1')\n",
    "        \n",
    "print('positive_weight_num_dict: ', positive_weight_num_dict)\n",
    "print('neutral_weight_num_dict: ', neutral_weight_num_dict)\n",
    "print('negative_weight_num_dict: ', negative_weight_num_dict)"
   ]
  },
  {
   "cell_type": "code",
   "execution_count": 12,
   "metadata": {},
   "outputs": [
    {
     "name": "stdout",
     "output_type": "stream",
     "text": [
      "- (11, 0, 'Drinking a large coffee at 10pm Pacific wasn’t the brightest idea.')\n",
      "- (3, 1, 'I’d love to buy all my favorite cops a coffee tomorrow #SFPD ')\n",
      "- (3, 0, '@DianePodcast Lynch directing on set with a cigarette, megaphone, and fire extinguisher is a wonderfully evocative image. #TwinPeaks')\n",
      "- (1, 0, 'Morning workout, free coffee &amp; bfast, and a nice walk downtown...I’m loving today')\n",
      "- (0, 0, 'Very cherry with good tart - Drinking a Vape Tricks by @Prairieales @ Archive Bar and Kitchen  — ')\n",
      "- (0, 0, 'It was cool seeing the sun in a orange hue because of the smoke.')\n",
      "- (0, 0, '@garrytan It almost sounds like cigarettes or tinted moisturizer now (CC, BB cream)')\n",
      "- (0, 0, \"Starting my Sunday morning with coffee and @TheDefeatedPod, 24 and sunny out, squad reunited, it's all good 🌈 \")\n"
     ]
    }
   ],
   "source": [
    "def get_most_weight_tweets(input_dict):\n",
    "    for key in sorted(input_dict, reverse=True):\n",
    "#         print('key: ', key)\n",
    "        for tweet_item in input_dict[key]:\n",
    "            print('-', tweet_item)\n",
    "#         print(input_dict[key])\n",
    "#         print()\n",
    "        \n",
    "for year_month_index in range(len(year_month_key_list)):\n",
    "    year_month = year_month_key_list[year_month_index]\n",
    "    get_most_weight_tweets(positive_weight_num_dict[year_month])\n",
    "#     get_most_weight_tweets(neutral_weight_num_dict[year_month])\n",
    "#     get_most_weight_tweets(negative_weight_num_dict[year_month])"
   ]
  },
  {
   "cell_type": "markdown",
   "metadata": {},
   "source": [
    "### Debug - date after March, 2017 "
   ]
  },
  {
   "cell_type": "code",
   "execution_count": 13,
   "metadata": {},
   "outputs": [
    {
     "name": "stdout",
     "output_type": "stream",
     "text": [
      "length of tweets in month 2017_04: 59\n",
      "favorite_inLine:  0\n"
     ]
    }
   ],
   "source": [
    "def get_tweet_retweet_favorite_temp(tweet_id):\n",
    "#     try:\n",
    "    status = api.get_status(tweet_id)\n",
    "    tweet = status._json\n",
    "    retweet = tweet['retweet_count']\n",
    "    favorite = tweet['favorite_count']\n",
    "#     except:\n",
    "#         retweet = 0\n",
    "#         favorite = 0\n",
    "    return retweet, favorite\n",
    "\n",
    "for year_month in ['2017_04']:\n",
    "    # e-cigarette\n",
    "    file_name = 'juliana_SF_allECigarette_'+year_month+'_categoryKeyWord.json'\n",
    "    \n",
    "    # tobacco\n",
    "#     file_name = 'juliana_allSF_tobacco_'+year_month+'.json'\n",
    "    \n",
    "    # flavored tobacco\n",
    "#     file_name = 'juliana_allSF_flavored_tobacco_'+year_month+'.json'\n",
    "    \n",
    "    file = file_path + file_name\n",
    "    with open(file, \"r\") as f:\n",
    "        everyLines = f.readlines()\n",
    "        num_of_tweets = len(everyLines)\n",
    "        print('length of tweets in month %s: %d' % (year_month, num_of_tweets))\n",
    "#         tweets_total_list.append(num_of_tweets)\n",
    "        for line in everyLines:\n",
    "            try:\n",
    "                lineInJson = json.loads(line)\n",
    "            except:\n",
    "                print('Cannot load the line: ', line)\n",
    "            \n",
    "            # get retweet and favorite\n",
    "            id_inLine = lineInJson['id']\n",
    "            retweet_inLine, favorite_inLine = get_tweet_retweet_favorite_temp(id_inLine)\n",
    "            print('favorite_inLine: ', favorite_inLine)\n",
    "            break"
   ]
  },
  {
   "cell_type": "markdown",
   "metadata": {},
   "source": [
    "Tweepy API has rate limit. We may exceed the limit every 15 mins."
   ]
  },
  {
   "cell_type": "code",
   "execution_count": null,
   "metadata": {},
   "outputs": [],
   "source": []
  }
 ],
 "metadata": {
  "kernelspec": {
   "display_name": "Python 3",
   "language": "python",
   "name": "python3"
  },
  "language_info": {
   "codemirror_mode": {
    "name": "ipython",
    "version": 3
   },
   "file_extension": ".py",
   "mimetype": "text/x-python",
   "name": "python",
   "nbconvert_exporter": "python",
   "pygments_lexer": "ipython3",
   "version": "3.7.3"
  }
 },
 "nbformat": 4,
 "nbformat_minor": 2
}
