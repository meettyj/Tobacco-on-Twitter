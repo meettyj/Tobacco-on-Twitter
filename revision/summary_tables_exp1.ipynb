{
 "cells": [
  {
   "cell_type": "code",
   "execution_count": 107,
   "metadata": {},
   "outputs": [],
   "source": [
    "import os\n",
    "import json\n",
    "import pandas as pd\n",
    "import numpy as np\n",
    "from datetime import datetime\n",
    "from process_bot_accounts import get_bot_accounts_list"
   ]
  },
  {
   "cell_type": "code",
   "execution_count": 108,
   "metadata": {},
   "outputs": [],
   "source": [
    "year_month_key_list = ['2016_04','2016_05','2016_06','2016_07','2016_08','2016_09','2016_10','2016_11','2016_12',\n",
    "                       '2017_01','2017_02', '2017_03','2017_04','2017_05','2017_06','2017_07','2017_08','2017_09',\n",
    "                       '2017_10','2017_11','2017_12', '2018_01', '2018_02', '2018_03', '2018_04', '2018_05', \n",
    "                       '2018_06', '2018_07', '2018_08', '2018_09', '2018_10', '2018_11', '2018_12', '2019_01', \n",
    "                       '2019_02', '2019_03', '2019_04' ]\n",
    "file_path = \"/mnt/volume-5T/result/\""
   ]
  },
  {
   "cell_type": "code",
   "execution_count": 109,
   "metadata": {},
   "outputs": [
    {
     "name": "stdout",
     "output_type": "stream",
     "text": [
      "file_name_suffix:  56\n",
      "processed successfully, length = 3457\n",
      "file_name_suffix:  2\n",
      "processed successfully, length = 22223\n",
      "file_name_suffix:  1\n",
      "processed successfully, length = 392\n",
      "file_name_suffix:  58\n",
      "processed successfully, length = 3351\n",
      "file_name_suffix:  54\n",
      "processed successfully, length = 1128\n",
      "file_name_suffix:  51\n",
      "processed successfully, length = 1000\n",
      "file_name_suffix:  71\n",
      "processed successfully, length = 2752\n",
      "file_name_suffix:  31\n",
      "processed successfully, length = 1169\n",
      "file_name_suffix:  57\n",
      "processed successfully, length = 464\n",
      "file_name_suffix:  52\n",
      "processed successfully, length = 100\n",
      "file_name_suffix:  33\n",
      "processed successfully, length = 845\n",
      "file_name_suffix:  55\n",
      "processed successfully, length = 991\n",
      "file_name_suffix:  61\n",
      "processed successfully, length = 826\n",
      "file_name_suffix:  32\n",
      "processed successfully, length = 1337\n",
      "file_name_suffix:  53\n",
      "processed successfully, length = 403\n",
      "\n",
      "length of bot_accounts_list:  36690\n"
     ]
    }
   ],
   "source": [
    "# get the bot accounts list\n",
    "bot_accounts_list = get_bot_accounts_list()"
   ]
  },
  {
   "cell_type": "markdown",
   "metadata": {},
   "source": [
    "### get the data for summary table (users, followers ...)"
   ]
  },
  {
   "cell_type": "code",
   "execution_count": 115,
   "metadata": {
    "scrolled": true
   },
   "outputs": [
    {
     "name": "stdout",
     "output_type": "stream",
     "text": [
      "length of tweets in month 2016_04: 132\n",
      "length of tweets in month 2016_05: 148\n",
      "length of tweets in month 2016_06: 127\n",
      "length of tweets in month 2016_07: 139\n",
      "length of tweets in month 2016_08: 107\n",
      "length of tweets in month 2016_09: 128\n",
      "length of tweets in month 2016_10: 119\n",
      "length of tweets in month 2016_11: 115\n",
      "length of tweets in month 2016_12: 127\n",
      "length of tweets in month 2017_01: 59\n",
      "length of tweets in month 2017_02: 65\n",
      "length of tweets in month 2017_03: 90\n",
      "length of tweets in month 2017_04: 59\n",
      "length of tweets in month 2017_05: 67\n",
      "length of tweets in month 2017_06: 88\n",
      "length of tweets in month 2017_07: 74\n",
      "length of tweets in month 2017_08: 89\n",
      "length of tweets in month 2017_09: 47\n",
      "length of tweets in month 2017_10: 50\n",
      "length of tweets in month 2017_11: 76\n",
      "length of tweets in month 2017_12: 122\n",
      "length of tweets in month 2018_01: 111\n",
      "length of tweets in month 2018_02: 103\n",
      "length of tweets in month 2018_03: 102\n",
      "length of tweets in month 2018_04: 99\n",
      "length of tweets in month 2018_05: 81\n",
      "length of tweets in month 2018_06: 92\n",
      "length of tweets in month 2018_07: 127\n",
      "length of tweets in month 2018_08: 106\n",
      "length of tweets in month 2018_09: 92\n",
      "length of tweets in month 2018_10: 83\n",
      "length of tweets in month 2018_11: 141\n",
      "length of tweets in month 2018_12: 113\n",
      "length of tweets in month 2019_01: 130\n",
      "length of tweets in month 2019_02: 105\n",
      "length of tweets in month 2019_03: 74\n",
      "length of tweets in month 2019_04: 92\n",
      "\n",
      "tweets_total_list:  [132, 148, 127, 139, 107, 128, 119, 115, 127, 59, 65, 90, 59, 67, 88, 74, 89, 47, 50, 76, 122, 111, 103, 102, 99, 81, 92, 127, 106, 92, 83, 141, 113, 130, 105, 74, 92]\n",
      "users_total_list:  [105, 114, 97, 96, 82, 91, 82, 81, 70, 50, 52, 73, 53, 53, 66, 67, 71, 38, 45, 65, 69, 75, 68, 68, 75, 73, 74, 87, 85, 76, 69, 119, 90, 110, 84, 60, 67]\n",
      "users_not_bot_list:  [105, 114, 97, 96, 82, 91, 82, 81, 70, 50, 52, 73, 53, 53, 66, 67, 71, 38, 45, 65, 69, 75, 68, 68, 75, 73, 74, 87, 85, 76, 69, 119, 90, 110, 84, 60, 67]\n",
      "True\n",
      "followers_total_list:  [2247, 2264, 8732, 3253, 16148, 16611, 2616, 18746, 17078, 7626, 6185, 4817, 3980, 987, 22234, 1905, 24305, 2638, 4082, 2548, 2526, 1717, 20939, 20897, 4379, 1575, 22668, 16331, 17182, 2532, 4362, 25273, 47537, 3080, 4855, 5279, 21951]\n",
      "followees_total_list:  [803, 1312, 1447, 1499, 2461, 2097, 718, 1851, 761, 2672, 2935, 1643, 870, 597, 661, 951, 957, 942, 957, 782, 943, 1029, 944, 675, 743, 690, 2508, 714, 939, 999, 822, 1086, 1096, 1114, 1479, 1295, 1353]\n",
      "user_interval_days_total_list:  [3065, 2811, 2855, 3076, 2828, 3066, 2774, 2963, 2847, 2851, 3043, 2907, 2862, 2703, 2880, 2843, 3009, 2872, 2827, 2814, 2460, 2660, 2645, 2682, 2600, 2519, 2768, 2694, 2829, 2595, 2652, 2714, 2576, 2575, 2549, 2552, 2532]\n",
      "tweets_per_day_total_list:  [5, 5, 6, 7, 6, 4, 6, 7, 5, 11, 5, 9, 4, 3, 5, 4, 6, 8, 7, 7, 8, 6, 8, 7, 6, 11, 11, 5, 6, 6, 5, 4, 7, 6, 6, 7, 12]\n"
     ]
    }
   ],
   "source": [
    "tweets_total_list = list()\n",
    "users_total_list = list()\n",
    "users_not_bot_list = list()\n",
    "followers_total_list = list()\n",
    "followees_total_list = list()\n",
    "statuses_total_list = list()\n",
    "user_interval_days_total_list = list()\n",
    "tweets_per_day_total_list = list()\n",
    "date_formatter = \"%a %b %d %H:%M:%S %z %Y\"\n",
    "\n",
    "for year_month in year_month_key_list:\n",
    "    users_month = set()\n",
    "    followers_count = 0\n",
    "    followees_count = 0\n",
    "    user_interval_days_count = 0\n",
    "    tweets_per_day_count = 0\n",
    "#     statuses_count = 0\n",
    "    \n",
    "    # e-cigarette\n",
    "    file_name = 'juliana_SF_allECigarette_'+year_month+'_categoryKeyWord.json'\n",
    "    \n",
    "    # tobacco\n",
    "#     file_name = 'juliana_allSF_tobacco_'+year_month+'.json'\n",
    "    \n",
    "    # flavored tobacco\n",
    "#     file_name = 'juliana_allSF_flavored_tobacco_'+year_month+'.json'\n",
    "    \n",
    "    file = file_path + file_name\n",
    "    with open(file, \"r\") as f:\n",
    "        everyLines = f.readlines()\n",
    "        num_of_tweets = len(everyLines)\n",
    "        print('length of tweets in month %s: %d' % (year_month, num_of_tweets))\n",
    "        tweets_total_list.append(num_of_tweets)\n",
    "        for line in everyLines:\n",
    "            try:\n",
    "                lineInJson = json.loads(line)\n",
    "            except:\n",
    "                print('Cannot load the line: ', line)\n",
    "            userInLine_id = lineInJson[\"user\"][\"id\"]\n",
    "            \n",
    "            if userInLine_id not in users_month:\n",
    "                userInLine_followers = lineInJson[\"user\"][\"followers_count\"]\n",
    "                userInLine_followees = lineInJson[\"user\"][\"friends_count\"]\n",
    "                userInLine_statuses = lineInJson[\"user\"][\"statuses_count\"]\n",
    "                userInLine_createdTime = lineInJson[\"user\"][\"created_at\"]\n",
    "                userInLine_createdTime = datetime.strptime(userInLine_createdTime, date_formatter).replace(tzinfo=None)\n",
    "                user_interval_days = (datetime(2019,4,30)-userInLine_createdTime).days\n",
    "                user_tweets_per_day = int(userInLine_statuses/user_interval_days)\n",
    "\n",
    "                followers_count += userInLine_followers\n",
    "                followees_count += userInLine_followees\n",
    "                user_interval_days_count += user_interval_days\n",
    "                tweets_per_day_count += user_tweets_per_day\n",
    "#                 statuses_count += userInLine_statuses\n",
    "                \n",
    "            users_month.add(userInLine_id)\n",
    "    \n",
    "    num_of_users = len(users_month)\n",
    "    users_total_list.append(num_of_users)\n",
    "    \n",
    "    num_of_not_bot_users = len(users_month.difference(bot_accounts_list))\n",
    "    users_not_bot_list.append(num_of_not_bot_users)\n",
    "    \n",
    "    followers_total_list.append(int(followers_count/num_of_users))\n",
    "    followees_total_list.append(int(followees_count/num_of_users))\n",
    "    user_interval_days_total_list.append(int(user_interval_days_count/num_of_users))\n",
    "    tweets_per_day_total_list.append(int(tweets_per_day_count/num_of_users))\n",
    "#     statuses_total_list.append(int(statuses_count/num_of_users))\n",
    "    \n",
    "#     break\n",
    "\n",
    "print()\n",
    "print('tweets_total_list: ', tweets_total_list)\n",
    "print('users_total_list: ', users_total_list)\n",
    "print('users_not_bot_list: ', users_not_bot_list)\n",
    "print(users_total_list == users_not_bot_list)\n",
    "print('followers_total_list: ', followers_total_list)\n",
    "print('followees_total_list: ', followees_total_list)\n",
    "print('user_interval_days_total_list: ', user_interval_days_total_list)\n",
    "print('tweets_per_day_total_list: ', tweets_per_day_total_list)\n",
    "# print('statuses_total_list: ', statuses_total_list)"
   ]
  },
  {
   "cell_type": "code",
   "execution_count": 111,
   "metadata": {},
   "outputs": [],
   "source": [
    "# get the mean value\n",
    "length_of_section_1 = 5+9\n",
    "length_of_section_2 = length_of_section_1+12\n",
    "length_of_section_3 = length_of_section_2+7\n",
    "length_of_section_4 = length_of_section_3+4\n",
    "x_number_section_1 = [i for i in range(0,length_of_section_1)]\n",
    "x_number_section_2 = [i for i in range(length_of_section_1, length_of_section_2)]\n",
    "x_number_section_3 = [i for i in range(length_of_section_2, length_of_section_3)]\n",
    "x_number_section_4 = [i for i in range(length_of_section_3, length_of_section_4)]\n",
    "\n",
    "def calculate_average(list_with_length_37):\n",
    "    avg_1 = str(int(np.mean(list_with_length_37[:length_of_section_1])))\n",
    "    avg_2 = str(int(np.mean(list_with_length_37[length_of_section_1:length_of_section_2])))\n",
    "    avg_3 = str(int(np.mean(list_with_length_37[length_of_section_2:length_of_section_3])))\n",
    "    avg_4 = str(int(np.mean(list_with_length_37[length_of_section_3:length_of_section_4])))\n",
    "    return avg_1, avg_2, avg_3, avg_4\n",
    "\n",
    "# test\n",
    "# calculate_average(tweets_total_list)"
   ]
  },
  {
   "cell_type": "markdown",
   "metadata": {},
   "source": [
    "### generate the format for latex"
   ]
  },
  {
   "cell_type": "code",
   "execution_count": 112,
   "metadata": {},
   "outputs": [
    {
     "name": "stdout",
     "output_type": "stream",
     "text": [
      "string_to_overleaf_1:  105 & 78 & 7949 & 1547 & 2903 & 5\n",
      "string_to_overleaf_2:  86 & 65 & 9145 & 856 & 2734 & 6\n",
      "string_to_overleaf_3:  107 & 85 & 19412 & 1166 & 2689 & 6\n",
      "string_to_overleaf_4:  100 & 80 & 8791 & 1310 & 2552 & 7\n"
     ]
    }
   ],
   "source": [
    "def output_overleaf_summary_table_exp1(tweets_total_list, users_total_list, followers_total_list, \n",
    "                                       followees_total_list, user_interval_days_total_list, tweets_per_day_total_list):\n",
    "    tweets_avg_1, tweets_avg_2, tweets_avg_3, tweets_avg_4 = calculate_average(tweets_total_list)\n",
    "    users_avg_1, users_avg_2, users_avg_3, users_avg_4 = calculate_average(users_total_list)\n",
    "    followers_avg_1, followers_avg_2, followers_avg_3, followers_avg_4 = calculate_average(followers_total_list)\n",
    "    friends_avg_1, friends_avg_2, friends_avg_3, friends_avg_4 = calculate_average(followees_total_list)\n",
    "    intervel_days_avg_1, intervel_days_avg_2, intervel_days_avg_3, intervel_days_avg_4 = calculate_average(user_interval_days_total_list)\n",
    "    tweets_per_day_avg_1, tweets_per_day_avg_2, tweets_per_day_avg_3, tweets_per_day_avg_4 = calculate_average(tweets_per_day_total_list)\n",
    "    \n",
    "    string_to_overleaf_1 = tweets_avg_1+' & '+users_avg_1+' & '+followers_avg_1+' & '+friends_avg_1+' & '+intervel_days_avg_1+' & '+tweets_per_day_avg_1\n",
    "    print('string_to_overleaf_1: ', string_to_overleaf_1)\n",
    "    string_to_overleaf_2 = tweets_avg_2+' & '+users_avg_2+' & '+followers_avg_2+' & '+friends_avg_2+' & '+intervel_days_avg_2+' & '+tweets_per_day_avg_2\n",
    "    print('string_to_overleaf_2: ', string_to_overleaf_2)\n",
    "    string_to_overleaf_3 = tweets_avg_3+' & '+users_avg_3+' & '+followers_avg_3+' & '+friends_avg_3+' & '+intervel_days_avg_3+' & '+tweets_per_day_avg_3\n",
    "    print('string_to_overleaf_3: ', string_to_overleaf_3)\n",
    "    string_to_overleaf_4 = tweets_avg_4+' & '+users_avg_4+' & '+followers_avg_4+' & '+friends_avg_4+' & '+intervel_days_avg_4+' & '+tweets_per_day_avg_4\n",
    "    print('string_to_overleaf_4: ', string_to_overleaf_4)\n",
    "    \n",
    "output_overleaf_summary_table_exp1(tweets_total_list, users_total_list, followers_total_list, \n",
    "                                       followees_total_list, user_interval_days_total_list, tweets_per_day_total_list)"
   ]
  },
  {
   "cell_type": "code",
   "execution_count": null,
   "metadata": {},
   "outputs": [],
   "source": []
  },
  {
   "cell_type": "code",
   "execution_count": null,
   "metadata": {},
   "outputs": [],
   "source": []
  },
  {
   "cell_type": "code",
   "execution_count": null,
   "metadata": {},
   "outputs": [],
   "source": []
  },
  {
   "cell_type": "code",
   "execution_count": null,
   "metadata": {},
   "outputs": [],
   "source": []
  },
  {
   "cell_type": "code",
   "execution_count": null,
   "metadata": {},
   "outputs": [],
   "source": []
  },
  {
   "cell_type": "code",
   "execution_count": null,
   "metadata": {},
   "outputs": [],
   "source": []
  },
  {
   "cell_type": "code",
   "execution_count": null,
   "metadata": {},
   "outputs": [],
   "source": []
  },
  {
   "cell_type": "code",
   "execution_count": null,
   "metadata": {},
   "outputs": [],
   "source": []
  }
 ],
 "metadata": {
  "kernelspec": {
   "display_name": "Python 3",
   "language": "python",
   "name": "python3"
  },
  "language_info": {
   "codemirror_mode": {
    "name": "ipython",
    "version": 3
   },
   "file_extension": ".py",
   "mimetype": "text/x-python",
   "name": "python",
   "nbconvert_exporter": "python",
   "pygments_lexer": "ipython3",
   "version": "3.7.3"
  }
 },
 "nbformat": 4,
 "nbformat_minor": 2
}
