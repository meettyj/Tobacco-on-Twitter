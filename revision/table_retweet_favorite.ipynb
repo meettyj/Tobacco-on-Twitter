{
 "cells": [
  {
   "cell_type": "code",
   "execution_count": null,
   "metadata": {},
   "outputs": [],
   "source": [
    "import os\n",
    "import json\n",
    "import pandas as pd\n",
    "import numpy as np"
   ]
  },
  {
   "cell_type": "code",
   "execution_count": null,
   "metadata": {},
   "outputs": [],
   "source": []
  },
  {
   "cell_type": "markdown",
   "metadata": {},
   "source": [
    "### ecig"
   ]
  },
  {
   "cell_type": "code",
   "execution_count": null,
   "metadata": {},
   "outputs": [],
   "source": []
  },
  {
   "cell_type": "markdown",
   "metadata": {},
   "source": [
    "### tobacco"
   ]
  },
  {
   "cell_type": "code",
   "execution_count": null,
   "metadata": {},
   "outputs": [],
   "source": [
    "tobacco_positive_retweet_num_list:  [3489, 51, 58, 34, 19, 19, 27, 35, 16, 27, 25, 58, 58, 25, 16, 149, 41, 13, 133, 16, 16, 29, 28, 10, 137, 101, 61, 19, 15, 22, 30, 152, 25, 7, 76, 13, 26]\n",
    "tobacco_neutral_retweet_num_list:  [160, 125, 158, 58, 139, 155, 89, 111, 155, 221, 202, 224, 136, 222, 62, 82, 79, 402, 207, 171, 44, 47, 93, 64, 132, 109, 116, 234, 59, 92, 180, 497, 46, 249, 89, 44, 179]\n",
    "tobacco_negative_retweet_num_list:  [179, 76, 60, 20, 235, 27, 79, 70, 8, 28, 31, 80, 16, 151, 55, 447, 24, 29, 35, 34, 33, 59, 29, 32, 78, 67, 44, 14, 56, 87, 35, 54, 47, 32, 23, 43, 113]\n",
    "tobacco_positive_favorite_num_list:  [3295, 250, 251, 227, 221, 197, 257, 224, 101, 149, 117, 359, 274, 245, 229, 1226, 499, 73, 517, 215, 150, 211, 261, 159, 546, 1010, 324, 286, 159, 336, 391, 989, 173, 158, 533, 249, 280]\n",
    "tobacco_neutral_favorite_num_list:  [587, 675, 652, 477, 1042, 1231, 522, 1495, 402, 1076, 1025, 1408, 768, 1066, 698, 1619, 563, 1012, 645, 1812, 297, 476, 577, 591, 844, 675, 817, 4160, 728, 684, 2547, 1767, 367, 3929, 757, 450, 1419]\n",
    "tobacco_negative_favorite_num_list:  [323, 223, 161, 145, 550, 189, 174, 271, 96, 139, 156, 229, 109, 488, 225, 2668, 305, 122, 190, 313, 449, 179, 160, 281, 355, 338, 348, 192, 284, 327, 335, 463, 289, 807, 275, 480, 969]"
   ]
  },
  {
   "cell_type": "markdown",
   "metadata": {},
   "source": [
    "### flavored tobacco"
   ]
  },
  {
   "cell_type": "code",
   "execution_count": null,
   "metadata": {},
   "outputs": [],
   "source": [
    "# flavored tobacco\n",
    "\n",
    "positive_retweet_list:  [1, 2, 2, 1, 0, 0, 1, 0, 1, 0, 0, 1, 31, 1, 3, 1, 1, 2, 1, 8, 0, 3, 0, 2, 1, 0, 7, 0, 0, 2, 1, 0, 0, 1, 1, 3, 1]\n",
    "neutral_retweet_list:  [13, 8, 3, 9, 7, 6, 1, 1, 1, 25, 6, 1, 15, 1, 2, 0, 0, 2, 0, 3, 0, 3, 3, 4, 1, 0, 10, 2, 5, 7, 9, 0, 0, 4, 27, 3, 15]\n",
    "negative_retweet_list:  [0, 2, 7, 0, 3, 1, 1, 1, 0, 2, 1, 0, 0, 0, 23, 1, 6, 1, 0, 4, 1, 0, 0, 3, 1, 3, 2, 0, 0, 2, 0, 0, 0, 5, 1, 1, 1]\n",
    "positive_favorite_list:  [19, 19, 12, 29, 15, 20, 26, 9, 5, 9, 9, 33, 87, 24, 20, 9, 8, 6, 18, 19, 15, 24, 12, 10, 14, 6, 14, 10, 10, 13, 32, 6, 45, 18, 3, 118, 7]\n",
    "neutral_favorite_list:  [57, 46, 32, 73, 46, 24, 41, 39, 20, 57, 111, 33, 93, 17, 9, 29, 16, 70, 14, 26, 32, 65, 41, 54, 11, 26, 59, 51, 71, 91, 207, 17, 30, 26, 147, 86, 182]\n",
    "negative_favorite_list:  [6, 15, 41, 0, 5, 3, 4, 8, 8, 18, 7, 0, 9, 5, 60, 1, 107, 6, 5, 9, 9, 8, 26, 10, 14, 5, 2, 3, 4, 16, 0, 5, 10, 318, 19, 8, 1]"
   ]
  },
  {
   "cell_type": "code",
   "execution_count": null,
   "metadata": {},
   "outputs": [],
   "source": []
  },
  {
   "cell_type": "code",
   "execution_count": null,
   "metadata": {},
   "outputs": [],
   "source": [
    "# get the mean value\n",
    "length_of_section_1 = 5+9\n",
    "length_of_section_2 = length_of_section_1+12\n",
    "length_of_section_3 = length_of_section_2+7\n",
    "length_of_section_4 = length_of_section_3+4\n",
    "x_number_section_1 = [i for i in range(0,length_of_section_1)]\n",
    "x_number_section_2 = [i for i in range(length_of_section_1, length_of_section_2)]\n",
    "x_number_section_3 = [i for i in range(length_of_section_2, length_of_section_3)]\n",
    "x_number_section_4 = [i for i in range(length_of_section_3, length_of_section_4)]\n",
    "\n",
    "def calculate_average(list_with_length_37):\n",
    "    avg_1 = str(int(np.mean(list_with_length_37[:length_of_section_1])))\n",
    "    avg_2 = str(int(np.mean(list_with_length_37[length_of_section_1:length_of_section_2])))\n",
    "    avg_3 = str(int(np.mean(list_with_length_37[length_of_section_2:length_of_section_3])))\n",
    "    avg_4 = str(int(np.mean(list_with_length_37[length_of_section_3:length_of_section_4])))\n",
    "    return avg_1, avg_2, avg_3, avg_4"
   ]
  },
  {
   "cell_type": "markdown",
   "metadata": {},
   "source": [
    "### generate the format for latex"
   ]
  },
  {
   "cell_type": "code",
   "execution_count": null,
   "metadata": {},
   "outputs": [],
   "source": [
    "def output_overleaf_summary_table_exp1(tweets_total_list, users_total_list, followers_total_list, \n",
    "                                       followees_total_list, user_interval_days_total_list, tweets_per_day_total_list):\n",
    "    tweets_avg_1, tweets_avg_2, tweets_avg_3, tweets_avg_4 = calculate_average(tweets_total_list)\n",
    "    users_avg_1, users_avg_2, users_avg_3, users_avg_4 = calculate_average(users_total_list)\n",
    "    followers_avg_1, followers_avg_2, followers_avg_3, followers_avg_4 = calculate_average(followers_total_list)\n",
    "    friends_avg_1, friends_avg_2, friends_avg_3, friends_avg_4 = calculate_average(followees_total_list)\n",
    "    intervel_days_avg_1, intervel_days_avg_2, intervel_days_avg_3, intervel_days_avg_4 = calculate_average(user_interval_days_total_list)\n",
    "    tweets_per_day_avg_1, tweets_per_day_avg_2, tweets_per_day_avg_3, tweets_per_day_avg_4 = calculate_average(tweets_per_day_total_list)\n",
    "    \n",
    "    string_to_overleaf_1 = tweets_avg_1+' & '+users_avg_1+' & '+followers_avg_1+' & '+friends_avg_1+' & '+intervel_days_avg_1+' & '+tweets_per_day_avg_1\n",
    "    print('string_to_overleaf_1: ', string_to_overleaf_1)\n",
    "    string_to_overleaf_2 = tweets_avg_2+' & '+users_avg_2+' & '+followers_avg_2+' & '+friends_avg_2+' & '+intervel_days_avg_2+' & '+tweets_per_day_avg_2\n",
    "    print('string_to_overleaf_2: ', string_to_overleaf_2)\n",
    "    string_to_overleaf_3 = tweets_avg_3+' & '+users_avg_3+' & '+followers_avg_3+' & '+friends_avg_3+' & '+intervel_days_avg_3+' & '+tweets_per_day_avg_3\n",
    "    print('string_to_overleaf_3: ', string_to_overleaf_3)\n",
    "    string_to_overleaf_4 = tweets_avg_4+' & '+users_avg_4+' & '+followers_avg_4+' & '+friends_avg_4+' & '+intervel_days_avg_4+' & '+tweets_per_day_avg_4\n",
    "    print('string_to_overleaf_4: ', string_to_overleaf_4)\n",
    "    \n",
    "output_overleaf_summary_table_exp1(tweets_total_list, users_total_list, followers_total_list, \n",
    "                                       followees_total_list, user_interval_days_total_list, tweets_per_day_total_list)"
   ]
  },
  {
   "cell_type": "code",
   "execution_count": null,
   "metadata": {},
   "outputs": [],
   "source": []
  },
  {
   "cell_type": "code",
   "execution_count": null,
   "metadata": {},
   "outputs": [],
   "source": []
  }
 ],
 "metadata": {
  "kernelspec": {
   "display_name": "Python 3",
   "language": "python",
   "name": "python3"
  },
  "language_info": {
   "codemirror_mode": {
    "name": "ipython",
    "version": 3
   },
   "file_extension": ".py",
   "mimetype": "text/x-python",
   "name": "python",
   "nbconvert_exporter": "python",
   "pygments_lexer": "ipython3",
   "version": "3.7.3"
  }
 },
 "nbformat": 4,
 "nbformat_minor": 2
}
