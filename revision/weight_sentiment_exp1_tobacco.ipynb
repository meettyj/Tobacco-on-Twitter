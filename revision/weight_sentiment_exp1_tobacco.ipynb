{
 "cells": [
  {
   "cell_type": "code",
   "execution_count": 11,
   "metadata": {},
   "outputs": [],
   "source": [
    "import os\n",
    "import json\n",
    "import pandas as pd\n",
    "import numpy as np\n",
    "import requests\n",
    "import time\n",
    "\n",
    "import tweepy\n",
    "\n",
    "from vaderSentiment.vaderSentiment import SentimentIntensityAnalyzer \n",
    "import re\n",
    "\n",
    "from __private import CONSUMER_API_KEY\n",
    "from __private import CONSUMER_API_KEY_SECRET\n",
    "from __private import ACCESS_TOKEN\n",
    "from __private import ACCESS_TOKEN_SECRET"
   ]
  },
  {
   "cell_type": "code",
   "execution_count": 4,
   "metadata": {
    "scrolled": true
   },
   "outputs": [],
   "source": [
    "# tweepy API\n",
    "auth = tweepy.OAuthHandler(CONSUMER_API_KEY, CONSUMER_API_KEY_SECRET)\n",
    "auth.set_access_token(ACCESS_TOKEN, ACCESS_TOKEN_SECRET)\n",
    "api = tweepy.API(auth)\n",
    "    \n",
    "def get_tweet_retweet_favorite_by_id(tweet_id):\n",
    "    try:\n",
    "        status = api.get_status(tweet_id)\n",
    "        tweet = status._json\n",
    "        retweet = tweet['retweet_count']\n",
    "        favorite = tweet['favorite_count']\n",
    "    except:\n",
    "        retweet = 0\n",
    "        favorite = 0\n",
    "    return retweet, favorite\n",
    "\n",
    "# get_tweet_retweet_favorite_by_id(726061616869961728)"
   ]
  },
  {
   "cell_type": "code",
   "execution_count": 5,
   "metadata": {},
   "outputs": [],
   "source": [
    "# sentiment analysis\n",
    "analyzer = SentimentIntensityAnalyzer()\n",
    "\n",
    "def analyzeSentimentByVader_one_sentence(sentence):\n",
    "    vs = analyzer.polarity_scores(sentence)\n",
    "\n",
    "    if vs['compound'] >= 0.05:\n",
    "        return 1 # positive\n",
    "    elif vs['compound'] <= 0.05 and vs['compound'] > -0.05:\n",
    "        return 0 # neutral\n",
    "    elif vs['compound'] <= -0.05:\n",
    "        return -1 # negative\n",
    "\n",
    "    return -2 # should not be in here"
   ]
  },
  {
   "cell_type": "code",
   "execution_count": 12,
   "metadata": {},
   "outputs": [],
   "source": [
    "year_month_key_list = ['2016_04','2016_05','2016_06','2016_07','2016_08','2016_09','2016_10','2016_11','2016_12',\n",
    "                       '2017_01','2017_02', '2017_03','2017_04','2017_05','2017_06','2017_07','2017_08','2017_09',\n",
    "                       '2017_10','2017_11','2017_12', '2018_01', '2018_02', '2018_03', '2018_04', '2018_05', \n",
    "                       '2018_06', '2018_07', '2018_08', '2018_09', '2018_10', '2018_11', '2018_12', '2019_01', \n",
    "                       '2019_02', '2019_03', '2019_04' ]\n",
    "# year_month_key_list = ['2016_04']\n",
    "file_path = \"/mnt/volume-5T/result/\""
   ]
  },
  {
   "cell_type": "code",
   "execution_count": 13,
   "metadata": {},
   "outputs": [],
   "source": [
    "def get_weight(year_month):\n",
    "    positive_weight = 0\n",
    "    neutral_weight = 0\n",
    "    negative_weight = 0\n",
    "    for i in range(len(sentiment_total_dict[year_month])):\n",
    "        sentiment = sentiment_total_dict[year_month][i]\n",
    "        retweet = retweet_total_dict[year_month][i]\n",
    "        favorite = favorite_total_dict[year_month][i]\n",
    "        weight = retweet + favorite\n",
    "        if sentiment == 1:\n",
    "            positive_weight += weight\n",
    "        elif sentiment == 0:\n",
    "            neutral_weight += weight\n",
    "        elif sentiment == -1:\n",
    "            negative_weight += weight\n",
    "        else:\n",
    "            print('sentiment cannot be other nunmber besides 1, 0, -1')\n",
    "            \n",
    "    print('positive_weight: ', positive_weight)\n",
    "    print('neutral_weight: ', neutral_weight)\n",
    "    print('negative_weight: ', negative_weight)\n",
    "    return positive_weight, neutral_weight, negative_weight"
   ]
  },
  {
   "cell_type": "code",
   "execution_count": null,
   "metadata": {},
   "outputs": [
    {
     "name": "stdout",
     "output_type": "stream",
     "text": [
      "length of tweets in month 2016_04: 907\n",
      "positive_weight:  6784\n",
      "neutral_weight:  747\n",
      "negative_weight:  502\n"
     ]
    }
   ],
   "source": [
    "text_total_dict = {}\n",
    "sentiment_total_dict = {}\n",
    "retweet_total_dict = {}\n",
    "favorite_total_dict = {}\n",
    "\n",
    "for year_month in year_month_key_list:\n",
    "    \n",
    "    # Wait for 20 mins\n",
    "    time.sleep(1200)\n",
    "    \n",
    "    # e-cigarette\n",
    "#     file_name = 'juliana_SF_allECigarette_'+year_month+'_categoryKeyWord.json'\n",
    "    \n",
    "    # tobacco\n",
    "    file_name = 'juliana_allSF_tobacco_'+year_month+'.json'\n",
    "    \n",
    "    # flavored tobacco\n",
    "#     file_name = 'juliana_allSF_flavored_tobacco_'+year_month+'.json'\n",
    "    \n",
    "    file = file_path + file_name\n",
    "    \n",
    "    # initialization\n",
    "    text_total_dict[year_month] = []\n",
    "    sentiment_total_dict[year_month] = []\n",
    "    retweet_total_dict[year_month] = []\n",
    "    favorite_total_dict[year_month] = []\n",
    "    \n",
    "    with open(file, \"r\") as f:\n",
    "        everyLines = f.readlines()\n",
    "        num_of_tweets = len(everyLines)\n",
    "        print('length of tweets in month %s: %d' % (year_month, num_of_tweets))\n",
    "#         tweets_total_list.append(num_of_tweets)\n",
    "        for line in everyLines:\n",
    "            try:\n",
    "                lineInJson = json.loads(line)\n",
    "            except:\n",
    "                print('Cannot load the line: ', line)\n",
    "                \n",
    "            text_inLine = lineInJson[\"text\"]\n",
    "            text_afterRE = re.sub('https?:\\/\\/t\\.co\\/[\\s\\S]{10}', '', text_inLine)\n",
    "            text_total_dict[year_month].append(text_afterRE)\n",
    "            \n",
    "            # get sentiment\n",
    "            sentiment_sentence = analyzeSentimentByVader_one_sentence(text_afterRE)\n",
    "            if sentiment_sentence == -2:\n",
    "                print('Something wrong. The sentiment cannot be -2')\n",
    "            else:\n",
    "                sentiment_total_dict[year_month].append(sentiment_sentence)\n",
    "            \n",
    "            # get retweet and favorite\n",
    "            id_inLine = lineInJson['id']\n",
    "            retweet_inLine, favorite_inLine = get_tweet_retweet_favorite_by_id(id_inLine)\n",
    "            retweet_total_dict[year_month].append(retweet_inLine)\n",
    "            favorite_total_dict[year_month].append(favorite_inLine)\n",
    "    \n",
    "    get_weight(year_month)\n",
    "    \n",
    "\n",
    "    \n",
    "#     break\n",
    "    \n",
    "print('length of text_total_dict: ', len(text_total_dict))\n",
    "print('length of sentiment_total_dict: ', len(sentiment_total_dict))\n",
    "print('sentiment_total_dict: ', sentiment_total_dict)\n",
    "print('retweet_total_dict: ', retweet_total_dict)\n",
    "print('favorite_total_dict: ', favorite_total_dict)"
   ]
  },
  {
   "cell_type": "markdown",
   "metadata": {},
   "source": [
    "### weight = retweet + favorite"
   ]
  },
  {
   "cell_type": "code",
   "execution_count": null,
   "metadata": {},
   "outputs": [],
   "source": [
    "positive_weight_num_list = [0 for i in range(len(year_month_key_list))]\n",
    "neutral_weight_num_list = [0 for i in range(len(year_month_key_list))]\n",
    "negative_weight_num_list = [0 for i in range(len(year_month_key_list))]\n",
    "\n",
    "for year_month_index in range(len(year_month_key_list)):\n",
    "    year_month = year_month_key_list[year_month_index]\n",
    "    for i in range(len(sentiment_total_dict[year_month])):\n",
    "        sentiment = sentiment_total_dict[year_month][i]\n",
    "        retweet = retweet_total_dict[year_month][i]\n",
    "        favorite = favorite_total_dict[year_month][i]\n",
    "        weight = retweet + favorite\n",
    "        if sentiment == 1:\n",
    "            positive_weight_num_list[year_month_index] += weight\n",
    "        elif sentiment == 0:\n",
    "            neutral_weight_num_list[year_month_index] += weight\n",
    "        elif sentiment == -1:\n",
    "            negative_weight_num_list[year_month_index] += weight\n",
    "        else:\n",
    "            print('sentiment cannot be other nunmber besides 1, 0, -1')\n",
    "        \n",
    "print('positive_weight_num_list: ', positive_weight_num_list)\n",
    "print('neutral_weight_num_list: ', neutral_weight_num_list)\n",
    "print('negative_weight_num_list: ', negative_weight_num_list)"
   ]
  },
  {
   "cell_type": "markdown",
   "metadata": {},
   "source": [
    "### Debug - date after March, 2017 "
   ]
  },
  {
   "cell_type": "code",
   "execution_count": 61,
   "metadata": {},
   "outputs": [
    {
     "name": "stdout",
     "output_type": "stream",
     "text": [
      "length of tweets in month 2017_04: 59\n",
      "favorite_inLine:  0\n"
     ]
    }
   ],
   "source": [
    "def get_tweet_retweet_favorite_temp(tweet_id):\n",
    "#     try:\n",
    "    status = api.get_status(tweet_id)\n",
    "    tweet = status._json\n",
    "    retweet = tweet['retweet_count']\n",
    "    favorite = tweet['favorite_count']\n",
    "#     except:\n",
    "#         retweet = 0\n",
    "#         favorite = 0\n",
    "    return retweet, favorite\n",
    "\n",
    "for year_month in ['2017_04']:\n",
    "    # e-cigarette\n",
    "    file_name = 'juliana_SF_allECigarette_'+year_month+'_categoryKeyWord.json'\n",
    "    \n",
    "    # tobacco\n",
    "#     file_name = 'juliana_allSF_tobacco_'+year_month+'.json'\n",
    "    \n",
    "    # flavored tobacco\n",
    "#     file_name = 'juliana_allSF_flavored_tobacco_'+year_month+'.json'\n",
    "    \n",
    "    file = file_path + file_name\n",
    "    with open(file, \"r\") as f:\n",
    "        everyLines = f.readlines()\n",
    "        num_of_tweets = len(everyLines)\n",
    "        print('length of tweets in month %s: %d' % (year_month, num_of_tweets))\n",
    "#         tweets_total_list.append(num_of_tweets)\n",
    "        for line in everyLines:\n",
    "            try:\n",
    "                lineInJson = json.loads(line)\n",
    "            except:\n",
    "                print('Cannot load the line: ', line)\n",
    "            \n",
    "            # get retweet and favorite\n",
    "            id_inLine = lineInJson['id']\n",
    "            retweet_inLine, favorite_inLine = get_tweet_retweet_favorite_temp(id_inLine)\n",
    "            print('favorite_inLine: ', favorite_inLine)\n",
    "            break"
   ]
  },
  {
   "cell_type": "markdown",
   "metadata": {},
   "source": [
    "Tweepy API has rate limit. We may exceed the limit every 15 mins."
   ]
  },
  {
   "cell_type": "markdown",
   "metadata": {},
   "source": [
    "### e-cig weight list"
   ]
  },
  {
   "cell_type": "code",
   "execution_count": 60,
   "metadata": {},
   "outputs": [
    {
     "name": "stdout",
     "output_type": "stream",
     "text": [
      "length of ecig_positive_weight_list:  37\n",
      "length of ecig_neutral_weight_list:  37\n",
      "length of ecig_negative_weight_list:  37\n"
     ]
    }
   ],
   "source": [
    "ecig_positive_weight_list = [75, 66, 99, 122, 59, 168, 75, 71, 388, 73, 27, 123, 85, 49, 38, 46, 109, 12, 27, 53, 82, 183, 285, 94, 104, 80, 245, 103, 197, 125, 53, 830, 171, 84, 139, 171, 168]\n",
    "ecig_neutral_weight_list = [144, 173, 188, 73, 96, 79, 53, 54, 140, 37, 37, 64, 67, 40, 98, 37, 151, 13, 24, 184, 59, 47, 152, 72, 434, 40, 638, 166, 109, 1459, 1010, 701, 115, 257, 250, 83, 102]\n",
    "ecig_negative_weight_list = [15, 69, 34, 27, 5, 119, 7, 76, 101, 8, 19, 43, 7, 0, 47, 52, 11, 6, 85, 24, 21, 37, 47, 88, 17, 52, 107, 36, 60, 42, 44, 339, 58, 82, 87, 31, 215]\n",
    "\n",
    "print('length of ecig_positive_weight_list: ', len(ecig_positive_weight_list))\n",
    "print('length of ecig_neutral_weight_list: ', len(ecig_neutral_weight_list))\n",
    "print('length of ecig_negative_weight_list: ', len(ecig_negative_weight_list))"
   ]
  },
  {
   "cell_type": "markdown",
   "metadata": {},
   "source": [
    "### tobacco weight list"
   ]
  },
  {
   "cell_type": "code",
   "execution_count": null,
   "metadata": {},
   "outputs": [],
   "source": []
  },
  {
   "cell_type": "code",
   "execution_count": null,
   "metadata": {},
   "outputs": [],
   "source": []
  },
  {
   "cell_type": "code",
   "execution_count": null,
   "metadata": {},
   "outputs": [],
   "source": []
  },
  {
   "cell_type": "code",
   "execution_count": null,
   "metadata": {},
   "outputs": [],
   "source": []
  },
  {
   "cell_type": "code",
   "execution_count": null,
   "metadata": {},
   "outputs": [],
   "source": []
  }
 ],
 "metadata": {
  "kernelspec": {
   "display_name": "Python 3",
   "language": "python",
   "name": "python3"
  },
  "language_info": {
   "codemirror_mode": {
    "name": "ipython",
    "version": 3
   },
   "file_extension": ".py",
   "mimetype": "text/x-python",
   "name": "python",
   "nbconvert_exporter": "python",
   "pygments_lexer": "ipython3",
   "version": "3.7.3"
  }
 },
 "nbformat": 4,
 "nbformat_minor": 2
}
