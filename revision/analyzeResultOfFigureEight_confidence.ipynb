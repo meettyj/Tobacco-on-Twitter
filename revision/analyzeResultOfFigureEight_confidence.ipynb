{
 "cells": [
  {
   "cell_type": "code",
   "execution_count": 2,
   "metadata": {},
   "outputs": [],
   "source": [
    "import os\n",
    "# os.chdir('C:/Users/eddie/Desktop/Prof. Rumi Chunara/alcohol')\n",
    "import json\n",
    "import pandas as pd\n",
    "import csv"
   ]
  },
  {
   "cell_type": "code",
   "execution_count": 3,
   "metadata": {
    "scrolled": true
   },
   "outputs": [
    {
     "data": {
      "text/html": [
       "<div>\n",
       "<style scoped>\n",
       "    .dataframe tbody tr th:only-of-type {\n",
       "        vertical-align: middle;\n",
       "    }\n",
       "\n",
       "    .dataframe tbody tr th {\n",
       "        vertical-align: top;\n",
       "    }\n",
       "\n",
       "    .dataframe thead th {\n",
       "        text-align: right;\n",
       "    }\n",
       "</style>\n",
       "<table border=\"1\" class=\"dataframe\">\n",
       "  <thead>\n",
       "    <tr style=\"text-align: right;\">\n",
       "      <th></th>\n",
       "      <th>_unit_id</th>\n",
       "      <th>_golden</th>\n",
       "      <th>_unit_state</th>\n",
       "      <th>_trusted_judgments</th>\n",
       "      <th>_last_judgment_at</th>\n",
       "      <th>is_this_posting_relevant_to_ecigarette</th>\n",
       "      <th>is_this_posting_relevant_to_ecigarette:confidence</th>\n",
       "      <th>is_this_posting_relevant_to_flavor_in_ecigarette</th>\n",
       "      <th>is_this_posting_relevant_to_flavor_in_ecigarette:confidence</th>\n",
       "      <th>is_this_posting_relevant_to_ecigarette_gold</th>\n",
       "      <th>is_this_posting_relevant_to_flavor_in_ecigarette_gold</th>\n",
       "      <th>realdonaldtrump_foxandfriends_smoke_blowing_up_your_orange_ass</th>\n",
       "    </tr>\n",
       "  </thead>\n",
       "  <tbody>\n",
       "    <tr>\n",
       "      <th>0</th>\n",
       "      <td>2402258680</td>\n",
       "      <td>False</td>\n",
       "      <td>finalized</td>\n",
       "      <td>2</td>\n",
       "      <td>7/31/2019 05:16:30</td>\n",
       "      <td>NOT-ECIG</td>\n",
       "      <td>1.0</td>\n",
       "      <td>NaN</td>\n",
       "      <td>NaN</td>\n",
       "      <td>NaN</td>\n",
       "      <td>NaN</td>\n",
       "      <td>@1King_Boris Make sure you understand my dick ...</td>\n",
       "    </tr>\n",
       "    <tr>\n",
       "      <th>1</th>\n",
       "      <td>2402258681</td>\n",
       "      <td>False</td>\n",
       "      <td>finalized</td>\n",
       "      <td>2</td>\n",
       "      <td>7/31/2019 04:24:03</td>\n",
       "      <td>NOT-ECIG</td>\n",
       "      <td>0.5</td>\n",
       "      <td>NaN</td>\n",
       "      <td>NaN</td>\n",
       "      <td>NaN</td>\n",
       "      <td>NaN</td>\n",
       "      <td>Blaise once got in trouble at summer camp for ...</td>\n",
       "    </tr>\n",
       "    <tr>\n",
       "      <th>2</th>\n",
       "      <td>2402258682</td>\n",
       "      <td>False</td>\n",
       "      <td>in progress</td>\n",
       "      <td>1</td>\n",
       "      <td>7/31/2019 04:26:29</td>\n",
       "      <td>NOT-ECIG</td>\n",
       "      <td>1.0</td>\n",
       "      <td>NaN</td>\n",
       "      <td>NaN</td>\n",
       "      <td>NaN</td>\n",
       "      <td>NaN</td>\n",
       "      <td>Drinking a Blueberry Tart by @stbcbeer @ Meat ...</td>\n",
       "    </tr>\n",
       "  </tbody>\n",
       "</table>\n",
       "</div>"
      ],
      "text/plain": [
       "     _unit_id  _golden  _unit_state  _trusted_judgments   _last_judgment_at  \\\n",
       "0  2402258680    False    finalized                   2  7/31/2019 05:16:30   \n",
       "1  2402258681    False    finalized                   2  7/31/2019 04:24:03   \n",
       "2  2402258682    False  in progress                   1  7/31/2019 04:26:29   \n",
       "\n",
       "  is_this_posting_relevant_to_ecigarette  \\\n",
       "0                               NOT-ECIG   \n",
       "1                               NOT-ECIG   \n",
       "2                               NOT-ECIG   \n",
       "\n",
       "   is_this_posting_relevant_to_ecigarette:confidence  \\\n",
       "0                                                1.0   \n",
       "1                                                0.5   \n",
       "2                                                1.0   \n",
       "\n",
       "  is_this_posting_relevant_to_flavor_in_ecigarette  \\\n",
       "0                                              NaN   \n",
       "1                                              NaN   \n",
       "2                                              NaN   \n",
       "\n",
       "   is_this_posting_relevant_to_flavor_in_ecigarette:confidence  \\\n",
       "0                                                NaN             \n",
       "1                                                NaN             \n",
       "2                                                NaN             \n",
       "\n",
       "  is_this_posting_relevant_to_ecigarette_gold  \\\n",
       "0                                         NaN   \n",
       "1                                         NaN   \n",
       "2                                         NaN   \n",
       "\n",
       "  is_this_posting_relevant_to_flavor_in_ecigarette_gold  \\\n",
       "0                                                NaN      \n",
       "1                                                NaN      \n",
       "2                                                NaN      \n",
       "\n",
       "  realdonaldtrump_foxandfriends_smoke_blowing_up_your_orange_ass  \n",
       "0  @1King_Boris Make sure you understand my dick ...              \n",
       "1  Blaise once got in trouble at summer camp for ...              \n",
       "2  Drinking a Blueberry Tart by @stbcbeer @ Meat ...              "
      ]
     },
     "execution_count": 3,
     "metadata": {},
     "output_type": "execute_result"
    }
   ],
   "source": [
    "# filePath = \"C:/Users/eddie/Desktop/Prof. Rumi Chunara/alcohol/data/labeled_figure_eight_csv_1000.csv\"\n",
    "filePath = \"/mnt/volume-5T/result/labeled_figure_eight_csv_1000.csv\"\n",
    "\n",
    "df = pd.read_csv(filePath)\n",
    "df[:3]"
   ]
  },
  {
   "cell_type": "code",
   "execution_count": 4,
   "metadata": {
    "scrolled": true
   },
   "outputs": [
    {
     "name": "stdout",
     "output_type": "stream",
     "text": [
      "In total we got 1002 rows of data.\n"
     ]
    }
   ],
   "source": [
    "print('In total we got %d rows of data.' % (df.shape[0]))"
   ]
  },
  {
   "cell_type": "code",
   "execution_count": 19,
   "metadata": {},
   "outputs": [
    {
     "name": "stdout",
     "output_type": "stream",
     "text": [
      "avg_ecig_confidence:  0.9140528942115766\n",
      "ecig_confidence_count:  1002\n",
      "avg_flavor_confidence:  0.899102451838879\n",
      "flavor_confidence_count:  571\n"
     ]
    }
   ],
   "source": [
    "ecig_confidence_total = 0\n",
    "ecig_confidence_count = 0\n",
    "for ecig_confidence in df['is_this_posting_relevant_to_ecigarette:confidence']:\n",
    "    if ecig_confidence != None and ecig_confidence==ecig_confidence:\n",
    "        ecig_confidence_total += ecig_confidence\n",
    "        ecig_confidence_count += 1\n",
    "avg_ecig_confidence = ecig_confidence_total/ecig_confidence_count\n",
    "print('avg_ecig_confidence: ', avg_ecig_confidence)\n",
    "print('ecig_confidence_count: ', ecig_confidence_count)\n",
    "\n",
    "flavor_confidence_total = 0\n",
    "flavor_confidence_count = 0\n",
    "for flavor_confidence in df['is_this_posting_relevant_to_flavor_in_ecigarette:confidence']:\n",
    "    if flavor_confidence != None and flavor_confidence == flavor_confidence: # check for nan\n",
    "        flavor_confidence_total += flavor_confidence\n",
    "#         print(flavor_confidence)\n",
    "#         print(type(flavor_confidence))\n",
    "        flavor_confidence_count += 1\n",
    "avg_flavor_confidence = flavor_confidence_total/flavor_confidence_count\n",
    "print('avg_flavor_confidence: ', avg_flavor_confidence)\n",
    "print('flavor_confidence_count: ', flavor_confidence_count)\n",
    "\n"
   ]
  },
  {
   "cell_type": "code",
   "execution_count": null,
   "metadata": {},
   "outputs": [],
   "source": []
  },
  {
   "cell_type": "code",
   "execution_count": null,
   "metadata": {},
   "outputs": [],
   "source": []
  }
 ],
 "metadata": {
  "kernelspec": {
   "display_name": "Python 3",
   "language": "python",
   "name": "python3"
  },
  "language_info": {
   "codemirror_mode": {
    "name": "ipython",
    "version": 3
   },
   "file_extension": ".py",
   "mimetype": "text/x-python",
   "name": "python",
   "nbconvert_exporter": "python",
   "pygments_lexer": "ipython3",
   "version": "3.7.3"
  }
 },
 "nbformat": 4,
 "nbformat_minor": 2
}
