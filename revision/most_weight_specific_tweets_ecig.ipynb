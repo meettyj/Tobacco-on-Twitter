{
 "cells": [
  {
   "cell_type": "code",
   "execution_count": 1,
   "metadata": {},
   "outputs": [],
   "source": [
    "import os\n",
    "import json\n",
    "import pandas as pd\n",
    "import numpy as np\n",
    "import requests\n",
    "import time\n",
    "\n",
    "import tweepy\n",
    "\n",
    "from vaderSentiment.vaderSentiment import SentimentIntensityAnalyzer \n",
    "import re\n",
    "\n",
    "from __private import CONSUMER_API_KEY\n",
    "from __private import CONSUMER_API_KEY_SECRET\n",
    "from __private import ACCESS_TOKEN\n",
    "from __private import ACCESS_TOKEN_SECRET"
   ]
  },
  {
   "cell_type": "code",
   "execution_count": 2,
   "metadata": {
    "scrolled": true
   },
   "outputs": [],
   "source": [
    "# tweepy API\n",
    "auth = tweepy.OAuthHandler(CONSUMER_API_KEY, CONSUMER_API_KEY_SECRET)\n",
    "auth.set_access_token(ACCESS_TOKEN, ACCESS_TOKEN_SECRET)\n",
    "api = tweepy.API(auth)\n",
    "    \n",
    "def get_tweet_retweet_favorite_by_id(tweet_id):\n",
    "    try:\n",
    "        status = api.get_status(tweet_id)\n",
    "        tweet = status._json\n",
    "        retweet = tweet['retweet_count']\n",
    "        favorite = tweet['favorite_count']\n",
    "    except:\n",
    "        retweet = 0\n",
    "        favorite = 0\n",
    "    return retweet, favorite\n",
    "\n",
    "# get_tweet_retweet_favorite_by_id(726061616869961728)"
   ]
  },
  {
   "cell_type": "code",
   "execution_count": 3,
   "metadata": {},
   "outputs": [],
   "source": [
    "# sentiment analysis\n",
    "analyzer = SentimentIntensityAnalyzer()\n",
    "\n",
    "def analyzeSentimentByVader_one_sentence(sentence):\n",
    "    vs = analyzer.polarity_scores(sentence)\n",
    "\n",
    "    if vs['compound'] >= 0.05:\n",
    "        return 1 # positive\n",
    "    elif vs['compound'] <= 0.05 and vs['compound'] > -0.05:\n",
    "        return 0 # neutral\n",
    "    elif vs['compound'] <= -0.05:\n",
    "        return -1 # negative\n",
    "\n",
    "    return -2 # should not be in here"
   ]
  },
  {
   "cell_type": "code",
   "execution_count": 61,
   "metadata": {},
   "outputs": [],
   "source": [
    "# year_month_key_list = ['2016_04','2016_05','2016_06','2016_07','2016_08','2016_09','2016_10','2016_11','2016_12',\n",
    "#                        '2017_01','2017_02', '2017_03','2017_04','2017_05','2017_06','2017_07','2017_08','2017_09',\n",
    "#                        '2017_10','2017_11','2017_12', '2018_01', '2018_02', '2018_03', '2018_04', '2018_05', \n",
    "#                        '2018_06', '2018_07', '2018_08', '2018_09', '2018_10', '2018_11', '2018_12', '2019_01', \n",
    "#                        '2019_02', '2019_03', '2019_04' ]\n",
    "year_month_key_list = ['2017_10']\n",
    "file_path = \"/mnt/volume-5T/result/\""
   ]
  },
  {
   "cell_type": "code",
   "execution_count": 62,
   "metadata": {
    "scrolled": true
   },
   "outputs": [
    {
     "name": "stdout",
     "output_type": "stream",
     "text": [
      "length of tweets in month 2017_10: 50\n",
      "length of text_total_dict:  1\n",
      "length of sentiment_total_dict:  1\n",
      "sentiment_total_dict:  {'2017_10': [-1, 1, -1, 0, 0, 0, 1, 0, 0, -1, 1, 1, 0, 0, 0, 0, 0, 1, 0, 0, 0, 0, 0, 1, 0, 1, 0, 1, -1, -1, 0, -1, 0, -1, -1, 1, 1, 1, 0, 0, -1, 0, -1, 0, 0, 1, -1, 0, -1, 0]}\n",
      "retweet_total_dict:  {'2017_10': [3, 0, 0, 0, 0, 0, 0, 0, 1, 0, 0, 0, 0, 0, 0, 0, 0, 0, 0, 0, 0, 0, 0, 0, 0, 0, 0, 0, 0, 0, 0, 0, 0, 0, 15, 0, 0, 1, 0, 0, 0, 0, 0, 0, 0, 0, 0, 0, 0, 0]}\n",
      "favorite_total_dict:  {'2017_10': [6, 0, 2, 0, 1, 2, 0, 0, 0, 0, 0, 25, 1, 0, 0, 1, 0, 0, 1, 0, 0, 0, 0, 0, 4, 0, 2, 1, 5, 0, 0, 0, 0, 5, 47, 0, 0, 0, 0, 0, 0, 0, 1, 2, 0, 0, 1, 9, 1, 0]}\n"
     ]
    }
   ],
   "source": [
    "text_total_dict = {}\n",
    "text_total_dict_no_RE = {}\n",
    "sentiment_total_dict = {}\n",
    "retweet_total_dict = {}\n",
    "favorite_total_dict = {}\n",
    "\n",
    "for year_month in year_month_key_list:\n",
    "    # Wait for 20 mins\n",
    "#     time.sleep(1200)\n",
    "    \n",
    "    # e-cigarette\n",
    "    file_name = 'juliana_SF_allECigarette_'+year_month+'_categoryKeyWord.json'\n",
    "    \n",
    "    # tobacco\n",
    "#     file_name = 'juliana_allSF_tobacco_'+year_month+'.json'\n",
    "    \n",
    "    # flavored tobacco\n",
    "#     file_name = 'juliana_allSF_flavored_tobacco_'+year_month+'.json'\n",
    "    \n",
    "    file = file_path + file_name\n",
    "    \n",
    "    # initialization\n",
    "    text_total_dict[year_month] = []\n",
    "    text_total_dict_no_RE[year_month] = []\n",
    "    sentiment_total_dict[year_month] = []\n",
    "    retweet_total_dict[year_month] = []\n",
    "    favorite_total_dict[year_month] = []\n",
    "    \n",
    "    with open(file, \"r\") as f:\n",
    "        everyLines = f.readlines()\n",
    "        num_of_tweets = len(everyLines)\n",
    "        print('length of tweets in month %s: %d' % (year_month, num_of_tweets))\n",
    "#         tweets_total_list.append(num_of_tweets)\n",
    "        for line in everyLines:\n",
    "            try:\n",
    "                lineInJson = json.loads(line)\n",
    "            except:\n",
    "                print('Cannot load the line: ', line)\n",
    "                \n",
    "            text_inLine = lineInJson[\"text\"]\n",
    "            text_total_dict_no_RE[year_month].append(text_inLine)\n",
    "            text_afterRE = re.sub('https?:\\/\\/t\\.co\\/[\\s\\S]{10}', '', text_inLine)\n",
    "            text_total_dict[year_month].append(text_afterRE)\n",
    "            \n",
    "            # get sentiment\n",
    "            sentiment_sentence = analyzeSentimentByVader_one_sentence(text_afterRE)\n",
    "            if sentiment_sentence == -2:\n",
    "                print('Something wrong. The sentiment cannot be -2')\n",
    "            else:\n",
    "                sentiment_total_dict[year_month].append(sentiment_sentence)\n",
    "            \n",
    "            # get retweet and favorite\n",
    "            id_inLine = lineInJson['id']\n",
    "            retweet_inLine, favorite_inLine = get_tweet_retweet_favorite_by_id(id_inLine)\n",
    "            retweet_total_dict[year_month].append(retweet_inLine)\n",
    "            favorite_total_dict[year_month].append(favorite_inLine)\n",
    "            \n",
    "#             print('finished processing 1 line.')\n",
    "            \n",
    "#         break\n",
    "    \n",
    "print('length of text_total_dict: ', len(text_total_dict))\n",
    "print('length of sentiment_total_dict: ', len(sentiment_total_dict))\n",
    "print('sentiment_total_dict: ', sentiment_total_dict)\n",
    "print('retweet_total_dict: ', retweet_total_dict)\n",
    "print('favorite_total_dict: ', favorite_total_dict)"
   ]
  },
  {
   "cell_type": "markdown",
   "metadata": {},
   "source": [
    "### get the tweet with most favorite and retweet"
   ]
  },
  {
   "cell_type": "code",
   "execution_count": 63,
   "metadata": {
    "scrolled": true
   },
   "outputs": [
    {
     "name": "stdout",
     "output_type": "stream",
     "text": [
      "positive_weight_num_dict:  {'2017_10': {0: [(0, 0, 'My only friend is vapor rub...which I left at home.'), (0, 0, 'My drug of choice also happens to be a delicious smoked meat. Momma you are too good to me!… '), (0, 0, '@AlexCartaz @nbashaw @peez What I imagine happening is like what happened w/ cigarettes, Lasik, cars, etc. Decades… '), (0, 0, 'JuulJuul Smith is my favorite NFL player'), (0, 0, 'Time to go home? 🙂 #beautiful #magnificent #purple #bluesky #pink #red #clouds #sunset #calm… '), (0, 0, 'Very cherry with good tart - Drinking a Vape Tricks by @Prairieales @ Archive Bar and Kitchen  — '), (0, 0, 'Vape pens are amazing to have at work'), (0, 0, 'Wooden Design &amp; FREE Shipping \\n\\nClick to shop online ➡️ \\n#vape #vapor #vaping '), (0, 0, 'It still amazes me how it’s so normal for everyone in sf to smoke or at least vape😂 I just saw a FedEx guy vaping while driving LOL')], 25: [(25, 0, 'A BEE WONT STOP FOLLOWING ME CUZ IT SMELLS THE VAPE JUICE IN MY BAG SOS')], 1: [(1, 0, \"@AsYouSow .@TobaccoFreeKids @tobaccofreefla @tobaccofreeiowa thought you'd like this!\"), (0, 1, \"Ever get the feeling you're being watched? 👀#kravetfabrics @ San Francisco Design Center \")]}}\n",
      "neutral_weight_num_dict:  {'2017_10': {0: [(0, 0, '#AlextheSmoke vs @karlthefog @ San Francisco, California '), (0, 0, '@ConservaPeach @SandiMargolis @laurenduca @realDonaldTrump @FoxNews You obviously have never been in the company of… '), (0, 0, '🌲portal🕳\\n•\\n•\\n•\\n{ #graffiti #sf #art #vaporwave #aesthetic #sadboys #sadgirl #seapunk #fiji… '), (0, 0, 'Dudes who vape have Manginas'), (0, 0, '@mps33332 青木おめでと！！！\\nこっちでVapeトリック磨いとくわ\\n1月に会うの楽しみやぞ'), (0, 0, '@mps33332 Vaper レベル3くらいやから指導頼むわ笑'), (0, 0, '4457 California Street '), (0, 0, 'I bought the juul'), (0, 0, '@zezrie 😉😉😉😉😉 '), (0, 0, '\"Most of Jane has been coded listening to @Migos\"\\n -@surfcodesmoke, our CTO'), (0, 0, 'I need the Flyknit VaporMaxs'), (0, 0, \"and imma have my lil pump juul skin by then it's fuckin lit \"), (0, 0, 'I am vaping at the Post Malone show'), (0, 0, '@GutsDanson @SugarFireSmoke Is that from Ghandi? I think I would serve them whole rather than sliced. Clunkier pres… '), (0, 0, 'Completely escaped my mind to ask @girtis to bring some with him from Riga today. #airquality #wildfiresmoke'), (0, 0, 'Marijuana delivered FAST! Vapes, oils, topicals, CBD, etc.  $20 off your first order through my referral link! ')], 1: [(1, 0, 'Puffing on my Tangie vape pen from absolutextracts @JeremyFish  🌬⭐️⭐️⭐️⭐️⭐️ wearing… '), (0, 1, 'All #cars have #ashtrays yet #cigarettesmokers throw their #cigarettes out the car window'), (1, 0, 'Two white guys walked into Walgreens for some swishers. Lmaoooooooo'), (1, 0, 'Was Gonna Make Alittle Soft Vapor Today'), (1, 0, 'I Wonder If Vaporwave Has Already Ruined All My Favorite Funk And Boogie Tracks')], 2: [(2, 0, '📼DION💀🍵\\n•\\n•\\n•\\n{ #graffiti #feelsonwheels #sf #oakland #nyc #art #vaporwave #aesthetic #sadboys… '), (2, 0, '@meysq Vape'), (2, 0, '🌬fells🚷\\n•\\n•\\n•\\n{ #graffiti #feelsonwheels #sf #oakland #nyc #art #vaporwave #aesthetic #sadboys… ')], 4: [(4, 0, 'folks: I VAPE and I VOTE')], 9: [(9, 0, 'I woke up to the smell of smoke- my heart is with you north bay. #santarosa ')]}}\n",
      "negative_weight_num_dict:  {'2017_10': {9: [(6, 3, 'Me: should I get a knife tattoo like 21 savage?\\nLaurel: *hits juul* sleep on it')], 2: [(2, 0, 'War for the Planet of the Vapes')], 0: [(0, 0, '@sublimemarch TBPH I seriously thought someone was literally vaping when I saw it in the corner of my eye and I was… '), (0, 0, 'I hate how many times a day I hear \"fuck wheres my juul\"'), (0, 0, '@ianbremmer We humans don’t give a fuck like people who have to smoke a cigarette while the city has been pounded b… '), (0, 0, '@uniwave Wird man die neue Generation auch kaufen können, oder ist das wieder so Vapor Ware?')], 5: [(5, 0, 'I’m sick AF. I have 3 exams. All I want to do is sleep. \\n\\nBut I got Vaporu on deck, lets get this shit.'), (5, 0, '\"can i eat your vape\\n\\n......and your ass while you\\'re at it\"')], 62: [(47, 15, \"Looking forward to hearing the perspective of white blue-collar workers on their economic anxiety as we're vaporized in a nuclear fireball.\")], 1: [(1, 0, '@weedvaper1997 You’re twenty. I’m forty five. I’ve been fighting for LGBT rights since I came out at university 25… '), (1, 0, '@VapinGamers @PUBATTLEGROUNDS It’s full of good tips and zero wasted movements .'), (1, 0, \"I lost my mother fucking hash pen &amp; it's so real rn it hurts.. the pain 😭 #vapelife\")]}}\n"
     ]
    }
   ],
   "source": [
    "# positive_retweet_num_dict = {}\n",
    "# neutral_retweet_num_dict = {}\n",
    "# negative_retweet_num_dict = {}\n",
    "\n",
    "# positive_favorite_num_dict = {}\n",
    "# neutral_favorite_num_dict = {}\n",
    "# negative_favorite_num_dict = {}\n",
    "\n",
    "positive_weight_num_dict = {}\n",
    "neutral_weight_num_dict = {}\n",
    "negative_weight_num_dict = {}\n",
    "\n",
    "for year_month_index in range(len(year_month_key_list)):\n",
    "    year_month = year_month_key_list[year_month_index]\n",
    "    positive_weight_num_dict[year_month] = {}\n",
    "    neutral_weight_num_dict[year_month] = {}\n",
    "    negative_weight_num_dict[year_month] = {}\n",
    "\n",
    "for year_month_index in range(len(year_month_key_list)):\n",
    "    year_month = year_month_key_list[year_month_index]\n",
    "    for i in range(len(sentiment_total_dict[year_month])):\n",
    "        sentiment = sentiment_total_dict[year_month][i]\n",
    "        retweet = retweet_total_dict[year_month][i]\n",
    "        favorite = favorite_total_dict[year_month][i]\n",
    "        tweet_text = text_total_dict[year_month][i]\n",
    "#         tweet_text = text_total_dict_no_RE[year_month][i]\n",
    "        \n",
    "        weight = retweet + favorite\n",
    "        \n",
    "        \n",
    "        if sentiment == 1:\n",
    "            if weight not in positive_weight_num_dict[year_month]:\n",
    "                positive_weight_num_dict[year_month][weight] = []\n",
    "            positive_weight_num_dict[year_month][weight].append((favorite, retweet, tweet_text))\n",
    "#             positive_retweet_num_list[year_month_index] += retweet\n",
    "#             positive_favorite_num_list[year_month_index] += favorite\n",
    "        elif sentiment == 0:\n",
    "            if weight not in neutral_weight_num_dict[year_month]:\n",
    "                neutral_weight_num_dict[year_month][weight] = []\n",
    "            neutral_weight_num_dict[year_month][weight].append((favorite, retweet, tweet_text))\n",
    "#             neutral_retweet_num_list[year_month_index] += retweet\n",
    "#             neutral_favorite_num_list[year_month_index] += favorite\n",
    "        elif sentiment == -1:\n",
    "            if weight not in negative_weight_num_dict[year_month]:\n",
    "                negative_weight_num_dict[year_month][weight] = []\n",
    "            negative_weight_num_dict[year_month][weight].append((favorite, retweet, tweet_text))\n",
    "#             negative_retweet_num_list[year_month_index] += retweet\n",
    "#             negative_favorite_num_list[year_month_index] += favorite\n",
    "        else:\n",
    "            print('sentiment cannot be other nunmber besides 1, 0, -1')\n",
    "        \n",
    "print('positive_weight_num_dict: ', positive_weight_num_dict)\n",
    "print('neutral_weight_num_dict: ', neutral_weight_num_dict)\n",
    "print('negative_weight_num_dict: ', negative_weight_num_dict)"
   ]
  },
  {
   "cell_type": "code",
   "execution_count": 64,
   "metadata": {},
   "outputs": [
    {
     "name": "stdout",
     "output_type": "stream",
     "text": [
      "- (47, 15, \"Looking forward to hearing the perspective of white blue-collar workers on their economic anxiety as we're vaporized in a nuclear fireball.\")\n",
      "- (6, 3, 'Me: should I get a knife tattoo like 21 savage?\\nLaurel: *hits juul* sleep on it')\n",
      "- (5, 0, 'I’m sick AF. I have 3 exams. All I want to do is sleep. \\n\\nBut I got Vaporu on deck, lets get this shit.')\n",
      "- (5, 0, '\"can i eat your vape\\n\\n......and your ass while you\\'re at it\"')\n",
      "- (2, 0, 'War for the Planet of the Vapes')\n",
      "- (1, 0, '@weedvaper1997 You’re twenty. I’m forty five. I’ve been fighting for LGBT rights since I came out at university 25… ')\n",
      "- (1, 0, '@VapinGamers @PUBATTLEGROUNDS It’s full of good tips and zero wasted movements .')\n",
      "- (1, 0, \"I lost my mother fucking hash pen &amp; it's so real rn it hurts.. the pain 😭 #vapelife\")\n",
      "- (0, 0, '@sublimemarch TBPH I seriously thought someone was literally vaping when I saw it in the corner of my eye and I was… ')\n",
      "- (0, 0, 'I hate how many times a day I hear \"fuck wheres my juul\"')\n",
      "- (0, 0, '@ianbremmer We humans don’t give a fuck like people who have to smoke a cigarette while the city has been pounded b… ')\n",
      "- (0, 0, '@uniwave Wird man die neue Generation auch kaufen können, oder ist das wieder so Vapor Ware?')\n"
     ]
    }
   ],
   "source": [
    "def get_most_weight_tweets(input_dict):\n",
    "    for key in sorted(input_dict, reverse=True):\n",
    "#         print('key: ', key)\n",
    "        for tweet_item in input_dict[key]:\n",
    "            print('-', tweet_item)\n",
    "#         print(input_dict[key])\n",
    "#         print()\n",
    "        \n",
    "for year_month_index in range(len(year_month_key_list)):\n",
    "    year_month = year_month_key_list[year_month_index]\n",
    "#     get_most_weight_tweets(positive_weight_num_dict[year_month])\n",
    "#     get_most_weight_tweets(neutral_weight_num_dict[year_month])\n",
    "    get_most_weight_tweets(negative_weight_num_dict[year_month])"
   ]
  },
  {
   "cell_type": "markdown",
   "metadata": {},
   "source": [
    "### Debug - date after March, 2017 "
   ]
  },
  {
   "cell_type": "code",
   "execution_count": 65,
   "metadata": {},
   "outputs": [
    {
     "name": "stdout",
     "output_type": "stream",
     "text": [
      "length of tweets in month 2017_04: 59\n",
      "favorite_inLine:  0\n"
     ]
    }
   ],
   "source": [
    "def get_tweet_retweet_favorite_temp(tweet_id):\n",
    "#     try:\n",
    "    status = api.get_status(tweet_id)\n",
    "    tweet = status._json\n",
    "    retweet = tweet['retweet_count']\n",
    "    favorite = tweet['favorite_count']\n",
    "#     except:\n",
    "#         retweet = 0\n",
    "#         favorite = 0\n",
    "    return retweet, favorite\n",
    "\n",
    "for year_month in ['2017_04']:\n",
    "    # e-cigarette\n",
    "    file_name = 'juliana_SF_allECigarette_'+year_month+'_categoryKeyWord.json'\n",
    "    \n",
    "    # tobacco\n",
    "#     file_name = 'juliana_allSF_tobacco_'+year_month+'.json'\n",
    "    \n",
    "    # flavored tobacco\n",
    "#     file_name = 'juliana_allSF_flavored_tobacco_'+year_month+'.json'\n",
    "    \n",
    "    file = file_path + file_name\n",
    "    with open(file, \"r\") as f:\n",
    "        everyLines = f.readlines()\n",
    "        num_of_tweets = len(everyLines)\n",
    "        print('length of tweets in month %s: %d' % (year_month, num_of_tweets))\n",
    "#         tweets_total_list.append(num_of_tweets)\n",
    "        for line in everyLines:\n",
    "            try:\n",
    "                lineInJson = json.loads(line)\n",
    "            except:\n",
    "                print('Cannot load the line: ', line)\n",
    "            \n",
    "            # get retweet and favorite\n",
    "            id_inLine = lineInJson['id']\n",
    "            retweet_inLine, favorite_inLine = get_tweet_retweet_favorite_temp(id_inLine)\n",
    "            print('favorite_inLine: ', favorite_inLine)\n",
    "            break"
   ]
  },
  {
   "cell_type": "markdown",
   "metadata": {},
   "source": [
    "Tweepy API has rate limit. We may exceed the limit every 15 mins."
   ]
  },
  {
   "cell_type": "code",
   "execution_count": null,
   "metadata": {},
   "outputs": [],
   "source": []
  }
 ],
 "metadata": {
  "kernelspec": {
   "display_name": "Python 3",
   "language": "python",
   "name": "python3"
  },
  "language_info": {
   "codemirror_mode": {
    "name": "ipython",
    "version": 3
   },
   "file_extension": ".py",
   "mimetype": "text/x-python",
   "name": "python",
   "nbconvert_exporter": "python",
   "pygments_lexer": "ipython3",
   "version": "3.7.3"
  }
 },
 "nbformat": 4,
 "nbformat_minor": 2
}
