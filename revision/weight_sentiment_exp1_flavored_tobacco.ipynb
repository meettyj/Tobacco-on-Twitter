{
 "cells": [
  {
   "cell_type": "code",
   "execution_count": 1,
   "metadata": {},
   "outputs": [],
   "source": [
    "import os\n",
    "import json\n",
    "import pandas as pd\n",
    "import numpy as np\n",
    "import requests\n",
    "import time\n",
    "\n",
    "import tweepy\n",
    "\n",
    "from vaderSentiment.vaderSentiment import SentimentIntensityAnalyzer \n",
    "import re\n",
    "\n",
    "from __private import CONSUMER_API_KEY\n",
    "from __private import CONSUMER_API_KEY_SECRET\n",
    "from __private import ACCESS_TOKEN\n",
    "from __private import ACCESS_TOKEN_SECRET"
   ]
  },
  {
   "cell_type": "code",
   "execution_count": 2,
   "metadata": {
    "scrolled": true
   },
   "outputs": [],
   "source": [
    "# tweepy API\n",
    "auth = tweepy.OAuthHandler(CONSUMER_API_KEY, CONSUMER_API_KEY_SECRET)\n",
    "auth.set_access_token(ACCESS_TOKEN, ACCESS_TOKEN_SECRET)\n",
    "api = tweepy.API(auth)\n",
    "    \n",
    "def get_tweet_retweet_favorite_by_id(tweet_id):\n",
    "    try:\n",
    "        status = api.get_status(tweet_id)\n",
    "        tweet = status._json\n",
    "        retweet = tweet['retweet_count']\n",
    "        favorite = tweet['favorite_count']\n",
    "    except:\n",
    "        retweet = 0\n",
    "        favorite = 0\n",
    "    return retweet, favorite\n",
    "\n",
    "# get_tweet_retweet_favorite_by_id(726061616869961728)"
   ]
  },
  {
   "cell_type": "code",
   "execution_count": 3,
   "metadata": {},
   "outputs": [],
   "source": [
    "# sentiment analysis\n",
    "analyzer = SentimentIntensityAnalyzer()\n",
    "\n",
    "def analyzeSentimentByVader_one_sentence(sentence):\n",
    "    vs = analyzer.polarity_scores(sentence)\n",
    "\n",
    "    if vs['compound'] >= 0.05:\n",
    "        return 1 # positive\n",
    "    elif vs['compound'] <= 0.05 and vs['compound'] > -0.05:\n",
    "        return 0 # neutral\n",
    "    elif vs['compound'] <= -0.05:\n",
    "        return -1 # negative\n",
    "\n",
    "    return -2 # should not be in here"
   ]
  },
  {
   "cell_type": "code",
   "execution_count": 42,
   "metadata": {},
   "outputs": [],
   "source": [
    "# year_month_key_list = ['2016_04','2016_05','2016_06','2016_07','2016_08','2016_09','2016_10','2016_11','2016_12',\n",
    "#                        '2017_01','2017_02', '2017_03','2017_04','2017_05','2017_06','2017_07','2017_08','2017_09',\n",
    "#                        '2017_10','2017_11','2017_12', '2018_01', '2018_02', '2018_03', '2018_04', '2018_05', \n",
    "#                        '2018_06', '2018_07', '2018_08', '2018_09', '2018_10', '2018_11', '2018_12', '2019_01', \n",
    "#                        '2019_02', '2019_03', '2019_04' ]\n",
    "year_month_key_list = [ '2018_10', '2018_11', '2018_12', '2019_01', '2019_02', '2019_03', '2019_04'\n",
    "                       ]\n",
    "# year_month_key_list = ['2016_04']\n",
    "file_path = \"/mnt/volume-5T/result/\""
   ]
  },
  {
   "cell_type": "code",
   "execution_count": 43,
   "metadata": {},
   "outputs": [],
   "source": [
    "def get_weight(year_month):\n",
    "    positive_weight = 0\n",
    "    neutral_weight = 0\n",
    "    negative_weight = 0\n",
    "    for i in range(len(sentiment_total_dict[year_month])):\n",
    "        sentiment = sentiment_total_dict[year_month][i]\n",
    "        retweet = retweet_total_dict[year_month][i]\n",
    "        favorite = favorite_total_dict[year_month][i]\n",
    "        weight = retweet + favorite\n",
    "        if sentiment == 1:\n",
    "            positive_weight += weight\n",
    "        elif sentiment == 0:\n",
    "            neutral_weight += weight\n",
    "        elif sentiment == -1:\n",
    "            negative_weight += weight\n",
    "        else:\n",
    "            print('sentiment cannot be other nunmber besides 1, 0, -1')\n",
    "            \n",
    "    print('positive_weight: ', positive_weight)\n",
    "    print('neutral_weight: ', neutral_weight)\n",
    "    print('negative_weight: ', negative_weight)\n",
    "    return positive_weight, neutral_weight, negative_weight\n",
    "\n",
    "def get_retweet_favorite(year_month):\n",
    "    positive_retweet = 0\n",
    "    neutral_retweet = 0\n",
    "    negative_retweet = 0\n",
    "    positive_favorite = 0\n",
    "    neutral_favorite = 0\n",
    "    negative_favorite = 0\n",
    "    \n",
    "    for i in range(len(sentiment_total_dict[year_month])):\n",
    "        sentiment = sentiment_total_dict[year_month][i]\n",
    "        retweet = retweet_total_dict[year_month][i]\n",
    "        favorite = favorite_total_dict[year_month][i]\n",
    "        if sentiment == 1:\n",
    "            positive_retweet += retweet\n",
    "            positive_favorite += favorite\n",
    "        elif sentiment == 0:\n",
    "            neutral_retweet += retweet\n",
    "            neutral_favorite += favorite\n",
    "        elif sentiment == -1:\n",
    "            negative_retweet += retweet\n",
    "            negative_favorite += favorite\n",
    "        else:\n",
    "            print('sentiment cannot be other nunmber besides 1, 0, -1')\n",
    "            \n",
    "    print('positive_retweet: ', positive_retweet)\n",
    "    print('neutral_retweet: ', neutral_retweet)\n",
    "    print('negative_retweet: ', negative_retweet)\n",
    "    print('positive_favorite: ', positive_favorite)\n",
    "    print('neutral_favorite: ', neutral_favorite)\n",
    "    print('negative_favorite: ', negative_favorite)\n",
    "    return positive_retweet, neutral_retweet, negative_retweet, positive_favorite, neutral_favorite, negative_favorite"
   ]
  },
  {
   "cell_type": "code",
   "execution_count": 44,
   "metadata": {
    "scrolled": true
   },
   "outputs": [
    {
     "name": "stdout",
     "output_type": "stream",
     "text": [
      "length of tweets in month 2018_10: 40\n",
      "positive_retweet:  1\n",
      "neutral_retweet:  9\n",
      "negative_retweet:  0\n",
      "positive_favorite:  32\n",
      "neutral_favorite:  207\n",
      "negative_favorite:  0\n",
      "length of tweets in month 2018_11: 38\n",
      "positive_retweet:  0\n",
      "neutral_retweet:  0\n",
      "negative_retweet:  0\n",
      "positive_favorite:  6\n",
      "neutral_favorite:  17\n",
      "negative_favorite:  5\n",
      "length of tweets in month 2018_12: 33\n",
      "positive_retweet:  0\n",
      "neutral_retweet:  0\n",
      "negative_retweet:  0\n",
      "positive_favorite:  45\n",
      "neutral_favorite:  30\n",
      "negative_favorite:  10\n",
      "length of tweets in month 2019_01: 42\n",
      "positive_retweet:  1\n",
      "neutral_retweet:  4\n",
      "negative_retweet:  5\n",
      "positive_favorite:  18\n",
      "neutral_favorite:  26\n",
      "negative_favorite:  318\n",
      "length of tweets in month 2019_02: 36\n",
      "positive_retweet:  1\n",
      "neutral_retweet:  27\n",
      "negative_retweet:  1\n",
      "positive_favorite:  3\n",
      "neutral_favorite:  147\n",
      "negative_favorite:  19\n",
      "length of tweets in month 2019_03: 48\n",
      "positive_retweet:  3\n",
      "neutral_retweet:  3\n",
      "negative_retweet:  1\n",
      "positive_favorite:  118\n",
      "neutral_favorite:  86\n",
      "negative_favorite:  8\n",
      "length of tweets in month 2019_04: 43\n",
      "positive_retweet:  1\n",
      "neutral_retweet:  15\n",
      "negative_retweet:  1\n",
      "positive_favorite:  7\n",
      "neutral_favorite:  182\n",
      "negative_favorite:  1\n",
      "length of text_total_dict:  7\n",
      "length of sentiment_total_dict:  7\n",
      "sentiment_total_dict:  {'2018_10': [1, 0, 0, 0, 1, 0, -1, 0, 0, 1, 0, 0, 0, 0, 0, 0, 1, 0, 0, 0, -1, 0, 1, 0, 0, 0, 0, 0, 0, 0, 0, 1, 1, 0, 0, 1, 0, 0, 1, 0], '2018_11': [1, -1, 0, 0, 1, 0, 0, -1, 0, 1, 0, -1, -1, 1, -1, 0, 0, 0, 0, 0, 0, 0, 0, 0, 0, 0, 0, 0, 0, 1, 0, 0, 0, 0, 1, 1, 0, -1], '2018_12': [0, 0, 1, 0, 0, 0, 0, 0, -1, 0, 0, 0, 1, 1, 0, 0, 0, -1, 0, 0, 0, 1, 1, 1, 0, 0, -1, 1, 1, 0, 0, 0, -1], '2019_01': [1, -1, 1, 0, 0, 0, 0, 1, -1, -1, 0, 1, 0, 0, 0, 1, 1, 0, 0, 0, 0, 1, 0, 0, 0, 1, 1, -1, 0, 0, 0, -1, 1, 1, 0, 0, 0, -1, 0, -1, 0, 0], '2019_02': [1, -1, 1, 0, 0, 0, 1, 1, 1, 0, 0, -1, 0, 0, 0, 1, 1, -1, 1, 0, 1, 0, 0, 0, 0, 0, 0, 1, 0, 0, 0, 1, 0, -1, -1, 1], '2019_03': [1, 0, 0, 0, 0, -1, 0, 1, 0, 0, -1, -1, -1, -1, 1, 0, 0, 0, 0, 0, 0, 0, 0, 0, 1, 0, 0, 0, 0, 1, -1, 0, 1, -1, 0, 0, 0, 0, 0, 0, 0, 1, 1, -1, 0, -1, -1, 0], '2019_04': [0, 0, 0, -1, 0, 0, 1, 1, 0, 0, -1, 1, 0, 0, 0, 1, 0, -1, 0, 0, 0, 0, 0, 0, 0, 0, 0, 1, 0, 0, 1, 0, 0, 0, 0, 0, 1, -1, 1, 0, 0, 0, 1]}\n",
      "retweet_total_dict:  {'2018_10': [0, 0, 0, 2, 0, 0, 0, 2, 0, 0, 2, 0, 2, 0, 0, 0, 0, 0, 0, 0, 0, 0, 1, 0, 0, 0, 1, 0, 0, 0, 0, 0, 0, 0, 0, 0, 0, 0, 0, 0], '2018_11': [0, 0, 0, 0, 0, 0, 0, 0, 0, 0, 0, 0, 0, 0, 0, 0, 0, 0, 0, 0, 0, 0, 0, 0, 0, 0, 0, 0, 0, 0, 0, 0, 0, 0, 0, 0, 0, 0], '2018_12': [0, 0, 0, 0, 0, 0, 0, 0, 0, 0, 0, 0, 0, 0, 0, 0, 0, 0, 0, 0, 0, 0, 0, 0, 0, 0, 0, 0, 0, 0, 0, 0, 0], '2019_01': [0, 0, 0, 0, 0, 0, 0, 0, 0, 0, 0, 0, 0, 0, 0, 0, 1, 0, 0, 0, 4, 0, 0, 0, 0, 0, 0, 5, 0, 0, 0, 0, 0, 0, 0, 0, 0, 0, 0, 0, 0, 0], '2019_02': [0, 0, 0, 0, 0, 0, 0, 0, 0, 0, 0, 1, 0, 0, 26, 0, 0, 0, 1, 0, 0, 0, 0, 0, 0, 0, 0, 0, 0, 0, 1, 0, 0, 0, 0, 0], '2019_03': [1, 0, 0, 0, 0, 0, 0, 0, 0, 0, 0, 0, 1, 0, 0, 0, 0, 0, 0, 0, 0, 0, 0, 0, 0, 0, 0, 0, 0, 0, 0, 0, 1, 0, 0, 0, 1, 2, 0, 0, 0, 0, 1, 0, 0, 0, 0, 0], '2019_04': [0, 1, 0, 0, 0, 0, 0, 0, 0, 0, 1, 0, 0, 0, 0, 0, 0, 0, 14, 0, 0, 0, 0, 0, 0, 0, 0, 0, 0, 0, 0, 0, 0, 0, 0, 0, 0, 0, 0, 0, 0, 0, 1]}\n",
      "favorite_total_dict:  {'2018_10': [9, 0, 1, 77, 6, 0, 0, 16, 2, 0, 22, 0, 27, 8, 0, 5, 1, 1, 1, 6, 0, 1, 4, 1, 0, 13, 14, 1, 1, 0, 0, 9, 1, 0, 0, 0, 0, 10, 2, 0], '2018_11': [0, 0, 5, 1, 0, 0, 0, 0, 0, 6, 0, 1, 4, 0, 0, 0, 1, 3, 0, 0, 1, 3, 1, 0, 1, 0, 0, 0, 0, 0, 0, 0, 1, 0, 0, 0, 0, 0], '2018_12': [0, 0, 1, 0, 0, 0, 7, 0, 0, 3, 0, 0, 0, 0, 1, 0, 0, 0, 11, 0, 1, 5, 2, 0, 0, 0, 10, 37, 0, 0, 5, 2, 0], '2019_01': [4, 0, 0, 0, 0, 0, 0, 0, 0, 0, 0, 0, 0, 1, 3, 3, 7, 0, 0, 0, 6, 1, 0, 0, 3, 0, 1, 318, 0, 1, 0, 0, 2, 0, 0, 6, 0, 0, 6, 0, 0, 0], '2019_02': [0, 0, 0, 1, 0, 0, 0, 1, 0, 0, 0, 0, 0, 0, 92, 0, 0, 0, 1, 6, 0, 0, 0, 1, 7, 3, 0, 1, 1, 0, 32, 0, 4, 0, 19, 0], '2019_03': [94, 0, 0, 0, 5, 0, 1, 0, 0, 0, 0, 0, 1, 0, 1, 0, 6, 0, 2, 0, 3, 0, 0, 19, 4, 0, 1, 2, 0, 0, 0, 11, 9, 1, 1, 0, 22, 3, 0, 0, 0, 10, 0, 0, 10, 5, 1, 0], '2019_04': [0, 7, 0, 0, 0, 3, 0, 2, 0, 0, 0, 0, 0, 0, 0, 0, 0, 0, 149, 0, 0, 1, 0, 0, 2, 0, 11, 0, 0, 0, 3, 1, 3, 0, 0, 0, 0, 1, 0, 0, 1, 4, 2]}\n"
     ]
    }
   ],
   "source": [
    "text_total_dict = {}\n",
    "sentiment_total_dict = {}\n",
    "retweet_total_dict = {}\n",
    "favorite_total_dict = {}\n",
    "\n",
    "positive_retweet_list = []\n",
    "neutral_retweet_list = []\n",
    "negative_retweet_list = []\n",
    "positive_favorite_list = []\n",
    "neutral_favorite_list = []\n",
    "negative_favorite_list = []\n",
    "\n",
    "for year_month in year_month_key_list:\n",
    "    \n",
    "    # e-cigarette\n",
    "#     file_name = 'juliana_SF_allECigarette_'+year_month+'_categoryKeyWord.json'\n",
    "    \n",
    "    # tobacco\n",
    "#     file_name = 'juliana_allSF_tobacco_'+year_month+'.json'\n",
    "    \n",
    "    # flavored tobacco\n",
    "    file_name = 'juliana_allSF_flavored_tobacco_'+year_month+'.json'\n",
    "    \n",
    "    file = file_path + file_name\n",
    "    \n",
    "    # initialization\n",
    "    text_total_dict[year_month] = []\n",
    "    sentiment_total_dict[year_month] = []\n",
    "    retweet_total_dict[year_month] = []\n",
    "    favorite_total_dict[year_month] = []\n",
    "    \n",
    "    with open(file, \"r\") as f:\n",
    "        everyLines = f.readlines()\n",
    "        num_of_tweets = len(everyLines)\n",
    "        print('length of tweets in month %s: %d' % (year_month, num_of_tweets))\n",
    "#         tweets_total_list.append(num_of_tweets)\n",
    "        for line in everyLines:\n",
    "            try:\n",
    "                lineInJson = json.loads(line)\n",
    "            except:\n",
    "                print('Cannot load the line: ', line)\n",
    "                \n",
    "            text_inLine = lineInJson[\"text\"]\n",
    "            text_afterRE = re.sub('https?:\\/\\/t\\.co\\/[\\s\\S]{10}', '', text_inLine)\n",
    "            text_total_dict[year_month].append(text_afterRE)\n",
    "            \n",
    "            # get sentiment\n",
    "            sentiment_sentence = analyzeSentimentByVader_one_sentence(text_afterRE)\n",
    "            if sentiment_sentence == -2:\n",
    "                print('Something wrong. The sentiment cannot be -2')\n",
    "            else:\n",
    "                sentiment_total_dict[year_month].append(sentiment_sentence)\n",
    "            \n",
    "            # get retweet and favorite\n",
    "            id_inLine = lineInJson['id']\n",
    "            retweet_inLine, favorite_inLine = get_tweet_retweet_favorite_by_id(id_inLine)\n",
    "            retweet_total_dict[year_month].append(retweet_inLine)\n",
    "            favorite_total_dict[year_month].append(favorite_inLine)\n",
    "            \n",
    "    \n",
    "    positive_retweet, neutral_retweet, negative_retweet, positive_favorite, neutral_favorite, negative_favorite = get_retweet_favorite(year_month)\n",
    "    \n",
    "    positive_retweet_list.append(positive_retweet)\n",
    "    neutral_retweet_list.append(neutral_retweet)\n",
    "    negative_retweet_list.append(negative_retweet)\n",
    "    positive_favorite_list.append(positive_favorite)\n",
    "    neutral_favorite_list.append(neutral_favorite)\n",
    "    negative_favorite_list.append(negative_favorite)\n",
    "    \n",
    "#     # Wait for 20 mins\n",
    "#     time.sleep(1200)\n",
    "    \n",
    "#     break\n",
    "    \n",
    "print('length of text_total_dict: ', len(text_total_dict))\n",
    "print('length of sentiment_total_dict: ', len(sentiment_total_dict))\n",
    "print('sentiment_total_dict: ', sentiment_total_dict)\n",
    "print('retweet_total_dict: ', retweet_total_dict)\n",
    "print('favorite_total_dict: ', favorite_total_dict)\n"
   ]
  },
  {
   "cell_type": "markdown",
   "metadata": {},
   "source": [
    "### get the average number for favorite and retweet - build table in Overleaf"
   ]
  },
  {
   "cell_type": "code",
   "execution_count": 45,
   "metadata": {},
   "outputs": [
    {
     "name": "stdout",
     "output_type": "stream",
     "text": [
      "positive_retweet_list:  [1, 0, 0, 1, 1, 3, 1]\n",
      "neutral_retweet_list:  [9, 0, 0, 4, 27, 3, 15]\n",
      "negative_retweet_list:  [0, 0, 0, 5, 1, 1, 1]\n",
      "positive_favorite_list:  [32, 6, 45, 18, 3, 118, 7]\n",
      "neutral_favorite_list:  [207, 17, 30, 26, 147, 86, 182]\n",
      "negative_favorite_list:  [0, 5, 10, 318, 19, 8, 1]\n"
     ]
    }
   ],
   "source": [
    "print('positive_retweet_list: ', positive_retweet_list)\n",
    "print('neutral_retweet_list: ', neutral_retweet_list)\n",
    "print('negative_retweet_list: ', negative_retweet_list)\n",
    "print('positive_favorite_list: ', positive_favorite_list)\n",
    "print('neutral_favorite_list: ', neutral_favorite_list)\n",
    "print('negative_favorite_list: ', negative_favorite_list)"
   ]
  },
  {
   "cell_type": "markdown",
   "metadata": {},
   "source": [
    "### weight = retweet + favorite"
   ]
  },
  {
   "cell_type": "code",
   "execution_count": 18,
   "metadata": {},
   "outputs": [
    {
     "name": "stdout",
     "output_type": "stream",
     "text": [
      "positive_weight_num_list:  [19, 4, 121, 8]\n",
      "neutral_weight_num_list:  [30, 174, 89, 197]\n",
      "negative_weight_num_list:  [323, 20, 9, 2]\n"
     ]
    }
   ],
   "source": [
    "positive_weight_num_list = [0 for i in range(len(year_month_key_list))]\n",
    "neutral_weight_num_list = [0 for i in range(len(year_month_key_list))]\n",
    "negative_weight_num_list = [0 for i in range(len(year_month_key_list))]\n",
    "\n",
    "for year_month_index in range(len(year_month_key_list)):\n",
    "    year_month = year_month_key_list[year_month_index]\n",
    "    for i in range(len(sentiment_total_dict[year_month])):\n",
    "        sentiment = sentiment_total_dict[year_month][i]\n",
    "        retweet = retweet_total_dict[year_month][i]\n",
    "        favorite = favorite_total_dict[year_month][i]\n",
    "        weight = retweet + favorite\n",
    "        if sentiment == 1:\n",
    "            positive_weight_num_list[year_month_index] += weight\n",
    "        elif sentiment == 0:\n",
    "            neutral_weight_num_list[year_month_index] += weight\n",
    "        elif sentiment == -1:\n",
    "            negative_weight_num_list[year_month_index] += weight\n",
    "        else:\n",
    "            print('sentiment cannot be other nunmber besides 1, 0, -1')\n",
    "        \n",
    "print('positive_weight_num_list: ', positive_weight_num_list)\n",
    "print('neutral_weight_num_list: ', neutral_weight_num_list)\n",
    "print('negative_weight_num_list: ', negative_weight_num_list)"
   ]
  },
  {
   "cell_type": "markdown",
   "metadata": {},
   "source": [
    "### Debug - date after March, 2017 "
   ]
  },
  {
   "cell_type": "code",
   "execution_count": 41,
   "metadata": {},
   "outputs": [
    {
     "name": "stdout",
     "output_type": "stream",
     "text": [
      "length of tweets in month 2017_04: 59\n",
      "favorite_inLine:  0\n"
     ]
    }
   ],
   "source": [
    "def get_tweet_retweet_favorite_temp(tweet_id):\n",
    "#     try:\n",
    "    status = api.get_status(tweet_id)\n",
    "    tweet = status._json\n",
    "    retweet = tweet['retweet_count']\n",
    "    favorite = tweet['favorite_count']\n",
    "#     except:\n",
    "#         retweet = 0\n",
    "#         favorite = 0\n",
    "    return retweet, favorite\n",
    "\n",
    "for year_month in ['2017_04']:\n",
    "    # e-cigarette\n",
    "    file_name = 'juliana_SF_allECigarette_'+year_month+'_categoryKeyWord.json'\n",
    "    \n",
    "    # tobacco\n",
    "#     file_name = 'juliana_allSF_tobacco_'+year_month+'.json'\n",
    "    \n",
    "    # flavored tobacco\n",
    "#     file_name = 'juliana_allSF_flavored_tobacco_'+year_month+'.json'\n",
    "    \n",
    "    file = file_path + file_name\n",
    "    with open(file, \"r\") as f:\n",
    "        everyLines = f.readlines()\n",
    "        num_of_tweets = len(everyLines)\n",
    "        print('length of tweets in month %s: %d' % (year_month, num_of_tweets))\n",
    "#         tweets_total_list.append(num_of_tweets)\n",
    "        for line in everyLines:\n",
    "            try:\n",
    "                lineInJson = json.loads(line)\n",
    "            except:\n",
    "                print('Cannot load the line: ', line)\n",
    "            \n",
    "            # get retweet and favorite\n",
    "            id_inLine = lineInJson['id']\n",
    "            retweet_inLine, favorite_inLine = get_tweet_retweet_favorite_temp(id_inLine)\n",
    "            print('favorite_inLine: ', favorite_inLine)\n",
    "            break"
   ]
  },
  {
   "cell_type": "markdown",
   "metadata": {},
   "source": [
    "Tweepy API has rate limit. We may exceed the limit every 15 mins."
   ]
  },
  {
   "cell_type": "markdown",
   "metadata": {},
   "source": [
    "### flavored tobacco weight list"
   ]
  },
  {
   "cell_type": "code",
   "execution_count": 19,
   "metadata": {},
   "outputs": [
    {
     "name": "stdout",
     "output_type": "stream",
     "text": [
      "length of flavored_tobacco_positive_weight_list:  37\n",
      "length of flavored_tobacco_neutral_weight_list:  37\n",
      "length of flavored_tobacco_negative_weight_list:  37\n"
     ]
    }
   ],
   "source": [
    "flavored_tobacco_positive_weight_list = [20, 21, 14, 30, 15, 20, 27, 9, 6, 9, 9, 34, 118, 25, 23, 10, 9, 8, 19, 27, 15, 27, 12, 12, 15, 6, 21, 10, 10, 15, 33, 6, 45, 19, 4, 121, 8]\n",
    "flavored_tobacco_neutral_weight_list = [70, 54, 35, 82, 53, 30, 42, 40, 21, 82, 117, 34, 108, 18, 11, 29, 16, 72, 14, 29, 32, 68, 44, 58, 12, 26, 69, 53, 76, 98, 216, 17, 30, 30, 174, 89, 197]\n",
    "flavored_tobacco_negative_weight_list = [6, 17, 48, 0, 8, 4, 5, 9, 8, 20, 8, 0, 9, 5, 83, 2, 113, 7, 5, 13, 10, 8, 26, 13, 15, 8, 4, 3, 4, 18, 0, 5, 10, 323, 20, 9, 2]\n",
    "\n",
    "print('length of flavored_tobacco_positive_weight_list: ', len(flavored_tobacco_positive_weight_list))\n",
    "print('length of flavored_tobacco_neutral_weight_list: ', len(flavored_tobacco_neutral_weight_list))\n",
    "print('length of flavored_tobacco_negative_weight_list: ', len(flavored_tobacco_negative_weight_list))"
   ]
  },
  {
   "cell_type": "code",
   "execution_count": null,
   "metadata": {},
   "outputs": [],
   "source": []
  },
  {
   "cell_type": "code",
   "execution_count": null,
   "metadata": {},
   "outputs": [],
   "source": []
  },
  {
   "cell_type": "code",
   "execution_count": null,
   "metadata": {},
   "outputs": [],
   "source": []
  },
  {
   "cell_type": "code",
   "execution_count": null,
   "metadata": {},
   "outputs": [],
   "source": []
  }
 ],
 "metadata": {
  "kernelspec": {
   "display_name": "Python 3",
   "language": "python",
   "name": "python3"
  },
  "language_info": {
   "codemirror_mode": {
    "name": "ipython",
    "version": 3
   },
   "file_extension": ".py",
   "mimetype": "text/x-python",
   "name": "python",
   "nbconvert_exporter": "python",
   "pygments_lexer": "ipython3",
   "version": "3.7.3"
  }
 },
 "nbformat": 4,
 "nbformat_minor": 2
}
