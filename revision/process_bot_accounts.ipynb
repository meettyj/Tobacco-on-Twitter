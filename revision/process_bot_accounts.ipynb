{
 "cells": [
  {
   "cell_type": "code",
   "execution_count": 9,
   "metadata": {},
   "outputs": [],
   "source": [
    "import os\n",
    "import json\n",
    "import pandas as pd\n",
    "import csv"
   ]
  },
  {
   "cell_type": "code",
   "execution_count": 45,
   "metadata": {
    "scrolled": false
   },
   "outputs": [
    {
     "name": "stdout",
     "output_type": "stream",
     "text": [
      "file_name_suffix:  56\n",
      "processed successfully, length = 3457\n",
      "file_name_suffix:  2\n",
      "processed successfully, length = 22223\n",
      "file_name_suffix:  1\n",
      "processed successfully, length = 392\n",
      "file_name_suffix:  58\n",
      "processed successfully, length = 3351\n",
      "file_name_suffix:  54\n",
      "processed successfully, length = 1128\n",
      "file_name_suffix:  51\n",
      "processed successfully, length = 1000\n",
      "file_name_suffix:  71\n",
      "processed successfully, length = 2752\n",
      "file_name_suffix:  31\n",
      "processed successfully, length = 1169\n",
      "file_name_suffix:  57\n",
      "processed successfully, length = 464\n",
      "file_name_suffix:  52\n",
      "processed successfully, length = 100\n",
      "file_name_suffix:  33\n",
      "processed successfully, length = 845\n",
      "file_name_suffix:  55\n",
      "processed successfully, length = 991\n",
      "file_name_suffix:  61\n",
      "processed successfully, length = 826\n",
      "file_name_suffix:  32\n",
      "processed successfully, length = 1337\n",
      "file_name_suffix:  53\n",
      "processed successfully, length = 403\n",
      "\n",
      "length of bot_accounts_list:  36690\n"
     ]
    }
   ],
   "source": [
    "def get_bot_accounts_list():\n",
    "    file_path = \"/mnt/volume-second-5T/data/bot_accounts/\"\n",
    "    bot_accounts_list = []\n",
    "\n",
    "    files= os.listdir(file_path)\n",
    "\n",
    "    # iterate the files\n",
    "    for file_name in files:\n",
    "        file_name = file_path + file_name\n",
    "        file_name_suffix = file_name.split('.')[0].split('_')[-1]\n",
    "        print('file_name_suffix: ', file_name_suffix)\n",
    "\n",
    "        if (file_name_suffix == \"1\") or (file_name_suffix[0] == \"3\") or (file_name_suffix[0] == \"5\"):\n",
    "            with open(file_name, 'r') as csv_file:\n",
    "                reader = csv.DictReader(csv_file)\n",
    "                temp_id_list = [row['id'] for row in reader if row['id']!= '']\n",
    "    #             print(temp_id_list)\n",
    "                bot_accounts_list.extend(temp_id_list)\n",
    "                print('processed successfully, length =', len(temp_id_list))\n",
    "\n",
    "        elif (file_name_suffix == \"2\") or (file_name_suffix == \"61\"):\n",
    "            with open(file_name, 'r') as text_file:\n",
    "                lines = text_file.readlines()\n",
    "                for line in lines:\n",
    "                    line=line.strip('\\n')\n",
    "                    tmp_id = line.split('\\t')[0]\n",
    "    #                 print(tmp_id)\n",
    "                    bot_accounts_list.append(tmp_id)\n",
    "                print('processed successfully, length =', len(lines))\n",
    "\n",
    "        elif file_name_suffix == \"71\":\n",
    "            with open(file_name, 'r') as text_file:\n",
    "                lines = text_file.readlines()\n",
    "                for line in lines:\n",
    "                    line=line.strip('\\n')\n",
    "                    tmp_id = line.split(' ')[0]\n",
    "    #                 print(tmp_id)\n",
    "                    bot_accounts_list.append(tmp_id)\n",
    "                print('processed successfully, length =', len(lines))\n",
    "    \n",
    "    print()\n",
    "    bot_accounts_list = list(set(bot_accounts_list)) # remove duplication\n",
    "    print('length of bot_accounts_list: ', len(bot_accounts_list))\n",
    "    return bot_accounts_list\n",
    "\n",
    "        \n",
    "bot_accounts_list = get_bot_accounts_list()"
   ]
  },
  {
   "cell_type": "code",
   "execution_count": null,
   "metadata": {},
   "outputs": [],
   "source": []
  },
  {
   "cell_type": "code",
   "execution_count": null,
   "metadata": {},
   "outputs": [],
   "source": []
  },
  {
   "cell_type": "code",
   "execution_count": null,
   "metadata": {},
   "outputs": [],
   "source": []
  },
  {
   "cell_type": "code",
   "execution_count": null,
   "metadata": {},
   "outputs": [],
   "source": []
  },
  {
   "cell_type": "code",
   "execution_count": null,
   "metadata": {},
   "outputs": [],
   "source": []
  },
  {
   "cell_type": "code",
   "execution_count": null,
   "metadata": {},
   "outputs": [],
   "source": []
  },
  {
   "cell_type": "code",
   "execution_count": null,
   "metadata": {},
   "outputs": [],
   "source": []
  },
  {
   "cell_type": "code",
   "execution_count": null,
   "metadata": {},
   "outputs": [],
   "source": []
  }
 ],
 "metadata": {
  "kernelspec": {
   "display_name": "Python 3",
   "language": "python",
   "name": "python3"
  },
  "language_info": {
   "codemirror_mode": {
    "name": "ipython",
    "version": 3
   },
   "file_extension": ".py",
   "mimetype": "text/x-python",
   "name": "python",
   "nbconvert_exporter": "python",
   "pygments_lexer": "ipython3",
   "version": "3.7.3"
  }
 },
 "nbformat": 4,
 "nbformat_minor": 2
}
