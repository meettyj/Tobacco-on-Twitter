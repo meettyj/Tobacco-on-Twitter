{
 "cells": [
  {
   "cell_type": "code",
   "execution_count": 27,
   "metadata": {},
   "outputs": [],
   "source": [
    "import os\n",
    "import json\n",
    "import pandas as pd\n",
    "import numpy as np"
   ]
  },
  {
   "cell_type": "markdown",
   "metadata": {},
   "source": [
    "### ecig"
   ]
  },
  {
   "cell_type": "code",
   "execution_count": 28,
   "metadata": {},
   "outputs": [],
   "source": [
    "# ecig\n",
    "ecig_positive_retweet_list = [15, 13, 25, 17, 7, 7, 11, 4, 30, 15, 7, 11, 19, 9, 0, 5, 7, 1, 1, 3, 2, 35, 20, 5, 17, 7, 13, 12, 14, 11, 2, 149, 21, 2, 10, 3, 7]\n",
    "ecig_neutral_retweet_list = [26, 15, 41, 9, 6, 7, 5, 3, 3, 6, 7, 15, 3, 4, 2, 8, 35, 0, 1, 18, 5, 5, 21, 9, 67, 4, 83, 9, 11, 101, 116, 136, 25, 11, 43, 8, 3]\n",
    "ecig_negative_retweet_list = [0, 5, 3, 5, 0, 16, 0, 5, 19, 0, 0, 5, 0, 0, 4, 4, 0, 2, 18, 0, 2, 4, 1, 6, 0, 6, 23, 0, 0, 3, 1, 54, 8, 3, 7, 2, 31]\n",
    "ecig_positive_favorite_list = [60, 52, 74, 105, 43, 161, 64, 67, 355, 58, 20, 112, 66, 40, 38, 40, 102, 11, 26, 50, 80, 148, 265, 89, 87, 73, 232, 91, 183, 114, 51, 680, 150, 82, 129, 168, 161]\n",
    "ecig_neutral_favorite_list = [118, 158, 147, 64, 90, 72, 48, 51, 137, 31, 30, 49, 64, 36, 96, 29, 116, 13, 23, 166, 54, 42, 131, 63, 367, 36, 555, 157, 98, 1358, 895, 565, 90, 246, 206, 75, 99]\n",
    "ecig_negative_favorite_list = [15, 64, 31, 22, 5, 103, 7, 71, 82, 8, 19, 38, 7, 0, 43, 48, 11, 4, 67, 24, 19, 34, 46, 82, 17, 46, 84, 36, 60, 39, 43, 285, 50, 79, 80, 29, 184]"
   ]
  },
  {
   "cell_type": "markdown",
   "metadata": {},
   "source": [
    "### tobacco"
   ]
  },
  {
   "cell_type": "code",
   "execution_count": 29,
   "metadata": {},
   "outputs": [],
   "source": [
    "# tobacco\n",
    "tobacco_positive_retweet_list = [3489, 51, 58, 34, 19, 19, 27, 35, 16, 27, 25, 58, 58, 25, 16, 149, 41, 13, 133, 16, 16, 29, 28, 10, 137, 101, 61, 19, 15, 22, 30, 152, 25, 7, 76, 13, 26]\n",
    "tobacco_neutral_retweet_list = [160, 125, 158, 58, 139, 155, 89, 111, 155, 221, 202, 224, 136, 222, 62, 82, 79, 402, 207, 171, 44, 47, 93, 64, 132, 109, 116, 234, 59, 92, 180, 497, 46, 249, 89, 44, 179]\n",
    "tobacco_negative_retweet_list = [179, 76, 60, 20, 235, 27, 79, 70, 8, 28, 31, 80, 16, 151, 55, 447, 24, 29, 35, 34, 33, 59, 29, 32, 78, 67, 44, 14, 56, 87, 35, 54, 47, 32, 23, 43, 113]\n",
    "tobacco_positive_favorite_list = [3295, 250, 251, 227, 221, 197, 257, 224, 101, 149, 117, 359, 274, 245, 229, 1226, 499, 73, 517, 215, 150, 211, 261, 159, 546, 1010, 324, 286, 159, 336, 391, 989, 173, 158, 533, 249, 280]\n",
    "tobacco_neutral_favorite_list = [587, 675, 652, 477, 1042, 1231, 522, 1495, 402, 1076, 1025, 1408, 768, 1066, 698, 1619, 563, 1012, 645, 1812, 297, 476, 577, 591, 844, 675, 817, 4160, 728, 684, 2547, 1767, 367, 3929, 757, 450, 1419]\n",
    "tobacco_negative_favorite_list = [323, 223, 161, 145, 550, 189, 174, 271, 96, 139, 156, 229, 109, 488, 225, 2668, 305, 122, 190, 313, 449, 179, 160, 281, 355, 338, 348, 192, 284, 327, 335, 463, 289, 807, 275, 480, 969]"
   ]
  },
  {
   "cell_type": "markdown",
   "metadata": {},
   "source": [
    "### flavored tobacco"
   ]
  },
  {
   "cell_type": "code",
   "execution_count": 30,
   "metadata": {},
   "outputs": [],
   "source": [
    "# flavored tobacco\n",
    "flavored_tobacco_positive_retweet_list = [1, 2, 2, 1, 0, 0, 1, 0, 1, 0, 0, 1, 31, 1, 3, 1, 1, 2, 1, 8, 0, 3, 0, 2, 1, 0, 7, 0, 0, 2, 1, 0, 0, 1, 1, 3, 1]\n",
    "flavored_tobacco_neutral_retweet_list = [13, 8, 3, 9, 7, 6, 1, 1, 1, 25, 6, 1, 15, 1, 2, 0, 0, 2, 0, 3, 0, 3, 3, 4, 1, 0, 10, 2, 5, 7, 9, 0, 0, 4, 27, 3, 15]\n",
    "flavored_tobacco_negative_retweet_list = [0, 2, 7, 0, 3, 1, 1, 1, 0, 2, 1, 0, 0, 0, 23, 1, 6, 1, 0, 4, 1, 0, 0, 3, 1, 3, 2, 0, 0, 2, 0, 0, 0, 5, 1, 1, 1]\n",
    "flavored_tobacco_positive_favorite_list = [19, 19, 12, 29, 15, 20, 26, 9, 5, 9, 9, 33, 87, 24, 20, 9, 8, 6, 18, 19, 15, 24, 12, 10, 14, 6, 14, 10, 10, 13, 32, 6, 45, 18, 3, 118, 7]\n",
    "flavored_tobacco_neutral_favorite_list = [57, 46, 32, 73, 46, 24, 41, 39, 20, 57, 111, 33, 93, 17, 9, 29, 16, 70, 14, 26, 32, 65, 41, 54, 11, 26, 59, 51, 71, 91, 207, 17, 30, 26, 147, 86, 182]\n",
    "flavored_tobacco_negative_favorite_list = [6, 15, 41, 0, 5, 3, 4, 8, 8, 18, 7, 0, 9, 5, 60, 1, 107, 6, 5, 9, 9, 8, 26, 10, 14, 5, 2, 3, 4, 16, 0, 5, 10, 318, 19, 8, 1]"
   ]
  },
  {
   "cell_type": "markdown",
   "metadata": {},
   "source": [
    "### get the mean value"
   ]
  },
  {
   "cell_type": "code",
   "execution_count": 31,
   "metadata": {},
   "outputs": [],
   "source": [
    "# check standard deviation\n",
    "# # get the mean value\n",
    "# length_of_section_1 = 5+9\n",
    "# length_of_section_2 = length_of_section_1+12\n",
    "# length_of_section_3 = length_of_section_2+7\n",
    "# length_of_section_4 = length_of_section_3+4\n",
    "# x_number_section_1 = [i for i in range(0,length_of_section_1)]\n",
    "# x_number_section_2 = [i for i in range(length_of_section_1, length_of_section_2)]\n",
    "# x_number_section_3 = [i for i in range(length_of_section_2, length_of_section_3)]\n",
    "# x_number_section_4 = [i for i in range(length_of_section_3, length_of_section_4)]\n",
    "\n",
    "# def calculate_average(list_with_length_37):\n",
    "#     avg_1 = str(int(np.mean(list_with_length_37[:length_of_section_1])))\n",
    "#     avg_2 = str(int(np.mean(list_with_length_37[length_of_section_1:length_of_section_2])))\n",
    "#     avg_3 = str(int(np.mean(list_with_length_37[length_of_section_2:length_of_section_3])))\n",
    "#     avg_4 = str(int(np.mean(list_with_length_37[length_of_section_3:length_of_section_4])))\n",
    "#     print('list_with_length_37[:length_of_section_1]: ', list_with_length_37[:length_of_section_1])\n",
    "#     print('avg_1: ', avg_1)\n",
    "#     print('avg_2: ', avg_2)\n",
    "#     print('avg_3: ', avg_3)\n",
    "#     print('avg_4: ', avg_4)\n",
    "#     return avg_1, avg_2, avg_3, avg_4\n",
    "\n",
    "# def calculate_standard_deviation(list_with_length_37):\n",
    "#     std_1 = str(int(np.std(list_with_length_37[:length_of_section_1])))\n",
    "#     std_2 = str(int(np.std(list_with_length_37[length_of_section_1:length_of_section_2])))\n",
    "#     std_3 = str(int(np.std(list_with_length_37[length_of_section_2:length_of_section_3])))\n",
    "#     std_4 = str(int(np.std(list_with_length_37[length_of_section_3:length_of_section_4])))\n",
    "#     print('std_1: ', std_1)\n",
    "#     print('std_2: ', std_2)\n",
    "#     print('std_3: ', std_3)\n",
    "#     print('std_4: ', std_4)\n",
    "#     return std_1, std_2, std_3, std_4"
   ]
  },
  {
   "cell_type": "code",
   "execution_count": 32,
   "metadata": {},
   "outputs": [],
   "source": [
    "# get the mean value\n",
    "length_of_section_1 = 5+9\n",
    "length_of_section_2 = length_of_section_1+12\n",
    "length_of_section_3 = length_of_section_2+7\n",
    "length_of_section_4 = length_of_section_3+4\n",
    "x_number_section_1 = [i for i in range(0,length_of_section_1)]\n",
    "x_number_section_2 = [i for i in range(length_of_section_1, length_of_section_2)]\n",
    "x_number_section_3 = [i for i in range(length_of_section_2, length_of_section_3)]\n",
    "x_number_section_4 = [i for i in range(length_of_section_3, length_of_section_4)]\n",
    "\n",
    "def calculate_average(list_with_length_37):\n",
    "    avg_1 = str(int(np.mean(list_with_length_37[:length_of_section_1])))\n",
    "    avg_2 = str(int(np.mean(list_with_length_37[length_of_section_1:length_of_section_2])))\n",
    "    avg_3 = str(int(np.mean(list_with_length_37[length_of_section_2:length_of_section_3])))\n",
    "    avg_4 = str(int(np.mean(list_with_length_37[length_of_section_3:length_of_section_4])))\n",
    "    return avg_1, avg_2, avg_3, avg_4\n",
    "\n",
    "def calculate_standard_deviation(list_with_length_37):\n",
    "    std_1 = str(int(np.std(list_with_length_37[:length_of_section_1])))\n",
    "    std_2 = str(int(np.std(list_with_length_37[length_of_section_1:length_of_section_2])))\n",
    "    std_3 = str(int(np.std(list_with_length_37[length_of_section_2:length_of_section_3])))\n",
    "    std_4 = str(int(np.std(list_with_length_37[length_of_section_3:length_of_section_4])))\n",
    "    return std_1, std_2, std_3, std_4"
   ]
  },
  {
   "cell_type": "markdown",
   "metadata": {},
   "source": [
    "### generate the format for latex"
   ]
  },
  {
   "cell_type": "code",
   "execution_count": 33,
   "metadata": {},
   "outputs": [],
   "source": [
    "# check standard deviation\n",
    "# def output_overleaf_table_favorite_retweet(positive_favorite_list, neutral_favorite_list, negative_favorite_list,\n",
    "#                                           positive_retweet_list, neutral_retweet_list, negative_retweet_list):\n",
    "    \n",
    "#     positive_favorite_avg_1, positive_favorite_avg_2, positive_favorite_avg_3, positive_favorite_avg_4 = calculate_average(positive_favorite_list)\n",
    "# #     neutral_favorite_avg_1, neutral_favorite_avg_2, neutral_favorite_avg_3, neutral_favorite_avg_4 = calculate_average(neutral_favorite_list)\n",
    "# #     negative_favorite_avg_1, negative_favorite_avg_2, negative_favorite_avg_3, negative_favorite_avg_4 = calculate_average(negative_favorite_list)\n",
    "# #     positive_retweet_avg_1, positive_retweet_avg_2, positive_retweet_avg_3, positive_retweet_avg_4 = calculate_average(positive_retweet_list)\n",
    "# #     neutral_retweet_avg_1, neutral_retweet_avg_2, neutral_retweet_avg_3, neutral_retweet_avg_4 = calculate_average(neutral_retweet_list)\n",
    "# #     negative_retweet_avg_1, negative_retweet_avg_2, negative_retweet_avg_3, negative_retweet_avg_4 = calculate_average(negative_retweet_list)\n",
    "    \n",
    "#     positive_favorite_std_1, positive_favorite_std_2, positive_favorite_std_3, positive_favorite_std_4 = calculate_standard_deviation(positive_favorite_list)\n",
    "# #     neutral_favorite_std_1, neutral_favorite_std_2, neutral_favorite_std_3, neutral_favorite_std_4 = calculate_standard_deviation(neutral_favorite_list)\n",
    "# #     negative_favorite_std_1, negative_favorite_std_2, negative_favorite_std_3, negative_favorite_std_4 = calculate_standard_deviation(negative_favorite_list)\n",
    "# #     positive_retweet_std_1, positive_retweet_std_2, positive_retweet_std_3, positive_retweet_std_4 = calculate_standard_deviation(positive_retweet_list)\n",
    "# #     neutral_retweet_std_1, neutral_retweet_std_2, neutral_retweet_std_3, neutral_retweet_std_4 = calculate_standard_deviation(neutral_retweet_list)\n",
    "# #     negative_retweet_std_1, negative_retweet_std_2, negative_retweet_std_3, negative_retweet_std_4 = calculate_standard_deviation(negative_retweet_list)\n",
    "    \n",
    "#     print('positive_favorite_avg_1: ', positive_favorite_avg_1)\n",
    "#     print('positive_favorite_std_1: ', positive_favorite_std_1)\n",
    "# #     string_to_overleaf_1 = positive_favorite_avg_1+', '+positive_favorite_std_1+' & '+neutral_favorite_avg_1+', '+neutral_favorite_std_1+' & '+negative_favorite_avg_1+', '+negative_favorite_std_1+' & '+positive_retweet_avg_1+', '+positive_retweet_std_1+' & '+neutral_retweet_avg_1+', '+neutral_retweet_std_1+' & '+negative_retweet_avg_1+', '+negative_retweet_std_1\n",
    "# #     print('string_to_overleaf_1: ', string_to_overleaf_1)\n",
    "# #     string_to_overleaf_2 = positive_favorite_avg_2+', '+positive_favorite_std_2+' & '+neutral_favorite_avg_2+', '+neutral_favorite_std_2+' & '+negative_favorite_avg_2+', '+negative_favorite_std_2+' & '+positive_retweet_avg_2+', '+positive_retweet_std_2+' & '+neutral_retweet_avg_2+', '+neutral_retweet_std_2+' & '+negative_retweet_avg_2+', '+negative_retweet_std_2\n",
    "# #     print('string_to_overleaf_2: ', string_to_overleaf_2)\n",
    "# #     string_to_overleaf_3 = positive_favorite_avg_3+', '+positive_favorite_std_3+' & '+neutral_favorite_avg_3+', '+neutral_favorite_std_3+' & '+negative_favorite_avg_3+', '+negative_favorite_std_3+' & '+positive_retweet_avg_3+', '+positive_retweet_std_3+' & '+neutral_retweet_avg_3+', '+neutral_retweet_std_3+' & '+negative_retweet_avg_3+', '+negative_retweet_std_3\n",
    "# #     print('string_to_overleaf_3: ', string_to_overleaf_3)\n",
    "# #     string_to_overleaf_4 = positive_favorite_avg_4+', '+positive_favorite_std_4+' & '+neutral_favorite_avg_4+', '+neutral_favorite_std_4+' & '+negative_favorite_avg_4+', '+negative_favorite_std_4+' & '+positive_retweet_avg_4+', '+positive_retweet_std_4+' & '+neutral_retweet_avg_4+', '+neutral_retweet_std_4+' & '+negative_retweet_avg_4+', '+negative_retweet_std_4\n",
    "# #     print('string_to_overleaf_4: ', string_to_overleaf_4)\n",
    "    \n",
    "# #     string_to_overleaf_1 = positive_favorite_avg_1+' & '+neutral_favorite_avg_1+' & '+negative_favorite_avg_1+' & '+positive_retweet_avg_1+' & '+neutral_retweet_avg_1+' & '+negative_retweet_avg_1\n",
    "# #     print('string_to_overleaf_1: ', string_to_overleaf_1)\n",
    "# #     string_to_overleaf_2 = positive_favorite_avg_2+' & '+neutral_favorite_avg_2+' & '+negative_favorite_avg_2+' & '+positive_retweet_avg_2+' & '+neutral_retweet_avg_2+' & '+negative_retweet_avg_2\n",
    "# #     print('string_to_overleaf_2: ', string_to_overleaf_2)\n",
    "# #     string_to_overleaf_3 = positive_favorite_avg_3+' & '+neutral_favorite_avg_3+' & '+negative_favorite_avg_3+' & '+positive_retweet_avg_3+' & '+neutral_retweet_avg_3+' & '+negative_retweet_avg_3\n",
    "# #     print('string_to_overleaf_3: ', string_to_overleaf_3)\n",
    "# #     string_to_overleaf_4 = positive_favorite_avg_4+' & '+neutral_favorite_avg_4+' & '+negative_favorite_avg_4+' & '+positive_retweet_avg_4+' & '+neutral_retweet_avg_4+' & '+negative_retweet_avg_4\n",
    "# #     print('string_to_overleaf_4: ', string_to_overleaf_4)\n"
   ]
  },
  {
   "cell_type": "code",
   "execution_count": 34,
   "metadata": {},
   "outputs": [],
   "source": [
    "def output_overleaf_table_favorite_retweet(positive_favorite_list, neutral_favorite_list, negative_favorite_list,\n",
    "                                          positive_retweet_list, neutral_retweet_list, negative_retweet_list):\n",
    "    \n",
    "    positive_favorite_avg_1, positive_favorite_avg_2, positive_favorite_avg_3, positive_favorite_avg_4 = calculate_average(positive_favorite_list)\n",
    "    neutral_favorite_avg_1, neutral_favorite_avg_2, neutral_favorite_avg_3, neutral_favorite_avg_4 = calculate_average(neutral_favorite_list)\n",
    "    negative_favorite_avg_1, negative_favorite_avg_2, negative_favorite_avg_3, negative_favorite_avg_4 = calculate_average(negative_favorite_list)\n",
    "    positive_retweet_avg_1, positive_retweet_avg_2, positive_retweet_avg_3, positive_retweet_avg_4 = calculate_average(positive_retweet_list)\n",
    "    neutral_retweet_avg_1, neutral_retweet_avg_2, neutral_retweet_avg_3, neutral_retweet_avg_4 = calculate_average(neutral_retweet_list)\n",
    "    negative_retweet_avg_1, negative_retweet_avg_2, negative_retweet_avg_3, negative_retweet_avg_4 = calculate_average(negative_retweet_list)\n",
    "    \n",
    "    positive_favorite_std_1, positive_favorite_std_2, positive_favorite_std_3, positive_favorite_std_4 = calculate_standard_deviation(positive_favorite_list)\n",
    "    neutral_favorite_std_1, neutral_favorite_std_2, neutral_favorite_std_3, neutral_favorite_std_4 = calculate_standard_deviation(neutral_favorite_list)\n",
    "    negative_favorite_std_1, negative_favorite_std_2, negative_favorite_std_3, negative_favorite_std_4 = calculate_standard_deviation(negative_favorite_list)\n",
    "    positive_retweet_std_1, positive_retweet_std_2, positive_retweet_std_3, positive_retweet_std_4 = calculate_standard_deviation(positive_retweet_list)\n",
    "    neutral_retweet_std_1, neutral_retweet_std_2, neutral_retweet_std_3, neutral_retweet_std_4 = calculate_standard_deviation(neutral_retweet_list)\n",
    "    negative_retweet_std_1, negative_retweet_std_2, negative_retweet_std_3, negative_retweet_std_4 = calculate_standard_deviation(negative_retweet_list)\n",
    "    \n",
    "    string_to_overleaf_1 = positive_favorite_avg_1+', '+positive_favorite_std_1+' & '+neutral_favorite_avg_1+', '+neutral_favorite_std_1+' & '+negative_favorite_avg_1+', '+negative_favorite_std_1+' & '+positive_retweet_avg_1+', '+positive_retweet_std_1+' & '+neutral_retweet_avg_1+', '+neutral_retweet_std_1+' & '+negative_retweet_avg_1+', '+negative_retweet_std_1\n",
    "    print('string_to_overleaf_1: ', string_to_overleaf_1)\n",
    "    string_to_overleaf_2 = positive_favorite_avg_2+', '+positive_favorite_std_2+' & '+neutral_favorite_avg_2+', '+neutral_favorite_std_2+' & '+negative_favorite_avg_2+', '+negative_favorite_std_2+' & '+positive_retweet_avg_2+', '+positive_retweet_std_2+' & '+neutral_retweet_avg_2+', '+neutral_retweet_std_2+' & '+negative_retweet_avg_2+', '+negative_retweet_std_2\n",
    "    print('string_to_overleaf_2: ', string_to_overleaf_2)\n",
    "    string_to_overleaf_3 = positive_favorite_avg_3+', '+positive_favorite_std_3+' & '+neutral_favorite_avg_3+', '+neutral_favorite_std_3+' & '+negative_favorite_avg_3+', '+negative_favorite_std_3+' & '+positive_retweet_avg_3+', '+positive_retweet_std_3+' & '+neutral_retweet_avg_3+', '+neutral_retweet_std_3+' & '+negative_retweet_avg_3+', '+negative_retweet_std_3\n",
    "    print('string_to_overleaf_3: ', string_to_overleaf_3)\n",
    "    string_to_overleaf_4 = positive_favorite_avg_4+', '+positive_favorite_std_4+' & '+neutral_favorite_avg_4+', '+neutral_favorite_std_4+' & '+negative_favorite_avg_4+', '+negative_favorite_std_4+' & '+positive_retweet_avg_4+', '+positive_retweet_std_4+' & '+neutral_retweet_avg_4+', '+neutral_retweet_std_4+' & '+negative_retweet_avg_4+', '+negative_retweet_std_4\n",
    "    print('string_to_overleaf_4: ', string_to_overleaf_4)\n",
    "    \n",
    "#     string_to_overleaf_1 = positive_favorite_avg_1+' & '+neutral_favorite_avg_1+' & '+negative_favorite_avg_1+' & '+positive_retweet_avg_1+' & '+neutral_retweet_avg_1+' & '+negative_retweet_avg_1\n",
    "#     print('string_to_overleaf_1: ', string_to_overleaf_1)\n",
    "#     string_to_overleaf_2 = positive_favorite_avg_2+' & '+neutral_favorite_avg_2+' & '+negative_favorite_avg_2+' & '+positive_retweet_avg_2+' & '+neutral_retweet_avg_2+' & '+negative_retweet_avg_2\n",
    "#     print('string_to_overleaf_2: ', string_to_overleaf_2)\n",
    "#     string_to_overleaf_3 = positive_favorite_avg_3+' & '+neutral_favorite_avg_3+' & '+negative_favorite_avg_3+' & '+positive_retweet_avg_3+' & '+neutral_retweet_avg_3+' & '+negative_retweet_avg_3\n",
    "#     print('string_to_overleaf_3: ', string_to_overleaf_3)\n",
    "#     string_to_overleaf_4 = positive_favorite_avg_4+' & '+neutral_favorite_avg_4+' & '+negative_favorite_avg_4+' & '+positive_retweet_avg_4+' & '+neutral_retweet_avg_4+' & '+negative_retweet_avg_4\n",
    "#     print('string_to_overleaf_4: ', string_to_overleaf_4)\n"
   ]
  },
  {
   "cell_type": "code",
   "execution_count": 35,
   "metadata": {},
   "outputs": [
    {
     "name": "stdout",
     "output_type": "stream",
     "text": [
      "string_to_overleaf_1:  91, 80 & 78, 42 & 33, 31 & 13, 7 & 78, 42 & 33, 31\n",
      "string_to_overleaf_2:  84, 65 & 94, 93 & 36, 22 & 8, 9 & 94, 93 & 36, 22\n",
      "string_to_overleaf_3:  214, 197 & 531, 437 & 85, 82 & 31, 48 & 531, 437 & 85, 82\n",
      "string_to_overleaf_4:  135, 33 & 156, 71 & 93, 56 & 5, 3 & 156, 71 & 93, 56\n"
     ]
    }
   ],
   "source": [
    "output_overleaf_table_favorite_retweet(ecig_positive_favorite_list, ecig_neutral_favorite_list, ecig_negative_favorite_list,\n",
    "                                       ecig_positive_retweet_list, ecig_neutral_favorite_list, ecig_negative_favorite_list)"
   ]
  },
  {
   "cell_type": "code",
   "execution_count": 36,
   "metadata": {},
   "outputs": [
    {
     "name": "stdout",
     "output_type": "stream",
     "text": [
      "string_to_overleaf_1:  440, 794 & 887, 339 & 232, 131 & 281, 889 & 887, 339 & 232, 131\n",
      "string_to_overleaf_2:  424, 346 & 817, 437 & 465, 670 & 57, 52 & 817, 437 & 465, 670\n",
      "string_to_overleaf_3:  379, 260 & 1581, 1265 & 319, 75 & 46, 45 & 1581, 1265 & 319, 75\n",
      "string_to_overleaf_4:  305, 139 & 1638, 1367 & 632, 271 & 30, 27 & 1638, 1367 & 632, 271\n"
     ]
    }
   ],
   "source": [
    "output_overleaf_table_favorite_retweet(tobacco_positive_favorite_list, tobacco_neutral_favorite_list, tobacco_negative_favorite_list,\n",
    "                                       tobacco_positive_retweet_list, tobacco_neutral_favorite_list, tobacco_negative_favorite_list)"
   ]
  },
  {
   "cell_type": "code",
   "execution_count": 37,
   "metadata": {},
   "outputs": [
    {
     "name": "stdout",
     "output_type": "stream",
     "text": [
      "string_to_overleaf_1:  22, 19 & 49, 26 & 9, 10 & 2, 7 & 49, 26 & 9, 10\n",
      "string_to_overleaf_2:  13, 5 & 32, 19 & 21, 29 & 1, 2 & 32, 19 & 21, 29\n",
      "string_to_overleaf_3:  18, 13 & 75, 58 & 5, 5 & 1, 2 & 75, 58 & 5, 5\n",
      "string_to_overleaf_4:  36, 47 & 110, 59 & 86, 133 & 1, 0 & 110, 59 & 86, 133\n"
     ]
    }
   ],
   "source": [
    "output_overleaf_table_favorite_retweet(flavored_tobacco_positive_favorite_list, flavored_tobacco_neutral_favorite_list, flavored_tobacco_negative_favorite_list,\n",
    "                                       flavored_tobacco_positive_retweet_list, flavored_tobacco_neutral_favorite_list, flavored_tobacco_negative_favorite_list)"
   ]
  },
  {
   "cell_type": "code",
   "execution_count": null,
   "metadata": {},
   "outputs": [],
   "source": []
  }
 ],
 "metadata": {
  "kernelspec": {
   "display_name": "Python 3",
   "language": "python",
   "name": "python3"
  },
  "language_info": {
   "codemirror_mode": {
    "name": "ipython",
    "version": 3
   },
   "file_extension": ".py",
   "mimetype": "text/x-python",
   "name": "python",
   "nbconvert_exporter": "python",
   "pygments_lexer": "ipython3",
   "version": "3.7.3"
  }
 },
 "nbformat": 4,
 "nbformat_minor": 2
}
