{
 "cells": [
  {
   "cell_type": "code",
   "execution_count": 1,
   "metadata": {},
   "outputs": [],
   "source": [
    "import os\n",
    "import json\n",
    "import pandas as pd"
   ]
  },
  {
   "cell_type": "code",
   "execution_count": 5,
   "metadata": {},
   "outputs": [],
   "source": [
    "year_month_key_list = ['2016_04','2016_05','2016_06','2016_07','2016_08','2016_09','2016_10','2016_11','2016_12',\n",
    "                       '2017_01','2017_02', '2017_03','2017_04','2017_05','2017_06','2017_07','2017_08','2017_09',\n",
    "                       '2017_10','2017_11','2017_12', '2018_01', '2018_02', '2018_03', '2018_04', '2018_05', \n",
    "                       '2018_06', '2018_07', '2018_08', '2018_09', '2018_10', '2018_11', '2018_12', '2019_01', \n",
    "                       '2019_02', '2019_03', '2019_04' ]\n",
    "file_path = \"/mnt/volume-5T/result/\""
   ]
  },
  {
   "cell_type": "code",
   "execution_count": 16,
   "metadata": {},
   "outputs": [
    {
     "name": "stdout",
     "output_type": "stream",
     "text": [
      "length of tweets in month 2016_04: 132\n",
      "users:  105\n",
      "users_total_list:  [105]\n",
      "followers_total_list:  [235978]\n",
      "followees_total_list:  [84413]\n",
      "statuses_total_list:  [1892070]\n"
     ]
    }
   ],
   "source": [
    "users_total_list = list()\n",
    "followers_total_list = list()\n",
    "followees_total_list = list()\n",
    "statuses_total_list = list()\n",
    "\n",
    "for year_month in year_month_key_list:\n",
    "    users_month = set()\n",
    "    followers_count = 0\n",
    "    followees_count = 0\n",
    "    statuses_count = 0\n",
    "\n",
    "    file_name = 'juliana_SF_allECigarette_'+year_month+'_categoryKeyWord.json'\n",
    "    file = file_path + file_name\n",
    "    with open(file, \"r\") as f:\n",
    "        everyLines = f.readlines()\n",
    "        print('length of tweets in month %s: %d' % (year_month, len(everyLines)))\n",
    "        for line in everyLines:\n",
    "            try:\n",
    "                lineInJson = json.loads(line)\n",
    "            except:\n",
    "                print('Cannot load the line: ', line)\n",
    "            userInLine_id = lineInJson[\"user\"][\"id\"]\n",
    "            \n",
    "            if userInLine_id not in users_month:\n",
    "                userInLine_followers = lineInJson[\"user\"][\"followers_count\"]\n",
    "                userInLine_followees = lineInJson[\"user\"][\"friends_count\"]\n",
    "                userInLine_statuses = lineInJson[\"user\"][\"statuses_count\"]\n",
    "                followers_count += userInLine_followers\n",
    "                followees_count += userInLine_followees\n",
    "                statuses_count += userInLine_statuses\n",
    "                \n",
    "            users_month.add(userInLine_id)\n",
    "   \n",
    "    num_of_users = len(users_month)\n",
    "    print('users: ', num_of_users)\n",
    "    users_total_list.append(num_of_users)\n",
    "    followers_total_list.append(followers_count)\n",
    "    followees_total_list.append(followees_count)\n",
    "    statuses_total_list.append(statuses_count)\n",
    "    \n",
    "    break\n",
    "    \n",
    "print('users_total_list: ', users_total_list)\n",
    "print('followers_total_list: ', followers_total_list)\n",
    "print('followees_total_list: ', followees_total_list)\n",
    "print('statuses_total_list: ', statuses_total_list)"
   ]
  },
  {
   "cell_type": "code",
   "execution_count": null,
   "metadata": {},
   "outputs": [],
   "source": []
  },
  {
   "cell_type": "code",
   "execution_count": null,
   "metadata": {},
   "outputs": [],
   "source": []
  },
  {
   "cell_type": "code",
   "execution_count": null,
   "metadata": {},
   "outputs": [],
   "source": []
  },
  {
   "cell_type": "code",
   "execution_count": null,
   "metadata": {},
   "outputs": [],
   "source": []
  },
  {
   "cell_type": "code",
   "execution_count": null,
   "metadata": {},
   "outputs": [],
   "source": [
    "# SF_allECigarette\n",
    "SF_allECigarette_2016 = [132, 148, 127, 139, 107, 128, 119, 115, 127]\n",
    "SF_allECigarette_2017 = [59,65,90,59,67,88,74,89,47,50,76,122]\n",
    "SF_allECigarette_2018 = [111,103,102,99,81,92,127,106,92,83,141,113]\n",
    "SF_allECigarette_2019 = [130,105,74,92]\n",
    "SF_allECigarette_total = []\n",
    "SF_allECigarette_total.extend(SF_allECigarette_2016)\n",
    "SF_allECigarette_total.extend(SF_allECigarette_2017)\n",
    "SF_allECigarette_total.extend(SF_allECigarette_2018)\n",
    "SF_allECigarette_total.extend(SF_allECigarette_2019)\n",
    "print('length of SF_allECigarette_total: ', len(SF_allECigarette_total))"
   ]
  },
  {
   "cell_type": "code",
   "execution_count": null,
   "metadata": {},
   "outputs": [],
   "source": []
  },
  {
   "cell_type": "code",
   "execution_count": null,
   "metadata": {},
   "outputs": [],
   "source": []
  },
  {
   "cell_type": "code",
   "execution_count": null,
   "metadata": {},
   "outputs": [],
   "source": []
  },
  {
   "cell_type": "code",
   "execution_count": null,
   "metadata": {},
   "outputs": [],
   "source": []
  },
  {
   "cell_type": "code",
   "execution_count": null,
   "metadata": {},
   "outputs": [],
   "source": []
  },
  {
   "cell_type": "code",
   "execution_count": null,
   "metadata": {},
   "outputs": [],
   "source": []
  },
  {
   "cell_type": "code",
   "execution_count": null,
   "metadata": {},
   "outputs": [],
   "source": []
  }
 ],
 "metadata": {
  "kernelspec": {
   "display_name": "Python 3",
   "language": "python",
   "name": "python3"
  },
  "language_info": {
   "codemirror_mode": {
    "name": "ipython",
    "version": 3
   },
   "file_extension": ".py",
   "mimetype": "text/x-python",
   "name": "python",
   "nbconvert_exporter": "python",
   "pygments_lexer": "ipython3",
   "version": "3.7.3"
  }
 },
 "nbformat": 4,
 "nbformat_minor": 2
}
