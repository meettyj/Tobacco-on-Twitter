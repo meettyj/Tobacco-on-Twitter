{
 "cells": [
  {
   "cell_type": "code",
   "execution_count": 1,
   "metadata": {},
   "outputs": [],
   "source": [
    "import os\n",
    "import json\n",
    "import pandas as pd\n",
    "import numpy as np\n",
    "import requests\n",
    "\n",
    "import tweepy\n",
    "\n",
    "from __private import CONSUMER_API_KEY\n",
    "from __private import CONSUMER_API_KEY_SECRET\n",
    "from __private import ACCESS_TOKEN\n",
    "from __private import ACCESS_TOKEN_SECRET"
   ]
  },
  {
   "cell_type": "code",
   "execution_count": 19,
   "metadata": {
    "scrolled": true
   },
   "outputs": [],
   "source": [
    "# tweepy API\n",
    "auth = tweepy.OAuthHandler(CONSUMER_API_KEY, CONSUMER_API_KEY_SECRET)\n",
    "auth.set_access_token(ACCESS_TOKEN, ACCESS_TOKEN_SECRET)\n",
    "api = tweepy.API(auth)\n",
    "    \n",
    "def get_tweet_retweet_favorite_by_id(tweet_id):\n",
    "    status = api.get_status(tweet_id)\n",
    "#     print(status)\n",
    "    tweet = status._json\n",
    "    print(tweet['code'])\n",
    "#     print(tweet['retweet_count'])\n",
    "#     print(tweet['favorite_count'])\n",
    "    return tweet['retweet_count'], tweet['favorite_count']\n",
    "\n",
    "# get_tweet_retweet_favorite_by_id(726061616869961728)"
   ]
  },
  {
   "cell_type": "code",
   "execution_count": 20,
   "metadata": {},
   "outputs": [],
   "source": [
    "year_month_key_list = ['2016_04','2016_05','2016_06','2016_07','2016_08','2016_09','2016_10','2016_11','2016_12',\n",
    "                       '2017_01','2017_02', '2017_03','2017_04','2017_05','2017_06','2017_07','2017_08','2017_09',\n",
    "                       '2017_10','2017_11','2017_12', '2018_01', '2018_02', '2018_03', '2018_04', '2018_05', \n",
    "                       '2018_06', '2018_07', '2018_08', '2018_09', '2018_10', '2018_11', '2018_12', '2019_01', \n",
    "                       '2019_02', '2019_03', '2019_04' ]\n",
    "file_path = \"/mnt/volume-5T/result/\""
   ]
  },
  {
   "cell_type": "code",
   "execution_count": 21,
   "metadata": {},
   "outputs": [
    {
     "name": "stdout",
     "output_type": "stream",
     "text": [
      "length of tweets in month 2016_04: 97\n"
     ]
    },
    {
     "ename": "KeyError",
     "evalue": "'code'",
     "output_type": "error",
     "traceback": [
      "\u001b[0;31m---------------------------------------------------------------------------\u001b[0m",
      "\u001b[0;31mKeyError\u001b[0m                                  Traceback (most recent call last)",
      "\u001b[0;32m<ipython-input-21-4156d6cd1645>\u001b[0m in \u001b[0;36m<module>\u001b[0;34m\u001b[0m\n\u001b[1;32m     34\u001b[0m \u001b[0;34m\u001b[0m\u001b[0m\n\u001b[1;32m     35\u001b[0m \u001b[0;34m\u001b[0m\u001b[0m\n\u001b[0;32m---> 36\u001b[0;31m             \u001b[0mretweet_inLine\u001b[0m\u001b[0;34m,\u001b[0m \u001b[0mfavorite_inLine\u001b[0m \u001b[0;34m=\u001b[0m \u001b[0mget_tweet_retweet_favorite_by_id\u001b[0m\u001b[0;34m(\u001b[0m\u001b[0mid_inLine\u001b[0m\u001b[0;34m)\u001b[0m\u001b[0;34m\u001b[0m\u001b[0;34m\u001b[0m\u001b[0m\n\u001b[0m\u001b[1;32m     37\u001b[0m \u001b[0;34m\u001b[0m\u001b[0m\n\u001b[1;32m     38\u001b[0m \u001b[0;34m\u001b[0m\u001b[0m\n",
      "\u001b[0;32m<ipython-input-19-35dbd10a0888>\u001b[0m in \u001b[0;36mget_tweet_retweet_favorite_by_id\u001b[0;34m(tweet_id)\u001b[0m\n\u001b[1;32m      8\u001b[0m \u001b[0;31m#     print(status)\u001b[0m\u001b[0;34m\u001b[0m\u001b[0;34m\u001b[0m\u001b[0;34m\u001b[0m\u001b[0m\n\u001b[1;32m      9\u001b[0m     \u001b[0mtweet\u001b[0m \u001b[0;34m=\u001b[0m \u001b[0mstatus\u001b[0m\u001b[0;34m.\u001b[0m\u001b[0m_json\u001b[0m\u001b[0;34m\u001b[0m\u001b[0;34m\u001b[0m\u001b[0m\n\u001b[0;32m---> 10\u001b[0;31m     \u001b[0mprint\u001b[0m\u001b[0;34m(\u001b[0m\u001b[0mtweet\u001b[0m\u001b[0;34m[\u001b[0m\u001b[0;34m'code'\u001b[0m\u001b[0;34m]\u001b[0m\u001b[0;34m)\u001b[0m\u001b[0;34m\u001b[0m\u001b[0;34m\u001b[0m\u001b[0m\n\u001b[0m\u001b[1;32m     11\u001b[0m \u001b[0;31m#     print(tweet['retweet_count'])\u001b[0m\u001b[0;34m\u001b[0m\u001b[0;34m\u001b[0m\u001b[0;34m\u001b[0m\u001b[0m\n\u001b[1;32m     12\u001b[0m \u001b[0;31m#     print(tweet['favorite_count'])\u001b[0m\u001b[0;34m\u001b[0m\u001b[0;34m\u001b[0m\u001b[0;34m\u001b[0m\u001b[0m\n",
      "\u001b[0;31mKeyError\u001b[0m: 'code'"
     ]
    }
   ],
   "source": [
    "\n",
    "\n",
    "for year_month in year_month_key_list:\n",
    "    \n",
    "    # e-cigarette\n",
    "#     file_name = 'juliana_SF_allECigarette_'+year_month+'_categoryKeyWord.json'\n",
    "    \n",
    "    # tobacco\n",
    "#     file_name = 'juliana_allSF_tobacco_'+year_month+'.json'\n",
    "    \n",
    "    # flavored tobacco\n",
    "    file_name = 'juliana_allSF_flavored_tobacco_'+year_month+'.json'\n",
    "    \n",
    "    file = file_path + file_name\n",
    "    temp_retweet=[]\n",
    "    temp_favorite=[]\n",
    "    \n",
    "    with open(file, \"r\") as f:\n",
    "        everyLines = f.readlines()\n",
    "        num_of_tweets = len(everyLines)\n",
    "        print('length of tweets in month %s: %d' % (year_month, num_of_tweets))\n",
    "#         tweets_total_list.append(num_of_tweets)\n",
    "        for line in everyLines:\n",
    "            try:\n",
    "                lineInJson = json.loads(line)\n",
    "            except:\n",
    "                print('Cannot load the line: ', line)\n",
    "            id_inLine = lineInJson['id']\n",
    "#             print(id_inLine)\n",
    "            \n",
    "#             url = 'https://api.twitter.com/1.1/statuses/show.json?id='+str(id_inLine)\n",
    "#             r = requests.get(url)\n",
    "# #             print(r)\n",
    "#             data = json.loads(r.text)\n",
    "#             print(data)\n",
    "            \n",
    "            \n",
    "            retweet_inLine, favorite_inLine = get_tweet_retweet_favorite_by_id(id_inLine)\n",
    "            \n",
    "            \n",
    "#             retweet_inLine = lineInJson['retweet_count']\n",
    "# #             print('retweet_inLine: ', retweet_inLine)\n",
    "#             favorite_inLine = lineInJson['favorite_count']\n",
    "# #             print('favorite_inLine: ', favorite_inLine)\n",
    "            if retweet_inLine!=0:\n",
    "                temp_retweet.append(retweet_inLine)\n",
    "            if favorite_inLine!=0:\n",
    "                temp_favorite.append(favorite_inLine)\n",
    "        print('temp_retweet: ', temp_retweet)\n",
    "        print('temp_favorite: ', temp_favorite)\n",
    "#     break"
   ]
  },
  {
   "cell_type": "code",
   "execution_count": null,
   "metadata": {},
   "outputs": [],
   "source": []
  },
  {
   "cell_type": "code",
   "execution_count": null,
   "metadata": {},
   "outputs": [],
   "source": []
  },
  {
   "cell_type": "code",
   "execution_count": null,
   "metadata": {},
   "outputs": [],
   "source": []
  },
  {
   "cell_type": "markdown",
   "metadata": {},
   "source": [
    "### Sentiment Analysis"
   ]
  },
  {
   "cell_type": "code",
   "execution_count": null,
   "metadata": {},
   "outputs": [],
   "source": [
    "# sentiment analysis\n",
    "def analyzeSentimentByVader(texts):\n",
    "    positive_text = [[],[]]\n",
    "    neutral_text = [[],[]]\n",
    "    negative_text = [[],[]]\n",
    "    \n",
    "#     score_total = []    \n",
    "\n",
    "    analyzer = SentimentIntensityAnalyzer()\n",
    "    for sentence in texts:\n",
    "        vs = analyzer.polarity_scores(sentence)\n",
    "    #     print(\"{:*<65} {}\".format(sentence, str(vs)))\n",
    "    #     print('------------------------')\n",
    "#         print(vs)\n",
    "        if vs['compound'] >= 0.05:\n",
    "#             print(vs['compound'])\n",
    "            positive_text[0].append(sentence)\n",
    "            positive_text[1].append(vs)\n",
    "        elif vs['compound'] <= 0.05 and vs['compound'] > -0.05:\n",
    "#             print(vs['compound'])\n",
    "            neutral_text[0].append(sentence)\n",
    "            neutral_text[1].append(vs)\n",
    "        elif vs['compound'] <= -0.05:\n",
    "#             print(vs['compound'])\n",
    "            negative_text[0].append(sentence)\n",
    "            negative_text[1].append(vs)\n",
    "#         score_total.append(vs)\n",
    "\n",
    "    return positive_text, neutral_text, negative_text"
   ]
  },
  {
   "cell_type": "code",
   "execution_count": null,
   "metadata": {},
   "outputs": [],
   "source": []
  },
  {
   "cell_type": "code",
   "execution_count": null,
   "metadata": {},
   "outputs": [],
   "source": []
  }
 ],
 "metadata": {
  "kernelspec": {
   "display_name": "Python 3",
   "language": "python",
   "name": "python3"
  },
  "language_info": {
   "codemirror_mode": {
    "name": "ipython",
    "version": 3
   },
   "file_extension": ".py",
   "mimetype": "text/x-python",
   "name": "python",
   "nbconvert_exporter": "python",
   "pygments_lexer": "ipython3",
   "version": "3.7.3"
  }
 },
 "nbformat": 4,
 "nbformat_minor": 2
}
